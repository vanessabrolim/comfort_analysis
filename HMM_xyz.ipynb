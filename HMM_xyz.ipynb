{
  "nbformat": 4,
  "nbformat_minor": 0,
  "metadata": {
    "colab": {
      "name": "HMM.ipynb",
      "version": "0.3.2",
      "provenance": [],
      "include_colab_link": true
    },
    "kernelspec": {
      "name": "python3",
      "display_name": "Python 3"
    }
  },
  "cells": [
    {
      "cell_type": "markdown",
      "metadata": {
        "id": "view-in-github",
        "colab_type": "text"
      },
      "source": [
        "<a href=\"https://colab.research.google.com/github/vanessabrolim/comfort_analysis/blob/master/HMM_xyz.ipynb\" target=\"_parent\"><img src=\"https://colab.research.google.com/assets/colab-badge.svg\" alt=\"Open In Colab\"/></a>"
      ]
    },
    {
      "cell_type": "code",
      "metadata": {
        "id": "56KFAZom9Psm",
        "colab_type": "code",
        "outputId": "508f6dd2-364f-45a2-e3a1-6c07531cfa53",
        "colab": {
          "base_uri": "https://localhost:8080/",
          "height": 153
        }
      },
      "source": [
        "!pip install pomegranate\n",
        "import numpy as np\n",
        "import pandas as pd\n",
        "from pomegranate import *\n",
        "from matplotlib import *\n",
        "import datetime\n",
        "from sklearn.cluster import KMeans\n",
        "import matplotlib.pyplot as plt\n",
        "from google.colab import drive\n",
        "drive.mount('/content/drive',  force_remount=True)"
      ],
      "execution_count": 1,
      "outputs": [
        {
          "output_type": "stream",
          "text": [
            "Requirement already satisfied: pomegranate in /usr/local/lib/python3.6/dist-packages (0.11.0)\n",
            "Requirement already satisfied: networkx>=2.0 in /usr/local/lib/python3.6/dist-packages (from pomegranate) (2.3)\n",
            "Requirement already satisfied: numpy>=1.8.0 in /usr/local/lib/python3.6/dist-packages (from pomegranate) (1.16.3)\n",
            "Requirement already satisfied: pyyaml in /usr/local/lib/python3.6/dist-packages (from pomegranate) (3.13)\n",
            "Requirement already satisfied: joblib>=0.9.0b4 in /usr/local/lib/python3.6/dist-packages (from pomegranate) (0.12.5)\n",
            "Requirement already satisfied: scipy>=0.17.0 in /usr/local/lib/python3.6/dist-packages (from pomegranate) (1.2.1)\n",
            "Requirement already satisfied: decorator>=4.3.0 in /usr/local/lib/python3.6/dist-packages (from networkx>=2.0->pomegranate) (4.4.0)\n",
            "Mounted at /content/drive\n"
          ],
          "name": "stdout"
        }
      ]
    },
    {
      "cell_type": "code",
      "metadata": {
        "id": "zEFQ0SX8x4RX",
        "colab_type": "code",
        "outputId": "eab661e2-6c8c-4470-e437-9c47ef563f94",
        "colab": {
          "base_uri": "https://localhost:8080/",
          "height": 224
        }
      },
      "source": [
        "data = pd.read_pickle('drive/My Drive/Udesc/train.pkl')\n",
        "data.reset_index(inplace=True)\n",
        "data = data.drop('date_time', 1)\n",
        "data = data.drop('index', 1)\n",
        "data = data.drop('comfort_geral', 1)\n",
        "#data = data.drop('engine_rpm', 1)\n",
        "#data = data.drop('engine_load', 1)\n",
        "#data = data.drop('intake_manifold_pressure', 1)\n",
        "#data = data.drop('accelerator_pedal', 1)\n",
        "data_acc = pd.read_pickle('drive/My Drive/Udesc/train.pkl')\n",
        "data_acc.reset_index(inplace=True)\n",
        "shape = data.shape\n",
        "data.head()"
      ],
      "execution_count": 2,
      "outputs": [
        {
          "output_type": "execute_result",
          "data": {
            "text/html": [
              "<div>\n",
              "<style scoped>\n",
              "    .dataframe tbody tr th:only-of-type {\n",
              "        vertical-align: middle;\n",
              "    }\n",
              "\n",
              "    .dataframe tbody tr th {\n",
              "        vertical-align: top;\n",
              "    }\n",
              "\n",
              "    .dataframe thead th {\n",
              "        text-align: right;\n",
              "    }\n",
              "</style>\n",
              "<table border=\"1\" class=\"dataframe\">\n",
              "  <thead>\n",
              "    <tr style=\"text-align: right;\">\n",
              "      <th></th>\n",
              "      <th>engine_rpm</th>\n",
              "      <th>engine_load</th>\n",
              "      <th>intake_manifold_pressure</th>\n",
              "      <th>accelerator_pedal</th>\n",
              "      <th>speed</th>\n",
              "      <th>giroscope_x</th>\n",
              "      <th>giroscope_y</th>\n",
              "      <th>giroscope_z</th>\n",
              "      <th>accelerometer_x_avg</th>\n",
              "      <th>accelerometer_y_avg</th>\n",
              "      <th>accelerometer_z_avg</th>\n",
              "      <th>accelerometer_x_std</th>\n",
              "      <th>accelerometer_y_std</th>\n",
              "      <th>accelerometer_z_std</th>\n",
              "      <th>comfort_x</th>\n",
              "      <th>comfort_y</th>\n",
              "      <th>comfort_z</th>\n",
              "    </tr>\n",
              "  </thead>\n",
              "  <tbody>\n",
              "    <tr>\n",
              "      <th>0</th>\n",
              "      <td>NaN</td>\n",
              "      <td>NaN</td>\n",
              "      <td>NaN</td>\n",
              "      <td>NaN</td>\n",
              "      <td>23.223407</td>\n",
              "      <td>-2.72</td>\n",
              "      <td>3.59</td>\n",
              "      <td>-0.34</td>\n",
              "      <td>1.016963</td>\n",
              "      <td>-0.059846</td>\n",
              "      <td>0.120445</td>\n",
              "      <td>0.194853</td>\n",
              "      <td>0.155698</td>\n",
              "      <td>0.172987</td>\n",
              "      <td>2.0</td>\n",
              "      <td>2.0</td>\n",
              "      <td>2.0</td>\n",
              "    </tr>\n",
              "    <tr>\n",
              "      <th>1</th>\n",
              "      <td>1034.423358</td>\n",
              "      <td>55.391512</td>\n",
              "      <td>111.343066</td>\n",
              "      <td>92.270318</td>\n",
              "      <td>3.223987</td>\n",
              "      <td>-0.77</td>\n",
              "      <td>-0.31</td>\n",
              "      <td>-4.57</td>\n",
              "      <td>1.005749</td>\n",
              "      <td>-0.099241</td>\n",
              "      <td>0.110642</td>\n",
              "      <td>0.217798</td>\n",
              "      <td>0.205179</td>\n",
              "      <td>0.219697</td>\n",
              "      <td>4.0</td>\n",
              "      <td>4.0</td>\n",
              "      <td>4.0</td>\n",
              "    </tr>\n",
              "    <tr>\n",
              "      <th>2</th>\n",
              "      <td>1487.816867</td>\n",
              "      <td>9.590048</td>\n",
              "      <td>118.028169</td>\n",
              "      <td>21.461805</td>\n",
              "      <td>22.807823</td>\n",
              "      <td>-2.05</td>\n",
              "      <td>0.98</td>\n",
              "      <td>4.51</td>\n",
              "      <td>1.024716</td>\n",
              "      <td>-0.063518</td>\n",
              "      <td>0.128107</td>\n",
              "      <td>0.109880</td>\n",
              "      <td>0.089158</td>\n",
              "      <td>0.083585</td>\n",
              "      <td>3.0</td>\n",
              "      <td>4.0</td>\n",
              "      <td>4.0</td>\n",
              "    </tr>\n",
              "    <tr>\n",
              "      <th>3</th>\n",
              "      <td>NaN</td>\n",
              "      <td>NaN</td>\n",
              "      <td>NaN</td>\n",
              "      <td>NaN</td>\n",
              "      <td>8.774839</td>\n",
              "      <td>-2.20</td>\n",
              "      <td>0.19</td>\n",
              "      <td>-2.51</td>\n",
              "      <td>1.015846</td>\n",
              "      <td>-0.079579</td>\n",
              "      <td>0.139395</td>\n",
              "      <td>0.035262</td>\n",
              "      <td>0.018842</td>\n",
              "      <td>0.042641</td>\n",
              "      <td>3.0</td>\n",
              "      <td>3.0</td>\n",
              "      <td>3.0</td>\n",
              "    </tr>\n",
              "    <tr>\n",
              "      <th>4</th>\n",
              "      <td>NaN</td>\n",
              "      <td>NaN</td>\n",
              "      <td>NaN</td>\n",
              "      <td>NaN</td>\n",
              "      <td>13.601787</td>\n",
              "      <td>-1.16</td>\n",
              "      <td>-0.10</td>\n",
              "      <td>-2.03</td>\n",
              "      <td>1.012846</td>\n",
              "      <td>-0.077933</td>\n",
              "      <td>0.137599</td>\n",
              "      <td>0.048181</td>\n",
              "      <td>0.030723</td>\n",
              "      <td>0.042666</td>\n",
              "      <td>4.0</td>\n",
              "      <td>4.0</td>\n",
              "      <td>4.0</td>\n",
              "    </tr>\n",
              "  </tbody>\n",
              "</table>\n",
              "</div>"
            ],
            "text/plain": [
              "    engine_rpm  engine_load  ...  comfort_y  comfort_z\n",
              "0          NaN          NaN  ...        2.0        2.0\n",
              "1  1034.423358    55.391512  ...        4.0        4.0\n",
              "2  1487.816867     9.590048  ...        4.0        4.0\n",
              "3          NaN          NaN  ...        3.0        3.0\n",
              "4          NaN          NaN  ...        4.0        4.0\n",
              "\n",
              "[5 rows x 17 columns]"
            ]
          },
          "metadata": {
            "tags": []
          },
          "execution_count": 2
        }
      ]
    },
    {
      "cell_type": "code",
      "metadata": {
        "id": "kiNkV-mXLs7d",
        "colab_type": "code",
        "colab": {
          "base_uri": "https://localhost:8080/",
          "height": 323
        },
        "outputId": "5b0daa03-9ea1-4d31-9f7e-1411c5a41149"
      },
      "source": [
        "data.isna().sum()"
      ],
      "execution_count": 3,
      "outputs": [
        {
          "output_type": "execute_result",
          "data": {
            "text/plain": [
              "engine_rpm                  6465\n",
              "engine_load                 6461\n",
              "intake_manifold_pressure    6465\n",
              "accelerator_pedal           6460\n",
              "speed                          0\n",
              "giroscope_x                    0\n",
              "giroscope_y                    0\n",
              "giroscope_z                    0\n",
              "accelerometer_x_avg            0\n",
              "accelerometer_y_avg            0\n",
              "accelerometer_z_avg            0\n",
              "accelerometer_x_std            0\n",
              "accelerometer_y_std            0\n",
              "accelerometer_z_std            0\n",
              "comfort_x                      0\n",
              "comfort_y                      0\n",
              "comfort_z                      0\n",
              "dtype: int64"
            ]
          },
          "metadata": {
            "tags": []
          },
          "execution_count": 3
        }
      ]
    },
    {
      "cell_type": "code",
      "metadata": {
        "id": "Vu775DGrMCnL",
        "colab_type": "code",
        "colab": {
          "base_uri": "https://localhost:8080/",
          "height": 317
        },
        "outputId": "591b271b-cd01-4db0-bd3f-fdb34cbb093b"
      },
      "source": [
        "data.describe()"
      ],
      "execution_count": 4,
      "outputs": [
        {
          "output_type": "execute_result",
          "data": {
            "text/html": [
              "<div>\n",
              "<style scoped>\n",
              "    .dataframe tbody tr th:only-of-type {\n",
              "        vertical-align: middle;\n",
              "    }\n",
              "\n",
              "    .dataframe tbody tr th {\n",
              "        vertical-align: top;\n",
              "    }\n",
              "\n",
              "    .dataframe thead th {\n",
              "        text-align: right;\n",
              "    }\n",
              "</style>\n",
              "<table border=\"1\" class=\"dataframe\">\n",
              "  <thead>\n",
              "    <tr style=\"text-align: right;\">\n",
              "      <th></th>\n",
              "      <th>engine_rpm</th>\n",
              "      <th>engine_load</th>\n",
              "      <th>intake_manifold_pressure</th>\n",
              "      <th>accelerator_pedal</th>\n",
              "      <th>speed</th>\n",
              "      <th>giroscope_x</th>\n",
              "      <th>giroscope_y</th>\n",
              "      <th>giroscope_z</th>\n",
              "      <th>accelerometer_x_avg</th>\n",
              "      <th>accelerometer_y_avg</th>\n",
              "      <th>accelerometer_z_avg</th>\n",
              "      <th>accelerometer_x_std</th>\n",
              "      <th>accelerometer_y_std</th>\n",
              "      <th>accelerometer_z_std</th>\n",
              "      <th>comfort_x</th>\n",
              "      <th>comfort_y</th>\n",
              "      <th>comfort_z</th>\n",
              "    </tr>\n",
              "  </thead>\n",
              "  <tbody>\n",
              "    <tr>\n",
              "      <th>count</th>\n",
              "      <td>1777.000000</td>\n",
              "      <td>1781.000000</td>\n",
              "      <td>1777.000000</td>\n",
              "      <td>1782.000000</td>\n",
              "      <td>8242.000000</td>\n",
              "      <td>8242.000000</td>\n",
              "      <td>8242.000000</td>\n",
              "      <td>8242.000000</td>\n",
              "      <td>8242.000000</td>\n",
              "      <td>8242.000000</td>\n",
              "      <td>8242.000000</td>\n",
              "      <td>8242.000000</td>\n",
              "      <td>8242.000000</td>\n",
              "      <td>8242.000000</td>\n",
              "      <td>8242.000000</td>\n",
              "      <td>8242.000000</td>\n",
              "      <td>8242.000000</td>\n",
              "    </tr>\n",
              "    <tr>\n",
              "      <th>mean</th>\n",
              "      <td>1233.486699</td>\n",
              "      <td>26.227108</td>\n",
              "      <td>136.271720</td>\n",
              "      <td>32.786051</td>\n",
              "      <td>14.483692</td>\n",
              "      <td>-1.168270</td>\n",
              "      <td>-0.240637</td>\n",
              "      <td>-2.410170</td>\n",
              "      <td>1.015711</td>\n",
              "      <td>-0.022959</td>\n",
              "      <td>0.127480</td>\n",
              "      <td>0.079423</td>\n",
              "      <td>0.063378</td>\n",
              "      <td>0.070610</td>\n",
              "      <td>3.324800</td>\n",
              "      <td>3.743752</td>\n",
              "      <td>3.743752</td>\n",
              "    </tr>\n",
              "    <tr>\n",
              "      <th>std</th>\n",
              "      <td>341.504232</td>\n",
              "      <td>25.307262</td>\n",
              "      <td>38.331160</td>\n",
              "      <td>31.740511</td>\n",
              "      <td>16.268199</td>\n",
              "      <td>2.237187</td>\n",
              "      <td>2.420126</td>\n",
              "      <td>1.846004</td>\n",
              "      <td>0.005636</td>\n",
              "      <td>0.065062</td>\n",
              "      <td>0.018262</td>\n",
              "      <td>0.071321</td>\n",
              "      <td>0.058779</td>\n",
              "      <td>0.060056</td>\n",
              "      <td>0.767429</td>\n",
              "      <td>0.594927</td>\n",
              "      <td>0.594927</td>\n",
              "    </tr>\n",
              "    <tr>\n",
              "      <th>min</th>\n",
              "      <td>693.694511</td>\n",
              "      <td>0.000000</td>\n",
              "      <td>97.891304</td>\n",
              "      <td>0.000000</td>\n",
              "      <td>0.001048</td>\n",
              "      <td>-25.270000</td>\n",
              "      <td>-28.960000</td>\n",
              "      <td>-17.210000</td>\n",
              "      <td>0.984244</td>\n",
              "      <td>-0.125264</td>\n",
              "      <td>0.070017</td>\n",
              "      <td>0.002721</td>\n",
              "      <td>0.003038</td>\n",
              "      <td>0.004281</td>\n",
              "      <td>2.000000</td>\n",
              "      <td>2.000000</td>\n",
              "      <td>2.000000</td>\n",
              "    </tr>\n",
              "    <tr>\n",
              "      <th>25%</th>\n",
              "      <td>834.918660</td>\n",
              "      <td>9.078269</td>\n",
              "      <td>105.550239</td>\n",
              "      <td>0.000000</td>\n",
              "      <td>0.074244</td>\n",
              "      <td>-1.500000</td>\n",
              "      <td>-0.640000</td>\n",
              "      <td>-2.660000</td>\n",
              "      <td>1.013707</td>\n",
              "      <td>-0.070896</td>\n",
              "      <td>0.114836</td>\n",
              "      <td>0.003992</td>\n",
              "      <td>0.003739</td>\n",
              "      <td>0.004998</td>\n",
              "      <td>3.000000</td>\n",
              "      <td>4.000000</td>\n",
              "      <td>4.000000</td>\n",
              "    </tr>\n",
              "    <tr>\n",
              "      <th>50%</th>\n",
              "      <td>1265.206813</td>\n",
              "      <td>15.172646</td>\n",
              "      <td>124.087678</td>\n",
              "      <td>31.753677</td>\n",
              "      <td>6.605771</td>\n",
              "      <td>-1.220000</td>\n",
              "      <td>-0.240000</td>\n",
              "      <td>-2.380000</td>\n",
              "      <td>1.017197</td>\n",
              "      <td>-0.056405</td>\n",
              "      <td>0.122441</td>\n",
              "      <td>0.070782</td>\n",
              "      <td>0.056756</td>\n",
              "      <td>0.069267</td>\n",
              "      <td>3.000000</td>\n",
              "      <td>4.000000</td>\n",
              "      <td>4.000000</td>\n",
              "    </tr>\n",
              "    <tr>\n",
              "      <th>75%</th>\n",
              "      <td>1529.489051</td>\n",
              "      <td>40.608780</td>\n",
              "      <td>151.673031</td>\n",
              "      <td>53.064070</td>\n",
              "      <td>30.373221</td>\n",
              "      <td>-0.880000</td>\n",
              "      <td>0.160000</td>\n",
              "      <td>-2.140000</td>\n",
              "      <td>1.017829</td>\n",
              "      <td>0.070473</td>\n",
              "      <td>0.138814</td>\n",
              "      <td>0.127829</td>\n",
              "      <td>0.104235</td>\n",
              "      <td>0.115893</td>\n",
              "      <td>4.000000</td>\n",
              "      <td>4.000000</td>\n",
              "      <td>4.000000</td>\n",
              "    </tr>\n",
              "    <tr>\n",
              "      <th>max</th>\n",
              "      <td>2130.300231</td>\n",
              "      <td>99.600000</td>\n",
              "      <td>255.000000</td>\n",
              "      <td>100.000000</td>\n",
              "      <td>56.231634</td>\n",
              "      <td>23.740000</td>\n",
              "      <td>40.870000</td>\n",
              "      <td>22.370000</td>\n",
              "      <td>1.039291</td>\n",
              "      <td>0.105421</td>\n",
              "      <td>0.186455</td>\n",
              "      <td>0.312701</td>\n",
              "      <td>0.243907</td>\n",
              "      <td>0.264738</td>\n",
              "      <td>5.000000</td>\n",
              "      <td>5.000000</td>\n",
              "      <td>5.000000</td>\n",
              "    </tr>\n",
              "  </tbody>\n",
              "</table>\n",
              "</div>"
            ],
            "text/plain": [
              "        engine_rpm  engine_load  ...    comfort_y    comfort_z\n",
              "count  1777.000000  1781.000000  ...  8242.000000  8242.000000\n",
              "mean   1233.486699    26.227108  ...     3.743752     3.743752\n",
              "std     341.504232    25.307262  ...     0.594927     0.594927\n",
              "min     693.694511     0.000000  ...     2.000000     2.000000\n",
              "25%     834.918660     9.078269  ...     4.000000     4.000000\n",
              "50%    1265.206813    15.172646  ...     4.000000     4.000000\n",
              "75%    1529.489051    40.608780  ...     4.000000     4.000000\n",
              "max    2130.300231    99.600000  ...     5.000000     5.000000\n",
              "\n",
              "[8 rows x 17 columns]"
            ]
          },
          "metadata": {
            "tags": []
          },
          "execution_count": 4
        }
      ]
    },
    {
      "cell_type": "code",
      "metadata": {
        "id": "lToxDlDKD-u7",
        "colab_type": "code",
        "colab": {}
      },
      "source": [
        "columns = ['engine_rpm', 'engine_load', 'intake_manifold_pressure', 'accelerator_pedal', 'speed', 'giroscope_x', 'giroscope_y', 'giroscope_z']\n",
        "#columns = ['engine_rpm', 'speed', 'giroscope_x', 'giroscope_y', 'giroscope_z']"
      ],
      "execution_count": 0,
      "outputs": []
    },
    {
      "cell_type": "markdown",
      "metadata": {
        "id": "4E7wehILCJZs",
        "colab_type": "text"
      },
      "source": [
        "# DataSets eixo X"
      ]
    },
    {
      "cell_type": "code",
      "metadata": {
        "id": "14y3KBDqCfTL",
        "colab_type": "code",
        "colab": {}
      },
      "source": [
        "dx = data.copy()\n",
        "dx = dx.drop('comfort_y', 1)\n",
        "dx = dx.drop('comfort_z', 1)"
      ],
      "execution_count": 0,
      "outputs": []
    },
    {
      "cell_type": "code",
      "metadata": {
        "id": "lwyTcGZbLnlY",
        "colab_type": "code",
        "outputId": "3fd0ee2e-2c80-420e-af0d-2617d62f1956",
        "colab": {
          "base_uri": "https://localhost:8080/",
          "height": 224
        }
      },
      "source": [
        "dx_mean = dx.copy()\n",
        "for c in columns:\n",
        "  dx_mean[c] = dx_mean[c].fillna(dx[c].mean())\n",
        "dx_mean.head()"
      ],
      "execution_count": 7,
      "outputs": [
        {
          "output_type": "execute_result",
          "data": {
            "text/html": [
              "<div>\n",
              "<style scoped>\n",
              "    .dataframe tbody tr th:only-of-type {\n",
              "        vertical-align: middle;\n",
              "    }\n",
              "\n",
              "    .dataframe tbody tr th {\n",
              "        vertical-align: top;\n",
              "    }\n",
              "\n",
              "    .dataframe thead th {\n",
              "        text-align: right;\n",
              "    }\n",
              "</style>\n",
              "<table border=\"1\" class=\"dataframe\">\n",
              "  <thead>\n",
              "    <tr style=\"text-align: right;\">\n",
              "      <th></th>\n",
              "      <th>engine_rpm</th>\n",
              "      <th>engine_load</th>\n",
              "      <th>intake_manifold_pressure</th>\n",
              "      <th>accelerator_pedal</th>\n",
              "      <th>speed</th>\n",
              "      <th>giroscope_x</th>\n",
              "      <th>giroscope_y</th>\n",
              "      <th>giroscope_z</th>\n",
              "      <th>accelerometer_x_avg</th>\n",
              "      <th>accelerometer_y_avg</th>\n",
              "      <th>accelerometer_z_avg</th>\n",
              "      <th>accelerometer_x_std</th>\n",
              "      <th>accelerometer_y_std</th>\n",
              "      <th>accelerometer_z_std</th>\n",
              "      <th>comfort_x</th>\n",
              "    </tr>\n",
              "  </thead>\n",
              "  <tbody>\n",
              "    <tr>\n",
              "      <th>0</th>\n",
              "      <td>1233.486699</td>\n",
              "      <td>26.227108</td>\n",
              "      <td>136.271720</td>\n",
              "      <td>32.786051</td>\n",
              "      <td>23.223407</td>\n",
              "      <td>-2.72</td>\n",
              "      <td>3.59</td>\n",
              "      <td>-0.34</td>\n",
              "      <td>1.016963</td>\n",
              "      <td>-0.059846</td>\n",
              "      <td>0.120445</td>\n",
              "      <td>0.194853</td>\n",
              "      <td>0.155698</td>\n",
              "      <td>0.172987</td>\n",
              "      <td>2.0</td>\n",
              "    </tr>\n",
              "    <tr>\n",
              "      <th>1</th>\n",
              "      <td>1034.423358</td>\n",
              "      <td>55.391512</td>\n",
              "      <td>111.343066</td>\n",
              "      <td>92.270318</td>\n",
              "      <td>3.223987</td>\n",
              "      <td>-0.77</td>\n",
              "      <td>-0.31</td>\n",
              "      <td>-4.57</td>\n",
              "      <td>1.005749</td>\n",
              "      <td>-0.099241</td>\n",
              "      <td>0.110642</td>\n",
              "      <td>0.217798</td>\n",
              "      <td>0.205179</td>\n",
              "      <td>0.219697</td>\n",
              "      <td>4.0</td>\n",
              "    </tr>\n",
              "    <tr>\n",
              "      <th>2</th>\n",
              "      <td>1487.816867</td>\n",
              "      <td>9.590048</td>\n",
              "      <td>118.028169</td>\n",
              "      <td>21.461805</td>\n",
              "      <td>22.807823</td>\n",
              "      <td>-2.05</td>\n",
              "      <td>0.98</td>\n",
              "      <td>4.51</td>\n",
              "      <td>1.024716</td>\n",
              "      <td>-0.063518</td>\n",
              "      <td>0.128107</td>\n",
              "      <td>0.109880</td>\n",
              "      <td>0.089158</td>\n",
              "      <td>0.083585</td>\n",
              "      <td>3.0</td>\n",
              "    </tr>\n",
              "    <tr>\n",
              "      <th>3</th>\n",
              "      <td>1233.486699</td>\n",
              "      <td>26.227108</td>\n",
              "      <td>136.271720</td>\n",
              "      <td>32.786051</td>\n",
              "      <td>8.774839</td>\n",
              "      <td>-2.20</td>\n",
              "      <td>0.19</td>\n",
              "      <td>-2.51</td>\n",
              "      <td>1.015846</td>\n",
              "      <td>-0.079579</td>\n",
              "      <td>0.139395</td>\n",
              "      <td>0.035262</td>\n",
              "      <td>0.018842</td>\n",
              "      <td>0.042641</td>\n",
              "      <td>3.0</td>\n",
              "    </tr>\n",
              "    <tr>\n",
              "      <th>4</th>\n",
              "      <td>1233.486699</td>\n",
              "      <td>26.227108</td>\n",
              "      <td>136.271720</td>\n",
              "      <td>32.786051</td>\n",
              "      <td>13.601787</td>\n",
              "      <td>-1.16</td>\n",
              "      <td>-0.10</td>\n",
              "      <td>-2.03</td>\n",
              "      <td>1.012846</td>\n",
              "      <td>-0.077933</td>\n",
              "      <td>0.137599</td>\n",
              "      <td>0.048181</td>\n",
              "      <td>0.030723</td>\n",
              "      <td>0.042666</td>\n",
              "      <td>4.0</td>\n",
              "    </tr>\n",
              "  </tbody>\n",
              "</table>\n",
              "</div>"
            ],
            "text/plain": [
              "    engine_rpm  engine_load  ...  accelerometer_z_std  comfort_x\n",
              "0  1233.486699    26.227108  ...             0.172987        2.0\n",
              "1  1034.423358    55.391512  ...             0.219697        4.0\n",
              "2  1487.816867     9.590048  ...             0.083585        3.0\n",
              "3  1233.486699    26.227108  ...             0.042641        3.0\n",
              "4  1233.486699    26.227108  ...             0.042666        4.0\n",
              "\n",
              "[5 rows x 15 columns]"
            ]
          },
          "metadata": {
            "tags": []
          },
          "execution_count": 7
        }
      ]
    },
    {
      "cell_type": "code",
      "metadata": {
        "id": "-11gEd6jC1tk",
        "colab_type": "code",
        "colab": {
          "base_uri": "https://localhost:8080/",
          "height": 224
        },
        "outputId": "fc9c4114-3810-4ed0-a099-0fd7c2b0164c"
      },
      "source": [
        "dx_median = dx.copy()\n",
        "\n",
        "for c in columns:\n",
        "  dx_median[c] = dx_median[c].fillna(dx[c].median())\n",
        "dx_median.head()"
      ],
      "execution_count": 8,
      "outputs": [
        {
          "output_type": "execute_result",
          "data": {
            "text/html": [
              "<div>\n",
              "<style scoped>\n",
              "    .dataframe tbody tr th:only-of-type {\n",
              "        vertical-align: middle;\n",
              "    }\n",
              "\n",
              "    .dataframe tbody tr th {\n",
              "        vertical-align: top;\n",
              "    }\n",
              "\n",
              "    .dataframe thead th {\n",
              "        text-align: right;\n",
              "    }\n",
              "</style>\n",
              "<table border=\"1\" class=\"dataframe\">\n",
              "  <thead>\n",
              "    <tr style=\"text-align: right;\">\n",
              "      <th></th>\n",
              "      <th>engine_rpm</th>\n",
              "      <th>engine_load</th>\n",
              "      <th>intake_manifold_pressure</th>\n",
              "      <th>accelerator_pedal</th>\n",
              "      <th>speed</th>\n",
              "      <th>giroscope_x</th>\n",
              "      <th>giroscope_y</th>\n",
              "      <th>giroscope_z</th>\n",
              "      <th>accelerometer_x_avg</th>\n",
              "      <th>accelerometer_y_avg</th>\n",
              "      <th>accelerometer_z_avg</th>\n",
              "      <th>accelerometer_x_std</th>\n",
              "      <th>accelerometer_y_std</th>\n",
              "      <th>accelerometer_z_std</th>\n",
              "      <th>comfort_x</th>\n",
              "    </tr>\n",
              "  </thead>\n",
              "  <tbody>\n",
              "    <tr>\n",
              "      <th>0</th>\n",
              "      <td>1265.206813</td>\n",
              "      <td>15.172646</td>\n",
              "      <td>124.087678</td>\n",
              "      <td>31.753677</td>\n",
              "      <td>23.223407</td>\n",
              "      <td>-2.72</td>\n",
              "      <td>3.59</td>\n",
              "      <td>-0.34</td>\n",
              "      <td>1.016963</td>\n",
              "      <td>-0.059846</td>\n",
              "      <td>0.120445</td>\n",
              "      <td>0.194853</td>\n",
              "      <td>0.155698</td>\n",
              "      <td>0.172987</td>\n",
              "      <td>2.0</td>\n",
              "    </tr>\n",
              "    <tr>\n",
              "      <th>1</th>\n",
              "      <td>1034.423358</td>\n",
              "      <td>55.391512</td>\n",
              "      <td>111.343066</td>\n",
              "      <td>92.270318</td>\n",
              "      <td>3.223987</td>\n",
              "      <td>-0.77</td>\n",
              "      <td>-0.31</td>\n",
              "      <td>-4.57</td>\n",
              "      <td>1.005749</td>\n",
              "      <td>-0.099241</td>\n",
              "      <td>0.110642</td>\n",
              "      <td>0.217798</td>\n",
              "      <td>0.205179</td>\n",
              "      <td>0.219697</td>\n",
              "      <td>4.0</td>\n",
              "    </tr>\n",
              "    <tr>\n",
              "      <th>2</th>\n",
              "      <td>1487.816867</td>\n",
              "      <td>9.590048</td>\n",
              "      <td>118.028169</td>\n",
              "      <td>21.461805</td>\n",
              "      <td>22.807823</td>\n",
              "      <td>-2.05</td>\n",
              "      <td>0.98</td>\n",
              "      <td>4.51</td>\n",
              "      <td>1.024716</td>\n",
              "      <td>-0.063518</td>\n",
              "      <td>0.128107</td>\n",
              "      <td>0.109880</td>\n",
              "      <td>0.089158</td>\n",
              "      <td>0.083585</td>\n",
              "      <td>3.0</td>\n",
              "    </tr>\n",
              "    <tr>\n",
              "      <th>3</th>\n",
              "      <td>1265.206813</td>\n",
              "      <td>15.172646</td>\n",
              "      <td>124.087678</td>\n",
              "      <td>31.753677</td>\n",
              "      <td>8.774839</td>\n",
              "      <td>-2.20</td>\n",
              "      <td>0.19</td>\n",
              "      <td>-2.51</td>\n",
              "      <td>1.015846</td>\n",
              "      <td>-0.079579</td>\n",
              "      <td>0.139395</td>\n",
              "      <td>0.035262</td>\n",
              "      <td>0.018842</td>\n",
              "      <td>0.042641</td>\n",
              "      <td>3.0</td>\n",
              "    </tr>\n",
              "    <tr>\n",
              "      <th>4</th>\n",
              "      <td>1265.206813</td>\n",
              "      <td>15.172646</td>\n",
              "      <td>124.087678</td>\n",
              "      <td>31.753677</td>\n",
              "      <td>13.601787</td>\n",
              "      <td>-1.16</td>\n",
              "      <td>-0.10</td>\n",
              "      <td>-2.03</td>\n",
              "      <td>1.012846</td>\n",
              "      <td>-0.077933</td>\n",
              "      <td>0.137599</td>\n",
              "      <td>0.048181</td>\n",
              "      <td>0.030723</td>\n",
              "      <td>0.042666</td>\n",
              "      <td>4.0</td>\n",
              "    </tr>\n",
              "  </tbody>\n",
              "</table>\n",
              "</div>"
            ],
            "text/plain": [
              "    engine_rpm  engine_load  ...  accelerometer_z_std  comfort_x\n",
              "0  1265.206813    15.172646  ...             0.172987        2.0\n",
              "1  1034.423358    55.391512  ...             0.219697        4.0\n",
              "2  1487.816867     9.590048  ...             0.083585        3.0\n",
              "3  1265.206813    15.172646  ...             0.042641        3.0\n",
              "4  1265.206813    15.172646  ...             0.042666        4.0\n",
              "\n",
              "[5 rows x 15 columns]"
            ]
          },
          "metadata": {
            "tags": []
          },
          "execution_count": 8
        }
      ]
    },
    {
      "cell_type": "code",
      "metadata": {
        "id": "aK_BlfD8G60z",
        "colab_type": "code",
        "colab": {
          "base_uri": "https://localhost:8080/",
          "height": 224
        },
        "outputId": "1df54298-3007-4462-f148-35600da91f32"
      },
      "source": [
        "dx_max = dx.copy()\n",
        "\n",
        "for c in columns:\n",
        "  dx_max[c] = dx_max[c].fillna(dx[c].max())\n",
        "dx_max.head()"
      ],
      "execution_count": 9,
      "outputs": [
        {
          "output_type": "execute_result",
          "data": {
            "text/html": [
              "<div>\n",
              "<style scoped>\n",
              "    .dataframe tbody tr th:only-of-type {\n",
              "        vertical-align: middle;\n",
              "    }\n",
              "\n",
              "    .dataframe tbody tr th {\n",
              "        vertical-align: top;\n",
              "    }\n",
              "\n",
              "    .dataframe thead th {\n",
              "        text-align: right;\n",
              "    }\n",
              "</style>\n",
              "<table border=\"1\" class=\"dataframe\">\n",
              "  <thead>\n",
              "    <tr style=\"text-align: right;\">\n",
              "      <th></th>\n",
              "      <th>engine_rpm</th>\n",
              "      <th>engine_load</th>\n",
              "      <th>intake_manifold_pressure</th>\n",
              "      <th>accelerator_pedal</th>\n",
              "      <th>speed</th>\n",
              "      <th>giroscope_x</th>\n",
              "      <th>giroscope_y</th>\n",
              "      <th>giroscope_z</th>\n",
              "      <th>accelerometer_x_avg</th>\n",
              "      <th>accelerometer_y_avg</th>\n",
              "      <th>accelerometer_z_avg</th>\n",
              "      <th>accelerometer_x_std</th>\n",
              "      <th>accelerometer_y_std</th>\n",
              "      <th>accelerometer_z_std</th>\n",
              "      <th>comfort_x</th>\n",
              "    </tr>\n",
              "  </thead>\n",
              "  <tbody>\n",
              "    <tr>\n",
              "      <th>0</th>\n",
              "      <td>2130.300231</td>\n",
              "      <td>99.600000</td>\n",
              "      <td>255.000000</td>\n",
              "      <td>100.000000</td>\n",
              "      <td>23.223407</td>\n",
              "      <td>-2.72</td>\n",
              "      <td>3.59</td>\n",
              "      <td>-0.34</td>\n",
              "      <td>1.016963</td>\n",
              "      <td>-0.059846</td>\n",
              "      <td>0.120445</td>\n",
              "      <td>0.194853</td>\n",
              "      <td>0.155698</td>\n",
              "      <td>0.172987</td>\n",
              "      <td>2.0</td>\n",
              "    </tr>\n",
              "    <tr>\n",
              "      <th>1</th>\n",
              "      <td>1034.423358</td>\n",
              "      <td>55.391512</td>\n",
              "      <td>111.343066</td>\n",
              "      <td>92.270318</td>\n",
              "      <td>3.223987</td>\n",
              "      <td>-0.77</td>\n",
              "      <td>-0.31</td>\n",
              "      <td>-4.57</td>\n",
              "      <td>1.005749</td>\n",
              "      <td>-0.099241</td>\n",
              "      <td>0.110642</td>\n",
              "      <td>0.217798</td>\n",
              "      <td>0.205179</td>\n",
              "      <td>0.219697</td>\n",
              "      <td>4.0</td>\n",
              "    </tr>\n",
              "    <tr>\n",
              "      <th>2</th>\n",
              "      <td>1487.816867</td>\n",
              "      <td>9.590048</td>\n",
              "      <td>118.028169</td>\n",
              "      <td>21.461805</td>\n",
              "      <td>22.807823</td>\n",
              "      <td>-2.05</td>\n",
              "      <td>0.98</td>\n",
              "      <td>4.51</td>\n",
              "      <td>1.024716</td>\n",
              "      <td>-0.063518</td>\n",
              "      <td>0.128107</td>\n",
              "      <td>0.109880</td>\n",
              "      <td>0.089158</td>\n",
              "      <td>0.083585</td>\n",
              "      <td>3.0</td>\n",
              "    </tr>\n",
              "    <tr>\n",
              "      <th>3</th>\n",
              "      <td>2130.300231</td>\n",
              "      <td>99.600000</td>\n",
              "      <td>255.000000</td>\n",
              "      <td>100.000000</td>\n",
              "      <td>8.774839</td>\n",
              "      <td>-2.20</td>\n",
              "      <td>0.19</td>\n",
              "      <td>-2.51</td>\n",
              "      <td>1.015846</td>\n",
              "      <td>-0.079579</td>\n",
              "      <td>0.139395</td>\n",
              "      <td>0.035262</td>\n",
              "      <td>0.018842</td>\n",
              "      <td>0.042641</td>\n",
              "      <td>3.0</td>\n",
              "    </tr>\n",
              "    <tr>\n",
              "      <th>4</th>\n",
              "      <td>2130.300231</td>\n",
              "      <td>99.600000</td>\n",
              "      <td>255.000000</td>\n",
              "      <td>100.000000</td>\n",
              "      <td>13.601787</td>\n",
              "      <td>-1.16</td>\n",
              "      <td>-0.10</td>\n",
              "      <td>-2.03</td>\n",
              "      <td>1.012846</td>\n",
              "      <td>-0.077933</td>\n",
              "      <td>0.137599</td>\n",
              "      <td>0.048181</td>\n",
              "      <td>0.030723</td>\n",
              "      <td>0.042666</td>\n",
              "      <td>4.0</td>\n",
              "    </tr>\n",
              "  </tbody>\n",
              "</table>\n",
              "</div>"
            ],
            "text/plain": [
              "    engine_rpm  engine_load  ...  accelerometer_z_std  comfort_x\n",
              "0  2130.300231    99.600000  ...             0.172987        2.0\n",
              "1  1034.423358    55.391512  ...             0.219697        4.0\n",
              "2  1487.816867     9.590048  ...             0.083585        3.0\n",
              "3  2130.300231    99.600000  ...             0.042641        3.0\n",
              "4  2130.300231    99.600000  ...             0.042666        4.0\n",
              "\n",
              "[5 rows x 15 columns]"
            ]
          },
          "metadata": {
            "tags": []
          },
          "execution_count": 9
        }
      ]
    },
    {
      "cell_type": "code",
      "metadata": {
        "id": "hFM4HFt6HRsb",
        "colab_type": "code",
        "colab": {
          "base_uri": "https://localhost:8080/",
          "height": 224
        },
        "outputId": "da6af494-5855-4ad8-da80-8a4ebb7a2e0e"
      },
      "source": [
        "dx_min = dx.copy()\n",
        "\n",
        "for c in columns:\n",
        "  dx_min[c] = dx_min[c].fillna(dx[c].min())\n",
        "dx_min.head()"
      ],
      "execution_count": 10,
      "outputs": [
        {
          "output_type": "execute_result",
          "data": {
            "text/html": [
              "<div>\n",
              "<style scoped>\n",
              "    .dataframe tbody tr th:only-of-type {\n",
              "        vertical-align: middle;\n",
              "    }\n",
              "\n",
              "    .dataframe tbody tr th {\n",
              "        vertical-align: top;\n",
              "    }\n",
              "\n",
              "    .dataframe thead th {\n",
              "        text-align: right;\n",
              "    }\n",
              "</style>\n",
              "<table border=\"1\" class=\"dataframe\">\n",
              "  <thead>\n",
              "    <tr style=\"text-align: right;\">\n",
              "      <th></th>\n",
              "      <th>engine_rpm</th>\n",
              "      <th>engine_load</th>\n",
              "      <th>intake_manifold_pressure</th>\n",
              "      <th>accelerator_pedal</th>\n",
              "      <th>speed</th>\n",
              "      <th>giroscope_x</th>\n",
              "      <th>giroscope_y</th>\n",
              "      <th>giroscope_z</th>\n",
              "      <th>accelerometer_x_avg</th>\n",
              "      <th>accelerometer_y_avg</th>\n",
              "      <th>accelerometer_z_avg</th>\n",
              "      <th>accelerometer_x_std</th>\n",
              "      <th>accelerometer_y_std</th>\n",
              "      <th>accelerometer_z_std</th>\n",
              "      <th>comfort_x</th>\n",
              "    </tr>\n",
              "  </thead>\n",
              "  <tbody>\n",
              "    <tr>\n",
              "      <th>0</th>\n",
              "      <td>693.694511</td>\n",
              "      <td>0.000000</td>\n",
              "      <td>97.891304</td>\n",
              "      <td>0.000000</td>\n",
              "      <td>23.223407</td>\n",
              "      <td>-2.72</td>\n",
              "      <td>3.59</td>\n",
              "      <td>-0.34</td>\n",
              "      <td>1.016963</td>\n",
              "      <td>-0.059846</td>\n",
              "      <td>0.120445</td>\n",
              "      <td>0.194853</td>\n",
              "      <td>0.155698</td>\n",
              "      <td>0.172987</td>\n",
              "      <td>2.0</td>\n",
              "    </tr>\n",
              "    <tr>\n",
              "      <th>1</th>\n",
              "      <td>1034.423358</td>\n",
              "      <td>55.391512</td>\n",
              "      <td>111.343066</td>\n",
              "      <td>92.270318</td>\n",
              "      <td>3.223987</td>\n",
              "      <td>-0.77</td>\n",
              "      <td>-0.31</td>\n",
              "      <td>-4.57</td>\n",
              "      <td>1.005749</td>\n",
              "      <td>-0.099241</td>\n",
              "      <td>0.110642</td>\n",
              "      <td>0.217798</td>\n",
              "      <td>0.205179</td>\n",
              "      <td>0.219697</td>\n",
              "      <td>4.0</td>\n",
              "    </tr>\n",
              "    <tr>\n",
              "      <th>2</th>\n",
              "      <td>1487.816867</td>\n",
              "      <td>9.590048</td>\n",
              "      <td>118.028169</td>\n",
              "      <td>21.461805</td>\n",
              "      <td>22.807823</td>\n",
              "      <td>-2.05</td>\n",
              "      <td>0.98</td>\n",
              "      <td>4.51</td>\n",
              "      <td>1.024716</td>\n",
              "      <td>-0.063518</td>\n",
              "      <td>0.128107</td>\n",
              "      <td>0.109880</td>\n",
              "      <td>0.089158</td>\n",
              "      <td>0.083585</td>\n",
              "      <td>3.0</td>\n",
              "    </tr>\n",
              "    <tr>\n",
              "      <th>3</th>\n",
              "      <td>693.694511</td>\n",
              "      <td>0.000000</td>\n",
              "      <td>97.891304</td>\n",
              "      <td>0.000000</td>\n",
              "      <td>8.774839</td>\n",
              "      <td>-2.20</td>\n",
              "      <td>0.19</td>\n",
              "      <td>-2.51</td>\n",
              "      <td>1.015846</td>\n",
              "      <td>-0.079579</td>\n",
              "      <td>0.139395</td>\n",
              "      <td>0.035262</td>\n",
              "      <td>0.018842</td>\n",
              "      <td>0.042641</td>\n",
              "      <td>3.0</td>\n",
              "    </tr>\n",
              "    <tr>\n",
              "      <th>4</th>\n",
              "      <td>693.694511</td>\n",
              "      <td>0.000000</td>\n",
              "      <td>97.891304</td>\n",
              "      <td>0.000000</td>\n",
              "      <td>13.601787</td>\n",
              "      <td>-1.16</td>\n",
              "      <td>-0.10</td>\n",
              "      <td>-2.03</td>\n",
              "      <td>1.012846</td>\n",
              "      <td>-0.077933</td>\n",
              "      <td>0.137599</td>\n",
              "      <td>0.048181</td>\n",
              "      <td>0.030723</td>\n",
              "      <td>0.042666</td>\n",
              "      <td>4.0</td>\n",
              "    </tr>\n",
              "  </tbody>\n",
              "</table>\n",
              "</div>"
            ],
            "text/plain": [
              "    engine_rpm  engine_load  ...  accelerometer_z_std  comfort_x\n",
              "0   693.694511     0.000000  ...             0.172987        2.0\n",
              "1  1034.423358    55.391512  ...             0.219697        4.0\n",
              "2  1487.816867     9.590048  ...             0.083585        3.0\n",
              "3   693.694511     0.000000  ...             0.042641        3.0\n",
              "4   693.694511     0.000000  ...             0.042666        4.0\n",
              "\n",
              "[5 rows x 15 columns]"
            ]
          },
          "metadata": {
            "tags": []
          },
          "execution_count": 10
        }
      ]
    },
    {
      "cell_type": "code",
      "metadata": {
        "id": "2Esh0x-OWZTP",
        "colab_type": "code",
        "outputId": "21a3f182-5c09-4a86-daa6-e1acae900f7c",
        "colab": {
          "base_uri": "https://localhost:8080/",
          "height": 224
        }
      },
      "source": [
        "dx_zeros = dx.copy()\n",
        "\n",
        "for c in columns:\n",
        "  dx_zeros[c] = dx_zeros[c].fillna(0)\n",
        "dx_zeros.head()"
      ],
      "execution_count": 11,
      "outputs": [
        {
          "output_type": "execute_result",
          "data": {
            "text/html": [
              "<div>\n",
              "<style scoped>\n",
              "    .dataframe tbody tr th:only-of-type {\n",
              "        vertical-align: middle;\n",
              "    }\n",
              "\n",
              "    .dataframe tbody tr th {\n",
              "        vertical-align: top;\n",
              "    }\n",
              "\n",
              "    .dataframe thead th {\n",
              "        text-align: right;\n",
              "    }\n",
              "</style>\n",
              "<table border=\"1\" class=\"dataframe\">\n",
              "  <thead>\n",
              "    <tr style=\"text-align: right;\">\n",
              "      <th></th>\n",
              "      <th>engine_rpm</th>\n",
              "      <th>engine_load</th>\n",
              "      <th>intake_manifold_pressure</th>\n",
              "      <th>accelerator_pedal</th>\n",
              "      <th>speed</th>\n",
              "      <th>giroscope_x</th>\n",
              "      <th>giroscope_y</th>\n",
              "      <th>giroscope_z</th>\n",
              "      <th>accelerometer_x_avg</th>\n",
              "      <th>accelerometer_y_avg</th>\n",
              "      <th>accelerometer_z_avg</th>\n",
              "      <th>accelerometer_x_std</th>\n",
              "      <th>accelerometer_y_std</th>\n",
              "      <th>accelerometer_z_std</th>\n",
              "      <th>comfort_x</th>\n",
              "    </tr>\n",
              "  </thead>\n",
              "  <tbody>\n",
              "    <tr>\n",
              "      <th>0</th>\n",
              "      <td>0.000000</td>\n",
              "      <td>0.000000</td>\n",
              "      <td>0.000000</td>\n",
              "      <td>0.000000</td>\n",
              "      <td>23.223407</td>\n",
              "      <td>-2.72</td>\n",
              "      <td>3.59</td>\n",
              "      <td>-0.34</td>\n",
              "      <td>1.016963</td>\n",
              "      <td>-0.059846</td>\n",
              "      <td>0.120445</td>\n",
              "      <td>0.194853</td>\n",
              "      <td>0.155698</td>\n",
              "      <td>0.172987</td>\n",
              "      <td>2.0</td>\n",
              "    </tr>\n",
              "    <tr>\n",
              "      <th>1</th>\n",
              "      <td>1034.423358</td>\n",
              "      <td>55.391512</td>\n",
              "      <td>111.343066</td>\n",
              "      <td>92.270318</td>\n",
              "      <td>3.223987</td>\n",
              "      <td>-0.77</td>\n",
              "      <td>-0.31</td>\n",
              "      <td>-4.57</td>\n",
              "      <td>1.005749</td>\n",
              "      <td>-0.099241</td>\n",
              "      <td>0.110642</td>\n",
              "      <td>0.217798</td>\n",
              "      <td>0.205179</td>\n",
              "      <td>0.219697</td>\n",
              "      <td>4.0</td>\n",
              "    </tr>\n",
              "    <tr>\n",
              "      <th>2</th>\n",
              "      <td>1487.816867</td>\n",
              "      <td>9.590048</td>\n",
              "      <td>118.028169</td>\n",
              "      <td>21.461805</td>\n",
              "      <td>22.807823</td>\n",
              "      <td>-2.05</td>\n",
              "      <td>0.98</td>\n",
              "      <td>4.51</td>\n",
              "      <td>1.024716</td>\n",
              "      <td>-0.063518</td>\n",
              "      <td>0.128107</td>\n",
              "      <td>0.109880</td>\n",
              "      <td>0.089158</td>\n",
              "      <td>0.083585</td>\n",
              "      <td>3.0</td>\n",
              "    </tr>\n",
              "    <tr>\n",
              "      <th>3</th>\n",
              "      <td>0.000000</td>\n",
              "      <td>0.000000</td>\n",
              "      <td>0.000000</td>\n",
              "      <td>0.000000</td>\n",
              "      <td>8.774839</td>\n",
              "      <td>-2.20</td>\n",
              "      <td>0.19</td>\n",
              "      <td>-2.51</td>\n",
              "      <td>1.015846</td>\n",
              "      <td>-0.079579</td>\n",
              "      <td>0.139395</td>\n",
              "      <td>0.035262</td>\n",
              "      <td>0.018842</td>\n",
              "      <td>0.042641</td>\n",
              "      <td>3.0</td>\n",
              "    </tr>\n",
              "    <tr>\n",
              "      <th>4</th>\n",
              "      <td>0.000000</td>\n",
              "      <td>0.000000</td>\n",
              "      <td>0.000000</td>\n",
              "      <td>0.000000</td>\n",
              "      <td>13.601787</td>\n",
              "      <td>-1.16</td>\n",
              "      <td>-0.10</td>\n",
              "      <td>-2.03</td>\n",
              "      <td>1.012846</td>\n",
              "      <td>-0.077933</td>\n",
              "      <td>0.137599</td>\n",
              "      <td>0.048181</td>\n",
              "      <td>0.030723</td>\n",
              "      <td>0.042666</td>\n",
              "      <td>4.0</td>\n",
              "    </tr>\n",
              "  </tbody>\n",
              "</table>\n",
              "</div>"
            ],
            "text/plain": [
              "    engine_rpm  engine_load  ...  accelerometer_z_std  comfort_x\n",
              "0     0.000000     0.000000  ...             0.172987        2.0\n",
              "1  1034.423358    55.391512  ...             0.219697        4.0\n",
              "2  1487.816867     9.590048  ...             0.083585        3.0\n",
              "3     0.000000     0.000000  ...             0.042641        3.0\n",
              "4     0.000000     0.000000  ...             0.042666        4.0\n",
              "\n",
              "[5 rows x 15 columns]"
            ]
          },
          "metadata": {
            "tags": []
          },
          "execution_count": 11
        }
      ]
    },
    {
      "cell_type": "markdown",
      "metadata": {
        "id": "agvTJ-ZlDLhe",
        "colab_type": "text"
      },
      "source": [
        "# DataSets eixo Y"
      ]
    },
    {
      "cell_type": "code",
      "metadata": {
        "id": "c_2bi-YsDZmM",
        "colab_type": "code",
        "colab": {}
      },
      "source": [
        "dy = data.copy()\n",
        "dy = dy.drop('comfort_x', 1)\n",
        "dy = dy.drop('comfort_z', 1)"
      ],
      "execution_count": 0,
      "outputs": []
    },
    {
      "cell_type": "code",
      "metadata": {
        "id": "DFYEvYHpDvYi",
        "colab_type": "code",
        "colab": {
          "base_uri": "https://localhost:8080/",
          "height": 0
        },
        "outputId": "95dcbf5f-50ce-46c1-cc50-1684d33070b8"
      },
      "source": [
        "dy_mean = dy.copy()\n",
        "\n",
        "for c in columns:\n",
        "  dy_mean[c] = dy_mean[c].fillna(dy[c].mean())\n",
        "dy_mean.head()"
      ],
      "execution_count": 13,
      "outputs": [
        {
          "output_type": "execute_result",
          "data": {
            "text/html": [
              "<div>\n",
              "<style scoped>\n",
              "    .dataframe tbody tr th:only-of-type {\n",
              "        vertical-align: middle;\n",
              "    }\n",
              "\n",
              "    .dataframe tbody tr th {\n",
              "        vertical-align: top;\n",
              "    }\n",
              "\n",
              "    .dataframe thead th {\n",
              "        text-align: right;\n",
              "    }\n",
              "</style>\n",
              "<table border=\"1\" class=\"dataframe\">\n",
              "  <thead>\n",
              "    <tr style=\"text-align: right;\">\n",
              "      <th></th>\n",
              "      <th>engine_rpm</th>\n",
              "      <th>engine_load</th>\n",
              "      <th>intake_manifold_pressure</th>\n",
              "      <th>accelerator_pedal</th>\n",
              "      <th>speed</th>\n",
              "      <th>giroscope_x</th>\n",
              "      <th>giroscope_y</th>\n",
              "      <th>giroscope_z</th>\n",
              "      <th>accelerometer_x_avg</th>\n",
              "      <th>accelerometer_y_avg</th>\n",
              "      <th>accelerometer_z_avg</th>\n",
              "      <th>accelerometer_x_std</th>\n",
              "      <th>accelerometer_y_std</th>\n",
              "      <th>accelerometer_z_std</th>\n",
              "      <th>comfort_y</th>\n",
              "    </tr>\n",
              "  </thead>\n",
              "  <tbody>\n",
              "    <tr>\n",
              "      <th>0</th>\n",
              "      <td>1233.486699</td>\n",
              "      <td>26.227108</td>\n",
              "      <td>136.271720</td>\n",
              "      <td>32.786051</td>\n",
              "      <td>23.223407</td>\n",
              "      <td>-2.72</td>\n",
              "      <td>3.59</td>\n",
              "      <td>-0.34</td>\n",
              "      <td>1.016963</td>\n",
              "      <td>-0.059846</td>\n",
              "      <td>0.120445</td>\n",
              "      <td>0.194853</td>\n",
              "      <td>0.155698</td>\n",
              "      <td>0.172987</td>\n",
              "      <td>2.0</td>\n",
              "    </tr>\n",
              "    <tr>\n",
              "      <th>1</th>\n",
              "      <td>1034.423358</td>\n",
              "      <td>55.391512</td>\n",
              "      <td>111.343066</td>\n",
              "      <td>92.270318</td>\n",
              "      <td>3.223987</td>\n",
              "      <td>-0.77</td>\n",
              "      <td>-0.31</td>\n",
              "      <td>-4.57</td>\n",
              "      <td>1.005749</td>\n",
              "      <td>-0.099241</td>\n",
              "      <td>0.110642</td>\n",
              "      <td>0.217798</td>\n",
              "      <td>0.205179</td>\n",
              "      <td>0.219697</td>\n",
              "      <td>4.0</td>\n",
              "    </tr>\n",
              "    <tr>\n",
              "      <th>2</th>\n",
              "      <td>1487.816867</td>\n",
              "      <td>9.590048</td>\n",
              "      <td>118.028169</td>\n",
              "      <td>21.461805</td>\n",
              "      <td>22.807823</td>\n",
              "      <td>-2.05</td>\n",
              "      <td>0.98</td>\n",
              "      <td>4.51</td>\n",
              "      <td>1.024716</td>\n",
              "      <td>-0.063518</td>\n",
              "      <td>0.128107</td>\n",
              "      <td>0.109880</td>\n",
              "      <td>0.089158</td>\n",
              "      <td>0.083585</td>\n",
              "      <td>4.0</td>\n",
              "    </tr>\n",
              "    <tr>\n",
              "      <th>3</th>\n",
              "      <td>1233.486699</td>\n",
              "      <td>26.227108</td>\n",
              "      <td>136.271720</td>\n",
              "      <td>32.786051</td>\n",
              "      <td>8.774839</td>\n",
              "      <td>-2.20</td>\n",
              "      <td>0.19</td>\n",
              "      <td>-2.51</td>\n",
              "      <td>1.015846</td>\n",
              "      <td>-0.079579</td>\n",
              "      <td>0.139395</td>\n",
              "      <td>0.035262</td>\n",
              "      <td>0.018842</td>\n",
              "      <td>0.042641</td>\n",
              "      <td>3.0</td>\n",
              "    </tr>\n",
              "    <tr>\n",
              "      <th>4</th>\n",
              "      <td>1233.486699</td>\n",
              "      <td>26.227108</td>\n",
              "      <td>136.271720</td>\n",
              "      <td>32.786051</td>\n",
              "      <td>13.601787</td>\n",
              "      <td>-1.16</td>\n",
              "      <td>-0.10</td>\n",
              "      <td>-2.03</td>\n",
              "      <td>1.012846</td>\n",
              "      <td>-0.077933</td>\n",
              "      <td>0.137599</td>\n",
              "      <td>0.048181</td>\n",
              "      <td>0.030723</td>\n",
              "      <td>0.042666</td>\n",
              "      <td>4.0</td>\n",
              "    </tr>\n",
              "  </tbody>\n",
              "</table>\n",
              "</div>"
            ],
            "text/plain": [
              "    engine_rpm  engine_load  ...  accelerometer_z_std  comfort_y\n",
              "0  1233.486699    26.227108  ...             0.172987        2.0\n",
              "1  1034.423358    55.391512  ...             0.219697        4.0\n",
              "2  1487.816867     9.590048  ...             0.083585        4.0\n",
              "3  1233.486699    26.227108  ...             0.042641        3.0\n",
              "4  1233.486699    26.227108  ...             0.042666        4.0\n",
              "\n",
              "[5 rows x 15 columns]"
            ]
          },
          "metadata": {
            "tags": []
          },
          "execution_count": 13
        }
      ]
    },
    {
      "cell_type": "code",
      "metadata": {
        "id": "EDflt4_iD2ly",
        "colab_type": "code",
        "colab": {
          "base_uri": "https://localhost:8080/",
          "height": 0
        },
        "outputId": "1c26bdc1-a1c6-4617-a294-f57b4270a6fd"
      },
      "source": [
        "dy_median = dy.copy()\n",
        "\n",
        "for c in columns:\n",
        "  dy_median[c] = dy_median[c].fillna(dy[c].median())\n",
        "dy_median.head()"
      ],
      "execution_count": 14,
      "outputs": [
        {
          "output_type": "execute_result",
          "data": {
            "text/html": [
              "<div>\n",
              "<style scoped>\n",
              "    .dataframe tbody tr th:only-of-type {\n",
              "        vertical-align: middle;\n",
              "    }\n",
              "\n",
              "    .dataframe tbody tr th {\n",
              "        vertical-align: top;\n",
              "    }\n",
              "\n",
              "    .dataframe thead th {\n",
              "        text-align: right;\n",
              "    }\n",
              "</style>\n",
              "<table border=\"1\" class=\"dataframe\">\n",
              "  <thead>\n",
              "    <tr style=\"text-align: right;\">\n",
              "      <th></th>\n",
              "      <th>engine_rpm</th>\n",
              "      <th>engine_load</th>\n",
              "      <th>intake_manifold_pressure</th>\n",
              "      <th>accelerator_pedal</th>\n",
              "      <th>speed</th>\n",
              "      <th>giroscope_x</th>\n",
              "      <th>giroscope_y</th>\n",
              "      <th>giroscope_z</th>\n",
              "      <th>accelerometer_x_avg</th>\n",
              "      <th>accelerometer_y_avg</th>\n",
              "      <th>accelerometer_z_avg</th>\n",
              "      <th>accelerometer_x_std</th>\n",
              "      <th>accelerometer_y_std</th>\n",
              "      <th>accelerometer_z_std</th>\n",
              "      <th>comfort_y</th>\n",
              "    </tr>\n",
              "  </thead>\n",
              "  <tbody>\n",
              "    <tr>\n",
              "      <th>0</th>\n",
              "      <td>1265.206813</td>\n",
              "      <td>15.172646</td>\n",
              "      <td>124.087678</td>\n",
              "      <td>31.753677</td>\n",
              "      <td>23.223407</td>\n",
              "      <td>-2.72</td>\n",
              "      <td>3.59</td>\n",
              "      <td>-0.34</td>\n",
              "      <td>1.016963</td>\n",
              "      <td>-0.059846</td>\n",
              "      <td>0.120445</td>\n",
              "      <td>0.194853</td>\n",
              "      <td>0.155698</td>\n",
              "      <td>0.172987</td>\n",
              "      <td>2.0</td>\n",
              "    </tr>\n",
              "    <tr>\n",
              "      <th>1</th>\n",
              "      <td>1034.423358</td>\n",
              "      <td>55.391512</td>\n",
              "      <td>111.343066</td>\n",
              "      <td>92.270318</td>\n",
              "      <td>3.223987</td>\n",
              "      <td>-0.77</td>\n",
              "      <td>-0.31</td>\n",
              "      <td>-4.57</td>\n",
              "      <td>1.005749</td>\n",
              "      <td>-0.099241</td>\n",
              "      <td>0.110642</td>\n",
              "      <td>0.217798</td>\n",
              "      <td>0.205179</td>\n",
              "      <td>0.219697</td>\n",
              "      <td>4.0</td>\n",
              "    </tr>\n",
              "    <tr>\n",
              "      <th>2</th>\n",
              "      <td>1487.816867</td>\n",
              "      <td>9.590048</td>\n",
              "      <td>118.028169</td>\n",
              "      <td>21.461805</td>\n",
              "      <td>22.807823</td>\n",
              "      <td>-2.05</td>\n",
              "      <td>0.98</td>\n",
              "      <td>4.51</td>\n",
              "      <td>1.024716</td>\n",
              "      <td>-0.063518</td>\n",
              "      <td>0.128107</td>\n",
              "      <td>0.109880</td>\n",
              "      <td>0.089158</td>\n",
              "      <td>0.083585</td>\n",
              "      <td>4.0</td>\n",
              "    </tr>\n",
              "    <tr>\n",
              "      <th>3</th>\n",
              "      <td>1265.206813</td>\n",
              "      <td>15.172646</td>\n",
              "      <td>124.087678</td>\n",
              "      <td>31.753677</td>\n",
              "      <td>8.774839</td>\n",
              "      <td>-2.20</td>\n",
              "      <td>0.19</td>\n",
              "      <td>-2.51</td>\n",
              "      <td>1.015846</td>\n",
              "      <td>-0.079579</td>\n",
              "      <td>0.139395</td>\n",
              "      <td>0.035262</td>\n",
              "      <td>0.018842</td>\n",
              "      <td>0.042641</td>\n",
              "      <td>3.0</td>\n",
              "    </tr>\n",
              "    <tr>\n",
              "      <th>4</th>\n",
              "      <td>1265.206813</td>\n",
              "      <td>15.172646</td>\n",
              "      <td>124.087678</td>\n",
              "      <td>31.753677</td>\n",
              "      <td>13.601787</td>\n",
              "      <td>-1.16</td>\n",
              "      <td>-0.10</td>\n",
              "      <td>-2.03</td>\n",
              "      <td>1.012846</td>\n",
              "      <td>-0.077933</td>\n",
              "      <td>0.137599</td>\n",
              "      <td>0.048181</td>\n",
              "      <td>0.030723</td>\n",
              "      <td>0.042666</td>\n",
              "      <td>4.0</td>\n",
              "    </tr>\n",
              "  </tbody>\n",
              "</table>\n",
              "</div>"
            ],
            "text/plain": [
              "    engine_rpm  engine_load  ...  accelerometer_z_std  comfort_y\n",
              "0  1265.206813    15.172646  ...             0.172987        2.0\n",
              "1  1034.423358    55.391512  ...             0.219697        4.0\n",
              "2  1487.816867     9.590048  ...             0.083585        4.0\n",
              "3  1265.206813    15.172646  ...             0.042641        3.0\n",
              "4  1265.206813    15.172646  ...             0.042666        4.0\n",
              "\n",
              "[5 rows x 15 columns]"
            ]
          },
          "metadata": {
            "tags": []
          },
          "execution_count": 14
        }
      ]
    },
    {
      "cell_type": "code",
      "metadata": {
        "id": "B4Itr9rEEVvc",
        "colab_type": "code",
        "colab": {
          "base_uri": "https://localhost:8080/",
          "height": 0
        },
        "outputId": "87961ebe-a961-42dc-d6bc-dac6cd040d21"
      },
      "source": [
        "dy_zeros = dy.copy()\n",
        "\n",
        "for c in columns:\n",
        "  dy_zeros[c] = dy_zeros[c].fillna(0)\n",
        "dy_zeros.head()"
      ],
      "execution_count": 15,
      "outputs": [
        {
          "output_type": "execute_result",
          "data": {
            "text/html": [
              "<div>\n",
              "<style scoped>\n",
              "    .dataframe tbody tr th:only-of-type {\n",
              "        vertical-align: middle;\n",
              "    }\n",
              "\n",
              "    .dataframe tbody tr th {\n",
              "        vertical-align: top;\n",
              "    }\n",
              "\n",
              "    .dataframe thead th {\n",
              "        text-align: right;\n",
              "    }\n",
              "</style>\n",
              "<table border=\"1\" class=\"dataframe\">\n",
              "  <thead>\n",
              "    <tr style=\"text-align: right;\">\n",
              "      <th></th>\n",
              "      <th>engine_rpm</th>\n",
              "      <th>engine_load</th>\n",
              "      <th>intake_manifold_pressure</th>\n",
              "      <th>accelerator_pedal</th>\n",
              "      <th>speed</th>\n",
              "      <th>giroscope_x</th>\n",
              "      <th>giroscope_y</th>\n",
              "      <th>giroscope_z</th>\n",
              "      <th>accelerometer_x_avg</th>\n",
              "      <th>accelerometer_y_avg</th>\n",
              "      <th>accelerometer_z_avg</th>\n",
              "      <th>accelerometer_x_std</th>\n",
              "      <th>accelerometer_y_std</th>\n",
              "      <th>accelerometer_z_std</th>\n",
              "      <th>comfort_y</th>\n",
              "    </tr>\n",
              "  </thead>\n",
              "  <tbody>\n",
              "    <tr>\n",
              "      <th>0</th>\n",
              "      <td>0.000000</td>\n",
              "      <td>0.000000</td>\n",
              "      <td>0.000000</td>\n",
              "      <td>0.000000</td>\n",
              "      <td>23.223407</td>\n",
              "      <td>-2.72</td>\n",
              "      <td>3.59</td>\n",
              "      <td>-0.34</td>\n",
              "      <td>1.016963</td>\n",
              "      <td>-0.059846</td>\n",
              "      <td>0.120445</td>\n",
              "      <td>0.194853</td>\n",
              "      <td>0.155698</td>\n",
              "      <td>0.172987</td>\n",
              "      <td>2.0</td>\n",
              "    </tr>\n",
              "    <tr>\n",
              "      <th>1</th>\n",
              "      <td>1034.423358</td>\n",
              "      <td>55.391512</td>\n",
              "      <td>111.343066</td>\n",
              "      <td>92.270318</td>\n",
              "      <td>3.223987</td>\n",
              "      <td>-0.77</td>\n",
              "      <td>-0.31</td>\n",
              "      <td>-4.57</td>\n",
              "      <td>1.005749</td>\n",
              "      <td>-0.099241</td>\n",
              "      <td>0.110642</td>\n",
              "      <td>0.217798</td>\n",
              "      <td>0.205179</td>\n",
              "      <td>0.219697</td>\n",
              "      <td>4.0</td>\n",
              "    </tr>\n",
              "    <tr>\n",
              "      <th>2</th>\n",
              "      <td>1487.816867</td>\n",
              "      <td>9.590048</td>\n",
              "      <td>118.028169</td>\n",
              "      <td>21.461805</td>\n",
              "      <td>22.807823</td>\n",
              "      <td>-2.05</td>\n",
              "      <td>0.98</td>\n",
              "      <td>4.51</td>\n",
              "      <td>1.024716</td>\n",
              "      <td>-0.063518</td>\n",
              "      <td>0.128107</td>\n",
              "      <td>0.109880</td>\n",
              "      <td>0.089158</td>\n",
              "      <td>0.083585</td>\n",
              "      <td>4.0</td>\n",
              "    </tr>\n",
              "    <tr>\n",
              "      <th>3</th>\n",
              "      <td>0.000000</td>\n",
              "      <td>0.000000</td>\n",
              "      <td>0.000000</td>\n",
              "      <td>0.000000</td>\n",
              "      <td>8.774839</td>\n",
              "      <td>-2.20</td>\n",
              "      <td>0.19</td>\n",
              "      <td>-2.51</td>\n",
              "      <td>1.015846</td>\n",
              "      <td>-0.079579</td>\n",
              "      <td>0.139395</td>\n",
              "      <td>0.035262</td>\n",
              "      <td>0.018842</td>\n",
              "      <td>0.042641</td>\n",
              "      <td>3.0</td>\n",
              "    </tr>\n",
              "    <tr>\n",
              "      <th>4</th>\n",
              "      <td>0.000000</td>\n",
              "      <td>0.000000</td>\n",
              "      <td>0.000000</td>\n",
              "      <td>0.000000</td>\n",
              "      <td>13.601787</td>\n",
              "      <td>-1.16</td>\n",
              "      <td>-0.10</td>\n",
              "      <td>-2.03</td>\n",
              "      <td>1.012846</td>\n",
              "      <td>-0.077933</td>\n",
              "      <td>0.137599</td>\n",
              "      <td>0.048181</td>\n",
              "      <td>0.030723</td>\n",
              "      <td>0.042666</td>\n",
              "      <td>4.0</td>\n",
              "    </tr>\n",
              "  </tbody>\n",
              "</table>\n",
              "</div>"
            ],
            "text/plain": [
              "    engine_rpm  engine_load  ...  accelerometer_z_std  comfort_y\n",
              "0     0.000000     0.000000  ...             0.172987        2.0\n",
              "1  1034.423358    55.391512  ...             0.219697        4.0\n",
              "2  1487.816867     9.590048  ...             0.083585        4.0\n",
              "3     0.000000     0.000000  ...             0.042641        3.0\n",
              "4     0.000000     0.000000  ...             0.042666        4.0\n",
              "\n",
              "[5 rows x 15 columns]"
            ]
          },
          "metadata": {
            "tags": []
          },
          "execution_count": 15
        }
      ]
    },
    {
      "cell_type": "code",
      "metadata": {
        "colab_type": "code",
        "id": "gnar5BWzHpEb",
        "colab": {
          "base_uri": "https://localhost:8080/",
          "height": 0
        },
        "outputId": "ae6d9e7d-0ffc-4a34-8aba-5d527ebd6334"
      },
      "source": [
        "dy_max = dy.copy()\n",
        "\n",
        "for c in columns:\n",
        "  dy_max[c] = dy_max[c].fillna(dy[c].max())\n",
        "dy_max.head()"
      ],
      "execution_count": 16,
      "outputs": [
        {
          "output_type": "execute_result",
          "data": {
            "text/html": [
              "<div>\n",
              "<style scoped>\n",
              "    .dataframe tbody tr th:only-of-type {\n",
              "        vertical-align: middle;\n",
              "    }\n",
              "\n",
              "    .dataframe tbody tr th {\n",
              "        vertical-align: top;\n",
              "    }\n",
              "\n",
              "    .dataframe thead th {\n",
              "        text-align: right;\n",
              "    }\n",
              "</style>\n",
              "<table border=\"1\" class=\"dataframe\">\n",
              "  <thead>\n",
              "    <tr style=\"text-align: right;\">\n",
              "      <th></th>\n",
              "      <th>engine_rpm</th>\n",
              "      <th>engine_load</th>\n",
              "      <th>intake_manifold_pressure</th>\n",
              "      <th>accelerator_pedal</th>\n",
              "      <th>speed</th>\n",
              "      <th>giroscope_x</th>\n",
              "      <th>giroscope_y</th>\n",
              "      <th>giroscope_z</th>\n",
              "      <th>accelerometer_x_avg</th>\n",
              "      <th>accelerometer_y_avg</th>\n",
              "      <th>accelerometer_z_avg</th>\n",
              "      <th>accelerometer_x_std</th>\n",
              "      <th>accelerometer_y_std</th>\n",
              "      <th>accelerometer_z_std</th>\n",
              "      <th>comfort_y</th>\n",
              "    </tr>\n",
              "  </thead>\n",
              "  <tbody>\n",
              "    <tr>\n",
              "      <th>0</th>\n",
              "      <td>2130.300231</td>\n",
              "      <td>99.600000</td>\n",
              "      <td>255.000000</td>\n",
              "      <td>100.000000</td>\n",
              "      <td>23.223407</td>\n",
              "      <td>-2.72</td>\n",
              "      <td>3.59</td>\n",
              "      <td>-0.34</td>\n",
              "      <td>1.016963</td>\n",
              "      <td>-0.059846</td>\n",
              "      <td>0.120445</td>\n",
              "      <td>0.194853</td>\n",
              "      <td>0.155698</td>\n",
              "      <td>0.172987</td>\n",
              "      <td>2.0</td>\n",
              "    </tr>\n",
              "    <tr>\n",
              "      <th>1</th>\n",
              "      <td>1034.423358</td>\n",
              "      <td>55.391512</td>\n",
              "      <td>111.343066</td>\n",
              "      <td>92.270318</td>\n",
              "      <td>3.223987</td>\n",
              "      <td>-0.77</td>\n",
              "      <td>-0.31</td>\n",
              "      <td>-4.57</td>\n",
              "      <td>1.005749</td>\n",
              "      <td>-0.099241</td>\n",
              "      <td>0.110642</td>\n",
              "      <td>0.217798</td>\n",
              "      <td>0.205179</td>\n",
              "      <td>0.219697</td>\n",
              "      <td>4.0</td>\n",
              "    </tr>\n",
              "    <tr>\n",
              "      <th>2</th>\n",
              "      <td>1487.816867</td>\n",
              "      <td>9.590048</td>\n",
              "      <td>118.028169</td>\n",
              "      <td>21.461805</td>\n",
              "      <td>22.807823</td>\n",
              "      <td>-2.05</td>\n",
              "      <td>0.98</td>\n",
              "      <td>4.51</td>\n",
              "      <td>1.024716</td>\n",
              "      <td>-0.063518</td>\n",
              "      <td>0.128107</td>\n",
              "      <td>0.109880</td>\n",
              "      <td>0.089158</td>\n",
              "      <td>0.083585</td>\n",
              "      <td>4.0</td>\n",
              "    </tr>\n",
              "    <tr>\n",
              "      <th>3</th>\n",
              "      <td>2130.300231</td>\n",
              "      <td>99.600000</td>\n",
              "      <td>255.000000</td>\n",
              "      <td>100.000000</td>\n",
              "      <td>8.774839</td>\n",
              "      <td>-2.20</td>\n",
              "      <td>0.19</td>\n",
              "      <td>-2.51</td>\n",
              "      <td>1.015846</td>\n",
              "      <td>-0.079579</td>\n",
              "      <td>0.139395</td>\n",
              "      <td>0.035262</td>\n",
              "      <td>0.018842</td>\n",
              "      <td>0.042641</td>\n",
              "      <td>3.0</td>\n",
              "    </tr>\n",
              "    <tr>\n",
              "      <th>4</th>\n",
              "      <td>2130.300231</td>\n",
              "      <td>99.600000</td>\n",
              "      <td>255.000000</td>\n",
              "      <td>100.000000</td>\n",
              "      <td>13.601787</td>\n",
              "      <td>-1.16</td>\n",
              "      <td>-0.10</td>\n",
              "      <td>-2.03</td>\n",
              "      <td>1.012846</td>\n",
              "      <td>-0.077933</td>\n",
              "      <td>0.137599</td>\n",
              "      <td>0.048181</td>\n",
              "      <td>0.030723</td>\n",
              "      <td>0.042666</td>\n",
              "      <td>4.0</td>\n",
              "    </tr>\n",
              "  </tbody>\n",
              "</table>\n",
              "</div>"
            ],
            "text/plain": [
              "    engine_rpm  engine_load  ...  accelerometer_z_std  comfort_y\n",
              "0  2130.300231    99.600000  ...             0.172987        2.0\n",
              "1  1034.423358    55.391512  ...             0.219697        4.0\n",
              "2  1487.816867     9.590048  ...             0.083585        4.0\n",
              "3  2130.300231    99.600000  ...             0.042641        3.0\n",
              "4  2130.300231    99.600000  ...             0.042666        4.0\n",
              "\n",
              "[5 rows x 15 columns]"
            ]
          },
          "metadata": {
            "tags": []
          },
          "execution_count": 16
        }
      ]
    },
    {
      "cell_type": "code",
      "metadata": {
        "colab_type": "code",
        "id": "LquQ2IAzHpEd",
        "colab": {
          "base_uri": "https://localhost:8080/",
          "height": 0
        },
        "outputId": "f83b8372-ef58-4dc1-b39a-91c967eadc80"
      },
      "source": [
        "dy_min = dy.copy()\n",
        "\n",
        "for c in columns:\n",
        "  dy_min[c] = dy_min[c].fillna(dy[c].min())\n",
        "dy_min.head()"
      ],
      "execution_count": 17,
      "outputs": [
        {
          "output_type": "execute_result",
          "data": {
            "text/html": [
              "<div>\n",
              "<style scoped>\n",
              "    .dataframe tbody tr th:only-of-type {\n",
              "        vertical-align: middle;\n",
              "    }\n",
              "\n",
              "    .dataframe tbody tr th {\n",
              "        vertical-align: top;\n",
              "    }\n",
              "\n",
              "    .dataframe thead th {\n",
              "        text-align: right;\n",
              "    }\n",
              "</style>\n",
              "<table border=\"1\" class=\"dataframe\">\n",
              "  <thead>\n",
              "    <tr style=\"text-align: right;\">\n",
              "      <th></th>\n",
              "      <th>engine_rpm</th>\n",
              "      <th>engine_load</th>\n",
              "      <th>intake_manifold_pressure</th>\n",
              "      <th>accelerator_pedal</th>\n",
              "      <th>speed</th>\n",
              "      <th>giroscope_x</th>\n",
              "      <th>giroscope_y</th>\n",
              "      <th>giroscope_z</th>\n",
              "      <th>accelerometer_x_avg</th>\n",
              "      <th>accelerometer_y_avg</th>\n",
              "      <th>accelerometer_z_avg</th>\n",
              "      <th>accelerometer_x_std</th>\n",
              "      <th>accelerometer_y_std</th>\n",
              "      <th>accelerometer_z_std</th>\n",
              "      <th>comfort_y</th>\n",
              "    </tr>\n",
              "  </thead>\n",
              "  <tbody>\n",
              "    <tr>\n",
              "      <th>0</th>\n",
              "      <td>693.694511</td>\n",
              "      <td>0.000000</td>\n",
              "      <td>97.891304</td>\n",
              "      <td>0.000000</td>\n",
              "      <td>23.223407</td>\n",
              "      <td>-2.72</td>\n",
              "      <td>3.59</td>\n",
              "      <td>-0.34</td>\n",
              "      <td>1.016963</td>\n",
              "      <td>-0.059846</td>\n",
              "      <td>0.120445</td>\n",
              "      <td>0.194853</td>\n",
              "      <td>0.155698</td>\n",
              "      <td>0.172987</td>\n",
              "      <td>2.0</td>\n",
              "    </tr>\n",
              "    <tr>\n",
              "      <th>1</th>\n",
              "      <td>1034.423358</td>\n",
              "      <td>55.391512</td>\n",
              "      <td>111.343066</td>\n",
              "      <td>92.270318</td>\n",
              "      <td>3.223987</td>\n",
              "      <td>-0.77</td>\n",
              "      <td>-0.31</td>\n",
              "      <td>-4.57</td>\n",
              "      <td>1.005749</td>\n",
              "      <td>-0.099241</td>\n",
              "      <td>0.110642</td>\n",
              "      <td>0.217798</td>\n",
              "      <td>0.205179</td>\n",
              "      <td>0.219697</td>\n",
              "      <td>4.0</td>\n",
              "    </tr>\n",
              "    <tr>\n",
              "      <th>2</th>\n",
              "      <td>1487.816867</td>\n",
              "      <td>9.590048</td>\n",
              "      <td>118.028169</td>\n",
              "      <td>21.461805</td>\n",
              "      <td>22.807823</td>\n",
              "      <td>-2.05</td>\n",
              "      <td>0.98</td>\n",
              "      <td>4.51</td>\n",
              "      <td>1.024716</td>\n",
              "      <td>-0.063518</td>\n",
              "      <td>0.128107</td>\n",
              "      <td>0.109880</td>\n",
              "      <td>0.089158</td>\n",
              "      <td>0.083585</td>\n",
              "      <td>4.0</td>\n",
              "    </tr>\n",
              "    <tr>\n",
              "      <th>3</th>\n",
              "      <td>693.694511</td>\n",
              "      <td>0.000000</td>\n",
              "      <td>97.891304</td>\n",
              "      <td>0.000000</td>\n",
              "      <td>8.774839</td>\n",
              "      <td>-2.20</td>\n",
              "      <td>0.19</td>\n",
              "      <td>-2.51</td>\n",
              "      <td>1.015846</td>\n",
              "      <td>-0.079579</td>\n",
              "      <td>0.139395</td>\n",
              "      <td>0.035262</td>\n",
              "      <td>0.018842</td>\n",
              "      <td>0.042641</td>\n",
              "      <td>3.0</td>\n",
              "    </tr>\n",
              "    <tr>\n",
              "      <th>4</th>\n",
              "      <td>693.694511</td>\n",
              "      <td>0.000000</td>\n",
              "      <td>97.891304</td>\n",
              "      <td>0.000000</td>\n",
              "      <td>13.601787</td>\n",
              "      <td>-1.16</td>\n",
              "      <td>-0.10</td>\n",
              "      <td>-2.03</td>\n",
              "      <td>1.012846</td>\n",
              "      <td>-0.077933</td>\n",
              "      <td>0.137599</td>\n",
              "      <td>0.048181</td>\n",
              "      <td>0.030723</td>\n",
              "      <td>0.042666</td>\n",
              "      <td>4.0</td>\n",
              "    </tr>\n",
              "  </tbody>\n",
              "</table>\n",
              "</div>"
            ],
            "text/plain": [
              "    engine_rpm  engine_load  ...  accelerometer_z_std  comfort_y\n",
              "0   693.694511     0.000000  ...             0.172987        2.0\n",
              "1  1034.423358    55.391512  ...             0.219697        4.0\n",
              "2  1487.816867     9.590048  ...             0.083585        4.0\n",
              "3   693.694511     0.000000  ...             0.042641        3.0\n",
              "4   693.694511     0.000000  ...             0.042666        4.0\n",
              "\n",
              "[5 rows x 15 columns]"
            ]
          },
          "metadata": {
            "tags": []
          },
          "execution_count": 17
        }
      ]
    },
    {
      "cell_type": "markdown",
      "metadata": {
        "id": "AEO3_I1eEZ4E",
        "colab_type": "text"
      },
      "source": [
        "# DataSets eixo Z"
      ]
    },
    {
      "cell_type": "code",
      "metadata": {
        "id": "Bs37h6y8EdGj",
        "colab_type": "code",
        "colab": {}
      },
      "source": [
        "dz = data.copy()\n",
        "dz = dz.drop('comfort_x', 1)\n",
        "dz = dz.drop('comfort_y', 1)"
      ],
      "execution_count": 0,
      "outputs": []
    },
    {
      "cell_type": "code",
      "metadata": {
        "id": "8TL8xFQTEgBS",
        "colab_type": "code",
        "colab": {
          "base_uri": "https://localhost:8080/",
          "height": 0
        },
        "outputId": "23ae3119-35dd-4410-c649-40a2b55f5924"
      },
      "source": [
        "dz_mean = dz.copy()\n",
        "\n",
        "for c in columns:\n",
        "  dz_mean[c] = dz_mean[c].fillna(dz[c].mean())\n",
        "dz_mean.head()"
      ],
      "execution_count": 19,
      "outputs": [
        {
          "output_type": "execute_result",
          "data": {
            "text/html": [
              "<div>\n",
              "<style scoped>\n",
              "    .dataframe tbody tr th:only-of-type {\n",
              "        vertical-align: middle;\n",
              "    }\n",
              "\n",
              "    .dataframe tbody tr th {\n",
              "        vertical-align: top;\n",
              "    }\n",
              "\n",
              "    .dataframe thead th {\n",
              "        text-align: right;\n",
              "    }\n",
              "</style>\n",
              "<table border=\"1\" class=\"dataframe\">\n",
              "  <thead>\n",
              "    <tr style=\"text-align: right;\">\n",
              "      <th></th>\n",
              "      <th>engine_rpm</th>\n",
              "      <th>engine_load</th>\n",
              "      <th>intake_manifold_pressure</th>\n",
              "      <th>accelerator_pedal</th>\n",
              "      <th>speed</th>\n",
              "      <th>giroscope_x</th>\n",
              "      <th>giroscope_y</th>\n",
              "      <th>giroscope_z</th>\n",
              "      <th>accelerometer_x_avg</th>\n",
              "      <th>accelerometer_y_avg</th>\n",
              "      <th>accelerometer_z_avg</th>\n",
              "      <th>accelerometer_x_std</th>\n",
              "      <th>accelerometer_y_std</th>\n",
              "      <th>accelerometer_z_std</th>\n",
              "      <th>comfort_z</th>\n",
              "    </tr>\n",
              "  </thead>\n",
              "  <tbody>\n",
              "    <tr>\n",
              "      <th>0</th>\n",
              "      <td>1233.486699</td>\n",
              "      <td>26.227108</td>\n",
              "      <td>136.271720</td>\n",
              "      <td>32.786051</td>\n",
              "      <td>23.223407</td>\n",
              "      <td>-2.72</td>\n",
              "      <td>3.59</td>\n",
              "      <td>-0.34</td>\n",
              "      <td>1.016963</td>\n",
              "      <td>-0.059846</td>\n",
              "      <td>0.120445</td>\n",
              "      <td>0.194853</td>\n",
              "      <td>0.155698</td>\n",
              "      <td>0.172987</td>\n",
              "      <td>2.0</td>\n",
              "    </tr>\n",
              "    <tr>\n",
              "      <th>1</th>\n",
              "      <td>1034.423358</td>\n",
              "      <td>55.391512</td>\n",
              "      <td>111.343066</td>\n",
              "      <td>92.270318</td>\n",
              "      <td>3.223987</td>\n",
              "      <td>-0.77</td>\n",
              "      <td>-0.31</td>\n",
              "      <td>-4.57</td>\n",
              "      <td>1.005749</td>\n",
              "      <td>-0.099241</td>\n",
              "      <td>0.110642</td>\n",
              "      <td>0.217798</td>\n",
              "      <td>0.205179</td>\n",
              "      <td>0.219697</td>\n",
              "      <td>4.0</td>\n",
              "    </tr>\n",
              "    <tr>\n",
              "      <th>2</th>\n",
              "      <td>1487.816867</td>\n",
              "      <td>9.590048</td>\n",
              "      <td>118.028169</td>\n",
              "      <td>21.461805</td>\n",
              "      <td>22.807823</td>\n",
              "      <td>-2.05</td>\n",
              "      <td>0.98</td>\n",
              "      <td>4.51</td>\n",
              "      <td>1.024716</td>\n",
              "      <td>-0.063518</td>\n",
              "      <td>0.128107</td>\n",
              "      <td>0.109880</td>\n",
              "      <td>0.089158</td>\n",
              "      <td>0.083585</td>\n",
              "      <td>4.0</td>\n",
              "    </tr>\n",
              "    <tr>\n",
              "      <th>3</th>\n",
              "      <td>1233.486699</td>\n",
              "      <td>26.227108</td>\n",
              "      <td>136.271720</td>\n",
              "      <td>32.786051</td>\n",
              "      <td>8.774839</td>\n",
              "      <td>-2.20</td>\n",
              "      <td>0.19</td>\n",
              "      <td>-2.51</td>\n",
              "      <td>1.015846</td>\n",
              "      <td>-0.079579</td>\n",
              "      <td>0.139395</td>\n",
              "      <td>0.035262</td>\n",
              "      <td>0.018842</td>\n",
              "      <td>0.042641</td>\n",
              "      <td>3.0</td>\n",
              "    </tr>\n",
              "    <tr>\n",
              "      <th>4</th>\n",
              "      <td>1233.486699</td>\n",
              "      <td>26.227108</td>\n",
              "      <td>136.271720</td>\n",
              "      <td>32.786051</td>\n",
              "      <td>13.601787</td>\n",
              "      <td>-1.16</td>\n",
              "      <td>-0.10</td>\n",
              "      <td>-2.03</td>\n",
              "      <td>1.012846</td>\n",
              "      <td>-0.077933</td>\n",
              "      <td>0.137599</td>\n",
              "      <td>0.048181</td>\n",
              "      <td>0.030723</td>\n",
              "      <td>0.042666</td>\n",
              "      <td>4.0</td>\n",
              "    </tr>\n",
              "  </tbody>\n",
              "</table>\n",
              "</div>"
            ],
            "text/plain": [
              "    engine_rpm  engine_load  ...  accelerometer_z_std  comfort_z\n",
              "0  1233.486699    26.227108  ...             0.172987        2.0\n",
              "1  1034.423358    55.391512  ...             0.219697        4.0\n",
              "2  1487.816867     9.590048  ...             0.083585        4.0\n",
              "3  1233.486699    26.227108  ...             0.042641        3.0\n",
              "4  1233.486699    26.227108  ...             0.042666        4.0\n",
              "\n",
              "[5 rows x 15 columns]"
            ]
          },
          "metadata": {
            "tags": []
          },
          "execution_count": 19
        }
      ]
    },
    {
      "cell_type": "code",
      "metadata": {
        "id": "VDhj6JTYEl8C",
        "colab_type": "code",
        "colab": {
          "base_uri": "https://localhost:8080/",
          "height": 0
        },
        "outputId": "8cc7da4c-eeff-40d8-f0bc-1097ddc310d0"
      },
      "source": [
        "dz_zeros = dz.copy()\n",
        "\n",
        "for c in columns:\n",
        "  dz_zeros[c] = dz_zeros[c].fillna(0)\n",
        "dz_zeros.head()"
      ],
      "execution_count": 20,
      "outputs": [
        {
          "output_type": "execute_result",
          "data": {
            "text/html": [
              "<div>\n",
              "<style scoped>\n",
              "    .dataframe tbody tr th:only-of-type {\n",
              "        vertical-align: middle;\n",
              "    }\n",
              "\n",
              "    .dataframe tbody tr th {\n",
              "        vertical-align: top;\n",
              "    }\n",
              "\n",
              "    .dataframe thead th {\n",
              "        text-align: right;\n",
              "    }\n",
              "</style>\n",
              "<table border=\"1\" class=\"dataframe\">\n",
              "  <thead>\n",
              "    <tr style=\"text-align: right;\">\n",
              "      <th></th>\n",
              "      <th>engine_rpm</th>\n",
              "      <th>engine_load</th>\n",
              "      <th>intake_manifold_pressure</th>\n",
              "      <th>accelerator_pedal</th>\n",
              "      <th>speed</th>\n",
              "      <th>giroscope_x</th>\n",
              "      <th>giroscope_y</th>\n",
              "      <th>giroscope_z</th>\n",
              "      <th>accelerometer_x_avg</th>\n",
              "      <th>accelerometer_y_avg</th>\n",
              "      <th>accelerometer_z_avg</th>\n",
              "      <th>accelerometer_x_std</th>\n",
              "      <th>accelerometer_y_std</th>\n",
              "      <th>accelerometer_z_std</th>\n",
              "      <th>comfort_z</th>\n",
              "    </tr>\n",
              "  </thead>\n",
              "  <tbody>\n",
              "    <tr>\n",
              "      <th>0</th>\n",
              "      <td>0.000000</td>\n",
              "      <td>0.000000</td>\n",
              "      <td>0.000000</td>\n",
              "      <td>0.000000</td>\n",
              "      <td>23.223407</td>\n",
              "      <td>-2.72</td>\n",
              "      <td>3.59</td>\n",
              "      <td>-0.34</td>\n",
              "      <td>1.016963</td>\n",
              "      <td>-0.059846</td>\n",
              "      <td>0.120445</td>\n",
              "      <td>0.194853</td>\n",
              "      <td>0.155698</td>\n",
              "      <td>0.172987</td>\n",
              "      <td>2.0</td>\n",
              "    </tr>\n",
              "    <tr>\n",
              "      <th>1</th>\n",
              "      <td>1034.423358</td>\n",
              "      <td>55.391512</td>\n",
              "      <td>111.343066</td>\n",
              "      <td>92.270318</td>\n",
              "      <td>3.223987</td>\n",
              "      <td>-0.77</td>\n",
              "      <td>-0.31</td>\n",
              "      <td>-4.57</td>\n",
              "      <td>1.005749</td>\n",
              "      <td>-0.099241</td>\n",
              "      <td>0.110642</td>\n",
              "      <td>0.217798</td>\n",
              "      <td>0.205179</td>\n",
              "      <td>0.219697</td>\n",
              "      <td>4.0</td>\n",
              "    </tr>\n",
              "    <tr>\n",
              "      <th>2</th>\n",
              "      <td>1487.816867</td>\n",
              "      <td>9.590048</td>\n",
              "      <td>118.028169</td>\n",
              "      <td>21.461805</td>\n",
              "      <td>22.807823</td>\n",
              "      <td>-2.05</td>\n",
              "      <td>0.98</td>\n",
              "      <td>4.51</td>\n",
              "      <td>1.024716</td>\n",
              "      <td>-0.063518</td>\n",
              "      <td>0.128107</td>\n",
              "      <td>0.109880</td>\n",
              "      <td>0.089158</td>\n",
              "      <td>0.083585</td>\n",
              "      <td>4.0</td>\n",
              "    </tr>\n",
              "    <tr>\n",
              "      <th>3</th>\n",
              "      <td>0.000000</td>\n",
              "      <td>0.000000</td>\n",
              "      <td>0.000000</td>\n",
              "      <td>0.000000</td>\n",
              "      <td>8.774839</td>\n",
              "      <td>-2.20</td>\n",
              "      <td>0.19</td>\n",
              "      <td>-2.51</td>\n",
              "      <td>1.015846</td>\n",
              "      <td>-0.079579</td>\n",
              "      <td>0.139395</td>\n",
              "      <td>0.035262</td>\n",
              "      <td>0.018842</td>\n",
              "      <td>0.042641</td>\n",
              "      <td>3.0</td>\n",
              "    </tr>\n",
              "    <tr>\n",
              "      <th>4</th>\n",
              "      <td>0.000000</td>\n",
              "      <td>0.000000</td>\n",
              "      <td>0.000000</td>\n",
              "      <td>0.000000</td>\n",
              "      <td>13.601787</td>\n",
              "      <td>-1.16</td>\n",
              "      <td>-0.10</td>\n",
              "      <td>-2.03</td>\n",
              "      <td>1.012846</td>\n",
              "      <td>-0.077933</td>\n",
              "      <td>0.137599</td>\n",
              "      <td>0.048181</td>\n",
              "      <td>0.030723</td>\n",
              "      <td>0.042666</td>\n",
              "      <td>4.0</td>\n",
              "    </tr>\n",
              "  </tbody>\n",
              "</table>\n",
              "</div>"
            ],
            "text/plain": [
              "    engine_rpm  engine_load  ...  accelerometer_z_std  comfort_z\n",
              "0     0.000000     0.000000  ...             0.172987        2.0\n",
              "1  1034.423358    55.391512  ...             0.219697        4.0\n",
              "2  1487.816867     9.590048  ...             0.083585        4.0\n",
              "3     0.000000     0.000000  ...             0.042641        3.0\n",
              "4     0.000000     0.000000  ...             0.042666        4.0\n",
              "\n",
              "[5 rows x 15 columns]"
            ]
          },
          "metadata": {
            "tags": []
          },
          "execution_count": 20
        }
      ]
    },
    {
      "cell_type": "code",
      "metadata": {
        "id": "udwXwMJ3EjHx",
        "colab_type": "code",
        "colab": {
          "base_uri": "https://localhost:8080/",
          "height": 0
        },
        "outputId": "e41b099d-b34a-42fd-dd4b-76190416913b"
      },
      "source": [
        "dz_median = dz.copy()\n",
        "\n",
        "for c in columns:\n",
        "  dz_median[c] = dz_median[c].fillna(dz[c].median())\n",
        "dz_median.head()"
      ],
      "execution_count": 21,
      "outputs": [
        {
          "output_type": "execute_result",
          "data": {
            "text/html": [
              "<div>\n",
              "<style scoped>\n",
              "    .dataframe tbody tr th:only-of-type {\n",
              "        vertical-align: middle;\n",
              "    }\n",
              "\n",
              "    .dataframe tbody tr th {\n",
              "        vertical-align: top;\n",
              "    }\n",
              "\n",
              "    .dataframe thead th {\n",
              "        text-align: right;\n",
              "    }\n",
              "</style>\n",
              "<table border=\"1\" class=\"dataframe\">\n",
              "  <thead>\n",
              "    <tr style=\"text-align: right;\">\n",
              "      <th></th>\n",
              "      <th>engine_rpm</th>\n",
              "      <th>engine_load</th>\n",
              "      <th>intake_manifold_pressure</th>\n",
              "      <th>accelerator_pedal</th>\n",
              "      <th>speed</th>\n",
              "      <th>giroscope_x</th>\n",
              "      <th>giroscope_y</th>\n",
              "      <th>giroscope_z</th>\n",
              "      <th>accelerometer_x_avg</th>\n",
              "      <th>accelerometer_y_avg</th>\n",
              "      <th>accelerometer_z_avg</th>\n",
              "      <th>accelerometer_x_std</th>\n",
              "      <th>accelerometer_y_std</th>\n",
              "      <th>accelerometer_z_std</th>\n",
              "      <th>comfort_z</th>\n",
              "    </tr>\n",
              "  </thead>\n",
              "  <tbody>\n",
              "    <tr>\n",
              "      <th>0</th>\n",
              "      <td>1265.206813</td>\n",
              "      <td>15.172646</td>\n",
              "      <td>124.087678</td>\n",
              "      <td>31.753677</td>\n",
              "      <td>23.223407</td>\n",
              "      <td>-2.72</td>\n",
              "      <td>3.59</td>\n",
              "      <td>-0.34</td>\n",
              "      <td>1.016963</td>\n",
              "      <td>-0.059846</td>\n",
              "      <td>0.120445</td>\n",
              "      <td>0.194853</td>\n",
              "      <td>0.155698</td>\n",
              "      <td>0.172987</td>\n",
              "      <td>2.0</td>\n",
              "    </tr>\n",
              "    <tr>\n",
              "      <th>1</th>\n",
              "      <td>1034.423358</td>\n",
              "      <td>55.391512</td>\n",
              "      <td>111.343066</td>\n",
              "      <td>92.270318</td>\n",
              "      <td>3.223987</td>\n",
              "      <td>-0.77</td>\n",
              "      <td>-0.31</td>\n",
              "      <td>-4.57</td>\n",
              "      <td>1.005749</td>\n",
              "      <td>-0.099241</td>\n",
              "      <td>0.110642</td>\n",
              "      <td>0.217798</td>\n",
              "      <td>0.205179</td>\n",
              "      <td>0.219697</td>\n",
              "      <td>4.0</td>\n",
              "    </tr>\n",
              "    <tr>\n",
              "      <th>2</th>\n",
              "      <td>1487.816867</td>\n",
              "      <td>9.590048</td>\n",
              "      <td>118.028169</td>\n",
              "      <td>21.461805</td>\n",
              "      <td>22.807823</td>\n",
              "      <td>-2.05</td>\n",
              "      <td>0.98</td>\n",
              "      <td>4.51</td>\n",
              "      <td>1.024716</td>\n",
              "      <td>-0.063518</td>\n",
              "      <td>0.128107</td>\n",
              "      <td>0.109880</td>\n",
              "      <td>0.089158</td>\n",
              "      <td>0.083585</td>\n",
              "      <td>4.0</td>\n",
              "    </tr>\n",
              "    <tr>\n",
              "      <th>3</th>\n",
              "      <td>1265.206813</td>\n",
              "      <td>15.172646</td>\n",
              "      <td>124.087678</td>\n",
              "      <td>31.753677</td>\n",
              "      <td>8.774839</td>\n",
              "      <td>-2.20</td>\n",
              "      <td>0.19</td>\n",
              "      <td>-2.51</td>\n",
              "      <td>1.015846</td>\n",
              "      <td>-0.079579</td>\n",
              "      <td>0.139395</td>\n",
              "      <td>0.035262</td>\n",
              "      <td>0.018842</td>\n",
              "      <td>0.042641</td>\n",
              "      <td>3.0</td>\n",
              "    </tr>\n",
              "    <tr>\n",
              "      <th>4</th>\n",
              "      <td>1265.206813</td>\n",
              "      <td>15.172646</td>\n",
              "      <td>124.087678</td>\n",
              "      <td>31.753677</td>\n",
              "      <td>13.601787</td>\n",
              "      <td>-1.16</td>\n",
              "      <td>-0.10</td>\n",
              "      <td>-2.03</td>\n",
              "      <td>1.012846</td>\n",
              "      <td>-0.077933</td>\n",
              "      <td>0.137599</td>\n",
              "      <td>0.048181</td>\n",
              "      <td>0.030723</td>\n",
              "      <td>0.042666</td>\n",
              "      <td>4.0</td>\n",
              "    </tr>\n",
              "  </tbody>\n",
              "</table>\n",
              "</div>"
            ],
            "text/plain": [
              "    engine_rpm  engine_load  ...  accelerometer_z_std  comfort_z\n",
              "0  1265.206813    15.172646  ...             0.172987        2.0\n",
              "1  1034.423358    55.391512  ...             0.219697        4.0\n",
              "2  1487.816867     9.590048  ...             0.083585        4.0\n",
              "3  1265.206813    15.172646  ...             0.042641        3.0\n",
              "4  1265.206813    15.172646  ...             0.042666        4.0\n",
              "\n",
              "[5 rows x 15 columns]"
            ]
          },
          "metadata": {
            "tags": []
          },
          "execution_count": 21
        }
      ]
    },
    {
      "cell_type": "code",
      "metadata": {
        "colab_type": "code",
        "id": "QQ3NrWbjHqVb",
        "colab": {
          "base_uri": "https://localhost:8080/",
          "height": 0
        },
        "outputId": "c7823171-75a3-48c5-9e2b-389b039d806b"
      },
      "source": [
        "dz_max = dz.copy()\n",
        "\n",
        "for c in columns:\n",
        "  dz_max[c] = dz_max[c].fillna(dz[c].max())\n",
        "dz_max.head()"
      ],
      "execution_count": 22,
      "outputs": [
        {
          "output_type": "execute_result",
          "data": {
            "text/html": [
              "<div>\n",
              "<style scoped>\n",
              "    .dataframe tbody tr th:only-of-type {\n",
              "        vertical-align: middle;\n",
              "    }\n",
              "\n",
              "    .dataframe tbody tr th {\n",
              "        vertical-align: top;\n",
              "    }\n",
              "\n",
              "    .dataframe thead th {\n",
              "        text-align: right;\n",
              "    }\n",
              "</style>\n",
              "<table border=\"1\" class=\"dataframe\">\n",
              "  <thead>\n",
              "    <tr style=\"text-align: right;\">\n",
              "      <th></th>\n",
              "      <th>engine_rpm</th>\n",
              "      <th>engine_load</th>\n",
              "      <th>intake_manifold_pressure</th>\n",
              "      <th>accelerator_pedal</th>\n",
              "      <th>speed</th>\n",
              "      <th>giroscope_x</th>\n",
              "      <th>giroscope_y</th>\n",
              "      <th>giroscope_z</th>\n",
              "      <th>accelerometer_x_avg</th>\n",
              "      <th>accelerometer_y_avg</th>\n",
              "      <th>accelerometer_z_avg</th>\n",
              "      <th>accelerometer_x_std</th>\n",
              "      <th>accelerometer_y_std</th>\n",
              "      <th>accelerometer_z_std</th>\n",
              "      <th>comfort_z</th>\n",
              "    </tr>\n",
              "  </thead>\n",
              "  <tbody>\n",
              "    <tr>\n",
              "      <th>0</th>\n",
              "      <td>2130.300231</td>\n",
              "      <td>99.600000</td>\n",
              "      <td>255.000000</td>\n",
              "      <td>100.000000</td>\n",
              "      <td>23.223407</td>\n",
              "      <td>-2.72</td>\n",
              "      <td>3.59</td>\n",
              "      <td>-0.34</td>\n",
              "      <td>1.016963</td>\n",
              "      <td>-0.059846</td>\n",
              "      <td>0.120445</td>\n",
              "      <td>0.194853</td>\n",
              "      <td>0.155698</td>\n",
              "      <td>0.172987</td>\n",
              "      <td>2.0</td>\n",
              "    </tr>\n",
              "    <tr>\n",
              "      <th>1</th>\n",
              "      <td>1034.423358</td>\n",
              "      <td>55.391512</td>\n",
              "      <td>111.343066</td>\n",
              "      <td>92.270318</td>\n",
              "      <td>3.223987</td>\n",
              "      <td>-0.77</td>\n",
              "      <td>-0.31</td>\n",
              "      <td>-4.57</td>\n",
              "      <td>1.005749</td>\n",
              "      <td>-0.099241</td>\n",
              "      <td>0.110642</td>\n",
              "      <td>0.217798</td>\n",
              "      <td>0.205179</td>\n",
              "      <td>0.219697</td>\n",
              "      <td>4.0</td>\n",
              "    </tr>\n",
              "    <tr>\n",
              "      <th>2</th>\n",
              "      <td>1487.816867</td>\n",
              "      <td>9.590048</td>\n",
              "      <td>118.028169</td>\n",
              "      <td>21.461805</td>\n",
              "      <td>22.807823</td>\n",
              "      <td>-2.05</td>\n",
              "      <td>0.98</td>\n",
              "      <td>4.51</td>\n",
              "      <td>1.024716</td>\n",
              "      <td>-0.063518</td>\n",
              "      <td>0.128107</td>\n",
              "      <td>0.109880</td>\n",
              "      <td>0.089158</td>\n",
              "      <td>0.083585</td>\n",
              "      <td>4.0</td>\n",
              "    </tr>\n",
              "    <tr>\n",
              "      <th>3</th>\n",
              "      <td>2130.300231</td>\n",
              "      <td>99.600000</td>\n",
              "      <td>255.000000</td>\n",
              "      <td>100.000000</td>\n",
              "      <td>8.774839</td>\n",
              "      <td>-2.20</td>\n",
              "      <td>0.19</td>\n",
              "      <td>-2.51</td>\n",
              "      <td>1.015846</td>\n",
              "      <td>-0.079579</td>\n",
              "      <td>0.139395</td>\n",
              "      <td>0.035262</td>\n",
              "      <td>0.018842</td>\n",
              "      <td>0.042641</td>\n",
              "      <td>3.0</td>\n",
              "    </tr>\n",
              "    <tr>\n",
              "      <th>4</th>\n",
              "      <td>2130.300231</td>\n",
              "      <td>99.600000</td>\n",
              "      <td>255.000000</td>\n",
              "      <td>100.000000</td>\n",
              "      <td>13.601787</td>\n",
              "      <td>-1.16</td>\n",
              "      <td>-0.10</td>\n",
              "      <td>-2.03</td>\n",
              "      <td>1.012846</td>\n",
              "      <td>-0.077933</td>\n",
              "      <td>0.137599</td>\n",
              "      <td>0.048181</td>\n",
              "      <td>0.030723</td>\n",
              "      <td>0.042666</td>\n",
              "      <td>4.0</td>\n",
              "    </tr>\n",
              "  </tbody>\n",
              "</table>\n",
              "</div>"
            ],
            "text/plain": [
              "    engine_rpm  engine_load  ...  accelerometer_z_std  comfort_z\n",
              "0  2130.300231    99.600000  ...             0.172987        2.0\n",
              "1  1034.423358    55.391512  ...             0.219697        4.0\n",
              "2  1487.816867     9.590048  ...             0.083585        4.0\n",
              "3  2130.300231    99.600000  ...             0.042641        3.0\n",
              "4  2130.300231    99.600000  ...             0.042666        4.0\n",
              "\n",
              "[5 rows x 15 columns]"
            ]
          },
          "metadata": {
            "tags": []
          },
          "execution_count": 22
        }
      ]
    },
    {
      "cell_type": "code",
      "metadata": {
        "colab_type": "code",
        "id": "tPUyy74rHqVd",
        "colab": {
          "base_uri": "https://localhost:8080/",
          "height": 0
        },
        "outputId": "8e3d6a7c-b5a5-44ae-a00e-8746870adcfb"
      },
      "source": [
        "dz_min = dz.copy()\n",
        "\n",
        "for c in columns:\n",
        "  dz_min[c] = dz_min[c].fillna(dz[c].min())\n",
        "dz_min.head()"
      ],
      "execution_count": 23,
      "outputs": [
        {
          "output_type": "execute_result",
          "data": {
            "text/html": [
              "<div>\n",
              "<style scoped>\n",
              "    .dataframe tbody tr th:only-of-type {\n",
              "        vertical-align: middle;\n",
              "    }\n",
              "\n",
              "    .dataframe tbody tr th {\n",
              "        vertical-align: top;\n",
              "    }\n",
              "\n",
              "    .dataframe thead th {\n",
              "        text-align: right;\n",
              "    }\n",
              "</style>\n",
              "<table border=\"1\" class=\"dataframe\">\n",
              "  <thead>\n",
              "    <tr style=\"text-align: right;\">\n",
              "      <th></th>\n",
              "      <th>engine_rpm</th>\n",
              "      <th>engine_load</th>\n",
              "      <th>intake_manifold_pressure</th>\n",
              "      <th>accelerator_pedal</th>\n",
              "      <th>speed</th>\n",
              "      <th>giroscope_x</th>\n",
              "      <th>giroscope_y</th>\n",
              "      <th>giroscope_z</th>\n",
              "      <th>accelerometer_x_avg</th>\n",
              "      <th>accelerometer_y_avg</th>\n",
              "      <th>accelerometer_z_avg</th>\n",
              "      <th>accelerometer_x_std</th>\n",
              "      <th>accelerometer_y_std</th>\n",
              "      <th>accelerometer_z_std</th>\n",
              "      <th>comfort_z</th>\n",
              "    </tr>\n",
              "  </thead>\n",
              "  <tbody>\n",
              "    <tr>\n",
              "      <th>0</th>\n",
              "      <td>693.694511</td>\n",
              "      <td>0.000000</td>\n",
              "      <td>97.891304</td>\n",
              "      <td>0.000000</td>\n",
              "      <td>23.223407</td>\n",
              "      <td>-2.72</td>\n",
              "      <td>3.59</td>\n",
              "      <td>-0.34</td>\n",
              "      <td>1.016963</td>\n",
              "      <td>-0.059846</td>\n",
              "      <td>0.120445</td>\n",
              "      <td>0.194853</td>\n",
              "      <td>0.155698</td>\n",
              "      <td>0.172987</td>\n",
              "      <td>2.0</td>\n",
              "    </tr>\n",
              "    <tr>\n",
              "      <th>1</th>\n",
              "      <td>1034.423358</td>\n",
              "      <td>55.391512</td>\n",
              "      <td>111.343066</td>\n",
              "      <td>92.270318</td>\n",
              "      <td>3.223987</td>\n",
              "      <td>-0.77</td>\n",
              "      <td>-0.31</td>\n",
              "      <td>-4.57</td>\n",
              "      <td>1.005749</td>\n",
              "      <td>-0.099241</td>\n",
              "      <td>0.110642</td>\n",
              "      <td>0.217798</td>\n",
              "      <td>0.205179</td>\n",
              "      <td>0.219697</td>\n",
              "      <td>4.0</td>\n",
              "    </tr>\n",
              "    <tr>\n",
              "      <th>2</th>\n",
              "      <td>1487.816867</td>\n",
              "      <td>9.590048</td>\n",
              "      <td>118.028169</td>\n",
              "      <td>21.461805</td>\n",
              "      <td>22.807823</td>\n",
              "      <td>-2.05</td>\n",
              "      <td>0.98</td>\n",
              "      <td>4.51</td>\n",
              "      <td>1.024716</td>\n",
              "      <td>-0.063518</td>\n",
              "      <td>0.128107</td>\n",
              "      <td>0.109880</td>\n",
              "      <td>0.089158</td>\n",
              "      <td>0.083585</td>\n",
              "      <td>4.0</td>\n",
              "    </tr>\n",
              "    <tr>\n",
              "      <th>3</th>\n",
              "      <td>693.694511</td>\n",
              "      <td>0.000000</td>\n",
              "      <td>97.891304</td>\n",
              "      <td>0.000000</td>\n",
              "      <td>8.774839</td>\n",
              "      <td>-2.20</td>\n",
              "      <td>0.19</td>\n",
              "      <td>-2.51</td>\n",
              "      <td>1.015846</td>\n",
              "      <td>-0.079579</td>\n",
              "      <td>0.139395</td>\n",
              "      <td>0.035262</td>\n",
              "      <td>0.018842</td>\n",
              "      <td>0.042641</td>\n",
              "      <td>3.0</td>\n",
              "    </tr>\n",
              "    <tr>\n",
              "      <th>4</th>\n",
              "      <td>693.694511</td>\n",
              "      <td>0.000000</td>\n",
              "      <td>97.891304</td>\n",
              "      <td>0.000000</td>\n",
              "      <td>13.601787</td>\n",
              "      <td>-1.16</td>\n",
              "      <td>-0.10</td>\n",
              "      <td>-2.03</td>\n",
              "      <td>1.012846</td>\n",
              "      <td>-0.077933</td>\n",
              "      <td>0.137599</td>\n",
              "      <td>0.048181</td>\n",
              "      <td>0.030723</td>\n",
              "      <td>0.042666</td>\n",
              "      <td>4.0</td>\n",
              "    </tr>\n",
              "  </tbody>\n",
              "</table>\n",
              "</div>"
            ],
            "text/plain": [
              "    engine_rpm  engine_load  ...  accelerometer_z_std  comfort_z\n",
              "0   693.694511     0.000000  ...             0.172987        2.0\n",
              "1  1034.423358    55.391512  ...             0.219697        4.0\n",
              "2  1487.816867     9.590048  ...             0.083585        4.0\n",
              "3   693.694511     0.000000  ...             0.042641        3.0\n",
              "4   693.694511     0.000000  ...             0.042666        4.0\n",
              "\n",
              "[5 rows x 15 columns]"
            ]
          },
          "metadata": {
            "tags": []
          },
          "execution_count": 23
        }
      ]
    },
    {
      "cell_type": "markdown",
      "metadata": {
        "id": "06GDWCMIDa2b",
        "colab_type": "text"
      },
      "source": [
        "# Treinos X"
      ]
    },
    {
      "cell_type": "markdown",
      "metadata": {
        "id": "i8tFnGdKFeqi",
        "colab_type": "text"
      },
      "source": [
        "## DataSet puro"
      ]
    },
    {
      "cell_type": "code",
      "metadata": {
        "id": "APm4iiAPx4vB",
        "colab_type": "code",
        "colab": {}
      },
      "source": [
        "shape = dx.shape\n",
        "cov = numpy.eye(shape[1])\n",
        "kmodel = KMeans(5).fit(dx_zeros)\n",
        "mu = kmodel.cluster_centers_"
      ],
      "execution_count": 0,
      "outputs": []
    },
    {
      "cell_type": "code",
      "metadata": {
        "id": "LhWCsdnVx6xz",
        "colab_type": "code",
        "colab": {}
      },
      "source": [
        "s1 = State(MultivariateGaussianDistribution(mu[0], cov))\n",
        "s2 = State(MultivariateGaussianDistribution(mu[1], cov))\n",
        "s3 = State(MultivariateGaussianDistribution(mu[2], cov))\n",
        "s4 = State(MultivariateGaussianDistribution(mu[3], cov))\n",
        "s5 = State(MultivariateGaussianDistribution(mu[4], cov))"
      ],
      "execution_count": 0,
      "outputs": []
    },
    {
      "cell_type": "code",
      "metadata": {
        "id": "aEfMt84Ix8rH",
        "colab_type": "code",
        "colab": {}
      },
      "source": [
        "model = HiddenMarkovModel()"
      ],
      "execution_count": 0,
      "outputs": []
    },
    {
      "cell_type": "code",
      "metadata": {
        "id": "xQ3GNU9LxY1p",
        "colab_type": "code",
        "colab": {}
      },
      "source": [
        "model.add_states(s1, s2, s3, s4, s5)"
      ],
      "execution_count": 0,
      "outputs": []
    },
    {
      "cell_type": "code",
      "metadata": {
        "id": "IVayaV43y4kf",
        "colab_type": "code",
        "colab": {}
      },
      "source": [
        "states = [s1, s2, s3, s4, s5]\n",
        "\n",
        "\n",
        "for i in range(0,5):\n",
        "  model.add_transition(model.start, states[i], 0.2)\n",
        "\n",
        "for idx, val in enumerate(states):\n",
        "  for i in range(0,5):\n",
        "    model.add_transition(states[idx], states[i], 0.2)\n",
        "    \n",
        "for i in range(0,5):\n",
        "  model.add_transition(states[i], model.end, 0.2)"
      ],
      "execution_count": 0,
      "outputs": []
    },
    {
      "cell_type": "code",
      "metadata": {
        "id": "xB8GOVwnxb02",
        "colab_type": "code",
        "colab": {}
      },
      "source": [
        "model.bake()"
      ],
      "execution_count": 0,
      "outputs": []
    },
    {
      "cell_type": "code",
      "metadata": {
        "id": "z5vnkvDnv8Gl",
        "colab_type": "code",
        "outputId": "d22c5cb2-2d23-4e75-e794-51f3579e6b9e",
        "colab": {
          "base_uri": "https://localhost:8080/",
          "height": 255
        }
      },
      "source": [
        "model.dense_transition_matrix()"
      ],
      "execution_count": 30,
      "outputs": [
        {
          "output_type": "execute_result",
          "data": {
            "text/plain": [
              "array([[0.16666667, 0.16666667, 0.16666667, 0.16666667, 0.16666667,\n",
              "        0.        , 0.16666667],\n",
              "       [0.16666667, 0.16666667, 0.16666667, 0.16666667, 0.16666667,\n",
              "        0.        , 0.16666667],\n",
              "       [0.16666667, 0.16666667, 0.16666667, 0.16666667, 0.16666667,\n",
              "        0.        , 0.16666667],\n",
              "       [0.16666667, 0.16666667, 0.16666667, 0.16666667, 0.16666667,\n",
              "        0.        , 0.16666667],\n",
              "       [0.16666667, 0.16666667, 0.16666667, 0.16666667, 0.16666667,\n",
              "        0.        , 0.16666667],\n",
              "       [0.2       , 0.2       , 0.2       , 0.2       , 0.2       ,\n",
              "        0.        , 0.        ],\n",
              "       [0.        , 0.        , 0.        , 0.        , 0.        ,\n",
              "        0.        , 0.        ]])"
            ]
          },
          "metadata": {
            "tags": []
          },
          "execution_count": 30
        }
      ]
    },
    {
      "cell_type": "code",
      "metadata": {
        "id": "fgrZd_NRbAk4",
        "colab_type": "code",
        "outputId": "38967f2d-7bcd-4923-f023-7e36b354c13e",
        "colab": {
          "base_uri": "https://localhost:8080/",
          "height": 34
        }
      },
      "source": [
        "model.predict(dx.iloc[1])\n"
      ],
      "execution_count": 31,
      "outputs": [
        {
          "output_type": "execute_result",
          "data": {
            "text/plain": [
              "[0, 3, 3, 3, 3, 3, 3, 3, 3, 3, 3, 3, 3, 3, 3]"
            ]
          },
          "metadata": {
            "tags": []
          },
          "execution_count": 31
        }
      ]
    },
    {
      "cell_type": "code",
      "metadata": {
        "id": "DKKcfnW1AsNb",
        "colab_type": "code",
        "colab": {}
      },
      "source": [
        "b = numpy.array(dx)"
      ],
      "execution_count": 0,
      "outputs": []
    },
    {
      "cell_type": "code",
      "metadata": {
        "id": "-QT8TYOv19gx",
        "colab_type": "code",
        "colab": {}
      },
      "source": [
        "model.fit(b, verbose = True)"
      ],
      "execution_count": 0,
      "outputs": []
    },
    {
      "cell_type": "code",
      "metadata": {
        "id": "3cdKZelN21GE",
        "colab_type": "code",
        "colab": {}
      },
      "source": [
        "model.dense_transition_matrix()"
      ],
      "execution_count": 0,
      "outputs": []
    },
    {
      "cell_type": "code",
      "metadata": {
        "id": "D8IQ0kpZ3O79",
        "colab_type": "code",
        "colab": {}
      },
      "source": [
        "model.predict(dx.iloc[1])"
      ],
      "execution_count": 0,
      "outputs": []
    },
    {
      "cell_type": "code",
      "metadata": {
        "id": "MVBgZl0AByYV",
        "colab_type": "code",
        "colab": {}
      },
      "source": [
        "model_dx = model.to_json()\n"
      ],
      "execution_count": 0,
      "outputs": []
    },
    {
      "cell_type": "markdown",
      "metadata": {
        "id": "MoWg1fukGDjT",
        "colab_type": "text"
      },
      "source": [
        "## DataSet Mean"
      ]
    },
    {
      "cell_type": "code",
      "metadata": {
        "colab_type": "code",
        "id": "BgEPRgbMJxTj",
        "colab": {}
      },
      "source": [
        "shape = dx_mean.shape\n",
        "cov = numpy.eye(shape[1])\n",
        "kmodel = KMeans(5).fit(dx_mean)\n",
        "mu = kmodel.cluster_centers_"
      ],
      "execution_count": 0,
      "outputs": []
    },
    {
      "cell_type": "code",
      "metadata": {
        "colab_type": "code",
        "id": "9FQNEX3jJxTm",
        "colab": {}
      },
      "source": [
        "s1 = State(MultivariateGaussianDistribution(mu[0], cov))\n",
        "s2 = State(MultivariateGaussianDistribution(mu[1], cov))\n",
        "s3 = State(MultivariateGaussianDistribution(mu[2], cov))\n",
        "s4 = State(MultivariateGaussianDistribution(mu[3], cov))\n",
        "s5 = State(MultivariateGaussianDistribution(mu[4], cov))"
      ],
      "execution_count": 0,
      "outputs": []
    },
    {
      "cell_type": "code",
      "metadata": {
        "colab_type": "code",
        "id": "je_KMppHJxTo",
        "colab": {}
      },
      "source": [
        "mx_mean = HiddenMarkovModel()"
      ],
      "execution_count": 0,
      "outputs": []
    },
    {
      "cell_type": "code",
      "metadata": {
        "colab_type": "code",
        "id": "x_0mrqPOJxTq",
        "colab": {}
      },
      "source": [
        "mx_mean.add_states(s1, s2, s3, s4, s5)"
      ],
      "execution_count": 0,
      "outputs": []
    },
    {
      "cell_type": "code",
      "metadata": {
        "colab_type": "code",
        "id": "PKXYaeGMJxTt",
        "colab": {}
      },
      "source": [
        "states = [s1, s2, s3, s4, s5]\n",
        "\n",
        "\n",
        "for i in range(0,5):\n",
        "  mx_mean.add_transition(mx_mean.start, states[i], 0.2)\n",
        "\n",
        "for idx, val in enumerate(states):\n",
        "  for i in range(0,5):\n",
        "    mx_mean.add_transition(states[idx], states[i], 0.2)\n",
        "    \n",
        "for i in range(0,5):\n",
        "  mx_mean.add_transition(states[i], mx_mean.end, 0.2)"
      ],
      "execution_count": 0,
      "outputs": []
    },
    {
      "cell_type": "code",
      "metadata": {
        "colab_type": "code",
        "id": "CukLm-VLJxTu",
        "colab": {}
      },
      "source": [
        "mx_mean.bake()"
      ],
      "execution_count": 0,
      "outputs": []
    },
    {
      "cell_type": "code",
      "metadata": {
        "colab_type": "code",
        "id": "DjeeVuNcJxTv",
        "colab": {}
      },
      "source": [
        "mx_mean.dense_transition_matrix()"
      ],
      "execution_count": 0,
      "outputs": []
    },
    {
      "cell_type": "code",
      "metadata": {
        "colab_type": "code",
        "id": "HhLmtiMgJxTz",
        "colab": {}
      },
      "source": [
        "mx_mean.predict(dx.iloc[1])\n"
      ],
      "execution_count": 0,
      "outputs": []
    },
    {
      "cell_type": "code",
      "metadata": {
        "colab_type": "code",
        "id": "9Bb_ylTiJxT1",
        "colab": {}
      },
      "source": [
        "b = numpy.array(dx_mean)"
      ],
      "execution_count": 0,
      "outputs": []
    },
    {
      "cell_type": "code",
      "metadata": {
        "colab_type": "code",
        "id": "nAi_NAGiJxT2",
        "colab": {}
      },
      "source": [
        "mx_mean.fit(b, verbose = False)"
      ],
      "execution_count": 0,
      "outputs": []
    },
    {
      "cell_type": "code",
      "metadata": {
        "colab_type": "code",
        "id": "UbVD-aFKJxT3",
        "colab": {}
      },
      "source": [
        "mx_mean.dense_transition_matrix()"
      ],
      "execution_count": 0,
      "outputs": []
    },
    {
      "cell_type": "code",
      "metadata": {
        "colab_type": "code",
        "id": "KUt3XM3WJxT5",
        "colab": {}
      },
      "source": [
        "mx_mean.predict(dx_mean.iloc[1])"
      ],
      "execution_count": 0,
      "outputs": []
    },
    {
      "cell_type": "code",
      "metadata": {
        "colab_type": "code",
        "id": "vH5LBmOYJxT8",
        "colab": {}
      },
      "source": [
        "mx_mean = mx_mean.to_json()\n"
      ],
      "execution_count": 0,
      "outputs": []
    },
    {
      "cell_type": "markdown",
      "metadata": {
        "id": "bRq12xW5Gn3z",
        "colab_type": "text"
      },
      "source": [
        "## DataSet Median"
      ]
    },
    {
      "cell_type": "code",
      "metadata": {
        "colab_type": "code",
        "id": "nV_hFpXoKBm0",
        "colab": {}
      },
      "source": [
        "shape = dx_median.shape\n",
        "cov = numpy.eye(shape[1])\n",
        "kmodel = KMeans(5).fit(dx_median)\n",
        "mu = kmodel.cluster_centers_"
      ],
      "execution_count": 0,
      "outputs": []
    },
    {
      "cell_type": "code",
      "metadata": {
        "colab_type": "code",
        "id": "iD9FHF4MKBm1",
        "colab": {}
      },
      "source": [
        "s1 = State(MultivariateGaussianDistribution(mu[0], cov))\n",
        "s2 = State(MultivariateGaussianDistribution(mu[1], cov))\n",
        "s3 = State(MultivariateGaussianDistribution(mu[2], cov))\n",
        "s4 = State(MultivariateGaussianDistribution(mu[3], cov))\n",
        "s5 = State(MultivariateGaussianDistribution(mu[4], cov))"
      ],
      "execution_count": 0,
      "outputs": []
    },
    {
      "cell_type": "code",
      "metadata": {
        "colab_type": "code",
        "id": "hv0zbSm4KBm2",
        "colab": {}
      },
      "source": [
        "mx_median = HiddenMarkovModel()"
      ],
      "execution_count": 0,
      "outputs": []
    },
    {
      "cell_type": "code",
      "metadata": {
        "colab_type": "code",
        "id": "p1YE16BTKBm4",
        "colab": {}
      },
      "source": [
        "mx_median.add_states(s1, s2, s3, s4, s5)"
      ],
      "execution_count": 0,
      "outputs": []
    },
    {
      "cell_type": "code",
      "metadata": {
        "colab_type": "code",
        "id": "8A-jhZwoKBm5",
        "colab": {}
      },
      "source": [
        "states = [s1, s2, s3, s4, s5]\n",
        "\n",
        "\n",
        "for i in range(0,5):\n",
        "  mx_mean.add_transition(model.start, states[i], 0.2)\n",
        "\n",
        "for idx, val in enumerate(states):\n",
        "  for i in range(0,5):\n",
        "    mx_mean.add_transition(states[idx], states[i], 0.2)\n",
        "    \n",
        "for i in range(0,5):\n",
        "  mx_mean.add_transition(states[i], model.end, 0.2)"
      ],
      "execution_count": 0,
      "outputs": []
    },
    {
      "cell_type": "code",
      "metadata": {
        "colab_type": "code",
        "id": "tI1PsR2LKBm7",
        "colab": {}
      },
      "source": [
        "mx_median.bake()"
      ],
      "execution_count": 0,
      "outputs": []
    },
    {
      "cell_type": "code",
      "metadata": {
        "colab_type": "code",
        "id": "Ia-MnfdYKBnB",
        "colab": {}
      },
      "source": [
        "mx_median.dense_transition_matrix()"
      ],
      "execution_count": 0,
      "outputs": []
    },
    {
      "cell_type": "code",
      "metadata": {
        "colab_type": "code",
        "id": "AmGNSoDNKBnF",
        "colab": {}
      },
      "source": [
        "mx_median.predict(dx_median.iloc[1])\n"
      ],
      "execution_count": 0,
      "outputs": []
    },
    {
      "cell_type": "code",
      "metadata": {
        "colab_type": "code",
        "id": "tUcyOufGKBnH",
        "colab": {}
      },
      "source": [
        "b = numpy.array(dx_median)"
      ],
      "execution_count": 0,
      "outputs": []
    },
    {
      "cell_type": "code",
      "metadata": {
        "colab_type": "code",
        "id": "6VrfxyB3KBnJ",
        "colab": {}
      },
      "source": [
        "mx_median.fit(b, verbose = False)"
      ],
      "execution_count": 0,
      "outputs": []
    },
    {
      "cell_type": "code",
      "metadata": {
        "colab_type": "code",
        "id": "xxhfgaV1KBnN",
        "colab": {}
      },
      "source": [
        "mx_median.dense_transition_matrix()"
      ],
      "execution_count": 0,
      "outputs": []
    },
    {
      "cell_type": "code",
      "metadata": {
        "colab_type": "code",
        "id": "-yeexgQ0KBnQ",
        "colab": {}
      },
      "source": [
        "mx_median.predict(dx_median.iloc[1])"
      ],
      "execution_count": 0,
      "outputs": []
    },
    {
      "cell_type": "code",
      "metadata": {
        "colab_type": "code",
        "id": "MXEY6jwSKBnS",
        "colab": {}
      },
      "source": [
        "mx_median = mx_median.to_json()\n"
      ],
      "execution_count": 0,
      "outputs": []
    },
    {
      "cell_type": "markdown",
      "metadata": {
        "id": "OpAFAfrnIX18",
        "colab_type": "text"
      },
      "source": [
        "## DataSet Zeros"
      ]
    },
    {
      "cell_type": "code",
      "metadata": {
        "colab_type": "code",
        "id": "NRtcA1n3Kl_8",
        "colab": {}
      },
      "source": [
        "shape = dx_zeros.shape\n",
        "cov = numpy.eye(shape[1])\n",
        "kmodel = KMeans(5).fit(dx_zeros)\n",
        "mu = kmodel.cluster_centers_"
      ],
      "execution_count": 0,
      "outputs": []
    },
    {
      "cell_type": "code",
      "metadata": {
        "colab_type": "code",
        "id": "a5DxMZ4iKl__",
        "colab": {}
      },
      "source": [
        "s1 = State(MultivariateGaussianDistribution(mu[0], cov))\n",
        "s2 = State(MultivariateGaussianDistribution(mu[1], cov))\n",
        "s3 = State(MultivariateGaussianDistribution(mu[2], cov))\n",
        "s4 = State(MultivariateGaussianDistribution(mu[3], cov))\n",
        "s5 = State(MultivariateGaussianDistribution(mu[4], cov))"
      ],
      "execution_count": 0,
      "outputs": []
    },
    {
      "cell_type": "code",
      "metadata": {
        "colab_type": "code",
        "id": "6xOdLQbjKmAB",
        "colab": {}
      },
      "source": [
        "mx_zeros = HiddenMarkovModel()"
      ],
      "execution_count": 0,
      "outputs": []
    },
    {
      "cell_type": "code",
      "metadata": {
        "colab_type": "code",
        "id": "SdDz4DwQKmAC",
        "colab": {}
      },
      "source": [
        "mx_zeros.add_states(s1, s2, s3, s4, s5)"
      ],
      "execution_count": 0,
      "outputs": []
    },
    {
      "cell_type": "code",
      "metadata": {
        "colab_type": "code",
        "id": "MBEtmW0hKmAE",
        "colab": {}
      },
      "source": [
        "states = [s1, s2, s3, s4, s5]\n",
        "\n",
        "\n",
        "for i in range(0,5):\n",
        "  mx_zeros.add_transition(mx_zeros.start, states[i], 0.2)\n",
        "\n",
        "for idx, val in enumerate(states):\n",
        "  for i in range(0,5):\n",
        "    mx_zeros.add_transition(states[idx], states[i], 0.2)\n",
        "    \n",
        "for i in range(0,5):\n",
        "  mx_zeros.add_transition(states[i], mx_zeros.end, 0.2)"
      ],
      "execution_count": 0,
      "outputs": []
    },
    {
      "cell_type": "code",
      "metadata": {
        "colab_type": "code",
        "id": "kNW_5avcKmAG",
        "colab": {}
      },
      "source": [
        "mx_zeros.bake()"
      ],
      "execution_count": 0,
      "outputs": []
    },
    {
      "cell_type": "code",
      "metadata": {
        "colab_type": "code",
        "id": "jqKx9D2xKmAH",
        "colab": {}
      },
      "source": [
        "mx_zeros.dense_transition_matrix()"
      ],
      "execution_count": 0,
      "outputs": []
    },
    {
      "cell_type": "code",
      "metadata": {
        "colab_type": "code",
        "id": "5GRZh5WtKmAK",
        "colab": {}
      },
      "source": [
        "mx_zeros.predict(dx_zeros.iloc[1])\n"
      ],
      "execution_count": 0,
      "outputs": []
    },
    {
      "cell_type": "code",
      "metadata": {
        "colab_type": "code",
        "id": "eOHG0B8YKmAN",
        "colab": {}
      },
      "source": [
        "b = numpy.array(dx_zeros)"
      ],
      "execution_count": 0,
      "outputs": []
    },
    {
      "cell_type": "code",
      "metadata": {
        "colab_type": "code",
        "id": "iGw0X0vmKmAP",
        "colab": {}
      },
      "source": [
        "mx_zeros.fit(b, verbose = False)"
      ],
      "execution_count": 0,
      "outputs": []
    },
    {
      "cell_type": "code",
      "metadata": {
        "colab_type": "code",
        "id": "FKH5eqmHKmAR",
        "colab": {}
      },
      "source": [
        "mx_zeros.dense_transition_matrix()"
      ],
      "execution_count": 0,
      "outputs": []
    },
    {
      "cell_type": "code",
      "metadata": {
        "colab_type": "code",
        "id": "pvVMQF_iKmAU",
        "colab": {}
      },
      "source": [
        "mx_zeros.predict(dx_zeros.iloc[1])"
      ],
      "execution_count": 0,
      "outputs": []
    },
    {
      "cell_type": "code",
      "metadata": {
        "colab_type": "code",
        "id": "Fiv0ogg8KmAW",
        "colab": {}
      },
      "source": [
        "mx_zeros = mx_zeros.to_json()\n"
      ],
      "execution_count": 0,
      "outputs": []
    },
    {
      "cell_type": "markdown",
      "metadata": {
        "id": "zg1K9D4SIkvk",
        "colab_type": "text"
      },
      "source": [
        "## DataSet Max"
      ]
    },
    {
      "cell_type": "code",
      "metadata": {
        "colab_type": "code",
        "id": "ie9yxr_2Km2M",
        "colab": {}
      },
      "source": [
        "shape = dx_max.shape\n",
        "cov = numpy.eye(shape[1])\n",
        "kmodel = KMeans(5).fit(dx_max)\n",
        "mu = kmodel.cluster_centers_"
      ],
      "execution_count": 0,
      "outputs": []
    },
    {
      "cell_type": "code",
      "metadata": {
        "colab_type": "code",
        "id": "_abFdx8bKm2O",
        "colab": {}
      },
      "source": [
        "s1 = State(MultivariateGaussianDistribution(mu[0], cov))\n",
        "s2 = State(MultivariateGaussianDistribution(mu[1], cov))\n",
        "s3 = State(MultivariateGaussianDistribution(mu[2], cov))\n",
        "s4 = State(MultivariateGaussianDistribution(mu[3], cov))\n",
        "s5 = State(MultivariateGaussianDistribution(mu[4], cov))"
      ],
      "execution_count": 0,
      "outputs": []
    },
    {
      "cell_type": "code",
      "metadata": {
        "colab_type": "code",
        "id": "09PahmRiKm2P",
        "colab": {}
      },
      "source": [
        "mx_max = HiddenMarkovModel()"
      ],
      "execution_count": 0,
      "outputs": []
    },
    {
      "cell_type": "code",
      "metadata": {
        "colab_type": "code",
        "id": "z7uGKZGPKm2Q",
        "colab": {}
      },
      "source": [
        "mx_max.add_states(s1, s2, s3, s4, s5)"
      ],
      "execution_count": 0,
      "outputs": []
    },
    {
      "cell_type": "code",
      "metadata": {
        "colab_type": "code",
        "id": "cp2k3G2yKm2S",
        "colab": {}
      },
      "source": [
        "states = [s1, s2, s3, s4, s5]\n",
        "\n",
        "\n",
        "for i in range(0,5):\n",
        "  mx_max.add_transition(mx_max.start, states[i], 0.2)\n",
        "\n",
        "for idx, val in enumerate(states):\n",
        "  for i in range(0,5):\n",
        "    mx_max.add_transition(states[idx], states[i], 0.2)\n",
        "    \n",
        "for i in range(0,5):\n",
        "  mx_max.add_transition(states[i], model.mx_max, 0.2)"
      ],
      "execution_count": 0,
      "outputs": []
    },
    {
      "cell_type": "code",
      "metadata": {
        "colab_type": "code",
        "id": "QIiXt4D0Km2U",
        "colab": {}
      },
      "source": [
        "mx_max.bake()"
      ],
      "execution_count": 0,
      "outputs": []
    },
    {
      "cell_type": "code",
      "metadata": {
        "colab_type": "code",
        "id": "IVr_IL0aKm2W",
        "colab": {}
      },
      "source": [
        "mx_max.dense_transition_matrix()"
      ],
      "execution_count": 0,
      "outputs": []
    },
    {
      "cell_type": "code",
      "metadata": {
        "colab_type": "code",
        "id": "YoewRs8VKm2Z",
        "colab": {}
      },
      "source": [
        "mx_max.predict(dx_median.iloc[1])\n"
      ],
      "execution_count": 0,
      "outputs": []
    },
    {
      "cell_type": "code",
      "metadata": {
        "colab_type": "code",
        "id": "0Ys7_dRZKm2c",
        "colab": {}
      },
      "source": [
        "b = numpy.array(dx_max)"
      ],
      "execution_count": 0,
      "outputs": []
    },
    {
      "cell_type": "code",
      "metadata": {
        "colab_type": "code",
        "id": "Q641VFQeKm2d",
        "colab": {}
      },
      "source": [
        "dx_max.fit(b, verbose = False)"
      ],
      "execution_count": 0,
      "outputs": []
    },
    {
      "cell_type": "code",
      "metadata": {
        "colab_type": "code",
        "id": "Kh4Ilw2bKm2g",
        "colab": {}
      },
      "source": [
        "mx_max.dense_transition_matrix()"
      ],
      "execution_count": 0,
      "outputs": []
    },
    {
      "cell_type": "code",
      "metadata": {
        "colab_type": "code",
        "id": "ZJAAA2pZKm2i",
        "colab": {}
      },
      "source": [
        "mx_max.predict(dx_max.iloc[1])"
      ],
      "execution_count": 0,
      "outputs": []
    },
    {
      "cell_type": "code",
      "metadata": {
        "colab_type": "code",
        "id": "MUbQTaiLKm2m",
        "colab": {}
      },
      "source": [
        "mx_max = mx_max.to_json()\n"
      ],
      "execution_count": 0,
      "outputs": []
    },
    {
      "cell_type": "markdown",
      "metadata": {
        "id": "dQbEMz5sInRz",
        "colab_type": "text"
      },
      "source": [
        "\n",
        "## DataSet Min"
      ]
    },
    {
      "cell_type": "code",
      "metadata": {
        "colab_type": "code",
        "id": "F5BcB-kHKnZM",
        "colab": {}
      },
      "source": [
        "shape = dx_min.shape\n",
        "cov = numpy.eye(shape[1])\n",
        "kmodel = KMeans(5).fit(dx_min)\n",
        "mu = kmodel.cluster_centers_"
      ],
      "execution_count": 0,
      "outputs": []
    },
    {
      "cell_type": "code",
      "metadata": {
        "colab_type": "code",
        "id": "e64hQygRKnZN",
        "colab": {}
      },
      "source": [
        "s1 = State(MultivariateGaussianDistribution(mu[0], cov))\n",
        "s2 = State(MultivariateGaussianDistribution(mu[1], cov))\n",
        "s3 = State(MultivariateGaussianDistribution(mu[2], cov))\n",
        "s4 = State(MultivariateGaussianDistribution(mu[3], cov))\n",
        "s5 = State(MultivariateGaussianDistribution(mu[4], cov))"
      ],
      "execution_count": 0,
      "outputs": []
    },
    {
      "cell_type": "code",
      "metadata": {
        "colab_type": "code",
        "id": "6AftFwGIKnZO",
        "colab": {}
      },
      "source": [
        "mx_min = HiddenMarkovModel()"
      ],
      "execution_count": 0,
      "outputs": []
    },
    {
      "cell_type": "code",
      "metadata": {
        "colab_type": "code",
        "id": "BuxRW9evKnZP",
        "colab": {}
      },
      "source": [
        "mx_min.add_states(s1, s2, s3, s4, s5)"
      ],
      "execution_count": 0,
      "outputs": []
    },
    {
      "cell_type": "code",
      "metadata": {
        "colab_type": "code",
        "id": "wNSDNwAyKnZQ",
        "colab": {}
      },
      "source": [
        "states = [s1, s2, s3, s4, s5]\n",
        "\n",
        "\n",
        "for i in range(0,5):\n",
        "  mx_mean.add_transition(model.start, states[i], 0.2)\n",
        "\n",
        "for idx, val in enumerate(states):\n",
        "  for i in range(0,5):\n",
        "    mx_mean.add_transition(states[idx], states[i], 0.2)\n",
        "    \n",
        "for i in range(0,5):\n",
        "  mx_mean.add_transition(states[i], model.end, 0.2)"
      ],
      "execution_count": 0,
      "outputs": []
    },
    {
      "cell_type": "code",
      "metadata": {
        "colab_type": "code",
        "id": "HpBez22QKnZS",
        "colab": {}
      },
      "source": [
        "mx_min.bake()"
      ],
      "execution_count": 0,
      "outputs": []
    },
    {
      "cell_type": "code",
      "metadata": {
        "colab_type": "code",
        "id": "VsFae7uuKnZT",
        "colab": {}
      },
      "source": [
        "mx_min.dense_transition_matrix()"
      ],
      "execution_count": 0,
      "outputs": []
    },
    {
      "cell_type": "code",
      "metadata": {
        "colab_type": "code",
        "id": "mDAGwSktKnZV",
        "colab": {}
      },
      "source": [
        "mx_min.predict(dx_median.iloc[1])\n"
      ],
      "execution_count": 0,
      "outputs": []
    },
    {
      "cell_type": "code",
      "metadata": {
        "colab_type": "code",
        "id": "5pnQy7lAKnZY",
        "colab": {}
      },
      "source": [
        "b = numpy.array(dx_min)"
      ],
      "execution_count": 0,
      "outputs": []
    },
    {
      "cell_type": "code",
      "metadata": {
        "colab_type": "code",
        "id": "DBXdUS0MKnZZ",
        "colab": {}
      },
      "source": [
        "mx_min.fit(b, verbose = False)"
      ],
      "execution_count": 0,
      "outputs": []
    },
    {
      "cell_type": "code",
      "metadata": {
        "colab_type": "code",
        "id": "lxNNYD4eKnZb",
        "colab": {}
      },
      "source": [
        "mx_min.dense_transition_matrix()"
      ],
      "execution_count": 0,
      "outputs": []
    },
    {
      "cell_type": "code",
      "metadata": {
        "colab_type": "code",
        "id": "gHANu6ScKnZc",
        "colab": {}
      },
      "source": [
        "mx_min.predict(dx_min.iloc[1])"
      ],
      "execution_count": 0,
      "outputs": []
    },
    {
      "cell_type": "code",
      "metadata": {
        "colab_type": "code",
        "id": "FDafZZvuKnZd",
        "colab": {}
      },
      "source": [
        "mx_min = mx_min.to_json()\n"
      ],
      "execution_count": 0,
      "outputs": []
    },
    {
      "cell_type": "markdown",
      "metadata": {
        "id": "BvaWjRh6JW5z",
        "colab_type": "text"
      },
      "source": [
        "## Gráficos"
      ]
    },
    {
      "cell_type": "code",
      "metadata": {
        "id": "B4ZYXCohJV6V",
        "colab_type": "code",
        "colab": {}
      },
      "source": [
        "plt.plot(dx.T,c='k',lw=0.005) #the data\n",
        "for i in range(0, 5): #the model means\n",
        "    plt.scatter(model.states[i].distribution.mu[0],\n",
        "                model.states[i].distribution.mu[4],\n",
        "                c='r',\n",
        "                label=\"HMM clusters upon convergence\")\n",
        "    plt.scatter(kmodel.cluster_centers_[i][0],\n",
        "                kmodel.cluster_centers_[i][shape[1]-1],\n",
        "                c='g',\n",
        "                label=\"k_means initial clusters\")\n"
      ],
      "execution_count": 0,
      "outputs": []
    },
    {
      "cell_type": "code",
      "metadata": {
        "id": "wKw2WdKaMhvj",
        "colab_type": "code",
        "colab": {}
      },
      "source": [
        "plt.plot(dx_mean.T,c='k',lw=0.005) #the data\n",
        "for i in range(0, 5): #the model means\n",
        "    plt.scatter(model.states[i].distribution.mu[0],\n",
        "                model.states[i].distribution.mu[4],\n",
        "                c='r',\n",
        "                label=\"HMM clusters upon convergence\")\n",
        "    plt.scatter(kmodel.cluster_centers_[i][0],\n",
        "                kmodel.cluster_centers_[i][shape[1]-1],\n",
        "                c='g',\n",
        "                label=\"k_means initial clusters\")"
      ],
      "execution_count": 0,
      "outputs": []
    },
    {
      "cell_type": "code",
      "metadata": {
        "id": "Gpr9wtmUMiJj",
        "colab_type": "code",
        "colab": {}
      },
      "source": [
        "plt.plot(dx_median.T,c='k',lw=0.005) #the data\n",
        "for i in range(0, 5): #the model means\n",
        "    plt.scatter(model.states[i].distribution.mu[0],\n",
        "                model.states[i].distribution.mu[4],\n",
        "                c='r',\n",
        "                label=\"HMM clusters upon convergence\")\n",
        "    plt.scatter(kmodel.cluster_centers_[i][0],\n",
        "                kmodel.cluster_centers_[i][shape[1]-1],\n",
        "                c='g',\n",
        "                label=\"k_means initial clusters\")"
      ],
      "execution_count": 0,
      "outputs": []
    },
    {
      "cell_type": "code",
      "metadata": {
        "id": "7JbMWKZ-MiZL",
        "colab_type": "code",
        "colab": {}
      },
      "source": [
        "plt.plot(dx_zeros.T,c='k',lw=0.005) #the data\n",
        "for i in range(0, 5): #the model means\n",
        "    plt.scatter(model.states[i].distribution.mu[0],\n",
        "                model.states[i].distribution.mu[4],\n",
        "                c='r',\n",
        "                label=\"HMM clusters upon convergence\")\n",
        "    plt.scatter(kmodel.cluster_centers_[i][0],\n",
        "                kmodel.cluster_centers_[i][shape[1]-1],\n",
        "                c='g',\n",
        "                label=\"k_means initial clusters\")"
      ],
      "execution_count": 0,
      "outputs": []
    },
    {
      "cell_type": "code",
      "metadata": {
        "id": "PRKz7Z4iMijq",
        "colab_type": "code",
        "colab": {}
      },
      "source": [
        "plt.plot(dx_max.T,c='k',lw=0.005) #the data\n",
        "for i in range(0, 5): #the model means\n",
        "    plt.scatter(model.states[i].distribution.mu[0],\n",
        "                model.states[i].distribution.mu[4],\n",
        "                c='r',\n",
        "                label=\"HMM clusters upon convergence\")\n",
        "    plt.scatter(kmodel.cluster_centers_[i][0],\n",
        "                kmodel.cluster_centers_[i][shape[1]-1],\n",
        "                c='g',\n",
        "                label=\"k_means initial clusters\")"
      ],
      "execution_count": 0,
      "outputs": []
    },
    {
      "cell_type": "code",
      "metadata": {
        "id": "lxsvFeMlMovr",
        "colab_type": "code",
        "colab": {}
      },
      "source": [
        "plt.plot(dx_min.T,c='k',lw=0.005) #the data\n",
        "for i in range(0, 5): #the model means\n",
        "    plt.scatter(model.states[i].distribution.mu[0],\n",
        "                model.states[i].distribution.mu[4],\n",
        "                c='r',\n",
        "                label=\"HMM clusters upon convergence\")\n",
        "    plt.scatter(kmodel.cluster_centers_[i][0],\n",
        "                kmodel.cluster_centers_[i][shape[1]-1],\n",
        "                c='g',\n",
        "                label=\"k_means initial clusters\")"
      ],
      "execution_count": 0,
      "outputs": []
    },
    {
      "cell_type": "markdown",
      "metadata": {
        "id": "LcXiOvcEDeUa",
        "colab_type": "text"
      },
      "source": [
        "# Treinos Y"
      ]
    },
    {
      "cell_type": "markdown",
      "metadata": {
        "id": "Y1zQ8TTGDkU7",
        "colab_type": "text"
      },
      "source": [
        "# Treinos Z"
      ]
    }
  ]
}