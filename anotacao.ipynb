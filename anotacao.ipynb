{
  "nbformat": 4,
  "nbformat_minor": 0,
  "metadata": {
    "colab": {
      "name": "anotacao.ipynb",
      "version": "0.3.2",
      "provenance": [],
      "include_colab_link": true
    },
    "kernelspec": {
      "name": "python3",
      "display_name": "Python 3"
    }
  },
  "cells": [
    {
      "cell_type": "markdown",
      "metadata": {
        "id": "view-in-github",
        "colab_type": "text"
      },
      "source": [
        "<a href=\"https://colab.research.google.com/github/vanessabrolim/comfort_analysis/blob/master/anotacao.ipynb\" target=\"_parent\"><img src=\"https://colab.research.google.com/assets/colab-badge.svg\" alt=\"Open In Colab\"/></a>"
      ]
    },
    {
      "metadata": {
        "id": "JdggA_Sljt_a",
        "colab_type": "code",
        "outputId": "d0b06106-da3b-4e3c-e896-b89ce92ff580",
        "colab": {
          "base_uri": "https://localhost:8080/",
          "height": 122
        }
      },
      "cell_type": "code",
      "source": [
        "import pandas as pd\n",
        "import matplotlib.pyplot as plt\n",
        "import numpy as np\n",
        "import datetime as dt\n",
        "from scipy import stats\n",
        "from geopy.distance import vincenty\n",
        "from google.colab import drive\n",
        "drive.mount('/content/drive',  force_remount=True)"
      ],
      "execution_count": 1,
      "outputs": [
        {
          "output_type": "stream",
          "text": [
            "Go to this URL in a browser: https://accounts.google.com/o/oauth2/auth?client_id=947318989803-6bn6qk8qdgf4n4g3pfee6491hc0brc4i.apps.googleusercontent.com&redirect_uri=urn%3Aietf%3Awg%3Aoauth%3A2.0%3Aoob&scope=email%20https%3A%2F%2Fwww.googleapis.com%2Fauth%2Fdocs.test%20https%3A%2F%2Fwww.googleapis.com%2Fauth%2Fdrive%20https%3A%2F%2Fwww.googleapis.com%2Fauth%2Fdrive.photos.readonly%20https%3A%2F%2Fwww.googleapis.com%2Fauth%2Fpeopleapi.readonly&response_type=code\n",
            "\n",
            "Enter your authorization code:\n",
            "··········\n",
            "Mounted at /content/drive\n"
          ],
          "name": "stdout"
        }
      ]
    },
    {
      "metadata": {
        "id": "U-S4NF0tjx_G",
        "colab_type": "code",
        "colab": {}
      },
      "cell_type": "code",
      "source": [
        "df_q = pd.read_pickle('drive/My Drive/Udesc/questionarios.pkl')\n",
        "df = pd.read_pickle('drive/My Drive/Udesc/df_valid.pkl')"
      ],
      "execution_count": 0,
      "outputs": []
    },
    {
      "metadata": {
        "id": "BSEkp0MfkM_8",
        "colab_type": "code",
        "outputId": "00a6b7de-a93f-4cc2-d0e3-af8c428da37c",
        "colab": {
          "base_uri": "https://localhost:8080/",
          "height": 136
        }
      },
      "cell_type": "code",
      "source": [
        "df_q.dtypes"
      ],
      "execution_count": 3,
      "outputs": [
        {
          "output_type": "execute_result",
          "data": {
            "text/plain": [
              "Início    datetime64[ns]\n",
              "Fim       datetime64[ns]\n",
              "x                float64\n",
              "y                float64\n",
              "z                float64\n",
              "Geral            float64\n",
              "dtype: object"
            ]
          },
          "metadata": {
            "tags": []
          },
          "execution_count": 3
        }
      ]
    },
    {
      "metadata": {
        "id": "mVD97YK6PHGt",
        "colab_type": "code",
        "outputId": "2b065174-6d30-45f3-a79c-51e6833f0915",
        "colab": {
          "base_uri": "https://localhost:8080/",
          "height": 1105
        }
      },
      "cell_type": "code",
      "source": [
        "df_q.describe"
      ],
      "execution_count": 4,
      "outputs": [
        {
          "output_type": "execute_result",
          "data": {
            "text/plain": [
              "<bound method NDFrame.describe of                 Início                 Fim    x    y    z  Geral\n",
              "0  2017-09-13 08:47:00 2017-09-13 09:02:00  2.0  4.0  3.0    4.0\n",
              "1  2017-09-13 09:02:00 2017-09-13 09:16:00  2.0  4.0  4.0    4.0\n",
              "2  2017-09-13 11:15:00 2017-09-13 11:30:00  2.0  5.0  5.0    4.0\n",
              "3  2017-09-13 11:30:00 2017-09-13 11:35:00  2.0  4.0  4.0    4.0\n",
              "4  2017-09-13 11:35:00 2017-09-13 11:36:00  4.0  4.0  4.0    4.0\n",
              "5  2017-09-13 11:50:00 2017-09-13 12:05:00  2.0  3.0  3.0    4.0\n",
              "6  2017-09-13 12:10:00 2017-09-13 12:25:00  3.0  3.0  4.0    4.0\n",
              "7  2017-09-13 12:25:00 2017-09-13 12:30:00  3.0  2.0  3.0    3.0\n",
              "8  2017-09-14 09:10:00 2017-09-14 09:25:00  4.0  3.0  3.0    3.0\n",
              "9  2017-09-14 11:17:00 2017-09-14 11:32:00  3.0  5.0  5.0    4.0\n",
              "10 2017-09-14 11:32:00 2017-09-14 11:35:00  4.0  5.0  5.0    4.0\n",
              "11 2017-09-15 05:08:00 2017-09-15 05:23:00  4.0  4.0  4.0    3.0\n",
              "12 2017-09-15 19:40:00 2017-09-15 19:55:00  5.0  4.0  4.0    4.0\n",
              "13 2017-09-15 19:55:00 2017-09-15 20:10:00  5.0  5.0  5.0    5.0\n",
              "14 2017-09-15 20:10:00 2017-09-15 20:23:00  4.0  4.0  4.0    4.0\n",
              "15 2017-09-15 20:30:00 2017-09-15 20:45:00  4.0  4.0  4.0    4.0\n",
              "16 2017-09-15 20:45:00 2017-09-15 20:58:00  4.0  4.0  5.0    4.0\n",
              "17 2017-09-15 21:00:00 2017-09-15 21:15:00  4.0  4.0  5.0    4.0\n",
              "18 2017-09-15 21:15:00 2017-09-15 21:30:00  3.0  5.0  5.0    3.0\n",
              "19 2017-09-15 21:30:00 2017-09-15 21:40:00  4.0  4.0  4.0    4.0\n",
              "20 2017-09-15 21:45:00 2017-09-15 22:00:00  4.0  5.0  5.0    4.0\n",
              "21 2017-09-15 22:00:00 2017-09-15 22:03:00  3.0  5.0  5.0    4.0\n",
              "22 2017-09-15 22:05:00 2017-09-15 22:20:00  4.0  5.0  5.0    5.0\n",
              "23 2017-09-15 22:20:00 2017-09-15 22:30:00  4.0  5.0  5.0    4.0\n",
              "24 2017-09-15 22:36:00 2017-09-15 22:51:00  4.0  4.0  5.0    4.0\n",
              "25 2017-09-16 10:01:00 2017-09-16 10:16:00  3.0  4.0  4.0    4.0\n",
              "26 2017-09-16 10:57:00 2017-09-16 11:12:00  4.0  5.0  5.0    4.0\n",
              "27 2017-09-16 12:01:00 2017-09-16 12:16:00  3.0  4.0  4.0    3.0\n",
              "28 2017-09-16 16:06:00 2017-09-16 16:21:00  3.0  4.0  4.0    4.0\n",
              "29 2017-09-16 17:06:00 2017-09-16 17:21:00  3.0  3.0  4.0    3.0\n",
              "..                 ...                 ...  ...  ...  ...    ...\n",
              "42 2017-09-17 18:30:00 2017-09-17 18:45:00  4.0  4.0  4.0    4.0\n",
              "43 2017-09-17 22:47:00 2017-09-17 23:02:00  4.0  4.0  4.0    4.0\n",
              "44 2017-09-17 23:02:00 2017-09-17 23:16:00  4.0  4.0  4.0    4.0\n",
              "45 2017-09-17 23:20:00 2017-09-17 23:35:00  4.0  4.0  4.0    4.0\n",
              "46 2017-09-17 23:35:00 2017-09-17 23:45:00  4.0  4.0  4.0    4.0\n",
              "47 2017-09-17 23:45:00 2017-09-17 23:56:00  4.0  4.0  4.0    4.0\n",
              "48 2017-09-18 08:26:00 2017-09-18 08:41:00  5.0  5.0  5.0    5.0\n",
              "49 2017-09-18 08:41:00 2017-09-18 08:45:00  2.0  3.0  3.0    3.0\n",
              "50 2017-09-18 09:45:00 2017-09-18 10:00:00  2.0  2.0  3.0    3.0\n",
              "51 2017-09-18 10:15:00 2017-09-18 10:30:00  4.0  4.0  3.0    4.0\n",
              "52 2017-09-20 09:38:00 2017-09-20 09:53:00  4.0  4.0  4.0    4.0\n",
              "53 2017-09-20 10:00:00 2017-09-20 10:08:00  2.0  2.0  3.0    3.0\n",
              "54 2017-09-20 10:10:00 2017-09-20 10:21:00  3.0  4.0  3.0    4.0\n",
              "55 2017-09-22 08:55:00 2017-09-22 09:07:00  4.0  4.0  4.0    4.0\n",
              "56 2017-09-22 09:15:00 2017-09-22 09:31:00  2.0  3.0  3.0    5.0\n",
              "57 2017-09-22 09:42:00 2017-09-22 09:57:00  3.0  3.0  2.0    3.0\n",
              "58 2017-09-22 13:00:00 2017-09-22 13:16:00  3.0  3.0  4.0    3.0\n",
              "59 2017-09-22 13:16:00 2017-09-22 13:40:00  5.0  4.0  5.0    4.0\n",
              "60 2017-09-23 08:55:00 2017-09-23 09:10:00  4.0  4.0  4.0    4.0\n",
              "61 2017-09-23 09:16:00 2017-09-23 09:31:00  3.0  4.0  4.0    4.0\n",
              "62 2017-09-23 10:21:00 2017-09-23 10:36:00  2.0  3.0  4.0    3.0\n",
              "63 2017-09-23 10:36:00 2017-09-23 10:39:00  4.0  3.0  4.0    4.0\n",
              "64 2017-09-23 13:06:00 2017-09-23 13:21:00  3.0  4.0  4.0    3.0\n",
              "65 2017-09-23 14:06:00 2017-09-23 14:21:00  4.0  4.0  4.0    4.0\n",
              "66 2017-09-24 14:14:00 2017-09-24 14:29:00  3.0  4.0  4.0    4.0\n",
              "67 2017-09-24 14:34:00 2017-09-24 14:49:00  4.0  4.0  4.0    4.0\n",
              "68 2017-09-24 22:47:00 2017-09-24 23:02:00  4.0  4.0  4.0    4.0\n",
              "69 2017-09-24 23:02:00 2017-09-24 23:16:00  4.0  3.0  4.0    4.0\n",
              "70 2017-09-24 23:20:00 2017-09-24 23:35:00  1.0  1.0  2.0    2.0\n",
              "71 2017-09-24 23:35:00 2017-09-24 23:45:00  3.0  3.0  4.0    4.0\n",
              "\n",
              "[72 rows x 6 columns]>"
            ]
          },
          "metadata": {
            "tags": []
          },
          "execution_count": 4
        }
      ]
    },
    {
      "metadata": {
        "id": "KzBZxDp43MZN",
        "colab_type": "code",
        "outputId": "fb04d11b-26c7-46ac-f503-bb757ef93e7a",
        "colab": {
          "base_uri": "https://localhost:8080/",
          "height": 136
        }
      },
      "cell_type": "code",
      "source": [
        "df_q.groupby('x').Início.nunique()"
      ],
      "execution_count": 5,
      "outputs": [
        {
          "output_type": "execute_result",
          "data": {
            "text/plain": [
              "x\n",
              "1.0     1\n",
              "2.0    11\n",
              "3.0    18\n",
              "4.0    36\n",
              "5.0     6\n",
              "Name: Início, dtype: int64"
            ]
          },
          "metadata": {
            "tags": []
          },
          "execution_count": 5
        }
      ]
    },
    {
      "metadata": {
        "id": "TqZWDN5f24Pc",
        "colab_type": "code",
        "outputId": "0f7ac791-9bb4-47e1-f1b5-f16d5a7b5c89",
        "colab": {
          "base_uri": "https://localhost:8080/",
          "height": 368
        }
      },
      "cell_type": "code",
      "source": [
        "pd.value_counts(df_q['x']).plot.bar()"
      ],
      "execution_count": 6,
      "outputs": [
        {
          "output_type": "execute_result",
          "data": {
            "text/plain": [
              "<matplotlib.axes._subplots.AxesSubplot at 0x7f56f97e1860>"
            ]
          },
          "metadata": {
            "tags": []
          },
          "execution_count": 6
        },
        {
          "output_type": "display_data",
          "data": {
            "image/png": "[encoded data removed]",
            "text/plain": [
              "<Figure size 576x396 with 1 Axes>"
            ]
          },
          "metadata": {
            "tags": []
          }
        }
      ]
    },
    {
      "metadata": {
        "id": "Itw7_k3v3WJr",
        "colab_type": "code",
        "outputId": "1b73b15f-0a50-4906-8ce8-9c6443105e0f",
        "colab": {
          "base_uri": "https://localhost:8080/",
          "height": 136
        }
      },
      "cell_type": "code",
      "source": [
        "df_q.groupby('y').Início.nunique()"
      ],
      "execution_count": 7,
      "outputs": [
        {
          "output_type": "execute_result",
          "data": {
            "text/plain": [
              "y\n",
              "1.0     1\n",
              "2.0     3\n",
              "3.0    13\n",
              "4.0    44\n",
              "5.0    11\n",
              "Name: Início, dtype: int64"
            ]
          },
          "metadata": {
            "tags": []
          },
          "execution_count": 7
        }
      ]
    },
    {
      "metadata": {
        "id": "A2TA7QFx3CQ0",
        "colab_type": "code",
        "outputId": "2e0e5d92-1a96-40f6-ca2f-610f484123cf",
        "colab": {
          "base_uri": "https://localhost:8080/",
          "height": 368
        }
      },
      "cell_type": "code",
      "source": [
        "pd.value_counts(df_q['y']).plot.bar()"
      ],
      "execution_count": 8,
      "outputs": [
        {
          "output_type": "execute_result",
          "data": {
            "text/plain": [
              "<matplotlib.axes._subplots.AxesSubplot at 0x7f56f982fb38>"
            ]
          },
          "metadata": {
            "tags": []
          },
          "execution_count": 8
        },
        {
          "output_type": "display_data",
          "data": {
            "image/png": "[encoded data removed]",
            "text/plain": [
              "<Figure size 576x396 with 1 Axes>"
            ]
          },
          "metadata": {
            "tags": []
          }
        }
      ]
    },
    {
      "metadata": {
        "id": "xLhEV_bg3X4U",
        "colab_type": "code",
        "outputId": "d1711522-c5ee-4958-8ef8-60c455396b60",
        "colab": {
          "base_uri": "https://localhost:8080/",
          "height": 119
        }
      },
      "cell_type": "code",
      "source": [
        "df_q.groupby('z').Início.nunique()"
      ],
      "execution_count": 9,
      "outputs": [
        {
          "output_type": "execute_result",
          "data": {
            "text/plain": [
              "z\n",
              "2.0     2\n",
              "3.0    11\n",
              "4.0    42\n",
              "5.0    17\n",
              "Name: Início, dtype: int64"
            ]
          },
          "metadata": {
            "tags": []
          },
          "execution_count": 9
        }
      ]
    },
    {
      "metadata": {
        "id": "q4WVJPae3DZU",
        "colab_type": "code",
        "outputId": "28ba0004-26b3-4331-d64e-ff11691aeb6d",
        "colab": {
          "base_uri": "https://localhost:8080/",
          "height": 368
        }
      },
      "cell_type": "code",
      "source": [
        "pd.value_counts(df_q['z']).plot.bar()"
      ],
      "execution_count": 10,
      "outputs": [
        {
          "output_type": "execute_result",
          "data": {
            "text/plain": [
              "<matplotlib.axes._subplots.AxesSubplot at 0x7f56f76a1f28>"
            ]
          },
          "metadata": {
            "tags": []
          },
          "execution_count": 10
        },
        {
          "output_type": "display_data",
          "data": {
            "image/png": "[encoded data removed]",
            "text/plain": [
              "<Figure size 576x396 with 1 Axes>"
            ]
          },
          "metadata": {
            "tags": []
          }
        }
      ]
    },
    {
      "metadata": {
        "id": "FcbEiaQ13E9c",
        "colab_type": "code",
        "outputId": "70dc2800-86fe-4f27-9859-bf8316371d89",
        "colab": {
          "base_uri": "https://localhost:8080/",
          "height": 368
        }
      },
      "cell_type": "code",
      "source": [
        "pd.value_counts(df_q['Geral']).plot.bar()"
      ],
      "execution_count": 11,
      "outputs": [
        {
          "output_type": "execute_result",
          "data": {
            "text/plain": [
              "<matplotlib.axes._subplots.AxesSubplot at 0x7f56f7611e48>"
            ]
          },
          "metadata": {
            "tags": []
          },
          "execution_count": 11
        },
        {
          "output_type": "display_data",
          "data": {
            "image/png": "[encoded data removed]",
            "text/plain": [
              "<Figure size 576x396 with 1 Axes>"
            ]
          },
          "metadata": {
            "tags": []
          }
        }
      ]
    },
    {
      "metadata": {
        "id": "6ogw1Uhs3Ze8",
        "colab_type": "code",
        "outputId": "d0c90629-2e6a-4038-d28e-1b7d6bb23d25",
        "colab": {
          "base_uri": "https://localhost:8080/",
          "height": 119
        }
      },
      "cell_type": "code",
      "source": [
        "df_q.groupby('Geral').Início.nunique()"
      ],
      "execution_count": 12,
      "outputs": [
        {
          "output_type": "execute_result",
          "data": {
            "text/plain": [
              "Geral\n",
              "2.0     2\n",
              "3.0    16\n",
              "4.0    49\n",
              "5.0     5\n",
              "Name: Início, dtype: int64"
            ]
          },
          "metadata": {
            "tags": []
          },
          "execution_count": 12
        }
      ]
    },
    {
      "metadata": {
        "id": "ZgfbvoKhkNXd",
        "colab_type": "code",
        "outputId": "fb130e1c-d58e-478a-903c-bf5d8874581a",
        "colab": {
          "base_uri": "https://localhost:8080/",
          "height": 323
        }
      },
      "cell_type": "code",
      "source": [
        "df.dtypes"
      ],
      "execution_count": 13,
      "outputs": [
        {
          "output_type": "execute_result",
          "data": {
            "text/plain": [
              "DATE_TIME                   datetime64[ns]\n",
              "LATITUDE                           float64\n",
              "LONGITUDE                          float64\n",
              "ENGINE_RPM                         float64\n",
              "ENGINE_LOAD                        float64\n",
              "INTAKE_MANIFOLD_PRESSURE           float64\n",
              "ACCELERATOR_PEDAL_D                float64\n",
              "SPEED                              float64\n",
              "GYROSCOPE_X_RAW                    float64\n",
              "GYROSCOPE_Y_RAW                    float64\n",
              "GYROSCOPE_Z_RAW                    float64\n",
              "ACCELEROMETER_X_LONG_AVG           float64\n",
              "ACCELEROMETER_Y_LONG_AVG           float64\n",
              "ACCELEROMETER_Z_LONG_AVG           float64\n",
              "ACCELEROMETER_X_LONG_STD           float64\n",
              "ACCELEROMETER_Y_LONG_STD           float64\n",
              "ACCELEROMETER_Z_LONG_STD           float64\n",
              "dtype: object"
            ]
          },
          "metadata": {
            "tags": []
          },
          "execution_count": 13
        }
      ]
    },
    {
      "metadata": {
        "id": "s7sP0ikE1ZDr",
        "colab_type": "code",
        "outputId": "ae6066d2-6bf8-4dbe-e897-efa3a1f891fd",
        "colab": {
          "base_uri": "https://localhost:8080/",
          "height": 34
        }
      },
      "cell_type": "code",
      "source": [
        "df.shape"
      ],
      "execution_count": 14,
      "outputs": [
        {
          "output_type": "execute_result",
          "data": {
            "text/plain": [
              "(625500, 17)"
            ]
          },
          "metadata": {
            "tags": []
          },
          "execution_count": 14
        }
      ]
    },
    {
      "metadata": {
        "id": "XP3Gr81mmDQt",
        "colab_type": "code",
        "colab": {}
      },
      "cell_type": "code",
      "source": [
        "df_completo = pd.DataFrame(columns=('date_time', \n",
        "                                    'latitude', \n",
        "                                    'longitude', \n",
        "                                    'engine_rpm', \n",
        "                                    'engine_load', \n",
        "                                    'intake_manifold_pressure',\n",
        "                                    'accelerator_pedal',\n",
        "                                    'speed',\n",
        "                                    'giroscope_x',\n",
        "                                    'giroscope_y',\n",
        "                                    'giroscope_z',\n",
        "                                    'accelerometer_x_avg',\n",
        "                                    'accelerometer_y_avg',\n",
        "                                    'accelerometer_z_avg',\n",
        "                                    'accelerometer_x_std',\n",
        "                                    'accelerometer_y_std',\n",
        "                                    'accelerometer_z_std',\n",
        "                                    'comfort_x',\n",
        "                                    'comfort_y',\n",
        "                                    'comfort_z',\n",
        "                                    'comfort_geral'\n",
        "                                   ))\n",
        "\n",
        "df_completo = df_completo.astype(dtype={'date_time' : 'datetime64[ns]', \n",
        "                          'latitude' : 'float64', \n",
        "                          'longitude' : 'float64', \n",
        "                          'engine_rpm' : 'float64', \n",
        "                          'engine_load' : 'float64', \n",
        "                          'intake_manifold_pressure' : 'float64',\n",
        "                          'accelerator_pedal' : 'float64',\n",
        "                          'speed' : 'float64',\n",
        "                          'giroscope_x' : 'float64',\n",
        "                          'giroscope_y' : 'float64',\n",
        "                          'giroscope_z' : 'float64',\n",
        "                          'accelerometer_x_avg' : 'float64',\n",
        "                          'accelerometer_y_avg' : 'float64',\n",
        "                          'accelerometer_z_avg' : 'float64',\n",
        "                          'accelerometer_x_std' : 'float64',\n",
        "                          'accelerometer_y_std' : 'float64',\n",
        "                          'accelerometer_z_std' : 'float64',\n",
        "                          'comfort_x' : 'int64',\n",
        "                          'comfort_y' : 'int64',\n",
        "                          'comfort_z' : 'int64',\n",
        "                          'comfort_geral' : 'int64'\n",
        "                         })"
      ],
      "execution_count": 0,
      "outputs": []
    },
    {
      "metadata": {
        "id": "KwTnaa0mjMbT",
        "colab_type": "code",
        "colab": {}
      },
      "cell_type": "code",
      "source": [
        "df_q.sort_index(inplace=True)\n",
        "df.sort_index(inplace=True)"
      ],
      "execution_count": 0,
      "outputs": []
    },
    {
      "metadata": {
        "id": "wVsS44Prkbw0",
        "colab_type": "code",
        "colab": {}
      },
      "cell_type": "code",
      "source": [
        "completo = []\n",
        "for indexq, rowq in df_q.iterrows():\n",
        "  for index, row in df.iterrows():\n",
        "    if row['DATE_TIME'] >= rowq['Início'] and row['DATE_TIME'] <= rowq['Fim']:\n",
        "      dict1 = {'date_time' : row['DATE_TIME'],\n",
        "               'latitude' : row['LATITUDE'],\n",
        "               'longitude' : row['LONGITUDE'],\n",
        "               'engine_rpm' : row['ENGINE_RPM'],\n",
        "               'engine_load': row['ENGINE_LOAD'],\n",
        "               'intake_manifold_pressure' : row['INTAKE_MANIFOLD_PRESSURE'],\n",
        "               'accelerator_pedal' : row['ACCELERATOR_PEDAL_D'],\n",
        "               'speed' : row['SPEED'],\n",
        "               'giroscope_x' : row['GYROSCOPE_X_RAW'],\n",
        "               'giroscope_y' : row['GYROSCOPE_Y_RAW'],\n",
        "               'giroscope_z' : row['GYROSCOPE_Z_RAW'],\n",
        "               'accelerometer_x_avg' : row['ACCELEROMETER_X_LONG_AVG'],\n",
        "               'accelerometer_y_avg' : row['ACCELEROMETER_Y_LONG_AVG'],\n",
        "               'accelerometer_z_avg' : row['ACCELEROMETER_Z_LONG_AVG'],\n",
        "               'accelerometer_x_std' : row['ACCELEROMETER_X_LONG_STD'],\n",
        "               'accelerometer_y_std' : row['ACCELEROMETER_Y_LONG_STD'],\n",
        "               'accelerometer_z_std' : row['ACCELEROMETER_Z_LONG_STD'],\n",
        "               'comfort_x' : rowq['x'],\n",
        "               'comfort_y' : rowq['y'],\n",
        "               'comfort_z' : rowq['z'],\n",
        "               'comfort_geral' : rowq['Geral'],\n",
        "               'group': indexq}\n",
        "      completo.append(dict1)"
      ],
      "execution_count": 0,
      "outputs": []
    },
    {
      "metadata": {
        "id": "k5Ydn47pi19s",
        "colab_type": "code",
        "colab": {
          "base_uri": "https://localhost:8080/",
          "height": 34
        },
        "outputId": "f458d1b8-4e3e-44d1-b5ca-ed560a560e7a"
      },
      "cell_type": "code",
      "source": [
        "len(completo)"
      ],
      "execution_count": 18,
      "outputs": [
        {
          "output_type": "execute_result",
          "data": {
            "text/plain": [
              "65880"
            ]
          },
          "metadata": {
            "tags": []
          },
          "execution_count": 18
        }
      ]
    },
    {
      "metadata": {
        "id": "9i2Jy31LyOcj",
        "colab_type": "code",
        "colab": {}
      },
      "cell_type": "code",
      "source": [
        "df_completo = pd.DataFrame(completo, columns=('date_time', \n",
        "                                    'latitude', \n",
        "                                    'longitude', \n",
        "                                    'engine_rpm', \n",
        "                                    'engine_load', \n",
        "                                    'intake_manifold_pressure',\n",
        "                                    'accelerator_pedal',\n",
        "                                    'speed',\n",
        "                                    'giroscope_x',\n",
        "                                    'giroscope_y',\n",
        "                                    'giroscope_z',\n",
        "                                    'accelerometer_x_avg',\n",
        "                                    'accelerometer_y_avg',\n",
        "                                    'accelerometer_z_avg',\n",
        "                                    'accelerometer_x_std',\n",
        "                                    'accelerometer_y_std',\n",
        "                                    'accelerometer_z_std',\n",
        "                                    'comfort_x',\n",
        "                                    'comfort_y',\n",
        "                                    'comfort_z',\n",
        "                                    'comfort_geral',\n",
        "                                    'group'\n",
        "                                   ))"
      ],
      "execution_count": 0,
      "outputs": []
    },
    {
      "metadata": {
        "id": "txSJ5GZZyt_L",
        "colab_type": "code",
        "colab": {
          "base_uri": "https://localhost:8080/",
          "height": 338
        },
        "outputId": "e459553a-89ea-4336-c304-aca453a90adc"
      },
      "cell_type": "code",
      "source": [
        "df_completo.head()"
      ],
      "execution_count": 20,
      "outputs": [
        {
          "output_type": "execute_result",
          "data": {
            "text/html": [
              "<div>\n",
              "<style scoped>\n",
              "    .dataframe tbody tr th:only-of-type {\n",
              "        vertical-align: middle;\n",
              "    }\n",
              "\n",
              "    .dataframe tbody tr th {\n",
              "        vertical-align: top;\n",
              "    }\n",
              "\n",
              "    .dataframe thead th {\n",
              "        text-align: right;\n",
              "    }\n",
              "</style>\n",
              "<table border=\"1\" class=\"dataframe\">\n",
              "  <thead>\n",
              "    <tr style=\"text-align: right;\">\n",
              "      <th></th>\n",
              "      <th>date_time</th>\n",
              "      <th>latitude</th>\n",
              "      <th>longitude</th>\n",
              "      <th>engine_rpm</th>\n",
              "      <th>engine_load</th>\n",
              "      <th>intake_manifold_pressure</th>\n",
              "      <th>accelerator_pedal</th>\n",
              "      <th>speed</th>\n",
              "      <th>giroscope_x</th>\n",
              "      <th>giroscope_y</th>\n",
              "      <th>...</th>\n",
              "      <th>accelerometer_y_avg</th>\n",
              "      <th>accelerometer_z_avg</th>\n",
              "      <th>accelerometer_x_std</th>\n",
              "      <th>accelerometer_y_std</th>\n",
              "      <th>accelerometer_z_std</th>\n",
              "      <th>comfort_x</th>\n",
              "      <th>comfort_y</th>\n",
              "      <th>comfort_z</th>\n",
              "      <th>comfort_geral</th>\n",
              "      <th>group</th>\n",
              "    </tr>\n",
              "  </thead>\n",
              "  <tbody>\n",
              "    <tr>\n",
              "      <th>0</th>\n",
              "      <td>2017-09-15 05:08:00.302</td>\n",
              "      <td>-26.268322</td>\n",
              "      <td>-48.849957</td>\n",
              "      <td>NaN</td>\n",
              "      <td>NaN</td>\n",
              "      <td>NaN</td>\n",
              "      <td>NaN</td>\n",
              "      <td>0.067179</td>\n",
              "      <td>-1.25</td>\n",
              "      <td>-0.19</td>\n",
              "      <td>...</td>\n",
              "      <td>-0.001468</td>\n",
              "      <td>0.137074</td>\n",
              "      <td>0.003179</td>\n",
              "      <td>0.002818</td>\n",
              "      <td>0.004750</td>\n",
              "      <td>4.0</td>\n",
              "      <td>4.0</td>\n",
              "      <td>4.0</td>\n",
              "      <td>3.0</td>\n",
              "      <td>11</td>\n",
              "    </tr>\n",
              "    <tr>\n",
              "      <th>1</th>\n",
              "      <td>2017-09-15 05:08:00.802</td>\n",
              "      <td>-26.268322</td>\n",
              "      <td>-48.849957</td>\n",
              "      <td>NaN</td>\n",
              "      <td>NaN</td>\n",
              "      <td>NaN</td>\n",
              "      <td>NaN</td>\n",
              "      <td>0.064182</td>\n",
              "      <td>-1.35</td>\n",
              "      <td>-0.24</td>\n",
              "      <td>...</td>\n",
              "      <td>-0.001498</td>\n",
              "      <td>0.137080</td>\n",
              "      <td>0.003187</td>\n",
              "      <td>0.002802</td>\n",
              "      <td>0.004716</td>\n",
              "      <td>4.0</td>\n",
              "      <td>4.0</td>\n",
              "      <td>4.0</td>\n",
              "      <td>3.0</td>\n",
              "      <td>11</td>\n",
              "    </tr>\n",
              "    <tr>\n",
              "      <th>2</th>\n",
              "      <td>2017-09-15 05:08:01.302</td>\n",
              "      <td>-26.268322</td>\n",
              "      <td>-48.849957</td>\n",
              "      <td>NaN</td>\n",
              "      <td>NaN</td>\n",
              "      <td>NaN</td>\n",
              "      <td>NaN</td>\n",
              "      <td>0.068411</td>\n",
              "      <td>-1.31</td>\n",
              "      <td>-0.22</td>\n",
              "      <td>...</td>\n",
              "      <td>-0.001492</td>\n",
              "      <td>0.137077</td>\n",
              "      <td>0.003184</td>\n",
              "      <td>0.002805</td>\n",
              "      <td>0.004632</td>\n",
              "      <td>4.0</td>\n",
              "      <td>4.0</td>\n",
              "      <td>4.0</td>\n",
              "      <td>3.0</td>\n",
              "      <td>11</td>\n",
              "    </tr>\n",
              "    <tr>\n",
              "      <th>3</th>\n",
              "      <td>2017-09-15 05:08:01.802</td>\n",
              "      <td>-26.268323</td>\n",
              "      <td>-48.849956</td>\n",
              "      <td>NaN</td>\n",
              "      <td>NaN</td>\n",
              "      <td>NaN</td>\n",
              "      <td>NaN</td>\n",
              "      <td>0.091982</td>\n",
              "      <td>-1.25</td>\n",
              "      <td>-0.26</td>\n",
              "      <td>...</td>\n",
              "      <td>-0.001482</td>\n",
              "      <td>0.137097</td>\n",
              "      <td>0.003187</td>\n",
              "      <td>0.002815</td>\n",
              "      <td>0.004624</td>\n",
              "      <td>4.0</td>\n",
              "      <td>4.0</td>\n",
              "      <td>4.0</td>\n",
              "      <td>3.0</td>\n",
              "      <td>11</td>\n",
              "    </tr>\n",
              "    <tr>\n",
              "      <th>4</th>\n",
              "      <td>2017-09-15 05:08:02.302</td>\n",
              "      <td>-26.268323</td>\n",
              "      <td>-48.849956</td>\n",
              "      <td>NaN</td>\n",
              "      <td>NaN</td>\n",
              "      <td>NaN</td>\n",
              "      <td>NaN</td>\n",
              "      <td>0.122900</td>\n",
              "      <td>-1.23</td>\n",
              "      <td>0.01</td>\n",
              "      <td>...</td>\n",
              "      <td>-0.001488</td>\n",
              "      <td>0.137067</td>\n",
              "      <td>0.003190</td>\n",
              "      <td>0.002821</td>\n",
              "      <td>0.004583</td>\n",
              "      <td>4.0</td>\n",
              "      <td>4.0</td>\n",
              "      <td>4.0</td>\n",
              "      <td>3.0</td>\n",
              "      <td>11</td>\n",
              "    </tr>\n",
              "  </tbody>\n",
              "</table>\n",
              "<p>5 rows × 22 columns</p>\n",
              "</div>"
            ],
            "text/plain": [
              "                date_time   latitude  longitude  engine_rpm  engine_load  \\\n",
              "0 2017-09-15 05:08:00.302 -26.268322 -48.849957         NaN          NaN   \n",
              "1 2017-09-15 05:08:00.802 -26.268322 -48.849957         NaN          NaN   \n",
              "2 2017-09-15 05:08:01.302 -26.268322 -48.849957         NaN          NaN   \n",
              "3 2017-09-15 05:08:01.802 -26.268323 -48.849956         NaN          NaN   \n",
              "4 2017-09-15 05:08:02.302 -26.268323 -48.849956         NaN          NaN   \n",
              "\n",
              "   intake_manifold_pressure  accelerator_pedal     speed  giroscope_x  \\\n",
              "0                       NaN                NaN  0.067179        -1.25   \n",
              "1                       NaN                NaN  0.064182        -1.35   \n",
              "2                       NaN                NaN  0.068411        -1.31   \n",
              "3                       NaN                NaN  0.091982        -1.25   \n",
              "4                       NaN                NaN  0.122900        -1.23   \n",
              "\n",
              "   giroscope_y  ...    accelerometer_y_avg  accelerometer_z_avg  \\\n",
              "0        -0.19  ...              -0.001468             0.137074   \n",
              "1        -0.24  ...              -0.001498             0.137080   \n",
              "2        -0.22  ...              -0.001492             0.137077   \n",
              "3        -0.26  ...              -0.001482             0.137097   \n",
              "4         0.01  ...              -0.001488             0.137067   \n",
              "\n",
              "   accelerometer_x_std  accelerometer_y_std  accelerometer_z_std  comfort_x  \\\n",
              "0             0.003179             0.002818             0.004750        4.0   \n",
              "1             0.003187             0.002802             0.004716        4.0   \n",
              "2             0.003184             0.002805             0.004632        4.0   \n",
              "3             0.003187             0.002815             0.004624        4.0   \n",
              "4             0.003190             0.002821             0.004583        4.0   \n",
              "\n",
              "   comfort_y  comfort_z  comfort_geral  group  \n",
              "0        4.0        4.0            3.0     11  \n",
              "1        4.0        4.0            3.0     11  \n",
              "2        4.0        4.0            3.0     11  \n",
              "3        4.0        4.0            3.0     11  \n",
              "4        4.0        4.0            3.0     11  \n",
              "\n",
              "[5 rows x 22 columns]"
            ]
          },
          "metadata": {
            "tags": []
          },
          "execution_count": 20
        }
      ]
    },
    {
      "metadata": {
        "id": "pAY3O5PazIYb",
        "colab_type": "code",
        "colab": {
          "base_uri": "https://localhost:8080/",
          "height": 408
        },
        "outputId": "318fc342-abb8-48e7-f769-e0f885730056"
      },
      "cell_type": "code",
      "source": [
        "df_completo.dtypes"
      ],
      "execution_count": 21,
      "outputs": [
        {
          "output_type": "execute_result",
          "data": {
            "text/plain": [
              "date_time                   datetime64[ns]\n",
              "latitude                           float64\n",
              "longitude                          float64\n",
              "engine_rpm                         float64\n",
              "engine_load                        float64\n",
              "intake_manifold_pressure           float64\n",
              "accelerator_pedal                  float64\n",
              "speed                              float64\n",
              "giroscope_x                        float64\n",
              "giroscope_y                        float64\n",
              "giroscope_z                        float64\n",
              "accelerometer_x_avg                float64\n",
              "accelerometer_y_avg                float64\n",
              "accelerometer_z_avg                float64\n",
              "accelerometer_x_std                float64\n",
              "accelerometer_y_std                float64\n",
              "accelerometer_z_std                float64\n",
              "comfort_x                          float64\n",
              "comfort_y                          float64\n",
              "comfort_z                          float64\n",
              "comfort_geral                      float64\n",
              "group                                int64\n",
              "dtype: object"
            ]
          },
          "metadata": {
            "tags": []
          },
          "execution_count": 21
        }
      ]
    },
    {
      "metadata": {
        "id": "i8PWoMqDy7nc",
        "colab_type": "code",
        "colab": {
          "base_uri": "https://localhost:8080/",
          "height": 98
        },
        "outputId": "411634d0-23ca-438a-dade-e1f26ecc1df9"
      },
      "cell_type": "code",
      "source": [
        "df_completo.loc[df_completo['comfort_x'] == float('nan')]"
      ],
      "execution_count": 22,
      "outputs": [
        {
          "output_type": "execute_result",
          "data": {
            "text/html": [
              "<div>\n",
              "<style scoped>\n",
              "    .dataframe tbody tr th:only-of-type {\n",
              "        vertical-align: middle;\n",
              "    }\n",
              "\n",
              "    .dataframe tbody tr th {\n",
              "        vertical-align: top;\n",
              "    }\n",
              "\n",
              "    .dataframe thead th {\n",
              "        text-align: right;\n",
              "    }\n",
              "</style>\n",
              "<table border=\"1\" class=\"dataframe\">\n",
              "  <thead>\n",
              "    <tr style=\"text-align: right;\">\n",
              "      <th></th>\n",
              "      <th>date_time</th>\n",
              "      <th>latitude</th>\n",
              "      <th>longitude</th>\n",
              "      <th>engine_rpm</th>\n",
              "      <th>engine_load</th>\n",
              "      <th>intake_manifold_pressure</th>\n",
              "      <th>accelerator_pedal</th>\n",
              "      <th>speed</th>\n",
              "      <th>giroscope_x</th>\n",
              "      <th>giroscope_y</th>\n",
              "      <th>...</th>\n",
              "      <th>accelerometer_y_avg</th>\n",
              "      <th>accelerometer_z_avg</th>\n",
              "      <th>accelerometer_x_std</th>\n",
              "      <th>accelerometer_y_std</th>\n",
              "      <th>accelerometer_z_std</th>\n",
              "      <th>comfort_x</th>\n",
              "      <th>comfort_y</th>\n",
              "      <th>comfort_z</th>\n",
              "      <th>comfort_geral</th>\n",
              "      <th>group</th>\n",
              "    </tr>\n",
              "  </thead>\n",
              "  <tbody>\n",
              "  </tbody>\n",
              "</table>\n",
              "<p>0 rows × 22 columns</p>\n",
              "</div>"
            ],
            "text/plain": [
              "Empty DataFrame\n",
              "Columns: [date_time, latitude, longitude, engine_rpm, engine_load, intake_manifold_pressure, accelerator_pedal, speed, giroscope_x, giroscope_y, giroscope_z, accelerometer_x_avg, accelerometer_y_avg, accelerometer_z_avg, accelerometer_x_std, accelerometer_y_std, accelerometer_z_std, comfort_x, comfort_y, comfort_z, comfort_geral, group]\n",
              "Index: []\n",
              "\n",
              "[0 rows x 22 columns]"
            ]
          },
          "metadata": {
            "tags": []
          },
          "execution_count": 22
        }
      ]
    },
    {
      "metadata": {
        "id": "lkWSYAg90wTk",
        "colab_type": "code",
        "colab": {}
      },
      "cell_type": "code",
      "source": [
        "df_completo['abs_accelerometer_x_avg'] = df_completo['accelerometer_x_avg'].abs()\n",
        "df_completo['abs_accelerometer_y_avg'] = df_completo['accelerometer_y_avg'].abs()\n",
        "df_completo['abs_accelerometer_z_avg'] = df_completo['accelerometer_z_avg'].abs()"
      ],
      "execution_count": 0,
      "outputs": []
    },
    {
      "metadata": {
        "id": "a9rx6JFf061D",
        "colab_type": "code",
        "colab": {
          "base_uri": "https://localhost:8080/",
          "height": 338
        },
        "outputId": "3e142851-95cf-494d-e88c-d5295a0d1d9a"
      },
      "cell_type": "code",
      "source": [
        "df_completo.head()"
      ],
      "execution_count": 24,
      "outputs": [
        {
          "output_type": "execute_result",
          "data": {
            "text/html": [
              "<div>\n",
              "<style scoped>\n",
              "    .dataframe tbody tr th:only-of-type {\n",
              "        vertical-align: middle;\n",
              "    }\n",
              "\n",
              "    .dataframe tbody tr th {\n",
              "        vertical-align: top;\n",
              "    }\n",
              "\n",
              "    .dataframe thead th {\n",
              "        text-align: right;\n",
              "    }\n",
              "</style>\n",
              "<table border=\"1\" class=\"dataframe\">\n",
              "  <thead>\n",
              "    <tr style=\"text-align: right;\">\n",
              "      <th></th>\n",
              "      <th>date_time</th>\n",
              "      <th>latitude</th>\n",
              "      <th>longitude</th>\n",
              "      <th>engine_rpm</th>\n",
              "      <th>engine_load</th>\n",
              "      <th>intake_manifold_pressure</th>\n",
              "      <th>accelerator_pedal</th>\n",
              "      <th>speed</th>\n",
              "      <th>giroscope_x</th>\n",
              "      <th>giroscope_y</th>\n",
              "      <th>...</th>\n",
              "      <th>accelerometer_y_std</th>\n",
              "      <th>accelerometer_z_std</th>\n",
              "      <th>comfort_x</th>\n",
              "      <th>comfort_y</th>\n",
              "      <th>comfort_z</th>\n",
              "      <th>comfort_geral</th>\n",
              "      <th>group</th>\n",
              "      <th>abs_accelerometer_x_avg</th>\n",
              "      <th>abs_accelerometer_y_avg</th>\n",
              "      <th>abs_accelerometer_z_avg</th>\n",
              "    </tr>\n",
              "  </thead>\n",
              "  <tbody>\n",
              "    <tr>\n",
              "      <th>0</th>\n",
              "      <td>2017-09-15 05:08:00.302</td>\n",
              "      <td>-26.268322</td>\n",
              "      <td>-48.849957</td>\n",
              "      <td>NaN</td>\n",
              "      <td>NaN</td>\n",
              "      <td>NaN</td>\n",
              "      <td>NaN</td>\n",
              "      <td>0.067179</td>\n",
              "      <td>-1.25</td>\n",
              "      <td>-0.19</td>\n",
              "      <td>...</td>\n",
              "      <td>0.002818</td>\n",
              "      <td>0.004750</td>\n",
              "      <td>4.0</td>\n",
              "      <td>4.0</td>\n",
              "      <td>4.0</td>\n",
              "      <td>3.0</td>\n",
              "      <td>11</td>\n",
              "      <td>1.018676</td>\n",
              "      <td>0.001468</td>\n",
              "      <td>0.137074</td>\n",
              "    </tr>\n",
              "    <tr>\n",
              "      <th>1</th>\n",
              "      <td>2017-09-15 05:08:00.802</td>\n",
              "      <td>-26.268322</td>\n",
              "      <td>-48.849957</td>\n",
              "      <td>NaN</td>\n",
              "      <td>NaN</td>\n",
              "      <td>NaN</td>\n",
              "      <td>NaN</td>\n",
              "      <td>0.064182</td>\n",
              "      <td>-1.35</td>\n",
              "      <td>-0.24</td>\n",
              "      <td>...</td>\n",
              "      <td>0.002802</td>\n",
              "      <td>0.004716</td>\n",
              "      <td>4.0</td>\n",
              "      <td>4.0</td>\n",
              "      <td>4.0</td>\n",
              "      <td>3.0</td>\n",
              "      <td>11</td>\n",
              "      <td>1.018656</td>\n",
              "      <td>0.001498</td>\n",
              "      <td>0.137080</td>\n",
              "    </tr>\n",
              "    <tr>\n",
              "      <th>2</th>\n",
              "      <td>2017-09-15 05:08:01.302</td>\n",
              "      <td>-26.268322</td>\n",
              "      <td>-48.849957</td>\n",
              "      <td>NaN</td>\n",
              "      <td>NaN</td>\n",
              "      <td>NaN</td>\n",
              "      <td>NaN</td>\n",
              "      <td>0.068411</td>\n",
              "      <td>-1.31</td>\n",
              "      <td>-0.22</td>\n",
              "      <td>...</td>\n",
              "      <td>0.002805</td>\n",
              "      <td>0.004632</td>\n",
              "      <td>4.0</td>\n",
              "      <td>4.0</td>\n",
              "      <td>4.0</td>\n",
              "      <td>3.0</td>\n",
              "      <td>11</td>\n",
              "      <td>1.018635</td>\n",
              "      <td>0.001492</td>\n",
              "      <td>0.137077</td>\n",
              "    </tr>\n",
              "    <tr>\n",
              "      <th>3</th>\n",
              "      <td>2017-09-15 05:08:01.802</td>\n",
              "      <td>-26.268323</td>\n",
              "      <td>-48.849956</td>\n",
              "      <td>NaN</td>\n",
              "      <td>NaN</td>\n",
              "      <td>NaN</td>\n",
              "      <td>NaN</td>\n",
              "      <td>0.091982</td>\n",
              "      <td>-1.25</td>\n",
              "      <td>-0.26</td>\n",
              "      <td>...</td>\n",
              "      <td>0.002815</td>\n",
              "      <td>0.004624</td>\n",
              "      <td>4.0</td>\n",
              "      <td>4.0</td>\n",
              "      <td>4.0</td>\n",
              "      <td>3.0</td>\n",
              "      <td>11</td>\n",
              "      <td>1.018619</td>\n",
              "      <td>0.001482</td>\n",
              "      <td>0.137097</td>\n",
              "    </tr>\n",
              "    <tr>\n",
              "      <th>4</th>\n",
              "      <td>2017-09-15 05:08:02.302</td>\n",
              "      <td>-26.268323</td>\n",
              "      <td>-48.849956</td>\n",
              "      <td>NaN</td>\n",
              "      <td>NaN</td>\n",
              "      <td>NaN</td>\n",
              "      <td>NaN</td>\n",
              "      <td>0.122900</td>\n",
              "      <td>-1.23</td>\n",
              "      <td>0.01</td>\n",
              "      <td>...</td>\n",
              "      <td>0.002821</td>\n",
              "      <td>0.004583</td>\n",
              "      <td>4.0</td>\n",
              "      <td>4.0</td>\n",
              "      <td>4.0</td>\n",
              "      <td>3.0</td>\n",
              "      <td>11</td>\n",
              "      <td>1.018565</td>\n",
              "      <td>0.001488</td>\n",
              "      <td>0.137067</td>\n",
              "    </tr>\n",
              "  </tbody>\n",
              "</table>\n",
              "<p>5 rows × 25 columns</p>\n",
              "</div>"
            ],
            "text/plain": [
              "                date_time   latitude  longitude  engine_rpm  engine_load  \\\n",
              "0 2017-09-15 05:08:00.302 -26.268322 -48.849957         NaN          NaN   \n",
              "1 2017-09-15 05:08:00.802 -26.268322 -48.849957         NaN          NaN   \n",
              "2 2017-09-15 05:08:01.302 -26.268322 -48.849957         NaN          NaN   \n",
              "3 2017-09-15 05:08:01.802 -26.268323 -48.849956         NaN          NaN   \n",
              "4 2017-09-15 05:08:02.302 -26.268323 -48.849956         NaN          NaN   \n",
              "\n",
              "   intake_manifold_pressure  accelerator_pedal     speed  giroscope_x  \\\n",
              "0                       NaN                NaN  0.067179        -1.25   \n",
              "1                       NaN                NaN  0.064182        -1.35   \n",
              "2                       NaN                NaN  0.068411        -1.31   \n",
              "3                       NaN                NaN  0.091982        -1.25   \n",
              "4                       NaN                NaN  0.122900        -1.23   \n",
              "\n",
              "   giroscope_y           ...             accelerometer_y_std  \\\n",
              "0        -0.19           ...                        0.002818   \n",
              "1        -0.24           ...                        0.002802   \n",
              "2        -0.22           ...                        0.002805   \n",
              "3        -0.26           ...                        0.002815   \n",
              "4         0.01           ...                        0.002821   \n",
              "\n",
              "   accelerometer_z_std  comfort_x  comfort_y  comfort_z  comfort_geral  group  \\\n",
              "0             0.004750        4.0        4.0        4.0            3.0     11   \n",
              "1             0.004716        4.0        4.0        4.0            3.0     11   \n",
              "2             0.004632        4.0        4.0        4.0            3.0     11   \n",
              "3             0.004624        4.0        4.0        4.0            3.0     11   \n",
              "4             0.004583        4.0        4.0        4.0            3.0     11   \n",
              "\n",
              "   abs_accelerometer_x_avg  abs_accelerometer_y_avg  abs_accelerometer_z_avg  \n",
              "0                 1.018676                 0.001468                 0.137074  \n",
              "1                 1.018656                 0.001498                 0.137080  \n",
              "2                 1.018635                 0.001492                 0.137077  \n",
              "3                 1.018619                 0.001482                 0.137097  \n",
              "4                 1.018565                 0.001488                 0.137067  \n",
              "\n",
              "[5 rows x 25 columns]"
            ]
          },
          "metadata": {
            "tags": []
          },
          "execution_count": 24
        }
      ]
    },
    {
      "metadata": {
        "id": "jsEA_dir1iLM",
        "colab_type": "code",
        "colab": {
          "base_uri": "https://localhost:8080/",
          "height": 34
        },
        "outputId": "5ad45732-ba76-4694-d273-27874771fa02"
      },
      "cell_type": "code",
      "source": [
        "df_completo.shape"
      ],
      "execution_count": 25,
      "outputs": [
        {
          "output_type": "execute_result",
          "data": {
            "text/plain": [
              "(65880, 25)"
            ]
          },
          "metadata": {
            "tags": []
          },
          "execution_count": 25
        }
      ]
    },
    {
      "metadata": {
        "id": "o0Rd7E2S1xQ7",
        "colab_type": "code",
        "colab": {
          "base_uri": "https://localhost:8080/",
          "height": 119
        },
        "outputId": "18f1978f-ee49-4ac2-9b6b-821b36bc6ca8"
      },
      "cell_type": "code",
      "source": [
        "df_completo.groupby('comfort_x').date_time.nunique()"
      ],
      "execution_count": 26,
      "outputs": [
        {
          "output_type": "execute_result",
          "data": {
            "text/plain": [
              "comfort_x\n",
              "2.0     4080\n",
              "3.0    12360\n",
              "4.0    40440\n",
              "5.0     9000\n",
              "Name: date_time, dtype: int64"
            ]
          },
          "metadata": {
            "tags": []
          },
          "execution_count": 26
        }
      ]
    },
    {
      "metadata": {
        "id": "cXwwuIgS2m_F",
        "colab_type": "code",
        "colab": {
          "base_uri": "https://localhost:8080/",
          "height": 368
        },
        "outputId": "767a783a-c94d-44b3-c1ca-86fb74c69bb9"
      },
      "cell_type": "code",
      "source": [
        "pd.value_counts(df_completo['comfort_x']).plot.bar()"
      ],
      "execution_count": 27,
      "outputs": [
        {
          "output_type": "execute_result",
          "data": {
            "text/plain": [
              "<matplotlib.axes._subplots.AxesSubplot at 0x7f56f7609320>"
            ]
          },
          "metadata": {
            "tags": []
          },
          "execution_count": 27
        },
        {
          "output_type": "display_data",
          "data": {
            "image/png": "[encoded data removed]",
            "text/plain": [
              "<Figure size 576x396 with 1 Axes>"
            ]
          },
          "metadata": {
            "tags": []
          }
        }
      ]
    },
    {
      "metadata": {
        "id": "e3niv3uU122-",
        "colab_type": "code",
        "colab": {
          "base_uri": "https://localhost:8080/",
          "height": 119
        },
        "outputId": "2f80edfb-4915-454d-bc9e-ddca089b2385"
      },
      "cell_type": "code",
      "source": [
        "df_completo.groupby('comfort_y').date_time.nunique()"
      ],
      "execution_count": 28,
      "outputs": [
        {
          "output_type": "execute_result",
          "data": {
            "text/plain": [
              "comfort_y\n",
              "2.0     1800\n",
              "3.0     4080\n",
              "4.0    47640\n",
              "5.0    12360\n",
              "Name: date_time, dtype: int64"
            ]
          },
          "metadata": {
            "tags": []
          },
          "execution_count": 28
        }
      ]
    },
    {
      "metadata": {
        "id": "2QRvELsB2pFj",
        "colab_type": "code",
        "colab": {
          "base_uri": "https://localhost:8080/",
          "height": 372
        },
        "outputId": "36cd7fd2-d652-4819-f1b5-d6940ca13f26"
      },
      "cell_type": "code",
      "source": [
        "pd.value_counts(df_completo['comfort_y']).plot.bar()"
      ],
      "execution_count": 29,
      "outputs": [
        {
          "output_type": "execute_result",
          "data": {
            "text/plain": [
              "<matplotlib.axes._subplots.AxesSubplot at 0x7f56d0846048>"
            ]
          },
          "metadata": {
            "tags": []
          },
          "execution_count": 29
        },
        {
          "output_type": "display_data",
          "data": {
            "image/png": "[encoded data removed]",
            "text/plain": [
              "<Figure size 576x396 with 1 Axes>"
            ]
          },
          "metadata": {
            "tags": []
          }
        }
      ]
    },
    {
      "metadata": {
        "id": "c5CmBTHM13NM",
        "colab_type": "code",
        "colab": {
          "base_uri": "https://localhost:8080/",
          "height": 102
        },
        "outputId": "4f0af4c6-41eb-4073-9299-f3cde025755c"
      },
      "cell_type": "code",
      "source": [
        "df_completo.groupby('comfort_z').date_time.nunique()"
      ],
      "execution_count": 30,
      "outputs": [
        {
          "output_type": "execute_result",
          "data": {
            "text/plain": [
              "comfort_z\n",
              "3.0     5880\n",
              "4.0    38880\n",
              "5.0    21120\n",
              "Name: date_time, dtype: int64"
            ]
          },
          "metadata": {
            "tags": []
          },
          "execution_count": 30
        }
      ]
    },
    {
      "metadata": {
        "id": "G9KMjeZS2raL",
        "colab_type": "code",
        "colab": {
          "base_uri": "https://localhost:8080/",
          "height": 368
        },
        "outputId": "ef6e2df1-ed03-4fdb-a3f0-5feabe74edcd"
      },
      "cell_type": "code",
      "source": [
        "pd.value_counts(df_completo['comfort_z']).plot.bar()"
      ],
      "execution_count": 31,
      "outputs": [
        {
          "output_type": "execute_result",
          "data": {
            "text/plain": [
              "<matplotlib.axes._subplots.AxesSubplot at 0x7f56f75e4f98>"
            ]
          },
          "metadata": {
            "tags": []
          },
          "execution_count": 31
        },
        {
          "output_type": "display_data",
          "data": {
            "image/png": "[encoded data removed]",
            "text/plain": [
              "<Figure size 576x396 with 1 Axes>"
            ]
          },
          "metadata": {
            "tags": []
          }
        }
      ]
    },
    {
      "metadata": {
        "id": "V5eW1ozY14WF",
        "colab_type": "code",
        "colab": {
          "base_uri": "https://localhost:8080/",
          "height": 119
        },
        "outputId": "f87a3470-b178-47b0-9514-7ae142917d4b"
      },
      "cell_type": "code",
      "source": [
        "df_completo.groupby('comfort_geral').date_time.nunique()"
      ],
      "execution_count": 32,
      "outputs": [
        {
          "output_type": "execute_result",
          "data": {
            "text/plain": [
              "comfort_geral\n",
              "2.0     1800\n",
              "3.0    13320\n",
              "4.0    43560\n",
              "5.0     7200\n",
              "Name: date_time, dtype: int64"
            ]
          },
          "metadata": {
            "tags": []
          },
          "execution_count": 32
        }
      ]
    },
    {
      "metadata": {
        "id": "TAYmRSMJ2tmj",
        "colab_type": "code",
        "colab": {
          "base_uri": "https://localhost:8080/",
          "height": 368
        },
        "outputId": "31c799da-56b8-4fa7-dd9f-fea51610b211"
      },
      "cell_type": "code",
      "source": [
        "pd.value_counts(df_completo['comfort_geral']).plot.bar()"
      ],
      "execution_count": 33,
      "outputs": [
        {
          "output_type": "execute_result",
          "data": {
            "text/plain": [
              "<matplotlib.axes._subplots.AxesSubplot at 0x7f56cfc81b00>"
            ]
          },
          "metadata": {
            "tags": []
          },
          "execution_count": 33
        },
        {
          "output_type": "display_data",
          "data": {
            "image/png": "[encoded data removed]",
            "text/plain": [
              "<Figure size 576x396 with 1 Axes>"
            ]
          },
          "metadata": {
            "tags": []
          }
        }
      ]
    },
    {
      "metadata": {
        "id": "H2Q50MwB3zit",
        "colab_type": "code",
        "colab": {}
      },
      "cell_type": "code",
      "source": [
        "df_completo.to_pickle(\"./df_noted.pkl\")"
      ],
      "execution_count": 0,
      "outputs": []
    },
    {
      "metadata": {
        "id": "dt3kJPzvPipt",
        "colab_type": "code",
        "colab": {
          "base_uri": "https://localhost:8080/",
          "height": 1020
        },
        "outputId": "df457563-c066-49ee-eeb3-df2207a5b0d5"
      },
      "cell_type": "code",
      "source": [
        "buckets = []\n",
        "for i in range(11, 52, 1):\n",
        "  todos = df_completo.loc[df_completo['group'] == i]\n",
        "  todos['quintil_x'] = pd.cut(todos['abs_accelerometer_x_avg'], bins=5, labels=False) + 1\n",
        "  todos['quintil_y'] = pd.cut(todos['abs_accelerometer_y_avg'], bins=5, labels=False) + 1\n",
        "  todos['quintil_z'] = pd.cut(todos['abs_accelerometer_z_avg'], bins=5, labels=False) + 1\n",
        "  lista = ['date_time','quintil_x','quintil_y','quintil_z'] \n",
        "  final = todos[[col for col in lista]]\n",
        "  final.head()\n",
        "  df_completo.join(todos.set_index('date_time'), on='date_time', rsuffix='_todos') \n",
        "  print(i)"
      ],
      "execution_count": 76,
      "outputs": [
        {
          "output_type": "stream",
          "text": [
            "/usr/local/lib/python3.6/dist-packages/ipykernel_launcher.py:4: SettingWithCopyWarning: \n",
            "A value is trying to be set on a copy of a slice from a DataFrame.\n",
            "Try using .loc[row_indexer,col_indexer] = value instead\n",
            "\n",
            "See the caveats in the documentation: http://pandas.pydata.org/pandas-docs/stable/indexing.html#indexing-view-versus-copy\n",
            "  after removing the cwd from sys.path.\n",
            "/usr/local/lib/python3.6/dist-packages/ipykernel_launcher.py:5: SettingWithCopyWarning: \n",
            "A value is trying to be set on a copy of a slice from a DataFrame.\n",
            "Try using .loc[row_indexer,col_indexer] = value instead\n",
            "\n",
            "See the caveats in the documentation: http://pandas.pydata.org/pandas-docs/stable/indexing.html#indexing-view-versus-copy\n",
            "  \"\"\"\n",
            "/usr/local/lib/python3.6/dist-packages/ipykernel_launcher.py:6: SettingWithCopyWarning: \n",
            "A value is trying to be set on a copy of a slice from a DataFrame.\n",
            "Try using .loc[row_indexer,col_indexer] = value instead\n",
            "\n",
            "See the caveats in the documentation: http://pandas.pydata.org/pandas-docs/stable/indexing.html#indexing-view-versus-copy\n",
            "  \n"
          ],
          "name": "stderr"
        },
        {
          "output_type": "stream",
          "text": [
            "11\n",
            "12\n",
            "13\n",
            "14\n",
            "15\n",
            "16\n",
            "17\n",
            "18\n",
            "19\n",
            "20\n",
            "21\n",
            "22\n",
            "23\n",
            "24\n",
            "25\n",
            "26\n",
            "27\n",
            "28\n",
            "29\n",
            "30\n",
            "31\n",
            "32\n",
            "33\n",
            "34\n",
            "35\n",
            "36\n",
            "37\n",
            "38\n",
            "39\n",
            "40\n",
            "41\n",
            "42\n",
            "43\n",
            "44\n",
            "45\n",
            "46\n",
            "47\n",
            "48\n",
            "49\n",
            "50\n",
            "51\n"
          ],
          "name": "stdout"
        }
      ]
    },
    {
      "metadata": {
        "id": "j78IlNMTdsBD",
        "colab_type": "code",
        "colab": {
          "base_uri": "https://localhost:8080/",
          "height": 338
        },
        "outputId": "b3d3f251-fb4a-45fd-ec1e-1ab3830f884e"
      },
      "cell_type": "code",
      "source": [
        "df_completo.head()"
      ],
      "execution_count": 77,
      "outputs": [
        {
          "output_type": "execute_result",
          "data": {
            "text/html": [
              "<div>\n",
              "<style scoped>\n",
              "    .dataframe tbody tr th:only-of-type {\n",
              "        vertical-align: middle;\n",
              "    }\n",
              "\n",
              "    .dataframe tbody tr th {\n",
              "        vertical-align: top;\n",
              "    }\n",
              "\n",
              "    .dataframe thead th {\n",
              "        text-align: right;\n",
              "    }\n",
              "</style>\n",
              "<table border=\"1\" class=\"dataframe\">\n",
              "  <thead>\n",
              "    <tr style=\"text-align: right;\">\n",
              "      <th></th>\n",
              "      <th>date_time</th>\n",
              "      <th>latitude</th>\n",
              "      <th>longitude</th>\n",
              "      <th>engine_rpm</th>\n",
              "      <th>engine_load</th>\n",
              "      <th>intake_manifold_pressure</th>\n",
              "      <th>accelerator_pedal</th>\n",
              "      <th>speed</th>\n",
              "      <th>giroscope_x</th>\n",
              "      <th>giroscope_y</th>\n",
              "      <th>...</th>\n",
              "      <th>comfort_y</th>\n",
              "      <th>comfort_z</th>\n",
              "      <th>comfort_geral</th>\n",
              "      <th>group</th>\n",
              "      <th>abs_accelerometer_x_avg</th>\n",
              "      <th>abs_accelerometer_y_avg</th>\n",
              "      <th>abs_accelerometer_z_avg</th>\n",
              "      <th>quintil_x</th>\n",
              "      <th>quintil_y</th>\n",
              "      <th>quintil_z</th>\n",
              "    </tr>\n",
              "  </thead>\n",
              "  <tbody>\n",
              "    <tr>\n",
              "      <th>0</th>\n",
              "      <td>2017-09-15 05:08:00.302</td>\n",
              "      <td>-26.268322</td>\n",
              "      <td>-48.849957</td>\n",
              "      <td>NaN</td>\n",
              "      <td>NaN</td>\n",
              "      <td>NaN</td>\n",
              "      <td>NaN</td>\n",
              "      <td>0.067179</td>\n",
              "      <td>-1.25</td>\n",
              "      <td>-0.19</td>\n",
              "      <td>...</td>\n",
              "      <td>4.0</td>\n",
              "      <td>4.0</td>\n",
              "      <td>3.0</td>\n",
              "      <td>11</td>\n",
              "      <td>1.018676</td>\n",
              "      <td>0.001468</td>\n",
              "      <td>0.137074</td>\n",
              "      <td>3</td>\n",
              "      <td>1</td>\n",
              "      <td>3</td>\n",
              "    </tr>\n",
              "    <tr>\n",
              "      <th>1</th>\n",
              "      <td>2017-09-15 05:08:00.802</td>\n",
              "      <td>-26.268322</td>\n",
              "      <td>-48.849957</td>\n",
              "      <td>NaN</td>\n",
              "      <td>NaN</td>\n",
              "      <td>NaN</td>\n",
              "      <td>NaN</td>\n",
              "      <td>0.064182</td>\n",
              "      <td>-1.35</td>\n",
              "      <td>-0.24</td>\n",
              "      <td>...</td>\n",
              "      <td>4.0</td>\n",
              "      <td>4.0</td>\n",
              "      <td>3.0</td>\n",
              "      <td>11</td>\n",
              "      <td>1.018656</td>\n",
              "      <td>0.001498</td>\n",
              "      <td>0.137080</td>\n",
              "      <td>3</td>\n",
              "      <td>1</td>\n",
              "      <td>3</td>\n",
              "    </tr>\n",
              "    <tr>\n",
              "      <th>2</th>\n",
              "      <td>2017-09-15 05:08:01.302</td>\n",
              "      <td>-26.268322</td>\n",
              "      <td>-48.849957</td>\n",
              "      <td>NaN</td>\n",
              "      <td>NaN</td>\n",
              "      <td>NaN</td>\n",
              "      <td>NaN</td>\n",
              "      <td>0.068411</td>\n",
              "      <td>-1.31</td>\n",
              "      <td>-0.22</td>\n",
              "      <td>...</td>\n",
              "      <td>4.0</td>\n",
              "      <td>4.0</td>\n",
              "      <td>3.0</td>\n",
              "      <td>11</td>\n",
              "      <td>1.018635</td>\n",
              "      <td>0.001492</td>\n",
              "      <td>0.137077</td>\n",
              "      <td>3</td>\n",
              "      <td>1</td>\n",
              "      <td>3</td>\n",
              "    </tr>\n",
              "    <tr>\n",
              "      <th>3</th>\n",
              "      <td>2017-09-15 05:08:01.802</td>\n",
              "      <td>-26.268323</td>\n",
              "      <td>-48.849956</td>\n",
              "      <td>NaN</td>\n",
              "      <td>NaN</td>\n",
              "      <td>NaN</td>\n",
              "      <td>NaN</td>\n",
              "      <td>0.091982</td>\n",
              "      <td>-1.25</td>\n",
              "      <td>-0.26</td>\n",
              "      <td>...</td>\n",
              "      <td>4.0</td>\n",
              "      <td>4.0</td>\n",
              "      <td>3.0</td>\n",
              "      <td>11</td>\n",
              "      <td>1.018619</td>\n",
              "      <td>0.001482</td>\n",
              "      <td>0.137097</td>\n",
              "      <td>3</td>\n",
              "      <td>1</td>\n",
              "      <td>3</td>\n",
              "    </tr>\n",
              "    <tr>\n",
              "      <th>4</th>\n",
              "      <td>2017-09-15 05:08:02.302</td>\n",
              "      <td>-26.268323</td>\n",
              "      <td>-48.849956</td>\n",
              "      <td>NaN</td>\n",
              "      <td>NaN</td>\n",
              "      <td>NaN</td>\n",
              "      <td>NaN</td>\n",
              "      <td>0.122900</td>\n",
              "      <td>-1.23</td>\n",
              "      <td>0.01</td>\n",
              "      <td>...</td>\n",
              "      <td>4.0</td>\n",
              "      <td>4.0</td>\n",
              "      <td>3.0</td>\n",
              "      <td>11</td>\n",
              "      <td>1.018565</td>\n",
              "      <td>0.001488</td>\n",
              "      <td>0.137067</td>\n",
              "      <td>3</td>\n",
              "      <td>1</td>\n",
              "      <td>3</td>\n",
              "    </tr>\n",
              "  </tbody>\n",
              "</table>\n",
              "<p>5 rows × 28 columns</p>\n",
              "</div>"
            ],
            "text/plain": [
              "                date_time   latitude  longitude  engine_rpm  engine_load  \\\n",
              "0 2017-09-15 05:08:00.302 -26.268322 -48.849957         NaN          NaN   \n",
              "1 2017-09-15 05:08:00.802 -26.268322 -48.849957         NaN          NaN   \n",
              "2 2017-09-15 05:08:01.302 -26.268322 -48.849957         NaN          NaN   \n",
              "3 2017-09-15 05:08:01.802 -26.268323 -48.849956         NaN          NaN   \n",
              "4 2017-09-15 05:08:02.302 -26.268323 -48.849956         NaN          NaN   \n",
              "\n",
              "   intake_manifold_pressure  accelerator_pedal     speed  giroscope_x  \\\n",
              "0                       NaN                NaN  0.067179        -1.25   \n",
              "1                       NaN                NaN  0.064182        -1.35   \n",
              "2                       NaN                NaN  0.068411        -1.31   \n",
              "3                       NaN                NaN  0.091982        -1.25   \n",
              "4                       NaN                NaN  0.122900        -1.23   \n",
              "\n",
              "   giroscope_y    ...      comfort_y  comfort_z  comfort_geral  group  \\\n",
              "0        -0.19    ...            4.0        4.0            3.0     11   \n",
              "1        -0.24    ...            4.0        4.0            3.0     11   \n",
              "2        -0.22    ...            4.0        4.0            3.0     11   \n",
              "3        -0.26    ...            4.0        4.0            3.0     11   \n",
              "4         0.01    ...            4.0        4.0            3.0     11   \n",
              "\n",
              "   abs_accelerometer_x_avg  abs_accelerometer_y_avg  abs_accelerometer_z_avg  \\\n",
              "0                 1.018676                 0.001468                 0.137074   \n",
              "1                 1.018656                 0.001498                 0.137080   \n",
              "2                 1.018635                 0.001492                 0.137077   \n",
              "3                 1.018619                 0.001482                 0.137097   \n",
              "4                 1.018565                 0.001488                 0.137067   \n",
              "\n",
              "   quintil_x  quintil_y  quintil_z  \n",
              "0          3          1          3  \n",
              "1          3          1          3  \n",
              "2          3          1          3  \n",
              "3          3          1          3  \n",
              "4          3          1          3  \n",
              "\n",
              "[5 rows x 28 columns]"
            ]
          },
          "metadata": {
            "tags": []
          },
          "execution_count": 77
        }
      ]
    },
    {
      "metadata": {
        "id": "z6R_CYyZeZRG",
        "colab_type": "code",
        "colab": {
          "base_uri": "https://localhost:8080/",
          "height": 1071
        },
        "outputId": "5e937351-d59c-4777-8867-7b903ed3daa8"
      },
      "cell_type": "code",
      "source": [
        "df_completo['comfort_x']"
      ],
      "execution_count": 41,
      "outputs": [
        {
          "output_type": "execute_result",
          "data": {
            "text/plain": [
              "0        4.0\n",
              "1        4.0\n",
              "2        4.0\n",
              "3        4.0\n",
              "4        4.0\n",
              "5        4.0\n",
              "6        4.0\n",
              "7        4.0\n",
              "8        4.0\n",
              "9        4.0\n",
              "10       4.0\n",
              "11       4.0\n",
              "12       4.0\n",
              "13       4.0\n",
              "14       4.0\n",
              "15       4.0\n",
              "16       4.0\n",
              "17       4.0\n",
              "18       4.0\n",
              "19       4.0\n",
              "20       4.0\n",
              "21       4.0\n",
              "22       4.0\n",
              "23       4.0\n",
              "24       4.0\n",
              "25       4.0\n",
              "26       4.0\n",
              "27       4.0\n",
              "28       4.0\n",
              "29       4.0\n",
              "        ... \n",
              "65850    4.0\n",
              "65851    4.0\n",
              "65852    4.0\n",
              "65853    4.0\n",
              "65854    4.0\n",
              "65855    4.0\n",
              "65856    4.0\n",
              "65857    4.0\n",
              "65858    4.0\n",
              "65859    4.0\n",
              "65860    4.0\n",
              "65861    4.0\n",
              "65862    4.0\n",
              "65863    4.0\n",
              "65864    4.0\n",
              "65865    4.0\n",
              "65866    4.0\n",
              "65867    4.0\n",
              "65868    4.0\n",
              "65869    4.0\n",
              "65870    4.0\n",
              "65871    4.0\n",
              "65872    4.0\n",
              "65873    4.0\n",
              "65874    4.0\n",
              "65875    4.0\n",
              "65876    4.0\n",
              "65877    4.0\n",
              "65878    4.0\n",
              "65879    4.0\n",
              "Name: comfort_x, Length: 65880, dtype: float64"
            ]
          },
          "metadata": {
            "tags": []
          },
          "execution_count": 41
        }
      ]
    },
    {
      "metadata": {
        "id": "qIXcK3mkd5y6",
        "colab_type": "code",
        "colab": {
          "base_uri": "https://localhost:8080/",
          "height": 34
        },
        "outputId": "4baff0e3-89a6-49b1-ec39-d5dd7819dd36"
      },
      "cell_type": "code",
      "source": [
        "completo = []\n",
        "for index, row in df_completo.iterrows():\n",
        "  if (row['comfort_x'] == row['quintil_x'] or \n",
        "      row['comfort_x'] == row['quintil_x'] + 1 or\n",
        "      row['comfort_x'] == row['quintil_x'] - 1\n",
        "     ) and (row['comfort_y'] == row['quintil_y'] or \n",
        "      row['comfort_y'] == row['quintil_y'] + 1 or\n",
        "      row['comfort_y'] == row['quintil_y'] - 1\n",
        "     ) and (row['comfort_z'] == row['quintil_z'] or \n",
        "      row['comfort_z'] == row['quintil_z'] + 1 or\n",
        "      row['comfort_z'] == row['quintil_z'] - 1\n",
        "     ):\n",
        "      dict1 = {'date_time' : row['date_time'],\n",
        "               'latitude' : row['latitude'],\n",
        "               'longitude' : row['longitude'],\n",
        "               'engine_rpm' : row['engine_rpm'],\n",
        "               'engine_load': row['engine_load'],\n",
        "               'intake_manifold_pressure' : row['intake_manifold_pressure'],\n",
        "               'accelerator_pedal' : row['accelerator_pedal'],\n",
        "               'speed' : row['speed'],\n",
        "               'giroscope_x' : row['giroscope_x'],\n",
        "               'giroscope_y' : row['giroscope_y'],\n",
        "               'giroscope_z' : row['giroscope_z'],\n",
        "               'accelerometer_x_avg' : row['accelerometer_x_avg'],\n",
        "               'accelerometer_y_avg' : row['accelerometer_y_avg'],\n",
        "               'accelerometer_z_avg' : row['accelerometer_z_avg'],\n",
        "               'accelerometer_x_std' : row['accelerometer_x_std'],\n",
        "               'accelerometer_y_std' : row['accelerometer_y_std'],\n",
        "               'accelerometer_z_std' : row['accelerometer_z_std'],\n",
        "               'comfort_x' : row['comfort_x'],\n",
        "               'comfort_y' : row['comfort_y'],\n",
        "               'comfort_z' : row['comfort_y'],\n",
        "               'comfort_geral' : row['comfort_geral']}\n",
        "      completo.append(dict1)"
      ],
      "execution_count": 88,
      "outputs": [
        {
          "output_type": "execute_result",
          "data": {
            "text/plain": [
              "16485"
            ]
          },
          "metadata": {
            "tags": []
          },
          "execution_count": 88
        }
      ]
    },
    {
      "metadata": {
        "id": "ExuyTHs5eJu4",
        "colab_type": "code",
        "colab": {}
      },
      "cell_type": "code",
      "source": [
        "df_final = pd.DataFrame(completo, columns=('date_time', \n",
        "                                    'latitude', \n",
        "                                    'longitude', \n",
        "                                    'engine_rpm', \n",
        "                                    'engine_load', \n",
        "                                    'intake_manifold_pressure',\n",
        "                                    'accelerator_pedal',\n",
        "                                    'speed',\n",
        "                                    'giroscope_x',\n",
        "                                    'giroscope_y',\n",
        "                                    'giroscope_z',\n",
        "                                    'accelerometer_x_avg',\n",
        "                                    'accelerometer_y_avg',\n",
        "                                    'accelerometer_z_avg',\n",
        "                                    'accelerometer_x_std',\n",
        "                                    'accelerometer_y_std',\n",
        "                                    'accelerometer_z_std',\n",
        "                                    'comfort_x',\n",
        "                                    'comfort_y',\n",
        "                                    'comfort_z',\n",
        "                                    'comfort_geral',\n",
        "                                    'group'\n",
        "                                   ))"
      ],
      "execution_count": 0,
      "outputs": []
    },
    {
      "metadata": {
        "id": "cNO_ysi4xghy",
        "colab_type": "code",
        "colab": {}
      },
      "cell_type": "code",
      "source": [
        "df_final.comfort_x.replace(to_replace={1 : 'MuitoDesconfortavel', 2 :'RazoavelmenteDesconfortavel', 3 : 'Confortavel', 4 : 'RazoavelmenteConfortavel', 5 : 'MuitoConfortavel'}, inplace=True)\n",
        "df_final.comfort_y.replace(to_replace={1 : 'MuitoDesconfortavel', 2 :'RazoavelmenteDesconfortavel', 3 : 'Confortavel', 4 : 'RazoavelmenteConfortavel', 5 : 'MuitoConfortavel'}, inplace=True)\n",
        "df_final.comfort_z.replace(to_replace={1 : 'MuitoDesconfortavel', 2 :'RazoavelmenteDesconfortavel', 3 : 'Confortavel', 4 : 'RazoavelmenteConfortavel', 5 : 'MuitoConfortavel'}, inplace=True)\n",
        "                                       \n"
      ],
      "execution_count": 0,
      "outputs": []
    },
    {
      "metadata": {
        "id": "k5Kx63DnuYjS",
        "colab_type": "code",
        "colab": {}
      },
      "cell_type": "code",
      "source": [
        "df_train = df_final.sample(frac=0.5)"
      ],
      "execution_count": 0,
      "outputs": []
    },
    {
      "metadata": {
        "id": "nOTd6O7hvJVi",
        "colab_type": "code",
        "colab": {}
      },
      "cell_type": "code",
      "source": [
        "df_test = df_final.loc[~df_final.index.isin(df_train.index)]"
      ],
      "execution_count": 0,
      "outputs": []
    },
    {
      "metadata": {
        "id": "U6LVkhZUvZa6",
        "colab_type": "code",
        "colab": {}
      },
      "cell_type": "code",
      "source": [
        "df_train.to_pickle(\"drive/My Drive/Udesc/train.pkl\")"
      ],
      "execution_count": 0,
      "outputs": []
    },
    {
      "metadata": {
        "id": "GYreuW4HvZwy",
        "colab_type": "code",
        "colab": {}
      },
      "cell_type": "code",
      "source": [
        "df_test.to_pickle(\"drive/My Drive/Udesc/test.pkl\")"
      ],
      "execution_count": 0,
      "outputs": []
    }
  ]
}