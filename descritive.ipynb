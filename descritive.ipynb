{
  "nbformat": 4,
  "nbformat_minor": 0,
  "metadata": {
    "colab": {
      "name": "descritive.ipynb",
      "version": "0.3.2",
      "provenance": [],
      "toc_visible": true,
      "include_colab_link": true
    },
    "kernelspec": {
      "name": "python3",
      "display_name": "Python 3"
    }
  },
  "cells": [
    {
      "cell_type": "markdown",
      "metadata": {
        "id": "view-in-github",
        "colab_type": "text"
      },
      "source": [
        "<a href=\"https://colab.research.google.com/github/vanessabrolim/comfort_analysis/blob/master/descritive.ipynb\" target=\"_parent\"><img src=\"https://colab.research.google.com/assets/colab-badge.svg\" alt=\"Open In Colab\"/></a>"
      ]
    },
    {
      "metadata": {
        "id": "If-dAUPbLopB",
        "colab_type": "text"
      },
      "cell_type": "markdown",
      "source": [
        "### Importação das libs"
      ]
    },
    {
      "metadata": {
        "id": "dAbt0FTm9t_L",
        "colab_type": "code",
        "outputId": "d46b21ad-5fe6-417e-dcdc-5b749870d18b",
        "colab": {
          "base_uri": "https://localhost:8080/",
          "height": 122
        }
      },
      "cell_type": "code",
      "source": [
        "import pandas as pd\n",
        "import matplotlib.pyplot as plt\n",
        "import numpy as np\n",
        "from scipy import stats\n",
        "from geopy.distance import vincenty\n",
        "from google.colab import drive\n",
        "drive.mount('/content/drive')"
      ],
      "execution_count": 0,
      "outputs": [
        {
          "output_type": "stream",
          "text": [
            "Go to this URL in a browser: https://accounts.google.com/o/oauth2/auth?client_id=947318989803-6bn6qk8qdgf4n4g3pfee6491hc0brc4i.apps.googleusercontent.com&redirect_uri=urn%3Aietf%3Awg%3Aoauth%3A2.0%3Aoob&scope=email%20https%3A%2F%2Fwww.googleapis.com%2Fauth%2Fdocs.test%20https%3A%2F%2Fwww.googleapis.com%2Fauth%2Fdrive%20https%3A%2F%2Fwww.googleapis.com%2Fauth%2Fdrive.photos.readonly%20https%3A%2F%2Fwww.googleapis.com%2Fauth%2Fpeopleapi.readonly&response_type=code\n",
            "\n",
            "Enter your authorization code:\n",
            "··········\n",
            "Mounted at /content/drive\n"
          ],
          "name": "stdout"
        }
      ]
    },
    {
      "metadata": {
        "id": "9PiXYtLFK1sK",
        "colab_type": "text"
      },
      "cell_type": "markdown",
      "source": [
        "### Carregamento dos arquivos de trajetórias"
      ]
    },
    {
      "metadata": {
        "id": "FjPoyL5sSvAi",
        "colab_type": "code",
        "colab": {}
      },
      "cell_type": "code",
      "source": [
        "f15 = pd.read_csv('drive/My Drive/Udesc/periodo/15.tsv', sep='\\t', low_memory = False)\n",
        "f16 = pd.read_csv('drive/My Drive/Udesc/periodo/16.tsv', sep='\\t', low_memory = False)\n",
        "f17 = pd.read_csv('drive/My Drive/Udesc/periodo/17.tsv', sep='\\t', low_memory = False)\n",
        "f18 = pd.read_csv('drive/My Drive/Udesc/periodo/18.tsv', sep='\\t', low_memory = False)\n",
        "f19 = pd.read_csv('drive/My Drive/Udesc/periodo/19.tsv', sep='\\t', low_memory = False)\n",
        "f20 = pd.read_csv('drive/My Drive/Udesc/periodo/20.tsv', sep='\\t', low_memory = False)\n",
        "f22 = pd.read_csv('drive/My Drive/Udesc/periodo/22.tsv', sep='\\t', low_memory = False)\n",
        "f23 = pd.read_csv('drive/My Drive/Udesc/periodo/23.tsv', sep='\\t', low_memory = False)\n",
        "f24 = pd.read_csv('drive/My Drive/Udesc/periodo/24.tsv', sep='\\t', low_memory = False)\n",
        "f25 = pd.read_csv('drive/My Drive/Udesc/periodo/25.tsv', sep='\\t', low_memory = False)"
      ],
      "execution_count": 0,
      "outputs": []
    },
    {
      "metadata": {
        "id": "5CYEodyXbxk1",
        "colab_type": "code",
        "colab": {}
      },
      "cell_type": "code",
      "source": [
        "# f15.to_pickle(\"./f15.pkl\")\n",
        "# f16.to_pickle(\"./f16.pkl\")\n",
        "# f17.to_pickle(\"./f17.pkl\")\n",
        "# f18.to_pickle(\"./f18.pkl\")\n",
        "# f19.to_pickle(\"./f19.pkl\")\n",
        "# f20.to_pickle(\"./f20.pkl\")\n",
        "# f22.to_pickle(\"./f22.pkl\")\n",
        "# f23.to_pickle(\"./f23.pkl\")\n",
        "# f24.to_pickle(\"./f24.pkl\")\n",
        "# f25.to_pickle(\"./f25.pkl\")\n"
      ],
      "execution_count": 0,
      "outputs": []
    },
    {
      "metadata": {
        "id": "ziHm8MK1b6EO",
        "colab_type": "code",
        "colab": {}
      },
      "cell_type": "code",
      "source": [
        "# f152 = pd.read_pickle(\"./f16.pkl\")"
      ],
      "execution_count": 0,
      "outputs": []
    },
    {
      "metadata": {
        "id": "pkijn0Ic504n",
        "colab_type": "code",
        "outputId": "509675a2-ddad-4a6a-c0be-31947f40e099",
        "colab": {
          "base_uri": "https://localhost:8080/",
          "height": 338
        }
      },
      "cell_type": "code",
      "source": [
        " f15.head()"
      ],
      "execution_count": 0,
      "outputs": [
        {
          "output_type": "execute_result",
          "data": {
            "text/html": [
              "<div>\n",
              "<style scoped>\n",
              "    .dataframe tbody tr th:only-of-type {\n",
              "        vertical-align: middle;\n",
              "    }\n",
              "\n",
              "    .dataframe tbody tr th {\n",
              "        vertical-align: top;\n",
              "    }\n",
              "\n",
              "    .dataframe thead th {\n",
              "        text-align: right;\n",
              "    }\n",
              "</style>\n",
              "<table border=\"1\" class=\"dataframe\">\n",
              "  <thead>\n",
              "    <tr style=\"text-align: right;\">\n",
              "      <th></th>\n",
              "      <th>MILLIS</th>\n",
              "      <th>DATE_TIME</th>\n",
              "      <th>UNIX_TIMESTAMP</th>\n",
              "      <th>TIME_OF_DAY</th>\n",
              "      <th>LATITUDE</th>\n",
              "      <th>LONGITUDE</th>\n",
              "      <th>ALTITUDE</th>\n",
              "      <th>SPEED</th>\n",
              "      <th>SPEED_AVG</th>\n",
              "      <th>SPEED_STD</th>\n",
              "      <th>...</th>\n",
              "      <th>DISC_FUNCIONAMENTO</th>\n",
              "      <th>DISC_RPM</th>\n",
              "      <th>DISC_CARGA</th>\n",
              "      <th>DISC_TEMPERATURA_REFRIGERANTE</th>\n",
              "      <th>DISC_PRESSAO_COLETOR</th>\n",
              "      <th>DISC_PEDAL</th>\n",
              "      <th>DISC_CONSUMO</th>\n",
              "      <th>DISC_ACELEROMETRO_X</th>\n",
              "      <th>DISC_ACELEROMETRO_Y</th>\n",
              "      <th>DISC_ACELEROMETRO_Z</th>\n",
              "    </tr>\n",
              "  </thead>\n",
              "  <tbody>\n",
              "    <tr>\n",
              "      <th>0</th>\n",
              "      <td>36003915</td>\n",
              "      <td>2017-09-15T00:20:27.802Z</td>\n",
              "      <td>1.505435e+12</td>\n",
              "      <td>0.340833</td>\n",
              "      <td>NaN</td>\n",
              "      <td>NaN</td>\n",
              "      <td>NaN</td>\n",
              "      <td>NaN</td>\n",
              "      <td>NaN</td>\n",
              "      <td>NaN</td>\n",
              "      <td>...</td>\n",
              "      <td>NaN</td>\n",
              "      <td>NaN</td>\n",
              "      <td>NaN</td>\n",
              "      <td>NaN</td>\n",
              "      <td>NaN</td>\n",
              "      <td>NaN</td>\n",
              "      <td>NaN</td>\n",
              "      <td>CaminhoReto</td>\n",
              "      <td>CaminhoLiso</td>\n",
              "      <td>AceleracaoNeutra</td>\n",
              "    </tr>\n",
              "    <tr>\n",
              "      <th>1</th>\n",
              "      <td>36004415</td>\n",
              "      <td>2017-09-15T00:20:28.302Z</td>\n",
              "      <td>1.505435e+12</td>\n",
              "      <td>0.341111</td>\n",
              "      <td>-26.272034</td>\n",
              "      <td>-48.850364</td>\n",
              "      <td>NaN</td>\n",
              "      <td>0.127404</td>\n",
              "      <td>0.1400</td>\n",
              "      <td>0.0000</td>\n",
              "      <td>...</td>\n",
              "      <td>NaN</td>\n",
              "      <td>NaN</td>\n",
              "      <td>NaN</td>\n",
              "      <td>NaN</td>\n",
              "      <td>NaN</td>\n",
              "      <td>NaN</td>\n",
              "      <td>NaN</td>\n",
              "      <td>CaminhoReto</td>\n",
              "      <td>CaminhoLiso</td>\n",
              "      <td>AceleracaoNeutra</td>\n",
              "    </tr>\n",
              "    <tr>\n",
              "      <th>2</th>\n",
              "      <td>36004915</td>\n",
              "      <td>2017-09-15T00:20:28.802Z</td>\n",
              "      <td>1.505435e+12</td>\n",
              "      <td>0.341111</td>\n",
              "      <td>-26.272033</td>\n",
              "      <td>-48.850365</td>\n",
              "      <td>5.948690</td>\n",
              "      <td>0.061108</td>\n",
              "      <td>0.1400</td>\n",
              "      <td>0.0000</td>\n",
              "      <td>...</td>\n",
              "      <td>NaN</td>\n",
              "      <td>NaN</td>\n",
              "      <td>NaN</td>\n",
              "      <td>NaN</td>\n",
              "      <td>NaN</td>\n",
              "      <td>NaN</td>\n",
              "      <td>NaN</td>\n",
              "      <td>CaminhoReto</td>\n",
              "      <td>CaminhoLiso</td>\n",
              "      <td>AceleracaoNeutra</td>\n",
              "    </tr>\n",
              "    <tr>\n",
              "      <th>3</th>\n",
              "      <td>36005415</td>\n",
              "      <td>2017-09-15T00:20:29.302Z</td>\n",
              "      <td>1.505435e+12</td>\n",
              "      <td>0.341389</td>\n",
              "      <td>-26.272033</td>\n",
              "      <td>-48.850366</td>\n",
              "      <td>5.999093</td>\n",
              "      <td>0.009961</td>\n",
              "      <td>0.0745</td>\n",
              "      <td>0.0655</td>\n",
              "      <td>...</td>\n",
              "      <td>NaN</td>\n",
              "      <td>NaN</td>\n",
              "      <td>NaN</td>\n",
              "      <td>NaN</td>\n",
              "      <td>NaN</td>\n",
              "      <td>NaN</td>\n",
              "      <td>NaN</td>\n",
              "      <td>CaminhoReto</td>\n",
              "      <td>CaminhoLiso</td>\n",
              "      <td>AceleracaoNeutra</td>\n",
              "    </tr>\n",
              "    <tr>\n",
              "      <th>4</th>\n",
              "      <td>36005915</td>\n",
              "      <td>2017-09-15T00:20:29.802Z</td>\n",
              "      <td>1.505435e+12</td>\n",
              "      <td>0.341389</td>\n",
              "      <td>-26.272033</td>\n",
              "      <td>-48.850367</td>\n",
              "      <td>6.000000</td>\n",
              "      <td>0.014452</td>\n",
              "      <td>0.0745</td>\n",
              "      <td>0.0655</td>\n",
              "      <td>...</td>\n",
              "      <td>NaN</td>\n",
              "      <td>NaN</td>\n",
              "      <td>NaN</td>\n",
              "      <td>NaN</td>\n",
              "      <td>NaN</td>\n",
              "      <td>NaN</td>\n",
              "      <td>NaN</td>\n",
              "      <td>CaminhoReto</td>\n",
              "      <td>CaminhoLiso</td>\n",
              "      <td>AceleracaoNeutra</td>\n",
              "    </tr>\n",
              "  </tbody>\n",
              "</table>\n",
              "<p>5 rows × 71 columns</p>\n",
              "</div>"
            ],
            "text/plain": [
              "     MILLIS                 DATE_TIME  UNIX_TIMESTAMP  TIME_OF_DAY   LATITUDE  \\\n",
              "0  36003915  2017-09-15T00:20:27.802Z    1.505435e+12     0.340833        NaN   \n",
              "1  36004415  2017-09-15T00:20:28.302Z    1.505435e+12     0.341111 -26.272034   \n",
              "2  36004915  2017-09-15T00:20:28.802Z    1.505435e+12     0.341111 -26.272033   \n",
              "3  36005415  2017-09-15T00:20:29.302Z    1.505435e+12     0.341389 -26.272033   \n",
              "4  36005915  2017-09-15T00:20:29.802Z    1.505435e+12     0.341389 -26.272033   \n",
              "\n",
              "   LONGITUDE  ALTITUDE     SPEED  SPEED_AVG  SPEED_STD         ...           \\\n",
              "0        NaN       NaN       NaN        NaN        NaN         ...            \n",
              "1 -48.850364       NaN  0.127404     0.1400     0.0000         ...            \n",
              "2 -48.850365  5.948690  0.061108     0.1400     0.0000         ...            \n",
              "3 -48.850366  5.999093  0.009961     0.0745     0.0655         ...            \n",
              "4 -48.850367  6.000000  0.014452     0.0745     0.0655         ...            \n",
              "\n",
              "   DISC_FUNCIONAMENTO  DISC_RPM  DISC_CARGA  DISC_TEMPERATURA_REFRIGERANTE  \\\n",
              "0                 NaN       NaN         NaN                            NaN   \n",
              "1                 NaN       NaN         NaN                            NaN   \n",
              "2                 NaN       NaN         NaN                            NaN   \n",
              "3                 NaN       NaN         NaN                            NaN   \n",
              "4                 NaN       NaN         NaN                            NaN   \n",
              "\n",
              "  DISC_PRESSAO_COLETOR  DISC_PEDAL  DISC_CONSUMO  DISC_ACELEROMETRO_X  \\\n",
              "0                  NaN         NaN           NaN          CaminhoReto   \n",
              "1                  NaN         NaN           NaN          CaminhoReto   \n",
              "2                  NaN         NaN           NaN          CaminhoReto   \n",
              "3                  NaN         NaN           NaN          CaminhoReto   \n",
              "4                  NaN         NaN           NaN          CaminhoReto   \n",
              "\n",
              "  DISC_ACELEROMETRO_Y  DISC_ACELEROMETRO_Z  \n",
              "0         CaminhoLiso     AceleracaoNeutra  \n",
              "1         CaminhoLiso     AceleracaoNeutra  \n",
              "2         CaminhoLiso     AceleracaoNeutra  \n",
              "3         CaminhoLiso     AceleracaoNeutra  \n",
              "4         CaminhoLiso     AceleracaoNeutra  \n",
              "\n",
              "[5 rows x 71 columns]"
            ]
          },
          "metadata": {
            "tags": []
          },
          "execution_count": 4
        }
      ]
    },
    {
      "metadata": {
        "id": "wBoFjYzF54m-",
        "colab_type": "code",
        "outputId": "8eee5cf3-5f93-40eb-9f17-8d0b049c9ec6",
        "colab": {
          "base_uri": "https://localhost:8080/",
          "height": 338
        }
      },
      "cell_type": "code",
      "source": [
        "f16.head()"
      ],
      "execution_count": 0,
      "outputs": [
        {
          "output_type": "execute_result",
          "data": {
            "text/html": [
              "<div>\n",
              "<style scoped>\n",
              "    .dataframe tbody tr th:only-of-type {\n",
              "        vertical-align: middle;\n",
              "    }\n",
              "\n",
              "    .dataframe tbody tr th {\n",
              "        vertical-align: top;\n",
              "    }\n",
              "\n",
              "    .dataframe thead th {\n",
              "        text-align: right;\n",
              "    }\n",
              "</style>\n",
              "<table border=\"1\" class=\"dataframe\">\n",
              "  <thead>\n",
              "    <tr style=\"text-align: right;\">\n",
              "      <th></th>\n",
              "      <th>MILLIS</th>\n",
              "      <th>DATE_TIME</th>\n",
              "      <th>UNIX_TIMESTAMP</th>\n",
              "      <th>TIME_OF_DAY</th>\n",
              "      <th>LATITUDE</th>\n",
              "      <th>LONGITUDE</th>\n",
              "      <th>ALTITUDE</th>\n",
              "      <th>SPEED</th>\n",
              "      <th>SPEED_AVG</th>\n",
              "      <th>SPEED_STD</th>\n",
              "      <th>...</th>\n",
              "      <th>DISC_FUNCIONAMENTO</th>\n",
              "      <th>DISC_RPM</th>\n",
              "      <th>DISC_CARGA</th>\n",
              "      <th>DISC_TEMPERATURA_REFRIGERANTE</th>\n",
              "      <th>DISC_PRESSAO_COLETOR</th>\n",
              "      <th>DISC_PEDAL</th>\n",
              "      <th>DISC_CONSUMO</th>\n",
              "      <th>DISC_ACELEROMETRO_X</th>\n",
              "      <th>DISC_ACELEROMETRO_Y</th>\n",
              "      <th>DISC_ACELEROMETRO_Z</th>\n",
              "    </tr>\n",
              "  </thead>\n",
              "  <tbody>\n",
              "    <tr>\n",
              "      <th>0</th>\n",
              "      <td>126006422</td>\n",
              "      <td>2017-09-16T01:20:30.496Z</td>\n",
              "      <td>1.505525e+12</td>\n",
              "      <td>1.341667</td>\n",
              "      <td>NaN</td>\n",
              "      <td>NaN</td>\n",
              "      <td>NaN</td>\n",
              "      <td>NaN</td>\n",
              "      <td>NaN</td>\n",
              "      <td>NaN</td>\n",
              "      <td>...</td>\n",
              "      <td>NaN</td>\n",
              "      <td>NaN</td>\n",
              "      <td>NaN</td>\n",
              "      <td>NaN</td>\n",
              "      <td>NaN</td>\n",
              "      <td>NaN</td>\n",
              "      <td>NaN</td>\n",
              "      <td>CaminhoReto</td>\n",
              "      <td>CaminhoLiso</td>\n",
              "      <td>AceleracaoNeutra</td>\n",
              "    </tr>\n",
              "    <tr>\n",
              "      <th>1</th>\n",
              "      <td>126006922</td>\n",
              "      <td>2017-09-16T01:20:30.996Z</td>\n",
              "      <td>1.505525e+12</td>\n",
              "      <td>1.341667</td>\n",
              "      <td>NaN</td>\n",
              "      <td>NaN</td>\n",
              "      <td>NaN</td>\n",
              "      <td>NaN</td>\n",
              "      <td>NaN</td>\n",
              "      <td>NaN</td>\n",
              "      <td>...</td>\n",
              "      <td>NaN</td>\n",
              "      <td>NaN</td>\n",
              "      <td>NaN</td>\n",
              "      <td>NaN</td>\n",
              "      <td>NaN</td>\n",
              "      <td>NaN</td>\n",
              "      <td>NaN</td>\n",
              "      <td>CaminhoReto</td>\n",
              "      <td>CaminhoLiso</td>\n",
              "      <td>AceleracaoNeutra</td>\n",
              "    </tr>\n",
              "    <tr>\n",
              "      <th>2</th>\n",
              "      <td>126007422</td>\n",
              "      <td>2017-09-16T01:20:31.496Z</td>\n",
              "      <td>1.505525e+12</td>\n",
              "      <td>1.341944</td>\n",
              "      <td>-26.268193</td>\n",
              "      <td>-48.848638</td>\n",
              "      <td>-6.719081</td>\n",
              "      <td>0.290846</td>\n",
              "      <td>0.3250</td>\n",
              "      <td>0.0000</td>\n",
              "      <td>...</td>\n",
              "      <td>NaN</td>\n",
              "      <td>NaN</td>\n",
              "      <td>NaN</td>\n",
              "      <td>NaN</td>\n",
              "      <td>NaN</td>\n",
              "      <td>NaN</td>\n",
              "      <td>NaN</td>\n",
              "      <td>CaminhoReto</td>\n",
              "      <td>CaminhoLiso</td>\n",
              "      <td>AceleracaoNeutra</td>\n",
              "    </tr>\n",
              "    <tr>\n",
              "      <th>3</th>\n",
              "      <td>126007922</td>\n",
              "      <td>2017-09-16T01:20:31.996Z</td>\n",
              "      <td>1.505525e+12</td>\n",
              "      <td>1.341944</td>\n",
              "      <td>-26.268193</td>\n",
              "      <td>-48.848637</td>\n",
              "      <td>-6.769031</td>\n",
              "      <td>0.235402</td>\n",
              "      <td>0.3250</td>\n",
              "      <td>0.0000</td>\n",
              "      <td>...</td>\n",
              "      <td>NaN</td>\n",
              "      <td>NaN</td>\n",
              "      <td>NaN</td>\n",
              "      <td>NaN</td>\n",
              "      <td>NaN</td>\n",
              "      <td>NaN</td>\n",
              "      <td>NaN</td>\n",
              "      <td>CaminhoReto</td>\n",
              "      <td>CaminhoLiso</td>\n",
              "      <td>AceleracaoNeutra</td>\n",
              "    </tr>\n",
              "    <tr>\n",
              "      <th>4</th>\n",
              "      <td>126008422</td>\n",
              "      <td>2017-09-16T01:20:32.496Z</td>\n",
              "      <td>1.505525e+12</td>\n",
              "      <td>1.342222</td>\n",
              "      <td>-26.268193</td>\n",
              "      <td>-48.848636</td>\n",
              "      <td>-6.800000</td>\n",
              "      <td>0.234693</td>\n",
              "      <td>0.2695</td>\n",
              "      <td>0.0555</td>\n",
              "      <td>...</td>\n",
              "      <td>NaN</td>\n",
              "      <td>NaN</td>\n",
              "      <td>NaN</td>\n",
              "      <td>NaN</td>\n",
              "      <td>NaN</td>\n",
              "      <td>NaN</td>\n",
              "      <td>NaN</td>\n",
              "      <td>CaminhoReto</td>\n",
              "      <td>CaminhoLiso</td>\n",
              "      <td>AceleracaoNeutra</td>\n",
              "    </tr>\n",
              "  </tbody>\n",
              "</table>\n",
              "<p>5 rows × 71 columns</p>\n",
              "</div>"
            ],
            "text/plain": [
              "      MILLIS                 DATE_TIME  UNIX_TIMESTAMP  TIME_OF_DAY  \\\n",
              "0  126006422  2017-09-16T01:20:30.496Z    1.505525e+12     1.341667   \n",
              "1  126006922  2017-09-16T01:20:30.996Z    1.505525e+12     1.341667   \n",
              "2  126007422  2017-09-16T01:20:31.496Z    1.505525e+12     1.341944   \n",
              "3  126007922  2017-09-16T01:20:31.996Z    1.505525e+12     1.341944   \n",
              "4  126008422  2017-09-16T01:20:32.496Z    1.505525e+12     1.342222   \n",
              "\n",
              "    LATITUDE  LONGITUDE  ALTITUDE     SPEED  SPEED_AVG  SPEED_STD  \\\n",
              "0        NaN        NaN       NaN       NaN        NaN        NaN   \n",
              "1        NaN        NaN       NaN       NaN        NaN        NaN   \n",
              "2 -26.268193 -48.848638 -6.719081  0.290846     0.3250     0.0000   \n",
              "3 -26.268193 -48.848637 -6.769031  0.235402     0.3250     0.0000   \n",
              "4 -26.268193 -48.848636 -6.800000  0.234693     0.2695     0.0555   \n",
              "\n",
              "          ...           DISC_FUNCIONAMENTO  DISC_RPM  DISC_CARGA  \\\n",
              "0         ...                          NaN       NaN         NaN   \n",
              "1         ...                          NaN       NaN         NaN   \n",
              "2         ...                          NaN       NaN         NaN   \n",
              "3         ...                          NaN       NaN         NaN   \n",
              "4         ...                          NaN       NaN         NaN   \n",
              "\n",
              "   DISC_TEMPERATURA_REFRIGERANTE DISC_PRESSAO_COLETOR  DISC_PEDAL  \\\n",
              "0                            NaN                  NaN         NaN   \n",
              "1                            NaN                  NaN         NaN   \n",
              "2                            NaN                  NaN         NaN   \n",
              "3                            NaN                  NaN         NaN   \n",
              "4                            NaN                  NaN         NaN   \n",
              "\n",
              "   DISC_CONSUMO  DISC_ACELEROMETRO_X  DISC_ACELEROMETRO_Y  DISC_ACELEROMETRO_Z  \n",
              "0           NaN          CaminhoReto          CaminhoLiso     AceleracaoNeutra  \n",
              "1           NaN          CaminhoReto          CaminhoLiso     AceleracaoNeutra  \n",
              "2           NaN          CaminhoReto          CaminhoLiso     AceleracaoNeutra  \n",
              "3           NaN          CaminhoReto          CaminhoLiso     AceleracaoNeutra  \n",
              "4           NaN          CaminhoReto          CaminhoLiso     AceleracaoNeutra  \n",
              "\n",
              "[5 rows x 71 columns]"
            ]
          },
          "metadata": {
            "tags": []
          },
          "execution_count": 5
        }
      ]
    },
    {
      "metadata": {
        "id": "sOE5Jkm_57iP",
        "colab_type": "code",
        "colab": {}
      },
      "cell_type": "code",
      "source": [
        "todos = [f15, f16, f17, f18, f19, f20, f22, f23, f24, f25]\n",
        "ftudo = pd.concat(todos)\n"
      ],
      "execution_count": 0,
      "outputs": []
    },
    {
      "metadata": {
        "id": "hRV-M_oG6XCR",
        "colab_type": "code",
        "outputId": "7eb45585-f59e-470e-e142-89f9adfb9e36",
        "colab": {
          "base_uri": "https://localhost:8080/",
          "height": 338
        }
      },
      "cell_type": "code",
      "source": [
        "ftudo.head()"
      ],
      "execution_count": 0,
      "outputs": [
        {
          "output_type": "execute_result",
          "data": {
            "text/html": [
              "<div>\n",
              "<style scoped>\n",
              "    .dataframe tbody tr th:only-of-type {\n",
              "        vertical-align: middle;\n",
              "    }\n",
              "\n",
              "    .dataframe tbody tr th {\n",
              "        vertical-align: top;\n",
              "    }\n",
              "\n",
              "    .dataframe thead th {\n",
              "        text-align: right;\n",
              "    }\n",
              "</style>\n",
              "<table border=\"1\" class=\"dataframe\">\n",
              "  <thead>\n",
              "    <tr style=\"text-align: right;\">\n",
              "      <th></th>\n",
              "      <th>MILLIS</th>\n",
              "      <th>DATE_TIME</th>\n",
              "      <th>UNIX_TIMESTAMP</th>\n",
              "      <th>TIME_OF_DAY</th>\n",
              "      <th>LATITUDE</th>\n",
              "      <th>LONGITUDE</th>\n",
              "      <th>ALTITUDE</th>\n",
              "      <th>SPEED</th>\n",
              "      <th>SPEED_AVG</th>\n",
              "      <th>SPEED_STD</th>\n",
              "      <th>...</th>\n",
              "      <th>DISC_FUNCIONAMENTO</th>\n",
              "      <th>DISC_RPM</th>\n",
              "      <th>DISC_CARGA</th>\n",
              "      <th>DISC_TEMPERATURA_REFRIGERANTE</th>\n",
              "      <th>DISC_PRESSAO_COLETOR</th>\n",
              "      <th>DISC_PEDAL</th>\n",
              "      <th>DISC_CONSUMO</th>\n",
              "      <th>DISC_ACELEROMETRO_X</th>\n",
              "      <th>DISC_ACELEROMETRO_Y</th>\n",
              "      <th>DISC_ACELEROMETRO_Z</th>\n",
              "    </tr>\n",
              "  </thead>\n",
              "  <tbody>\n",
              "    <tr>\n",
              "      <th>0</th>\n",
              "      <td>36003915</td>\n",
              "      <td>2017-09-15T00:20:27.802Z</td>\n",
              "      <td>1.505435e+12</td>\n",
              "      <td>0.340833</td>\n",
              "      <td>NaN</td>\n",
              "      <td>NaN</td>\n",
              "      <td>NaN</td>\n",
              "      <td>NaN</td>\n",
              "      <td>NaN</td>\n",
              "      <td>NaN</td>\n",
              "      <td>...</td>\n",
              "      <td>NaN</td>\n",
              "      <td>NaN</td>\n",
              "      <td>NaN</td>\n",
              "      <td>NaN</td>\n",
              "      <td>NaN</td>\n",
              "      <td>NaN</td>\n",
              "      <td>NaN</td>\n",
              "      <td>CaminhoReto</td>\n",
              "      <td>CaminhoLiso</td>\n",
              "      <td>AceleracaoNeutra</td>\n",
              "    </tr>\n",
              "    <tr>\n",
              "      <th>1</th>\n",
              "      <td>36004415</td>\n",
              "      <td>2017-09-15T00:20:28.302Z</td>\n",
              "      <td>1.505435e+12</td>\n",
              "      <td>0.341111</td>\n",
              "      <td>-26.272034</td>\n",
              "      <td>-48.850364</td>\n",
              "      <td>NaN</td>\n",
              "      <td>0.127404</td>\n",
              "      <td>0.1400</td>\n",
              "      <td>0.0000</td>\n",
              "      <td>...</td>\n",
              "      <td>NaN</td>\n",
              "      <td>NaN</td>\n",
              "      <td>NaN</td>\n",
              "      <td>NaN</td>\n",
              "      <td>NaN</td>\n",
              "      <td>NaN</td>\n",
              "      <td>NaN</td>\n",
              "      <td>CaminhoReto</td>\n",
              "      <td>CaminhoLiso</td>\n",
              "      <td>AceleracaoNeutra</td>\n",
              "    </tr>\n",
              "    <tr>\n",
              "      <th>2</th>\n",
              "      <td>36004915</td>\n",
              "      <td>2017-09-15T00:20:28.802Z</td>\n",
              "      <td>1.505435e+12</td>\n",
              "      <td>0.341111</td>\n",
              "      <td>-26.272033</td>\n",
              "      <td>-48.850365</td>\n",
              "      <td>5.948690</td>\n",
              "      <td>0.061108</td>\n",
              "      <td>0.1400</td>\n",
              "      <td>0.0000</td>\n",
              "      <td>...</td>\n",
              "      <td>NaN</td>\n",
              "      <td>NaN</td>\n",
              "      <td>NaN</td>\n",
              "      <td>NaN</td>\n",
              "      <td>NaN</td>\n",
              "      <td>NaN</td>\n",
              "      <td>NaN</td>\n",
              "      <td>CaminhoReto</td>\n",
              "      <td>CaminhoLiso</td>\n",
              "      <td>AceleracaoNeutra</td>\n",
              "    </tr>\n",
              "    <tr>\n",
              "      <th>3</th>\n",
              "      <td>36005415</td>\n",
              "      <td>2017-09-15T00:20:29.302Z</td>\n",
              "      <td>1.505435e+12</td>\n",
              "      <td>0.341389</td>\n",
              "      <td>-26.272033</td>\n",
              "      <td>-48.850366</td>\n",
              "      <td>5.999093</td>\n",
              "      <td>0.009961</td>\n",
              "      <td>0.0745</td>\n",
              "      <td>0.0655</td>\n",
              "      <td>...</td>\n",
              "      <td>NaN</td>\n",
              "      <td>NaN</td>\n",
              "      <td>NaN</td>\n",
              "      <td>NaN</td>\n",
              "      <td>NaN</td>\n",
              "      <td>NaN</td>\n",
              "      <td>NaN</td>\n",
              "      <td>CaminhoReto</td>\n",
              "      <td>CaminhoLiso</td>\n",
              "      <td>AceleracaoNeutra</td>\n",
              "    </tr>\n",
              "    <tr>\n",
              "      <th>4</th>\n",
              "      <td>36005915</td>\n",
              "      <td>2017-09-15T00:20:29.802Z</td>\n",
              "      <td>1.505435e+12</td>\n",
              "      <td>0.341389</td>\n",
              "      <td>-26.272033</td>\n",
              "      <td>-48.850367</td>\n",
              "      <td>6.000000</td>\n",
              "      <td>0.014452</td>\n",
              "      <td>0.0745</td>\n",
              "      <td>0.0655</td>\n",
              "      <td>...</td>\n",
              "      <td>NaN</td>\n",
              "      <td>NaN</td>\n",
              "      <td>NaN</td>\n",
              "      <td>NaN</td>\n",
              "      <td>NaN</td>\n",
              "      <td>NaN</td>\n",
              "      <td>NaN</td>\n",
              "      <td>CaminhoReto</td>\n",
              "      <td>CaminhoLiso</td>\n",
              "      <td>AceleracaoNeutra</td>\n",
              "    </tr>\n",
              "  </tbody>\n",
              "</table>\n",
              "<p>5 rows × 71 columns</p>\n",
              "</div>"
            ],
            "text/plain": [
              "     MILLIS                 DATE_TIME  UNIX_TIMESTAMP  TIME_OF_DAY   LATITUDE  \\\n",
              "0  36003915  2017-09-15T00:20:27.802Z    1.505435e+12     0.340833        NaN   \n",
              "1  36004415  2017-09-15T00:20:28.302Z    1.505435e+12     0.341111 -26.272034   \n",
              "2  36004915  2017-09-15T00:20:28.802Z    1.505435e+12     0.341111 -26.272033   \n",
              "3  36005415  2017-09-15T00:20:29.302Z    1.505435e+12     0.341389 -26.272033   \n",
              "4  36005915  2017-09-15T00:20:29.802Z    1.505435e+12     0.341389 -26.272033   \n",
              "\n",
              "   LONGITUDE  ALTITUDE     SPEED  SPEED_AVG  SPEED_STD         ...          \\\n",
              "0        NaN       NaN       NaN        NaN        NaN         ...           \n",
              "1 -48.850364       NaN  0.127404     0.1400     0.0000         ...           \n",
              "2 -48.850365  5.948690  0.061108     0.1400     0.0000         ...           \n",
              "3 -48.850366  5.999093  0.009961     0.0745     0.0655         ...           \n",
              "4 -48.850367  6.000000  0.014452     0.0745     0.0655         ...           \n",
              "\n",
              "   DISC_FUNCIONAMENTO  DISC_RPM  DISC_CARGA  DISC_TEMPERATURA_REFRIGERANTE  \\\n",
              "0                 NaN       NaN         NaN                            NaN   \n",
              "1                 NaN       NaN         NaN                            NaN   \n",
              "2                 NaN       NaN         NaN                            NaN   \n",
              "3                 NaN       NaN         NaN                            NaN   \n",
              "4                 NaN       NaN         NaN                            NaN   \n",
              "\n",
              "  DISC_PRESSAO_COLETOR  DISC_PEDAL  DISC_CONSUMO  DISC_ACELEROMETRO_X  \\\n",
              "0                  NaN         NaN           NaN          CaminhoReto   \n",
              "1                  NaN         NaN           NaN          CaminhoReto   \n",
              "2                  NaN         NaN           NaN          CaminhoReto   \n",
              "3                  NaN         NaN           NaN          CaminhoReto   \n",
              "4                  NaN         NaN           NaN          CaminhoReto   \n",
              "\n",
              "  DISC_ACELEROMETRO_Y DISC_ACELEROMETRO_Z  \n",
              "0         CaminhoLiso    AceleracaoNeutra  \n",
              "1         CaminhoLiso    AceleracaoNeutra  \n",
              "2         CaminhoLiso    AceleracaoNeutra  \n",
              "3         CaminhoLiso    AceleracaoNeutra  \n",
              "4         CaminhoLiso    AceleracaoNeutra  \n",
              "\n",
              "[5 rows x 71 columns]"
            ]
          },
          "metadata": {
            "tags": []
          },
          "execution_count": 7
        }
      ]
    },
    {
      "metadata": {
        "id": "g7EaZo4fM5a1",
        "colab_type": "code",
        "colab": {}
      },
      "cell_type": "code",
      "source": [
        "ftudo['DATE_TIME'] = pd.to_datetime(ftudo['DATE_TIME'])"
      ],
      "execution_count": 0,
      "outputs": []
    },
    {
      "metadata": {
        "id": "uPErXaSm6bLM",
        "colab_type": "code",
        "outputId": "49cd47ff-fcd1-4c5a-8375-2a48ec577bfa",
        "colab": {
          "base_uri": "https://localhost:8080/",
          "height": 1224
        }
      },
      "cell_type": "code",
      "source": [
        "list(ftudo)"
      ],
      "execution_count": 0,
      "outputs": [
        {
          "output_type": "execute_result",
          "data": {
            "text/plain": [
              "['MILLIS',\n",
              " 'DATE_TIME',\n",
              " 'UNIX_TIMESTAMP',\n",
              " 'TIME_OF_DAY',\n",
              " 'LATITUDE',\n",
              " 'LONGITUDE',\n",
              " 'ALTITUDE',\n",
              " 'SPEED',\n",
              " 'SPEED_AVG',\n",
              " 'SPEED_STD',\n",
              " 'SPEED_CRUISE',\n",
              " 'SPEED_CHANGE',\n",
              " 'DISTANCE',\n",
              " 'FIX_QUALITY',\n",
              " 'PRN',\n",
              " 'PDOP',\n",
              " 'HDOP',\n",
              " 'VDOP',\n",
              " 'MIL_STATUS',\n",
              " 'OBD_STANDARD',\n",
              " 'TROUBLE_CODES_COUNT',\n",
              " 'ENGINE_RUN_TIME',\n",
              " 'BATTERY_VOLTAGE',\n",
              " 'VEHICLE_SPEED',\n",
              " 'ENGINE_RPM',\n",
              " 'ENGINE_LOAD',\n",
              " 'COLANT_TEMPERATURE',\n",
              " 'ENGINE_THROTTLE',\n",
              " 'INTAKE_MANIFOLD_PRESSURE',\n",
              " 'INTAKE_AIR_TEMPERATURE',\n",
              " 'ACCELERATOR_PEDAL_D',\n",
              " 'FUEL_RATE',\n",
              " 'FUEL_PER_SPEED_RATE',\n",
              " 'ACCELEROMETER_X_SHORT_AVG',\n",
              " 'ACCELEROMETER_Y_SHORT_AVG',\n",
              " 'ACCELEROMETER_Z_SHORT_AVG',\n",
              " 'ACCELEROMETER_X_LONG_AVG',\n",
              " 'ACCELEROMETER_Y_LONG_AVG',\n",
              " 'ACCELEROMETER_Z_LONG_AVG',\n",
              " 'ACCELEROMETER_X_LONG_STD',\n",
              " 'ACCELEROMETER_Y_LONG_STD',\n",
              " 'ACCELEROMETER_Z_LONG_STD',\n",
              " 'ACCELEROMETER_X_OFFSET',\n",
              " 'ACCELEROMETER_Y_OFFSET',\n",
              " 'ACCELEROMETER_Z_OFFSET',\n",
              " 'ACCELEROMETER_X_CENTERED',\n",
              " 'ACCELEROMETER_Y_CENTERED',\n",
              " 'ACCELEROMETER_Z_CENTERED',\n",
              " 'ACCELEROMETER_X_RAW',\n",
              " 'ACCELEROMETER_Y_RAW',\n",
              " 'ACCELEROMETER_Z_RAW',\n",
              " 'GYROSCOPE_X_RAW',\n",
              " 'GYROSCOPE_Y_RAW',\n",
              " 'GYROSCOPE_Z_RAW',\n",
              " 'TEMPERATURE_RAW',\n",
              " 'DRIVER',\n",
              " 'GPS_EVENTS',\n",
              " 'IMU_EVENTS',\n",
              " 'OBD_EVENTS',\n",
              " 'DISC_PERIODO_DO_DIA',\n",
              " 'DISC_VELOCIDADE',\n",
              " 'DISC_FUNCIONAMENTO',\n",
              " 'DISC_RPM',\n",
              " 'DISC_CARGA',\n",
              " 'DISC_TEMPERATURA_REFRIGERANTE',\n",
              " 'DISC_PRESSAO_COLETOR',\n",
              " 'DISC_PEDAL',\n",
              " 'DISC_CONSUMO',\n",
              " 'DISC_ACELEROMETRO_X',\n",
              " 'DISC_ACELEROMETRO_Y',\n",
              " 'DISC_ACELEROMETRO_Z']"
            ]
          },
          "metadata": {
            "tags": []
          },
          "execution_count": 9
        }
      ]
    },
    {
      "metadata": {
        "id": "N-QJ6keLK_aJ",
        "colab_type": "text"
      },
      "cell_type": "markdown",
      "source": [
        "### Seleção de colunas"
      ]
    },
    {
      "metadata": {
        "id": "EDcNV3c5FYed",
        "colab_type": "code",
        "colab": {}
      },
      "cell_type": "code",
      "source": [
        "df = ftudo[[\n",
        "    'DATE_TIME',\n",
        "    'LATITUDE',\n",
        "    'LONGITUDE',\n",
        "    'ENGINE_RPM', \n",
        "    'ENGINE_LOAD', \n",
        "    'INTAKE_MANIFOLD_PRESSURE', \n",
        "    'ACCELERATOR_PEDAL_D',\n",
        "    'SPEED',\n",
        "    'GYROSCOPE_X_RAW',\n",
        "    'GYROSCOPE_Y_RAW',\n",
        "    'GYROSCOPE_Z_RAW',\n",
        "    'ACCELEROMETER_X_LONG_AVG',\n",
        "    'ACCELEROMETER_Y_LONG_AVG',\n",
        "    'ACCELEROMETER_Z_LONG_AVG',\n",
        "    'ACCELEROMETER_X_LONG_STD',\n",
        "    'ACCELEROMETER_Y_LONG_STD',\n",
        "    'ACCELEROMETER_Z_LONG_STD']]"
      ],
      "execution_count": 0,
      "outputs": []
    },
    {
      "metadata": {
        "id": "ZqP6F4htHVsq",
        "colab_type": "code",
        "outputId": "5ae83cee-a555-4f57-8b05-f8b631c4a3ea",
        "colab": {
          "base_uri": "https://localhost:8080/",
          "height": 306
        }
      },
      "cell_type": "code",
      "source": [
        "list(df)"
      ],
      "execution_count": 0,
      "outputs": [
        {
          "output_type": "execute_result",
          "data": {
            "text/plain": [
              "['DATE_TIME',\n",
              " 'LATITUDE',\n",
              " 'LONGITUDE',\n",
              " 'ENGINE_RPM',\n",
              " 'ENGINE_LOAD',\n",
              " 'INTAKE_MANIFOLD_PRESSURE',\n",
              " 'ACCELERATOR_PEDAL_D',\n",
              " 'SPEED',\n",
              " 'GYROSCOPE_X_RAW',\n",
              " 'GYROSCOPE_Y_RAW',\n",
              " 'GYROSCOPE_Z_RAW',\n",
              " 'ACCELEROMETER_X_LONG_AVG',\n",
              " 'ACCELEROMETER_Y_LONG_AVG',\n",
              " 'ACCELEROMETER_Z_LONG_AVG',\n",
              " 'ACCELEROMETER_X_LONG_STD',\n",
              " 'ACCELEROMETER_Y_LONG_STD',\n",
              " 'ACCELEROMETER_Z_LONG_STD']"
            ]
          },
          "metadata": {
            "tags": []
          },
          "execution_count": 11
        }
      ]
    },
    {
      "metadata": {
        "id": "kPgkJD9YHdfd",
        "colab_type": "code",
        "outputId": "7c43040e-f1d7-4d4a-e707-0295b70dd3a7",
        "colab": {
          "base_uri": "https://localhost:8080/",
          "height": 309
        }
      },
      "cell_type": "code",
      "source": [
        "df.head()"
      ],
      "execution_count": 0,
      "outputs": [
        {
          "output_type": "execute_result",
          "data": {
            "text/html": [
              "<div>\n",
              "<style scoped>\n",
              "    .dataframe tbody tr th:only-of-type {\n",
              "        vertical-align: middle;\n",
              "    }\n",
              "\n",
              "    .dataframe tbody tr th {\n",
              "        vertical-align: top;\n",
              "    }\n",
              "\n",
              "    .dataframe thead th {\n",
              "        text-align: right;\n",
              "    }\n",
              "</style>\n",
              "<table border=\"1\" class=\"dataframe\">\n",
              "  <thead>\n",
              "    <tr style=\"text-align: right;\">\n",
              "      <th></th>\n",
              "      <th>DATE_TIME</th>\n",
              "      <th>LATITUDE</th>\n",
              "      <th>LONGITUDE</th>\n",
              "      <th>ENGINE_RPM</th>\n",
              "      <th>ENGINE_LOAD</th>\n",
              "      <th>INTAKE_MANIFOLD_PRESSURE</th>\n",
              "      <th>ACCELERATOR_PEDAL_D</th>\n",
              "      <th>SPEED</th>\n",
              "      <th>GYROSCOPE_X_RAW</th>\n",
              "      <th>GYROSCOPE_Y_RAW</th>\n",
              "      <th>GYROSCOPE_Z_RAW</th>\n",
              "      <th>ACCELEROMETER_X_LONG_AVG</th>\n",
              "      <th>ACCELEROMETER_Y_LONG_AVG</th>\n",
              "      <th>ACCELEROMETER_Z_LONG_AVG</th>\n",
              "      <th>ACCELEROMETER_X_LONG_STD</th>\n",
              "      <th>ACCELEROMETER_Y_LONG_STD</th>\n",
              "      <th>ACCELEROMETER_Z_LONG_STD</th>\n",
              "    </tr>\n",
              "  </thead>\n",
              "  <tbody>\n",
              "    <tr>\n",
              "      <th>0</th>\n",
              "      <td>2017-09-15 00:20:27.802</td>\n",
              "      <td>NaN</td>\n",
              "      <td>NaN</td>\n",
              "      <td>NaN</td>\n",
              "      <td>NaN</td>\n",
              "      <td>NaN</td>\n",
              "      <td>NaN</td>\n",
              "      <td>NaN</td>\n",
              "      <td>-1.28</td>\n",
              "      <td>-0.26</td>\n",
              "      <td>-2.20</td>\n",
              "      <td>1.026000</td>\n",
              "      <td>0.081000</td>\n",
              "      <td>0.116000</td>\n",
              "      <td>0.000000</td>\n",
              "      <td>0.000000</td>\n",
              "      <td>0.000000</td>\n",
              "    </tr>\n",
              "    <tr>\n",
              "      <th>1</th>\n",
              "      <td>2017-09-15 00:20:28.302</td>\n",
              "      <td>-26.272034</td>\n",
              "      <td>-48.850364</td>\n",
              "      <td>NaN</td>\n",
              "      <td>NaN</td>\n",
              "      <td>NaN</td>\n",
              "      <td>NaN</td>\n",
              "      <td>0.127404</td>\n",
              "      <td>-1.29</td>\n",
              "      <td>-0.02</td>\n",
              "      <td>-2.58</td>\n",
              "      <td>1.018600</td>\n",
              "      <td>0.081000</td>\n",
              "      <td>0.115000</td>\n",
              "      <td>0.006020</td>\n",
              "      <td>0.002608</td>\n",
              "      <td>0.001897</td>\n",
              "    </tr>\n",
              "    <tr>\n",
              "      <th>2</th>\n",
              "      <td>2017-09-15 00:20:28.802</td>\n",
              "      <td>-26.272033</td>\n",
              "      <td>-48.850365</td>\n",
              "      <td>NaN</td>\n",
              "      <td>NaN</td>\n",
              "      <td>NaN</td>\n",
              "      <td>NaN</td>\n",
              "      <td>0.061108</td>\n",
              "      <td>-1.26</td>\n",
              "      <td>-0.13</td>\n",
              "      <td>-2.30</td>\n",
              "      <td>1.018000</td>\n",
              "      <td>0.080900</td>\n",
              "      <td>0.115500</td>\n",
              "      <td>0.005040</td>\n",
              "      <td>0.002587</td>\n",
              "      <td>0.004177</td>\n",
              "    </tr>\n",
              "    <tr>\n",
              "      <th>3</th>\n",
              "      <td>2017-09-15 00:20:29.302</td>\n",
              "      <td>-26.272033</td>\n",
              "      <td>-48.850366</td>\n",
              "      <td>NaN</td>\n",
              "      <td>NaN</td>\n",
              "      <td>NaN</td>\n",
              "      <td>NaN</td>\n",
              "      <td>0.009961</td>\n",
              "      <td>-1.35</td>\n",
              "      <td>-0.24</td>\n",
              "      <td>-2.41</td>\n",
              "      <td>1.017867</td>\n",
              "      <td>0.080333</td>\n",
              "      <td>0.115933</td>\n",
              "      <td>0.004272</td>\n",
              "      <td>0.002821</td>\n",
              "      <td>0.003750</td>\n",
              "    </tr>\n",
              "    <tr>\n",
              "      <th>4</th>\n",
              "      <td>2017-09-15 00:20:29.802</td>\n",
              "      <td>-26.272033</td>\n",
              "      <td>-48.850367</td>\n",
              "      <td>NaN</td>\n",
              "      <td>NaN</td>\n",
              "      <td>NaN</td>\n",
              "      <td>NaN</td>\n",
              "      <td>0.014452</td>\n",
              "      <td>-1.22</td>\n",
              "      <td>-0.29</td>\n",
              "      <td>-2.58</td>\n",
              "      <td>1.017500</td>\n",
              "      <td>0.079750</td>\n",
              "      <td>0.115750</td>\n",
              "      <td>0.003814</td>\n",
              "      <td>0.002947</td>\n",
              "      <td>0.003832</td>\n",
              "    </tr>\n",
              "  </tbody>\n",
              "</table>\n",
              "</div>"
            ],
            "text/plain": [
              "                DATE_TIME   LATITUDE  LONGITUDE  ENGINE_RPM  ENGINE_LOAD  \\\n",
              "0 2017-09-15 00:20:27.802        NaN        NaN         NaN          NaN   \n",
              "1 2017-09-15 00:20:28.302 -26.272034 -48.850364         NaN          NaN   \n",
              "2 2017-09-15 00:20:28.802 -26.272033 -48.850365         NaN          NaN   \n",
              "3 2017-09-15 00:20:29.302 -26.272033 -48.850366         NaN          NaN   \n",
              "4 2017-09-15 00:20:29.802 -26.272033 -48.850367         NaN          NaN   \n",
              "\n",
              "   INTAKE_MANIFOLD_PRESSURE  ACCELERATOR_PEDAL_D     SPEED  GYROSCOPE_X_RAW  \\\n",
              "0                       NaN                  NaN       NaN            -1.28   \n",
              "1                       NaN                  NaN  0.127404            -1.29   \n",
              "2                       NaN                  NaN  0.061108            -1.26   \n",
              "3                       NaN                  NaN  0.009961            -1.35   \n",
              "4                       NaN                  NaN  0.014452            -1.22   \n",
              "\n",
              "   GYROSCOPE_Y_RAW  GYROSCOPE_Z_RAW  ACCELEROMETER_X_LONG_AVG  \\\n",
              "0            -0.26            -2.20                  1.026000   \n",
              "1            -0.02            -2.58                  1.018600   \n",
              "2            -0.13            -2.30                  1.018000   \n",
              "3            -0.24            -2.41                  1.017867   \n",
              "4            -0.29            -2.58                  1.017500   \n",
              "\n",
              "   ACCELEROMETER_Y_LONG_AVG  ACCELEROMETER_Z_LONG_AVG  \\\n",
              "0                  0.081000                  0.116000   \n",
              "1                  0.081000                  0.115000   \n",
              "2                  0.080900                  0.115500   \n",
              "3                  0.080333                  0.115933   \n",
              "4                  0.079750                  0.115750   \n",
              "\n",
              "   ACCELEROMETER_X_LONG_STD  ACCELEROMETER_Y_LONG_STD  \\\n",
              "0                  0.000000                  0.000000   \n",
              "1                  0.006020                  0.002608   \n",
              "2                  0.005040                  0.002587   \n",
              "3                  0.004272                  0.002821   \n",
              "4                  0.003814                  0.002947   \n",
              "\n",
              "   ACCELEROMETER_Z_LONG_STD  \n",
              "0                  0.000000  \n",
              "1                  0.001897  \n",
              "2                  0.004177  \n",
              "3                  0.003750  \n",
              "4                  0.003832  "
            ]
          },
          "metadata": {
            "tags": []
          },
          "execution_count": 12
        }
      ]
    },
    {
      "metadata": {
        "id": "JH2tR9YQIGbl",
        "colab_type": "code",
        "outputId": "4806ef91-c25a-4622-a280-36b991414ec6",
        "colab": {
          "base_uri": "https://localhost:8080/",
          "height": 34
        }
      },
      "cell_type": "code",
      "source": [
        "df.shape"
      ],
      "execution_count": 0,
      "outputs": [
        {
          "output_type": "execute_result",
          "data": {
            "text/plain": [
              "(1451725, 17)"
            ]
          },
          "metadata": {
            "tags": []
          },
          "execution_count": 13
        }
      ]
    },
    {
      "metadata": {
        "id": "WnyIjfzZP3Ok",
        "colab_type": "code",
        "outputId": "87ff6048-c6bc-4baa-9e18-312ad758db6c",
        "colab": {
          "base_uri": "https://localhost:8080/",
          "height": 323
        }
      },
      "cell_type": "code",
      "source": [
        "df.count()"
      ],
      "execution_count": 0,
      "outputs": [
        {
          "output_type": "execute_result",
          "data": {
            "text/plain": [
              "DATE_TIME                   1451725\n",
              "LATITUDE                    1451711\n",
              "LONGITUDE                   1451711\n",
              "ENGINE_RPM                   363510\n",
              "ENGINE_LOAD                  363712\n",
              "INTAKE_MANIFOLD_PRESSURE     363421\n",
              "ACCELERATOR_PEDAL_D          363820\n",
              "SPEED                       1451711\n",
              "GYROSCOPE_X_RAW             1451719\n",
              "GYROSCOPE_Y_RAW             1451719\n",
              "GYROSCOPE_Z_RAW             1451719\n",
              "ACCELEROMETER_X_LONG_AVG    1451722\n",
              "ACCELEROMETER_Y_LONG_AVG    1451722\n",
              "ACCELEROMETER_Z_LONG_AVG    1451722\n",
              "ACCELEROMETER_X_LONG_STD    1451722\n",
              "ACCELEROMETER_Y_LONG_STD    1451722\n",
              "ACCELEROMETER_Z_LONG_STD    1451722\n",
              "dtype: int64"
            ]
          },
          "metadata": {
            "tags": []
          },
          "execution_count": 14
        }
      ]
    },
    {
      "metadata": {
        "id": "A6CU5KUROQNM",
        "colab_type": "code",
        "colab": {}
      },
      "cell_type": "code",
      "source": [
        "df = df.dropna(subset = ['LATITUDE'])"
      ],
      "execution_count": 0,
      "outputs": []
    },
    {
      "metadata": {
        "id": "RnXo37ujOVjC",
        "colab_type": "code",
        "outputId": "ab70407e-6791-4a08-d6b4-9c64eb532f50",
        "colab": {
          "base_uri": "https://localhost:8080/",
          "height": 309
        }
      },
      "cell_type": "code",
      "source": [
        "df.head()"
      ],
      "execution_count": 0,
      "outputs": [
        {
          "output_type": "execute_result",
          "data": {
            "text/html": [
              "<div>\n",
              "<style scoped>\n",
              "    .dataframe tbody tr th:only-of-type {\n",
              "        vertical-align: middle;\n",
              "    }\n",
              "\n",
              "    .dataframe tbody tr th {\n",
              "        vertical-align: top;\n",
              "    }\n",
              "\n",
              "    .dataframe thead th {\n",
              "        text-align: right;\n",
              "    }\n",
              "</style>\n",
              "<table border=\"1\" class=\"dataframe\">\n",
              "  <thead>\n",
              "    <tr style=\"text-align: right;\">\n",
              "      <th></th>\n",
              "      <th>DATE_TIME</th>\n",
              "      <th>LATITUDE</th>\n",
              "      <th>LONGITUDE</th>\n",
              "      <th>ENGINE_RPM</th>\n",
              "      <th>ENGINE_LOAD</th>\n",
              "      <th>INTAKE_MANIFOLD_PRESSURE</th>\n",
              "      <th>ACCELERATOR_PEDAL_D</th>\n",
              "      <th>SPEED</th>\n",
              "      <th>GYROSCOPE_X_RAW</th>\n",
              "      <th>GYROSCOPE_Y_RAW</th>\n",
              "      <th>GYROSCOPE_Z_RAW</th>\n",
              "      <th>ACCELEROMETER_X_LONG_AVG</th>\n",
              "      <th>ACCELEROMETER_Y_LONG_AVG</th>\n",
              "      <th>ACCELEROMETER_Z_LONG_AVG</th>\n",
              "      <th>ACCELEROMETER_X_LONG_STD</th>\n",
              "      <th>ACCELEROMETER_Y_LONG_STD</th>\n",
              "      <th>ACCELEROMETER_Z_LONG_STD</th>\n",
              "    </tr>\n",
              "  </thead>\n",
              "  <tbody>\n",
              "    <tr>\n",
              "      <th>1</th>\n",
              "      <td>2017-09-15 00:20:28.302</td>\n",
              "      <td>-26.272034</td>\n",
              "      <td>-48.850364</td>\n",
              "      <td>NaN</td>\n",
              "      <td>NaN</td>\n",
              "      <td>NaN</td>\n",
              "      <td>NaN</td>\n",
              "      <td>0.127404</td>\n",
              "      <td>-1.29</td>\n",
              "      <td>-0.02</td>\n",
              "      <td>-2.58</td>\n",
              "      <td>1.018600</td>\n",
              "      <td>0.081000</td>\n",
              "      <td>0.115000</td>\n",
              "      <td>0.006020</td>\n",
              "      <td>0.002608</td>\n",
              "      <td>0.001897</td>\n",
              "    </tr>\n",
              "    <tr>\n",
              "      <th>2</th>\n",
              "      <td>2017-09-15 00:20:28.802</td>\n",
              "      <td>-26.272033</td>\n",
              "      <td>-48.850365</td>\n",
              "      <td>NaN</td>\n",
              "      <td>NaN</td>\n",
              "      <td>NaN</td>\n",
              "      <td>NaN</td>\n",
              "      <td>0.061108</td>\n",
              "      <td>-1.26</td>\n",
              "      <td>-0.13</td>\n",
              "      <td>-2.30</td>\n",
              "      <td>1.018000</td>\n",
              "      <td>0.080900</td>\n",
              "      <td>0.115500</td>\n",
              "      <td>0.005040</td>\n",
              "      <td>0.002587</td>\n",
              "      <td>0.004177</td>\n",
              "    </tr>\n",
              "    <tr>\n",
              "      <th>3</th>\n",
              "      <td>2017-09-15 00:20:29.302</td>\n",
              "      <td>-26.272033</td>\n",
              "      <td>-48.850366</td>\n",
              "      <td>NaN</td>\n",
              "      <td>NaN</td>\n",
              "      <td>NaN</td>\n",
              "      <td>NaN</td>\n",
              "      <td>0.009961</td>\n",
              "      <td>-1.35</td>\n",
              "      <td>-0.24</td>\n",
              "      <td>-2.41</td>\n",
              "      <td>1.017867</td>\n",
              "      <td>0.080333</td>\n",
              "      <td>0.115933</td>\n",
              "      <td>0.004272</td>\n",
              "      <td>0.002821</td>\n",
              "      <td>0.003750</td>\n",
              "    </tr>\n",
              "    <tr>\n",
              "      <th>4</th>\n",
              "      <td>2017-09-15 00:20:29.802</td>\n",
              "      <td>-26.272033</td>\n",
              "      <td>-48.850367</td>\n",
              "      <td>NaN</td>\n",
              "      <td>NaN</td>\n",
              "      <td>NaN</td>\n",
              "      <td>NaN</td>\n",
              "      <td>0.014452</td>\n",
              "      <td>-1.22</td>\n",
              "      <td>-0.29</td>\n",
              "      <td>-2.58</td>\n",
              "      <td>1.017500</td>\n",
              "      <td>0.079750</td>\n",
              "      <td>0.115750</td>\n",
              "      <td>0.003814</td>\n",
              "      <td>0.002947</td>\n",
              "      <td>0.003832</td>\n",
              "    </tr>\n",
              "    <tr>\n",
              "      <th>5</th>\n",
              "      <td>2017-09-15 00:20:30.302</td>\n",
              "      <td>-26.272033</td>\n",
              "      <td>-48.850368</td>\n",
              "      <td>NaN</td>\n",
              "      <td>NaN</td>\n",
              "      <td>NaN</td>\n",
              "      <td>NaN</td>\n",
              "      <td>0.060168</td>\n",
              "      <td>-1.10</td>\n",
              "      <td>-0.29</td>\n",
              "      <td>-2.24</td>\n",
              "      <td>1.017760</td>\n",
              "      <td>0.079920</td>\n",
              "      <td>0.116040</td>\n",
              "      <td>0.003798</td>\n",
              "      <td>0.002911</td>\n",
              "      <td>0.004025</td>\n",
              "    </tr>\n",
              "  </tbody>\n",
              "</table>\n",
              "</div>"
            ],
            "text/plain": [
              "                DATE_TIME   LATITUDE  LONGITUDE  ENGINE_RPM  ENGINE_LOAD  \\\n",
              "1 2017-09-15 00:20:28.302 -26.272034 -48.850364         NaN          NaN   \n",
              "2 2017-09-15 00:20:28.802 -26.272033 -48.850365         NaN          NaN   \n",
              "3 2017-09-15 00:20:29.302 -26.272033 -48.850366         NaN          NaN   \n",
              "4 2017-09-15 00:20:29.802 -26.272033 -48.850367         NaN          NaN   \n",
              "5 2017-09-15 00:20:30.302 -26.272033 -48.850368         NaN          NaN   \n",
              "\n",
              "   INTAKE_MANIFOLD_PRESSURE  ACCELERATOR_PEDAL_D     SPEED  GYROSCOPE_X_RAW  \\\n",
              "1                       NaN                  NaN  0.127404            -1.29   \n",
              "2                       NaN                  NaN  0.061108            -1.26   \n",
              "3                       NaN                  NaN  0.009961            -1.35   \n",
              "4                       NaN                  NaN  0.014452            -1.22   \n",
              "5                       NaN                  NaN  0.060168            -1.10   \n",
              "\n",
              "   GYROSCOPE_Y_RAW  GYROSCOPE_Z_RAW  ACCELEROMETER_X_LONG_AVG  \\\n",
              "1            -0.02            -2.58                  1.018600   \n",
              "2            -0.13            -2.30                  1.018000   \n",
              "3            -0.24            -2.41                  1.017867   \n",
              "4            -0.29            -2.58                  1.017500   \n",
              "5            -0.29            -2.24                  1.017760   \n",
              "\n",
              "   ACCELEROMETER_Y_LONG_AVG  ACCELEROMETER_Z_LONG_AVG  \\\n",
              "1                  0.081000                  0.115000   \n",
              "2                  0.080900                  0.115500   \n",
              "3                  0.080333                  0.115933   \n",
              "4                  0.079750                  0.115750   \n",
              "5                  0.079920                  0.116040   \n",
              "\n",
              "   ACCELEROMETER_X_LONG_STD  ACCELEROMETER_Y_LONG_STD  \\\n",
              "1                  0.006020                  0.002608   \n",
              "2                  0.005040                  0.002587   \n",
              "3                  0.004272                  0.002821   \n",
              "4                  0.003814                  0.002947   \n",
              "5                  0.003798                  0.002911   \n",
              "\n",
              "   ACCELEROMETER_Z_LONG_STD  \n",
              "1                  0.001897  \n",
              "2                  0.004177  \n",
              "3                  0.003750  \n",
              "4                  0.003832  \n",
              "5                  0.004025  "
            ]
          },
          "metadata": {
            "tags": []
          },
          "execution_count": 16
        }
      ]
    },
    {
      "metadata": {
        "id": "38F9xyUSOUgZ",
        "colab_type": "code",
        "outputId": "205d0756-f775-44c8-ba67-718781b26f8d",
        "colab": {
          "base_uri": "https://localhost:8080/",
          "height": 34
        }
      },
      "cell_type": "code",
      "source": [
        "df.shape"
      ],
      "execution_count": 0,
      "outputs": [
        {
          "output_type": "execute_result",
          "data": {
            "text/plain": [
              "(1451711, 17)"
            ]
          },
          "metadata": {
            "tags": []
          },
          "execution_count": 17
        }
      ]
    },
    {
      "metadata": {
        "id": "Cfzhymq7LN2H",
        "colab_type": "text"
      },
      "cell_type": "markdown",
      "source": [
        "### Análise de distribuição dos dados"
      ]
    },
    {
      "metadata": {
        "id": "vLTxdXmTLPn5",
        "colab_type": "code",
        "outputId": "e539b651-3b1d-4510-9317-98816add6f43",
        "colab": {
          "base_uri": "https://localhost:8080/",
          "height": 1456
        }
      },
      "cell_type": "code",
      "source": [
        "plt.figure()\n",
        "df.diff().hist(color='k', alpha=0.5, bins=50, figsize=(20,20))"
      ],
      "execution_count": 0,
      "outputs": [
        {
          "output_type": "execute_result",
          "data": {
            "text/plain": [
              "array([[<matplotlib.axes._subplots.AxesSubplot object at 0x7fb32244fd30>,\n",
              "        <matplotlib.axes._subplots.AxesSubplot object at 0x7fb322418588>,\n",
              "        <matplotlib.axes._subplots.AxesSubplot object at 0x7fb3223bf940>,\n",
              "        <matplotlib.axes._subplots.AxesSubplot object at 0x7fb3223ec208>],\n",
              "       [<matplotlib.axes._subplots.AxesSubplot object at 0x7fb322391b70>,\n",
              "        <matplotlib.axes._subplots.AxesSubplot object at 0x7fb32233e518>,\n",
              "        <matplotlib.axes._subplots.AxesSubplot object at 0x7fb322364e80>,\n",
              "        <matplotlib.axes._subplots.AxesSubplot object at 0x7fb322312860>],\n",
              "       [<matplotlib.axes._subplots.AxesSubplot object at 0x7fb322312898>,\n",
              "        <matplotlib.axes._subplots.AxesSubplot object at 0x7fb3222e2b38>,\n",
              "        <matplotlib.axes._subplots.AxesSubplot object at 0x7fb3222904e0>,\n",
              "        <matplotlib.axes._subplots.AxesSubplot object at 0x7fb3222b4e48>],\n",
              "       [<matplotlib.axes._subplots.AxesSubplot object at 0x7fb3222627f0>,\n",
              "        <matplotlib.axes._subplots.AxesSubplot object at 0x7fb322211198>,\n",
              "        <matplotlib.axes._subplots.AxesSubplot object at 0x7fb322233b00>,\n",
              "        <matplotlib.axes._subplots.AxesSubplot object at 0x7fb3221e14a8>]],\n",
              "      dtype=object)"
            ]
          },
          "metadata": {
            "tags": []
          },
          "execution_count": 18
        },
        {
          "output_type": "display_data",
          "data": {
            "text/plain": [
              "<Figure size 576x396 with 0 Axes>"
            ]
          },
          "metadata": {
            "tags": []
          }
        },
        {
          "output_type": "display_data",
          "data": {
            "image/png": "[encoded data removed]",
            "text/plain": [
              "<Figure size 1440x1440 with 16 Axes>"
            ]
          },
          "metadata": {
            "tags": []
          }
        }
      ]
    },
    {
      "metadata": {
        "id": "_SIhXrYnImok",
        "colab_type": "code",
        "outputId": "97dc0463-7e23-47bc-9ec3-99e6cec9d9cc",
        "colab": {
          "base_uri": "https://localhost:8080/",
          "height": 881
        }
      },
      "cell_type": "code",
      "source": [
        "df_new = df.drop(\"DATE_TIME\", axis=1)\n",
        "df_new.plot(subplots = True, kind = 'box', layout = (4,4), figsize = (15,10))"
      ],
      "execution_count": 0,
      "outputs": [
        {
          "output_type": "execute_result",
          "data": {
            "text/plain": [
              "LATITUDE                        AxesSubplot(0.125,0.71587;0.168478x0.16413)\n",
              "LONGITUDE                    AxesSubplot(0.327174,0.71587;0.168478x0.16413)\n",
              "ENGINE_RPM                   AxesSubplot(0.529348,0.71587;0.168478x0.16413)\n",
              "ENGINE_LOAD                  AxesSubplot(0.731522,0.71587;0.168478x0.16413)\n",
              "INTAKE_MANIFOLD_PRESSURE       AxesSubplot(0.125,0.518913;0.168478x0.16413)\n",
              "ACCELERATOR_PEDAL_D         AxesSubplot(0.327174,0.518913;0.168478x0.16413)\n",
              "SPEED                       AxesSubplot(0.529348,0.518913;0.168478x0.16413)\n",
              "GYROSCOPE_X_RAW             AxesSubplot(0.731522,0.518913;0.168478x0.16413)\n",
              "GYROSCOPE_Y_RAW                AxesSubplot(0.125,0.321957;0.168478x0.16413)\n",
              "GYROSCOPE_Z_RAW             AxesSubplot(0.327174,0.321957;0.168478x0.16413)\n",
              "ACCELEROMETER_X_LONG_AVG    AxesSubplot(0.529348,0.321957;0.168478x0.16413)\n",
              "ACCELEROMETER_Y_LONG_AVG    AxesSubplot(0.731522,0.321957;0.168478x0.16413)\n",
              "ACCELEROMETER_Z_LONG_AVG          AxesSubplot(0.125,0.125;0.168478x0.16413)\n",
              "ACCELEROMETER_X_LONG_STD       AxesSubplot(0.327174,0.125;0.168478x0.16413)\n",
              "ACCELEROMETER_Y_LONG_STD       AxesSubplot(0.529348,0.125;0.168478x0.16413)\n",
              "ACCELEROMETER_Z_LONG_STD       AxesSubplot(0.731522,0.125;0.168478x0.16413)\n",
              "dtype: object"
            ]
          },
          "metadata": {
            "tags": []
          },
          "execution_count": 19
        },
        {
          "output_type": "display_data",
          "data": {
            "image/png": "[encoded data removed]",
            "text/plain": [
              "<Figure size 1080x720 with 16 Axes>"
            ]
          },
          "metadata": {
            "tags": []
          }
        }
      ]
    },
    {
      "metadata": {
        "id": "oSocUIefv2Gk",
        "colab_type": "code",
        "colab": {}
      },
      "cell_type": "code",
      "source": [
        "df.to_pickle(\"./df.pkl\")"
      ],
      "execution_count": 0,
      "outputs": []
    }
  ]
}