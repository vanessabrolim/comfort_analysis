{
  "nbformat": 4,
  "nbformat_minor": 0,
  "metadata": {
    "colab": {
      "name": "consenso.ipynb",
      "version": "0.3.2",
      "provenance": [],
      "include_colab_link": true
    },
    "kernelspec": {
      "name": "python3",
      "display_name": "Python 3"
    }
  },
  "cells": [
    {
      "cell_type": "markdown",
      "metadata": {
        "id": "view-in-github",
        "colab_type": "text"
      },
      "source": [
        "<a href=\"https://colab.research.google.com/github/vanessabrolim/comfort_analysis/blob/master/consenso.ipynb\" target=\"_parent\"><img src=\"https://colab.research.google.com/assets/colab-badge.svg\" alt=\"Open In Colab\"/></a>"
      ]
    },
    {
      "metadata": {
        "id": "BijWf4pFGUUB",
        "colab_type": "code",
        "outputId": "c92699de-918c-451d-9569-790624b0dccd",
        "colab": {
          "base_uri": "https://localhost:8080/",
          "height": 34
        }
      },
      "cell_type": "code",
      "source": [
        "import pandas as pd\n",
        "import matplotlib.pyplot as plt\n",
        "import numpy as np\n",
        "import datetime as dt\n",
        "from scipy import stats\n",
        "from geopy.distance import vincenty\n",
        "from google.colab import drive\n",
        "drive.mount('/content/drive',  force_remount=True)"
      ],
      "execution_count": 0,
      "outputs": [
        {
          "output_type": "stream",
          "text": [
            "Mounted at /content/drive\n"
          ],
          "name": "stdout"
        }
      ]
    },
    {
      "metadata": {
        "id": "qSW7C59yG_Ff",
        "colab_type": "code",
        "colab": {}
      },
      "cell_type": "code",
      "source": [
        "df_questionario = pd.read_csv('drive/My Drive/Udesc/questionarios.csv', \n",
        "                              low_memory = False)"
      ],
      "execution_count": 0,
      "outputs": []
    },
    {
      "metadata": {
        "id": "vm0ewGOBo_xA",
        "colab_type": "code",
        "outputId": "961bb59b-43e0-4ffa-9480-527edbf237a1",
        "colab": {
          "base_uri": "https://localhost:8080/",
          "height": 204
        }
      },
      "cell_type": "code",
      "source": [
        "df_questionario.tail()"
      ],
      "execution_count": 0,
      "outputs": [
        {
          "output_type": "execute_result",
          "data": {
            "text/html": [
              "<div>\n",
              "<style scoped>\n",
              "    .dataframe tbody tr th:only-of-type {\n",
              "        vertical-align: middle;\n",
              "    }\n",
              "\n",
              "    .dataframe tbody tr th {\n",
              "        vertical-align: top;\n",
              "    }\n",
              "\n",
              "    .dataframe thead th {\n",
              "        text-align: right;\n",
              "    }\n",
              "</style>\n",
              "<table border=\"1\" class=\"dataframe\">\n",
              "  <thead>\n",
              "    <tr style=\"text-align: right;\">\n",
              "      <th></th>\n",
              "      <th>Data</th>\n",
              "      <th>Entrada</th>\n",
              "      <th>Saída</th>\n",
              "      <th>z</th>\n",
              "      <th>y</th>\n",
              "      <th>x</th>\n",
              "      <th>Geral</th>\n",
              "    </tr>\n",
              "  </thead>\n",
              "  <tbody>\n",
              "    <tr>\n",
              "      <th>212</th>\n",
              "      <td>25/09/2017</td>\n",
              "      <td>12:30:00</td>\n",
              "      <td>12:45:00</td>\n",
              "      <td>2</td>\n",
              "      <td>4</td>\n",
              "      <td>2</td>\n",
              "      <td>4</td>\n",
              "    </tr>\n",
              "    <tr>\n",
              "      <th>213</th>\n",
              "      <td>25/09/2017</td>\n",
              "      <td>12:30:00</td>\n",
              "      <td>12:45:00</td>\n",
              "      <td>3</td>\n",
              "      <td>3</td>\n",
              "      <td>4</td>\n",
              "      <td>4</td>\n",
              "    </tr>\n",
              "    <tr>\n",
              "      <th>214</th>\n",
              "      <td>25/09/2017</td>\n",
              "      <td>12:30:00</td>\n",
              "      <td>12:45:00</td>\n",
              "      <td>3</td>\n",
              "      <td>4</td>\n",
              "      <td>3</td>\n",
              "      <td>4</td>\n",
              "    </tr>\n",
              "    <tr>\n",
              "      <th>215</th>\n",
              "      <td>25/09/2017</td>\n",
              "      <td>12:30:00</td>\n",
              "      <td>12:45:00</td>\n",
              "      <td>4</td>\n",
              "      <td>3</td>\n",
              "      <td>3</td>\n",
              "      <td>4</td>\n",
              "    </tr>\n",
              "    <tr>\n",
              "      <th>216</th>\n",
              "      <td>25/09/2017</td>\n",
              "      <td>12:30:00</td>\n",
              "      <td>12:45:00</td>\n",
              "      <td>3</td>\n",
              "      <td>4</td>\n",
              "      <td>3</td>\n",
              "      <td>4</td>\n",
              "    </tr>\n",
              "  </tbody>\n",
              "</table>\n",
              "</div>"
            ],
            "text/plain": [
              "           Data   Entrada     Saída  z  y  x  Geral\n",
              "212  25/09/2017  12:30:00  12:45:00  2  4  2      4\n",
              "213  25/09/2017  12:30:00  12:45:00  3  3  4      4\n",
              "214  25/09/2017  12:30:00  12:45:00  3  4  3      4\n",
              "215  25/09/2017  12:30:00  12:45:00  4  3  3      4\n",
              "216  25/09/2017  12:30:00  12:45:00  3  4  3      4"
            ]
          },
          "metadata": {
            "tags": []
          },
          "execution_count": 3
        }
      ]
    },
    {
      "metadata": {
        "id": "6rPQNpz8OFtf",
        "colab_type": "code",
        "colab": {}
      },
      "cell_type": "code",
      "source": [
        "df_questionario['Entrada'] = pd.to_datetime(df_questionario['Data']+ ' ' + df_questionario['Entrada'])\n"
      ],
      "execution_count": 0,
      "outputs": []
    },
    {
      "metadata": {
        "id": "7WmqruqpOqOR",
        "colab_type": "code",
        "colab": {}
      },
      "cell_type": "code",
      "source": [
        "df_questionario['Saída'] = pd.to_datetime(df_questionario['Data']+ ' ' + df_questionario['Saída'])"
      ],
      "execution_count": 0,
      "outputs": []
    },
    {
      "metadata": {
        "id": "SUVK9AIPOIJf",
        "colab_type": "code",
        "outputId": "d2cff809-795a-49c4-a3d5-58d87303d335",
        "colab": {
          "base_uri": "https://localhost:8080/",
          "height": 153
        }
      },
      "cell_type": "code",
      "source": [
        "df_questionario.dtypes"
      ],
      "execution_count": 0,
      "outputs": [
        {
          "output_type": "execute_result",
          "data": {
            "text/plain": [
              "Data               object\n",
              "Entrada    datetime64[ns]\n",
              "Saída      datetime64[ns]\n",
              "z                   int64\n",
              "y                   int64\n",
              "x                   int64\n",
              "Geral               int64\n",
              "dtype: object"
            ]
          },
          "metadata": {
            "tags": []
          },
          "execution_count": 6
        }
      ]
    },
    {
      "metadata": {
        "id": "LzBp1gzROK53",
        "colab_type": "code",
        "outputId": "5c8ee9e1-99d9-4c13-d67d-054bc8af3a4c",
        "colab": {
          "base_uri": "https://localhost:8080/",
          "height": 204
        }
      },
      "cell_type": "code",
      "source": [
        "df_questionario.head()"
      ],
      "execution_count": 0,
      "outputs": [
        {
          "output_type": "execute_result",
          "data": {
            "text/html": [
              "<div>\n",
              "<style scoped>\n",
              "    .dataframe tbody tr th:only-of-type {\n",
              "        vertical-align: middle;\n",
              "    }\n",
              "\n",
              "    .dataframe tbody tr th {\n",
              "        vertical-align: top;\n",
              "    }\n",
              "\n",
              "    .dataframe thead th {\n",
              "        text-align: right;\n",
              "    }\n",
              "</style>\n",
              "<table border=\"1\" class=\"dataframe\">\n",
              "  <thead>\n",
              "    <tr style=\"text-align: right;\">\n",
              "      <th></th>\n",
              "      <th>Data</th>\n",
              "      <th>Entrada</th>\n",
              "      <th>Saída</th>\n",
              "      <th>z</th>\n",
              "      <th>y</th>\n",
              "      <th>x</th>\n",
              "      <th>Geral</th>\n",
              "    </tr>\n",
              "  </thead>\n",
              "  <tbody>\n",
              "    <tr>\n",
              "      <th>0</th>\n",
              "      <td>13/09/2017</td>\n",
              "      <td>2017-09-13 11:21:00</td>\n",
              "      <td>2017-09-13 11:36:00</td>\n",
              "      <td>5</td>\n",
              "      <td>5</td>\n",
              "      <td>2</td>\n",
              "      <td>4</td>\n",
              "    </tr>\n",
              "    <tr>\n",
              "      <th>1</th>\n",
              "      <td>13/09/2017</td>\n",
              "      <td>2017-09-13 11:20:00</td>\n",
              "      <td>2017-09-13 11:35:00</td>\n",
              "      <td>4</td>\n",
              "      <td>4</td>\n",
              "      <td>1</td>\n",
              "      <td>4</td>\n",
              "    </tr>\n",
              "    <tr>\n",
              "      <th>2</th>\n",
              "      <td>13/09/2017</td>\n",
              "      <td>2017-09-13 11:50:00</td>\n",
              "      <td>2017-09-13 12:05:00</td>\n",
              "      <td>5</td>\n",
              "      <td>3</td>\n",
              "      <td>3</td>\n",
              "      <td>5</td>\n",
              "    </tr>\n",
              "    <tr>\n",
              "      <th>3</th>\n",
              "      <td>13/09/2017</td>\n",
              "      <td>2017-09-13 12:15:00</td>\n",
              "      <td>2017-09-13 12:30:00</td>\n",
              "      <td>3</td>\n",
              "      <td>3</td>\n",
              "      <td>2</td>\n",
              "      <td>4</td>\n",
              "    </tr>\n",
              "    <tr>\n",
              "      <th>4</th>\n",
              "      <td>13/09/2017</td>\n",
              "      <td>2017-09-13 12:10:00</td>\n",
              "      <td>2017-09-13 12:25:00</td>\n",
              "      <td>4</td>\n",
              "      <td>4</td>\n",
              "      <td>4</td>\n",
              "      <td>4</td>\n",
              "    </tr>\n",
              "  </tbody>\n",
              "</table>\n",
              "</div>"
            ],
            "text/plain": [
              "         Data             Entrada               Saída  z  y  x  Geral\n",
              "0  13/09/2017 2017-09-13 11:21:00 2017-09-13 11:36:00  5  5  2      4\n",
              "1  13/09/2017 2017-09-13 11:20:00 2017-09-13 11:35:00  4  4  1      4\n",
              "2  13/09/2017 2017-09-13 11:50:00 2017-09-13 12:05:00  5  3  3      5\n",
              "3  13/09/2017 2017-09-13 12:15:00 2017-09-13 12:30:00  3  3  2      4\n",
              "4  13/09/2017 2017-09-13 12:10:00 2017-09-13 12:25:00  4  4  4      4"
            ]
          },
          "metadata": {
            "tags": []
          },
          "execution_count": 7
        }
      ]
    },
    {
      "metadata": {
        "id": "qeLRntUZclP4",
        "colab_type": "code",
        "colab": {}
      },
      "cell_type": "code",
      "source": [
        "df_questionario = df_questionario.sort_values(by=['Entrada']).reset_index(drop=True)"
      ],
      "execution_count": 0,
      "outputs": []
    },
    {
      "metadata": {
        "id": "JWvXc0WxeBzY",
        "colab_type": "code",
        "outputId": "81d1670d-60d6-428e-a4ef-8def6f586b38",
        "colab": {
          "base_uri": "https://localhost:8080/",
          "height": 204
        }
      },
      "cell_type": "code",
      "source": [
        "df_questionario.head()"
      ],
      "execution_count": 0,
      "outputs": [
        {
          "output_type": "execute_result",
          "data": {
            "text/html": [
              "<div>\n",
              "<style scoped>\n",
              "    .dataframe tbody tr th:only-of-type {\n",
              "        vertical-align: middle;\n",
              "    }\n",
              "\n",
              "    .dataframe tbody tr th {\n",
              "        vertical-align: top;\n",
              "    }\n",
              "\n",
              "    .dataframe thead th {\n",
              "        text-align: right;\n",
              "    }\n",
              "</style>\n",
              "<table border=\"1\" class=\"dataframe\">\n",
              "  <thead>\n",
              "    <tr style=\"text-align: right;\">\n",
              "      <th></th>\n",
              "      <th>Data</th>\n",
              "      <th>Entrada</th>\n",
              "      <th>Saída</th>\n",
              "      <th>z</th>\n",
              "      <th>y</th>\n",
              "      <th>x</th>\n",
              "      <th>Geral</th>\n",
              "    </tr>\n",
              "  </thead>\n",
              "  <tbody>\n",
              "    <tr>\n",
              "      <th>0</th>\n",
              "      <td>13/09/2017</td>\n",
              "      <td>2017-09-13 08:47:00</td>\n",
              "      <td>2017-09-13 09:02:00</td>\n",
              "      <td>5</td>\n",
              "      <td>4</td>\n",
              "      <td>5</td>\n",
              "      <td>4</td>\n",
              "    </tr>\n",
              "    <tr>\n",
              "      <th>1</th>\n",
              "      <td>13/09/2017</td>\n",
              "      <td>2017-09-13 08:47:00</td>\n",
              "      <td>2017-09-13 09:02:00</td>\n",
              "      <td>3</td>\n",
              "      <td>4</td>\n",
              "      <td>4</td>\n",
              "      <td>4</td>\n",
              "    </tr>\n",
              "    <tr>\n",
              "      <th>2</th>\n",
              "      <td>13/09/2017</td>\n",
              "      <td>2017-09-13 08:47:00</td>\n",
              "      <td>2017-09-13 09:02:00</td>\n",
              "      <td>3</td>\n",
              "      <td>3</td>\n",
              "      <td>4</td>\n",
              "      <td>3</td>\n",
              "    </tr>\n",
              "    <tr>\n",
              "      <th>3</th>\n",
              "      <td>13/09/2017</td>\n",
              "      <td>2017-09-13 09:01:00</td>\n",
              "      <td>2017-09-13 09:16:00</td>\n",
              "      <td>4</td>\n",
              "      <td>4</td>\n",
              "      <td>2</td>\n",
              "      <td>4</td>\n",
              "    </tr>\n",
              "    <tr>\n",
              "      <th>4</th>\n",
              "      <td>13/09/2017</td>\n",
              "      <td>2017-09-13 11:15:00</td>\n",
              "      <td>2017-09-13 11:30:00</td>\n",
              "      <td>2</td>\n",
              "      <td>3</td>\n",
              "      <td>1</td>\n",
              "      <td>3</td>\n",
              "    </tr>\n",
              "  </tbody>\n",
              "</table>\n",
              "</div>"
            ],
            "text/plain": [
              "         Data             Entrada               Saída  z  y  x  Geral\n",
              "0  13/09/2017 2017-09-13 08:47:00 2017-09-13 09:02:00  5  4  5      4\n",
              "1  13/09/2017 2017-09-13 08:47:00 2017-09-13 09:02:00  3  4  4      4\n",
              "2  13/09/2017 2017-09-13 08:47:00 2017-09-13 09:02:00  3  3  4      3\n",
              "3  13/09/2017 2017-09-13 09:01:00 2017-09-13 09:16:00  4  4  2      4\n",
              "4  13/09/2017 2017-09-13 11:15:00 2017-09-13 11:30:00  2  3  1      3"
            ]
          },
          "metadata": {
            "tags": []
          },
          "execution_count": 12
        }
      ]
    },
    {
      "metadata": {
        "id": "Vz4vs8qEf9Ag",
        "colab_type": "code",
        "colab": {}
      },
      "cell_type": "code",
      "source": [
        "inicio = df_questionario['Entrada'][0]\n",
        "fim = df_questionario['Saída'][0]\n",
        "notas_x = []\n",
        "notas_y = []\n",
        "notas_z = []\n",
        "notas_geral = []\n",
        "df_q = pd.DataFrame(columns=('Início', 'Fim', 'x', 'y', 'z', 'Geral'))\n",
        "df_q = df_q.astype(dtype={'Início': 'datetime64[ns]',\n",
        "                          'Fim': 'datetime64[ns]', \n",
        "                          'x': 'int64', \n",
        "                          'y': 'int64', \n",
        "                          'z': 'int64', \n",
        "                          'Geral': 'int64'})"
      ],
      "execution_count": 0,
      "outputs": []
    },
    {
      "metadata": {
        "id": "q7soHsJbO7WH",
        "colab_type": "code",
        "colab": {}
      },
      "cell_type": "code",
      "source": [
        "for index, row in df_questionario.iterrows():\n",
        "  if (row['Entrada'] >= inicio and row['Entrada'] < fim):\n",
        "    notas_x.append(row['x'])\n",
        "    notas_y.append(row['y'])\n",
        "    notas_z.append(row['z'])\n",
        "    notas_geral.append(row['Geral'])\n",
        "    if (row['Saída'] > fim):\n",
        "      df_q = df_q.append({'Início': inicio, \n",
        "                          'Fim' : fim, \n",
        "                          'x' : round(np.mean(notas_x)), \n",
        "                          'y' : round(np.mean(notas_y)), \n",
        "                          'z' : round(np.mean(notas_z)), \n",
        "                          'Geral' : round(np.mean(notas_geral))}, \n",
        "                         ignore_index=True)\n",
        "      notas_x = []\n",
        "      notas_y = []\n",
        "      notas_z = []\n",
        "      notas_geral = []\n",
        "      inicio = fim\n",
        "      fim = row['Saída']\n",
        "  else:\n",
        "    notas_x.append(row['x'])\n",
        "    notas_y.append(row['y'])\n",
        "    notas_z.append(row['z'])\n",
        "    notas_geral.append(row['Geral'])\n",
        "    df_q = df_q.append({'Início': inicio, \n",
        "                        'Fim' : fim, \n",
        "                        'x' : round(np.mean(notas_x)), \n",
        "                        'y' : round(np.mean(notas_y)), \n",
        "                        'z' : round(np.mean(notas_z)), \n",
        "                        'Geral' : round(np.mean(notas_geral))}, \n",
        "                       ignore_index=True)\n",
        "    notas_x = []\n",
        "    notas_y = []\n",
        "    notas_z = []\n",
        "    notas_geral = []\n",
        "    inicio = row['Entrada'] \n",
        "    fim = row['Saída']\n",
        "    \n"
      ],
      "execution_count": 0,
      "outputs": []
    },
    {
      "metadata": {
        "id": "nLuIebSqbeaY",
        "colab_type": "code",
        "colab": {}
      },
      "cell_type": "code",
      "source": [
        "df_q = df_q.sort_values(by=['Início']).reset_index(drop=True)\n"
      ],
      "execution_count": 0,
      "outputs": []
    },
    {
      "metadata": {
        "id": "5M3U-Zbpmk9o",
        "colab_type": "code",
        "colab": {}
      },
      "cell_type": "code",
      "source": [
        "inicio = df_q['Início'][0]\n",
        "fim = df_q['Fim'][0] \n",
        "notas_x = []\n",
        "notas_y = []\n",
        "notas_z = []\n",
        "notas_geral = []\n",
        "df_quest = pd.DataFrame(columns=('Início', 'Fim', 'x', 'y', 'z', 'Geral'))\n",
        "df_quest = df_quest.astype(dtype={'Início': 'datetime64[ns]',\n",
        "                                  'Fim': 'datetime64[ns]',\n",
        "                                  'x': 'int64', \n",
        "                                  'y': 'int64', \n",
        "                                  'z': 'int64',\n",
        "                                  'Geral': 'int64'})"
      ],
      "execution_count": 0,
      "outputs": []
    },
    {
      "metadata": {
        "id": "O8Cmw9oNqD_Y",
        "colab_type": "code",
        "colab": {}
      },
      "cell_type": "code",
      "source": [
        "for index, row in df_q.iterrows():\n",
        "  if (row['Início'] >= inicio and row['Início']< fim):\n",
        "    notas_x.append(row['x'])\n",
        "    notas_y.append(row['y'])\n",
        "    notas_z.append(row['z'])\n",
        "    notas_geral.append(row['Geral'])\n",
        "    if (row['Fim'] > fim):\n",
        "      df_quest = df_quest.append({'Início': inicio, 'Fim' : fim, \n",
        "                                  'x' : round(np.mean(notas_x)), \n",
        "                                  'y' : round(np.mean(notas_y)), \n",
        "                                  'z' : round(np.mean(notas_z)), \n",
        "                                  'Geral' : round(np.mean(notas_geral))}, \n",
        "                                 ignore_index=True)\n",
        "      notas_x = []\n",
        "      notas_y = []\n",
        "      notas_z = []\n",
        "      notas_geral = []\n",
        "      inicio = fim\n",
        "      fim = row['Fim'] \n",
        "  else:\n",
        "    notas_x.append(row['x'])\n",
        "    notas_y.append(row['y'])\n",
        "    notas_z.append(row['z'])\n",
        "    notas_geral.append(row['Geral'])\n",
        "    df_quest = df_quest.append({'Início': inicio, \n",
        "                                'Fim' : fim, \n",
        "                                'x' : round(np.mean(notas_x)), \n",
        "                                'y' : round(np.mean(notas_y)), \n",
        "                                'z' : round(np.mean(notas_z)), \n",
        "                                'Geral' : round(np.mean(notas_geral))},\n",
        "                               ignore_index=True)\n",
        "    notas_x = []\n",
        "    notas_y = []\n",
        "    notas_z = []\n",
        "    notas_geral = []\n",
        "    inicio = row['Início']\n",
        "    fim = row['Fim']"
      ],
      "execution_count": 0,
      "outputs": []
    },
    {
      "metadata": {
        "id": "FCSNXhaqqOY0",
        "colab_type": "code",
        "colab": {}
      },
      "cell_type": "code",
      "source": [
        "df_quest.to_pickle(\"drive/My Drive/Udesc/questionarios.pkl\")"
      ],
      "execution_count": 0,
      "outputs": []
    }
  ]
}
