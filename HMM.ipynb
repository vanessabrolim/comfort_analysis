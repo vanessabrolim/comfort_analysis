{
  "nbformat": 4,
  "nbformat_minor": 0,
  "metadata": {
    "colab": {
      "name": "HMM.ipynb",
      "version": "0.3.2",
      "provenance": [],
      "include_colab_link": true
    },
    "kernelspec": {
      "name": "python3",
      "display_name": "Python 3"
    }
  },
  "cells": [
    {
      "cell_type": "markdown",
      "metadata": {
        "id": "view-in-github",
        "colab_type": "text"
      },
      "source": [
        "<a href=\"https://colab.research.google.com/github/vanessabrolim/comfort_analysis/blob/master/HMM.ipynb\" target=\"_parent\"><img src=\"https://colab.research.google.com/assets/colab-badge.svg\" alt=\"Open In Colab\"/></a>"
      ]
    },
    {
      "cell_type": "code",
      "metadata": {
        "id": "56KFAZom9Psm",
        "colab_type": "code",
        "outputId": "20ed576a-5dc0-466e-ff04-17ae6cb1760c",
        "colab": {
          "base_uri": "https://localhost:8080/",
          "height": 153
        }
      },
      "source": [
        "!pip install pomegranate\n",
        "import numpy as np\n",
        "import pandas as pd\n",
        "from pomegranate import *\n",
        "from matplotlib import *\n",
        "import datetime\n",
        "from sklearn.cluster import KMeans\n",
        "import matplotlib.pyplot as plt\n",
        "from google.colab import drive\n",
        "drive.mount('/content/drive',  force_remount=True)"
      ],
      "execution_count": 38,
      "outputs": [
        {
          "output_type": "stream",
          "text": [
            "Requirement already satisfied: pomegranate in /usr/local/lib/python3.6/dist-packages (0.11.0)\n",
            "Requirement already satisfied: joblib>=0.9.0b4 in /usr/local/lib/python3.6/dist-packages (from pomegranate) (0.12.5)\n",
            "Requirement already satisfied: scipy>=0.17.0 in /usr/local/lib/python3.6/dist-packages (from pomegranate) (1.2.1)\n",
            "Requirement already satisfied: networkx>=2.0 in /usr/local/lib/python3.6/dist-packages (from pomegranate) (2.3)\n",
            "Requirement already satisfied: numpy>=1.8.0 in /usr/local/lib/python3.6/dist-packages (from pomegranate) (1.16.3)\n",
            "Requirement already satisfied: pyyaml in /usr/local/lib/python3.6/dist-packages (from pomegranate) (3.13)\n",
            "Requirement already satisfied: decorator>=4.3.0 in /usr/local/lib/python3.6/dist-packages (from networkx>=2.0->pomegranate) (4.4.0)\n",
            "Mounted at /content/drive\n"
          ],
          "name": "stdout"
        }
      ]
    },
    {
      "cell_type": "code",
      "metadata": {
        "id": "zEFQ0SX8x4RX",
        "colab_type": "code",
        "outputId": "9b775cf1-87ed-41a4-9045-3f04be3f9beb",
        "colab": {
          "base_uri": "https://localhost:8080/",
          "height": 224
        }
      },
      "source": [
        "data = pd.read_pickle('drive/My Drive/Udesc/train.pkl')\n",
        "data.reset_index(inplace=True)\n",
        "data = data.drop('date_time', 1)\n",
        "data = data.drop('index', 1)\n",
        "data = data.drop('comfort_geral', 1)\n",
        "data_acc = pd.read_pickle('drive/My Drive/Udesc/train.pkl')\n",
        "data_acc.reset_index(inplace=True)\n",
        "\n",
        "data.head()"
      ],
      "execution_count": 39,
      "outputs": [
        {
          "output_type": "execute_result",
          "data": {
            "text/html": [
              "<div>\n",
              "<style scoped>\n",
              "    .dataframe tbody tr th:only-of-type {\n",
              "        vertical-align: middle;\n",
              "    }\n",
              "\n",
              "    .dataframe tbody tr th {\n",
              "        vertical-align: top;\n",
              "    }\n",
              "\n",
              "    .dataframe thead th {\n",
              "        text-align: right;\n",
              "    }\n",
              "</style>\n",
              "<table border=\"1\" class=\"dataframe\">\n",
              "  <thead>\n",
              "    <tr style=\"text-align: right;\">\n",
              "      <th></th>\n",
              "      <th>engine_rpm</th>\n",
              "      <th>engine_load</th>\n",
              "      <th>intake_manifold_pressure</th>\n",
              "      <th>accelerator_pedal</th>\n",
              "      <th>speed</th>\n",
              "      <th>giroscope_x</th>\n",
              "      <th>giroscope_y</th>\n",
              "      <th>giroscope_z</th>\n",
              "      <th>accelerometer_x_avg</th>\n",
              "      <th>accelerometer_y_avg</th>\n",
              "      <th>accelerometer_z_avg</th>\n",
              "      <th>accelerometer_x_std</th>\n",
              "      <th>accelerometer_y_std</th>\n",
              "      <th>accelerometer_z_std</th>\n",
              "      <th>comfort_x</th>\n",
              "      <th>comfort_y</th>\n",
              "      <th>comfort_z</th>\n",
              "    </tr>\n",
              "  </thead>\n",
              "  <tbody>\n",
              "    <tr>\n",
              "      <th>0</th>\n",
              "      <td>NaN</td>\n",
              "      <td>NaN</td>\n",
              "      <td>NaN</td>\n",
              "      <td>NaN</td>\n",
              "      <td>23.223407</td>\n",
              "      <td>-2.72</td>\n",
              "      <td>3.59</td>\n",
              "      <td>-0.34</td>\n",
              "      <td>1.016963</td>\n",
              "      <td>-0.059846</td>\n",
              "      <td>0.120445</td>\n",
              "      <td>0.194853</td>\n",
              "      <td>0.155698</td>\n",
              "      <td>0.172987</td>\n",
              "      <td>2.0</td>\n",
              "      <td>2.0</td>\n",
              "      <td>2.0</td>\n",
              "    </tr>\n",
              "    <tr>\n",
              "      <th>1</th>\n",
              "      <td>1034.423358</td>\n",
              "      <td>55.391512</td>\n",
              "      <td>111.343066</td>\n",
              "      <td>92.270318</td>\n",
              "      <td>3.223987</td>\n",
              "      <td>-0.77</td>\n",
              "      <td>-0.31</td>\n",
              "      <td>-4.57</td>\n",
              "      <td>1.005749</td>\n",
              "      <td>-0.099241</td>\n",
              "      <td>0.110642</td>\n",
              "      <td>0.217798</td>\n",
              "      <td>0.205179</td>\n",
              "      <td>0.219697</td>\n",
              "      <td>4.0</td>\n",
              "      <td>4.0</td>\n",
              "      <td>4.0</td>\n",
              "    </tr>\n",
              "    <tr>\n",
              "      <th>2</th>\n",
              "      <td>1487.816867</td>\n",
              "      <td>9.590048</td>\n",
              "      <td>118.028169</td>\n",
              "      <td>21.461805</td>\n",
              "      <td>22.807823</td>\n",
              "      <td>-2.05</td>\n",
              "      <td>0.98</td>\n",
              "      <td>4.51</td>\n",
              "      <td>1.024716</td>\n",
              "      <td>-0.063518</td>\n",
              "      <td>0.128107</td>\n",
              "      <td>0.109880</td>\n",
              "      <td>0.089158</td>\n",
              "      <td>0.083585</td>\n",
              "      <td>3.0</td>\n",
              "      <td>4.0</td>\n",
              "      <td>4.0</td>\n",
              "    </tr>\n",
              "    <tr>\n",
              "      <th>3</th>\n",
              "      <td>NaN</td>\n",
              "      <td>NaN</td>\n",
              "      <td>NaN</td>\n",
              "      <td>NaN</td>\n",
              "      <td>8.774839</td>\n",
              "      <td>-2.20</td>\n",
              "      <td>0.19</td>\n",
              "      <td>-2.51</td>\n",
              "      <td>1.015846</td>\n",
              "      <td>-0.079579</td>\n",
              "      <td>0.139395</td>\n",
              "      <td>0.035262</td>\n",
              "      <td>0.018842</td>\n",
              "      <td>0.042641</td>\n",
              "      <td>3.0</td>\n",
              "      <td>3.0</td>\n",
              "      <td>3.0</td>\n",
              "    </tr>\n",
              "    <tr>\n",
              "      <th>4</th>\n",
              "      <td>NaN</td>\n",
              "      <td>NaN</td>\n",
              "      <td>NaN</td>\n",
              "      <td>NaN</td>\n",
              "      <td>13.601787</td>\n",
              "      <td>-1.16</td>\n",
              "      <td>-0.10</td>\n",
              "      <td>-2.03</td>\n",
              "      <td>1.012846</td>\n",
              "      <td>-0.077933</td>\n",
              "      <td>0.137599</td>\n",
              "      <td>0.048181</td>\n",
              "      <td>0.030723</td>\n",
              "      <td>0.042666</td>\n",
              "      <td>4.0</td>\n",
              "      <td>4.0</td>\n",
              "      <td>4.0</td>\n",
              "    </tr>\n",
              "  </tbody>\n",
              "</table>\n",
              "</div>"
            ],
            "text/plain": [
              "    engine_rpm  engine_load  ...  comfort_y  comfort_z\n",
              "0          NaN          NaN  ...        2.0        2.0\n",
              "1  1034.423358    55.391512  ...        4.0        4.0\n",
              "2  1487.816867     9.590048  ...        4.0        4.0\n",
              "3          NaN          NaN  ...        3.0        3.0\n",
              "4          NaN          NaN  ...        4.0        4.0\n",
              "\n",
              "[5 rows x 17 columns]"
            ]
          },
          "metadata": {
            "tags": []
          },
          "execution_count": 39
        }
      ]
    },
    {
      "cell_type": "code",
      "metadata": {
        "id": "i63qnqBpYhZB",
        "colab_type": "code",
        "outputId": "45fd707b-1999-4b40-99f6-9b28e1891d26",
        "colab": {
          "base_uri": "https://localhost:8080/",
          "height": 224
        }
      },
      "source": [
        "shape = data.shape\n",
        "data = data.fillna(numpy.nan)\n",
        "data.head()"
      ],
      "execution_count": 40,
      "outputs": [
        {
          "output_type": "execute_result",
          "data": {
            "text/html": [
              "<div>\n",
              "<style scoped>\n",
              "    .dataframe tbody tr th:only-of-type {\n",
              "        vertical-align: middle;\n",
              "    }\n",
              "\n",
              "    .dataframe tbody tr th {\n",
              "        vertical-align: top;\n",
              "    }\n",
              "\n",
              "    .dataframe thead th {\n",
              "        text-align: right;\n",
              "    }\n",
              "</style>\n",
              "<table border=\"1\" class=\"dataframe\">\n",
              "  <thead>\n",
              "    <tr style=\"text-align: right;\">\n",
              "      <th></th>\n",
              "      <th>engine_rpm</th>\n",
              "      <th>engine_load</th>\n",
              "      <th>intake_manifold_pressure</th>\n",
              "      <th>accelerator_pedal</th>\n",
              "      <th>speed</th>\n",
              "      <th>giroscope_x</th>\n",
              "      <th>giroscope_y</th>\n",
              "      <th>giroscope_z</th>\n",
              "      <th>accelerometer_x_avg</th>\n",
              "      <th>accelerometer_y_avg</th>\n",
              "      <th>accelerometer_z_avg</th>\n",
              "      <th>accelerometer_x_std</th>\n",
              "      <th>accelerometer_y_std</th>\n",
              "      <th>accelerometer_z_std</th>\n",
              "      <th>comfort_x</th>\n",
              "      <th>comfort_y</th>\n",
              "      <th>comfort_z</th>\n",
              "    </tr>\n",
              "  </thead>\n",
              "  <tbody>\n",
              "    <tr>\n",
              "      <th>0</th>\n",
              "      <td>NaN</td>\n",
              "      <td>NaN</td>\n",
              "      <td>NaN</td>\n",
              "      <td>NaN</td>\n",
              "      <td>23.223407</td>\n",
              "      <td>-2.72</td>\n",
              "      <td>3.59</td>\n",
              "      <td>-0.34</td>\n",
              "      <td>1.016963</td>\n",
              "      <td>-0.059846</td>\n",
              "      <td>0.120445</td>\n",
              "      <td>0.194853</td>\n",
              "      <td>0.155698</td>\n",
              "      <td>0.172987</td>\n",
              "      <td>2.0</td>\n",
              "      <td>2.0</td>\n",
              "      <td>2.0</td>\n",
              "    </tr>\n",
              "    <tr>\n",
              "      <th>1</th>\n",
              "      <td>1034.423358</td>\n",
              "      <td>55.391512</td>\n",
              "      <td>111.343066</td>\n",
              "      <td>92.270318</td>\n",
              "      <td>3.223987</td>\n",
              "      <td>-0.77</td>\n",
              "      <td>-0.31</td>\n",
              "      <td>-4.57</td>\n",
              "      <td>1.005749</td>\n",
              "      <td>-0.099241</td>\n",
              "      <td>0.110642</td>\n",
              "      <td>0.217798</td>\n",
              "      <td>0.205179</td>\n",
              "      <td>0.219697</td>\n",
              "      <td>4.0</td>\n",
              "      <td>4.0</td>\n",
              "      <td>4.0</td>\n",
              "    </tr>\n",
              "    <tr>\n",
              "      <th>2</th>\n",
              "      <td>1487.816867</td>\n",
              "      <td>9.590048</td>\n",
              "      <td>118.028169</td>\n",
              "      <td>21.461805</td>\n",
              "      <td>22.807823</td>\n",
              "      <td>-2.05</td>\n",
              "      <td>0.98</td>\n",
              "      <td>4.51</td>\n",
              "      <td>1.024716</td>\n",
              "      <td>-0.063518</td>\n",
              "      <td>0.128107</td>\n",
              "      <td>0.109880</td>\n",
              "      <td>0.089158</td>\n",
              "      <td>0.083585</td>\n",
              "      <td>3.0</td>\n",
              "      <td>4.0</td>\n",
              "      <td>4.0</td>\n",
              "    </tr>\n",
              "    <tr>\n",
              "      <th>3</th>\n",
              "      <td>NaN</td>\n",
              "      <td>NaN</td>\n",
              "      <td>NaN</td>\n",
              "      <td>NaN</td>\n",
              "      <td>8.774839</td>\n",
              "      <td>-2.20</td>\n",
              "      <td>0.19</td>\n",
              "      <td>-2.51</td>\n",
              "      <td>1.015846</td>\n",
              "      <td>-0.079579</td>\n",
              "      <td>0.139395</td>\n",
              "      <td>0.035262</td>\n",
              "      <td>0.018842</td>\n",
              "      <td>0.042641</td>\n",
              "      <td>3.0</td>\n",
              "      <td>3.0</td>\n",
              "      <td>3.0</td>\n",
              "    </tr>\n",
              "    <tr>\n",
              "      <th>4</th>\n",
              "      <td>NaN</td>\n",
              "      <td>NaN</td>\n",
              "      <td>NaN</td>\n",
              "      <td>NaN</td>\n",
              "      <td>13.601787</td>\n",
              "      <td>-1.16</td>\n",
              "      <td>-0.10</td>\n",
              "      <td>-2.03</td>\n",
              "      <td>1.012846</td>\n",
              "      <td>-0.077933</td>\n",
              "      <td>0.137599</td>\n",
              "      <td>0.048181</td>\n",
              "      <td>0.030723</td>\n",
              "      <td>0.042666</td>\n",
              "      <td>4.0</td>\n",
              "      <td>4.0</td>\n",
              "      <td>4.0</td>\n",
              "    </tr>\n",
              "  </tbody>\n",
              "</table>\n",
              "</div>"
            ],
            "text/plain": [
              "    engine_rpm  engine_load  ...  comfort_y  comfort_z\n",
              "0          NaN          NaN  ...        2.0        2.0\n",
              "1  1034.423358    55.391512  ...        4.0        4.0\n",
              "2  1487.816867     9.590048  ...        4.0        4.0\n",
              "3          NaN          NaN  ...        3.0        3.0\n",
              "4          NaN          NaN  ...        4.0        4.0\n",
              "\n",
              "[5 rows x 17 columns]"
            ]
          },
          "metadata": {
            "tags": []
          },
          "execution_count": 40
        }
      ]
    },
    {
      "cell_type": "code",
      "metadata": {
        "id": "lwyTcGZbLnlY",
        "colab_type": "code",
        "colab": {
          "base_uri": "https://localhost:8080/",
          "height": 224
        },
        "outputId": "35a6b193-8a9a-4fb8-f18b-1346bbd1a4fc"
      },
      "source": [
        "d = data.copy()\n",
        "columns = ['engine_rpm', 'engine_load', 'intake_manifold_pressure', 'accelerator_pedal', 'speed', 'giroscope_x', 'giroscope_y', 'giroscope_z']\n",
        "for c in columns:\n",
        "  d[c] = d[c].fillna(d[c].mean())\n",
        "d.head()"
      ],
      "execution_count": 41,
      "outputs": [
        {
          "output_type": "execute_result",
          "data": {
            "text/html": [
              "<div>\n",
              "<style scoped>\n",
              "    .dataframe tbody tr th:only-of-type {\n",
              "        vertical-align: middle;\n",
              "    }\n",
              "\n",
              "    .dataframe tbody tr th {\n",
              "        vertical-align: top;\n",
              "    }\n",
              "\n",
              "    .dataframe thead th {\n",
              "        text-align: right;\n",
              "    }\n",
              "</style>\n",
              "<table border=\"1\" class=\"dataframe\">\n",
              "  <thead>\n",
              "    <tr style=\"text-align: right;\">\n",
              "      <th></th>\n",
              "      <th>engine_rpm</th>\n",
              "      <th>engine_load</th>\n",
              "      <th>intake_manifold_pressure</th>\n",
              "      <th>accelerator_pedal</th>\n",
              "      <th>speed</th>\n",
              "      <th>giroscope_x</th>\n",
              "      <th>giroscope_y</th>\n",
              "      <th>giroscope_z</th>\n",
              "      <th>accelerometer_x_avg</th>\n",
              "      <th>accelerometer_y_avg</th>\n",
              "      <th>accelerometer_z_avg</th>\n",
              "      <th>accelerometer_x_std</th>\n",
              "      <th>accelerometer_y_std</th>\n",
              "      <th>accelerometer_z_std</th>\n",
              "      <th>comfort_x</th>\n",
              "      <th>comfort_y</th>\n",
              "      <th>comfort_z</th>\n",
              "    </tr>\n",
              "  </thead>\n",
              "  <tbody>\n",
              "    <tr>\n",
              "      <th>0</th>\n",
              "      <td>1233.486699</td>\n",
              "      <td>26.227108</td>\n",
              "      <td>136.271720</td>\n",
              "      <td>32.786051</td>\n",
              "      <td>23.223407</td>\n",
              "      <td>-2.72</td>\n",
              "      <td>3.59</td>\n",
              "      <td>-0.34</td>\n",
              "      <td>1.016963</td>\n",
              "      <td>-0.059846</td>\n",
              "      <td>0.120445</td>\n",
              "      <td>0.194853</td>\n",
              "      <td>0.155698</td>\n",
              "      <td>0.172987</td>\n",
              "      <td>2.0</td>\n",
              "      <td>2.0</td>\n",
              "      <td>2.0</td>\n",
              "    </tr>\n",
              "    <tr>\n",
              "      <th>1</th>\n",
              "      <td>1034.423358</td>\n",
              "      <td>55.391512</td>\n",
              "      <td>111.343066</td>\n",
              "      <td>92.270318</td>\n",
              "      <td>3.223987</td>\n",
              "      <td>-0.77</td>\n",
              "      <td>-0.31</td>\n",
              "      <td>-4.57</td>\n",
              "      <td>1.005749</td>\n",
              "      <td>-0.099241</td>\n",
              "      <td>0.110642</td>\n",
              "      <td>0.217798</td>\n",
              "      <td>0.205179</td>\n",
              "      <td>0.219697</td>\n",
              "      <td>4.0</td>\n",
              "      <td>4.0</td>\n",
              "      <td>4.0</td>\n",
              "    </tr>\n",
              "    <tr>\n",
              "      <th>2</th>\n",
              "      <td>1487.816867</td>\n",
              "      <td>9.590048</td>\n",
              "      <td>118.028169</td>\n",
              "      <td>21.461805</td>\n",
              "      <td>22.807823</td>\n",
              "      <td>-2.05</td>\n",
              "      <td>0.98</td>\n",
              "      <td>4.51</td>\n",
              "      <td>1.024716</td>\n",
              "      <td>-0.063518</td>\n",
              "      <td>0.128107</td>\n",
              "      <td>0.109880</td>\n",
              "      <td>0.089158</td>\n",
              "      <td>0.083585</td>\n",
              "      <td>3.0</td>\n",
              "      <td>4.0</td>\n",
              "      <td>4.0</td>\n",
              "    </tr>\n",
              "    <tr>\n",
              "      <th>3</th>\n",
              "      <td>1233.486699</td>\n",
              "      <td>26.227108</td>\n",
              "      <td>136.271720</td>\n",
              "      <td>32.786051</td>\n",
              "      <td>8.774839</td>\n",
              "      <td>-2.20</td>\n",
              "      <td>0.19</td>\n",
              "      <td>-2.51</td>\n",
              "      <td>1.015846</td>\n",
              "      <td>-0.079579</td>\n",
              "      <td>0.139395</td>\n",
              "      <td>0.035262</td>\n",
              "      <td>0.018842</td>\n",
              "      <td>0.042641</td>\n",
              "      <td>3.0</td>\n",
              "      <td>3.0</td>\n",
              "      <td>3.0</td>\n",
              "    </tr>\n",
              "    <tr>\n",
              "      <th>4</th>\n",
              "      <td>1233.486699</td>\n",
              "      <td>26.227108</td>\n",
              "      <td>136.271720</td>\n",
              "      <td>32.786051</td>\n",
              "      <td>13.601787</td>\n",
              "      <td>-1.16</td>\n",
              "      <td>-0.10</td>\n",
              "      <td>-2.03</td>\n",
              "      <td>1.012846</td>\n",
              "      <td>-0.077933</td>\n",
              "      <td>0.137599</td>\n",
              "      <td>0.048181</td>\n",
              "      <td>0.030723</td>\n",
              "      <td>0.042666</td>\n",
              "      <td>4.0</td>\n",
              "      <td>4.0</td>\n",
              "      <td>4.0</td>\n",
              "    </tr>\n",
              "  </tbody>\n",
              "</table>\n",
              "</div>"
            ],
            "text/plain": [
              "    engine_rpm  engine_load  ...  comfort_y  comfort_z\n",
              "0  1233.486699    26.227108  ...        2.0        2.0\n",
              "1  1034.423358    55.391512  ...        4.0        4.0\n",
              "2  1487.816867     9.590048  ...        4.0        4.0\n",
              "3  1233.486699    26.227108  ...        3.0        3.0\n",
              "4  1233.486699    26.227108  ...        4.0        4.0\n",
              "\n",
              "[5 rows x 17 columns]"
            ]
          },
          "metadata": {
            "tags": []
          },
          "execution_count": 41
        }
      ]
    },
    {
      "cell_type": "code",
      "metadata": {
        "id": "2Esh0x-OWZTP",
        "colab_type": "code",
        "colab": {
          "base_uri": "https://localhost:8080/",
          "height": 224
        },
        "outputId": "3bcb2d72-d642-4c23-dfae-15a9e4aba8f4"
      },
      "source": [
        "d2 = data.copy()\n",
        "columns = ['engine_rpm', 'engine_load', 'intake_manifold_pressure', 'accelerator_pedal', 'speed', 'giroscope_x', 'giroscope_y', 'giroscope_z']\n",
        "for c in columns:\n",
        "  d2[c] = d2[c].fillna(0)\n",
        "d2.head()"
      ],
      "execution_count": 42,
      "outputs": [
        {
          "output_type": "execute_result",
          "data": {
            "text/html": [
              "<div>\n",
              "<style scoped>\n",
              "    .dataframe tbody tr th:only-of-type {\n",
              "        vertical-align: middle;\n",
              "    }\n",
              "\n",
              "    .dataframe tbody tr th {\n",
              "        vertical-align: top;\n",
              "    }\n",
              "\n",
              "    .dataframe thead th {\n",
              "        text-align: right;\n",
              "    }\n",
              "</style>\n",
              "<table border=\"1\" class=\"dataframe\">\n",
              "  <thead>\n",
              "    <tr style=\"text-align: right;\">\n",
              "      <th></th>\n",
              "      <th>engine_rpm</th>\n",
              "      <th>engine_load</th>\n",
              "      <th>intake_manifold_pressure</th>\n",
              "      <th>accelerator_pedal</th>\n",
              "      <th>speed</th>\n",
              "      <th>giroscope_x</th>\n",
              "      <th>giroscope_y</th>\n",
              "      <th>giroscope_z</th>\n",
              "      <th>accelerometer_x_avg</th>\n",
              "      <th>accelerometer_y_avg</th>\n",
              "      <th>accelerometer_z_avg</th>\n",
              "      <th>accelerometer_x_std</th>\n",
              "      <th>accelerometer_y_std</th>\n",
              "      <th>accelerometer_z_std</th>\n",
              "      <th>comfort_x</th>\n",
              "      <th>comfort_y</th>\n",
              "      <th>comfort_z</th>\n",
              "    </tr>\n",
              "  </thead>\n",
              "  <tbody>\n",
              "    <tr>\n",
              "      <th>0</th>\n",
              "      <td>0.000000</td>\n",
              "      <td>0.000000</td>\n",
              "      <td>0.000000</td>\n",
              "      <td>0.000000</td>\n",
              "      <td>23.223407</td>\n",
              "      <td>-2.72</td>\n",
              "      <td>3.59</td>\n",
              "      <td>-0.34</td>\n",
              "      <td>1.016963</td>\n",
              "      <td>-0.059846</td>\n",
              "      <td>0.120445</td>\n",
              "      <td>0.194853</td>\n",
              "      <td>0.155698</td>\n",
              "      <td>0.172987</td>\n",
              "      <td>2.0</td>\n",
              "      <td>2.0</td>\n",
              "      <td>2.0</td>\n",
              "    </tr>\n",
              "    <tr>\n",
              "      <th>1</th>\n",
              "      <td>1034.423358</td>\n",
              "      <td>55.391512</td>\n",
              "      <td>111.343066</td>\n",
              "      <td>92.270318</td>\n",
              "      <td>3.223987</td>\n",
              "      <td>-0.77</td>\n",
              "      <td>-0.31</td>\n",
              "      <td>-4.57</td>\n",
              "      <td>1.005749</td>\n",
              "      <td>-0.099241</td>\n",
              "      <td>0.110642</td>\n",
              "      <td>0.217798</td>\n",
              "      <td>0.205179</td>\n",
              "      <td>0.219697</td>\n",
              "      <td>4.0</td>\n",
              "      <td>4.0</td>\n",
              "      <td>4.0</td>\n",
              "    </tr>\n",
              "    <tr>\n",
              "      <th>2</th>\n",
              "      <td>1487.816867</td>\n",
              "      <td>9.590048</td>\n",
              "      <td>118.028169</td>\n",
              "      <td>21.461805</td>\n",
              "      <td>22.807823</td>\n",
              "      <td>-2.05</td>\n",
              "      <td>0.98</td>\n",
              "      <td>4.51</td>\n",
              "      <td>1.024716</td>\n",
              "      <td>-0.063518</td>\n",
              "      <td>0.128107</td>\n",
              "      <td>0.109880</td>\n",
              "      <td>0.089158</td>\n",
              "      <td>0.083585</td>\n",
              "      <td>3.0</td>\n",
              "      <td>4.0</td>\n",
              "      <td>4.0</td>\n",
              "    </tr>\n",
              "    <tr>\n",
              "      <th>3</th>\n",
              "      <td>0.000000</td>\n",
              "      <td>0.000000</td>\n",
              "      <td>0.000000</td>\n",
              "      <td>0.000000</td>\n",
              "      <td>8.774839</td>\n",
              "      <td>-2.20</td>\n",
              "      <td>0.19</td>\n",
              "      <td>-2.51</td>\n",
              "      <td>1.015846</td>\n",
              "      <td>-0.079579</td>\n",
              "      <td>0.139395</td>\n",
              "      <td>0.035262</td>\n",
              "      <td>0.018842</td>\n",
              "      <td>0.042641</td>\n",
              "      <td>3.0</td>\n",
              "      <td>3.0</td>\n",
              "      <td>3.0</td>\n",
              "    </tr>\n",
              "    <tr>\n",
              "      <th>4</th>\n",
              "      <td>0.000000</td>\n",
              "      <td>0.000000</td>\n",
              "      <td>0.000000</td>\n",
              "      <td>0.000000</td>\n",
              "      <td>13.601787</td>\n",
              "      <td>-1.16</td>\n",
              "      <td>-0.10</td>\n",
              "      <td>-2.03</td>\n",
              "      <td>1.012846</td>\n",
              "      <td>-0.077933</td>\n",
              "      <td>0.137599</td>\n",
              "      <td>0.048181</td>\n",
              "      <td>0.030723</td>\n",
              "      <td>0.042666</td>\n",
              "      <td>4.0</td>\n",
              "      <td>4.0</td>\n",
              "      <td>4.0</td>\n",
              "    </tr>\n",
              "  </tbody>\n",
              "</table>\n",
              "</div>"
            ],
            "text/plain": [
              "    engine_rpm  engine_load  ...  comfort_y  comfort_z\n",
              "0     0.000000     0.000000  ...        2.0        2.0\n",
              "1  1034.423358    55.391512  ...        4.0        4.0\n",
              "2  1487.816867     9.590048  ...        4.0        4.0\n",
              "3     0.000000     0.000000  ...        3.0        3.0\n",
              "4     0.000000     0.000000  ...        4.0        4.0\n",
              "\n",
              "[5 rows x 17 columns]"
            ]
          },
          "metadata": {
            "tags": []
          },
          "execution_count": 42
        }
      ]
    },
    {
      "cell_type": "code",
      "metadata": {
        "id": "jTxjq5NzW5zG",
        "colab_type": "code",
        "colab": {
          "base_uri": "https://localhost:8080/",
          "height": 224
        },
        "outputId": "f36683a1-5a6c-4b00-cd47-4fa056fab59f"
      },
      "source": [
        "d3 = data.copy()\n",
        "columns = ['engine_rpm', 'engine_load', 'intake_manifold_pressure', 'accelerator_pedal', 'speed', 'giroscope_x', 'giroscope_y', 'giroscope_z']\n",
        "for c in columns:\n",
        "  d3[c] = d3[c].fillna(d3[c].median())\n",
        "d3.head()"
      ],
      "execution_count": 43,
      "outputs": [
        {
          "output_type": "execute_result",
          "data": {
            "text/html": [
              "<div>\n",
              "<style scoped>\n",
              "    .dataframe tbody tr th:only-of-type {\n",
              "        vertical-align: middle;\n",
              "    }\n",
              "\n",
              "    .dataframe tbody tr th {\n",
              "        vertical-align: top;\n",
              "    }\n",
              "\n",
              "    .dataframe thead th {\n",
              "        text-align: right;\n",
              "    }\n",
              "</style>\n",
              "<table border=\"1\" class=\"dataframe\">\n",
              "  <thead>\n",
              "    <tr style=\"text-align: right;\">\n",
              "      <th></th>\n",
              "      <th>engine_rpm</th>\n",
              "      <th>engine_load</th>\n",
              "      <th>intake_manifold_pressure</th>\n",
              "      <th>accelerator_pedal</th>\n",
              "      <th>speed</th>\n",
              "      <th>giroscope_x</th>\n",
              "      <th>giroscope_y</th>\n",
              "      <th>giroscope_z</th>\n",
              "      <th>accelerometer_x_avg</th>\n",
              "      <th>accelerometer_y_avg</th>\n",
              "      <th>accelerometer_z_avg</th>\n",
              "      <th>accelerometer_x_std</th>\n",
              "      <th>accelerometer_y_std</th>\n",
              "      <th>accelerometer_z_std</th>\n",
              "      <th>comfort_x</th>\n",
              "      <th>comfort_y</th>\n",
              "      <th>comfort_z</th>\n",
              "    </tr>\n",
              "  </thead>\n",
              "  <tbody>\n",
              "    <tr>\n",
              "      <th>0</th>\n",
              "      <td>1265.206813</td>\n",
              "      <td>15.172646</td>\n",
              "      <td>124.087678</td>\n",
              "      <td>31.753677</td>\n",
              "      <td>23.223407</td>\n",
              "      <td>-2.72</td>\n",
              "      <td>3.59</td>\n",
              "      <td>-0.34</td>\n",
              "      <td>1.016963</td>\n",
              "      <td>-0.059846</td>\n",
              "      <td>0.120445</td>\n",
              "      <td>0.194853</td>\n",
              "      <td>0.155698</td>\n",
              "      <td>0.172987</td>\n",
              "      <td>2.0</td>\n",
              "      <td>2.0</td>\n",
              "      <td>2.0</td>\n",
              "    </tr>\n",
              "    <tr>\n",
              "      <th>1</th>\n",
              "      <td>1034.423358</td>\n",
              "      <td>55.391512</td>\n",
              "      <td>111.343066</td>\n",
              "      <td>92.270318</td>\n",
              "      <td>3.223987</td>\n",
              "      <td>-0.77</td>\n",
              "      <td>-0.31</td>\n",
              "      <td>-4.57</td>\n",
              "      <td>1.005749</td>\n",
              "      <td>-0.099241</td>\n",
              "      <td>0.110642</td>\n",
              "      <td>0.217798</td>\n",
              "      <td>0.205179</td>\n",
              "      <td>0.219697</td>\n",
              "      <td>4.0</td>\n",
              "      <td>4.0</td>\n",
              "      <td>4.0</td>\n",
              "    </tr>\n",
              "    <tr>\n",
              "      <th>2</th>\n",
              "      <td>1487.816867</td>\n",
              "      <td>9.590048</td>\n",
              "      <td>118.028169</td>\n",
              "      <td>21.461805</td>\n",
              "      <td>22.807823</td>\n",
              "      <td>-2.05</td>\n",
              "      <td>0.98</td>\n",
              "      <td>4.51</td>\n",
              "      <td>1.024716</td>\n",
              "      <td>-0.063518</td>\n",
              "      <td>0.128107</td>\n",
              "      <td>0.109880</td>\n",
              "      <td>0.089158</td>\n",
              "      <td>0.083585</td>\n",
              "      <td>3.0</td>\n",
              "      <td>4.0</td>\n",
              "      <td>4.0</td>\n",
              "    </tr>\n",
              "    <tr>\n",
              "      <th>3</th>\n",
              "      <td>1265.206813</td>\n",
              "      <td>15.172646</td>\n",
              "      <td>124.087678</td>\n",
              "      <td>31.753677</td>\n",
              "      <td>8.774839</td>\n",
              "      <td>-2.20</td>\n",
              "      <td>0.19</td>\n",
              "      <td>-2.51</td>\n",
              "      <td>1.015846</td>\n",
              "      <td>-0.079579</td>\n",
              "      <td>0.139395</td>\n",
              "      <td>0.035262</td>\n",
              "      <td>0.018842</td>\n",
              "      <td>0.042641</td>\n",
              "      <td>3.0</td>\n",
              "      <td>3.0</td>\n",
              "      <td>3.0</td>\n",
              "    </tr>\n",
              "    <tr>\n",
              "      <th>4</th>\n",
              "      <td>1265.206813</td>\n",
              "      <td>15.172646</td>\n",
              "      <td>124.087678</td>\n",
              "      <td>31.753677</td>\n",
              "      <td>13.601787</td>\n",
              "      <td>-1.16</td>\n",
              "      <td>-0.10</td>\n",
              "      <td>-2.03</td>\n",
              "      <td>1.012846</td>\n",
              "      <td>-0.077933</td>\n",
              "      <td>0.137599</td>\n",
              "      <td>0.048181</td>\n",
              "      <td>0.030723</td>\n",
              "      <td>0.042666</td>\n",
              "      <td>4.0</td>\n",
              "      <td>4.0</td>\n",
              "      <td>4.0</td>\n",
              "    </tr>\n",
              "  </tbody>\n",
              "</table>\n",
              "</div>"
            ],
            "text/plain": [
              "    engine_rpm  engine_load  ...  comfort_y  comfort_z\n",
              "0  1265.206813    15.172646  ...        2.0        2.0\n",
              "1  1034.423358    55.391512  ...        4.0        4.0\n",
              "2  1487.816867     9.590048  ...        4.0        4.0\n",
              "3  1265.206813    15.172646  ...        3.0        3.0\n",
              "4  1265.206813    15.172646  ...        4.0        4.0\n",
              "\n",
              "[5 rows x 17 columns]"
            ]
          },
          "metadata": {
            "tags": []
          },
          "execution_count": 43
        }
      ]
    },
    {
      "cell_type": "code",
      "metadata": {
        "id": "APm4iiAPx4vB",
        "colab_type": "code",
        "colab": {}
      },
      "source": [
        "cov = numpy.eye(shape[1])\n",
        "kmodel = KMeans(5).fit(d3)\n",
        "mu = kmodel.cluster_centers_"
      ],
      "execution_count": 0,
      "outputs": []
    },
    {
      "cell_type": "code",
      "metadata": {
        "id": "LhWCsdnVx6xz",
        "colab_type": "code",
        "colab": {}
      },
      "source": [
        "s1 = State(MultivariateGaussianDistribution(mu[0], cov))\n",
        "s2 = State(MultivariateGaussianDistribution(mu[1], cov))\n",
        "s3 = State(MultivariateGaussianDistribution(mu[2], cov))\n",
        "s4 = State(MultivariateGaussianDistribution(mu[3], cov))\n",
        "s5 = State(MultivariateGaussianDistribution(mu[4], cov))"
      ],
      "execution_count": 0,
      "outputs": []
    },
    {
      "cell_type": "code",
      "metadata": {
        "id": "aEfMt84Ix8rH",
        "colab_type": "code",
        "colab": {}
      },
      "source": [
        "model = HiddenMarkovModel()"
      ],
      "execution_count": 0,
      "outputs": []
    },
    {
      "cell_type": "code",
      "metadata": {
        "id": "xQ3GNU9LxY1p",
        "colab_type": "code",
        "colab": {}
      },
      "source": [
        "model.add_states(s1, s2, s3, s4, s5)"
      ],
      "execution_count": 0,
      "outputs": []
    },
    {
      "cell_type": "code",
      "metadata": {
        "id": "IVayaV43y4kf",
        "colab_type": "code",
        "colab": {}
      },
      "source": [
        "states = [s1, s2, s3, s4, s5]\n",
        "\n",
        "\n",
        "for i in range(0,5):\n",
        "  model.add_transition(model.start, states[i], 0.2)\n",
        "\n",
        "for idx, val in enumerate(states):\n",
        "  for i in range(0,5):\n",
        "    model.add_transition(states[idx], states[i], 0.2)\n",
        "    \n",
        "for i in range(0,5):\n",
        "  model.add_transition(states[i], model.end, 0.2)"
      ],
      "execution_count": 0,
      "outputs": []
    },
    {
      "cell_type": "code",
      "metadata": {
        "id": "xB8GOVwnxb02",
        "colab_type": "code",
        "colab": {}
      },
      "source": [
        "model.bake()"
      ],
      "execution_count": 0,
      "outputs": []
    },
    {
      "cell_type": "code",
      "metadata": {
        "id": "z5vnkvDnv8Gl",
        "colab_type": "code",
        "outputId": "38bf5cbd-a92b-4071-cb9e-fa1fee1f20cf",
        "colab": {
          "base_uri": "https://localhost:8080/",
          "height": 255
        }
      },
      "source": [
        "model.dense_transition_matrix()"
      ],
      "execution_count": 50,
      "outputs": [
        {
          "output_type": "execute_result",
          "data": {
            "text/plain": [
              "array([[0.16666667, 0.16666667, 0.16666667, 0.16666667, 0.16666667,\n",
              "        0.        , 0.16666667],\n",
              "       [0.16666667, 0.16666667, 0.16666667, 0.16666667, 0.16666667,\n",
              "        0.        , 0.16666667],\n",
              "       [0.16666667, 0.16666667, 0.16666667, 0.16666667, 0.16666667,\n",
              "        0.        , 0.16666667],\n",
              "       [0.16666667, 0.16666667, 0.16666667, 0.16666667, 0.16666667,\n",
              "        0.        , 0.16666667],\n",
              "       [0.16666667, 0.16666667, 0.16666667, 0.16666667, 0.16666667,\n",
              "        0.        , 0.16666667],\n",
              "       [0.2       , 0.2       , 0.2       , 0.2       , 0.2       ,\n",
              "        0.        , 0.        ],\n",
              "       [0.        , 0.        , 0.        , 0.        , 0.        ,\n",
              "        0.        , 0.        ]])"
            ]
          },
          "metadata": {
            "tags": []
          },
          "execution_count": 50
        }
      ]
    },
    {
      "cell_type": "code",
      "metadata": {
        "id": "fgrZd_NRbAk4",
        "colab_type": "code",
        "outputId": "1502009a-c0ac-4ec0-8ec0-2d5fedccf6bd",
        "colab": {
          "base_uri": "https://localhost:8080/",
          "height": 51
        }
      },
      "source": [
        "#model.forward_backward(data.iloc[0])\n",
        "#model.viterbi(data.iloc[0])\n",
        "#model.log_probability(data.iloc[0])\n",
        "#model.forward(data.iloc[0])\n",
        "#model.backward(data.iloc[0])\n",
        "model.predict(d3.iloc[1])\n"
      ],
      "execution_count": 51,
      "outputs": [
        {
          "output_type": "stream",
          "text": [
            "Warning: Sequence is impossible.\n"
          ],
          "name": "stdout"
        },
        {
          "output_type": "execute_result",
          "data": {
            "text/plain": [
              "[-1, -1, -1, -1, -1, -1, -1, -1, -1, -1, -1, -1, -1, -1, -1, -1, -1]"
            ]
          },
          "metadata": {
            "tags": []
          },
          "execution_count": 51
        }
      ]
    },
    {
      "cell_type": "code",
      "metadata": {
        "id": "44kUFvzq11Jk",
        "colab_type": "code",
        "colab": {}
      },
      "source": [
        "b = np.zeros(shape = (shape[0], shape[1]))\n",
        "for i in range(0, shape[1]):\n",
        "    b[i] = d3.iloc[i]"
      ],
      "execution_count": 0,
      "outputs": []
    },
    {
      "cell_type": "code",
      "metadata": {
        "id": "-QT8TYOv19gx",
        "colab_type": "code",
        "outputId": "24249900-6b4f-4270-9c4d-71f0ab6f6d05",
        "colab": {
          "base_uri": "https://localhost:8080/",
          "height": 113207
        }
      },
      "source": [
        "model.fit(b, verbose = True)"
      ],
      "execution_count": 53,
      "outputs": [
        {
          "output_type": "error",
          "ename": "TypeError",
          "evalue": "ignored",
          "traceback": [
            "\u001b[0;31m---------------------------------------------------------------------------\u001b[0m",
            "\u001b[0;31mLinAlgError\u001b[0m                               Traceback (most recent call last)",
            "\u001b[0;32mpomegranate/distributions/MultivariateGaussianDistribution.pyx\u001b[0m in \u001b[0;36mpomegranate.distributions.MultivariateGaussianDistribution.MultivariateGaussianDistribution.from_summaries\u001b[0;34m()\u001b[0m\n",
            "\u001b[0;32m/usr/local/lib/python3.6/dist-packages/scipy/linalg/decomp_cholesky.py\u001b[0m in \u001b[0;36mcholesky\u001b[0;34m(a, lower, overwrite_a, check_finite)\u001b[0m\n\u001b[1;32m     90\u001b[0m     c, lower = _cholesky(a, lower=lower, overwrite_a=overwrite_a, clean=True,\n\u001b[0;32m---> 91\u001b[0;31m                          check_finite=check_finite)\n\u001b[0m\u001b[1;32m     92\u001b[0m     \u001b[0;32mreturn\u001b[0m \u001b[0mc\u001b[0m\u001b[0;34m\u001b[0m\u001b[0;34m\u001b[0m\u001b[0m\n",
            "\u001b[0;32m/usr/local/lib/python3.6/dist-packages/scipy/linalg/decomp_cholesky.py\u001b[0m in \u001b[0;36m_cholesky\u001b[0;34m(a, lower, overwrite_a, clean, check_finite)\u001b[0m\n\u001b[1;32m     39\u001b[0m         raise LinAlgError(\"%d-th leading minor of the array is not positive \"\n\u001b[0;32m---> 40\u001b[0;31m                           \"definite\" % info)\n\u001b[0m\u001b[1;32m     41\u001b[0m     \u001b[0;32mif\u001b[0m \u001b[0minfo\u001b[0m \u001b[0;34m<\u001b[0m \u001b[0;36m0\u001b[0m\u001b[0;34m:\u001b[0m\u001b[0;34m\u001b[0m\u001b[0;34m\u001b[0m\u001b[0m\n",
            "\u001b[0;31mLinAlgError\u001b[0m: 4-th leading minor of the array is not positive definite",
            "\nDuring handling of the above exception, another exception occurred:\n",
            "\u001b[0;31mTypeError\u001b[0m                                 Traceback (most recent call last)",
            "\u001b[0;32mpomegranate/distributions/MultivariateGaussianDistribution.pyx\u001b[0m in \u001b[0;36mpomegranate.distributions.MultivariateGaussianDistribution.MultivariateGaussianDistribution.from_summaries\u001b[0;34m()\u001b[0m\n",
            "\u001b[0;31mTypeError\u001b[0m: Cannot cast ufunc subtract output from dtype('complex128') to dtype('float64') with casting rule 'same_kind'"
          ]
        },
        {
          "output_type": "stream",
          "text": [
            "Exception ignored in: 'pomegranate.hmm.HiddenMarkovModel._from_summaries'\n",
            "Traceback (most recent call last):\n",
            "  File \"pomegranate/distributions/MultivariateGaussianDistribution.pyx\", line 277, in pomegranate.distributions.MultivariateGaussianDistribution.MultivariateGaussianDistribution.from_summaries\n",
            "TypeError: Cannot cast ufunc subtract output from dtype('complex128') to dtype('float64') with casting rule 'same_kind'\n"
          ],
          "name": "stderr"
        },
        {
          "output_type": "error",
          "ename": "LinAlgError",
          "evalue": "ignored",
          "traceback": [
            "\u001b[0;31m---------------------------------------------------------------------------\u001b[0m",
            "\u001b[0;31mLinAlgError\u001b[0m                               Traceback (most recent call last)",
            "\u001b[0;32mpomegranate/distributions/MultivariateGaussianDistribution.pyx\u001b[0m in \u001b[0;36mpomegranate.distributions.MultivariateGaussianDistribution.MultivariateGaussianDistribution.__cinit__\u001b[0;34m()\u001b[0m\n",
            "\u001b[0;32m/usr/local/lib/python3.6/dist-packages/scipy/linalg/decomp_cholesky.py\u001b[0m in \u001b[0;36mcholesky\u001b[0;34m(a, lower, overwrite_a, check_finite)\u001b[0m\n\u001b[1;32m     89\u001b[0m     \"\"\"\n\u001b[1;32m     90\u001b[0m     c, lower = _cholesky(a, lower=lower, overwrite_a=overwrite_a, clean=True,\n\u001b[0;32m---> 91\u001b[0;31m                          check_finite=check_finite)\n\u001b[0m\u001b[1;32m     92\u001b[0m     \u001b[0;32mreturn\u001b[0m \u001b[0mc\u001b[0m\u001b[0;34m\u001b[0m\u001b[0;34m\u001b[0m\u001b[0m\n\u001b[1;32m     93\u001b[0m \u001b[0;34m\u001b[0m\u001b[0m\n",
            "\u001b[0;32m/usr/local/lib/python3.6/dist-packages/scipy/linalg/decomp_cholesky.py\u001b[0m in \u001b[0;36m_cholesky\u001b[0;34m(a, lower, overwrite_a, clean, check_finite)\u001b[0m\n\u001b[1;32m     38\u001b[0m     \u001b[0;32mif\u001b[0m \u001b[0minfo\u001b[0m \u001b[0;34m>\u001b[0m \u001b[0;36m0\u001b[0m\u001b[0;34m:\u001b[0m\u001b[0;34m\u001b[0m\u001b[0;34m\u001b[0m\u001b[0m\n\u001b[1;32m     39\u001b[0m         raise LinAlgError(\"%d-th leading minor of the array is not positive \"\n\u001b[0;32m---> 40\u001b[0;31m                           \"definite\" % info)\n\u001b[0m\u001b[1;32m     41\u001b[0m     \u001b[0;32mif\u001b[0m \u001b[0minfo\u001b[0m \u001b[0;34m<\u001b[0m \u001b[0;36m0\u001b[0m\u001b[0;34m:\u001b[0m\u001b[0;34m\u001b[0m\u001b[0;34m\u001b[0m\u001b[0m\n\u001b[1;32m     42\u001b[0m         raise ValueError('LAPACK reported an illegal value in {}-th argument'\n",
            "\u001b[0;31mLinAlgError\u001b[0m: 4-th leading minor of the array is not positive definite"
          ]
        },
        {
          "output_type": "stream",
          "text": [
            "Exception ignored in: 'pomegranate.distributions.MultivariateGaussianDistribution.MultivariateGaussianDistribution._log_probability_missing'\n",
            "Traceback (most recent call last):\n",
            "  File \"pomegranate/distributions/MultivariateGaussianDistribution.pyx\", line 72, in pomegranate.distributions.MultivariateGaussianDistribution.MultivariateGaussianDistribution.__cinit__\n",
            "  File \"/usr/local/lib/python3.6/dist-packages/scipy/linalg/decomp_cholesky.py\", line 91, in cholesky\n",
            "    check_finite=check_finite)\n",
            "  File \"/usr/local/lib/python3.6/dist-packages/scipy/linalg/decomp_cholesky.py\", line 40, in _cholesky\n",
            "    \"definite\" % info)\n",
            "numpy.linalg.LinAlgError: 4-th leading minor of the array is not positive definite\n"
          ],
          "name": "stderr"
        },
        {
          "output_type": "error",
          "ename": "LinAlgError",
          "evalue": "ignored",
          "traceback": [
            "\u001b[0;31m---------------------------------------------------------------------------\u001b[0m",
            "\u001b[0;31mLinAlgError\u001b[0m                               Traceback (most recent call last)",
            "\u001b[0;32mpomegranate/distributions/MultivariateGaussianDistribution.pyx\u001b[0m in \u001b[0;36mpomegranate.distributions.MultivariateGaussianDistribution.MultivariateGaussianDistribution.__cinit__\u001b[0;34m()\u001b[0m\n",
            "\u001b[0;32m/usr/local/lib/python3.6/dist-packages/scipy/linalg/decomp_cholesky.py\u001b[0m in \u001b[0;36mcholesky\u001b[0;34m(a, lower, overwrite_a, check_finite)\u001b[0m\n\u001b[1;32m     89\u001b[0m     \"\"\"\n\u001b[1;32m     90\u001b[0m     c, lower = _cholesky(a, lower=lower, overwrite_a=overwrite_a, clean=True,\n\u001b[0;32m---> 91\u001b[0;31m                          check_finite=check_finite)\n\u001b[0m\u001b[1;32m     92\u001b[0m     \u001b[0;32mreturn\u001b[0m \u001b[0mc\u001b[0m\u001b[0;34m\u001b[0m\u001b[0;34m\u001b[0m\u001b[0m\n\u001b[1;32m     93\u001b[0m \u001b[0;34m\u001b[0m\u001b[0m\n",
            "\u001b[0;32m/usr/local/lib/python3.6/dist-packages/scipy/linalg/decomp_cholesky.py\u001b[0m in \u001b[0;36m_cholesky\u001b[0;34m(a, lower, overwrite_a, clean, check_finite)\u001b[0m\n\u001b[1;32m     38\u001b[0m     \u001b[0;32mif\u001b[0m \u001b[0minfo\u001b[0m \u001b[0;34m>\u001b[0m \u001b[0;36m0\u001b[0m\u001b[0;34m:\u001b[0m\u001b[0;34m\u001b[0m\u001b[0;34m\u001b[0m\u001b[0m\n\u001b[1;32m     39\u001b[0m         raise LinAlgError(\"%d-th leading minor of the array is not positive \"\n\u001b[0;32m---> 40\u001b[0;31m                           \"definite\" % info)\n\u001b[0m\u001b[1;32m     41\u001b[0m     \u001b[0;32mif\u001b[0m \u001b[0minfo\u001b[0m \u001b[0;34m<\u001b[0m \u001b[0;36m0\u001b[0m\u001b[0;34m:\u001b[0m\u001b[0;34m\u001b[0m\u001b[0;34m\u001b[0m\u001b[0m\n\u001b[1;32m     42\u001b[0m         raise ValueError('LAPACK reported an illegal value in {}-th argument'\n",
            "\u001b[0;31mLinAlgError\u001b[0m: 3-th leading minor of the array is not positive definite"
          ]
        },
        {
          "output_type": "stream",
          "text": [
            "Exception ignored in: 'pomegranate.distributions.MultivariateGaussianDistribution.MultivariateGaussianDistribution._log_probability_missing'\n",
            "Traceback (most recent call last):\n",
            "  File \"pomegranate/distributions/MultivariateGaussianDistribution.pyx\", line 72, in pomegranate.distributions.MultivariateGaussianDistribution.MultivariateGaussianDistribution.__cinit__\n",
            "  File \"/usr/local/lib/python3.6/dist-packages/scipy/linalg/decomp_cholesky.py\", line 91, in cholesky\n",
            "    check_finite=check_finite)\n",
            "  File \"/usr/local/lib/python3.6/dist-packages/scipy/linalg/decomp_cholesky.py\", line 40, in _cholesky\n",
            "    \"definite\" % info)\n",
            "numpy.linalg.LinAlgError: 3-th leading minor of the array is not positive definite\n"
          ],
          "name": "stderr"
        },
        {
          "output_type": "error",
          "ename": "LinAlgError",
          "evalue": "ignored",
          "traceback": [
            "\u001b[0;31m---------------------------------------------------------------------------\u001b[0m",
            "\u001b[0;31mLinAlgError\u001b[0m                               Traceback (most recent call last)",
            "\u001b[0;32mpomegranate/distributions/MultivariateGaussianDistribution.pyx\u001b[0m in \u001b[0;36mpomegranate.distributions.MultivariateGaussianDistribution.MultivariateGaussianDistribution.__cinit__\u001b[0;34m()\u001b[0m\n",
            "\u001b[0;32m/usr/local/lib/python3.6/dist-packages/scipy/linalg/decomp_cholesky.py\u001b[0m in \u001b[0;36mcholesky\u001b[0;34m(a, lower, overwrite_a, check_finite)\u001b[0m\n\u001b[1;32m     89\u001b[0m     \"\"\"\n\u001b[1;32m     90\u001b[0m     c, lower = _cholesky(a, lower=lower, overwrite_a=overwrite_a, clean=True,\n\u001b[0;32m---> 91\u001b[0;31m                          check_finite=check_finite)\n\u001b[0m\u001b[1;32m     92\u001b[0m     \u001b[0;32mreturn\u001b[0m \u001b[0mc\u001b[0m\u001b[0;34m\u001b[0m\u001b[0;34m\u001b[0m\u001b[0m\n\u001b[1;32m     93\u001b[0m \u001b[0;34m\u001b[0m\u001b[0m\n",
            "\u001b[0;32m/usr/local/lib/python3.6/dist-packages/scipy/linalg/decomp_cholesky.py\u001b[0m in \u001b[0;36m_cholesky\u001b[0;34m(a, lower, overwrite_a, clean, check_finite)\u001b[0m\n\u001b[1;32m     38\u001b[0m     \u001b[0;32mif\u001b[0m \u001b[0minfo\u001b[0m \u001b[0;34m>\u001b[0m \u001b[0;36m0\u001b[0m\u001b[0;34m:\u001b[0m\u001b[0;34m\u001b[0m\u001b[0;34m\u001b[0m\u001b[0m\n\u001b[1;32m     39\u001b[0m         raise LinAlgError(\"%d-th leading minor of the array is not positive \"\n\u001b[0;32m---> 40\u001b[0;31m                           \"definite\" % info)\n\u001b[0m\u001b[1;32m     41\u001b[0m     \u001b[0;32mif\u001b[0m \u001b[0minfo\u001b[0m \u001b[0;34m<\u001b[0m \u001b[0;36m0\u001b[0m\u001b[0;34m:\u001b[0m\u001b[0;34m\u001b[0m\u001b[0;34m\u001b[0m\u001b[0m\n\u001b[1;32m     42\u001b[0m         raise ValueError('LAPACK reported an illegal value in {}-th argument'\n",
            "\u001b[0;31mLinAlgError\u001b[0m: 4-th leading minor of the array is not positive definite"
          ]
        },
        {
          "output_type": "stream",
          "text": [
            "Exception ignored in: 'pomegranate.distributions.MultivariateGaussianDistribution.MultivariateGaussianDistribution._log_probability_missing'\n",
            "Traceback (most recent call last):\n",
            "  File \"pomegranate/distributions/MultivariateGaussianDistribution.pyx\", line 72, in pomegranate.distributions.MultivariateGaussianDistribution.MultivariateGaussianDistribution.__cinit__\n",
            "  File \"/usr/local/lib/python3.6/dist-packages/scipy/linalg/decomp_cholesky.py\", line 91, in cholesky\n",
            "    check_finite=check_finite)\n",
            "  File \"/usr/local/lib/python3.6/dist-packages/scipy/linalg/decomp_cholesky.py\", line 40, in _cholesky\n",
            "    \"definite\" % info)\n",
            "numpy.linalg.LinAlgError: 4-th leading minor of the array is not positive definite\n"
          ],
          "name": "stderr"
        },
        {
          "output_type": "error",
          "ename": "ValueError",
          "evalue": "ignored",
          "traceback": [
            "\u001b[0;31m---------------------------------------------------------------------------\u001b[0m",
            "\u001b[0;31mValueError\u001b[0m                                Traceback (most recent call last)",
            "\u001b[0;32mpomegranate/distributions/MultivariateGaussianDistribution.pyx\u001b[0m in \u001b[0;36mpomegranate.distributions.MultivariateGaussianDistribution.MultivariateGaussianDistribution.__cinit__\u001b[0;34m()\u001b[0m\n",
            "\u001b[0;31mValueError\u001b[0m: covariance matrix is not invertible."
          ]
        },
        {
          "output_type": "stream",
          "text": [
            "Exception ignored in: 'pomegranate.distributions.MultivariateGaussianDistribution.MultivariateGaussianDistribution._log_probability_missing'\n",
            "Traceback (most recent call last):\n",
            "  File \"pomegranate/distributions/MultivariateGaussianDistribution.pyx\", line 65, in pomegranate.distributions.MultivariateGaussianDistribution.MultivariateGaussianDistribution.__cinit__\n",
            "ValueError: covariance matrix is not invertible.\n"
          ],
          "name": "stderr"
        },
        {
          "output_type": "error",
          "ename": "LinAlgError",
          "evalue": "ignored",
          "traceback": [
            "\u001b[0;31m---------------------------------------------------------------------------\u001b[0m",
            "\u001b[0;31mLinAlgError\u001b[0m                               Traceback (most recent call last)",
            "\u001b[0;32mpomegranate/distributions/MultivariateGaussianDistribution.pyx\u001b[0m in \u001b[0;36mpomegranate.distributions.MultivariateGaussianDistribution.MultivariateGaussianDistribution.__cinit__\u001b[0;34m()\u001b[0m\n",
            "\u001b[0;32m/usr/local/lib/python3.6/dist-packages/scipy/linalg/decomp_cholesky.py\u001b[0m in \u001b[0;36mcholesky\u001b[0;34m(a, lower, overwrite_a, check_finite)\u001b[0m\n\u001b[1;32m     89\u001b[0m     \"\"\"\n\u001b[1;32m     90\u001b[0m     c, lower = _cholesky(a, lower=lower, overwrite_a=overwrite_a, clean=True,\n\u001b[0;32m---> 91\u001b[0;31m                          check_finite=check_finite)\n\u001b[0m\u001b[1;32m     92\u001b[0m     \u001b[0;32mreturn\u001b[0m \u001b[0mc\u001b[0m\u001b[0;34m\u001b[0m\u001b[0;34m\u001b[0m\u001b[0m\n\u001b[1;32m     93\u001b[0m \u001b[0;34m\u001b[0m\u001b[0m\n",
            "\u001b[0;32m/usr/local/lib/python3.6/dist-packages/scipy/linalg/decomp_cholesky.py\u001b[0m in \u001b[0;36m_cholesky\u001b[0;34m(a, lower, overwrite_a, clean, check_finite)\u001b[0m\n\u001b[1;32m     38\u001b[0m     \u001b[0;32mif\u001b[0m \u001b[0minfo\u001b[0m \u001b[0;34m>\u001b[0m \u001b[0;36m0\u001b[0m\u001b[0;34m:\u001b[0m\u001b[0;34m\u001b[0m\u001b[0;34m\u001b[0m\u001b[0m\n\u001b[1;32m     39\u001b[0m         raise LinAlgError(\"%d-th leading minor of the array is not positive \"\n\u001b[0;32m---> 40\u001b[0;31m                           \"definite\" % info)\n\u001b[0m\u001b[1;32m     41\u001b[0m     \u001b[0;32mif\u001b[0m \u001b[0minfo\u001b[0m \u001b[0;34m<\u001b[0m \u001b[0;36m0\u001b[0m\u001b[0;34m:\u001b[0m\u001b[0;34m\u001b[0m\u001b[0;34m\u001b[0m\u001b[0m\n\u001b[1;32m     42\u001b[0m         raise ValueError('LAPACK reported an illegal value in {}-th argument'\n",
            "\u001b[0;31mLinAlgError\u001b[0m: 6-th leading minor of the array is not positive definite"
          ]
        },
        {
          "output_type": "stream",
          "text": [
            "Exception ignored in: 'pomegranate.distributions.MultivariateGaussianDistribution.MultivariateGaussianDistribution._log_probability_missing'\n",
            "Traceback (most recent call last):\n",
            "  File \"pomegranate/distributions/MultivariateGaussianDistribution.pyx\", line 72, in pomegranate.distributions.MultivariateGaussianDistribution.MultivariateGaussianDistribution.__cinit__\n",
            "  File \"/usr/local/lib/python3.6/dist-packages/scipy/linalg/decomp_cholesky.py\", line 91, in cholesky\n",
            "    check_finite=check_finite)\n",
            "  File \"/usr/local/lib/python3.6/dist-packages/scipy/linalg/decomp_cholesky.py\", line 40, in _cholesky\n",
            "    \"definite\" % info)\n",
            "numpy.linalg.LinAlgError: 6-th leading minor of the array is not positive definite\n"
          ],
          "name": "stderr"
        },
        {
          "output_type": "error",
          "ename": "LinAlgError",
          "evalue": "ignored",
          "traceback": [
            "\u001b[0;31m---------------------------------------------------------------------------\u001b[0m",
            "\u001b[0;31mLinAlgError\u001b[0m                               Traceback (most recent call last)",
            "\u001b[0;32mpomegranate/distributions/MultivariateGaussianDistribution.pyx\u001b[0m in \u001b[0;36mpomegranate.distributions.MultivariateGaussianDistribution.MultivariateGaussianDistribution.__cinit__\u001b[0;34m()\u001b[0m\n",
            "\u001b[0;32m/usr/local/lib/python3.6/dist-packages/scipy/linalg/decomp_cholesky.py\u001b[0m in \u001b[0;36mcholesky\u001b[0;34m(a, lower, overwrite_a, check_finite)\u001b[0m\n\u001b[1;32m     89\u001b[0m     \"\"\"\n\u001b[1;32m     90\u001b[0m     c, lower = _cholesky(a, lower=lower, overwrite_a=overwrite_a, clean=True,\n\u001b[0;32m---> 91\u001b[0;31m                          check_finite=check_finite)\n\u001b[0m\u001b[1;32m     92\u001b[0m     \u001b[0;32mreturn\u001b[0m \u001b[0mc\u001b[0m\u001b[0;34m\u001b[0m\u001b[0;34m\u001b[0m\u001b[0m\n\u001b[1;32m     93\u001b[0m \u001b[0;34m\u001b[0m\u001b[0m\n",
            "\u001b[0;32m/usr/local/lib/python3.6/dist-packages/scipy/linalg/decomp_cholesky.py\u001b[0m in \u001b[0;36m_cholesky\u001b[0;34m(a, lower, overwrite_a, clean, check_finite)\u001b[0m\n\u001b[1;32m     38\u001b[0m     \u001b[0;32mif\u001b[0m \u001b[0minfo\u001b[0m \u001b[0;34m>\u001b[0m \u001b[0;36m0\u001b[0m\u001b[0;34m:\u001b[0m\u001b[0;34m\u001b[0m\u001b[0;34m\u001b[0m\u001b[0m\n\u001b[1;32m     39\u001b[0m         raise LinAlgError(\"%d-th leading minor of the array is not positive \"\n\u001b[0;32m---> 40\u001b[0;31m                           \"definite\" % info)\n\u001b[0m\u001b[1;32m     41\u001b[0m     \u001b[0;32mif\u001b[0m \u001b[0minfo\u001b[0m \u001b[0;34m<\u001b[0m \u001b[0;36m0\u001b[0m\u001b[0;34m:\u001b[0m\u001b[0;34m\u001b[0m\u001b[0;34m\u001b[0m\u001b[0m\n\u001b[1;32m     42\u001b[0m         raise ValueError('LAPACK reported an illegal value in {}-th argument'\n",
            "\u001b[0;31mLinAlgError\u001b[0m: 6-th leading minor of the array is not positive definite"
          ]
        },
        {
          "output_type": "stream",
          "text": [
            "Exception ignored in: 'pomegranate.distributions.MultivariateGaussianDistribution.MultivariateGaussianDistribution._log_probability_missing'\n",
            "Traceback (most recent call last):\n",
            "  File \"pomegranate/distributions/MultivariateGaussianDistribution.pyx\", line 72, in pomegranate.distributions.MultivariateGaussianDistribution.MultivariateGaussianDistribution.__cinit__\n",
            "  File \"/usr/local/lib/python3.6/dist-packages/scipy/linalg/decomp_cholesky.py\", line 91, in cholesky\n",
            "    check_finite=check_finite)\n",
            "  File \"/usr/local/lib/python3.6/dist-packages/scipy/linalg/decomp_cholesky.py\", line 40, in _cholesky\n",
            "    \"definite\" % info)\n",
            "numpy.linalg.LinAlgError: 6-th leading minor of the array is not positive definite\n"
          ],
          "name": "stderr"
        },
        {
          "output_type": "error",
          "ename": "LinAlgError",
          "evalue": "ignored",
          "traceback": [
            "\u001b[0;31m---------------------------------------------------------------------------\u001b[0m",
            "\u001b[0;31mLinAlgError\u001b[0m                               Traceback (most recent call last)",
            "\u001b[0;32mpomegranate/distributions/MultivariateGaussianDistribution.pyx\u001b[0m in \u001b[0;36mpomegranate.distributions.MultivariateGaussianDistribution.MultivariateGaussianDistribution.__cinit__\u001b[0;34m()\u001b[0m\n",
            "\u001b[0;32m/usr/local/lib/python3.6/dist-packages/scipy/linalg/decomp_cholesky.py\u001b[0m in \u001b[0;36mcholesky\u001b[0;34m(a, lower, overwrite_a, check_finite)\u001b[0m\n\u001b[1;32m     89\u001b[0m     \"\"\"\n\u001b[1;32m     90\u001b[0m     c, lower = _cholesky(a, lower=lower, overwrite_a=overwrite_a, clean=True,\n\u001b[0;32m---> 91\u001b[0;31m                          check_finite=check_finite)\n\u001b[0m\u001b[1;32m     92\u001b[0m     \u001b[0;32mreturn\u001b[0m \u001b[0mc\u001b[0m\u001b[0;34m\u001b[0m\u001b[0;34m\u001b[0m\u001b[0m\n\u001b[1;32m     93\u001b[0m \u001b[0;34m\u001b[0m\u001b[0m\n",
            "\u001b[0;32m/usr/local/lib/python3.6/dist-packages/scipy/linalg/decomp_cholesky.py\u001b[0m in \u001b[0;36m_cholesky\u001b[0;34m(a, lower, overwrite_a, clean, check_finite)\u001b[0m\n\u001b[1;32m     38\u001b[0m     \u001b[0;32mif\u001b[0m \u001b[0minfo\u001b[0m \u001b[0;34m>\u001b[0m \u001b[0;36m0\u001b[0m\u001b[0;34m:\u001b[0m\u001b[0;34m\u001b[0m\u001b[0;34m\u001b[0m\u001b[0m\n\u001b[1;32m     39\u001b[0m         raise LinAlgError(\"%d-th leading minor of the array is not positive \"\n\u001b[0;32m---> 40\u001b[0;31m                           \"definite\" % info)\n\u001b[0m\u001b[1;32m     41\u001b[0m     \u001b[0;32mif\u001b[0m \u001b[0minfo\u001b[0m \u001b[0;34m<\u001b[0m \u001b[0;36m0\u001b[0m\u001b[0;34m:\u001b[0m\u001b[0;34m\u001b[0m\u001b[0;34m\u001b[0m\u001b[0m\n\u001b[1;32m     42\u001b[0m         raise ValueError('LAPACK reported an illegal value in {}-th argument'\n",
            "\u001b[0;31mLinAlgError\u001b[0m: 4-th leading minor of the array is not positive definite"
          ]
        },
        {
          "output_type": "stream",
          "text": [
            "Exception ignored in: 'pomegranate.distributions.MultivariateGaussianDistribution.MultivariateGaussianDistribution._log_probability_missing'\n",
            "Traceback (most recent call last):\n",
            "  File \"pomegranate/distributions/MultivariateGaussianDistribution.pyx\", line 72, in pomegranate.distributions.MultivariateGaussianDistribution.MultivariateGaussianDistribution.__cinit__\n",
            "  File \"/usr/local/lib/python3.6/dist-packages/scipy/linalg/decomp_cholesky.py\", line 91, in cholesky\n",
            "    check_finite=check_finite)\n",
            "  File \"/usr/local/lib/python3.6/dist-packages/scipy/linalg/decomp_cholesky.py\", line 40, in _cholesky\n",
            "    \"definite\" % info)\n",
            "numpy.linalg.LinAlgError: 4-th leading minor of the array is not positive definite\n"
          ],
          "name": "stderr"
        },
        {
          "output_type": "error",
          "ename": "LinAlgError",
          "evalue": "ignored",
          "traceback": [
            "\u001b[0;31m---------------------------------------------------------------------------\u001b[0m",
            "\u001b[0;31mLinAlgError\u001b[0m                               Traceback (most recent call last)",
            "\u001b[0;32mpomegranate/distributions/MultivariateGaussianDistribution.pyx\u001b[0m in \u001b[0;36mpomegranate.distributions.MultivariateGaussianDistribution.MultivariateGaussianDistribution.__cinit__\u001b[0;34m()\u001b[0m\n",
            "\u001b[0;32m/usr/local/lib/python3.6/dist-packages/scipy/linalg/decomp_cholesky.py\u001b[0m in \u001b[0;36mcholesky\u001b[0;34m(a, lower, overwrite_a, check_finite)\u001b[0m\n\u001b[1;32m     89\u001b[0m     \"\"\"\n\u001b[1;32m     90\u001b[0m     c, lower = _cholesky(a, lower=lower, overwrite_a=overwrite_a, clean=True,\n\u001b[0;32m---> 91\u001b[0;31m                          check_finite=check_finite)\n\u001b[0m\u001b[1;32m     92\u001b[0m     \u001b[0;32mreturn\u001b[0m \u001b[0mc\u001b[0m\u001b[0;34m\u001b[0m\u001b[0;34m\u001b[0m\u001b[0m\n\u001b[1;32m     93\u001b[0m \u001b[0;34m\u001b[0m\u001b[0m\n",
            "\u001b[0;32m/usr/local/lib/python3.6/dist-packages/scipy/linalg/decomp_cholesky.py\u001b[0m in \u001b[0;36m_cholesky\u001b[0;34m(a, lower, overwrite_a, clean, check_finite)\u001b[0m\n\u001b[1;32m     38\u001b[0m     \u001b[0;32mif\u001b[0m \u001b[0minfo\u001b[0m \u001b[0;34m>\u001b[0m \u001b[0;36m0\u001b[0m\u001b[0;34m:\u001b[0m\u001b[0;34m\u001b[0m\u001b[0;34m\u001b[0m\u001b[0m\n\u001b[1;32m     39\u001b[0m         raise LinAlgError(\"%d-th leading minor of the array is not positive \"\n\u001b[0;32m---> 40\u001b[0;31m                           \"definite\" % info)\n\u001b[0m\u001b[1;32m     41\u001b[0m     \u001b[0;32mif\u001b[0m \u001b[0minfo\u001b[0m \u001b[0;34m<\u001b[0m \u001b[0;36m0\u001b[0m\u001b[0;34m:\u001b[0m\u001b[0;34m\u001b[0m\u001b[0;34m\u001b[0m\u001b[0m\n\u001b[1;32m     42\u001b[0m         raise ValueError('LAPACK reported an illegal value in {}-th argument'\n",
            "\u001b[0;31mLinAlgError\u001b[0m: 4-th leading minor of the array is not positive definite"
          ]
        },
        {
          "output_type": "stream",
          "text": [
            "Exception ignored in: 'pomegranate.distributions.MultivariateGaussianDistribution.MultivariateGaussianDistribution._log_probability_missing'\n",
            "Traceback (most recent call last):\n",
            "  File \"pomegranate/distributions/MultivariateGaussianDistribution.pyx\", line 72, in pomegranate.distributions.MultivariateGaussianDistribution.MultivariateGaussianDistribution.__cinit__\n",
            "  File \"/usr/local/lib/python3.6/dist-packages/scipy/linalg/decomp_cholesky.py\", line 91, in cholesky\n",
            "    check_finite=check_finite)\n",
            "  File \"/usr/local/lib/python3.6/dist-packages/scipy/linalg/decomp_cholesky.py\", line 40, in _cholesky\n",
            "    \"definite\" % info)\n",
            "numpy.linalg.LinAlgError: 4-th leading minor of the array is not positive definite\n"
          ],
          "name": "stderr"
        },
        {
          "output_type": "error",
          "ename": "ValueError",
          "evalue": "ignored",
          "traceback": [
            "\u001b[0;31m---------------------------------------------------------------------------\u001b[0m",
            "\u001b[0;31mValueError\u001b[0m                                Traceback (most recent call last)",
            "\u001b[0;32mpomegranate/distributions/MultivariateGaussianDistribution.pyx\u001b[0m in \u001b[0;36mpomegranate.distributions.MultivariateGaussianDistribution.MultivariateGaussianDistribution.__cinit__\u001b[0;34m()\u001b[0m\n",
            "\u001b[0;31mValueError\u001b[0m: covariance matrix is not invertible."
          ]
        },
        {
          "output_type": "stream",
          "text": [
            "Exception ignored in: 'pomegranate.distributions.MultivariateGaussianDistribution.MultivariateGaussianDistribution._log_probability_missing'\n",
            "Traceback (most recent call last):\n",
            "  File \"pomegranate/distributions/MultivariateGaussianDistribution.pyx\", line 65, in pomegranate.distributions.MultivariateGaussianDistribution.MultivariateGaussianDistribution.__cinit__\n",
            "ValueError: covariance matrix is not invertible.\n"
          ],
          "name": "stderr"
        },
        {
          "output_type": "error",
          "ename": "LinAlgError",
          "evalue": "ignored",
          "traceback": [
            "\u001b[0;31m---------------------------------------------------------------------------\u001b[0m",
            "\u001b[0;31mLinAlgError\u001b[0m                               Traceback (most recent call last)",
            "\u001b[0;32mpomegranate/distributions/MultivariateGaussianDistribution.pyx\u001b[0m in \u001b[0;36mpomegranate.distributions.MultivariateGaussianDistribution.MultivariateGaussianDistribution.__cinit__\u001b[0;34m()\u001b[0m\n",
            "\u001b[0;32m/usr/local/lib/python3.6/dist-packages/scipy/linalg/decomp_cholesky.py\u001b[0m in \u001b[0;36mcholesky\u001b[0;34m(a, lower, overwrite_a, check_finite)\u001b[0m\n\u001b[1;32m     89\u001b[0m     \"\"\"\n\u001b[1;32m     90\u001b[0m     c, lower = _cholesky(a, lower=lower, overwrite_a=overwrite_a, clean=True,\n\u001b[0;32m---> 91\u001b[0;31m                          check_finite=check_finite)\n\u001b[0m\u001b[1;32m     92\u001b[0m     \u001b[0;32mreturn\u001b[0m \u001b[0mc\u001b[0m\u001b[0;34m\u001b[0m\u001b[0;34m\u001b[0m\u001b[0m\n\u001b[1;32m     93\u001b[0m \u001b[0;34m\u001b[0m\u001b[0m\n",
            "\u001b[0;32m/usr/local/lib/python3.6/dist-packages/scipy/linalg/decomp_cholesky.py\u001b[0m in \u001b[0;36m_cholesky\u001b[0;34m(a, lower, overwrite_a, clean, check_finite)\u001b[0m\n\u001b[1;32m     38\u001b[0m     \u001b[0;32mif\u001b[0m \u001b[0minfo\u001b[0m \u001b[0;34m>\u001b[0m \u001b[0;36m0\u001b[0m\u001b[0;34m:\u001b[0m\u001b[0;34m\u001b[0m\u001b[0;34m\u001b[0m\u001b[0m\n\u001b[1;32m     39\u001b[0m         raise LinAlgError(\"%d-th leading minor of the array is not positive \"\n\u001b[0;32m---> 40\u001b[0;31m                           \"definite\" % info)\n\u001b[0m\u001b[1;32m     41\u001b[0m     \u001b[0;32mif\u001b[0m \u001b[0minfo\u001b[0m \u001b[0;34m<\u001b[0m \u001b[0;36m0\u001b[0m\u001b[0;34m:\u001b[0m\u001b[0;34m\u001b[0m\u001b[0;34m\u001b[0m\u001b[0m\n\u001b[1;32m     42\u001b[0m         raise ValueError('LAPACK reported an illegal value in {}-th argument'\n",
            "\u001b[0;31mLinAlgError\u001b[0m: 2-th leading minor of the array is not positive definite"
          ]
        },
        {
          "output_type": "stream",
          "text": [
            "Exception ignored in: 'pomegranate.distributions.MultivariateGaussianDistribution.MultivariateGaussianDistribution._log_probability_missing'\n",
            "Traceback (most recent call last):\n",
            "  File \"pomegranate/distributions/MultivariateGaussianDistribution.pyx\", line 72, in pomegranate.distributions.MultivariateGaussianDistribution.MultivariateGaussianDistribution.__cinit__\n",
            "  File \"/usr/local/lib/python3.6/dist-packages/scipy/linalg/decomp_cholesky.py\", line 91, in cholesky\n",
            "    check_finite=check_finite)\n",
            "  File \"/usr/local/lib/python3.6/dist-packages/scipy/linalg/decomp_cholesky.py\", line 40, in _cholesky\n",
            "    \"definite\" % info)\n",
            "numpy.linalg.LinAlgError: 2-th leading minor of the array is not positive definite\n"
          ],
          "name": "stderr"
        },
        {
          "output_type": "error",
          "ename": "LinAlgError",
          "evalue": "ignored",
          "traceback": [
            "\u001b[0;31m---------------------------------------------------------------------------\u001b[0m",
            "\u001b[0;31mLinAlgError\u001b[0m                               Traceback (most recent call last)",
            "\u001b[0;32mpomegranate/distributions/MultivariateGaussianDistribution.pyx\u001b[0m in \u001b[0;36mpomegranate.distributions.MultivariateGaussianDistribution.MultivariateGaussianDistribution.__cinit__\u001b[0;34m()\u001b[0m\n",
            "\u001b[0;32m/usr/local/lib/python3.6/dist-packages/scipy/linalg/decomp_cholesky.py\u001b[0m in \u001b[0;36mcholesky\u001b[0;34m(a, lower, overwrite_a, check_finite)\u001b[0m\n\u001b[1;32m     89\u001b[0m     \"\"\"\n\u001b[1;32m     90\u001b[0m     c, lower = _cholesky(a, lower=lower, overwrite_a=overwrite_a, clean=True,\n\u001b[0;32m---> 91\u001b[0;31m                          check_finite=check_finite)\n\u001b[0m\u001b[1;32m     92\u001b[0m     \u001b[0;32mreturn\u001b[0m \u001b[0mc\u001b[0m\u001b[0;34m\u001b[0m\u001b[0;34m\u001b[0m\u001b[0m\n\u001b[1;32m     93\u001b[0m \u001b[0;34m\u001b[0m\u001b[0m\n",
            "\u001b[0;32m/usr/local/lib/python3.6/dist-packages/scipy/linalg/decomp_cholesky.py\u001b[0m in \u001b[0;36m_cholesky\u001b[0;34m(a, lower, overwrite_a, clean, check_finite)\u001b[0m\n\u001b[1;32m     38\u001b[0m     \u001b[0;32mif\u001b[0m \u001b[0minfo\u001b[0m \u001b[0;34m>\u001b[0m \u001b[0;36m0\u001b[0m\u001b[0;34m:\u001b[0m\u001b[0;34m\u001b[0m\u001b[0;34m\u001b[0m\u001b[0m\n\u001b[1;32m     39\u001b[0m         raise LinAlgError(\"%d-th leading minor of the array is not positive \"\n\u001b[0;32m---> 40\u001b[0;31m                           \"definite\" % info)\n\u001b[0m\u001b[1;32m     41\u001b[0m     \u001b[0;32mif\u001b[0m \u001b[0minfo\u001b[0m \u001b[0;34m<\u001b[0m \u001b[0;36m0\u001b[0m\u001b[0;34m:\u001b[0m\u001b[0;34m\u001b[0m\u001b[0;34m\u001b[0m\u001b[0m\n\u001b[1;32m     42\u001b[0m         raise ValueError('LAPACK reported an illegal value in {}-th argument'\n",
            "\u001b[0;31mLinAlgError\u001b[0m: 3-th leading minor of the array is not positive definite"
          ]
        },
        {
          "output_type": "stream",
          "text": [
            "Exception ignored in: 'pomegranate.distributions.MultivariateGaussianDistribution.MultivariateGaussianDistribution._log_probability_missing'\n",
            "Traceback (most recent call last):\n",
            "  File \"pomegranate/distributions/MultivariateGaussianDistribution.pyx\", line 72, in pomegranate.distributions.MultivariateGaussianDistribution.MultivariateGaussianDistribution.__cinit__\n",
            "  File \"/usr/local/lib/python3.6/dist-packages/scipy/linalg/decomp_cholesky.py\", line 91, in cholesky\n",
            "    check_finite=check_finite)\n",
            "  File \"/usr/local/lib/python3.6/dist-packages/scipy/linalg/decomp_cholesky.py\", line 40, in _cholesky\n",
            "    \"definite\" % info)\n",
            "numpy.linalg.LinAlgError: 3-th leading minor of the array is not positive definite\n"
          ],
          "name": "stderr"
        },
        {
          "output_type": "error",
          "ename": "LinAlgError",
          "evalue": "ignored",
          "traceback": [
            "\u001b[0;31m---------------------------------------------------------------------------\u001b[0m",
            "\u001b[0;31mLinAlgError\u001b[0m                               Traceback (most recent call last)",
            "\u001b[0;32mpomegranate/distributions/MultivariateGaussianDistribution.pyx\u001b[0m in \u001b[0;36mpomegranate.distributions.MultivariateGaussianDistribution.MultivariateGaussianDistribution.__cinit__\u001b[0;34m()\u001b[0m\n",
            "\u001b[0;32m/usr/local/lib/python3.6/dist-packages/scipy/linalg/decomp_cholesky.py\u001b[0m in \u001b[0;36mcholesky\u001b[0;34m(a, lower, overwrite_a, check_finite)\u001b[0m\n\u001b[1;32m     89\u001b[0m     \"\"\"\n\u001b[1;32m     90\u001b[0m     c, lower = _cholesky(a, lower=lower, overwrite_a=overwrite_a, clean=True,\n\u001b[0;32m---> 91\u001b[0;31m                          check_finite=check_finite)\n\u001b[0m\u001b[1;32m     92\u001b[0m     \u001b[0;32mreturn\u001b[0m \u001b[0mc\u001b[0m\u001b[0;34m\u001b[0m\u001b[0;34m\u001b[0m\u001b[0m\n\u001b[1;32m     93\u001b[0m \u001b[0;34m\u001b[0m\u001b[0m\n",
            "\u001b[0;32m/usr/local/lib/python3.6/dist-packages/scipy/linalg/decomp_cholesky.py\u001b[0m in \u001b[0;36m_cholesky\u001b[0;34m(a, lower, overwrite_a, clean, check_finite)\u001b[0m\n\u001b[1;32m     38\u001b[0m     \u001b[0;32mif\u001b[0m \u001b[0minfo\u001b[0m \u001b[0;34m>\u001b[0m \u001b[0;36m0\u001b[0m\u001b[0;34m:\u001b[0m\u001b[0;34m\u001b[0m\u001b[0;34m\u001b[0m\u001b[0m\n\u001b[1;32m     39\u001b[0m         raise LinAlgError(\"%d-th leading minor of the array is not positive \"\n\u001b[0;32m---> 40\u001b[0;31m                           \"definite\" % info)\n\u001b[0m\u001b[1;32m     41\u001b[0m     \u001b[0;32mif\u001b[0m \u001b[0minfo\u001b[0m \u001b[0;34m<\u001b[0m \u001b[0;36m0\u001b[0m\u001b[0;34m:\u001b[0m\u001b[0;34m\u001b[0m\u001b[0;34m\u001b[0m\u001b[0m\n\u001b[1;32m     42\u001b[0m         raise ValueError('LAPACK reported an illegal value in {}-th argument'\n",
            "\u001b[0;31mLinAlgError\u001b[0m: 6-th leading minor of the array is not positive definite"
          ]
        },
        {
          "output_type": "stream",
          "text": [
            "Exception ignored in: 'pomegranate.distributions.MultivariateGaussianDistribution.MultivariateGaussianDistribution._log_probability_missing'\n",
            "Traceback (most recent call last):\n",
            "  File \"pomegranate/distributions/MultivariateGaussianDistribution.pyx\", line 72, in pomegranate.distributions.MultivariateGaussianDistribution.MultivariateGaussianDistribution.__cinit__\n",
            "  File \"/usr/local/lib/python3.6/dist-packages/scipy/linalg/decomp_cholesky.py\", line 91, in cholesky\n",
            "    check_finite=check_finite)\n",
            "  File \"/usr/local/lib/python3.6/dist-packages/scipy/linalg/decomp_cholesky.py\", line 40, in _cholesky\n",
            "    \"definite\" % info)\n",
            "numpy.linalg.LinAlgError: 6-th leading minor of the array is not positive definite\n"
          ],
          "name": "stderr"
        },
        {
          "output_type": "error",
          "ename": "LinAlgError",
          "evalue": "ignored",
          "traceback": [
            "\u001b[0;31m---------------------------------------------------------------------------\u001b[0m",
            "\u001b[0;31mLinAlgError\u001b[0m                               Traceback (most recent call last)",
            "\u001b[0;32mpomegranate/distributions/MultivariateGaussianDistribution.pyx\u001b[0m in \u001b[0;36mpomegranate.distributions.MultivariateGaussianDistribution.MultivariateGaussianDistribution.__cinit__\u001b[0;34m()\u001b[0m\n",
            "\u001b[0;32m/usr/local/lib/python3.6/dist-packages/scipy/linalg/decomp_cholesky.py\u001b[0m in \u001b[0;36mcholesky\u001b[0;34m(a, lower, overwrite_a, check_finite)\u001b[0m\n\u001b[1;32m     89\u001b[0m     \"\"\"\n\u001b[1;32m     90\u001b[0m     c, lower = _cholesky(a, lower=lower, overwrite_a=overwrite_a, clean=True,\n\u001b[0;32m---> 91\u001b[0;31m                          check_finite=check_finite)\n\u001b[0m\u001b[1;32m     92\u001b[0m     \u001b[0;32mreturn\u001b[0m \u001b[0mc\u001b[0m\u001b[0;34m\u001b[0m\u001b[0;34m\u001b[0m\u001b[0m\n\u001b[1;32m     93\u001b[0m \u001b[0;34m\u001b[0m\u001b[0m\n",
            "\u001b[0;32m/usr/local/lib/python3.6/dist-packages/scipy/linalg/decomp_cholesky.py\u001b[0m in \u001b[0;36m_cholesky\u001b[0;34m(a, lower, overwrite_a, clean, check_finite)\u001b[0m\n\u001b[1;32m     38\u001b[0m     \u001b[0;32mif\u001b[0m \u001b[0minfo\u001b[0m \u001b[0;34m>\u001b[0m \u001b[0;36m0\u001b[0m\u001b[0;34m:\u001b[0m\u001b[0;34m\u001b[0m\u001b[0;34m\u001b[0m\u001b[0m\n\u001b[1;32m     39\u001b[0m         raise LinAlgError(\"%d-th leading minor of the array is not positive \"\n\u001b[0;32m---> 40\u001b[0;31m                           \"definite\" % info)\n\u001b[0m\u001b[1;32m     41\u001b[0m     \u001b[0;32mif\u001b[0m \u001b[0minfo\u001b[0m \u001b[0;34m<\u001b[0m \u001b[0;36m0\u001b[0m\u001b[0;34m:\u001b[0m\u001b[0;34m\u001b[0m\u001b[0;34m\u001b[0m\u001b[0m\n\u001b[1;32m     42\u001b[0m         raise ValueError('LAPACK reported an illegal value in {}-th argument'\n",
            "\u001b[0;31mLinAlgError\u001b[0m: 2-th leading minor of the array is not positive definite"
          ]
        },
        {
          "output_type": "stream",
          "text": [
            "Exception ignored in: 'pomegranate.distributions.MultivariateGaussianDistribution.MultivariateGaussianDistribution._log_probability_missing'\n",
            "Traceback (most recent call last):\n",
            "  File \"pomegranate/distributions/MultivariateGaussianDistribution.pyx\", line 72, in pomegranate.distributions.MultivariateGaussianDistribution.MultivariateGaussianDistribution.__cinit__\n",
            "  File \"/usr/local/lib/python3.6/dist-packages/scipy/linalg/decomp_cholesky.py\", line 91, in cholesky\n",
            "    check_finite=check_finite)\n",
            "  File \"/usr/local/lib/python3.6/dist-packages/scipy/linalg/decomp_cholesky.py\", line 40, in _cholesky\n",
            "    \"definite\" % info)\n",
            "numpy.linalg.LinAlgError: 2-th leading minor of the array is not positive definite\n"
          ],
          "name": "stderr"
        },
        {
          "output_type": "error",
          "ename": "LinAlgError",
          "evalue": "ignored",
          "traceback": [
            "\u001b[0;31m---------------------------------------------------------------------------\u001b[0m",
            "\u001b[0;31mLinAlgError\u001b[0m                               Traceback (most recent call last)",
            "\u001b[0;32mpomegranate/distributions/MultivariateGaussianDistribution.pyx\u001b[0m in \u001b[0;36mpomegranate.distributions.MultivariateGaussianDistribution.MultivariateGaussianDistribution.__cinit__\u001b[0;34m()\u001b[0m\n",
            "\u001b[0;32m/usr/local/lib/python3.6/dist-packages/scipy/linalg/decomp_cholesky.py\u001b[0m in \u001b[0;36mcholesky\u001b[0;34m(a, lower, overwrite_a, check_finite)\u001b[0m\n\u001b[1;32m     89\u001b[0m     \"\"\"\n\u001b[1;32m     90\u001b[0m     c, lower = _cholesky(a, lower=lower, overwrite_a=overwrite_a, clean=True,\n\u001b[0;32m---> 91\u001b[0;31m                          check_finite=check_finite)\n\u001b[0m\u001b[1;32m     92\u001b[0m     \u001b[0;32mreturn\u001b[0m \u001b[0mc\u001b[0m\u001b[0;34m\u001b[0m\u001b[0;34m\u001b[0m\u001b[0m\n\u001b[1;32m     93\u001b[0m \u001b[0;34m\u001b[0m\u001b[0m\n",
            "\u001b[0;32m/usr/local/lib/python3.6/dist-packages/scipy/linalg/decomp_cholesky.py\u001b[0m in \u001b[0;36m_cholesky\u001b[0;34m(a, lower, overwrite_a, clean, check_finite)\u001b[0m\n\u001b[1;32m     38\u001b[0m     \u001b[0;32mif\u001b[0m \u001b[0minfo\u001b[0m \u001b[0;34m>\u001b[0m \u001b[0;36m0\u001b[0m\u001b[0;34m:\u001b[0m\u001b[0;34m\u001b[0m\u001b[0;34m\u001b[0m\u001b[0m\n\u001b[1;32m     39\u001b[0m         raise LinAlgError(\"%d-th leading minor of the array is not positive \"\n\u001b[0;32m---> 40\u001b[0;31m                           \"definite\" % info)\n\u001b[0m\u001b[1;32m     41\u001b[0m     \u001b[0;32mif\u001b[0m \u001b[0minfo\u001b[0m \u001b[0;34m<\u001b[0m \u001b[0;36m0\u001b[0m\u001b[0;34m:\u001b[0m\u001b[0;34m\u001b[0m\u001b[0;34m\u001b[0m\u001b[0m\n\u001b[1;32m     42\u001b[0m         raise ValueError('LAPACK reported an illegal value in {}-th argument'\n",
            "\u001b[0;31mLinAlgError\u001b[0m: 3-th leading minor of the array is not positive definite"
          ]
        },
        {
          "output_type": "stream",
          "text": [
            "Exception ignored in: 'pomegranate.distributions.MultivariateGaussianDistribution.MultivariateGaussianDistribution._log_probability_missing'\n",
            "Traceback (most recent call last):\n",
            "  File \"pomegranate/distributions/MultivariateGaussianDistribution.pyx\", line 72, in pomegranate.distributions.MultivariateGaussianDistribution.MultivariateGaussianDistribution.__cinit__\n",
            "  File \"/usr/local/lib/python3.6/dist-packages/scipy/linalg/decomp_cholesky.py\", line 91, in cholesky\n",
            "    check_finite=check_finite)\n",
            "  File \"/usr/local/lib/python3.6/dist-packages/scipy/linalg/decomp_cholesky.py\", line 40, in _cholesky\n",
            "    \"definite\" % info)\n",
            "numpy.linalg.LinAlgError: 3-th leading minor of the array is not positive definite\n"
          ],
          "name": "stderr"
        },
        {
          "output_type": "error",
          "ename": "ValueError",
          "evalue": "ignored",
          "traceback": [
            "\u001b[0;31m---------------------------------------------------------------------------\u001b[0m",
            "\u001b[0;31mValueError\u001b[0m                                Traceback (most recent call last)",
            "\u001b[0;32mpomegranate/distributions/MultivariateGaussianDistribution.pyx\u001b[0m in \u001b[0;36mpomegranate.distributions.MultivariateGaussianDistribution.MultivariateGaussianDistribution.__cinit__\u001b[0;34m()\u001b[0m\n",
            "\u001b[0;31mValueError\u001b[0m: covariance matrix is not invertible."
          ]
        },
        {
          "output_type": "stream",
          "text": [
            "Exception ignored in: 'pomegranate.distributions.MultivariateGaussianDistribution.MultivariateGaussianDistribution._log_probability_missing'\n",
            "Traceback (most recent call last):\n",
            "  File \"pomegranate/distributions/MultivariateGaussianDistribution.pyx\", line 65, in pomegranate.distributions.MultivariateGaussianDistribution.MultivariateGaussianDistribution.__cinit__\n",
            "ValueError: covariance matrix is not invertible.\n"
          ],
          "name": "stderr"
        },
        {
          "output_type": "error",
          "ename": "LinAlgError",
          "evalue": "ignored",
          "traceback": [
            "\u001b[0;31m---------------------------------------------------------------------------\u001b[0m",
            "\u001b[0;31mLinAlgError\u001b[0m                               Traceback (most recent call last)",
            "\u001b[0;32mpomegranate/distributions/MultivariateGaussianDistribution.pyx\u001b[0m in \u001b[0;36mpomegranate.distributions.MultivariateGaussianDistribution.MultivariateGaussianDistribution.__cinit__\u001b[0;34m()\u001b[0m\n",
            "\u001b[0;32m/usr/local/lib/python3.6/dist-packages/scipy/linalg/decomp_cholesky.py\u001b[0m in \u001b[0;36mcholesky\u001b[0;34m(a, lower, overwrite_a, check_finite)\u001b[0m\n\u001b[1;32m     89\u001b[0m     \"\"\"\n\u001b[1;32m     90\u001b[0m     c, lower = _cholesky(a, lower=lower, overwrite_a=overwrite_a, clean=True,\n\u001b[0;32m---> 91\u001b[0;31m                          check_finite=check_finite)\n\u001b[0m\u001b[1;32m     92\u001b[0m     \u001b[0;32mreturn\u001b[0m \u001b[0mc\u001b[0m\u001b[0;34m\u001b[0m\u001b[0;34m\u001b[0m\u001b[0m\n\u001b[1;32m     93\u001b[0m \u001b[0;34m\u001b[0m\u001b[0m\n",
            "\u001b[0;32m/usr/local/lib/python3.6/dist-packages/scipy/linalg/decomp_cholesky.py\u001b[0m in \u001b[0;36m_cholesky\u001b[0;34m(a, lower, overwrite_a, clean, check_finite)\u001b[0m\n\u001b[1;32m     38\u001b[0m     \u001b[0;32mif\u001b[0m \u001b[0minfo\u001b[0m \u001b[0;34m>\u001b[0m \u001b[0;36m0\u001b[0m\u001b[0;34m:\u001b[0m\u001b[0;34m\u001b[0m\u001b[0;34m\u001b[0m\u001b[0m\n\u001b[1;32m     39\u001b[0m         raise LinAlgError(\"%d-th leading minor of the array is not positive \"\n\u001b[0;32m---> 40\u001b[0;31m                           \"definite\" % info)\n\u001b[0m\u001b[1;32m     41\u001b[0m     \u001b[0;32mif\u001b[0m \u001b[0minfo\u001b[0m \u001b[0;34m<\u001b[0m \u001b[0;36m0\u001b[0m\u001b[0;34m:\u001b[0m\u001b[0;34m\u001b[0m\u001b[0;34m\u001b[0m\u001b[0m\n\u001b[1;32m     42\u001b[0m         raise ValueError('LAPACK reported an illegal value in {}-th argument'\n",
            "\u001b[0;31mLinAlgError\u001b[0m: 3-th leading minor of the array is not positive definite"
          ]
        },
        {
          "output_type": "stream",
          "text": [
            "Exception ignored in: 'pomegranate.distributions.MultivariateGaussianDistribution.MultivariateGaussianDistribution._log_probability_missing'\n",
            "Traceback (most recent call last):\n",
            "  File \"pomegranate/distributions/MultivariateGaussianDistribution.pyx\", line 72, in pomegranate.distributions.MultivariateGaussianDistribution.MultivariateGaussianDistribution.__cinit__\n",
            "  File \"/usr/local/lib/python3.6/dist-packages/scipy/linalg/decomp_cholesky.py\", line 91, in cholesky\n",
            "    check_finite=check_finite)\n",
            "  File \"/usr/local/lib/python3.6/dist-packages/scipy/linalg/decomp_cholesky.py\", line 40, in _cholesky\n",
            "    \"definite\" % info)\n",
            "numpy.linalg.LinAlgError: 3-th leading minor of the array is not positive definite\n"
          ],
          "name": "stderr"
        },
        {
          "output_type": "error",
          "ename": "LinAlgError",
          "evalue": "ignored",
          "traceback": [
            "\u001b[0;31m---------------------------------------------------------------------------\u001b[0m",
            "\u001b[0;31mLinAlgError\u001b[0m                               Traceback (most recent call last)",
            "\u001b[0;32mpomegranate/distributions/MultivariateGaussianDistribution.pyx\u001b[0m in \u001b[0;36mpomegranate.distributions.MultivariateGaussianDistribution.MultivariateGaussianDistribution.__cinit__\u001b[0;34m()\u001b[0m\n",
            "\u001b[0;32m/usr/local/lib/python3.6/dist-packages/scipy/linalg/decomp_cholesky.py\u001b[0m in \u001b[0;36mcholesky\u001b[0;34m(a, lower, overwrite_a, check_finite)\u001b[0m\n\u001b[1;32m     89\u001b[0m     \"\"\"\n\u001b[1;32m     90\u001b[0m     c, lower = _cholesky(a, lower=lower, overwrite_a=overwrite_a, clean=True,\n\u001b[0;32m---> 91\u001b[0;31m                          check_finite=check_finite)\n\u001b[0m\u001b[1;32m     92\u001b[0m     \u001b[0;32mreturn\u001b[0m \u001b[0mc\u001b[0m\u001b[0;34m\u001b[0m\u001b[0;34m\u001b[0m\u001b[0m\n\u001b[1;32m     93\u001b[0m \u001b[0;34m\u001b[0m\u001b[0m\n",
            "\u001b[0;32m/usr/local/lib/python3.6/dist-packages/scipy/linalg/decomp_cholesky.py\u001b[0m in \u001b[0;36m_cholesky\u001b[0;34m(a, lower, overwrite_a, clean, check_finite)\u001b[0m\n\u001b[1;32m     38\u001b[0m     \u001b[0;32mif\u001b[0m \u001b[0minfo\u001b[0m \u001b[0;34m>\u001b[0m \u001b[0;36m0\u001b[0m\u001b[0;34m:\u001b[0m\u001b[0;34m\u001b[0m\u001b[0;34m\u001b[0m\u001b[0m\n\u001b[1;32m     39\u001b[0m         raise LinAlgError(\"%d-th leading minor of the array is not positive \"\n\u001b[0;32m---> 40\u001b[0;31m                           \"definite\" % info)\n\u001b[0m\u001b[1;32m     41\u001b[0m     \u001b[0;32mif\u001b[0m \u001b[0minfo\u001b[0m \u001b[0;34m<\u001b[0m \u001b[0;36m0\u001b[0m\u001b[0;34m:\u001b[0m\u001b[0;34m\u001b[0m\u001b[0;34m\u001b[0m\u001b[0m\n\u001b[1;32m     42\u001b[0m         raise ValueError('LAPACK reported an illegal value in {}-th argument'\n",
            "\u001b[0;31mLinAlgError\u001b[0m: 4-th leading minor of the array is not positive definite"
          ]
        },
        {
          "output_type": "stream",
          "text": [
            "Exception ignored in: 'pomegranate.distributions.MultivariateGaussianDistribution.MultivariateGaussianDistribution._log_probability_missing'\n",
            "Traceback (most recent call last):\n",
            "  File \"pomegranate/distributions/MultivariateGaussianDistribution.pyx\", line 72, in pomegranate.distributions.MultivariateGaussianDistribution.MultivariateGaussianDistribution.__cinit__\n",
            "  File \"/usr/local/lib/python3.6/dist-packages/scipy/linalg/decomp_cholesky.py\", line 91, in cholesky\n",
            "    check_finite=check_finite)\n",
            "  File \"/usr/local/lib/python3.6/dist-packages/scipy/linalg/decomp_cholesky.py\", line 40, in _cholesky\n",
            "    \"definite\" % info)\n",
            "numpy.linalg.LinAlgError: 4-th leading minor of the array is not positive definite\n"
          ],
          "name": "stderr"
        },
        {
          "output_type": "error",
          "ename": "LinAlgError",
          "evalue": "ignored",
          "traceback": [
            "\u001b[0;31m---------------------------------------------------------------------------\u001b[0m",
            "\u001b[0;31mLinAlgError\u001b[0m                               Traceback (most recent call last)",
            "\u001b[0;32mpomegranate/distributions/MultivariateGaussianDistribution.pyx\u001b[0m in \u001b[0;36mpomegranate.distributions.MultivariateGaussianDistribution.MultivariateGaussianDistribution.__cinit__\u001b[0;34m()\u001b[0m\n",
            "\u001b[0;32m/usr/local/lib/python3.6/dist-packages/scipy/linalg/decomp_cholesky.py\u001b[0m in \u001b[0;36mcholesky\u001b[0;34m(a, lower, overwrite_a, check_finite)\u001b[0m\n\u001b[1;32m     89\u001b[0m     \"\"\"\n\u001b[1;32m     90\u001b[0m     c, lower = _cholesky(a, lower=lower, overwrite_a=overwrite_a, clean=True,\n\u001b[0;32m---> 91\u001b[0;31m                          check_finite=check_finite)\n\u001b[0m\u001b[1;32m     92\u001b[0m     \u001b[0;32mreturn\u001b[0m \u001b[0mc\u001b[0m\u001b[0;34m\u001b[0m\u001b[0;34m\u001b[0m\u001b[0m\n\u001b[1;32m     93\u001b[0m \u001b[0;34m\u001b[0m\u001b[0m\n",
            "\u001b[0;32m/usr/local/lib/python3.6/dist-packages/scipy/linalg/decomp_cholesky.py\u001b[0m in \u001b[0;36m_cholesky\u001b[0;34m(a, lower, overwrite_a, clean, check_finite)\u001b[0m\n\u001b[1;32m     38\u001b[0m     \u001b[0;32mif\u001b[0m \u001b[0minfo\u001b[0m \u001b[0;34m>\u001b[0m \u001b[0;36m0\u001b[0m\u001b[0;34m:\u001b[0m\u001b[0;34m\u001b[0m\u001b[0;34m\u001b[0m\u001b[0m\n\u001b[1;32m     39\u001b[0m         raise LinAlgError(\"%d-th leading minor of the array is not positive \"\n\u001b[0;32m---> 40\u001b[0;31m                           \"definite\" % info)\n\u001b[0m\u001b[1;32m     41\u001b[0m     \u001b[0;32mif\u001b[0m \u001b[0minfo\u001b[0m \u001b[0;34m<\u001b[0m \u001b[0;36m0\u001b[0m\u001b[0;34m:\u001b[0m\u001b[0;34m\u001b[0m\u001b[0;34m\u001b[0m\u001b[0m\n\u001b[1;32m     42\u001b[0m         raise ValueError('LAPACK reported an illegal value in {}-th argument'\n",
            "\u001b[0;31mLinAlgError\u001b[0m: 2-th leading minor of the array is not positive definite"
          ]
        },
        {
          "output_type": "stream",
          "text": [
            "Exception ignored in: 'pomegranate.distributions.MultivariateGaussianDistribution.MultivariateGaussianDistribution._log_probability_missing'\n",
            "Traceback (most recent call last):\n",
            "  File \"pomegranate/distributions/MultivariateGaussianDistribution.pyx\", line 72, in pomegranate.distributions.MultivariateGaussianDistribution.MultivariateGaussianDistribution.__cinit__\n",
            "  File \"/usr/local/lib/python3.6/dist-packages/scipy/linalg/decomp_cholesky.py\", line 91, in cholesky\n",
            "    check_finite=check_finite)\n",
            "  File \"/usr/local/lib/python3.6/dist-packages/scipy/linalg/decomp_cholesky.py\", line 40, in _cholesky\n",
            "    \"definite\" % info)\n",
            "numpy.linalg.LinAlgError: 2-th leading minor of the array is not positive definite\n"
          ],
          "name": "stderr"
        },
        {
          "output_type": "error",
          "ename": "LinAlgError",
          "evalue": "ignored",
          "traceback": [
            "\u001b[0;31m---------------------------------------------------------------------------\u001b[0m",
            "\u001b[0;31mLinAlgError\u001b[0m                               Traceback (most recent call last)",
            "\u001b[0;32mpomegranate/distributions/MultivariateGaussianDistribution.pyx\u001b[0m in \u001b[0;36mpomegranate.distributions.MultivariateGaussianDistribution.MultivariateGaussianDistribution.__cinit__\u001b[0;34m()\u001b[0m\n",
            "\u001b[0;32m/usr/local/lib/python3.6/dist-packages/scipy/linalg/decomp_cholesky.py\u001b[0m in \u001b[0;36mcholesky\u001b[0;34m(a, lower, overwrite_a, check_finite)\u001b[0m\n\u001b[1;32m     89\u001b[0m     \"\"\"\n\u001b[1;32m     90\u001b[0m     c, lower = _cholesky(a, lower=lower, overwrite_a=overwrite_a, clean=True,\n\u001b[0;32m---> 91\u001b[0;31m                          check_finite=check_finite)\n\u001b[0m\u001b[1;32m     92\u001b[0m     \u001b[0;32mreturn\u001b[0m \u001b[0mc\u001b[0m\u001b[0;34m\u001b[0m\u001b[0;34m\u001b[0m\u001b[0m\n\u001b[1;32m     93\u001b[0m \u001b[0;34m\u001b[0m\u001b[0m\n",
            "\u001b[0;32m/usr/local/lib/python3.6/dist-packages/scipy/linalg/decomp_cholesky.py\u001b[0m in \u001b[0;36m_cholesky\u001b[0;34m(a, lower, overwrite_a, clean, check_finite)\u001b[0m\n\u001b[1;32m     38\u001b[0m     \u001b[0;32mif\u001b[0m \u001b[0minfo\u001b[0m \u001b[0;34m>\u001b[0m \u001b[0;36m0\u001b[0m\u001b[0;34m:\u001b[0m\u001b[0;34m\u001b[0m\u001b[0;34m\u001b[0m\u001b[0m\n\u001b[1;32m     39\u001b[0m         raise LinAlgError(\"%d-th leading minor of the array is not positive \"\n\u001b[0;32m---> 40\u001b[0;31m                           \"definite\" % info)\n\u001b[0m\u001b[1;32m     41\u001b[0m     \u001b[0;32mif\u001b[0m \u001b[0minfo\u001b[0m \u001b[0;34m<\u001b[0m \u001b[0;36m0\u001b[0m\u001b[0;34m:\u001b[0m\u001b[0;34m\u001b[0m\u001b[0;34m\u001b[0m\u001b[0m\n\u001b[1;32m     42\u001b[0m         raise ValueError('LAPACK reported an illegal value in {}-th argument'\n",
            "\u001b[0;31mLinAlgError\u001b[0m: 5-th leading minor of the array is not positive definite"
          ]
        },
        {
          "output_type": "stream",
          "text": [
            "Exception ignored in: 'pomegranate.distributions.MultivariateGaussianDistribution.MultivariateGaussianDistribution._log_probability_missing'\n",
            "Traceback (most recent call last):\n",
            "  File \"pomegranate/distributions/MultivariateGaussianDistribution.pyx\", line 72, in pomegranate.distributions.MultivariateGaussianDistribution.MultivariateGaussianDistribution.__cinit__\n",
            "  File \"/usr/local/lib/python3.6/dist-packages/scipy/linalg/decomp_cholesky.py\", line 91, in cholesky\n",
            "    check_finite=check_finite)\n",
            "  File \"/usr/local/lib/python3.6/dist-packages/scipy/linalg/decomp_cholesky.py\", line 40, in _cholesky\n",
            "    \"definite\" % info)\n",
            "numpy.linalg.LinAlgError: 5-th leading minor of the array is not positive definite\n"
          ],
          "name": "stderr"
        },
        {
          "output_type": "error",
          "ename": "LinAlgError",
          "evalue": "ignored",
          "traceback": [
            "\u001b[0;31m---------------------------------------------------------------------------\u001b[0m",
            "\u001b[0;31mLinAlgError\u001b[0m                               Traceback (most recent call last)",
            "\u001b[0;32mpomegranate/distributions/MultivariateGaussianDistribution.pyx\u001b[0m in \u001b[0;36mpomegranate.distributions.MultivariateGaussianDistribution.MultivariateGaussianDistribution.__cinit__\u001b[0;34m()\u001b[0m\n",
            "\u001b[0;32m/usr/local/lib/python3.6/dist-packages/scipy/linalg/decomp_cholesky.py\u001b[0m in \u001b[0;36mcholesky\u001b[0;34m(a, lower, overwrite_a, check_finite)\u001b[0m\n\u001b[1;32m     89\u001b[0m     \"\"\"\n\u001b[1;32m     90\u001b[0m     c, lower = _cholesky(a, lower=lower, overwrite_a=overwrite_a, clean=True,\n\u001b[0;32m---> 91\u001b[0;31m                          check_finite=check_finite)\n\u001b[0m\u001b[1;32m     92\u001b[0m     \u001b[0;32mreturn\u001b[0m \u001b[0mc\u001b[0m\u001b[0;34m\u001b[0m\u001b[0;34m\u001b[0m\u001b[0m\n\u001b[1;32m     93\u001b[0m \u001b[0;34m\u001b[0m\u001b[0m\n",
            "\u001b[0;32m/usr/local/lib/python3.6/dist-packages/scipy/linalg/decomp_cholesky.py\u001b[0m in \u001b[0;36m_cholesky\u001b[0;34m(a, lower, overwrite_a, clean, check_finite)\u001b[0m\n\u001b[1;32m     38\u001b[0m     \u001b[0;32mif\u001b[0m \u001b[0minfo\u001b[0m \u001b[0;34m>\u001b[0m \u001b[0;36m0\u001b[0m\u001b[0;34m:\u001b[0m\u001b[0;34m\u001b[0m\u001b[0;34m\u001b[0m\u001b[0m\n\u001b[1;32m     39\u001b[0m         raise LinAlgError(\"%d-th leading minor of the array is not positive \"\n\u001b[0;32m---> 40\u001b[0;31m                           \"definite\" % info)\n\u001b[0m\u001b[1;32m     41\u001b[0m     \u001b[0;32mif\u001b[0m \u001b[0minfo\u001b[0m \u001b[0;34m<\u001b[0m \u001b[0;36m0\u001b[0m\u001b[0;34m:\u001b[0m\u001b[0;34m\u001b[0m\u001b[0;34m\u001b[0m\u001b[0m\n\u001b[1;32m     42\u001b[0m         raise ValueError('LAPACK reported an illegal value in {}-th argument'\n",
            "\u001b[0;31mLinAlgError\u001b[0m: 3-th leading minor of the array is not positive definite"
          ]
        },
        {
          "output_type": "stream",
          "text": [
            "Exception ignored in: 'pomegranate.distributions.MultivariateGaussianDistribution.MultivariateGaussianDistribution._log_probability_missing'\n",
            "Traceback (most recent call last):\n",
            "  File \"pomegranate/distributions/MultivariateGaussianDistribution.pyx\", line 72, in pomegranate.distributions.MultivariateGaussianDistribution.MultivariateGaussianDistribution.__cinit__\n",
            "  File \"/usr/local/lib/python3.6/dist-packages/scipy/linalg/decomp_cholesky.py\", line 91, in cholesky\n",
            "    check_finite=check_finite)\n",
            "  File \"/usr/local/lib/python3.6/dist-packages/scipy/linalg/decomp_cholesky.py\", line 40, in _cholesky\n",
            "    \"definite\" % info)\n",
            "numpy.linalg.LinAlgError: 3-th leading minor of the array is not positive definite\n"
          ],
          "name": "stderr"
        },
        {
          "output_type": "error",
          "ename": "LinAlgError",
          "evalue": "ignored",
          "traceback": [
            "\u001b[0;31m---------------------------------------------------------------------------\u001b[0m",
            "\u001b[0;31mLinAlgError\u001b[0m                               Traceback (most recent call last)",
            "\u001b[0;32mpomegranate/distributions/MultivariateGaussianDistribution.pyx\u001b[0m in \u001b[0;36mpomegranate.distributions.MultivariateGaussianDistribution.MultivariateGaussianDistribution.__cinit__\u001b[0;34m()\u001b[0m\n",
            "\u001b[0;32m/usr/local/lib/python3.6/dist-packages/scipy/linalg/decomp_cholesky.py\u001b[0m in \u001b[0;36mcholesky\u001b[0;34m(a, lower, overwrite_a, check_finite)\u001b[0m\n\u001b[1;32m     89\u001b[0m     \"\"\"\n\u001b[1;32m     90\u001b[0m     c, lower = _cholesky(a, lower=lower, overwrite_a=overwrite_a, clean=True,\n\u001b[0;32m---> 91\u001b[0;31m                          check_finite=check_finite)\n\u001b[0m\u001b[1;32m     92\u001b[0m     \u001b[0;32mreturn\u001b[0m \u001b[0mc\u001b[0m\u001b[0;34m\u001b[0m\u001b[0;34m\u001b[0m\u001b[0m\n\u001b[1;32m     93\u001b[0m \u001b[0;34m\u001b[0m\u001b[0m\n",
            "\u001b[0;32m/usr/local/lib/python3.6/dist-packages/scipy/linalg/decomp_cholesky.py\u001b[0m in \u001b[0;36m_cholesky\u001b[0;34m(a, lower, overwrite_a, clean, check_finite)\u001b[0m\n\u001b[1;32m     38\u001b[0m     \u001b[0;32mif\u001b[0m \u001b[0minfo\u001b[0m \u001b[0;34m>\u001b[0m \u001b[0;36m0\u001b[0m\u001b[0;34m:\u001b[0m\u001b[0;34m\u001b[0m\u001b[0;34m\u001b[0m\u001b[0m\n\u001b[1;32m     39\u001b[0m         raise LinAlgError(\"%d-th leading minor of the array is not positive \"\n\u001b[0;32m---> 40\u001b[0;31m                           \"definite\" % info)\n\u001b[0m\u001b[1;32m     41\u001b[0m     \u001b[0;32mif\u001b[0m \u001b[0minfo\u001b[0m \u001b[0;34m<\u001b[0m \u001b[0;36m0\u001b[0m\u001b[0;34m:\u001b[0m\u001b[0;34m\u001b[0m\u001b[0;34m\u001b[0m\u001b[0m\n\u001b[1;32m     42\u001b[0m         raise ValueError('LAPACK reported an illegal value in {}-th argument'\n",
            "\u001b[0;31mLinAlgError\u001b[0m: 4-th leading minor of the array is not positive definite"
          ]
        },
        {
          "output_type": "stream",
          "text": [
            "Exception ignored in: 'pomegranate.distributions.MultivariateGaussianDistribution.MultivariateGaussianDistribution._log_probability_missing'\n",
            "Traceback (most recent call last):\n",
            "  File \"pomegranate/distributions/MultivariateGaussianDistribution.pyx\", line 72, in pomegranate.distributions.MultivariateGaussianDistribution.MultivariateGaussianDistribution.__cinit__\n",
            "  File \"/usr/local/lib/python3.6/dist-packages/scipy/linalg/decomp_cholesky.py\", line 91, in cholesky\n",
            "    check_finite=check_finite)\n",
            "  File \"/usr/local/lib/python3.6/dist-packages/scipy/linalg/decomp_cholesky.py\", line 40, in _cholesky\n",
            "    \"definite\" % info)\n",
            "numpy.linalg.LinAlgError: 4-th leading minor of the array is not positive definite\n"
          ],
          "name": "stderr"
        },
        {
          "output_type": "error",
          "ename": "LinAlgError",
          "evalue": "ignored",
          "traceback": [
            "\u001b[0;31m---------------------------------------------------------------------------\u001b[0m",
            "\u001b[0;31mLinAlgError\u001b[0m                               Traceback (most recent call last)",
            "\u001b[0;32mpomegranate/distributions/MultivariateGaussianDistribution.pyx\u001b[0m in \u001b[0;36mpomegranate.distributions.MultivariateGaussianDistribution.MultivariateGaussianDistribution.__cinit__\u001b[0;34m()\u001b[0m\n",
            "\u001b[0;32m/usr/local/lib/python3.6/dist-packages/scipy/linalg/decomp_cholesky.py\u001b[0m in \u001b[0;36mcholesky\u001b[0;34m(a, lower, overwrite_a, check_finite)\u001b[0m\n\u001b[1;32m     89\u001b[0m     \"\"\"\n\u001b[1;32m     90\u001b[0m     c, lower = _cholesky(a, lower=lower, overwrite_a=overwrite_a, clean=True,\n\u001b[0;32m---> 91\u001b[0;31m                          check_finite=check_finite)\n\u001b[0m\u001b[1;32m     92\u001b[0m     \u001b[0;32mreturn\u001b[0m \u001b[0mc\u001b[0m\u001b[0;34m\u001b[0m\u001b[0;34m\u001b[0m\u001b[0m\n\u001b[1;32m     93\u001b[0m \u001b[0;34m\u001b[0m\u001b[0m\n",
            "\u001b[0;32m/usr/local/lib/python3.6/dist-packages/scipy/linalg/decomp_cholesky.py\u001b[0m in \u001b[0;36m_cholesky\u001b[0;34m(a, lower, overwrite_a, clean, check_finite)\u001b[0m\n\u001b[1;32m     38\u001b[0m     \u001b[0;32mif\u001b[0m \u001b[0minfo\u001b[0m \u001b[0;34m>\u001b[0m \u001b[0;36m0\u001b[0m\u001b[0;34m:\u001b[0m\u001b[0;34m\u001b[0m\u001b[0;34m\u001b[0m\u001b[0m\n\u001b[1;32m     39\u001b[0m         raise LinAlgError(\"%d-th leading minor of the array is not positive \"\n\u001b[0;32m---> 40\u001b[0;31m                           \"definite\" % info)\n\u001b[0m\u001b[1;32m     41\u001b[0m     \u001b[0;32mif\u001b[0m \u001b[0minfo\u001b[0m \u001b[0;34m<\u001b[0m \u001b[0;36m0\u001b[0m\u001b[0;34m:\u001b[0m\u001b[0;34m\u001b[0m\u001b[0;34m\u001b[0m\u001b[0m\n\u001b[1;32m     42\u001b[0m         raise ValueError('LAPACK reported an illegal value in {}-th argument'\n",
            "\u001b[0;31mLinAlgError\u001b[0m: 3-th leading minor of the array is not positive definite"
          ]
        },
        {
          "output_type": "stream",
          "text": [
            "Exception ignored in: 'pomegranate.distributions.MultivariateGaussianDistribution.MultivariateGaussianDistribution._log_probability_missing'\n",
            "Traceback (most recent call last):\n",
            "  File \"pomegranate/distributions/MultivariateGaussianDistribution.pyx\", line 72, in pomegranate.distributions.MultivariateGaussianDistribution.MultivariateGaussianDistribution.__cinit__\n",
            "  File \"/usr/local/lib/python3.6/dist-packages/scipy/linalg/decomp_cholesky.py\", line 91, in cholesky\n",
            "    check_finite=check_finite)\n",
            "  File \"/usr/local/lib/python3.6/dist-packages/scipy/linalg/decomp_cholesky.py\", line 40, in _cholesky\n",
            "    \"definite\" % info)\n",
            "numpy.linalg.LinAlgError: 3-th leading minor of the array is not positive definite\n"
          ],
          "name": "stderr"
        },
        {
          "output_type": "error",
          "ename": "LinAlgError",
          "evalue": "ignored",
          "traceback": [
            "\u001b[0;31m---------------------------------------------------------------------------\u001b[0m",
            "\u001b[0;31mLinAlgError\u001b[0m                               Traceback (most recent call last)",
            "\u001b[0;32mpomegranate/distributions/MultivariateGaussianDistribution.pyx\u001b[0m in \u001b[0;36mpomegranate.distributions.MultivariateGaussianDistribution.MultivariateGaussianDistribution.__cinit__\u001b[0;34m()\u001b[0m\n",
            "\u001b[0;32m/usr/local/lib/python3.6/dist-packages/scipy/linalg/decomp_cholesky.py\u001b[0m in \u001b[0;36mcholesky\u001b[0;34m(a, lower, overwrite_a, check_finite)\u001b[0m\n\u001b[1;32m     89\u001b[0m     \"\"\"\n\u001b[1;32m     90\u001b[0m     c, lower = _cholesky(a, lower=lower, overwrite_a=overwrite_a, clean=True,\n\u001b[0;32m---> 91\u001b[0;31m                          check_finite=check_finite)\n\u001b[0m\u001b[1;32m     92\u001b[0m     \u001b[0;32mreturn\u001b[0m \u001b[0mc\u001b[0m\u001b[0;34m\u001b[0m\u001b[0;34m\u001b[0m\u001b[0m\n\u001b[1;32m     93\u001b[0m \u001b[0;34m\u001b[0m\u001b[0m\n",
            "\u001b[0;32m/usr/local/lib/python3.6/dist-packages/scipy/linalg/decomp_cholesky.py\u001b[0m in \u001b[0;36m_cholesky\u001b[0;34m(a, lower, overwrite_a, clean, check_finite)\u001b[0m\n\u001b[1;32m     38\u001b[0m     \u001b[0;32mif\u001b[0m \u001b[0minfo\u001b[0m \u001b[0;34m>\u001b[0m \u001b[0;36m0\u001b[0m\u001b[0;34m:\u001b[0m\u001b[0;34m\u001b[0m\u001b[0;34m\u001b[0m\u001b[0m\n\u001b[1;32m     39\u001b[0m         raise LinAlgError(\"%d-th leading minor of the array is not positive \"\n\u001b[0;32m---> 40\u001b[0;31m                           \"definite\" % info)\n\u001b[0m\u001b[1;32m     41\u001b[0m     \u001b[0;32mif\u001b[0m \u001b[0minfo\u001b[0m \u001b[0;34m<\u001b[0m \u001b[0;36m0\u001b[0m\u001b[0;34m:\u001b[0m\u001b[0;34m\u001b[0m\u001b[0;34m\u001b[0m\u001b[0m\n\u001b[1;32m     42\u001b[0m         raise ValueError('LAPACK reported an illegal value in {}-th argument'\n",
            "\u001b[0;31mLinAlgError\u001b[0m: 3-th leading minor of the array is not positive definite"
          ]
        },
        {
          "output_type": "stream",
          "text": [
            "Exception ignored in: 'pomegranate.distributions.MultivariateGaussianDistribution.MultivariateGaussianDistribution._log_probability_missing'\n",
            "Traceback (most recent call last):\n",
            "  File \"pomegranate/distributions/MultivariateGaussianDistribution.pyx\", line 72, in pomegranate.distributions.MultivariateGaussianDistribution.MultivariateGaussianDistribution.__cinit__\n",
            "  File \"/usr/local/lib/python3.6/dist-packages/scipy/linalg/decomp_cholesky.py\", line 91, in cholesky\n",
            "    check_finite=check_finite)\n",
            "  File \"/usr/local/lib/python3.6/dist-packages/scipy/linalg/decomp_cholesky.py\", line 40, in _cholesky\n",
            "    \"definite\" % info)\n",
            "numpy.linalg.LinAlgError: 3-th leading minor of the array is not positive definite\n"
          ],
          "name": "stderr"
        },
        {
          "output_type": "error",
          "ename": "ValueError",
          "evalue": "ignored",
          "traceback": [
            "\u001b[0;31m---------------------------------------------------------------------------\u001b[0m",
            "\u001b[0;31mValueError\u001b[0m                                Traceback (most recent call last)",
            "\u001b[0;32mpomegranate/distributions/MultivariateGaussianDistribution.pyx\u001b[0m in \u001b[0;36mpomegranate.distributions.MultivariateGaussianDistribution.MultivariateGaussianDistribution.__cinit__\u001b[0;34m()\u001b[0m\n",
            "\u001b[0;31mValueError\u001b[0m: covariance matrix is not invertible."
          ]
        },
        {
          "output_type": "stream",
          "text": [
            "Exception ignored in: 'pomegranate.distributions.MultivariateGaussianDistribution.MultivariateGaussianDistribution._log_probability_missing'\n",
            "Traceback (most recent call last):\n",
            "  File \"pomegranate/distributions/MultivariateGaussianDistribution.pyx\", line 65, in pomegranate.distributions.MultivariateGaussianDistribution.MultivariateGaussianDistribution.__cinit__\n",
            "ValueError: covariance matrix is not invertible.\n"
          ],
          "name": "stderr"
        },
        {
          "output_type": "error",
          "ename": "LinAlgError",
          "evalue": "ignored",
          "traceback": [
            "\u001b[0;31m---------------------------------------------------------------------------\u001b[0m",
            "\u001b[0;31mLinAlgError\u001b[0m                               Traceback (most recent call last)",
            "\u001b[0;32mpomegranate/distributions/MultivariateGaussianDistribution.pyx\u001b[0m in \u001b[0;36mpomegranate.distributions.MultivariateGaussianDistribution.MultivariateGaussianDistribution.__cinit__\u001b[0;34m()\u001b[0m\n",
            "\u001b[0;32m/usr/local/lib/python3.6/dist-packages/scipy/linalg/decomp_cholesky.py\u001b[0m in \u001b[0;36mcholesky\u001b[0;34m(a, lower, overwrite_a, check_finite)\u001b[0m\n\u001b[1;32m     89\u001b[0m     \"\"\"\n\u001b[1;32m     90\u001b[0m     c, lower = _cholesky(a, lower=lower, overwrite_a=overwrite_a, clean=True,\n\u001b[0;32m---> 91\u001b[0;31m                          check_finite=check_finite)\n\u001b[0m\u001b[1;32m     92\u001b[0m     \u001b[0;32mreturn\u001b[0m \u001b[0mc\u001b[0m\u001b[0;34m\u001b[0m\u001b[0;34m\u001b[0m\u001b[0m\n\u001b[1;32m     93\u001b[0m \u001b[0;34m\u001b[0m\u001b[0m\n",
            "\u001b[0;32m/usr/local/lib/python3.6/dist-packages/scipy/linalg/decomp_cholesky.py\u001b[0m in \u001b[0;36m_cholesky\u001b[0;34m(a, lower, overwrite_a, clean, check_finite)\u001b[0m\n\u001b[1;32m     38\u001b[0m     \u001b[0;32mif\u001b[0m \u001b[0minfo\u001b[0m \u001b[0;34m>\u001b[0m \u001b[0;36m0\u001b[0m\u001b[0;34m:\u001b[0m\u001b[0;34m\u001b[0m\u001b[0;34m\u001b[0m\u001b[0m\n\u001b[1;32m     39\u001b[0m         raise LinAlgError(\"%d-th leading minor of the array is not positive \"\n\u001b[0;32m---> 40\u001b[0;31m                           \"definite\" % info)\n\u001b[0m\u001b[1;32m     41\u001b[0m     \u001b[0;32mif\u001b[0m \u001b[0minfo\u001b[0m \u001b[0;34m<\u001b[0m \u001b[0;36m0\u001b[0m\u001b[0;34m:\u001b[0m\u001b[0;34m\u001b[0m\u001b[0;34m\u001b[0m\u001b[0m\n\u001b[1;32m     42\u001b[0m         raise ValueError('LAPACK reported an illegal value in {}-th argument'\n",
            "\u001b[0;31mLinAlgError\u001b[0m: 4-th leading minor of the array is not positive definite"
          ]
        },
        {
          "output_type": "stream",
          "text": [
            "Exception ignored in: 'pomegranate.distributions.MultivariateGaussianDistribution.MultivariateGaussianDistribution._log_probability_missing'\n",
            "Traceback (most recent call last):\n",
            "  File \"pomegranate/distributions/MultivariateGaussianDistribution.pyx\", line 72, in pomegranate.distributions.MultivariateGaussianDistribution.MultivariateGaussianDistribution.__cinit__\n",
            "  File \"/usr/local/lib/python3.6/dist-packages/scipy/linalg/decomp_cholesky.py\", line 91, in cholesky\n",
            "    check_finite=check_finite)\n",
            "  File \"/usr/local/lib/python3.6/dist-packages/scipy/linalg/decomp_cholesky.py\", line 40, in _cholesky\n",
            "    \"definite\" % info)\n",
            "numpy.linalg.LinAlgError: 4-th leading minor of the array is not positive definite\n"
          ],
          "name": "stderr"
        },
        {
          "output_type": "error",
          "ename": "LinAlgError",
          "evalue": "ignored",
          "traceback": [
            "\u001b[0;31m---------------------------------------------------------------------------\u001b[0m",
            "\u001b[0;31mLinAlgError\u001b[0m                               Traceback (most recent call last)",
            "\u001b[0;32mpomegranate/distributions/MultivariateGaussianDistribution.pyx\u001b[0m in \u001b[0;36mpomegranate.distributions.MultivariateGaussianDistribution.MultivariateGaussianDistribution.__cinit__\u001b[0;34m()\u001b[0m\n",
            "\u001b[0;32m/usr/local/lib/python3.6/dist-packages/scipy/linalg/decomp_cholesky.py\u001b[0m in \u001b[0;36mcholesky\u001b[0;34m(a, lower, overwrite_a, check_finite)\u001b[0m\n\u001b[1;32m     89\u001b[0m     \"\"\"\n\u001b[1;32m     90\u001b[0m     c, lower = _cholesky(a, lower=lower, overwrite_a=overwrite_a, clean=True,\n\u001b[0;32m---> 91\u001b[0;31m                          check_finite=check_finite)\n\u001b[0m\u001b[1;32m     92\u001b[0m     \u001b[0;32mreturn\u001b[0m \u001b[0mc\u001b[0m\u001b[0;34m\u001b[0m\u001b[0;34m\u001b[0m\u001b[0m\n\u001b[1;32m     93\u001b[0m \u001b[0;34m\u001b[0m\u001b[0m\n",
            "\u001b[0;32m/usr/local/lib/python3.6/dist-packages/scipy/linalg/decomp_cholesky.py\u001b[0m in \u001b[0;36m_cholesky\u001b[0;34m(a, lower, overwrite_a, clean, check_finite)\u001b[0m\n\u001b[1;32m     38\u001b[0m     \u001b[0;32mif\u001b[0m \u001b[0minfo\u001b[0m \u001b[0;34m>\u001b[0m \u001b[0;36m0\u001b[0m\u001b[0;34m:\u001b[0m\u001b[0;34m\u001b[0m\u001b[0;34m\u001b[0m\u001b[0m\n\u001b[1;32m     39\u001b[0m         raise LinAlgError(\"%d-th leading minor of the array is not positive \"\n\u001b[0;32m---> 40\u001b[0;31m                           \"definite\" % info)\n\u001b[0m\u001b[1;32m     41\u001b[0m     \u001b[0;32mif\u001b[0m \u001b[0minfo\u001b[0m \u001b[0;34m<\u001b[0m \u001b[0;36m0\u001b[0m\u001b[0;34m:\u001b[0m\u001b[0;34m\u001b[0m\u001b[0;34m\u001b[0m\u001b[0m\n\u001b[1;32m     42\u001b[0m         raise ValueError('LAPACK reported an illegal value in {}-th argument'\n",
            "\u001b[0;31mLinAlgError\u001b[0m: 5-th leading minor of the array is not positive definite"
          ]
        },
        {
          "output_type": "stream",
          "text": [
            "Exception ignored in: 'pomegranate.distributions.MultivariateGaussianDistribution.MultivariateGaussianDistribution._log_probability_missing'\n",
            "Traceback (most recent call last):\n",
            "  File \"pomegranate/distributions/MultivariateGaussianDistribution.pyx\", line 72, in pomegranate.distributions.MultivariateGaussianDistribution.MultivariateGaussianDistribution.__cinit__\n",
            "  File \"/usr/local/lib/python3.6/dist-packages/scipy/linalg/decomp_cholesky.py\", line 91, in cholesky\n",
            "    check_finite=check_finite)\n",
            "  File \"/usr/local/lib/python3.6/dist-packages/scipy/linalg/decomp_cholesky.py\", line 40, in _cholesky\n",
            "    \"definite\" % info)\n",
            "numpy.linalg.LinAlgError: 5-th leading minor of the array is not positive definite\n"
          ],
          "name": "stderr"
        },
        {
          "output_type": "error",
          "ename": "LinAlgError",
          "evalue": "ignored",
          "traceback": [
            "\u001b[0;31m---------------------------------------------------------------------------\u001b[0m",
            "\u001b[0;31mLinAlgError\u001b[0m                               Traceback (most recent call last)",
            "\u001b[0;32mpomegranate/distributions/MultivariateGaussianDistribution.pyx\u001b[0m in \u001b[0;36mpomegranate.distributions.MultivariateGaussianDistribution.MultivariateGaussianDistribution.__cinit__\u001b[0;34m()\u001b[0m\n",
            "\u001b[0;32m/usr/local/lib/python3.6/dist-packages/scipy/linalg/decomp_cholesky.py\u001b[0m in \u001b[0;36mcholesky\u001b[0;34m(a, lower, overwrite_a, check_finite)\u001b[0m\n\u001b[1;32m     89\u001b[0m     \"\"\"\n\u001b[1;32m     90\u001b[0m     c, lower = _cholesky(a, lower=lower, overwrite_a=overwrite_a, clean=True,\n\u001b[0;32m---> 91\u001b[0;31m                          check_finite=check_finite)\n\u001b[0m\u001b[1;32m     92\u001b[0m     \u001b[0;32mreturn\u001b[0m \u001b[0mc\u001b[0m\u001b[0;34m\u001b[0m\u001b[0;34m\u001b[0m\u001b[0m\n\u001b[1;32m     93\u001b[0m \u001b[0;34m\u001b[0m\u001b[0m\n",
            "\u001b[0;32m/usr/local/lib/python3.6/dist-packages/scipy/linalg/decomp_cholesky.py\u001b[0m in \u001b[0;36m_cholesky\u001b[0;34m(a, lower, overwrite_a, clean, check_finite)\u001b[0m\n\u001b[1;32m     38\u001b[0m     \u001b[0;32mif\u001b[0m \u001b[0minfo\u001b[0m \u001b[0;34m>\u001b[0m \u001b[0;36m0\u001b[0m\u001b[0;34m:\u001b[0m\u001b[0;34m\u001b[0m\u001b[0;34m\u001b[0m\u001b[0m\n\u001b[1;32m     39\u001b[0m         raise LinAlgError(\"%d-th leading minor of the array is not positive \"\n\u001b[0;32m---> 40\u001b[0;31m                           \"definite\" % info)\n\u001b[0m\u001b[1;32m     41\u001b[0m     \u001b[0;32mif\u001b[0m \u001b[0minfo\u001b[0m \u001b[0;34m<\u001b[0m \u001b[0;36m0\u001b[0m\u001b[0;34m:\u001b[0m\u001b[0;34m\u001b[0m\u001b[0;34m\u001b[0m\u001b[0m\n\u001b[1;32m     42\u001b[0m         raise ValueError('LAPACK reported an illegal value in {}-th argument'\n",
            "\u001b[0;31mLinAlgError\u001b[0m: 3-th leading minor of the array is not positive definite"
          ]
        },
        {
          "output_type": "stream",
          "text": [
            "Exception ignored in: 'pomegranate.distributions.MultivariateGaussianDistribution.MultivariateGaussianDistribution._log_probability_missing'\n",
            "Traceback (most recent call last):\n",
            "  File \"pomegranate/distributions/MultivariateGaussianDistribution.pyx\", line 72, in pomegranate.distributions.MultivariateGaussianDistribution.MultivariateGaussianDistribution.__cinit__\n",
            "  File \"/usr/local/lib/python3.6/dist-packages/scipy/linalg/decomp_cholesky.py\", line 91, in cholesky\n",
            "    check_finite=check_finite)\n",
            "  File \"/usr/local/lib/python3.6/dist-packages/scipy/linalg/decomp_cholesky.py\", line 40, in _cholesky\n",
            "    \"definite\" % info)\n",
            "numpy.linalg.LinAlgError: 3-th leading minor of the array is not positive definite\n"
          ],
          "name": "stderr"
        },
        {
          "output_type": "error",
          "ename": "LinAlgError",
          "evalue": "ignored",
          "traceback": [
            "\u001b[0;31m---------------------------------------------------------------------------\u001b[0m",
            "\u001b[0;31mLinAlgError\u001b[0m                               Traceback (most recent call last)",
            "\u001b[0;32mpomegranate/distributions/MultivariateGaussianDistribution.pyx\u001b[0m in \u001b[0;36mpomegranate.distributions.MultivariateGaussianDistribution.MultivariateGaussianDistribution.__cinit__\u001b[0;34m()\u001b[0m\n",
            "\u001b[0;32m/usr/local/lib/python3.6/dist-packages/scipy/linalg/decomp_cholesky.py\u001b[0m in \u001b[0;36mcholesky\u001b[0;34m(a, lower, overwrite_a, check_finite)\u001b[0m\n\u001b[1;32m     89\u001b[0m     \"\"\"\n\u001b[1;32m     90\u001b[0m     c, lower = _cholesky(a, lower=lower, overwrite_a=overwrite_a, clean=True,\n\u001b[0;32m---> 91\u001b[0;31m                          check_finite=check_finite)\n\u001b[0m\u001b[1;32m     92\u001b[0m     \u001b[0;32mreturn\u001b[0m \u001b[0mc\u001b[0m\u001b[0;34m\u001b[0m\u001b[0;34m\u001b[0m\u001b[0m\n\u001b[1;32m     93\u001b[0m \u001b[0;34m\u001b[0m\u001b[0m\n",
            "\u001b[0;32m/usr/local/lib/python3.6/dist-packages/scipy/linalg/decomp_cholesky.py\u001b[0m in \u001b[0;36m_cholesky\u001b[0;34m(a, lower, overwrite_a, clean, check_finite)\u001b[0m\n\u001b[1;32m     38\u001b[0m     \u001b[0;32mif\u001b[0m \u001b[0minfo\u001b[0m \u001b[0;34m>\u001b[0m \u001b[0;36m0\u001b[0m\u001b[0;34m:\u001b[0m\u001b[0;34m\u001b[0m\u001b[0;34m\u001b[0m\u001b[0m\n\u001b[1;32m     39\u001b[0m         raise LinAlgError(\"%d-th leading minor of the array is not positive \"\n\u001b[0;32m---> 40\u001b[0;31m                           \"definite\" % info)\n\u001b[0m\u001b[1;32m     41\u001b[0m     \u001b[0;32mif\u001b[0m \u001b[0minfo\u001b[0m \u001b[0;34m<\u001b[0m \u001b[0;36m0\u001b[0m\u001b[0;34m:\u001b[0m\u001b[0;34m\u001b[0m\u001b[0;34m\u001b[0m\u001b[0m\n\u001b[1;32m     42\u001b[0m         raise ValueError('LAPACK reported an illegal value in {}-th argument'\n",
            "\u001b[0;31mLinAlgError\u001b[0m: 5-th leading minor of the array is not positive definite"
          ]
        },
        {
          "output_type": "stream",
          "text": [
            "Exception ignored in: 'pomegranate.distributions.MultivariateGaussianDistribution.MultivariateGaussianDistribution._log_probability_missing'\n",
            "Traceback (most recent call last):\n",
            "  File \"pomegranate/distributions/MultivariateGaussianDistribution.pyx\", line 72, in pomegranate.distributions.MultivariateGaussianDistribution.MultivariateGaussianDistribution.__cinit__\n",
            "  File \"/usr/local/lib/python3.6/dist-packages/scipy/linalg/decomp_cholesky.py\", line 91, in cholesky\n",
            "    check_finite=check_finite)\n",
            "  File \"/usr/local/lib/python3.6/dist-packages/scipy/linalg/decomp_cholesky.py\", line 40, in _cholesky\n",
            "    \"definite\" % info)\n",
            "numpy.linalg.LinAlgError: 5-th leading minor of the array is not positive definite\n"
          ],
          "name": "stderr"
        },
        {
          "output_type": "error",
          "ename": "ValueError",
          "evalue": "ignored",
          "traceback": [
            "\u001b[0;31m---------------------------------------------------------------------------\u001b[0m",
            "\u001b[0;31mValueError\u001b[0m                                Traceback (most recent call last)",
            "\u001b[0;32mpomegranate/distributions/MultivariateGaussianDistribution.pyx\u001b[0m in \u001b[0;36mpomegranate.distributions.MultivariateGaussianDistribution.MultivariateGaussianDistribution.__cinit__\u001b[0;34m()\u001b[0m\n",
            "\u001b[0;31mValueError\u001b[0m: covariance matrix is not invertible."
          ]
        },
        {
          "output_type": "stream",
          "text": [
            "Exception ignored in: 'pomegranate.distributions.MultivariateGaussianDistribution.MultivariateGaussianDistribution._log_probability_missing'\n",
            "Traceback (most recent call last):\n",
            "  File \"pomegranate/distributions/MultivariateGaussianDistribution.pyx\", line 65, in pomegranate.distributions.MultivariateGaussianDistribution.MultivariateGaussianDistribution.__cinit__\n",
            "ValueError: covariance matrix is not invertible.\n"
          ],
          "name": "stderr"
        },
        {
          "output_type": "error",
          "ename": "LinAlgError",
          "evalue": "ignored",
          "traceback": [
            "\u001b[0;31m---------------------------------------------------------------------------\u001b[0m",
            "\u001b[0;31mLinAlgError\u001b[0m                               Traceback (most recent call last)",
            "\u001b[0;32mpomegranate/distributions/MultivariateGaussianDistribution.pyx\u001b[0m in \u001b[0;36mpomegranate.distributions.MultivariateGaussianDistribution.MultivariateGaussianDistribution.__cinit__\u001b[0;34m()\u001b[0m\n",
            "\u001b[0;32m/usr/local/lib/python3.6/dist-packages/scipy/linalg/decomp_cholesky.py\u001b[0m in \u001b[0;36mcholesky\u001b[0;34m(a, lower, overwrite_a, check_finite)\u001b[0m\n\u001b[1;32m     89\u001b[0m     \"\"\"\n\u001b[1;32m     90\u001b[0m     c, lower = _cholesky(a, lower=lower, overwrite_a=overwrite_a, clean=True,\n\u001b[0;32m---> 91\u001b[0;31m                          check_finite=check_finite)\n\u001b[0m\u001b[1;32m     92\u001b[0m     \u001b[0;32mreturn\u001b[0m \u001b[0mc\u001b[0m\u001b[0;34m\u001b[0m\u001b[0;34m\u001b[0m\u001b[0m\n\u001b[1;32m     93\u001b[0m \u001b[0;34m\u001b[0m\u001b[0m\n",
            "\u001b[0;32m/usr/local/lib/python3.6/dist-packages/scipy/linalg/decomp_cholesky.py\u001b[0m in \u001b[0;36m_cholesky\u001b[0;34m(a, lower, overwrite_a, clean, check_finite)\u001b[0m\n\u001b[1;32m     38\u001b[0m     \u001b[0;32mif\u001b[0m \u001b[0minfo\u001b[0m \u001b[0;34m>\u001b[0m \u001b[0;36m0\u001b[0m\u001b[0;34m:\u001b[0m\u001b[0;34m\u001b[0m\u001b[0;34m\u001b[0m\u001b[0m\n\u001b[1;32m     39\u001b[0m         raise LinAlgError(\"%d-th leading minor of the array is not positive \"\n\u001b[0;32m---> 40\u001b[0;31m                           \"definite\" % info)\n\u001b[0m\u001b[1;32m     41\u001b[0m     \u001b[0;32mif\u001b[0m \u001b[0minfo\u001b[0m \u001b[0;34m<\u001b[0m \u001b[0;36m0\u001b[0m\u001b[0;34m:\u001b[0m\u001b[0;34m\u001b[0m\u001b[0;34m\u001b[0m\u001b[0m\n\u001b[1;32m     42\u001b[0m         raise ValueError('LAPACK reported an illegal value in {}-th argument'\n",
            "\u001b[0;31mLinAlgError\u001b[0m: 3-th leading minor of the array is not positive definite"
          ]
        },
        {
          "output_type": "stream",
          "text": [
            "Exception ignored in: 'pomegranate.distributions.MultivariateGaussianDistribution.MultivariateGaussianDistribution._log_probability_missing'\n",
            "Traceback (most recent call last):\n",
            "  File \"pomegranate/distributions/MultivariateGaussianDistribution.pyx\", line 72, in pomegranate.distributions.MultivariateGaussianDistribution.MultivariateGaussianDistribution.__cinit__\n",
            "  File \"/usr/local/lib/python3.6/dist-packages/scipy/linalg/decomp_cholesky.py\", line 91, in cholesky\n",
            "    check_finite=check_finite)\n",
            "  File \"/usr/local/lib/python3.6/dist-packages/scipy/linalg/decomp_cholesky.py\", line 40, in _cholesky\n",
            "    \"definite\" % info)\n",
            "numpy.linalg.LinAlgError: 3-th leading minor of the array is not positive definite\n"
          ],
          "name": "stderr"
        },
        {
          "output_type": "error",
          "ename": "LinAlgError",
          "evalue": "ignored",
          "traceback": [
            "\u001b[0;31m---------------------------------------------------------------------------\u001b[0m",
            "\u001b[0;31mLinAlgError\u001b[0m                               Traceback (most recent call last)",
            "\u001b[0;32mpomegranate/distributions/MultivariateGaussianDistribution.pyx\u001b[0m in \u001b[0;36mpomegranate.distributions.MultivariateGaussianDistribution.MultivariateGaussianDistribution.__cinit__\u001b[0;34m()\u001b[0m\n",
            "\u001b[0;32m/usr/local/lib/python3.6/dist-packages/scipy/linalg/decomp_cholesky.py\u001b[0m in \u001b[0;36mcholesky\u001b[0;34m(a, lower, overwrite_a, check_finite)\u001b[0m\n\u001b[1;32m     89\u001b[0m     \"\"\"\n\u001b[1;32m     90\u001b[0m     c, lower = _cholesky(a, lower=lower, overwrite_a=overwrite_a, clean=True,\n\u001b[0;32m---> 91\u001b[0;31m                          check_finite=check_finite)\n\u001b[0m\u001b[1;32m     92\u001b[0m     \u001b[0;32mreturn\u001b[0m \u001b[0mc\u001b[0m\u001b[0;34m\u001b[0m\u001b[0;34m\u001b[0m\u001b[0m\n\u001b[1;32m     93\u001b[0m \u001b[0;34m\u001b[0m\u001b[0m\n",
            "\u001b[0;32m/usr/local/lib/python3.6/dist-packages/scipy/linalg/decomp_cholesky.py\u001b[0m in \u001b[0;36m_cholesky\u001b[0;34m(a, lower, overwrite_a, clean, check_finite)\u001b[0m\n\u001b[1;32m     38\u001b[0m     \u001b[0;32mif\u001b[0m \u001b[0minfo\u001b[0m \u001b[0;34m>\u001b[0m \u001b[0;36m0\u001b[0m\u001b[0;34m:\u001b[0m\u001b[0;34m\u001b[0m\u001b[0;34m\u001b[0m\u001b[0m\n\u001b[1;32m     39\u001b[0m         raise LinAlgError(\"%d-th leading minor of the array is not positive \"\n\u001b[0;32m---> 40\u001b[0;31m                           \"definite\" % info)\n\u001b[0m\u001b[1;32m     41\u001b[0m     \u001b[0;32mif\u001b[0m \u001b[0minfo\u001b[0m \u001b[0;34m<\u001b[0m \u001b[0;36m0\u001b[0m\u001b[0;34m:\u001b[0m\u001b[0;34m\u001b[0m\u001b[0;34m\u001b[0m\u001b[0m\n\u001b[1;32m     42\u001b[0m         raise ValueError('LAPACK reported an illegal value in {}-th argument'\n",
            "\u001b[0;31mLinAlgError\u001b[0m: 4-th leading minor of the array is not positive definite"
          ]
        },
        {
          "output_type": "stream",
          "text": [
            "Exception ignored in: 'pomegranate.distributions.MultivariateGaussianDistribution.MultivariateGaussianDistribution._log_probability_missing'\n",
            "Traceback (most recent call last):\n",
            "  File \"pomegranate/distributions/MultivariateGaussianDistribution.pyx\", line 72, in pomegranate.distributions.MultivariateGaussianDistribution.MultivariateGaussianDistribution.__cinit__\n",
            "  File \"/usr/local/lib/python3.6/dist-packages/scipy/linalg/decomp_cholesky.py\", line 91, in cholesky\n",
            "    check_finite=check_finite)\n",
            "  File \"/usr/local/lib/python3.6/dist-packages/scipy/linalg/decomp_cholesky.py\", line 40, in _cholesky\n",
            "    \"definite\" % info)\n",
            "numpy.linalg.LinAlgError: 4-th leading minor of the array is not positive definite\n"
          ],
          "name": "stderr"
        },
        {
          "output_type": "error",
          "ename": "ValueError",
          "evalue": "ignored",
          "traceback": [
            "\u001b[0;31m---------------------------------------------------------------------------\u001b[0m",
            "\u001b[0;31mValueError\u001b[0m                                Traceback (most recent call last)",
            "\u001b[0;32mpomegranate/distributions/MultivariateGaussianDistribution.pyx\u001b[0m in \u001b[0;36mpomegranate.distributions.MultivariateGaussianDistribution.MultivariateGaussianDistribution.__cinit__\u001b[0;34m()\u001b[0m\n",
            "\u001b[0;31mValueError\u001b[0m: covariance matrix is not invertible."
          ]
        },
        {
          "output_type": "stream",
          "text": [
            "Exception ignored in: 'pomegranate.distributions.MultivariateGaussianDistribution.MultivariateGaussianDistribution._log_probability_missing'\n",
            "Traceback (most recent call last):\n",
            "  File \"pomegranate/distributions/MultivariateGaussianDistribution.pyx\", line 65, in pomegranate.distributions.MultivariateGaussianDistribution.MultivariateGaussianDistribution.__cinit__\n",
            "ValueError: covariance matrix is not invertible.\n"
          ],
          "name": "stderr"
        },
        {
          "output_type": "error",
          "ename": "LinAlgError",
          "evalue": "ignored",
          "traceback": [
            "\u001b[0;31m---------------------------------------------------------------------------\u001b[0m",
            "\u001b[0;31mLinAlgError\u001b[0m                               Traceback (most recent call last)",
            "\u001b[0;32mpomegranate/distributions/MultivariateGaussianDistribution.pyx\u001b[0m in \u001b[0;36mpomegranate.distributions.MultivariateGaussianDistribution.MultivariateGaussianDistribution.__cinit__\u001b[0;34m()\u001b[0m\n",
            "\u001b[0;32m/usr/local/lib/python3.6/dist-packages/scipy/linalg/decomp_cholesky.py\u001b[0m in \u001b[0;36mcholesky\u001b[0;34m(a, lower, overwrite_a, check_finite)\u001b[0m\n\u001b[1;32m     89\u001b[0m     \"\"\"\n\u001b[1;32m     90\u001b[0m     c, lower = _cholesky(a, lower=lower, overwrite_a=overwrite_a, clean=True,\n\u001b[0;32m---> 91\u001b[0;31m                          check_finite=check_finite)\n\u001b[0m\u001b[1;32m     92\u001b[0m     \u001b[0;32mreturn\u001b[0m \u001b[0mc\u001b[0m\u001b[0;34m\u001b[0m\u001b[0;34m\u001b[0m\u001b[0m\n\u001b[1;32m     93\u001b[0m \u001b[0;34m\u001b[0m\u001b[0m\n",
            "\u001b[0;32m/usr/local/lib/python3.6/dist-packages/scipy/linalg/decomp_cholesky.py\u001b[0m in \u001b[0;36m_cholesky\u001b[0;34m(a, lower, overwrite_a, clean, check_finite)\u001b[0m\n\u001b[1;32m     38\u001b[0m     \u001b[0;32mif\u001b[0m \u001b[0minfo\u001b[0m \u001b[0;34m>\u001b[0m \u001b[0;36m0\u001b[0m\u001b[0;34m:\u001b[0m\u001b[0;34m\u001b[0m\u001b[0;34m\u001b[0m\u001b[0m\n\u001b[1;32m     39\u001b[0m         raise LinAlgError(\"%d-th leading minor of the array is not positive \"\n\u001b[0;32m---> 40\u001b[0;31m                           \"definite\" % info)\n\u001b[0m\u001b[1;32m     41\u001b[0m     \u001b[0;32mif\u001b[0m \u001b[0minfo\u001b[0m \u001b[0;34m<\u001b[0m \u001b[0;36m0\u001b[0m\u001b[0;34m:\u001b[0m\u001b[0;34m\u001b[0m\u001b[0;34m\u001b[0m\u001b[0m\n\u001b[1;32m     42\u001b[0m         raise ValueError('LAPACK reported an illegal value in {}-th argument'\n",
            "\u001b[0;31mLinAlgError\u001b[0m: 5-th leading minor of the array is not positive definite"
          ]
        },
        {
          "output_type": "stream",
          "text": [
            "Exception ignored in: 'pomegranate.distributions.MultivariateGaussianDistribution.MultivariateGaussianDistribution._log_probability_missing'\n",
            "Traceback (most recent call last):\n",
            "  File \"pomegranate/distributions/MultivariateGaussianDistribution.pyx\", line 72, in pomegranate.distributions.MultivariateGaussianDistribution.MultivariateGaussianDistribution.__cinit__\n",
            "  File \"/usr/local/lib/python3.6/dist-packages/scipy/linalg/decomp_cholesky.py\", line 91, in cholesky\n",
            "    check_finite=check_finite)\n",
            "  File \"/usr/local/lib/python3.6/dist-packages/scipy/linalg/decomp_cholesky.py\", line 40, in _cholesky\n",
            "    \"definite\" % info)\n",
            "numpy.linalg.LinAlgError: 5-th leading minor of the array is not positive definite\n"
          ],
          "name": "stderr"
        },
        {
          "output_type": "error",
          "ename": "LinAlgError",
          "evalue": "ignored",
          "traceback": [
            "\u001b[0;31m---------------------------------------------------------------------------\u001b[0m",
            "\u001b[0;31mLinAlgError\u001b[0m                               Traceback (most recent call last)",
            "\u001b[0;32mpomegranate/distributions/MultivariateGaussianDistribution.pyx\u001b[0m in \u001b[0;36mpomegranate.distributions.MultivariateGaussianDistribution.MultivariateGaussianDistribution.__cinit__\u001b[0;34m()\u001b[0m\n",
            "\u001b[0;32m/usr/local/lib/python3.6/dist-packages/scipy/linalg/decomp_cholesky.py\u001b[0m in \u001b[0;36mcholesky\u001b[0;34m(a, lower, overwrite_a, check_finite)\u001b[0m\n\u001b[1;32m     89\u001b[0m     \"\"\"\n\u001b[1;32m     90\u001b[0m     c, lower = _cholesky(a, lower=lower, overwrite_a=overwrite_a, clean=True,\n\u001b[0;32m---> 91\u001b[0;31m                          check_finite=check_finite)\n\u001b[0m\u001b[1;32m     92\u001b[0m     \u001b[0;32mreturn\u001b[0m \u001b[0mc\u001b[0m\u001b[0;34m\u001b[0m\u001b[0;34m\u001b[0m\u001b[0m\n\u001b[1;32m     93\u001b[0m \u001b[0;34m\u001b[0m\u001b[0m\n",
            "\u001b[0;32m/usr/local/lib/python3.6/dist-packages/scipy/linalg/decomp_cholesky.py\u001b[0m in \u001b[0;36m_cholesky\u001b[0;34m(a, lower, overwrite_a, clean, check_finite)\u001b[0m\n\u001b[1;32m     38\u001b[0m     \u001b[0;32mif\u001b[0m \u001b[0minfo\u001b[0m \u001b[0;34m>\u001b[0m \u001b[0;36m0\u001b[0m\u001b[0;34m:\u001b[0m\u001b[0;34m\u001b[0m\u001b[0;34m\u001b[0m\u001b[0m\n\u001b[1;32m     39\u001b[0m         raise LinAlgError(\"%d-th leading minor of the array is not positive \"\n\u001b[0;32m---> 40\u001b[0;31m                           \"definite\" % info)\n\u001b[0m\u001b[1;32m     41\u001b[0m     \u001b[0;32mif\u001b[0m \u001b[0minfo\u001b[0m \u001b[0;34m<\u001b[0m \u001b[0;36m0\u001b[0m\u001b[0;34m:\u001b[0m\u001b[0;34m\u001b[0m\u001b[0;34m\u001b[0m\u001b[0m\n\u001b[1;32m     42\u001b[0m         raise ValueError('LAPACK reported an illegal value in {}-th argument'\n",
            "\u001b[0;31mLinAlgError\u001b[0m: 3-th leading minor of the array is not positive definite"
          ]
        },
        {
          "output_type": "stream",
          "text": [
            "Exception ignored in: 'pomegranate.distributions.MultivariateGaussianDistribution.MultivariateGaussianDistribution._log_probability_missing'\n",
            "Traceback (most recent call last):\n",
            "  File \"pomegranate/distributions/MultivariateGaussianDistribution.pyx\", line 72, in pomegranate.distributions.MultivariateGaussianDistribution.MultivariateGaussianDistribution.__cinit__\n",
            "  File \"/usr/local/lib/python3.6/dist-packages/scipy/linalg/decomp_cholesky.py\", line 91, in cholesky\n",
            "    check_finite=check_finite)\n",
            "  File \"/usr/local/lib/python3.6/dist-packages/scipy/linalg/decomp_cholesky.py\", line 40, in _cholesky\n",
            "    \"definite\" % info)\n",
            "numpy.linalg.LinAlgError: 3-th leading minor of the array is not positive definite\n"
          ],
          "name": "stderr"
        },
        {
          "output_type": "error",
          "ename": "LinAlgError",
          "evalue": "ignored",
          "traceback": [
            "\u001b[0;31m---------------------------------------------------------------------------\u001b[0m",
            "\u001b[0;31mLinAlgError\u001b[0m                               Traceback (most recent call last)",
            "\u001b[0;32mpomegranate/distributions/MultivariateGaussianDistribution.pyx\u001b[0m in \u001b[0;36mpomegranate.distributions.MultivariateGaussianDistribution.MultivariateGaussianDistribution.__cinit__\u001b[0;34m()\u001b[0m\n",
            "\u001b[0;32m/usr/local/lib/python3.6/dist-packages/scipy/linalg/decomp_cholesky.py\u001b[0m in \u001b[0;36mcholesky\u001b[0;34m(a, lower, overwrite_a, check_finite)\u001b[0m\n\u001b[1;32m     89\u001b[0m     \"\"\"\n\u001b[1;32m     90\u001b[0m     c, lower = _cholesky(a, lower=lower, overwrite_a=overwrite_a, clean=True,\n\u001b[0;32m---> 91\u001b[0;31m                          check_finite=check_finite)\n\u001b[0m\u001b[1;32m     92\u001b[0m     \u001b[0;32mreturn\u001b[0m \u001b[0mc\u001b[0m\u001b[0;34m\u001b[0m\u001b[0;34m\u001b[0m\u001b[0m\n\u001b[1;32m     93\u001b[0m \u001b[0;34m\u001b[0m\u001b[0m\n",
            "\u001b[0;32m/usr/local/lib/python3.6/dist-packages/scipy/linalg/decomp_cholesky.py\u001b[0m in \u001b[0;36m_cholesky\u001b[0;34m(a, lower, overwrite_a, clean, check_finite)\u001b[0m\n\u001b[1;32m     38\u001b[0m     \u001b[0;32mif\u001b[0m \u001b[0minfo\u001b[0m \u001b[0;34m>\u001b[0m \u001b[0;36m0\u001b[0m\u001b[0;34m:\u001b[0m\u001b[0;34m\u001b[0m\u001b[0;34m\u001b[0m\u001b[0m\n\u001b[1;32m     39\u001b[0m         raise LinAlgError(\"%d-th leading minor of the array is not positive \"\n\u001b[0;32m---> 40\u001b[0;31m                           \"definite\" % info)\n\u001b[0m\u001b[1;32m     41\u001b[0m     \u001b[0;32mif\u001b[0m \u001b[0minfo\u001b[0m \u001b[0;34m<\u001b[0m \u001b[0;36m0\u001b[0m\u001b[0;34m:\u001b[0m\u001b[0;34m\u001b[0m\u001b[0;34m\u001b[0m\u001b[0m\n\u001b[1;32m     42\u001b[0m         raise ValueError('LAPACK reported an illegal value in {}-th argument'\n",
            "\u001b[0;31mLinAlgError\u001b[0m: 4-th leading minor of the array is not positive definite"
          ]
        },
        {
          "output_type": "stream",
          "text": [
            "Exception ignored in: 'pomegranate.distributions.MultivariateGaussianDistribution.MultivariateGaussianDistribution._log_probability_missing'\n",
            "Traceback (most recent call last):\n",
            "  File \"pomegranate/distributions/MultivariateGaussianDistribution.pyx\", line 72, in pomegranate.distributions.MultivariateGaussianDistribution.MultivariateGaussianDistribution.__cinit__\n",
            "  File \"/usr/local/lib/python3.6/dist-packages/scipy/linalg/decomp_cholesky.py\", line 91, in cholesky\n",
            "    check_finite=check_finite)\n",
            "  File \"/usr/local/lib/python3.6/dist-packages/scipy/linalg/decomp_cholesky.py\", line 40, in _cholesky\n",
            "    \"definite\" % info)\n",
            "numpy.linalg.LinAlgError: 4-th leading minor of the array is not positive definite\n"
          ],
          "name": "stderr"
        },
        {
          "output_type": "error",
          "ename": "LinAlgError",
          "evalue": "ignored",
          "traceback": [
            "\u001b[0;31m---------------------------------------------------------------------------\u001b[0m",
            "\u001b[0;31mLinAlgError\u001b[0m                               Traceback (most recent call last)",
            "\u001b[0;32mpomegranate/distributions/MultivariateGaussianDistribution.pyx\u001b[0m in \u001b[0;36mpomegranate.distributions.MultivariateGaussianDistribution.MultivariateGaussianDistribution.__cinit__\u001b[0;34m()\u001b[0m\n",
            "\u001b[0;32m/usr/local/lib/python3.6/dist-packages/scipy/linalg/decomp_cholesky.py\u001b[0m in \u001b[0;36mcholesky\u001b[0;34m(a, lower, overwrite_a, check_finite)\u001b[0m\n\u001b[1;32m     89\u001b[0m     \"\"\"\n\u001b[1;32m     90\u001b[0m     c, lower = _cholesky(a, lower=lower, overwrite_a=overwrite_a, clean=True,\n\u001b[0;32m---> 91\u001b[0;31m                          check_finite=check_finite)\n\u001b[0m\u001b[1;32m     92\u001b[0m     \u001b[0;32mreturn\u001b[0m \u001b[0mc\u001b[0m\u001b[0;34m\u001b[0m\u001b[0;34m\u001b[0m\u001b[0m\n\u001b[1;32m     93\u001b[0m \u001b[0;34m\u001b[0m\u001b[0m\n",
            "\u001b[0;32m/usr/local/lib/python3.6/dist-packages/scipy/linalg/decomp_cholesky.py\u001b[0m in \u001b[0;36m_cholesky\u001b[0;34m(a, lower, overwrite_a, clean, check_finite)\u001b[0m\n\u001b[1;32m     38\u001b[0m     \u001b[0;32mif\u001b[0m \u001b[0minfo\u001b[0m \u001b[0;34m>\u001b[0m \u001b[0;36m0\u001b[0m\u001b[0;34m:\u001b[0m\u001b[0;34m\u001b[0m\u001b[0;34m\u001b[0m\u001b[0m\n\u001b[1;32m     39\u001b[0m         raise LinAlgError(\"%d-th leading minor of the array is not positive \"\n\u001b[0;32m---> 40\u001b[0;31m                           \"definite\" % info)\n\u001b[0m\u001b[1;32m     41\u001b[0m     \u001b[0;32mif\u001b[0m \u001b[0minfo\u001b[0m \u001b[0;34m<\u001b[0m \u001b[0;36m0\u001b[0m\u001b[0;34m:\u001b[0m\u001b[0;34m\u001b[0m\u001b[0;34m\u001b[0m\u001b[0m\n\u001b[1;32m     42\u001b[0m         raise ValueError('LAPACK reported an illegal value in {}-th argument'\n",
            "\u001b[0;31mLinAlgError\u001b[0m: 3-th leading minor of the array is not positive definite"
          ]
        },
        {
          "output_type": "stream",
          "text": [
            "Exception ignored in: 'pomegranate.distributions.MultivariateGaussianDistribution.MultivariateGaussianDistribution._log_probability_missing'\n",
            "Traceback (most recent call last):\n",
            "  File \"pomegranate/distributions/MultivariateGaussianDistribution.pyx\", line 72, in pomegranate.distributions.MultivariateGaussianDistribution.MultivariateGaussianDistribution.__cinit__\n",
            "  File \"/usr/local/lib/python3.6/dist-packages/scipy/linalg/decomp_cholesky.py\", line 91, in cholesky\n",
            "    check_finite=check_finite)\n",
            "  File \"/usr/local/lib/python3.6/dist-packages/scipy/linalg/decomp_cholesky.py\", line 40, in _cholesky\n",
            "    \"definite\" % info)\n",
            "numpy.linalg.LinAlgError: 3-th leading minor of the array is not positive definite\n"
          ],
          "name": "stderr"
        },
        {
          "output_type": "error",
          "ename": "LinAlgError",
          "evalue": "ignored",
          "traceback": [
            "\u001b[0;31m---------------------------------------------------------------------------\u001b[0m",
            "\u001b[0;31mLinAlgError\u001b[0m                               Traceback (most recent call last)",
            "\u001b[0;32mpomegranate/distributions/MultivariateGaussianDistribution.pyx\u001b[0m in \u001b[0;36mpomegranate.distributions.MultivariateGaussianDistribution.MultivariateGaussianDistribution.__cinit__\u001b[0;34m()\u001b[0m\n",
            "\u001b[0;32m/usr/local/lib/python3.6/dist-packages/scipy/linalg/decomp_cholesky.py\u001b[0m in \u001b[0;36mcholesky\u001b[0;34m(a, lower, overwrite_a, check_finite)\u001b[0m\n\u001b[1;32m     89\u001b[0m     \"\"\"\n\u001b[1;32m     90\u001b[0m     c, lower = _cholesky(a, lower=lower, overwrite_a=overwrite_a, clean=True,\n\u001b[0;32m---> 91\u001b[0;31m                          check_finite=check_finite)\n\u001b[0m\u001b[1;32m     92\u001b[0m     \u001b[0;32mreturn\u001b[0m \u001b[0mc\u001b[0m\u001b[0;34m\u001b[0m\u001b[0;34m\u001b[0m\u001b[0m\n\u001b[1;32m     93\u001b[0m \u001b[0;34m\u001b[0m\u001b[0m\n",
            "\u001b[0;32m/usr/local/lib/python3.6/dist-packages/scipy/linalg/decomp_cholesky.py\u001b[0m in \u001b[0;36m_cholesky\u001b[0;34m(a, lower, overwrite_a, clean, check_finite)\u001b[0m\n\u001b[1;32m     38\u001b[0m     \u001b[0;32mif\u001b[0m \u001b[0minfo\u001b[0m \u001b[0;34m>\u001b[0m \u001b[0;36m0\u001b[0m\u001b[0;34m:\u001b[0m\u001b[0;34m\u001b[0m\u001b[0;34m\u001b[0m\u001b[0m\n\u001b[1;32m     39\u001b[0m         raise LinAlgError(\"%d-th leading minor of the array is not positive \"\n\u001b[0;32m---> 40\u001b[0;31m                           \"definite\" % info)\n\u001b[0m\u001b[1;32m     41\u001b[0m     \u001b[0;32mif\u001b[0m \u001b[0minfo\u001b[0m \u001b[0;34m<\u001b[0m \u001b[0;36m0\u001b[0m\u001b[0;34m:\u001b[0m\u001b[0;34m\u001b[0m\u001b[0;34m\u001b[0m\u001b[0m\n\u001b[1;32m     42\u001b[0m         raise ValueError('LAPACK reported an illegal value in {}-th argument'\n",
            "\u001b[0;31mLinAlgError\u001b[0m: 3-th leading minor of the array is not positive definite"
          ]
        },
        {
          "output_type": "stream",
          "text": [
            "Exception ignored in: 'pomegranate.distributions.MultivariateGaussianDistribution.MultivariateGaussianDistribution._log_probability_missing'\n",
            "Traceback (most recent call last):\n",
            "  File \"pomegranate/distributions/MultivariateGaussianDistribution.pyx\", line 72, in pomegranate.distributions.MultivariateGaussianDistribution.MultivariateGaussianDistribution.__cinit__\n",
            "  File \"/usr/local/lib/python3.6/dist-packages/scipy/linalg/decomp_cholesky.py\", line 91, in cholesky\n",
            "    check_finite=check_finite)\n",
            "  File \"/usr/local/lib/python3.6/dist-packages/scipy/linalg/decomp_cholesky.py\", line 40, in _cholesky\n",
            "    \"definite\" % info)\n",
            "numpy.linalg.LinAlgError: 3-th leading minor of the array is not positive definite\n"
          ],
          "name": "stderr"
        },
        {
          "output_type": "error",
          "ename": "LinAlgError",
          "evalue": "ignored",
          "traceback": [
            "\u001b[0;31m---------------------------------------------------------------------------\u001b[0m",
            "\u001b[0;31mLinAlgError\u001b[0m                               Traceback (most recent call last)",
            "\u001b[0;32mpomegranate/distributions/MultivariateGaussianDistribution.pyx\u001b[0m in \u001b[0;36mpomegranate.distributions.MultivariateGaussianDistribution.MultivariateGaussianDistribution.__cinit__\u001b[0;34m()\u001b[0m\n",
            "\u001b[0;32m/usr/local/lib/python3.6/dist-packages/scipy/linalg/decomp_cholesky.py\u001b[0m in \u001b[0;36mcholesky\u001b[0;34m(a, lower, overwrite_a, check_finite)\u001b[0m\n\u001b[1;32m     89\u001b[0m     \"\"\"\n\u001b[1;32m     90\u001b[0m     c, lower = _cholesky(a, lower=lower, overwrite_a=overwrite_a, clean=True,\n\u001b[0;32m---> 91\u001b[0;31m                          check_finite=check_finite)\n\u001b[0m\u001b[1;32m     92\u001b[0m     \u001b[0;32mreturn\u001b[0m \u001b[0mc\u001b[0m\u001b[0;34m\u001b[0m\u001b[0;34m\u001b[0m\u001b[0m\n\u001b[1;32m     93\u001b[0m \u001b[0;34m\u001b[0m\u001b[0m\n",
            "\u001b[0;32m/usr/local/lib/python3.6/dist-packages/scipy/linalg/decomp_cholesky.py\u001b[0m in \u001b[0;36m_cholesky\u001b[0;34m(a, lower, overwrite_a, clean, check_finite)\u001b[0m\n\u001b[1;32m     38\u001b[0m     \u001b[0;32mif\u001b[0m \u001b[0minfo\u001b[0m \u001b[0;34m>\u001b[0m \u001b[0;36m0\u001b[0m\u001b[0;34m:\u001b[0m\u001b[0;34m\u001b[0m\u001b[0;34m\u001b[0m\u001b[0m\n\u001b[1;32m     39\u001b[0m         raise LinAlgError(\"%d-th leading minor of the array is not positive \"\n\u001b[0;32m---> 40\u001b[0;31m                           \"definite\" % info)\n\u001b[0m\u001b[1;32m     41\u001b[0m     \u001b[0;32mif\u001b[0m \u001b[0minfo\u001b[0m \u001b[0;34m<\u001b[0m \u001b[0;36m0\u001b[0m\u001b[0;34m:\u001b[0m\u001b[0;34m\u001b[0m\u001b[0;34m\u001b[0m\u001b[0m\n\u001b[1;32m     42\u001b[0m         raise ValueError('LAPACK reported an illegal value in {}-th argument'\n",
            "\u001b[0;31mLinAlgError\u001b[0m: 2-th leading minor of the array is not positive definite"
          ]
        },
        {
          "output_type": "stream",
          "text": [
            "Exception ignored in: 'pomegranate.distributions.MultivariateGaussianDistribution.MultivariateGaussianDistribution._log_probability_missing'\n",
            "Traceback (most recent call last):\n",
            "  File \"pomegranate/distributions/MultivariateGaussianDistribution.pyx\", line 72, in pomegranate.distributions.MultivariateGaussianDistribution.MultivariateGaussianDistribution.__cinit__\n",
            "  File \"/usr/local/lib/python3.6/dist-packages/scipy/linalg/decomp_cholesky.py\", line 91, in cholesky\n",
            "    check_finite=check_finite)\n",
            "  File \"/usr/local/lib/python3.6/dist-packages/scipy/linalg/decomp_cholesky.py\", line 40, in _cholesky\n",
            "    \"definite\" % info)\n",
            "numpy.linalg.LinAlgError: 2-th leading minor of the array is not positive definite\n"
          ],
          "name": "stderr"
        },
        {
          "output_type": "error",
          "ename": "LinAlgError",
          "evalue": "ignored",
          "traceback": [
            "\u001b[0;31m---------------------------------------------------------------------------\u001b[0m",
            "\u001b[0;31mLinAlgError\u001b[0m                               Traceback (most recent call last)",
            "\u001b[0;32mpomegranate/distributions/MultivariateGaussianDistribution.pyx\u001b[0m in \u001b[0;36mpomegranate.distributions.MultivariateGaussianDistribution.MultivariateGaussianDistribution.__cinit__\u001b[0;34m()\u001b[0m\n",
            "\u001b[0;32m/usr/local/lib/python3.6/dist-packages/scipy/linalg/decomp_cholesky.py\u001b[0m in \u001b[0;36mcholesky\u001b[0;34m(a, lower, overwrite_a, check_finite)\u001b[0m\n\u001b[1;32m     89\u001b[0m     \"\"\"\n\u001b[1;32m     90\u001b[0m     c, lower = _cholesky(a, lower=lower, overwrite_a=overwrite_a, clean=True,\n\u001b[0;32m---> 91\u001b[0;31m                          check_finite=check_finite)\n\u001b[0m\u001b[1;32m     92\u001b[0m     \u001b[0;32mreturn\u001b[0m \u001b[0mc\u001b[0m\u001b[0;34m\u001b[0m\u001b[0;34m\u001b[0m\u001b[0m\n\u001b[1;32m     93\u001b[0m \u001b[0;34m\u001b[0m\u001b[0m\n",
            "\u001b[0;32m/usr/local/lib/python3.6/dist-packages/scipy/linalg/decomp_cholesky.py\u001b[0m in \u001b[0;36m_cholesky\u001b[0;34m(a, lower, overwrite_a, clean, check_finite)\u001b[0m\n\u001b[1;32m     38\u001b[0m     \u001b[0;32mif\u001b[0m \u001b[0minfo\u001b[0m \u001b[0;34m>\u001b[0m \u001b[0;36m0\u001b[0m\u001b[0;34m:\u001b[0m\u001b[0;34m\u001b[0m\u001b[0;34m\u001b[0m\u001b[0m\n\u001b[1;32m     39\u001b[0m         raise LinAlgError(\"%d-th leading minor of the array is not positive \"\n\u001b[0;32m---> 40\u001b[0;31m                           \"definite\" % info)\n\u001b[0m\u001b[1;32m     41\u001b[0m     \u001b[0;32mif\u001b[0m \u001b[0minfo\u001b[0m \u001b[0;34m<\u001b[0m \u001b[0;36m0\u001b[0m\u001b[0;34m:\u001b[0m\u001b[0;34m\u001b[0m\u001b[0;34m\u001b[0m\u001b[0m\n\u001b[1;32m     42\u001b[0m         raise ValueError('LAPACK reported an illegal value in {}-th argument'\n",
            "\u001b[0;31mLinAlgError\u001b[0m: 4-th leading minor of the array is not positive definite"
          ]
        },
        {
          "output_type": "stream",
          "text": [
            "Exception ignored in: 'pomegranate.distributions.MultivariateGaussianDistribution.MultivariateGaussianDistribution._log_probability_missing'\n",
            "Traceback (most recent call last):\n",
            "  File \"pomegranate/distributions/MultivariateGaussianDistribution.pyx\", line 72, in pomegranate.distributions.MultivariateGaussianDistribution.MultivariateGaussianDistribution.__cinit__\n",
            "  File \"/usr/local/lib/python3.6/dist-packages/scipy/linalg/decomp_cholesky.py\", line 91, in cholesky\n",
            "    check_finite=check_finite)\n",
            "  File \"/usr/local/lib/python3.6/dist-packages/scipy/linalg/decomp_cholesky.py\", line 40, in _cholesky\n",
            "    \"definite\" % info)\n",
            "numpy.linalg.LinAlgError: 4-th leading minor of the array is not positive definite\n"
          ],
          "name": "stderr"
        },
        {
          "output_type": "error",
          "ename": "ValueError",
          "evalue": "ignored",
          "traceback": [
            "\u001b[0;31m---------------------------------------------------------------------------\u001b[0m",
            "\u001b[0;31mValueError\u001b[0m                                Traceback (most recent call last)",
            "\u001b[0;32mpomegranate/distributions/MultivariateGaussianDistribution.pyx\u001b[0m in \u001b[0;36mpomegranate.distributions.MultivariateGaussianDistribution.MultivariateGaussianDistribution.__cinit__\u001b[0;34m()\u001b[0m\n",
            "\u001b[0;31mValueError\u001b[0m: covariance matrix is not invertible."
          ]
        },
        {
          "output_type": "stream",
          "text": [
            "Exception ignored in: 'pomegranate.distributions.MultivariateGaussianDistribution.MultivariateGaussianDistribution._log_probability_missing'\n",
            "Traceback (most recent call last):\n",
            "  File \"pomegranate/distributions/MultivariateGaussianDistribution.pyx\", line 65, in pomegranate.distributions.MultivariateGaussianDistribution.MultivariateGaussianDistribution.__cinit__\n",
            "ValueError: covariance matrix is not invertible.\n"
          ],
          "name": "stderr"
        },
        {
          "output_type": "error",
          "ename": "LinAlgError",
          "evalue": "ignored",
          "traceback": [
            "\u001b[0;31m---------------------------------------------------------------------------\u001b[0m",
            "\u001b[0;31mLinAlgError\u001b[0m                               Traceback (most recent call last)",
            "\u001b[0;32mpomegranate/distributions/MultivariateGaussianDistribution.pyx\u001b[0m in \u001b[0;36mpomegranate.distributions.MultivariateGaussianDistribution.MultivariateGaussianDistribution.__cinit__\u001b[0;34m()\u001b[0m\n",
            "\u001b[0;32m/usr/local/lib/python3.6/dist-packages/scipy/linalg/decomp_cholesky.py\u001b[0m in \u001b[0;36mcholesky\u001b[0;34m(a, lower, overwrite_a, check_finite)\u001b[0m\n\u001b[1;32m     89\u001b[0m     \"\"\"\n\u001b[1;32m     90\u001b[0m     c, lower = _cholesky(a, lower=lower, overwrite_a=overwrite_a, clean=True,\n\u001b[0;32m---> 91\u001b[0;31m                          check_finite=check_finite)\n\u001b[0m\u001b[1;32m     92\u001b[0m     \u001b[0;32mreturn\u001b[0m \u001b[0mc\u001b[0m\u001b[0;34m\u001b[0m\u001b[0;34m\u001b[0m\u001b[0m\n\u001b[1;32m     93\u001b[0m \u001b[0;34m\u001b[0m\u001b[0m\n",
            "\u001b[0;32m/usr/local/lib/python3.6/dist-packages/scipy/linalg/decomp_cholesky.py\u001b[0m in \u001b[0;36m_cholesky\u001b[0;34m(a, lower, overwrite_a, clean, check_finite)\u001b[0m\n\u001b[1;32m     38\u001b[0m     \u001b[0;32mif\u001b[0m \u001b[0minfo\u001b[0m \u001b[0;34m>\u001b[0m \u001b[0;36m0\u001b[0m\u001b[0;34m:\u001b[0m\u001b[0;34m\u001b[0m\u001b[0;34m\u001b[0m\u001b[0m\n\u001b[1;32m     39\u001b[0m         raise LinAlgError(\"%d-th leading minor of the array is not positive \"\n\u001b[0;32m---> 40\u001b[0;31m                           \"definite\" % info)\n\u001b[0m\u001b[1;32m     41\u001b[0m     \u001b[0;32mif\u001b[0m \u001b[0minfo\u001b[0m \u001b[0;34m<\u001b[0m \u001b[0;36m0\u001b[0m\u001b[0;34m:\u001b[0m\u001b[0;34m\u001b[0m\u001b[0;34m\u001b[0m\u001b[0m\n\u001b[1;32m     42\u001b[0m         raise ValueError('LAPACK reported an illegal value in {}-th argument'\n",
            "\u001b[0;31mLinAlgError\u001b[0m: 4-th leading minor of the array is not positive definite"
          ]
        },
        {
          "output_type": "stream",
          "text": [
            "Exception ignored in: 'pomegranate.distributions.MultivariateGaussianDistribution.MultivariateGaussianDistribution._log_probability_missing'\n",
            "Traceback (most recent call last):\n",
            "  File \"pomegranate/distributions/MultivariateGaussianDistribution.pyx\", line 72, in pomegranate.distributions.MultivariateGaussianDistribution.MultivariateGaussianDistribution.__cinit__\n",
            "  File \"/usr/local/lib/python3.6/dist-packages/scipy/linalg/decomp_cholesky.py\", line 91, in cholesky\n",
            "    check_finite=check_finite)\n",
            "  File \"/usr/local/lib/python3.6/dist-packages/scipy/linalg/decomp_cholesky.py\", line 40, in _cholesky\n",
            "    \"definite\" % info)\n",
            "numpy.linalg.LinAlgError: 4-th leading minor of the array is not positive definite\n"
          ],
          "name": "stderr"
        },
        {
          "output_type": "error",
          "ename": "LinAlgError",
          "evalue": "ignored",
          "traceback": [
            "\u001b[0;31m---------------------------------------------------------------------------\u001b[0m",
            "\u001b[0;31mLinAlgError\u001b[0m                               Traceback (most recent call last)",
            "\u001b[0;32mpomegranate/distributions/MultivariateGaussianDistribution.pyx\u001b[0m in \u001b[0;36mpomegranate.distributions.MultivariateGaussianDistribution.MultivariateGaussianDistribution.__cinit__\u001b[0;34m()\u001b[0m\n",
            "\u001b[0;32m/usr/local/lib/python3.6/dist-packages/scipy/linalg/decomp_cholesky.py\u001b[0m in \u001b[0;36mcholesky\u001b[0;34m(a, lower, overwrite_a, check_finite)\u001b[0m\n\u001b[1;32m     89\u001b[0m     \"\"\"\n\u001b[1;32m     90\u001b[0m     c, lower = _cholesky(a, lower=lower, overwrite_a=overwrite_a, clean=True,\n\u001b[0;32m---> 91\u001b[0;31m                          check_finite=check_finite)\n\u001b[0m\u001b[1;32m     92\u001b[0m     \u001b[0;32mreturn\u001b[0m \u001b[0mc\u001b[0m\u001b[0;34m\u001b[0m\u001b[0;34m\u001b[0m\u001b[0m\n\u001b[1;32m     93\u001b[0m \u001b[0;34m\u001b[0m\u001b[0m\n",
            "\u001b[0;32m/usr/local/lib/python3.6/dist-packages/scipy/linalg/decomp_cholesky.py\u001b[0m in \u001b[0;36m_cholesky\u001b[0;34m(a, lower, overwrite_a, clean, check_finite)\u001b[0m\n\u001b[1;32m     38\u001b[0m     \u001b[0;32mif\u001b[0m \u001b[0minfo\u001b[0m \u001b[0;34m>\u001b[0m \u001b[0;36m0\u001b[0m\u001b[0;34m:\u001b[0m\u001b[0;34m\u001b[0m\u001b[0;34m\u001b[0m\u001b[0m\n\u001b[1;32m     39\u001b[0m         raise LinAlgError(\"%d-th leading minor of the array is not positive \"\n\u001b[0;32m---> 40\u001b[0;31m                           \"definite\" % info)\n\u001b[0m\u001b[1;32m     41\u001b[0m     \u001b[0;32mif\u001b[0m \u001b[0minfo\u001b[0m \u001b[0;34m<\u001b[0m \u001b[0;36m0\u001b[0m\u001b[0;34m:\u001b[0m\u001b[0;34m\u001b[0m\u001b[0;34m\u001b[0m\u001b[0m\n\u001b[1;32m     42\u001b[0m         raise ValueError('LAPACK reported an illegal value in {}-th argument'\n",
            "\u001b[0;31mLinAlgError\u001b[0m: 4-th leading minor of the array is not positive definite"
          ]
        },
        {
          "output_type": "stream",
          "text": [
            "Exception ignored in: 'pomegranate.distributions.MultivariateGaussianDistribution.MultivariateGaussianDistribution._log_probability_missing'\n",
            "Traceback (most recent call last):\n",
            "  File \"pomegranate/distributions/MultivariateGaussianDistribution.pyx\", line 72, in pomegranate.distributions.MultivariateGaussianDistribution.MultivariateGaussianDistribution.__cinit__\n",
            "  File \"/usr/local/lib/python3.6/dist-packages/scipy/linalg/decomp_cholesky.py\", line 91, in cholesky\n",
            "    check_finite=check_finite)\n",
            "  File \"/usr/local/lib/python3.6/dist-packages/scipy/linalg/decomp_cholesky.py\", line 40, in _cholesky\n",
            "    \"definite\" % info)\n",
            "numpy.linalg.LinAlgError: 4-th leading minor of the array is not positive definite\n"
          ],
          "name": "stderr"
        },
        {
          "output_type": "error",
          "ename": "LinAlgError",
          "evalue": "ignored",
          "traceback": [
            "\u001b[0;31m---------------------------------------------------------------------------\u001b[0m",
            "\u001b[0;31mLinAlgError\u001b[0m                               Traceback (most recent call last)",
            "\u001b[0;32mpomegranate/distributions/MultivariateGaussianDistribution.pyx\u001b[0m in \u001b[0;36mpomegranate.distributions.MultivariateGaussianDistribution.MultivariateGaussianDistribution.__cinit__\u001b[0;34m()\u001b[0m\n",
            "\u001b[0;32m/usr/local/lib/python3.6/dist-packages/scipy/linalg/decomp_cholesky.py\u001b[0m in \u001b[0;36mcholesky\u001b[0;34m(a, lower, overwrite_a, check_finite)\u001b[0m\n\u001b[1;32m     89\u001b[0m     \"\"\"\n\u001b[1;32m     90\u001b[0m     c, lower = _cholesky(a, lower=lower, overwrite_a=overwrite_a, clean=True,\n\u001b[0;32m---> 91\u001b[0;31m                          check_finite=check_finite)\n\u001b[0m\u001b[1;32m     92\u001b[0m     \u001b[0;32mreturn\u001b[0m \u001b[0mc\u001b[0m\u001b[0;34m\u001b[0m\u001b[0;34m\u001b[0m\u001b[0m\n\u001b[1;32m     93\u001b[0m \u001b[0;34m\u001b[0m\u001b[0m\n",
            "\u001b[0;32m/usr/local/lib/python3.6/dist-packages/scipy/linalg/decomp_cholesky.py\u001b[0m in \u001b[0;36m_cholesky\u001b[0;34m(a, lower, overwrite_a, clean, check_finite)\u001b[0m\n\u001b[1;32m     38\u001b[0m     \u001b[0;32mif\u001b[0m \u001b[0minfo\u001b[0m \u001b[0;34m>\u001b[0m \u001b[0;36m0\u001b[0m\u001b[0;34m:\u001b[0m\u001b[0;34m\u001b[0m\u001b[0;34m\u001b[0m\u001b[0m\n\u001b[1;32m     39\u001b[0m         raise LinAlgError(\"%d-th leading minor of the array is not positive \"\n\u001b[0;32m---> 40\u001b[0;31m                           \"definite\" % info)\n\u001b[0m\u001b[1;32m     41\u001b[0m     \u001b[0;32mif\u001b[0m \u001b[0minfo\u001b[0m \u001b[0;34m<\u001b[0m \u001b[0;36m0\u001b[0m\u001b[0;34m:\u001b[0m\u001b[0;34m\u001b[0m\u001b[0;34m\u001b[0m\u001b[0m\n\u001b[1;32m     42\u001b[0m         raise ValueError('LAPACK reported an illegal value in {}-th argument'\n",
            "\u001b[0;31mLinAlgError\u001b[0m: 6-th leading minor of the array is not positive definite"
          ]
        },
        {
          "output_type": "stream",
          "text": [
            "Exception ignored in: 'pomegranate.distributions.MultivariateGaussianDistribution.MultivariateGaussianDistribution._log_probability_missing'\n",
            "Traceback (most recent call last):\n",
            "  File \"pomegranate/distributions/MultivariateGaussianDistribution.pyx\", line 72, in pomegranate.distributions.MultivariateGaussianDistribution.MultivariateGaussianDistribution.__cinit__\n",
            "  File \"/usr/local/lib/python3.6/dist-packages/scipy/linalg/decomp_cholesky.py\", line 91, in cholesky\n",
            "    check_finite=check_finite)\n",
            "  File \"/usr/local/lib/python3.6/dist-packages/scipy/linalg/decomp_cholesky.py\", line 40, in _cholesky\n",
            "    \"definite\" % info)\n",
            "numpy.linalg.LinAlgError: 6-th leading minor of the array is not positive definite\n"
          ],
          "name": "stderr"
        },
        {
          "output_type": "error",
          "ename": "LinAlgError",
          "evalue": "ignored",
          "traceback": [
            "\u001b[0;31m---------------------------------------------------------------------------\u001b[0m",
            "\u001b[0;31mLinAlgError\u001b[0m                               Traceback (most recent call last)",
            "\u001b[0;32mpomegranate/distributions/MultivariateGaussianDistribution.pyx\u001b[0m in \u001b[0;36mpomegranate.distributions.MultivariateGaussianDistribution.MultivariateGaussianDistribution.__cinit__\u001b[0;34m()\u001b[0m\n",
            "\u001b[0;32m/usr/local/lib/python3.6/dist-packages/scipy/linalg/decomp_cholesky.py\u001b[0m in \u001b[0;36mcholesky\u001b[0;34m(a, lower, overwrite_a, check_finite)\u001b[0m\n\u001b[1;32m     89\u001b[0m     \"\"\"\n\u001b[1;32m     90\u001b[0m     c, lower = _cholesky(a, lower=lower, overwrite_a=overwrite_a, clean=True,\n\u001b[0;32m---> 91\u001b[0;31m                          check_finite=check_finite)\n\u001b[0m\u001b[1;32m     92\u001b[0m     \u001b[0;32mreturn\u001b[0m \u001b[0mc\u001b[0m\u001b[0;34m\u001b[0m\u001b[0;34m\u001b[0m\u001b[0m\n\u001b[1;32m     93\u001b[0m \u001b[0;34m\u001b[0m\u001b[0m\n",
            "\u001b[0;32m/usr/local/lib/python3.6/dist-packages/scipy/linalg/decomp_cholesky.py\u001b[0m in \u001b[0;36m_cholesky\u001b[0;34m(a, lower, overwrite_a, clean, check_finite)\u001b[0m\n\u001b[1;32m     38\u001b[0m     \u001b[0;32mif\u001b[0m \u001b[0minfo\u001b[0m \u001b[0;34m>\u001b[0m \u001b[0;36m0\u001b[0m\u001b[0;34m:\u001b[0m\u001b[0;34m\u001b[0m\u001b[0;34m\u001b[0m\u001b[0m\n\u001b[1;32m     39\u001b[0m         raise LinAlgError(\"%d-th leading minor of the array is not positive \"\n\u001b[0;32m---> 40\u001b[0;31m                           \"definite\" % info)\n\u001b[0m\u001b[1;32m     41\u001b[0m     \u001b[0;32mif\u001b[0m \u001b[0minfo\u001b[0m \u001b[0;34m<\u001b[0m \u001b[0;36m0\u001b[0m\u001b[0;34m:\u001b[0m\u001b[0;34m\u001b[0m\u001b[0;34m\u001b[0m\u001b[0m\n\u001b[1;32m     42\u001b[0m         raise ValueError('LAPACK reported an illegal value in {}-th argument'\n",
            "\u001b[0;31mLinAlgError\u001b[0m: 4-th leading minor of the array is not positive definite"
          ]
        },
        {
          "output_type": "stream",
          "text": [
            "Exception ignored in: 'pomegranate.distributions.MultivariateGaussianDistribution.MultivariateGaussianDistribution._log_probability_missing'\n",
            "Traceback (most recent call last):\n",
            "  File \"pomegranate/distributions/MultivariateGaussianDistribution.pyx\", line 72, in pomegranate.distributions.MultivariateGaussianDistribution.MultivariateGaussianDistribution.__cinit__\n",
            "  File \"/usr/local/lib/python3.6/dist-packages/scipy/linalg/decomp_cholesky.py\", line 91, in cholesky\n",
            "    check_finite=check_finite)\n",
            "  File \"/usr/local/lib/python3.6/dist-packages/scipy/linalg/decomp_cholesky.py\", line 40, in _cholesky\n",
            "    \"definite\" % info)\n",
            "numpy.linalg.LinAlgError: 4-th leading minor of the array is not positive definite\n"
          ],
          "name": "stderr"
        },
        {
          "output_type": "error",
          "ename": "LinAlgError",
          "evalue": "ignored",
          "traceback": [
            "\u001b[0;31m---------------------------------------------------------------------------\u001b[0m",
            "\u001b[0;31mLinAlgError\u001b[0m                               Traceback (most recent call last)",
            "\u001b[0;32mpomegranate/distributions/MultivariateGaussianDistribution.pyx\u001b[0m in \u001b[0;36mpomegranate.distributions.MultivariateGaussianDistribution.MultivariateGaussianDistribution.__cinit__\u001b[0;34m()\u001b[0m\n",
            "\u001b[0;32m/usr/local/lib/python3.6/dist-packages/scipy/linalg/decomp_cholesky.py\u001b[0m in \u001b[0;36mcholesky\u001b[0;34m(a, lower, overwrite_a, check_finite)\u001b[0m\n\u001b[1;32m     89\u001b[0m     \"\"\"\n\u001b[1;32m     90\u001b[0m     c, lower = _cholesky(a, lower=lower, overwrite_a=overwrite_a, clean=True,\n\u001b[0;32m---> 91\u001b[0;31m                          check_finite=check_finite)\n\u001b[0m\u001b[1;32m     92\u001b[0m     \u001b[0;32mreturn\u001b[0m \u001b[0mc\u001b[0m\u001b[0;34m\u001b[0m\u001b[0;34m\u001b[0m\u001b[0m\n\u001b[1;32m     93\u001b[0m \u001b[0;34m\u001b[0m\u001b[0m\n",
            "\u001b[0;32m/usr/local/lib/python3.6/dist-packages/scipy/linalg/decomp_cholesky.py\u001b[0m in \u001b[0;36m_cholesky\u001b[0;34m(a, lower, overwrite_a, clean, check_finite)\u001b[0m\n\u001b[1;32m     38\u001b[0m     \u001b[0;32mif\u001b[0m \u001b[0minfo\u001b[0m \u001b[0;34m>\u001b[0m \u001b[0;36m0\u001b[0m\u001b[0;34m:\u001b[0m\u001b[0;34m\u001b[0m\u001b[0;34m\u001b[0m\u001b[0m\n\u001b[1;32m     39\u001b[0m         raise LinAlgError(\"%d-th leading minor of the array is not positive \"\n\u001b[0;32m---> 40\u001b[0;31m                           \"definite\" % info)\n\u001b[0m\u001b[1;32m     41\u001b[0m     \u001b[0;32mif\u001b[0m \u001b[0minfo\u001b[0m \u001b[0;34m<\u001b[0m \u001b[0;36m0\u001b[0m\u001b[0;34m:\u001b[0m\u001b[0;34m\u001b[0m\u001b[0;34m\u001b[0m\u001b[0m\n\u001b[1;32m     42\u001b[0m         raise ValueError('LAPACK reported an illegal value in {}-th argument'\n",
            "\u001b[0;31mLinAlgError\u001b[0m: 4-th leading minor of the array is not positive definite"
          ]
        },
        {
          "output_type": "stream",
          "text": [
            "Exception ignored in: 'pomegranate.distributions.MultivariateGaussianDistribution.MultivariateGaussianDistribution._log_probability_missing'\n",
            "Traceback (most recent call last):\n",
            "  File \"pomegranate/distributions/MultivariateGaussianDistribution.pyx\", line 72, in pomegranate.distributions.MultivariateGaussianDistribution.MultivariateGaussianDistribution.__cinit__\n",
            "  File \"/usr/local/lib/python3.6/dist-packages/scipy/linalg/decomp_cholesky.py\", line 91, in cholesky\n",
            "    check_finite=check_finite)\n",
            "  File \"/usr/local/lib/python3.6/dist-packages/scipy/linalg/decomp_cholesky.py\", line 40, in _cholesky\n",
            "    \"definite\" % info)\n",
            "numpy.linalg.LinAlgError: 4-th leading minor of the array is not positive definite\n"
          ],
          "name": "stderr"
        },
        {
          "output_type": "error",
          "ename": "LinAlgError",
          "evalue": "ignored",
          "traceback": [
            "\u001b[0;31m---------------------------------------------------------------------------\u001b[0m",
            "\u001b[0;31mLinAlgError\u001b[0m                               Traceback (most recent call last)",
            "\u001b[0;32mpomegranate/distributions/MultivariateGaussianDistribution.pyx\u001b[0m in \u001b[0;36mpomegranate.distributions.MultivariateGaussianDistribution.MultivariateGaussianDistribution.__cinit__\u001b[0;34m()\u001b[0m\n",
            "\u001b[0;32m/usr/local/lib/python3.6/dist-packages/scipy/linalg/decomp_cholesky.py\u001b[0m in \u001b[0;36mcholesky\u001b[0;34m(a, lower, overwrite_a, check_finite)\u001b[0m\n\u001b[1;32m     89\u001b[0m     \"\"\"\n\u001b[1;32m     90\u001b[0m     c, lower = _cholesky(a, lower=lower, overwrite_a=overwrite_a, clean=True,\n\u001b[0;32m---> 91\u001b[0;31m                          check_finite=check_finite)\n\u001b[0m\u001b[1;32m     92\u001b[0m     \u001b[0;32mreturn\u001b[0m \u001b[0mc\u001b[0m\u001b[0;34m\u001b[0m\u001b[0;34m\u001b[0m\u001b[0m\n\u001b[1;32m     93\u001b[0m \u001b[0;34m\u001b[0m\u001b[0m\n",
            "\u001b[0;32m/usr/local/lib/python3.6/dist-packages/scipy/linalg/decomp_cholesky.py\u001b[0m in \u001b[0;36m_cholesky\u001b[0;34m(a, lower, overwrite_a, clean, check_finite)\u001b[0m\n\u001b[1;32m     38\u001b[0m     \u001b[0;32mif\u001b[0m \u001b[0minfo\u001b[0m \u001b[0;34m>\u001b[0m \u001b[0;36m0\u001b[0m\u001b[0;34m:\u001b[0m\u001b[0;34m\u001b[0m\u001b[0;34m\u001b[0m\u001b[0m\n\u001b[1;32m     39\u001b[0m         raise LinAlgError(\"%d-th leading minor of the array is not positive \"\n\u001b[0;32m---> 40\u001b[0;31m                           \"definite\" % info)\n\u001b[0m\u001b[1;32m     41\u001b[0m     \u001b[0;32mif\u001b[0m \u001b[0minfo\u001b[0m \u001b[0;34m<\u001b[0m \u001b[0;36m0\u001b[0m\u001b[0;34m:\u001b[0m\u001b[0;34m\u001b[0m\u001b[0;34m\u001b[0m\u001b[0m\n\u001b[1;32m     42\u001b[0m         raise ValueError('LAPACK reported an illegal value in {}-th argument'\n",
            "\u001b[0;31mLinAlgError\u001b[0m: 2-th leading minor of the array is not positive definite"
          ]
        },
        {
          "output_type": "stream",
          "text": [
            "Exception ignored in: 'pomegranate.distributions.MultivariateGaussianDistribution.MultivariateGaussianDistribution._log_probability_missing'\n",
            "Traceback (most recent call last):\n",
            "  File \"pomegranate/distributions/MultivariateGaussianDistribution.pyx\", line 72, in pomegranate.distributions.MultivariateGaussianDistribution.MultivariateGaussianDistribution.__cinit__\n",
            "  File \"/usr/local/lib/python3.6/dist-packages/scipy/linalg/decomp_cholesky.py\", line 91, in cholesky\n",
            "    check_finite=check_finite)\n",
            "  File \"/usr/local/lib/python3.6/dist-packages/scipy/linalg/decomp_cholesky.py\", line 40, in _cholesky\n",
            "    \"definite\" % info)\n",
            "numpy.linalg.LinAlgError: 2-th leading minor of the array is not positive definite\n"
          ],
          "name": "stderr"
        },
        {
          "output_type": "error",
          "ename": "LinAlgError",
          "evalue": "ignored",
          "traceback": [
            "\u001b[0;31m---------------------------------------------------------------------------\u001b[0m",
            "\u001b[0;31mLinAlgError\u001b[0m                               Traceback (most recent call last)",
            "\u001b[0;32mpomegranate/distributions/MultivariateGaussianDistribution.pyx\u001b[0m in \u001b[0;36mpomegranate.distributions.MultivariateGaussianDistribution.MultivariateGaussianDistribution.__cinit__\u001b[0;34m()\u001b[0m\n",
            "\u001b[0;32m/usr/local/lib/python3.6/dist-packages/scipy/linalg/decomp_cholesky.py\u001b[0m in \u001b[0;36mcholesky\u001b[0;34m(a, lower, overwrite_a, check_finite)\u001b[0m\n\u001b[1;32m     89\u001b[0m     \"\"\"\n\u001b[1;32m     90\u001b[0m     c, lower = _cholesky(a, lower=lower, overwrite_a=overwrite_a, clean=True,\n\u001b[0;32m---> 91\u001b[0;31m                          check_finite=check_finite)\n\u001b[0m\u001b[1;32m     92\u001b[0m     \u001b[0;32mreturn\u001b[0m \u001b[0mc\u001b[0m\u001b[0;34m\u001b[0m\u001b[0;34m\u001b[0m\u001b[0m\n\u001b[1;32m     93\u001b[0m \u001b[0;34m\u001b[0m\u001b[0m\n",
            "\u001b[0;32m/usr/local/lib/python3.6/dist-packages/scipy/linalg/decomp_cholesky.py\u001b[0m in \u001b[0;36m_cholesky\u001b[0;34m(a, lower, overwrite_a, clean, check_finite)\u001b[0m\n\u001b[1;32m     38\u001b[0m     \u001b[0;32mif\u001b[0m \u001b[0minfo\u001b[0m \u001b[0;34m>\u001b[0m \u001b[0;36m0\u001b[0m\u001b[0;34m:\u001b[0m\u001b[0;34m\u001b[0m\u001b[0;34m\u001b[0m\u001b[0m\n\u001b[1;32m     39\u001b[0m         raise LinAlgError(\"%d-th leading minor of the array is not positive \"\n\u001b[0;32m---> 40\u001b[0;31m                           \"definite\" % info)\n\u001b[0m\u001b[1;32m     41\u001b[0m     \u001b[0;32mif\u001b[0m \u001b[0minfo\u001b[0m \u001b[0;34m<\u001b[0m \u001b[0;36m0\u001b[0m\u001b[0;34m:\u001b[0m\u001b[0;34m\u001b[0m\u001b[0;34m\u001b[0m\u001b[0m\n\u001b[1;32m     42\u001b[0m         raise ValueError('LAPACK reported an illegal value in {}-th argument'\n",
            "\u001b[0;31mLinAlgError\u001b[0m: 5-th leading minor of the array is not positive definite"
          ]
        },
        {
          "output_type": "stream",
          "text": [
            "Exception ignored in: 'pomegranate.distributions.MultivariateGaussianDistribution.MultivariateGaussianDistribution._log_probability_missing'\n",
            "Traceback (most recent call last):\n",
            "  File \"pomegranate/distributions/MultivariateGaussianDistribution.pyx\", line 72, in pomegranate.distributions.MultivariateGaussianDistribution.MultivariateGaussianDistribution.__cinit__\n",
            "  File \"/usr/local/lib/python3.6/dist-packages/scipy/linalg/decomp_cholesky.py\", line 91, in cholesky\n",
            "    check_finite=check_finite)\n",
            "  File \"/usr/local/lib/python3.6/dist-packages/scipy/linalg/decomp_cholesky.py\", line 40, in _cholesky\n",
            "    \"definite\" % info)\n",
            "numpy.linalg.LinAlgError: 5-th leading minor of the array is not positive definite\n"
          ],
          "name": "stderr"
        },
        {
          "output_type": "error",
          "ename": "LinAlgError",
          "evalue": "ignored",
          "traceback": [
            "\u001b[0;31m---------------------------------------------------------------------------\u001b[0m",
            "\u001b[0;31mLinAlgError\u001b[0m                               Traceback (most recent call last)",
            "\u001b[0;32mpomegranate/distributions/MultivariateGaussianDistribution.pyx\u001b[0m in \u001b[0;36mpomegranate.distributions.MultivariateGaussianDistribution.MultivariateGaussianDistribution.__cinit__\u001b[0;34m()\u001b[0m\n",
            "\u001b[0;32m/usr/local/lib/python3.6/dist-packages/scipy/linalg/decomp_cholesky.py\u001b[0m in \u001b[0;36mcholesky\u001b[0;34m(a, lower, overwrite_a, check_finite)\u001b[0m\n\u001b[1;32m     89\u001b[0m     \"\"\"\n\u001b[1;32m     90\u001b[0m     c, lower = _cholesky(a, lower=lower, overwrite_a=overwrite_a, clean=True,\n\u001b[0;32m---> 91\u001b[0;31m                          check_finite=check_finite)\n\u001b[0m\u001b[1;32m     92\u001b[0m     \u001b[0;32mreturn\u001b[0m \u001b[0mc\u001b[0m\u001b[0;34m\u001b[0m\u001b[0;34m\u001b[0m\u001b[0m\n\u001b[1;32m     93\u001b[0m \u001b[0;34m\u001b[0m\u001b[0m\n",
            "\u001b[0;32m/usr/local/lib/python3.6/dist-packages/scipy/linalg/decomp_cholesky.py\u001b[0m in \u001b[0;36m_cholesky\u001b[0;34m(a, lower, overwrite_a, clean, check_finite)\u001b[0m\n\u001b[1;32m     38\u001b[0m     \u001b[0;32mif\u001b[0m \u001b[0minfo\u001b[0m \u001b[0;34m>\u001b[0m \u001b[0;36m0\u001b[0m\u001b[0;34m:\u001b[0m\u001b[0;34m\u001b[0m\u001b[0;34m\u001b[0m\u001b[0m\n\u001b[1;32m     39\u001b[0m         raise LinAlgError(\"%d-th leading minor of the array is not positive \"\n\u001b[0;32m---> 40\u001b[0;31m                           \"definite\" % info)\n\u001b[0m\u001b[1;32m     41\u001b[0m     \u001b[0;32mif\u001b[0m \u001b[0minfo\u001b[0m \u001b[0;34m<\u001b[0m \u001b[0;36m0\u001b[0m\u001b[0;34m:\u001b[0m\u001b[0;34m\u001b[0m\u001b[0;34m\u001b[0m\u001b[0m\n\u001b[1;32m     42\u001b[0m         raise ValueError('LAPACK reported an illegal value in {}-th argument'\n",
            "\u001b[0;31mLinAlgError\u001b[0m: 5-th leading minor of the array is not positive definite"
          ]
        },
        {
          "output_type": "stream",
          "text": [
            "Exception ignored in: 'pomegranate.distributions.MultivariateGaussianDistribution.MultivariateGaussianDistribution._log_probability_missing'\n",
            "Traceback (most recent call last):\n",
            "  File \"pomegranate/distributions/MultivariateGaussianDistribution.pyx\", line 72, in pomegranate.distributions.MultivariateGaussianDistribution.MultivariateGaussianDistribution.__cinit__\n",
            "  File \"/usr/local/lib/python3.6/dist-packages/scipy/linalg/decomp_cholesky.py\", line 91, in cholesky\n",
            "    check_finite=check_finite)\n",
            "  File \"/usr/local/lib/python3.6/dist-packages/scipy/linalg/decomp_cholesky.py\", line 40, in _cholesky\n",
            "    \"definite\" % info)\n",
            "numpy.linalg.LinAlgError: 5-th leading minor of the array is not positive definite\n"
          ],
          "name": "stderr"
        },
        {
          "output_type": "error",
          "ename": "LinAlgError",
          "evalue": "ignored",
          "traceback": [
            "\u001b[0;31m---------------------------------------------------------------------------\u001b[0m",
            "\u001b[0;31mLinAlgError\u001b[0m                               Traceback (most recent call last)",
            "\u001b[0;32mpomegranate/distributions/MultivariateGaussianDistribution.pyx\u001b[0m in \u001b[0;36mpomegranate.distributions.MultivariateGaussianDistribution.MultivariateGaussianDistribution.__cinit__\u001b[0;34m()\u001b[0m\n",
            "\u001b[0;32m/usr/local/lib/python3.6/dist-packages/scipy/linalg/decomp_cholesky.py\u001b[0m in \u001b[0;36mcholesky\u001b[0;34m(a, lower, overwrite_a, check_finite)\u001b[0m\n\u001b[1;32m     89\u001b[0m     \"\"\"\n\u001b[1;32m     90\u001b[0m     c, lower = _cholesky(a, lower=lower, overwrite_a=overwrite_a, clean=True,\n\u001b[0;32m---> 91\u001b[0;31m                          check_finite=check_finite)\n\u001b[0m\u001b[1;32m     92\u001b[0m     \u001b[0;32mreturn\u001b[0m \u001b[0mc\u001b[0m\u001b[0;34m\u001b[0m\u001b[0;34m\u001b[0m\u001b[0m\n\u001b[1;32m     93\u001b[0m \u001b[0;34m\u001b[0m\u001b[0m\n",
            "\u001b[0;32m/usr/local/lib/python3.6/dist-packages/scipy/linalg/decomp_cholesky.py\u001b[0m in \u001b[0;36m_cholesky\u001b[0;34m(a, lower, overwrite_a, clean, check_finite)\u001b[0m\n\u001b[1;32m     38\u001b[0m     \u001b[0;32mif\u001b[0m \u001b[0minfo\u001b[0m \u001b[0;34m>\u001b[0m \u001b[0;36m0\u001b[0m\u001b[0;34m:\u001b[0m\u001b[0;34m\u001b[0m\u001b[0;34m\u001b[0m\u001b[0m\n\u001b[1;32m     39\u001b[0m         raise LinAlgError(\"%d-th leading minor of the array is not positive \"\n\u001b[0;32m---> 40\u001b[0;31m                           \"definite\" % info)\n\u001b[0m\u001b[1;32m     41\u001b[0m     \u001b[0;32mif\u001b[0m \u001b[0minfo\u001b[0m \u001b[0;34m<\u001b[0m \u001b[0;36m0\u001b[0m\u001b[0;34m:\u001b[0m\u001b[0;34m\u001b[0m\u001b[0;34m\u001b[0m\u001b[0m\n\u001b[1;32m     42\u001b[0m         raise ValueError('LAPACK reported an illegal value in {}-th argument'\n",
            "\u001b[0;31mLinAlgError\u001b[0m: 4-th leading minor of the array is not positive definite"
          ]
        },
        {
          "output_type": "stream",
          "text": [
            "Exception ignored in: 'pomegranate.distributions.MultivariateGaussianDistribution.MultivariateGaussianDistribution._log_probability_missing'\n",
            "Traceback (most recent call last):\n",
            "  File \"pomegranate/distributions/MultivariateGaussianDistribution.pyx\", line 72, in pomegranate.distributions.MultivariateGaussianDistribution.MultivariateGaussianDistribution.__cinit__\n",
            "  File \"/usr/local/lib/python3.6/dist-packages/scipy/linalg/decomp_cholesky.py\", line 91, in cholesky\n",
            "    check_finite=check_finite)\n",
            "  File \"/usr/local/lib/python3.6/dist-packages/scipy/linalg/decomp_cholesky.py\", line 40, in _cholesky\n",
            "    \"definite\" % info)\n",
            "numpy.linalg.LinAlgError: 4-th leading minor of the array is not positive definite\n"
          ],
          "name": "stderr"
        },
        {
          "output_type": "error",
          "ename": "LinAlgError",
          "evalue": "ignored",
          "traceback": [
            "\u001b[0;31m---------------------------------------------------------------------------\u001b[0m",
            "\u001b[0;31mLinAlgError\u001b[0m                               Traceback (most recent call last)",
            "\u001b[0;32mpomegranate/distributions/MultivariateGaussianDistribution.pyx\u001b[0m in \u001b[0;36mpomegranate.distributions.MultivariateGaussianDistribution.MultivariateGaussianDistribution.__cinit__\u001b[0;34m()\u001b[0m\n",
            "\u001b[0;32m/usr/local/lib/python3.6/dist-packages/scipy/linalg/decomp_cholesky.py\u001b[0m in \u001b[0;36mcholesky\u001b[0;34m(a, lower, overwrite_a, check_finite)\u001b[0m\n\u001b[1;32m     89\u001b[0m     \"\"\"\n\u001b[1;32m     90\u001b[0m     c, lower = _cholesky(a, lower=lower, overwrite_a=overwrite_a, clean=True,\n\u001b[0;32m---> 91\u001b[0;31m                          check_finite=check_finite)\n\u001b[0m\u001b[1;32m     92\u001b[0m     \u001b[0;32mreturn\u001b[0m \u001b[0mc\u001b[0m\u001b[0;34m\u001b[0m\u001b[0;34m\u001b[0m\u001b[0m\n\u001b[1;32m     93\u001b[0m \u001b[0;34m\u001b[0m\u001b[0m\n",
            "\u001b[0;32m/usr/local/lib/python3.6/dist-packages/scipy/linalg/decomp_cholesky.py\u001b[0m in \u001b[0;36m_cholesky\u001b[0;34m(a, lower, overwrite_a, clean, check_finite)\u001b[0m\n\u001b[1;32m     38\u001b[0m     \u001b[0;32mif\u001b[0m \u001b[0minfo\u001b[0m \u001b[0;34m>\u001b[0m \u001b[0;36m0\u001b[0m\u001b[0;34m:\u001b[0m\u001b[0;34m\u001b[0m\u001b[0;34m\u001b[0m\u001b[0m\n\u001b[1;32m     39\u001b[0m         raise LinAlgError(\"%d-th leading minor of the array is not positive \"\n\u001b[0;32m---> 40\u001b[0;31m                           \"definite\" % info)\n\u001b[0m\u001b[1;32m     41\u001b[0m     \u001b[0;32mif\u001b[0m \u001b[0minfo\u001b[0m \u001b[0;34m<\u001b[0m \u001b[0;36m0\u001b[0m\u001b[0;34m:\u001b[0m\u001b[0;34m\u001b[0m\u001b[0;34m\u001b[0m\u001b[0m\n\u001b[1;32m     42\u001b[0m         raise ValueError('LAPACK reported an illegal value in {}-th argument'\n",
            "\u001b[0;31mLinAlgError\u001b[0m: 4-th leading minor of the array is not positive definite"
          ]
        },
        {
          "output_type": "stream",
          "text": [
            "Exception ignored in: 'pomegranate.distributions.MultivariateGaussianDistribution.MultivariateGaussianDistribution._log_probability_missing'\n",
            "Traceback (most recent call last):\n",
            "  File \"pomegranate/distributions/MultivariateGaussianDistribution.pyx\", line 72, in pomegranate.distributions.MultivariateGaussianDistribution.MultivariateGaussianDistribution.__cinit__\n",
            "  File \"/usr/local/lib/python3.6/dist-packages/scipy/linalg/decomp_cholesky.py\", line 91, in cholesky\n",
            "    check_finite=check_finite)\n",
            "  File \"/usr/local/lib/python3.6/dist-packages/scipy/linalg/decomp_cholesky.py\", line 40, in _cholesky\n",
            "    \"definite\" % info)\n",
            "numpy.linalg.LinAlgError: 4-th leading minor of the array is not positive definite\n"
          ],
          "name": "stderr"
        },
        {
          "output_type": "error",
          "ename": "LinAlgError",
          "evalue": "ignored",
          "traceback": [
            "\u001b[0;31m---------------------------------------------------------------------------\u001b[0m",
            "\u001b[0;31mLinAlgError\u001b[0m                               Traceback (most recent call last)",
            "\u001b[0;32mpomegranate/distributions/MultivariateGaussianDistribution.pyx\u001b[0m in \u001b[0;36mpomegranate.distributions.MultivariateGaussianDistribution.MultivariateGaussianDistribution.__cinit__\u001b[0;34m()\u001b[0m\n",
            "\u001b[0;32m/usr/local/lib/python3.6/dist-packages/scipy/linalg/decomp_cholesky.py\u001b[0m in \u001b[0;36mcholesky\u001b[0;34m(a, lower, overwrite_a, check_finite)\u001b[0m\n\u001b[1;32m     89\u001b[0m     \"\"\"\n\u001b[1;32m     90\u001b[0m     c, lower = _cholesky(a, lower=lower, overwrite_a=overwrite_a, clean=True,\n\u001b[0;32m---> 91\u001b[0;31m                          check_finite=check_finite)\n\u001b[0m\u001b[1;32m     92\u001b[0m     \u001b[0;32mreturn\u001b[0m \u001b[0mc\u001b[0m\u001b[0;34m\u001b[0m\u001b[0;34m\u001b[0m\u001b[0m\n\u001b[1;32m     93\u001b[0m \u001b[0;34m\u001b[0m\u001b[0m\n",
            "\u001b[0;32m/usr/local/lib/python3.6/dist-packages/scipy/linalg/decomp_cholesky.py\u001b[0m in \u001b[0;36m_cholesky\u001b[0;34m(a, lower, overwrite_a, clean, check_finite)\u001b[0m\n\u001b[1;32m     38\u001b[0m     \u001b[0;32mif\u001b[0m \u001b[0minfo\u001b[0m \u001b[0;34m>\u001b[0m \u001b[0;36m0\u001b[0m\u001b[0;34m:\u001b[0m\u001b[0;34m\u001b[0m\u001b[0;34m\u001b[0m\u001b[0m\n\u001b[1;32m     39\u001b[0m         raise LinAlgError(\"%d-th leading minor of the array is not positive \"\n\u001b[0;32m---> 40\u001b[0;31m                           \"definite\" % info)\n\u001b[0m\u001b[1;32m     41\u001b[0m     \u001b[0;32mif\u001b[0m \u001b[0minfo\u001b[0m \u001b[0;34m<\u001b[0m \u001b[0;36m0\u001b[0m\u001b[0;34m:\u001b[0m\u001b[0;34m\u001b[0m\u001b[0;34m\u001b[0m\u001b[0m\n\u001b[1;32m     42\u001b[0m         raise ValueError('LAPACK reported an illegal value in {}-th argument'\n",
            "\u001b[0;31mLinAlgError\u001b[0m: 4-th leading minor of the array is not positive definite"
          ]
        },
        {
          "output_type": "stream",
          "text": [
            "Exception ignored in: 'pomegranate.distributions.MultivariateGaussianDistribution.MultivariateGaussianDistribution._log_probability_missing'\n",
            "Traceback (most recent call last):\n",
            "  File \"pomegranate/distributions/MultivariateGaussianDistribution.pyx\", line 72, in pomegranate.distributions.MultivariateGaussianDistribution.MultivariateGaussianDistribution.__cinit__\n",
            "  File \"/usr/local/lib/python3.6/dist-packages/scipy/linalg/decomp_cholesky.py\", line 91, in cholesky\n",
            "    check_finite=check_finite)\n",
            "  File \"/usr/local/lib/python3.6/dist-packages/scipy/linalg/decomp_cholesky.py\", line 40, in _cholesky\n",
            "    \"definite\" % info)\n",
            "numpy.linalg.LinAlgError: 4-th leading minor of the array is not positive definite\n"
          ],
          "name": "stderr"
        },
        {
          "output_type": "error",
          "ename": "LinAlgError",
          "evalue": "ignored",
          "traceback": [
            "\u001b[0;31m---------------------------------------------------------------------------\u001b[0m",
            "\u001b[0;31mLinAlgError\u001b[0m                               Traceback (most recent call last)",
            "\u001b[0;32mpomegranate/distributions/MultivariateGaussianDistribution.pyx\u001b[0m in \u001b[0;36mpomegranate.distributions.MultivariateGaussianDistribution.MultivariateGaussianDistribution.__cinit__\u001b[0;34m()\u001b[0m\n",
            "\u001b[0;32m/usr/local/lib/python3.6/dist-packages/scipy/linalg/decomp_cholesky.py\u001b[0m in \u001b[0;36mcholesky\u001b[0;34m(a, lower, overwrite_a, check_finite)\u001b[0m\n\u001b[1;32m     89\u001b[0m     \"\"\"\n\u001b[1;32m     90\u001b[0m     c, lower = _cholesky(a, lower=lower, overwrite_a=overwrite_a, clean=True,\n\u001b[0;32m---> 91\u001b[0;31m                          check_finite=check_finite)\n\u001b[0m\u001b[1;32m     92\u001b[0m     \u001b[0;32mreturn\u001b[0m \u001b[0mc\u001b[0m\u001b[0;34m\u001b[0m\u001b[0;34m\u001b[0m\u001b[0m\n\u001b[1;32m     93\u001b[0m \u001b[0;34m\u001b[0m\u001b[0m\n",
            "\u001b[0;32m/usr/local/lib/python3.6/dist-packages/scipy/linalg/decomp_cholesky.py\u001b[0m in \u001b[0;36m_cholesky\u001b[0;34m(a, lower, overwrite_a, clean, check_finite)\u001b[0m\n\u001b[1;32m     38\u001b[0m     \u001b[0;32mif\u001b[0m \u001b[0minfo\u001b[0m \u001b[0;34m>\u001b[0m \u001b[0;36m0\u001b[0m\u001b[0;34m:\u001b[0m\u001b[0;34m\u001b[0m\u001b[0;34m\u001b[0m\u001b[0m\n\u001b[1;32m     39\u001b[0m         raise LinAlgError(\"%d-th leading minor of the array is not positive \"\n\u001b[0;32m---> 40\u001b[0;31m                           \"definite\" % info)\n\u001b[0m\u001b[1;32m     41\u001b[0m     \u001b[0;32mif\u001b[0m \u001b[0minfo\u001b[0m \u001b[0;34m<\u001b[0m \u001b[0;36m0\u001b[0m\u001b[0;34m:\u001b[0m\u001b[0;34m\u001b[0m\u001b[0;34m\u001b[0m\u001b[0m\n\u001b[1;32m     42\u001b[0m         raise ValueError('LAPACK reported an illegal value in {}-th argument'\n",
            "\u001b[0;31mLinAlgError\u001b[0m: 3-th leading minor of the array is not positive definite"
          ]
        },
        {
          "output_type": "stream",
          "text": [
            "Exception ignored in: 'pomegranate.distributions.MultivariateGaussianDistribution.MultivariateGaussianDistribution._log_probability_missing'\n",
            "Traceback (most recent call last):\n",
            "  File \"pomegranate/distributions/MultivariateGaussianDistribution.pyx\", line 72, in pomegranate.distributions.MultivariateGaussianDistribution.MultivariateGaussianDistribution.__cinit__\n",
            "  File \"/usr/local/lib/python3.6/dist-packages/scipy/linalg/decomp_cholesky.py\", line 91, in cholesky\n",
            "    check_finite=check_finite)\n",
            "  File \"/usr/local/lib/python3.6/dist-packages/scipy/linalg/decomp_cholesky.py\", line 40, in _cholesky\n",
            "    \"definite\" % info)\n",
            "numpy.linalg.LinAlgError: 3-th leading minor of the array is not positive definite\n"
          ],
          "name": "stderr"
        },
        {
          "output_type": "error",
          "ename": "LinAlgError",
          "evalue": "ignored",
          "traceback": [
            "\u001b[0;31m---------------------------------------------------------------------------\u001b[0m",
            "\u001b[0;31mLinAlgError\u001b[0m                               Traceback (most recent call last)",
            "\u001b[0;32mpomegranate/distributions/MultivariateGaussianDistribution.pyx\u001b[0m in \u001b[0;36mpomegranate.distributions.MultivariateGaussianDistribution.MultivariateGaussianDistribution.__cinit__\u001b[0;34m()\u001b[0m\n",
            "\u001b[0;32m/usr/local/lib/python3.6/dist-packages/scipy/linalg/decomp_cholesky.py\u001b[0m in \u001b[0;36mcholesky\u001b[0;34m(a, lower, overwrite_a, check_finite)\u001b[0m\n\u001b[1;32m     89\u001b[0m     \"\"\"\n\u001b[1;32m     90\u001b[0m     c, lower = _cholesky(a, lower=lower, overwrite_a=overwrite_a, clean=True,\n\u001b[0;32m---> 91\u001b[0;31m                          check_finite=check_finite)\n\u001b[0m\u001b[1;32m     92\u001b[0m     \u001b[0;32mreturn\u001b[0m \u001b[0mc\u001b[0m\u001b[0;34m\u001b[0m\u001b[0;34m\u001b[0m\u001b[0m\n\u001b[1;32m     93\u001b[0m \u001b[0;34m\u001b[0m\u001b[0m\n",
            "\u001b[0;32m/usr/local/lib/python3.6/dist-packages/scipy/linalg/decomp_cholesky.py\u001b[0m in \u001b[0;36m_cholesky\u001b[0;34m(a, lower, overwrite_a, clean, check_finite)\u001b[0m\n\u001b[1;32m     38\u001b[0m     \u001b[0;32mif\u001b[0m \u001b[0minfo\u001b[0m \u001b[0;34m>\u001b[0m \u001b[0;36m0\u001b[0m\u001b[0;34m:\u001b[0m\u001b[0;34m\u001b[0m\u001b[0;34m\u001b[0m\u001b[0m\n\u001b[1;32m     39\u001b[0m         raise LinAlgError(\"%d-th leading minor of the array is not positive \"\n\u001b[0;32m---> 40\u001b[0;31m                           \"definite\" % info)\n\u001b[0m\u001b[1;32m     41\u001b[0m     \u001b[0;32mif\u001b[0m \u001b[0minfo\u001b[0m \u001b[0;34m<\u001b[0m \u001b[0;36m0\u001b[0m\u001b[0;34m:\u001b[0m\u001b[0;34m\u001b[0m\u001b[0;34m\u001b[0m\u001b[0m\n\u001b[1;32m     42\u001b[0m         raise ValueError('LAPACK reported an illegal value in {}-th argument'\n",
            "\u001b[0;31mLinAlgError\u001b[0m: 3-th leading minor of the array is not positive definite"
          ]
        },
        {
          "output_type": "stream",
          "text": [
            "Exception ignored in: 'pomegranate.distributions.MultivariateGaussianDistribution.MultivariateGaussianDistribution._log_probability_missing'\n",
            "Traceback (most recent call last):\n",
            "  File \"pomegranate/distributions/MultivariateGaussianDistribution.pyx\", line 72, in pomegranate.distributions.MultivariateGaussianDistribution.MultivariateGaussianDistribution.__cinit__\n",
            "  File \"/usr/local/lib/python3.6/dist-packages/scipy/linalg/decomp_cholesky.py\", line 91, in cholesky\n",
            "    check_finite=check_finite)\n",
            "  File \"/usr/local/lib/python3.6/dist-packages/scipy/linalg/decomp_cholesky.py\", line 40, in _cholesky\n",
            "    \"definite\" % info)\n",
            "numpy.linalg.LinAlgError: 3-th leading minor of the array is not positive definite\n"
          ],
          "name": "stderr"
        },
        {
          "output_type": "error",
          "ename": "LinAlgError",
          "evalue": "ignored",
          "traceback": [
            "\u001b[0;31m---------------------------------------------------------------------------\u001b[0m",
            "\u001b[0;31mLinAlgError\u001b[0m                               Traceback (most recent call last)",
            "\u001b[0;32mpomegranate/distributions/MultivariateGaussianDistribution.pyx\u001b[0m in \u001b[0;36mpomegranate.distributions.MultivariateGaussianDistribution.MultivariateGaussianDistribution.__cinit__\u001b[0;34m()\u001b[0m\n",
            "\u001b[0;32m/usr/local/lib/python3.6/dist-packages/scipy/linalg/decomp_cholesky.py\u001b[0m in \u001b[0;36mcholesky\u001b[0;34m(a, lower, overwrite_a, check_finite)\u001b[0m\n\u001b[1;32m     89\u001b[0m     \"\"\"\n\u001b[1;32m     90\u001b[0m     c, lower = _cholesky(a, lower=lower, overwrite_a=overwrite_a, clean=True,\n\u001b[0;32m---> 91\u001b[0;31m                          check_finite=check_finite)\n\u001b[0m\u001b[1;32m     92\u001b[0m     \u001b[0;32mreturn\u001b[0m \u001b[0mc\u001b[0m\u001b[0;34m\u001b[0m\u001b[0;34m\u001b[0m\u001b[0m\n\u001b[1;32m     93\u001b[0m \u001b[0;34m\u001b[0m\u001b[0m\n",
            "\u001b[0;32m/usr/local/lib/python3.6/dist-packages/scipy/linalg/decomp_cholesky.py\u001b[0m in \u001b[0;36m_cholesky\u001b[0;34m(a, lower, overwrite_a, clean, check_finite)\u001b[0m\n\u001b[1;32m     38\u001b[0m     \u001b[0;32mif\u001b[0m \u001b[0minfo\u001b[0m \u001b[0;34m>\u001b[0m \u001b[0;36m0\u001b[0m\u001b[0;34m:\u001b[0m\u001b[0;34m\u001b[0m\u001b[0;34m\u001b[0m\u001b[0m\n\u001b[1;32m     39\u001b[0m         raise LinAlgError(\"%d-th leading minor of the array is not positive \"\n\u001b[0;32m---> 40\u001b[0;31m                           \"definite\" % info)\n\u001b[0m\u001b[1;32m     41\u001b[0m     \u001b[0;32mif\u001b[0m \u001b[0minfo\u001b[0m \u001b[0;34m<\u001b[0m \u001b[0;36m0\u001b[0m\u001b[0;34m:\u001b[0m\u001b[0;34m\u001b[0m\u001b[0;34m\u001b[0m\u001b[0m\n\u001b[1;32m     42\u001b[0m         raise ValueError('LAPACK reported an illegal value in {}-th argument'\n",
            "\u001b[0;31mLinAlgError\u001b[0m: 3-th leading minor of the array is not positive definite"
          ]
        },
        {
          "output_type": "stream",
          "text": [
            "Exception ignored in: 'pomegranate.distributions.MultivariateGaussianDistribution.MultivariateGaussianDistribution._log_probability_missing'\n",
            "Traceback (most recent call last):\n",
            "  File \"pomegranate/distributions/MultivariateGaussianDistribution.pyx\", line 72, in pomegranate.distributions.MultivariateGaussianDistribution.MultivariateGaussianDistribution.__cinit__\n",
            "  File \"/usr/local/lib/python3.6/dist-packages/scipy/linalg/decomp_cholesky.py\", line 91, in cholesky\n",
            "    check_finite=check_finite)\n",
            "  File \"/usr/local/lib/python3.6/dist-packages/scipy/linalg/decomp_cholesky.py\", line 40, in _cholesky\n",
            "    \"definite\" % info)\n",
            "numpy.linalg.LinAlgError: 3-th leading minor of the array is not positive definite\n"
          ],
          "name": "stderr"
        },
        {
          "output_type": "error",
          "ename": "LinAlgError",
          "evalue": "ignored",
          "traceback": [
            "\u001b[0;31m---------------------------------------------------------------------------\u001b[0m",
            "\u001b[0;31mLinAlgError\u001b[0m                               Traceback (most recent call last)",
            "\u001b[0;32mpomegranate/distributions/MultivariateGaussianDistribution.pyx\u001b[0m in \u001b[0;36mpomegranate.distributions.MultivariateGaussianDistribution.MultivariateGaussianDistribution.__cinit__\u001b[0;34m()\u001b[0m\n",
            "\u001b[0;32m/usr/local/lib/python3.6/dist-packages/scipy/linalg/decomp_cholesky.py\u001b[0m in \u001b[0;36mcholesky\u001b[0;34m(a, lower, overwrite_a, check_finite)\u001b[0m\n\u001b[1;32m     89\u001b[0m     \"\"\"\n\u001b[1;32m     90\u001b[0m     c, lower = _cholesky(a, lower=lower, overwrite_a=overwrite_a, clean=True,\n\u001b[0;32m---> 91\u001b[0;31m                          check_finite=check_finite)\n\u001b[0m\u001b[1;32m     92\u001b[0m     \u001b[0;32mreturn\u001b[0m \u001b[0mc\u001b[0m\u001b[0;34m\u001b[0m\u001b[0;34m\u001b[0m\u001b[0m\n\u001b[1;32m     93\u001b[0m \u001b[0;34m\u001b[0m\u001b[0m\n",
            "\u001b[0;32m/usr/local/lib/python3.6/dist-packages/scipy/linalg/decomp_cholesky.py\u001b[0m in \u001b[0;36m_cholesky\u001b[0;34m(a, lower, overwrite_a, clean, check_finite)\u001b[0m\n\u001b[1;32m     38\u001b[0m     \u001b[0;32mif\u001b[0m \u001b[0minfo\u001b[0m \u001b[0;34m>\u001b[0m \u001b[0;36m0\u001b[0m\u001b[0;34m:\u001b[0m\u001b[0;34m\u001b[0m\u001b[0;34m\u001b[0m\u001b[0m\n\u001b[1;32m     39\u001b[0m         raise LinAlgError(\"%d-th leading minor of the array is not positive \"\n\u001b[0;32m---> 40\u001b[0;31m                           \"definite\" % info)\n\u001b[0m\u001b[1;32m     41\u001b[0m     \u001b[0;32mif\u001b[0m \u001b[0minfo\u001b[0m \u001b[0;34m<\u001b[0m \u001b[0;36m0\u001b[0m\u001b[0;34m:\u001b[0m\u001b[0;34m\u001b[0m\u001b[0;34m\u001b[0m\u001b[0m\n\u001b[1;32m     42\u001b[0m         raise ValueError('LAPACK reported an illegal value in {}-th argument'\n",
            "\u001b[0;31mLinAlgError\u001b[0m: 2-th leading minor of the array is not positive definite"
          ]
        },
        {
          "output_type": "stream",
          "text": [
            "Exception ignored in: 'pomegranate.distributions.MultivariateGaussianDistribution.MultivariateGaussianDistribution._log_probability_missing'\n",
            "Traceback (most recent call last):\n",
            "  File \"pomegranate/distributions/MultivariateGaussianDistribution.pyx\", line 72, in pomegranate.distributions.MultivariateGaussianDistribution.MultivariateGaussianDistribution.__cinit__\n",
            "  File \"/usr/local/lib/python3.6/dist-packages/scipy/linalg/decomp_cholesky.py\", line 91, in cholesky\n",
            "    check_finite=check_finite)\n",
            "  File \"/usr/local/lib/python3.6/dist-packages/scipy/linalg/decomp_cholesky.py\", line 40, in _cholesky\n",
            "    \"definite\" % info)\n",
            "numpy.linalg.LinAlgError: 2-th leading minor of the array is not positive definite\n"
          ],
          "name": "stderr"
        },
        {
          "output_type": "error",
          "ename": "ValueError",
          "evalue": "ignored",
          "traceback": [
            "\u001b[0;31m---------------------------------------------------------------------------\u001b[0m",
            "\u001b[0;31mValueError\u001b[0m                                Traceback (most recent call last)",
            "\u001b[0;32mpomegranate/distributions/MultivariateGaussianDistribution.pyx\u001b[0m in \u001b[0;36mpomegranate.distributions.MultivariateGaussianDistribution.MultivariateGaussianDistribution.__cinit__\u001b[0;34m()\u001b[0m\n",
            "\u001b[0;31mValueError\u001b[0m: covariance matrix is not invertible."
          ]
        },
        {
          "output_type": "stream",
          "text": [
            "Exception ignored in: 'pomegranate.distributions.MultivariateGaussianDistribution.MultivariateGaussianDistribution._log_probability_missing'\n",
            "Traceback (most recent call last):\n",
            "  File \"pomegranate/distributions/MultivariateGaussianDistribution.pyx\", line 65, in pomegranate.distributions.MultivariateGaussianDistribution.MultivariateGaussianDistribution.__cinit__\n",
            "ValueError: covariance matrix is not invertible.\n"
          ],
          "name": "stderr"
        },
        {
          "output_type": "error",
          "ename": "LinAlgError",
          "evalue": "ignored",
          "traceback": [
            "\u001b[0;31m---------------------------------------------------------------------------\u001b[0m",
            "\u001b[0;31mLinAlgError\u001b[0m                               Traceback (most recent call last)",
            "\u001b[0;32mpomegranate/distributions/MultivariateGaussianDistribution.pyx\u001b[0m in \u001b[0;36mpomegranate.distributions.MultivariateGaussianDistribution.MultivariateGaussianDistribution.__cinit__\u001b[0;34m()\u001b[0m\n",
            "\u001b[0;32m/usr/local/lib/python3.6/dist-packages/scipy/linalg/decomp_cholesky.py\u001b[0m in \u001b[0;36mcholesky\u001b[0;34m(a, lower, overwrite_a, check_finite)\u001b[0m\n\u001b[1;32m     89\u001b[0m     \"\"\"\n\u001b[1;32m     90\u001b[0m     c, lower = _cholesky(a, lower=lower, overwrite_a=overwrite_a, clean=True,\n\u001b[0;32m---> 91\u001b[0;31m                          check_finite=check_finite)\n\u001b[0m\u001b[1;32m     92\u001b[0m     \u001b[0;32mreturn\u001b[0m \u001b[0mc\u001b[0m\u001b[0;34m\u001b[0m\u001b[0;34m\u001b[0m\u001b[0m\n\u001b[1;32m     93\u001b[0m \u001b[0;34m\u001b[0m\u001b[0m\n",
            "\u001b[0;32m/usr/local/lib/python3.6/dist-packages/scipy/linalg/decomp_cholesky.py\u001b[0m in \u001b[0;36m_cholesky\u001b[0;34m(a, lower, overwrite_a, clean, check_finite)\u001b[0m\n\u001b[1;32m     38\u001b[0m     \u001b[0;32mif\u001b[0m \u001b[0minfo\u001b[0m \u001b[0;34m>\u001b[0m \u001b[0;36m0\u001b[0m\u001b[0;34m:\u001b[0m\u001b[0;34m\u001b[0m\u001b[0;34m\u001b[0m\u001b[0m\n\u001b[1;32m     39\u001b[0m         raise LinAlgError(\"%d-th leading minor of the array is not positive \"\n\u001b[0;32m---> 40\u001b[0;31m                           \"definite\" % info)\n\u001b[0m\u001b[1;32m     41\u001b[0m     \u001b[0;32mif\u001b[0m \u001b[0minfo\u001b[0m \u001b[0;34m<\u001b[0m \u001b[0;36m0\u001b[0m\u001b[0;34m:\u001b[0m\u001b[0;34m\u001b[0m\u001b[0;34m\u001b[0m\u001b[0m\n\u001b[1;32m     42\u001b[0m         raise ValueError('LAPACK reported an illegal value in {}-th argument'\n",
            "\u001b[0;31mLinAlgError\u001b[0m: 3-th leading minor of the array is not positive definite"
          ]
        },
        {
          "output_type": "stream",
          "text": [
            "Exception ignored in: 'pomegranate.distributions.MultivariateGaussianDistribution.MultivariateGaussianDistribution._log_probability_missing'\n",
            "Traceback (most recent call last):\n",
            "  File \"pomegranate/distributions/MultivariateGaussianDistribution.pyx\", line 72, in pomegranate.distributions.MultivariateGaussianDistribution.MultivariateGaussianDistribution.__cinit__\n",
            "  File \"/usr/local/lib/python3.6/dist-packages/scipy/linalg/decomp_cholesky.py\", line 91, in cholesky\n",
            "    check_finite=check_finite)\n",
            "  File \"/usr/local/lib/python3.6/dist-packages/scipy/linalg/decomp_cholesky.py\", line 40, in _cholesky\n",
            "    \"definite\" % info)\n",
            "numpy.linalg.LinAlgError: 3-th leading minor of the array is not positive definite\n"
          ],
          "name": "stderr"
        },
        {
          "output_type": "error",
          "ename": "LinAlgError",
          "evalue": "ignored",
          "traceback": [
            "\u001b[0;31m---------------------------------------------------------------------------\u001b[0m",
            "\u001b[0;31mLinAlgError\u001b[0m                               Traceback (most recent call last)",
            "\u001b[0;32mpomegranate/distributions/MultivariateGaussianDistribution.pyx\u001b[0m in \u001b[0;36mpomegranate.distributions.MultivariateGaussianDistribution.MultivariateGaussianDistribution.__cinit__\u001b[0;34m()\u001b[0m\n",
            "\u001b[0;32m/usr/local/lib/python3.6/dist-packages/scipy/linalg/decomp_cholesky.py\u001b[0m in \u001b[0;36mcholesky\u001b[0;34m(a, lower, overwrite_a, check_finite)\u001b[0m\n\u001b[1;32m     89\u001b[0m     \"\"\"\n\u001b[1;32m     90\u001b[0m     c, lower = _cholesky(a, lower=lower, overwrite_a=overwrite_a, clean=True,\n\u001b[0;32m---> 91\u001b[0;31m                          check_finite=check_finite)\n\u001b[0m\u001b[1;32m     92\u001b[0m     \u001b[0;32mreturn\u001b[0m \u001b[0mc\u001b[0m\u001b[0;34m\u001b[0m\u001b[0;34m\u001b[0m\u001b[0m\n\u001b[1;32m     93\u001b[0m \u001b[0;34m\u001b[0m\u001b[0m\n",
            "\u001b[0;32m/usr/local/lib/python3.6/dist-packages/scipy/linalg/decomp_cholesky.py\u001b[0m in \u001b[0;36m_cholesky\u001b[0;34m(a, lower, overwrite_a, clean, check_finite)\u001b[0m\n\u001b[1;32m     38\u001b[0m     \u001b[0;32mif\u001b[0m \u001b[0minfo\u001b[0m \u001b[0;34m>\u001b[0m \u001b[0;36m0\u001b[0m\u001b[0;34m:\u001b[0m\u001b[0;34m\u001b[0m\u001b[0;34m\u001b[0m\u001b[0m\n\u001b[1;32m     39\u001b[0m         raise LinAlgError(\"%d-th leading minor of the array is not positive \"\n\u001b[0;32m---> 40\u001b[0;31m                           \"definite\" % info)\n\u001b[0m\u001b[1;32m     41\u001b[0m     \u001b[0;32mif\u001b[0m \u001b[0minfo\u001b[0m \u001b[0;34m<\u001b[0m \u001b[0;36m0\u001b[0m\u001b[0;34m:\u001b[0m\u001b[0;34m\u001b[0m\u001b[0;34m\u001b[0m\u001b[0m\n\u001b[1;32m     42\u001b[0m         raise ValueError('LAPACK reported an illegal value in {}-th argument'\n",
            "\u001b[0;31mLinAlgError\u001b[0m: 4-th leading minor of the array is not positive definite"
          ]
        },
        {
          "output_type": "stream",
          "text": [
            "Exception ignored in: 'pomegranate.distributions.MultivariateGaussianDistribution.MultivariateGaussianDistribution._log_probability_missing'\n",
            "Traceback (most recent call last):\n",
            "  File \"pomegranate/distributions/MultivariateGaussianDistribution.pyx\", line 72, in pomegranate.distributions.MultivariateGaussianDistribution.MultivariateGaussianDistribution.__cinit__\n",
            "  File \"/usr/local/lib/python3.6/dist-packages/scipy/linalg/decomp_cholesky.py\", line 91, in cholesky\n",
            "    check_finite=check_finite)\n",
            "  File \"/usr/local/lib/python3.6/dist-packages/scipy/linalg/decomp_cholesky.py\", line 40, in _cholesky\n",
            "    \"definite\" % info)\n",
            "numpy.linalg.LinAlgError: 4-th leading minor of the array is not positive definite\n"
          ],
          "name": "stderr"
        },
        {
          "output_type": "error",
          "ename": "LinAlgError",
          "evalue": "ignored",
          "traceback": [
            "\u001b[0;31m---------------------------------------------------------------------------\u001b[0m",
            "\u001b[0;31mLinAlgError\u001b[0m                               Traceback (most recent call last)",
            "\u001b[0;32mpomegranate/distributions/MultivariateGaussianDistribution.pyx\u001b[0m in \u001b[0;36mpomegranate.distributions.MultivariateGaussianDistribution.MultivariateGaussianDistribution.__cinit__\u001b[0;34m()\u001b[0m\n",
            "\u001b[0;32m/usr/local/lib/python3.6/dist-packages/scipy/linalg/decomp_cholesky.py\u001b[0m in \u001b[0;36mcholesky\u001b[0;34m(a, lower, overwrite_a, check_finite)\u001b[0m\n\u001b[1;32m     89\u001b[0m     \"\"\"\n\u001b[1;32m     90\u001b[0m     c, lower = _cholesky(a, lower=lower, overwrite_a=overwrite_a, clean=True,\n\u001b[0;32m---> 91\u001b[0;31m                          check_finite=check_finite)\n\u001b[0m\u001b[1;32m     92\u001b[0m     \u001b[0;32mreturn\u001b[0m \u001b[0mc\u001b[0m\u001b[0;34m\u001b[0m\u001b[0;34m\u001b[0m\u001b[0m\n\u001b[1;32m     93\u001b[0m \u001b[0;34m\u001b[0m\u001b[0m\n",
            "\u001b[0;32m/usr/local/lib/python3.6/dist-packages/scipy/linalg/decomp_cholesky.py\u001b[0m in \u001b[0;36m_cholesky\u001b[0;34m(a, lower, overwrite_a, clean, check_finite)\u001b[0m\n\u001b[1;32m     38\u001b[0m     \u001b[0;32mif\u001b[0m \u001b[0minfo\u001b[0m \u001b[0;34m>\u001b[0m \u001b[0;36m0\u001b[0m\u001b[0;34m:\u001b[0m\u001b[0;34m\u001b[0m\u001b[0;34m\u001b[0m\u001b[0m\n\u001b[1;32m     39\u001b[0m         raise LinAlgError(\"%d-th leading minor of the array is not positive \"\n\u001b[0;32m---> 40\u001b[0;31m                           \"definite\" % info)\n\u001b[0m\u001b[1;32m     41\u001b[0m     \u001b[0;32mif\u001b[0m \u001b[0minfo\u001b[0m \u001b[0;34m<\u001b[0m \u001b[0;36m0\u001b[0m\u001b[0;34m:\u001b[0m\u001b[0;34m\u001b[0m\u001b[0;34m\u001b[0m\u001b[0m\n\u001b[1;32m     42\u001b[0m         raise ValueError('LAPACK reported an illegal value in {}-th argument'\n",
            "\u001b[0;31mLinAlgError\u001b[0m: 2-th leading minor of the array is not positive definite"
          ]
        },
        {
          "output_type": "stream",
          "text": [
            "Exception ignored in: 'pomegranate.distributions.MultivariateGaussianDistribution.MultivariateGaussianDistribution._log_probability_missing'\n",
            "Traceback (most recent call last):\n",
            "  File \"pomegranate/distributions/MultivariateGaussianDistribution.pyx\", line 72, in pomegranate.distributions.MultivariateGaussianDistribution.MultivariateGaussianDistribution.__cinit__\n",
            "  File \"/usr/local/lib/python3.6/dist-packages/scipy/linalg/decomp_cholesky.py\", line 91, in cholesky\n",
            "    check_finite=check_finite)\n",
            "  File \"/usr/local/lib/python3.6/dist-packages/scipy/linalg/decomp_cholesky.py\", line 40, in _cholesky\n",
            "    \"definite\" % info)\n",
            "numpy.linalg.LinAlgError: 2-th leading minor of the array is not positive definite\n"
          ],
          "name": "stderr"
        },
        {
          "output_type": "error",
          "ename": "LinAlgError",
          "evalue": "ignored",
          "traceback": [
            "\u001b[0;31m---------------------------------------------------------------------------\u001b[0m",
            "\u001b[0;31mLinAlgError\u001b[0m                               Traceback (most recent call last)",
            "\u001b[0;32mpomegranate/distributions/MultivariateGaussianDistribution.pyx\u001b[0m in \u001b[0;36mpomegranate.distributions.MultivariateGaussianDistribution.MultivariateGaussianDistribution.__cinit__\u001b[0;34m()\u001b[0m\n",
            "\u001b[0;32m/usr/local/lib/python3.6/dist-packages/scipy/linalg/decomp_cholesky.py\u001b[0m in \u001b[0;36mcholesky\u001b[0;34m(a, lower, overwrite_a, check_finite)\u001b[0m\n\u001b[1;32m     89\u001b[0m     \"\"\"\n\u001b[1;32m     90\u001b[0m     c, lower = _cholesky(a, lower=lower, overwrite_a=overwrite_a, clean=True,\n\u001b[0;32m---> 91\u001b[0;31m                          check_finite=check_finite)\n\u001b[0m\u001b[1;32m     92\u001b[0m     \u001b[0;32mreturn\u001b[0m \u001b[0mc\u001b[0m\u001b[0;34m\u001b[0m\u001b[0;34m\u001b[0m\u001b[0m\n\u001b[1;32m     93\u001b[0m \u001b[0;34m\u001b[0m\u001b[0m\n",
            "\u001b[0;32m/usr/local/lib/python3.6/dist-packages/scipy/linalg/decomp_cholesky.py\u001b[0m in \u001b[0;36m_cholesky\u001b[0;34m(a, lower, overwrite_a, clean, check_finite)\u001b[0m\n\u001b[1;32m     38\u001b[0m     \u001b[0;32mif\u001b[0m \u001b[0minfo\u001b[0m \u001b[0;34m>\u001b[0m \u001b[0;36m0\u001b[0m\u001b[0;34m:\u001b[0m\u001b[0;34m\u001b[0m\u001b[0;34m\u001b[0m\u001b[0m\n\u001b[1;32m     39\u001b[0m         raise LinAlgError(\"%d-th leading minor of the array is not positive \"\n\u001b[0;32m---> 40\u001b[0;31m                           \"definite\" % info)\n\u001b[0m\u001b[1;32m     41\u001b[0m     \u001b[0;32mif\u001b[0m \u001b[0minfo\u001b[0m \u001b[0;34m<\u001b[0m \u001b[0;36m0\u001b[0m\u001b[0;34m:\u001b[0m\u001b[0;34m\u001b[0m\u001b[0;34m\u001b[0m\u001b[0m\n\u001b[1;32m     42\u001b[0m         raise ValueError('LAPACK reported an illegal value in {}-th argument'\n",
            "\u001b[0;31mLinAlgError\u001b[0m: 3-th leading minor of the array is not positive definite"
          ]
        },
        {
          "output_type": "stream",
          "text": [
            "Exception ignored in: 'pomegranate.distributions.MultivariateGaussianDistribution.MultivariateGaussianDistribution._log_probability_missing'\n",
            "Traceback (most recent call last):\n",
            "  File \"pomegranate/distributions/MultivariateGaussianDistribution.pyx\", line 72, in pomegranate.distributions.MultivariateGaussianDistribution.MultivariateGaussianDistribution.__cinit__\n",
            "  File \"/usr/local/lib/python3.6/dist-packages/scipy/linalg/decomp_cholesky.py\", line 91, in cholesky\n",
            "    check_finite=check_finite)\n",
            "  File \"/usr/local/lib/python3.6/dist-packages/scipy/linalg/decomp_cholesky.py\", line 40, in _cholesky\n",
            "    \"definite\" % info)\n",
            "numpy.linalg.LinAlgError: 3-th leading minor of the array is not positive definite\n"
          ],
          "name": "stderr"
        },
        {
          "output_type": "error",
          "ename": "LinAlgError",
          "evalue": "ignored",
          "traceback": [
            "\u001b[0;31m---------------------------------------------------------------------------\u001b[0m",
            "\u001b[0;31mLinAlgError\u001b[0m                               Traceback (most recent call last)",
            "\u001b[0;32mpomegranate/distributions/MultivariateGaussianDistribution.pyx\u001b[0m in \u001b[0;36mpomegranate.distributions.MultivariateGaussianDistribution.MultivariateGaussianDistribution.__cinit__\u001b[0;34m()\u001b[0m\n",
            "\u001b[0;32m/usr/local/lib/python3.6/dist-packages/scipy/linalg/decomp_cholesky.py\u001b[0m in \u001b[0;36mcholesky\u001b[0;34m(a, lower, overwrite_a, check_finite)\u001b[0m\n\u001b[1;32m     89\u001b[0m     \"\"\"\n\u001b[1;32m     90\u001b[0m     c, lower = _cholesky(a, lower=lower, overwrite_a=overwrite_a, clean=True,\n\u001b[0;32m---> 91\u001b[0;31m                          check_finite=check_finite)\n\u001b[0m\u001b[1;32m     92\u001b[0m     \u001b[0;32mreturn\u001b[0m \u001b[0mc\u001b[0m\u001b[0;34m\u001b[0m\u001b[0;34m\u001b[0m\u001b[0m\n\u001b[1;32m     93\u001b[0m \u001b[0;34m\u001b[0m\u001b[0m\n",
            "\u001b[0;32m/usr/local/lib/python3.6/dist-packages/scipy/linalg/decomp_cholesky.py\u001b[0m in \u001b[0;36m_cholesky\u001b[0;34m(a, lower, overwrite_a, clean, check_finite)\u001b[0m\n\u001b[1;32m     38\u001b[0m     \u001b[0;32mif\u001b[0m \u001b[0minfo\u001b[0m \u001b[0;34m>\u001b[0m \u001b[0;36m0\u001b[0m\u001b[0;34m:\u001b[0m\u001b[0;34m\u001b[0m\u001b[0;34m\u001b[0m\u001b[0m\n\u001b[1;32m     39\u001b[0m         raise LinAlgError(\"%d-th leading minor of the array is not positive \"\n\u001b[0;32m---> 40\u001b[0;31m                           \"definite\" % info)\n\u001b[0m\u001b[1;32m     41\u001b[0m     \u001b[0;32mif\u001b[0m \u001b[0minfo\u001b[0m \u001b[0;34m<\u001b[0m \u001b[0;36m0\u001b[0m\u001b[0;34m:\u001b[0m\u001b[0;34m\u001b[0m\u001b[0;34m\u001b[0m\u001b[0m\n\u001b[1;32m     42\u001b[0m         raise ValueError('LAPACK reported an illegal value in {}-th argument'\n",
            "\u001b[0;31mLinAlgError\u001b[0m: 4-th leading minor of the array is not positive definite"
          ]
        },
        {
          "output_type": "stream",
          "text": [
            "Exception ignored in: 'pomegranate.distributions.MultivariateGaussianDistribution.MultivariateGaussianDistribution._log_probability_missing'\n",
            "Traceback (most recent call last):\n",
            "  File \"pomegranate/distributions/MultivariateGaussianDistribution.pyx\", line 72, in pomegranate.distributions.MultivariateGaussianDistribution.MultivariateGaussianDistribution.__cinit__\n",
            "  File \"/usr/local/lib/python3.6/dist-packages/scipy/linalg/decomp_cholesky.py\", line 91, in cholesky\n",
            "    check_finite=check_finite)\n",
            "  File \"/usr/local/lib/python3.6/dist-packages/scipy/linalg/decomp_cholesky.py\", line 40, in _cholesky\n",
            "    \"definite\" % info)\n",
            "numpy.linalg.LinAlgError: 4-th leading minor of the array is not positive definite\n"
          ],
          "name": "stderr"
        },
        {
          "output_type": "error",
          "ename": "LinAlgError",
          "evalue": "ignored",
          "traceback": [
            "\u001b[0;31m---------------------------------------------------------------------------\u001b[0m",
            "\u001b[0;31mLinAlgError\u001b[0m                               Traceback (most recent call last)",
            "\u001b[0;32mpomegranate/distributions/MultivariateGaussianDistribution.pyx\u001b[0m in \u001b[0;36mpomegranate.distributions.MultivariateGaussianDistribution.MultivariateGaussianDistribution.__cinit__\u001b[0;34m()\u001b[0m\n",
            "\u001b[0;32m/usr/local/lib/python3.6/dist-packages/scipy/linalg/decomp_cholesky.py\u001b[0m in \u001b[0;36mcholesky\u001b[0;34m(a, lower, overwrite_a, check_finite)\u001b[0m\n\u001b[1;32m     89\u001b[0m     \"\"\"\n\u001b[1;32m     90\u001b[0m     c, lower = _cholesky(a, lower=lower, overwrite_a=overwrite_a, clean=True,\n\u001b[0;32m---> 91\u001b[0;31m                          check_finite=check_finite)\n\u001b[0m\u001b[1;32m     92\u001b[0m     \u001b[0;32mreturn\u001b[0m \u001b[0mc\u001b[0m\u001b[0;34m\u001b[0m\u001b[0;34m\u001b[0m\u001b[0m\n\u001b[1;32m     93\u001b[0m \u001b[0;34m\u001b[0m\u001b[0m\n",
            "\u001b[0;32m/usr/local/lib/python3.6/dist-packages/scipy/linalg/decomp_cholesky.py\u001b[0m in \u001b[0;36m_cholesky\u001b[0;34m(a, lower, overwrite_a, clean, check_finite)\u001b[0m\n\u001b[1;32m     38\u001b[0m     \u001b[0;32mif\u001b[0m \u001b[0minfo\u001b[0m \u001b[0;34m>\u001b[0m \u001b[0;36m0\u001b[0m\u001b[0;34m:\u001b[0m\u001b[0;34m\u001b[0m\u001b[0;34m\u001b[0m\u001b[0m\n\u001b[1;32m     39\u001b[0m         raise LinAlgError(\"%d-th leading minor of the array is not positive \"\n\u001b[0;32m---> 40\u001b[0;31m                           \"definite\" % info)\n\u001b[0m\u001b[1;32m     41\u001b[0m     \u001b[0;32mif\u001b[0m \u001b[0minfo\u001b[0m \u001b[0;34m<\u001b[0m \u001b[0;36m0\u001b[0m\u001b[0;34m:\u001b[0m\u001b[0;34m\u001b[0m\u001b[0;34m\u001b[0m\u001b[0m\n\u001b[1;32m     42\u001b[0m         raise ValueError('LAPACK reported an illegal value in {}-th argument'\n",
            "\u001b[0;31mLinAlgError\u001b[0m: 3-th leading minor of the array is not positive definite"
          ]
        },
        {
          "output_type": "stream",
          "text": [
            "Exception ignored in: 'pomegranate.distributions.MultivariateGaussianDistribution.MultivariateGaussianDistribution._log_probability_missing'\n",
            "Traceback (most recent call last):\n",
            "  File \"pomegranate/distributions/MultivariateGaussianDistribution.pyx\", line 72, in pomegranate.distributions.MultivariateGaussianDistribution.MultivariateGaussianDistribution.__cinit__\n",
            "  File \"/usr/local/lib/python3.6/dist-packages/scipy/linalg/decomp_cholesky.py\", line 91, in cholesky\n",
            "    check_finite=check_finite)\n",
            "  File \"/usr/local/lib/python3.6/dist-packages/scipy/linalg/decomp_cholesky.py\", line 40, in _cholesky\n",
            "    \"definite\" % info)\n",
            "numpy.linalg.LinAlgError: 3-th leading minor of the array is not positive definite\n"
          ],
          "name": "stderr"
        },
        {
          "output_type": "error",
          "ename": "LinAlgError",
          "evalue": "ignored",
          "traceback": [
            "\u001b[0;31m---------------------------------------------------------------------------\u001b[0m",
            "\u001b[0;31mLinAlgError\u001b[0m                               Traceback (most recent call last)",
            "\u001b[0;32mpomegranate/distributions/MultivariateGaussianDistribution.pyx\u001b[0m in \u001b[0;36mpomegranate.distributions.MultivariateGaussianDistribution.MultivariateGaussianDistribution.__cinit__\u001b[0;34m()\u001b[0m\n",
            "\u001b[0;32m/usr/local/lib/python3.6/dist-packages/scipy/linalg/decomp_cholesky.py\u001b[0m in \u001b[0;36mcholesky\u001b[0;34m(a, lower, overwrite_a, check_finite)\u001b[0m\n\u001b[1;32m     89\u001b[0m     \"\"\"\n\u001b[1;32m     90\u001b[0m     c, lower = _cholesky(a, lower=lower, overwrite_a=overwrite_a, clean=True,\n\u001b[0;32m---> 91\u001b[0;31m                          check_finite=check_finite)\n\u001b[0m\u001b[1;32m     92\u001b[0m     \u001b[0;32mreturn\u001b[0m \u001b[0mc\u001b[0m\u001b[0;34m\u001b[0m\u001b[0;34m\u001b[0m\u001b[0m\n\u001b[1;32m     93\u001b[0m \u001b[0;34m\u001b[0m\u001b[0m\n",
            "\u001b[0;32m/usr/local/lib/python3.6/dist-packages/scipy/linalg/decomp_cholesky.py\u001b[0m in \u001b[0;36m_cholesky\u001b[0;34m(a, lower, overwrite_a, clean, check_finite)\u001b[0m\n\u001b[1;32m     38\u001b[0m     \u001b[0;32mif\u001b[0m \u001b[0minfo\u001b[0m \u001b[0;34m>\u001b[0m \u001b[0;36m0\u001b[0m\u001b[0;34m:\u001b[0m\u001b[0;34m\u001b[0m\u001b[0;34m\u001b[0m\u001b[0m\n\u001b[1;32m     39\u001b[0m         raise LinAlgError(\"%d-th leading minor of the array is not positive \"\n\u001b[0;32m---> 40\u001b[0;31m                           \"definite\" % info)\n\u001b[0m\u001b[1;32m     41\u001b[0m     \u001b[0;32mif\u001b[0m \u001b[0minfo\u001b[0m \u001b[0;34m<\u001b[0m \u001b[0;36m0\u001b[0m\u001b[0;34m:\u001b[0m\u001b[0;34m\u001b[0m\u001b[0;34m\u001b[0m\u001b[0m\n\u001b[1;32m     42\u001b[0m         raise ValueError('LAPACK reported an illegal value in {}-th argument'\n",
            "\u001b[0;31mLinAlgError\u001b[0m: 4-th leading minor of the array is not positive definite"
          ]
        },
        {
          "output_type": "stream",
          "text": [
            "Exception ignored in: 'pomegranate.distributions.MultivariateGaussianDistribution.MultivariateGaussianDistribution._log_probability_missing'\n",
            "Traceback (most recent call last):\n",
            "  File \"pomegranate/distributions/MultivariateGaussianDistribution.pyx\", line 72, in pomegranate.distributions.MultivariateGaussianDistribution.MultivariateGaussianDistribution.__cinit__\n",
            "  File \"/usr/local/lib/python3.6/dist-packages/scipy/linalg/decomp_cholesky.py\", line 91, in cholesky\n",
            "    check_finite=check_finite)\n",
            "  File \"/usr/local/lib/python3.6/dist-packages/scipy/linalg/decomp_cholesky.py\", line 40, in _cholesky\n",
            "    \"definite\" % info)\n",
            "numpy.linalg.LinAlgError: 4-th leading minor of the array is not positive definite\n"
          ],
          "name": "stderr"
        },
        {
          "output_type": "error",
          "ename": "LinAlgError",
          "evalue": "ignored",
          "traceback": [
            "\u001b[0;31m---------------------------------------------------------------------------\u001b[0m",
            "\u001b[0;31mLinAlgError\u001b[0m                               Traceback (most recent call last)",
            "\u001b[0;32mpomegranate/distributions/MultivariateGaussianDistribution.pyx\u001b[0m in \u001b[0;36mpomegranate.distributions.MultivariateGaussianDistribution.MultivariateGaussianDistribution.__cinit__\u001b[0;34m()\u001b[0m\n",
            "\u001b[0;32m/usr/local/lib/python3.6/dist-packages/scipy/linalg/decomp_cholesky.py\u001b[0m in \u001b[0;36mcholesky\u001b[0;34m(a, lower, overwrite_a, check_finite)\u001b[0m\n\u001b[1;32m     89\u001b[0m     \"\"\"\n\u001b[1;32m     90\u001b[0m     c, lower = _cholesky(a, lower=lower, overwrite_a=overwrite_a, clean=True,\n\u001b[0;32m---> 91\u001b[0;31m                          check_finite=check_finite)\n\u001b[0m\u001b[1;32m     92\u001b[0m     \u001b[0;32mreturn\u001b[0m \u001b[0mc\u001b[0m\u001b[0;34m\u001b[0m\u001b[0;34m\u001b[0m\u001b[0m\n\u001b[1;32m     93\u001b[0m \u001b[0;34m\u001b[0m\u001b[0m\n",
            "\u001b[0;32m/usr/local/lib/python3.6/dist-packages/scipy/linalg/decomp_cholesky.py\u001b[0m in \u001b[0;36m_cholesky\u001b[0;34m(a, lower, overwrite_a, clean, check_finite)\u001b[0m\n\u001b[1;32m     38\u001b[0m     \u001b[0;32mif\u001b[0m \u001b[0minfo\u001b[0m \u001b[0;34m>\u001b[0m \u001b[0;36m0\u001b[0m\u001b[0;34m:\u001b[0m\u001b[0;34m\u001b[0m\u001b[0;34m\u001b[0m\u001b[0m\n\u001b[1;32m     39\u001b[0m         raise LinAlgError(\"%d-th leading minor of the array is not positive \"\n\u001b[0;32m---> 40\u001b[0;31m                           \"definite\" % info)\n\u001b[0m\u001b[1;32m     41\u001b[0m     \u001b[0;32mif\u001b[0m \u001b[0minfo\u001b[0m \u001b[0;34m<\u001b[0m \u001b[0;36m0\u001b[0m\u001b[0;34m:\u001b[0m\u001b[0;34m\u001b[0m\u001b[0;34m\u001b[0m\u001b[0m\n\u001b[1;32m     42\u001b[0m         raise ValueError('LAPACK reported an illegal value in {}-th argument'\n",
            "\u001b[0;31mLinAlgError\u001b[0m: 4-th leading minor of the array is not positive definite"
          ]
        },
        {
          "output_type": "stream",
          "text": [
            "Exception ignored in: 'pomegranate.distributions.MultivariateGaussianDistribution.MultivariateGaussianDistribution._log_probability_missing'\n",
            "Traceback (most recent call last):\n",
            "  File \"pomegranate/distributions/MultivariateGaussianDistribution.pyx\", line 72, in pomegranate.distributions.MultivariateGaussianDistribution.MultivariateGaussianDistribution.__cinit__\n",
            "  File \"/usr/local/lib/python3.6/dist-packages/scipy/linalg/decomp_cholesky.py\", line 91, in cholesky\n",
            "    check_finite=check_finite)\n",
            "  File \"/usr/local/lib/python3.6/dist-packages/scipy/linalg/decomp_cholesky.py\", line 40, in _cholesky\n",
            "    \"definite\" % info)\n",
            "numpy.linalg.LinAlgError: 4-th leading minor of the array is not positive definite\n"
          ],
          "name": "stderr"
        },
        {
          "output_type": "error",
          "ename": "LinAlgError",
          "evalue": "ignored",
          "traceback": [
            "\u001b[0;31m---------------------------------------------------------------------------\u001b[0m",
            "\u001b[0;31mLinAlgError\u001b[0m                               Traceback (most recent call last)",
            "\u001b[0;32mpomegranate/distributions/MultivariateGaussianDistribution.pyx\u001b[0m in \u001b[0;36mpomegranate.distributions.MultivariateGaussianDistribution.MultivariateGaussianDistribution.__cinit__\u001b[0;34m()\u001b[0m\n",
            "\u001b[0;32m/usr/local/lib/python3.6/dist-packages/scipy/linalg/decomp_cholesky.py\u001b[0m in \u001b[0;36mcholesky\u001b[0;34m(a, lower, overwrite_a, check_finite)\u001b[0m\n\u001b[1;32m     89\u001b[0m     \"\"\"\n\u001b[1;32m     90\u001b[0m     c, lower = _cholesky(a, lower=lower, overwrite_a=overwrite_a, clean=True,\n\u001b[0;32m---> 91\u001b[0;31m                          check_finite=check_finite)\n\u001b[0m\u001b[1;32m     92\u001b[0m     \u001b[0;32mreturn\u001b[0m \u001b[0mc\u001b[0m\u001b[0;34m\u001b[0m\u001b[0;34m\u001b[0m\u001b[0m\n\u001b[1;32m     93\u001b[0m \u001b[0;34m\u001b[0m\u001b[0m\n",
            "\u001b[0;32m/usr/local/lib/python3.6/dist-packages/scipy/linalg/decomp_cholesky.py\u001b[0m in \u001b[0;36m_cholesky\u001b[0;34m(a, lower, overwrite_a, clean, check_finite)\u001b[0m\n\u001b[1;32m     38\u001b[0m     \u001b[0;32mif\u001b[0m \u001b[0minfo\u001b[0m \u001b[0;34m>\u001b[0m \u001b[0;36m0\u001b[0m\u001b[0;34m:\u001b[0m\u001b[0;34m\u001b[0m\u001b[0;34m\u001b[0m\u001b[0m\n\u001b[1;32m     39\u001b[0m         raise LinAlgError(\"%d-th leading minor of the array is not positive \"\n\u001b[0;32m---> 40\u001b[0;31m                           \"definite\" % info)\n\u001b[0m\u001b[1;32m     41\u001b[0m     \u001b[0;32mif\u001b[0m \u001b[0minfo\u001b[0m \u001b[0;34m<\u001b[0m \u001b[0;36m0\u001b[0m\u001b[0;34m:\u001b[0m\u001b[0;34m\u001b[0m\u001b[0;34m\u001b[0m\u001b[0m\n\u001b[1;32m     42\u001b[0m         raise ValueError('LAPACK reported an illegal value in {}-th argument'\n",
            "\u001b[0;31mLinAlgError\u001b[0m: 4-th leading minor of the array is not positive definite"
          ]
        },
        {
          "output_type": "stream",
          "text": [
            "Exception ignored in: 'pomegranate.distributions.MultivariateGaussianDistribution.MultivariateGaussianDistribution._log_probability_missing'\n",
            "Traceback (most recent call last):\n",
            "  File \"pomegranate/distributions/MultivariateGaussianDistribution.pyx\", line 72, in pomegranate.distributions.MultivariateGaussianDistribution.MultivariateGaussianDistribution.__cinit__\n",
            "  File \"/usr/local/lib/python3.6/dist-packages/scipy/linalg/decomp_cholesky.py\", line 91, in cholesky\n",
            "    check_finite=check_finite)\n",
            "  File \"/usr/local/lib/python3.6/dist-packages/scipy/linalg/decomp_cholesky.py\", line 40, in _cholesky\n",
            "    \"definite\" % info)\n",
            "numpy.linalg.LinAlgError: 4-th leading minor of the array is not positive definite\n"
          ],
          "name": "stderr"
        },
        {
          "output_type": "error",
          "ename": "LinAlgError",
          "evalue": "ignored",
          "traceback": [
            "\u001b[0;31m---------------------------------------------------------------------------\u001b[0m",
            "\u001b[0;31mLinAlgError\u001b[0m                               Traceback (most recent call last)",
            "\u001b[0;32mpomegranate/distributions/MultivariateGaussianDistribution.pyx\u001b[0m in \u001b[0;36mpomegranate.distributions.MultivariateGaussianDistribution.MultivariateGaussianDistribution.__cinit__\u001b[0;34m()\u001b[0m\n",
            "\u001b[0;32m/usr/local/lib/python3.6/dist-packages/scipy/linalg/decomp_cholesky.py\u001b[0m in \u001b[0;36mcholesky\u001b[0;34m(a, lower, overwrite_a, check_finite)\u001b[0m\n\u001b[1;32m     89\u001b[0m     \"\"\"\n\u001b[1;32m     90\u001b[0m     c, lower = _cholesky(a, lower=lower, overwrite_a=overwrite_a, clean=True,\n\u001b[0;32m---> 91\u001b[0;31m                          check_finite=check_finite)\n\u001b[0m\u001b[1;32m     92\u001b[0m     \u001b[0;32mreturn\u001b[0m \u001b[0mc\u001b[0m\u001b[0;34m\u001b[0m\u001b[0;34m\u001b[0m\u001b[0m\n\u001b[1;32m     93\u001b[0m \u001b[0;34m\u001b[0m\u001b[0m\n",
            "\u001b[0;32m/usr/local/lib/python3.6/dist-packages/scipy/linalg/decomp_cholesky.py\u001b[0m in \u001b[0;36m_cholesky\u001b[0;34m(a, lower, overwrite_a, clean, check_finite)\u001b[0m\n\u001b[1;32m     38\u001b[0m     \u001b[0;32mif\u001b[0m \u001b[0minfo\u001b[0m \u001b[0;34m>\u001b[0m \u001b[0;36m0\u001b[0m\u001b[0;34m:\u001b[0m\u001b[0;34m\u001b[0m\u001b[0;34m\u001b[0m\u001b[0m\n\u001b[1;32m     39\u001b[0m         raise LinAlgError(\"%d-th leading minor of the array is not positive \"\n\u001b[0;32m---> 40\u001b[0;31m                           \"definite\" % info)\n\u001b[0m\u001b[1;32m     41\u001b[0m     \u001b[0;32mif\u001b[0m \u001b[0minfo\u001b[0m \u001b[0;34m<\u001b[0m \u001b[0;36m0\u001b[0m\u001b[0;34m:\u001b[0m\u001b[0;34m\u001b[0m\u001b[0;34m\u001b[0m\u001b[0m\n\u001b[1;32m     42\u001b[0m         raise ValueError('LAPACK reported an illegal value in {}-th argument'\n",
            "\u001b[0;31mLinAlgError\u001b[0m: 4-th leading minor of the array is not positive definite"
          ]
        },
        {
          "output_type": "stream",
          "text": [
            "Exception ignored in: 'pomegranate.distributions.MultivariateGaussianDistribution.MultivariateGaussianDistribution._log_probability_missing'\n",
            "Traceback (most recent call last):\n",
            "  File \"pomegranate/distributions/MultivariateGaussianDistribution.pyx\", line 72, in pomegranate.distributions.MultivariateGaussianDistribution.MultivariateGaussianDistribution.__cinit__\n",
            "  File \"/usr/local/lib/python3.6/dist-packages/scipy/linalg/decomp_cholesky.py\", line 91, in cholesky\n",
            "    check_finite=check_finite)\n",
            "  File \"/usr/local/lib/python3.6/dist-packages/scipy/linalg/decomp_cholesky.py\", line 40, in _cholesky\n",
            "    \"definite\" % info)\n",
            "numpy.linalg.LinAlgError: 4-th leading minor of the array is not positive definite\n"
          ],
          "name": "stderr"
        },
        {
          "output_type": "error",
          "ename": "LinAlgError",
          "evalue": "ignored",
          "traceback": [
            "\u001b[0;31m---------------------------------------------------------------------------\u001b[0m",
            "\u001b[0;31mLinAlgError\u001b[0m                               Traceback (most recent call last)",
            "\u001b[0;32mpomegranate/distributions/MultivariateGaussianDistribution.pyx\u001b[0m in \u001b[0;36mpomegranate.distributions.MultivariateGaussianDistribution.MultivariateGaussianDistribution.__cinit__\u001b[0;34m()\u001b[0m\n",
            "\u001b[0;32m/usr/local/lib/python3.6/dist-packages/scipy/linalg/decomp_cholesky.py\u001b[0m in \u001b[0;36mcholesky\u001b[0;34m(a, lower, overwrite_a, check_finite)\u001b[0m\n\u001b[1;32m     89\u001b[0m     \"\"\"\n\u001b[1;32m     90\u001b[0m     c, lower = _cholesky(a, lower=lower, overwrite_a=overwrite_a, clean=True,\n\u001b[0;32m---> 91\u001b[0;31m                          check_finite=check_finite)\n\u001b[0m\u001b[1;32m     92\u001b[0m     \u001b[0;32mreturn\u001b[0m \u001b[0mc\u001b[0m\u001b[0;34m\u001b[0m\u001b[0;34m\u001b[0m\u001b[0m\n\u001b[1;32m     93\u001b[0m \u001b[0;34m\u001b[0m\u001b[0m\n",
            "\u001b[0;32m/usr/local/lib/python3.6/dist-packages/scipy/linalg/decomp_cholesky.py\u001b[0m in \u001b[0;36m_cholesky\u001b[0;34m(a, lower, overwrite_a, clean, check_finite)\u001b[0m\n\u001b[1;32m     38\u001b[0m     \u001b[0;32mif\u001b[0m \u001b[0minfo\u001b[0m \u001b[0;34m>\u001b[0m \u001b[0;36m0\u001b[0m\u001b[0;34m:\u001b[0m\u001b[0;34m\u001b[0m\u001b[0;34m\u001b[0m\u001b[0m\n\u001b[1;32m     39\u001b[0m         raise LinAlgError(\"%d-th leading minor of the array is not positive \"\n\u001b[0;32m---> 40\u001b[0;31m                           \"definite\" % info)\n\u001b[0m\u001b[1;32m     41\u001b[0m     \u001b[0;32mif\u001b[0m \u001b[0minfo\u001b[0m \u001b[0;34m<\u001b[0m \u001b[0;36m0\u001b[0m\u001b[0;34m:\u001b[0m\u001b[0;34m\u001b[0m\u001b[0;34m\u001b[0m\u001b[0m\n\u001b[1;32m     42\u001b[0m         raise ValueError('LAPACK reported an illegal value in {}-th argument'\n",
            "\u001b[0;31mLinAlgError\u001b[0m: 4-th leading minor of the array is not positive definite"
          ]
        },
        {
          "output_type": "stream",
          "text": [
            "Exception ignored in: 'pomegranate.distributions.MultivariateGaussianDistribution.MultivariateGaussianDistribution._log_probability_missing'\n",
            "Traceback (most recent call last):\n",
            "  File \"pomegranate/distributions/MultivariateGaussianDistribution.pyx\", line 72, in pomegranate.distributions.MultivariateGaussianDistribution.MultivariateGaussianDistribution.__cinit__\n",
            "  File \"/usr/local/lib/python3.6/dist-packages/scipy/linalg/decomp_cholesky.py\", line 91, in cholesky\n",
            "    check_finite=check_finite)\n",
            "  File \"/usr/local/lib/python3.6/dist-packages/scipy/linalg/decomp_cholesky.py\", line 40, in _cholesky\n",
            "    \"definite\" % info)\n",
            "numpy.linalg.LinAlgError: 4-th leading minor of the array is not positive definite\n"
          ],
          "name": "stderr"
        },
        {
          "output_type": "error",
          "ename": "LinAlgError",
          "evalue": "ignored",
          "traceback": [
            "\u001b[0;31m---------------------------------------------------------------------------\u001b[0m",
            "\u001b[0;31mLinAlgError\u001b[0m                               Traceback (most recent call last)",
            "\u001b[0;32mpomegranate/distributions/MultivariateGaussianDistribution.pyx\u001b[0m in \u001b[0;36mpomegranate.distributions.MultivariateGaussianDistribution.MultivariateGaussianDistribution.__cinit__\u001b[0;34m()\u001b[0m\n",
            "\u001b[0;32m/usr/local/lib/python3.6/dist-packages/scipy/linalg/decomp_cholesky.py\u001b[0m in \u001b[0;36mcholesky\u001b[0;34m(a, lower, overwrite_a, check_finite)\u001b[0m\n\u001b[1;32m     89\u001b[0m     \"\"\"\n\u001b[1;32m     90\u001b[0m     c, lower = _cholesky(a, lower=lower, overwrite_a=overwrite_a, clean=True,\n\u001b[0;32m---> 91\u001b[0;31m                          check_finite=check_finite)\n\u001b[0m\u001b[1;32m     92\u001b[0m     \u001b[0;32mreturn\u001b[0m \u001b[0mc\u001b[0m\u001b[0;34m\u001b[0m\u001b[0;34m\u001b[0m\u001b[0m\n\u001b[1;32m     93\u001b[0m \u001b[0;34m\u001b[0m\u001b[0m\n",
            "\u001b[0;32m/usr/local/lib/python3.6/dist-packages/scipy/linalg/decomp_cholesky.py\u001b[0m in \u001b[0;36m_cholesky\u001b[0;34m(a, lower, overwrite_a, clean, check_finite)\u001b[0m\n\u001b[1;32m     38\u001b[0m     \u001b[0;32mif\u001b[0m \u001b[0minfo\u001b[0m \u001b[0;34m>\u001b[0m \u001b[0;36m0\u001b[0m\u001b[0;34m:\u001b[0m\u001b[0;34m\u001b[0m\u001b[0;34m\u001b[0m\u001b[0m\n\u001b[1;32m     39\u001b[0m         raise LinAlgError(\"%d-th leading minor of the array is not positive \"\n\u001b[0;32m---> 40\u001b[0;31m                           \"definite\" % info)\n\u001b[0m\u001b[1;32m     41\u001b[0m     \u001b[0;32mif\u001b[0m \u001b[0minfo\u001b[0m \u001b[0;34m<\u001b[0m \u001b[0;36m0\u001b[0m\u001b[0;34m:\u001b[0m\u001b[0;34m\u001b[0m\u001b[0;34m\u001b[0m\u001b[0m\n\u001b[1;32m     42\u001b[0m         raise ValueError('LAPACK reported an illegal value in {}-th argument'\n",
            "\u001b[0;31mLinAlgError\u001b[0m: 3-th leading minor of the array is not positive definite"
          ]
        },
        {
          "output_type": "stream",
          "text": [
            "Exception ignored in: 'pomegranate.distributions.MultivariateGaussianDistribution.MultivariateGaussianDistribution._log_probability_missing'\n",
            "Traceback (most recent call last):\n",
            "  File \"pomegranate/distributions/MultivariateGaussianDistribution.pyx\", line 72, in pomegranate.distributions.MultivariateGaussianDistribution.MultivariateGaussianDistribution.__cinit__\n",
            "  File \"/usr/local/lib/python3.6/dist-packages/scipy/linalg/decomp_cholesky.py\", line 91, in cholesky\n",
            "    check_finite=check_finite)\n",
            "  File \"/usr/local/lib/python3.6/dist-packages/scipy/linalg/decomp_cholesky.py\", line 40, in _cholesky\n",
            "    \"definite\" % info)\n",
            "numpy.linalg.LinAlgError: 3-th leading minor of the array is not positive definite\n"
          ],
          "name": "stderr"
        },
        {
          "output_type": "error",
          "ename": "LinAlgError",
          "evalue": "ignored",
          "traceback": [
            "\u001b[0;31m---------------------------------------------------------------------------\u001b[0m",
            "\u001b[0;31mLinAlgError\u001b[0m                               Traceback (most recent call last)",
            "\u001b[0;32mpomegranate/distributions/MultivariateGaussianDistribution.pyx\u001b[0m in \u001b[0;36mpomegranate.distributions.MultivariateGaussianDistribution.MultivariateGaussianDistribution.__cinit__\u001b[0;34m()\u001b[0m\n",
            "\u001b[0;32m/usr/local/lib/python3.6/dist-packages/scipy/linalg/decomp_cholesky.py\u001b[0m in \u001b[0;36mcholesky\u001b[0;34m(a, lower, overwrite_a, check_finite)\u001b[0m\n\u001b[1;32m     89\u001b[0m     \"\"\"\n\u001b[1;32m     90\u001b[0m     c, lower = _cholesky(a, lower=lower, overwrite_a=overwrite_a, clean=True,\n\u001b[0;32m---> 91\u001b[0;31m                          check_finite=check_finite)\n\u001b[0m\u001b[1;32m     92\u001b[0m     \u001b[0;32mreturn\u001b[0m \u001b[0mc\u001b[0m\u001b[0;34m\u001b[0m\u001b[0;34m\u001b[0m\u001b[0m\n\u001b[1;32m     93\u001b[0m \u001b[0;34m\u001b[0m\u001b[0m\n",
            "\u001b[0;32m/usr/local/lib/python3.6/dist-packages/scipy/linalg/decomp_cholesky.py\u001b[0m in \u001b[0;36m_cholesky\u001b[0;34m(a, lower, overwrite_a, clean, check_finite)\u001b[0m\n\u001b[1;32m     38\u001b[0m     \u001b[0;32mif\u001b[0m \u001b[0minfo\u001b[0m \u001b[0;34m>\u001b[0m \u001b[0;36m0\u001b[0m\u001b[0;34m:\u001b[0m\u001b[0;34m\u001b[0m\u001b[0;34m\u001b[0m\u001b[0m\n\u001b[1;32m     39\u001b[0m         raise LinAlgError(\"%d-th leading minor of the array is not positive \"\n\u001b[0;32m---> 40\u001b[0;31m                           \"definite\" % info)\n\u001b[0m\u001b[1;32m     41\u001b[0m     \u001b[0;32mif\u001b[0m \u001b[0minfo\u001b[0m \u001b[0;34m<\u001b[0m \u001b[0;36m0\u001b[0m\u001b[0;34m:\u001b[0m\u001b[0;34m\u001b[0m\u001b[0;34m\u001b[0m\u001b[0m\n\u001b[1;32m     42\u001b[0m         raise ValueError('LAPACK reported an illegal value in {}-th argument'\n",
            "\u001b[0;31mLinAlgError\u001b[0m: 4-th leading minor of the array is not positive definite"
          ]
        },
        {
          "output_type": "stream",
          "text": [
            "Exception ignored in: 'pomegranate.distributions.MultivariateGaussianDistribution.MultivariateGaussianDistribution._log_probability_missing'\n",
            "Traceback (most recent call last):\n",
            "  File \"pomegranate/distributions/MultivariateGaussianDistribution.pyx\", line 72, in pomegranate.distributions.MultivariateGaussianDistribution.MultivariateGaussianDistribution.__cinit__\n",
            "  File \"/usr/local/lib/python3.6/dist-packages/scipy/linalg/decomp_cholesky.py\", line 91, in cholesky\n",
            "    check_finite=check_finite)\n",
            "  File \"/usr/local/lib/python3.6/dist-packages/scipy/linalg/decomp_cholesky.py\", line 40, in _cholesky\n",
            "    \"definite\" % info)\n",
            "numpy.linalg.LinAlgError: 4-th leading minor of the array is not positive definite\n"
          ],
          "name": "stderr"
        },
        {
          "output_type": "error",
          "ename": "ValueError",
          "evalue": "ignored",
          "traceback": [
            "\u001b[0;31m---------------------------------------------------------------------------\u001b[0m",
            "\u001b[0;31mValueError\u001b[0m                                Traceback (most recent call last)",
            "\u001b[0;32mpomegranate/distributions/MultivariateGaussianDistribution.pyx\u001b[0m in \u001b[0;36mpomegranate.distributions.MultivariateGaussianDistribution.MultivariateGaussianDistribution.__cinit__\u001b[0;34m()\u001b[0m\n",
            "\u001b[0;31mValueError\u001b[0m: covariance matrix is not invertible."
          ]
        },
        {
          "output_type": "stream",
          "text": [
            "Exception ignored in: 'pomegranate.distributions.MultivariateGaussianDistribution.MultivariateGaussianDistribution._log_probability_missing'\n",
            "Traceback (most recent call last):\n",
            "  File \"pomegranate/distributions/MultivariateGaussianDistribution.pyx\", line 65, in pomegranate.distributions.MultivariateGaussianDistribution.MultivariateGaussianDistribution.__cinit__\n",
            "ValueError: covariance matrix is not invertible.\n"
          ],
          "name": "stderr"
        },
        {
          "output_type": "error",
          "ename": "LinAlgError",
          "evalue": "ignored",
          "traceback": [
            "\u001b[0;31m---------------------------------------------------------------------------\u001b[0m",
            "\u001b[0;31mLinAlgError\u001b[0m                               Traceback (most recent call last)",
            "\u001b[0;32mpomegranate/distributions/MultivariateGaussianDistribution.pyx\u001b[0m in \u001b[0;36mpomegranate.distributions.MultivariateGaussianDistribution.MultivariateGaussianDistribution.__cinit__\u001b[0;34m()\u001b[0m\n",
            "\u001b[0;32m/usr/local/lib/python3.6/dist-packages/scipy/linalg/decomp_cholesky.py\u001b[0m in \u001b[0;36mcholesky\u001b[0;34m(a, lower, overwrite_a, check_finite)\u001b[0m\n\u001b[1;32m     89\u001b[0m     \"\"\"\n\u001b[1;32m     90\u001b[0m     c, lower = _cholesky(a, lower=lower, overwrite_a=overwrite_a, clean=True,\n\u001b[0;32m---> 91\u001b[0;31m                          check_finite=check_finite)\n\u001b[0m\u001b[1;32m     92\u001b[0m     \u001b[0;32mreturn\u001b[0m \u001b[0mc\u001b[0m\u001b[0;34m\u001b[0m\u001b[0;34m\u001b[0m\u001b[0m\n\u001b[1;32m     93\u001b[0m \u001b[0;34m\u001b[0m\u001b[0m\n",
            "\u001b[0;32m/usr/local/lib/python3.6/dist-packages/scipy/linalg/decomp_cholesky.py\u001b[0m in \u001b[0;36m_cholesky\u001b[0;34m(a, lower, overwrite_a, clean, check_finite)\u001b[0m\n\u001b[1;32m     38\u001b[0m     \u001b[0;32mif\u001b[0m \u001b[0minfo\u001b[0m \u001b[0;34m>\u001b[0m \u001b[0;36m0\u001b[0m\u001b[0;34m:\u001b[0m\u001b[0;34m\u001b[0m\u001b[0;34m\u001b[0m\u001b[0m\n\u001b[1;32m     39\u001b[0m         raise LinAlgError(\"%d-th leading minor of the array is not positive \"\n\u001b[0;32m---> 40\u001b[0;31m                           \"definite\" % info)\n\u001b[0m\u001b[1;32m     41\u001b[0m     \u001b[0;32mif\u001b[0m \u001b[0minfo\u001b[0m \u001b[0;34m<\u001b[0m \u001b[0;36m0\u001b[0m\u001b[0;34m:\u001b[0m\u001b[0;34m\u001b[0m\u001b[0;34m\u001b[0m\u001b[0m\n\u001b[1;32m     42\u001b[0m         raise ValueError('LAPACK reported an illegal value in {}-th argument'\n",
            "\u001b[0;31mLinAlgError\u001b[0m: 4-th leading minor of the array is not positive definite"
          ]
        },
        {
          "output_type": "stream",
          "text": [
            "Exception ignored in: 'pomegranate.distributions.MultivariateGaussianDistribution.MultivariateGaussianDistribution._log_probability_missing'\n",
            "Traceback (most recent call last):\n",
            "  File \"pomegranate/distributions/MultivariateGaussianDistribution.pyx\", line 72, in pomegranate.distributions.MultivariateGaussianDistribution.MultivariateGaussianDistribution.__cinit__\n",
            "  File \"/usr/local/lib/python3.6/dist-packages/scipy/linalg/decomp_cholesky.py\", line 91, in cholesky\n",
            "    check_finite=check_finite)\n",
            "  File \"/usr/local/lib/python3.6/dist-packages/scipy/linalg/decomp_cholesky.py\", line 40, in _cholesky\n",
            "    \"definite\" % info)\n",
            "numpy.linalg.LinAlgError: 4-th leading minor of the array is not positive definite\n"
          ],
          "name": "stderr"
        },
        {
          "output_type": "error",
          "ename": "LinAlgError",
          "evalue": "ignored",
          "traceback": [
            "\u001b[0;31m---------------------------------------------------------------------------\u001b[0m",
            "\u001b[0;31mLinAlgError\u001b[0m                               Traceback (most recent call last)",
            "\u001b[0;32mpomegranate/distributions/MultivariateGaussianDistribution.pyx\u001b[0m in \u001b[0;36mpomegranate.distributions.MultivariateGaussianDistribution.MultivariateGaussianDistribution.__cinit__\u001b[0;34m()\u001b[0m\n",
            "\u001b[0;32m/usr/local/lib/python3.6/dist-packages/scipy/linalg/decomp_cholesky.py\u001b[0m in \u001b[0;36mcholesky\u001b[0;34m(a, lower, overwrite_a, check_finite)\u001b[0m\n\u001b[1;32m     89\u001b[0m     \"\"\"\n\u001b[1;32m     90\u001b[0m     c, lower = _cholesky(a, lower=lower, overwrite_a=overwrite_a, clean=True,\n\u001b[0;32m---> 91\u001b[0;31m                          check_finite=check_finite)\n\u001b[0m\u001b[1;32m     92\u001b[0m     \u001b[0;32mreturn\u001b[0m \u001b[0mc\u001b[0m\u001b[0;34m\u001b[0m\u001b[0;34m\u001b[0m\u001b[0m\n\u001b[1;32m     93\u001b[0m \u001b[0;34m\u001b[0m\u001b[0m\n",
            "\u001b[0;32m/usr/local/lib/python3.6/dist-packages/scipy/linalg/decomp_cholesky.py\u001b[0m in \u001b[0;36m_cholesky\u001b[0;34m(a, lower, overwrite_a, clean, check_finite)\u001b[0m\n\u001b[1;32m     38\u001b[0m     \u001b[0;32mif\u001b[0m \u001b[0minfo\u001b[0m \u001b[0;34m>\u001b[0m \u001b[0;36m0\u001b[0m\u001b[0;34m:\u001b[0m\u001b[0;34m\u001b[0m\u001b[0;34m\u001b[0m\u001b[0m\n\u001b[1;32m     39\u001b[0m         raise LinAlgError(\"%d-th leading minor of the array is not positive \"\n\u001b[0;32m---> 40\u001b[0;31m                           \"definite\" % info)\n\u001b[0m\u001b[1;32m     41\u001b[0m     \u001b[0;32mif\u001b[0m \u001b[0minfo\u001b[0m \u001b[0;34m<\u001b[0m \u001b[0;36m0\u001b[0m\u001b[0;34m:\u001b[0m\u001b[0;34m\u001b[0m\u001b[0;34m\u001b[0m\u001b[0m\n\u001b[1;32m     42\u001b[0m         raise ValueError('LAPACK reported an illegal value in {}-th argument'\n",
            "\u001b[0;31mLinAlgError\u001b[0m: 2-th leading minor of the array is not positive definite"
          ]
        },
        {
          "output_type": "stream",
          "text": [
            "Exception ignored in: 'pomegranate.distributions.MultivariateGaussianDistribution.MultivariateGaussianDistribution._log_probability_missing'\n",
            "Traceback (most recent call last):\n",
            "  File \"pomegranate/distributions/MultivariateGaussianDistribution.pyx\", line 72, in pomegranate.distributions.MultivariateGaussianDistribution.MultivariateGaussianDistribution.__cinit__\n",
            "  File \"/usr/local/lib/python3.6/dist-packages/scipy/linalg/decomp_cholesky.py\", line 91, in cholesky\n",
            "    check_finite=check_finite)\n",
            "  File \"/usr/local/lib/python3.6/dist-packages/scipy/linalg/decomp_cholesky.py\", line 40, in _cholesky\n",
            "    \"definite\" % info)\n",
            "numpy.linalg.LinAlgError: 2-th leading minor of the array is not positive definite\n"
          ],
          "name": "stderr"
        },
        {
          "output_type": "error",
          "ename": "LinAlgError",
          "evalue": "ignored",
          "traceback": [
            "\u001b[0;31m---------------------------------------------------------------------------\u001b[0m",
            "\u001b[0;31mLinAlgError\u001b[0m                               Traceback (most recent call last)",
            "\u001b[0;32mpomegranate/distributions/MultivariateGaussianDistribution.pyx\u001b[0m in \u001b[0;36mpomegranate.distributions.MultivariateGaussianDistribution.MultivariateGaussianDistribution.__cinit__\u001b[0;34m()\u001b[0m\n",
            "\u001b[0;32m/usr/local/lib/python3.6/dist-packages/scipy/linalg/decomp_cholesky.py\u001b[0m in \u001b[0;36mcholesky\u001b[0;34m(a, lower, overwrite_a, check_finite)\u001b[0m\n\u001b[1;32m     89\u001b[0m     \"\"\"\n\u001b[1;32m     90\u001b[0m     c, lower = _cholesky(a, lower=lower, overwrite_a=overwrite_a, clean=True,\n\u001b[0;32m---> 91\u001b[0;31m                          check_finite=check_finite)\n\u001b[0m\u001b[1;32m     92\u001b[0m     \u001b[0;32mreturn\u001b[0m \u001b[0mc\u001b[0m\u001b[0;34m\u001b[0m\u001b[0;34m\u001b[0m\u001b[0m\n\u001b[1;32m     93\u001b[0m \u001b[0;34m\u001b[0m\u001b[0m\n",
            "\u001b[0;32m/usr/local/lib/python3.6/dist-packages/scipy/linalg/decomp_cholesky.py\u001b[0m in \u001b[0;36m_cholesky\u001b[0;34m(a, lower, overwrite_a, clean, check_finite)\u001b[0m\n\u001b[1;32m     38\u001b[0m     \u001b[0;32mif\u001b[0m \u001b[0minfo\u001b[0m \u001b[0;34m>\u001b[0m \u001b[0;36m0\u001b[0m\u001b[0;34m:\u001b[0m\u001b[0;34m\u001b[0m\u001b[0;34m\u001b[0m\u001b[0m\n\u001b[1;32m     39\u001b[0m         raise LinAlgError(\"%d-th leading minor of the array is not positive \"\n\u001b[0;32m---> 40\u001b[0;31m                           \"definite\" % info)\n\u001b[0m\u001b[1;32m     41\u001b[0m     \u001b[0;32mif\u001b[0m \u001b[0minfo\u001b[0m \u001b[0;34m<\u001b[0m \u001b[0;36m0\u001b[0m\u001b[0;34m:\u001b[0m\u001b[0;34m\u001b[0m\u001b[0;34m\u001b[0m\u001b[0m\n\u001b[1;32m     42\u001b[0m         raise ValueError('LAPACK reported an illegal value in {}-th argument'\n",
            "\u001b[0;31mLinAlgError\u001b[0m: 4-th leading minor of the array is not positive definite"
          ]
        },
        {
          "output_type": "stream",
          "text": [
            "Exception ignored in: 'pomegranate.distributions.MultivariateGaussianDistribution.MultivariateGaussianDistribution._log_probability_missing'\n",
            "Traceback (most recent call last):\n",
            "  File \"pomegranate/distributions/MultivariateGaussianDistribution.pyx\", line 72, in pomegranate.distributions.MultivariateGaussianDistribution.MultivariateGaussianDistribution.__cinit__\n",
            "  File \"/usr/local/lib/python3.6/dist-packages/scipy/linalg/decomp_cholesky.py\", line 91, in cholesky\n",
            "    check_finite=check_finite)\n",
            "  File \"/usr/local/lib/python3.6/dist-packages/scipy/linalg/decomp_cholesky.py\", line 40, in _cholesky\n",
            "    \"definite\" % info)\n",
            "numpy.linalg.LinAlgError: 4-th leading minor of the array is not positive definite\n"
          ],
          "name": "stderr"
        },
        {
          "output_type": "error",
          "ename": "LinAlgError",
          "evalue": "ignored",
          "traceback": [
            "\u001b[0;31m---------------------------------------------------------------------------\u001b[0m",
            "\u001b[0;31mLinAlgError\u001b[0m                               Traceback (most recent call last)",
            "\u001b[0;32mpomegranate/distributions/MultivariateGaussianDistribution.pyx\u001b[0m in \u001b[0;36mpomegranate.distributions.MultivariateGaussianDistribution.MultivariateGaussianDistribution.__cinit__\u001b[0;34m()\u001b[0m\n",
            "\u001b[0;32m/usr/local/lib/python3.6/dist-packages/scipy/linalg/decomp_cholesky.py\u001b[0m in \u001b[0;36mcholesky\u001b[0;34m(a, lower, overwrite_a, check_finite)\u001b[0m\n\u001b[1;32m     89\u001b[0m     \"\"\"\n\u001b[1;32m     90\u001b[0m     c, lower = _cholesky(a, lower=lower, overwrite_a=overwrite_a, clean=True,\n\u001b[0;32m---> 91\u001b[0;31m                          check_finite=check_finite)\n\u001b[0m\u001b[1;32m     92\u001b[0m     \u001b[0;32mreturn\u001b[0m \u001b[0mc\u001b[0m\u001b[0;34m\u001b[0m\u001b[0;34m\u001b[0m\u001b[0m\n\u001b[1;32m     93\u001b[0m \u001b[0;34m\u001b[0m\u001b[0m\n",
            "\u001b[0;32m/usr/local/lib/python3.6/dist-packages/scipy/linalg/decomp_cholesky.py\u001b[0m in \u001b[0;36m_cholesky\u001b[0;34m(a, lower, overwrite_a, clean, check_finite)\u001b[0m\n\u001b[1;32m     38\u001b[0m     \u001b[0;32mif\u001b[0m \u001b[0minfo\u001b[0m \u001b[0;34m>\u001b[0m \u001b[0;36m0\u001b[0m\u001b[0;34m:\u001b[0m\u001b[0;34m\u001b[0m\u001b[0;34m\u001b[0m\u001b[0m\n\u001b[1;32m     39\u001b[0m         raise LinAlgError(\"%d-th leading minor of the array is not positive \"\n\u001b[0;32m---> 40\u001b[0;31m                           \"definite\" % info)\n\u001b[0m\u001b[1;32m     41\u001b[0m     \u001b[0;32mif\u001b[0m \u001b[0minfo\u001b[0m \u001b[0;34m<\u001b[0m \u001b[0;36m0\u001b[0m\u001b[0;34m:\u001b[0m\u001b[0;34m\u001b[0m\u001b[0;34m\u001b[0m\u001b[0m\n\u001b[1;32m     42\u001b[0m         raise ValueError('LAPACK reported an illegal value in {}-th argument'\n",
            "\u001b[0;31mLinAlgError\u001b[0m: 3-th leading minor of the array is not positive definite"
          ]
        },
        {
          "output_type": "stream",
          "text": [
            "Exception ignored in: 'pomegranate.distributions.MultivariateGaussianDistribution.MultivariateGaussianDistribution._log_probability_missing'\n",
            "Traceback (most recent call last):\n",
            "  File \"pomegranate/distributions/MultivariateGaussianDistribution.pyx\", line 72, in pomegranate.distributions.MultivariateGaussianDistribution.MultivariateGaussianDistribution.__cinit__\n",
            "  File \"/usr/local/lib/python3.6/dist-packages/scipy/linalg/decomp_cholesky.py\", line 91, in cholesky\n",
            "    check_finite=check_finite)\n",
            "  File \"/usr/local/lib/python3.6/dist-packages/scipy/linalg/decomp_cholesky.py\", line 40, in _cholesky\n",
            "    \"definite\" % info)\n",
            "numpy.linalg.LinAlgError: 3-th leading minor of the array is not positive definite\n"
          ],
          "name": "stderr"
        },
        {
          "output_type": "error",
          "ename": "LinAlgError",
          "evalue": "ignored",
          "traceback": [
            "\u001b[0;31m---------------------------------------------------------------------------\u001b[0m",
            "\u001b[0;31mLinAlgError\u001b[0m                               Traceback (most recent call last)",
            "\u001b[0;32mpomegranate/distributions/MultivariateGaussianDistribution.pyx\u001b[0m in \u001b[0;36mpomegranate.distributions.MultivariateGaussianDistribution.MultivariateGaussianDistribution.__cinit__\u001b[0;34m()\u001b[0m\n",
            "\u001b[0;32m/usr/local/lib/python3.6/dist-packages/scipy/linalg/decomp_cholesky.py\u001b[0m in \u001b[0;36mcholesky\u001b[0;34m(a, lower, overwrite_a, check_finite)\u001b[0m\n\u001b[1;32m     89\u001b[0m     \"\"\"\n\u001b[1;32m     90\u001b[0m     c, lower = _cholesky(a, lower=lower, overwrite_a=overwrite_a, clean=True,\n\u001b[0;32m---> 91\u001b[0;31m                          check_finite=check_finite)\n\u001b[0m\u001b[1;32m     92\u001b[0m     \u001b[0;32mreturn\u001b[0m \u001b[0mc\u001b[0m\u001b[0;34m\u001b[0m\u001b[0;34m\u001b[0m\u001b[0m\n\u001b[1;32m     93\u001b[0m \u001b[0;34m\u001b[0m\u001b[0m\n",
            "\u001b[0;32m/usr/local/lib/python3.6/dist-packages/scipy/linalg/decomp_cholesky.py\u001b[0m in \u001b[0;36m_cholesky\u001b[0;34m(a, lower, overwrite_a, clean, check_finite)\u001b[0m\n\u001b[1;32m     38\u001b[0m     \u001b[0;32mif\u001b[0m \u001b[0minfo\u001b[0m \u001b[0;34m>\u001b[0m \u001b[0;36m0\u001b[0m\u001b[0;34m:\u001b[0m\u001b[0;34m\u001b[0m\u001b[0;34m\u001b[0m\u001b[0m\n\u001b[1;32m     39\u001b[0m         raise LinAlgError(\"%d-th leading minor of the array is not positive \"\n\u001b[0;32m---> 40\u001b[0;31m                           \"definite\" % info)\n\u001b[0m\u001b[1;32m     41\u001b[0m     \u001b[0;32mif\u001b[0m \u001b[0minfo\u001b[0m \u001b[0;34m<\u001b[0m \u001b[0;36m0\u001b[0m\u001b[0;34m:\u001b[0m\u001b[0;34m\u001b[0m\u001b[0;34m\u001b[0m\u001b[0m\n\u001b[1;32m     42\u001b[0m         raise ValueError('LAPACK reported an illegal value in {}-th argument'\n",
            "\u001b[0;31mLinAlgError\u001b[0m: 3-th leading minor of the array is not positive definite"
          ]
        },
        {
          "output_type": "stream",
          "text": [
            "Exception ignored in: 'pomegranate.distributions.MultivariateGaussianDistribution.MultivariateGaussianDistribution._log_probability_missing'\n",
            "Traceback (most recent call last):\n",
            "  File \"pomegranate/distributions/MultivariateGaussianDistribution.pyx\", line 72, in pomegranate.distributions.MultivariateGaussianDistribution.MultivariateGaussianDistribution.__cinit__\n",
            "  File \"/usr/local/lib/python3.6/dist-packages/scipy/linalg/decomp_cholesky.py\", line 91, in cholesky\n",
            "    check_finite=check_finite)\n",
            "  File \"/usr/local/lib/python3.6/dist-packages/scipy/linalg/decomp_cholesky.py\", line 40, in _cholesky\n",
            "    \"definite\" % info)\n",
            "numpy.linalg.LinAlgError: 3-th leading minor of the array is not positive definite\n"
          ],
          "name": "stderr"
        },
        {
          "output_type": "error",
          "ename": "LinAlgError",
          "evalue": "ignored",
          "traceback": [
            "\u001b[0;31m---------------------------------------------------------------------------\u001b[0m",
            "\u001b[0;31mLinAlgError\u001b[0m                               Traceback (most recent call last)",
            "\u001b[0;32mpomegranate/distributions/MultivariateGaussianDistribution.pyx\u001b[0m in \u001b[0;36mpomegranate.distributions.MultivariateGaussianDistribution.MultivariateGaussianDistribution.__cinit__\u001b[0;34m()\u001b[0m\n",
            "\u001b[0;32m/usr/local/lib/python3.6/dist-packages/scipy/linalg/decomp_cholesky.py\u001b[0m in \u001b[0;36mcholesky\u001b[0;34m(a, lower, overwrite_a, check_finite)\u001b[0m\n\u001b[1;32m     89\u001b[0m     \"\"\"\n\u001b[1;32m     90\u001b[0m     c, lower = _cholesky(a, lower=lower, overwrite_a=overwrite_a, clean=True,\n\u001b[0;32m---> 91\u001b[0;31m                          check_finite=check_finite)\n\u001b[0m\u001b[1;32m     92\u001b[0m     \u001b[0;32mreturn\u001b[0m \u001b[0mc\u001b[0m\u001b[0;34m\u001b[0m\u001b[0;34m\u001b[0m\u001b[0m\n\u001b[1;32m     93\u001b[0m \u001b[0;34m\u001b[0m\u001b[0m\n",
            "\u001b[0;32m/usr/local/lib/python3.6/dist-packages/scipy/linalg/decomp_cholesky.py\u001b[0m in \u001b[0;36m_cholesky\u001b[0;34m(a, lower, overwrite_a, clean, check_finite)\u001b[0m\n\u001b[1;32m     38\u001b[0m     \u001b[0;32mif\u001b[0m \u001b[0minfo\u001b[0m \u001b[0;34m>\u001b[0m \u001b[0;36m0\u001b[0m\u001b[0;34m:\u001b[0m\u001b[0;34m\u001b[0m\u001b[0;34m\u001b[0m\u001b[0m\n\u001b[1;32m     39\u001b[0m         raise LinAlgError(\"%d-th leading minor of the array is not positive \"\n\u001b[0;32m---> 40\u001b[0;31m                           \"definite\" % info)\n\u001b[0m\u001b[1;32m     41\u001b[0m     \u001b[0;32mif\u001b[0m \u001b[0minfo\u001b[0m \u001b[0;34m<\u001b[0m \u001b[0;36m0\u001b[0m\u001b[0;34m:\u001b[0m\u001b[0;34m\u001b[0m\u001b[0;34m\u001b[0m\u001b[0m\n\u001b[1;32m     42\u001b[0m         raise ValueError('LAPACK reported an illegal value in {}-th argument'\n",
            "\u001b[0;31mLinAlgError\u001b[0m: 4-th leading minor of the array is not positive definite"
          ]
        },
        {
          "output_type": "stream",
          "text": [
            "Exception ignored in: 'pomegranate.distributions.MultivariateGaussianDistribution.MultivariateGaussianDistribution._log_probability_missing'\n",
            "Traceback (most recent call last):\n",
            "  File \"pomegranate/distributions/MultivariateGaussianDistribution.pyx\", line 72, in pomegranate.distributions.MultivariateGaussianDistribution.MultivariateGaussianDistribution.__cinit__\n",
            "  File \"/usr/local/lib/python3.6/dist-packages/scipy/linalg/decomp_cholesky.py\", line 91, in cholesky\n",
            "    check_finite=check_finite)\n",
            "  File \"/usr/local/lib/python3.6/dist-packages/scipy/linalg/decomp_cholesky.py\", line 40, in _cholesky\n",
            "    \"definite\" % info)\n",
            "numpy.linalg.LinAlgError: 4-th leading minor of the array is not positive definite\n"
          ],
          "name": "stderr"
        },
        {
          "output_type": "error",
          "ename": "LinAlgError",
          "evalue": "ignored",
          "traceback": [
            "\u001b[0;31m---------------------------------------------------------------------------\u001b[0m",
            "\u001b[0;31mLinAlgError\u001b[0m                               Traceback (most recent call last)",
            "\u001b[0;32mpomegranate/distributions/MultivariateGaussianDistribution.pyx\u001b[0m in \u001b[0;36mpomegranate.distributions.MultivariateGaussianDistribution.MultivariateGaussianDistribution.__cinit__\u001b[0;34m()\u001b[0m\n",
            "\u001b[0;32m/usr/local/lib/python3.6/dist-packages/scipy/linalg/decomp_cholesky.py\u001b[0m in \u001b[0;36mcholesky\u001b[0;34m(a, lower, overwrite_a, check_finite)\u001b[0m\n\u001b[1;32m     89\u001b[0m     \"\"\"\n\u001b[1;32m     90\u001b[0m     c, lower = _cholesky(a, lower=lower, overwrite_a=overwrite_a, clean=True,\n\u001b[0;32m---> 91\u001b[0;31m                          check_finite=check_finite)\n\u001b[0m\u001b[1;32m     92\u001b[0m     \u001b[0;32mreturn\u001b[0m \u001b[0mc\u001b[0m\u001b[0;34m\u001b[0m\u001b[0;34m\u001b[0m\u001b[0m\n\u001b[1;32m     93\u001b[0m \u001b[0;34m\u001b[0m\u001b[0m\n",
            "\u001b[0;32m/usr/local/lib/python3.6/dist-packages/scipy/linalg/decomp_cholesky.py\u001b[0m in \u001b[0;36m_cholesky\u001b[0;34m(a, lower, overwrite_a, clean, check_finite)\u001b[0m\n\u001b[1;32m     38\u001b[0m     \u001b[0;32mif\u001b[0m \u001b[0minfo\u001b[0m \u001b[0;34m>\u001b[0m \u001b[0;36m0\u001b[0m\u001b[0;34m:\u001b[0m\u001b[0;34m\u001b[0m\u001b[0;34m\u001b[0m\u001b[0m\n\u001b[1;32m     39\u001b[0m         raise LinAlgError(\"%d-th leading minor of the array is not positive \"\n\u001b[0;32m---> 40\u001b[0;31m                           \"definite\" % info)\n\u001b[0m\u001b[1;32m     41\u001b[0m     \u001b[0;32mif\u001b[0m \u001b[0minfo\u001b[0m \u001b[0;34m<\u001b[0m \u001b[0;36m0\u001b[0m\u001b[0;34m:\u001b[0m\u001b[0;34m\u001b[0m\u001b[0;34m\u001b[0m\u001b[0m\n\u001b[1;32m     42\u001b[0m         raise ValueError('LAPACK reported an illegal value in {}-th argument'\n",
            "\u001b[0;31mLinAlgError\u001b[0m: 2-th leading minor of the array is not positive definite"
          ]
        },
        {
          "output_type": "stream",
          "text": [
            "Exception ignored in: 'pomegranate.distributions.MultivariateGaussianDistribution.MultivariateGaussianDistribution._log_probability_missing'\n",
            "Traceback (most recent call last):\n",
            "  File \"pomegranate/distributions/MultivariateGaussianDistribution.pyx\", line 72, in pomegranate.distributions.MultivariateGaussianDistribution.MultivariateGaussianDistribution.__cinit__\n",
            "  File \"/usr/local/lib/python3.6/dist-packages/scipy/linalg/decomp_cholesky.py\", line 91, in cholesky\n",
            "    check_finite=check_finite)\n",
            "  File \"/usr/local/lib/python3.6/dist-packages/scipy/linalg/decomp_cholesky.py\", line 40, in _cholesky\n",
            "    \"definite\" % info)\n",
            "numpy.linalg.LinAlgError: 2-th leading minor of the array is not positive definite\n"
          ],
          "name": "stderr"
        },
        {
          "output_type": "error",
          "ename": "LinAlgError",
          "evalue": "ignored",
          "traceback": [
            "\u001b[0;31m---------------------------------------------------------------------------\u001b[0m",
            "\u001b[0;31mLinAlgError\u001b[0m                               Traceback (most recent call last)",
            "\u001b[0;32mpomegranate/distributions/MultivariateGaussianDistribution.pyx\u001b[0m in \u001b[0;36mpomegranate.distributions.MultivariateGaussianDistribution.MultivariateGaussianDistribution.__cinit__\u001b[0;34m()\u001b[0m\n",
            "\u001b[0;32m/usr/local/lib/python3.6/dist-packages/scipy/linalg/decomp_cholesky.py\u001b[0m in \u001b[0;36mcholesky\u001b[0;34m(a, lower, overwrite_a, check_finite)\u001b[0m\n\u001b[1;32m     89\u001b[0m     \"\"\"\n\u001b[1;32m     90\u001b[0m     c, lower = _cholesky(a, lower=lower, overwrite_a=overwrite_a, clean=True,\n\u001b[0;32m---> 91\u001b[0;31m                          check_finite=check_finite)\n\u001b[0m\u001b[1;32m     92\u001b[0m     \u001b[0;32mreturn\u001b[0m \u001b[0mc\u001b[0m\u001b[0;34m\u001b[0m\u001b[0;34m\u001b[0m\u001b[0m\n\u001b[1;32m     93\u001b[0m \u001b[0;34m\u001b[0m\u001b[0m\n",
            "\u001b[0;32m/usr/local/lib/python3.6/dist-packages/scipy/linalg/decomp_cholesky.py\u001b[0m in \u001b[0;36m_cholesky\u001b[0;34m(a, lower, overwrite_a, clean, check_finite)\u001b[0m\n\u001b[1;32m     38\u001b[0m     \u001b[0;32mif\u001b[0m \u001b[0minfo\u001b[0m \u001b[0;34m>\u001b[0m \u001b[0;36m0\u001b[0m\u001b[0;34m:\u001b[0m\u001b[0;34m\u001b[0m\u001b[0;34m\u001b[0m\u001b[0m\n\u001b[1;32m     39\u001b[0m         raise LinAlgError(\"%d-th leading minor of the array is not positive \"\n\u001b[0;32m---> 40\u001b[0;31m                           \"definite\" % info)\n\u001b[0m\u001b[1;32m     41\u001b[0m     \u001b[0;32mif\u001b[0m \u001b[0minfo\u001b[0m \u001b[0;34m<\u001b[0m \u001b[0;36m0\u001b[0m\u001b[0;34m:\u001b[0m\u001b[0;34m\u001b[0m\u001b[0;34m\u001b[0m\u001b[0m\n\u001b[1;32m     42\u001b[0m         raise ValueError('LAPACK reported an illegal value in {}-th argument'\n",
            "\u001b[0;31mLinAlgError\u001b[0m: 3-th leading minor of the array is not positive definite"
          ]
        },
        {
          "output_type": "stream",
          "text": [
            "Exception ignored in: 'pomegranate.distributions.MultivariateGaussianDistribution.MultivariateGaussianDistribution._log_probability_missing'\n",
            "Traceback (most recent call last):\n",
            "  File \"pomegranate/distributions/MultivariateGaussianDistribution.pyx\", line 72, in pomegranate.distributions.MultivariateGaussianDistribution.MultivariateGaussianDistribution.__cinit__\n",
            "  File \"/usr/local/lib/python3.6/dist-packages/scipy/linalg/decomp_cholesky.py\", line 91, in cholesky\n",
            "    check_finite=check_finite)\n",
            "  File \"/usr/local/lib/python3.6/dist-packages/scipy/linalg/decomp_cholesky.py\", line 40, in _cholesky\n",
            "    \"definite\" % info)\n",
            "numpy.linalg.LinAlgError: 3-th leading minor of the array is not positive definite\n"
          ],
          "name": "stderr"
        },
        {
          "output_type": "error",
          "ename": "LinAlgError",
          "evalue": "ignored",
          "traceback": [
            "\u001b[0;31m---------------------------------------------------------------------------\u001b[0m",
            "\u001b[0;31mLinAlgError\u001b[0m                               Traceback (most recent call last)",
            "\u001b[0;32mpomegranate/distributions/MultivariateGaussianDistribution.pyx\u001b[0m in \u001b[0;36mpomegranate.distributions.MultivariateGaussianDistribution.MultivariateGaussianDistribution.__cinit__\u001b[0;34m()\u001b[0m\n",
            "\u001b[0;32m/usr/local/lib/python3.6/dist-packages/scipy/linalg/decomp_cholesky.py\u001b[0m in \u001b[0;36mcholesky\u001b[0;34m(a, lower, overwrite_a, check_finite)\u001b[0m\n\u001b[1;32m     89\u001b[0m     \"\"\"\n\u001b[1;32m     90\u001b[0m     c, lower = _cholesky(a, lower=lower, overwrite_a=overwrite_a, clean=True,\n\u001b[0;32m---> 91\u001b[0;31m                          check_finite=check_finite)\n\u001b[0m\u001b[1;32m     92\u001b[0m     \u001b[0;32mreturn\u001b[0m \u001b[0mc\u001b[0m\u001b[0;34m\u001b[0m\u001b[0;34m\u001b[0m\u001b[0m\n\u001b[1;32m     93\u001b[0m \u001b[0;34m\u001b[0m\u001b[0m\n",
            "\u001b[0;32m/usr/local/lib/python3.6/dist-packages/scipy/linalg/decomp_cholesky.py\u001b[0m in \u001b[0;36m_cholesky\u001b[0;34m(a, lower, overwrite_a, clean, check_finite)\u001b[0m\n\u001b[1;32m     38\u001b[0m     \u001b[0;32mif\u001b[0m \u001b[0minfo\u001b[0m \u001b[0;34m>\u001b[0m \u001b[0;36m0\u001b[0m\u001b[0;34m:\u001b[0m\u001b[0;34m\u001b[0m\u001b[0;34m\u001b[0m\u001b[0m\n\u001b[1;32m     39\u001b[0m         raise LinAlgError(\"%d-th leading minor of the array is not positive \"\n\u001b[0;32m---> 40\u001b[0;31m                           \"definite\" % info)\n\u001b[0m\u001b[1;32m     41\u001b[0m     \u001b[0;32mif\u001b[0m \u001b[0minfo\u001b[0m \u001b[0;34m<\u001b[0m \u001b[0;36m0\u001b[0m\u001b[0;34m:\u001b[0m\u001b[0;34m\u001b[0m\u001b[0;34m\u001b[0m\u001b[0m\n\u001b[1;32m     42\u001b[0m         raise ValueError('LAPACK reported an illegal value in {}-th argument'\n",
            "\u001b[0;31mLinAlgError\u001b[0m: 3-th leading minor of the array is not positive definite"
          ]
        },
        {
          "output_type": "stream",
          "text": [
            "Exception ignored in: 'pomegranate.distributions.MultivariateGaussianDistribution.MultivariateGaussianDistribution._log_probability_missing'\n",
            "Traceback (most recent call last):\n",
            "  File \"pomegranate/distributions/MultivariateGaussianDistribution.pyx\", line 72, in pomegranate.distributions.MultivariateGaussianDistribution.MultivariateGaussianDistribution.__cinit__\n",
            "  File \"/usr/local/lib/python3.6/dist-packages/scipy/linalg/decomp_cholesky.py\", line 91, in cholesky\n",
            "    check_finite=check_finite)\n",
            "  File \"/usr/local/lib/python3.6/dist-packages/scipy/linalg/decomp_cholesky.py\", line 40, in _cholesky\n",
            "    \"definite\" % info)\n",
            "numpy.linalg.LinAlgError: 3-th leading minor of the array is not positive definite\n"
          ],
          "name": "stderr"
        },
        {
          "output_type": "error",
          "ename": "LinAlgError",
          "evalue": "ignored",
          "traceback": [
            "\u001b[0;31m---------------------------------------------------------------------------\u001b[0m",
            "\u001b[0;31mLinAlgError\u001b[0m                               Traceback (most recent call last)",
            "\u001b[0;32mpomegranate/distributions/MultivariateGaussianDistribution.pyx\u001b[0m in \u001b[0;36mpomegranate.distributions.MultivariateGaussianDistribution.MultivariateGaussianDistribution.__cinit__\u001b[0;34m()\u001b[0m\n",
            "\u001b[0;32m/usr/local/lib/python3.6/dist-packages/scipy/linalg/decomp_cholesky.py\u001b[0m in \u001b[0;36mcholesky\u001b[0;34m(a, lower, overwrite_a, check_finite)\u001b[0m\n\u001b[1;32m     89\u001b[0m     \"\"\"\n\u001b[1;32m     90\u001b[0m     c, lower = _cholesky(a, lower=lower, overwrite_a=overwrite_a, clean=True,\n\u001b[0;32m---> 91\u001b[0;31m                          check_finite=check_finite)\n\u001b[0m\u001b[1;32m     92\u001b[0m     \u001b[0;32mreturn\u001b[0m \u001b[0mc\u001b[0m\u001b[0;34m\u001b[0m\u001b[0;34m\u001b[0m\u001b[0m\n\u001b[1;32m     93\u001b[0m \u001b[0;34m\u001b[0m\u001b[0m\n",
            "\u001b[0;32m/usr/local/lib/python3.6/dist-packages/scipy/linalg/decomp_cholesky.py\u001b[0m in \u001b[0;36m_cholesky\u001b[0;34m(a, lower, overwrite_a, clean, check_finite)\u001b[0m\n\u001b[1;32m     38\u001b[0m     \u001b[0;32mif\u001b[0m \u001b[0minfo\u001b[0m \u001b[0;34m>\u001b[0m \u001b[0;36m0\u001b[0m\u001b[0;34m:\u001b[0m\u001b[0;34m\u001b[0m\u001b[0;34m\u001b[0m\u001b[0m\n\u001b[1;32m     39\u001b[0m         raise LinAlgError(\"%d-th leading minor of the array is not positive \"\n\u001b[0;32m---> 40\u001b[0;31m                           \"definite\" % info)\n\u001b[0m\u001b[1;32m     41\u001b[0m     \u001b[0;32mif\u001b[0m \u001b[0minfo\u001b[0m \u001b[0;34m<\u001b[0m \u001b[0;36m0\u001b[0m\u001b[0;34m:\u001b[0m\u001b[0;34m\u001b[0m\u001b[0;34m\u001b[0m\u001b[0m\n\u001b[1;32m     42\u001b[0m         raise ValueError('LAPACK reported an illegal value in {}-th argument'\n",
            "\u001b[0;31mLinAlgError\u001b[0m: 4-th leading minor of the array is not positive definite"
          ]
        },
        {
          "output_type": "stream",
          "text": [
            "Exception ignored in: 'pomegranate.distributions.MultivariateGaussianDistribution.MultivariateGaussianDistribution._log_probability_missing'\n",
            "Traceback (most recent call last):\n",
            "  File \"pomegranate/distributions/MultivariateGaussianDistribution.pyx\", line 72, in pomegranate.distributions.MultivariateGaussianDistribution.MultivariateGaussianDistribution.__cinit__\n",
            "  File \"/usr/local/lib/python3.6/dist-packages/scipy/linalg/decomp_cholesky.py\", line 91, in cholesky\n",
            "    check_finite=check_finite)\n",
            "  File \"/usr/local/lib/python3.6/dist-packages/scipy/linalg/decomp_cholesky.py\", line 40, in _cholesky\n",
            "    \"definite\" % info)\n",
            "numpy.linalg.LinAlgError: 4-th leading minor of the array is not positive definite\n"
          ],
          "name": "stderr"
        },
        {
          "output_type": "error",
          "ename": "LinAlgError",
          "evalue": "ignored",
          "traceback": [
            "\u001b[0;31m---------------------------------------------------------------------------\u001b[0m",
            "\u001b[0;31mLinAlgError\u001b[0m                               Traceback (most recent call last)",
            "\u001b[0;32mpomegranate/distributions/MultivariateGaussianDistribution.pyx\u001b[0m in \u001b[0;36mpomegranate.distributions.MultivariateGaussianDistribution.MultivariateGaussianDistribution.__cinit__\u001b[0;34m()\u001b[0m\n",
            "\u001b[0;32m/usr/local/lib/python3.6/dist-packages/scipy/linalg/decomp_cholesky.py\u001b[0m in \u001b[0;36mcholesky\u001b[0;34m(a, lower, overwrite_a, check_finite)\u001b[0m\n\u001b[1;32m     89\u001b[0m     \"\"\"\n\u001b[1;32m     90\u001b[0m     c, lower = _cholesky(a, lower=lower, overwrite_a=overwrite_a, clean=True,\n\u001b[0;32m---> 91\u001b[0;31m                          check_finite=check_finite)\n\u001b[0m\u001b[1;32m     92\u001b[0m     \u001b[0;32mreturn\u001b[0m \u001b[0mc\u001b[0m\u001b[0;34m\u001b[0m\u001b[0;34m\u001b[0m\u001b[0m\n\u001b[1;32m     93\u001b[0m \u001b[0;34m\u001b[0m\u001b[0m\n",
            "\u001b[0;32m/usr/local/lib/python3.6/dist-packages/scipy/linalg/decomp_cholesky.py\u001b[0m in \u001b[0;36m_cholesky\u001b[0;34m(a, lower, overwrite_a, clean, check_finite)\u001b[0m\n\u001b[1;32m     38\u001b[0m     \u001b[0;32mif\u001b[0m \u001b[0minfo\u001b[0m \u001b[0;34m>\u001b[0m \u001b[0;36m0\u001b[0m\u001b[0;34m:\u001b[0m\u001b[0;34m\u001b[0m\u001b[0;34m\u001b[0m\u001b[0m\n\u001b[1;32m     39\u001b[0m         raise LinAlgError(\"%d-th leading minor of the array is not positive \"\n\u001b[0;32m---> 40\u001b[0;31m                           \"definite\" % info)\n\u001b[0m\u001b[1;32m     41\u001b[0m     \u001b[0;32mif\u001b[0m \u001b[0minfo\u001b[0m \u001b[0;34m<\u001b[0m \u001b[0;36m0\u001b[0m\u001b[0;34m:\u001b[0m\u001b[0;34m\u001b[0m\u001b[0;34m\u001b[0m\u001b[0m\n\u001b[1;32m     42\u001b[0m         raise ValueError('LAPACK reported an illegal value in {}-th argument'\n",
            "\u001b[0;31mLinAlgError\u001b[0m: 5-th leading minor of the array is not positive definite"
          ]
        },
        {
          "output_type": "stream",
          "text": [
            "Exception ignored in: 'pomegranate.distributions.MultivariateGaussianDistribution.MultivariateGaussianDistribution._log_probability_missing'\n",
            "Traceback (most recent call last):\n",
            "  File \"pomegranate/distributions/MultivariateGaussianDistribution.pyx\", line 72, in pomegranate.distributions.MultivariateGaussianDistribution.MultivariateGaussianDistribution.__cinit__\n",
            "  File \"/usr/local/lib/python3.6/dist-packages/scipy/linalg/decomp_cholesky.py\", line 91, in cholesky\n",
            "    check_finite=check_finite)\n",
            "  File \"/usr/local/lib/python3.6/dist-packages/scipy/linalg/decomp_cholesky.py\", line 40, in _cholesky\n",
            "    \"definite\" % info)\n",
            "numpy.linalg.LinAlgError: 5-th leading minor of the array is not positive definite\n"
          ],
          "name": "stderr"
        },
        {
          "output_type": "error",
          "ename": "ValueError",
          "evalue": "ignored",
          "traceback": [
            "\u001b[0;31m---------------------------------------------------------------------------\u001b[0m",
            "\u001b[0;31mValueError\u001b[0m                                Traceback (most recent call last)",
            "\u001b[0;32mpomegranate/distributions/MultivariateGaussianDistribution.pyx\u001b[0m in \u001b[0;36mpomegranate.distributions.MultivariateGaussianDistribution.MultivariateGaussianDistribution.__cinit__\u001b[0;34m()\u001b[0m\n",
            "\u001b[0;31mValueError\u001b[0m: covariance matrix is not invertible."
          ]
        },
        {
          "output_type": "stream",
          "text": [
            "Exception ignored in: 'pomegranate.distributions.MultivariateGaussianDistribution.MultivariateGaussianDistribution._log_probability_missing'\n",
            "Traceback (most recent call last):\n",
            "  File \"pomegranate/distributions/MultivariateGaussianDistribution.pyx\", line 65, in pomegranate.distributions.MultivariateGaussianDistribution.MultivariateGaussianDistribution.__cinit__\n",
            "ValueError: covariance matrix is not invertible.\n"
          ],
          "name": "stderr"
        },
        {
          "output_type": "error",
          "ename": "LinAlgError",
          "evalue": "ignored",
          "traceback": [
            "\u001b[0;31m---------------------------------------------------------------------------\u001b[0m",
            "\u001b[0;31mLinAlgError\u001b[0m                               Traceback (most recent call last)",
            "\u001b[0;32mpomegranate/distributions/MultivariateGaussianDistribution.pyx\u001b[0m in \u001b[0;36mpomegranate.distributions.MultivariateGaussianDistribution.MultivariateGaussianDistribution.__cinit__\u001b[0;34m()\u001b[0m\n",
            "\u001b[0;32m/usr/local/lib/python3.6/dist-packages/scipy/linalg/decomp_cholesky.py\u001b[0m in \u001b[0;36mcholesky\u001b[0;34m(a, lower, overwrite_a, check_finite)\u001b[0m\n\u001b[1;32m     89\u001b[0m     \"\"\"\n\u001b[1;32m     90\u001b[0m     c, lower = _cholesky(a, lower=lower, overwrite_a=overwrite_a, clean=True,\n\u001b[0;32m---> 91\u001b[0;31m                          check_finite=check_finite)\n\u001b[0m\u001b[1;32m     92\u001b[0m     \u001b[0;32mreturn\u001b[0m \u001b[0mc\u001b[0m\u001b[0;34m\u001b[0m\u001b[0;34m\u001b[0m\u001b[0m\n\u001b[1;32m     93\u001b[0m \u001b[0;34m\u001b[0m\u001b[0m\n",
            "\u001b[0;32m/usr/local/lib/python3.6/dist-packages/scipy/linalg/decomp_cholesky.py\u001b[0m in \u001b[0;36m_cholesky\u001b[0;34m(a, lower, overwrite_a, clean, check_finite)\u001b[0m\n\u001b[1;32m     38\u001b[0m     \u001b[0;32mif\u001b[0m \u001b[0minfo\u001b[0m \u001b[0;34m>\u001b[0m \u001b[0;36m0\u001b[0m\u001b[0;34m:\u001b[0m\u001b[0;34m\u001b[0m\u001b[0;34m\u001b[0m\u001b[0m\n\u001b[1;32m     39\u001b[0m         raise LinAlgError(\"%d-th leading minor of the array is not positive \"\n\u001b[0;32m---> 40\u001b[0;31m                           \"definite\" % info)\n\u001b[0m\u001b[1;32m     41\u001b[0m     \u001b[0;32mif\u001b[0m \u001b[0minfo\u001b[0m \u001b[0;34m<\u001b[0m \u001b[0;36m0\u001b[0m\u001b[0;34m:\u001b[0m\u001b[0;34m\u001b[0m\u001b[0;34m\u001b[0m\u001b[0m\n\u001b[1;32m     42\u001b[0m         raise ValueError('LAPACK reported an illegal value in {}-th argument'\n",
            "\u001b[0;31mLinAlgError\u001b[0m: 3-th leading minor of the array is not positive definite"
          ]
        },
        {
          "output_type": "stream",
          "text": [
            "Exception ignored in: 'pomegranate.distributions.MultivariateGaussianDistribution.MultivariateGaussianDistribution._log_probability_missing'\n",
            "Traceback (most recent call last):\n",
            "  File \"pomegranate/distributions/MultivariateGaussianDistribution.pyx\", line 72, in pomegranate.distributions.MultivariateGaussianDistribution.MultivariateGaussianDistribution.__cinit__\n",
            "  File \"/usr/local/lib/python3.6/dist-packages/scipy/linalg/decomp_cholesky.py\", line 91, in cholesky\n",
            "    check_finite=check_finite)\n",
            "  File \"/usr/local/lib/python3.6/dist-packages/scipy/linalg/decomp_cholesky.py\", line 40, in _cholesky\n",
            "    \"definite\" % info)\n",
            "numpy.linalg.LinAlgError: 3-th leading minor of the array is not positive definite\n"
          ],
          "name": "stderr"
        },
        {
          "output_type": "error",
          "ename": "LinAlgError",
          "evalue": "ignored",
          "traceback": [
            "\u001b[0;31m---------------------------------------------------------------------------\u001b[0m",
            "\u001b[0;31mLinAlgError\u001b[0m                               Traceback (most recent call last)",
            "\u001b[0;32mpomegranate/distributions/MultivariateGaussianDistribution.pyx\u001b[0m in \u001b[0;36mpomegranate.distributions.MultivariateGaussianDistribution.MultivariateGaussianDistribution.__cinit__\u001b[0;34m()\u001b[0m\n",
            "\u001b[0;32m/usr/local/lib/python3.6/dist-packages/scipy/linalg/decomp_cholesky.py\u001b[0m in \u001b[0;36mcholesky\u001b[0;34m(a, lower, overwrite_a, check_finite)\u001b[0m\n\u001b[1;32m     89\u001b[0m     \"\"\"\n\u001b[1;32m     90\u001b[0m     c, lower = _cholesky(a, lower=lower, overwrite_a=overwrite_a, clean=True,\n\u001b[0;32m---> 91\u001b[0;31m                          check_finite=check_finite)\n\u001b[0m\u001b[1;32m     92\u001b[0m     \u001b[0;32mreturn\u001b[0m \u001b[0mc\u001b[0m\u001b[0;34m\u001b[0m\u001b[0;34m\u001b[0m\u001b[0m\n\u001b[1;32m     93\u001b[0m \u001b[0;34m\u001b[0m\u001b[0m\n",
            "\u001b[0;32m/usr/local/lib/python3.6/dist-packages/scipy/linalg/decomp_cholesky.py\u001b[0m in \u001b[0;36m_cholesky\u001b[0;34m(a, lower, overwrite_a, clean, check_finite)\u001b[0m\n\u001b[1;32m     38\u001b[0m     \u001b[0;32mif\u001b[0m \u001b[0minfo\u001b[0m \u001b[0;34m>\u001b[0m \u001b[0;36m0\u001b[0m\u001b[0;34m:\u001b[0m\u001b[0;34m\u001b[0m\u001b[0;34m\u001b[0m\u001b[0m\n\u001b[1;32m     39\u001b[0m         raise LinAlgError(\"%d-th leading minor of the array is not positive \"\n\u001b[0;32m---> 40\u001b[0;31m                           \"definite\" % info)\n\u001b[0m\u001b[1;32m     41\u001b[0m     \u001b[0;32mif\u001b[0m \u001b[0minfo\u001b[0m \u001b[0;34m<\u001b[0m \u001b[0;36m0\u001b[0m\u001b[0;34m:\u001b[0m\u001b[0;34m\u001b[0m\u001b[0;34m\u001b[0m\u001b[0m\n\u001b[1;32m     42\u001b[0m         raise ValueError('LAPACK reported an illegal value in {}-th argument'\n",
            "\u001b[0;31mLinAlgError\u001b[0m: 4-th leading minor of the array is not positive definite"
          ]
        },
        {
          "output_type": "stream",
          "text": [
            "Exception ignored in: 'pomegranate.distributions.MultivariateGaussianDistribution.MultivariateGaussianDistribution._log_probability_missing'\n",
            "Traceback (most recent call last):\n",
            "  File \"pomegranate/distributions/MultivariateGaussianDistribution.pyx\", line 72, in pomegranate.distributions.MultivariateGaussianDistribution.MultivariateGaussianDistribution.__cinit__\n",
            "  File \"/usr/local/lib/python3.6/dist-packages/scipy/linalg/decomp_cholesky.py\", line 91, in cholesky\n",
            "    check_finite=check_finite)\n",
            "  File \"/usr/local/lib/python3.6/dist-packages/scipy/linalg/decomp_cholesky.py\", line 40, in _cholesky\n",
            "    \"definite\" % info)\n",
            "numpy.linalg.LinAlgError: 4-th leading minor of the array is not positive definite\n"
          ],
          "name": "stderr"
        },
        {
          "output_type": "error",
          "ename": "LinAlgError",
          "evalue": "ignored",
          "traceback": [
            "\u001b[0;31m---------------------------------------------------------------------------\u001b[0m",
            "\u001b[0;31mLinAlgError\u001b[0m                               Traceback (most recent call last)",
            "\u001b[0;32mpomegranate/distributions/MultivariateGaussianDistribution.pyx\u001b[0m in \u001b[0;36mpomegranate.distributions.MultivariateGaussianDistribution.MultivariateGaussianDistribution.__cinit__\u001b[0;34m()\u001b[0m\n",
            "\u001b[0;32m/usr/local/lib/python3.6/dist-packages/scipy/linalg/decomp_cholesky.py\u001b[0m in \u001b[0;36mcholesky\u001b[0;34m(a, lower, overwrite_a, check_finite)\u001b[0m\n\u001b[1;32m     89\u001b[0m     \"\"\"\n\u001b[1;32m     90\u001b[0m     c, lower = _cholesky(a, lower=lower, overwrite_a=overwrite_a, clean=True,\n\u001b[0;32m---> 91\u001b[0;31m                          check_finite=check_finite)\n\u001b[0m\u001b[1;32m     92\u001b[0m     \u001b[0;32mreturn\u001b[0m \u001b[0mc\u001b[0m\u001b[0;34m\u001b[0m\u001b[0;34m\u001b[0m\u001b[0m\n\u001b[1;32m     93\u001b[0m \u001b[0;34m\u001b[0m\u001b[0m\n",
            "\u001b[0;32m/usr/local/lib/python3.6/dist-packages/scipy/linalg/decomp_cholesky.py\u001b[0m in \u001b[0;36m_cholesky\u001b[0;34m(a, lower, overwrite_a, clean, check_finite)\u001b[0m\n\u001b[1;32m     38\u001b[0m     \u001b[0;32mif\u001b[0m \u001b[0minfo\u001b[0m \u001b[0;34m>\u001b[0m \u001b[0;36m0\u001b[0m\u001b[0;34m:\u001b[0m\u001b[0;34m\u001b[0m\u001b[0;34m\u001b[0m\u001b[0m\n\u001b[1;32m     39\u001b[0m         raise LinAlgError(\"%d-th leading minor of the array is not positive \"\n\u001b[0;32m---> 40\u001b[0;31m                           \"definite\" % info)\n\u001b[0m\u001b[1;32m     41\u001b[0m     \u001b[0;32mif\u001b[0m \u001b[0minfo\u001b[0m \u001b[0;34m<\u001b[0m \u001b[0;36m0\u001b[0m\u001b[0;34m:\u001b[0m\u001b[0;34m\u001b[0m\u001b[0;34m\u001b[0m\u001b[0m\n\u001b[1;32m     42\u001b[0m         raise ValueError('LAPACK reported an illegal value in {}-th argument'\n",
            "\u001b[0;31mLinAlgError\u001b[0m: 6-th leading minor of the array is not positive definite"
          ]
        },
        {
          "output_type": "stream",
          "text": [
            "Exception ignored in: 'pomegranate.distributions.MultivariateGaussianDistribution.MultivariateGaussianDistribution._log_probability_missing'\n",
            "Traceback (most recent call last):\n",
            "  File \"pomegranate/distributions/MultivariateGaussianDistribution.pyx\", line 72, in pomegranate.distributions.MultivariateGaussianDistribution.MultivariateGaussianDistribution.__cinit__\n",
            "  File \"/usr/local/lib/python3.6/dist-packages/scipy/linalg/decomp_cholesky.py\", line 91, in cholesky\n",
            "    check_finite=check_finite)\n",
            "  File \"/usr/local/lib/python3.6/dist-packages/scipy/linalg/decomp_cholesky.py\", line 40, in _cholesky\n",
            "    \"definite\" % info)\n",
            "numpy.linalg.LinAlgError: 6-th leading minor of the array is not positive definite\n"
          ],
          "name": "stderr"
        },
        {
          "output_type": "error",
          "ename": "LinAlgError",
          "evalue": "ignored",
          "traceback": [
            "\u001b[0;31m---------------------------------------------------------------------------\u001b[0m",
            "\u001b[0;31mLinAlgError\u001b[0m                               Traceback (most recent call last)",
            "\u001b[0;32mpomegranate/distributions/MultivariateGaussianDistribution.pyx\u001b[0m in \u001b[0;36mpomegranate.distributions.MultivariateGaussianDistribution.MultivariateGaussianDistribution.__cinit__\u001b[0;34m()\u001b[0m\n",
            "\u001b[0;32m/usr/local/lib/python3.6/dist-packages/scipy/linalg/decomp_cholesky.py\u001b[0m in \u001b[0;36mcholesky\u001b[0;34m(a, lower, overwrite_a, check_finite)\u001b[0m\n\u001b[1;32m     89\u001b[0m     \"\"\"\n\u001b[1;32m     90\u001b[0m     c, lower = _cholesky(a, lower=lower, overwrite_a=overwrite_a, clean=True,\n\u001b[0;32m---> 91\u001b[0;31m                          check_finite=check_finite)\n\u001b[0m\u001b[1;32m     92\u001b[0m     \u001b[0;32mreturn\u001b[0m \u001b[0mc\u001b[0m\u001b[0;34m\u001b[0m\u001b[0;34m\u001b[0m\u001b[0m\n\u001b[1;32m     93\u001b[0m \u001b[0;34m\u001b[0m\u001b[0m\n",
            "\u001b[0;32m/usr/local/lib/python3.6/dist-packages/scipy/linalg/decomp_cholesky.py\u001b[0m in \u001b[0;36m_cholesky\u001b[0;34m(a, lower, overwrite_a, clean, check_finite)\u001b[0m\n\u001b[1;32m     38\u001b[0m     \u001b[0;32mif\u001b[0m \u001b[0minfo\u001b[0m \u001b[0;34m>\u001b[0m \u001b[0;36m0\u001b[0m\u001b[0;34m:\u001b[0m\u001b[0;34m\u001b[0m\u001b[0;34m\u001b[0m\u001b[0m\n\u001b[1;32m     39\u001b[0m         raise LinAlgError(\"%d-th leading minor of the array is not positive \"\n\u001b[0;32m---> 40\u001b[0;31m                           \"definite\" % info)\n\u001b[0m\u001b[1;32m     41\u001b[0m     \u001b[0;32mif\u001b[0m \u001b[0minfo\u001b[0m \u001b[0;34m<\u001b[0m \u001b[0;36m0\u001b[0m\u001b[0;34m:\u001b[0m\u001b[0;34m\u001b[0m\u001b[0;34m\u001b[0m\u001b[0m\n\u001b[1;32m     42\u001b[0m         raise ValueError('LAPACK reported an illegal value in {}-th argument'\n",
            "\u001b[0;31mLinAlgError\u001b[0m: 4-th leading minor of the array is not positive definite"
          ]
        },
        {
          "output_type": "stream",
          "text": [
            "Exception ignored in: 'pomegranate.distributions.MultivariateGaussianDistribution.MultivariateGaussianDistribution._log_probability_missing'\n",
            "Traceback (most recent call last):\n",
            "  File \"pomegranate/distributions/MultivariateGaussianDistribution.pyx\", line 72, in pomegranate.distributions.MultivariateGaussianDistribution.MultivariateGaussianDistribution.__cinit__\n",
            "  File \"/usr/local/lib/python3.6/dist-packages/scipy/linalg/decomp_cholesky.py\", line 91, in cholesky\n",
            "    check_finite=check_finite)\n",
            "  File \"/usr/local/lib/python3.6/dist-packages/scipy/linalg/decomp_cholesky.py\", line 40, in _cholesky\n",
            "    \"definite\" % info)\n",
            "numpy.linalg.LinAlgError: 4-th leading minor of the array is not positive definite\n"
          ],
          "name": "stderr"
        },
        {
          "output_type": "error",
          "ename": "LinAlgError",
          "evalue": "ignored",
          "traceback": [
            "\u001b[0;31m---------------------------------------------------------------------------\u001b[0m",
            "\u001b[0;31mLinAlgError\u001b[0m                               Traceback (most recent call last)",
            "\u001b[0;32mpomegranate/distributions/MultivariateGaussianDistribution.pyx\u001b[0m in \u001b[0;36mpomegranate.distributions.MultivariateGaussianDistribution.MultivariateGaussianDistribution.__cinit__\u001b[0;34m()\u001b[0m\n",
            "\u001b[0;32m/usr/local/lib/python3.6/dist-packages/scipy/linalg/decomp_cholesky.py\u001b[0m in \u001b[0;36mcholesky\u001b[0;34m(a, lower, overwrite_a, check_finite)\u001b[0m\n\u001b[1;32m     89\u001b[0m     \"\"\"\n\u001b[1;32m     90\u001b[0m     c, lower = _cholesky(a, lower=lower, overwrite_a=overwrite_a, clean=True,\n\u001b[0;32m---> 91\u001b[0;31m                          check_finite=check_finite)\n\u001b[0m\u001b[1;32m     92\u001b[0m     \u001b[0;32mreturn\u001b[0m \u001b[0mc\u001b[0m\u001b[0;34m\u001b[0m\u001b[0;34m\u001b[0m\u001b[0m\n\u001b[1;32m     93\u001b[0m \u001b[0;34m\u001b[0m\u001b[0m\n",
            "\u001b[0;32m/usr/local/lib/python3.6/dist-packages/scipy/linalg/decomp_cholesky.py\u001b[0m in \u001b[0;36m_cholesky\u001b[0;34m(a, lower, overwrite_a, clean, check_finite)\u001b[0m\n\u001b[1;32m     38\u001b[0m     \u001b[0;32mif\u001b[0m \u001b[0minfo\u001b[0m \u001b[0;34m>\u001b[0m \u001b[0;36m0\u001b[0m\u001b[0;34m:\u001b[0m\u001b[0;34m\u001b[0m\u001b[0;34m\u001b[0m\u001b[0m\n\u001b[1;32m     39\u001b[0m         raise LinAlgError(\"%d-th leading minor of the array is not positive \"\n\u001b[0;32m---> 40\u001b[0;31m                           \"definite\" % info)\n\u001b[0m\u001b[1;32m     41\u001b[0m     \u001b[0;32mif\u001b[0m \u001b[0minfo\u001b[0m \u001b[0;34m<\u001b[0m \u001b[0;36m0\u001b[0m\u001b[0;34m:\u001b[0m\u001b[0;34m\u001b[0m\u001b[0;34m\u001b[0m\u001b[0m\n\u001b[1;32m     42\u001b[0m         raise ValueError('LAPACK reported an illegal value in {}-th argument'\n",
            "\u001b[0;31mLinAlgError\u001b[0m: 3-th leading minor of the array is not positive definite"
          ]
        },
        {
          "output_type": "stream",
          "text": [
            "Exception ignored in: 'pomegranate.distributions.MultivariateGaussianDistribution.MultivariateGaussianDistribution._log_probability_missing'\n",
            "Traceback (most recent call last):\n",
            "  File \"pomegranate/distributions/MultivariateGaussianDistribution.pyx\", line 72, in pomegranate.distributions.MultivariateGaussianDistribution.MultivariateGaussianDistribution.__cinit__\n",
            "  File \"/usr/local/lib/python3.6/dist-packages/scipy/linalg/decomp_cholesky.py\", line 91, in cholesky\n",
            "    check_finite=check_finite)\n",
            "  File \"/usr/local/lib/python3.6/dist-packages/scipy/linalg/decomp_cholesky.py\", line 40, in _cholesky\n",
            "    \"definite\" % info)\n",
            "numpy.linalg.LinAlgError: 3-th leading minor of the array is not positive definite\n"
          ],
          "name": "stderr"
        },
        {
          "output_type": "error",
          "ename": "LinAlgError",
          "evalue": "ignored",
          "traceback": [
            "\u001b[0;31m---------------------------------------------------------------------------\u001b[0m",
            "\u001b[0;31mLinAlgError\u001b[0m                               Traceback (most recent call last)",
            "\u001b[0;32mpomegranate/distributions/MultivariateGaussianDistribution.pyx\u001b[0m in \u001b[0;36mpomegranate.distributions.MultivariateGaussianDistribution.MultivariateGaussianDistribution.__cinit__\u001b[0;34m()\u001b[0m\n",
            "\u001b[0;32m/usr/local/lib/python3.6/dist-packages/scipy/linalg/decomp_cholesky.py\u001b[0m in \u001b[0;36mcholesky\u001b[0;34m(a, lower, overwrite_a, check_finite)\u001b[0m\n\u001b[1;32m     89\u001b[0m     \"\"\"\n\u001b[1;32m     90\u001b[0m     c, lower = _cholesky(a, lower=lower, overwrite_a=overwrite_a, clean=True,\n\u001b[0;32m---> 91\u001b[0;31m                          check_finite=check_finite)\n\u001b[0m\u001b[1;32m     92\u001b[0m     \u001b[0;32mreturn\u001b[0m \u001b[0mc\u001b[0m\u001b[0;34m\u001b[0m\u001b[0;34m\u001b[0m\u001b[0m\n\u001b[1;32m     93\u001b[0m \u001b[0;34m\u001b[0m\u001b[0m\n",
            "\u001b[0;32m/usr/local/lib/python3.6/dist-packages/scipy/linalg/decomp_cholesky.py\u001b[0m in \u001b[0;36m_cholesky\u001b[0;34m(a, lower, overwrite_a, clean, check_finite)\u001b[0m\n\u001b[1;32m     38\u001b[0m     \u001b[0;32mif\u001b[0m \u001b[0minfo\u001b[0m \u001b[0;34m>\u001b[0m \u001b[0;36m0\u001b[0m\u001b[0;34m:\u001b[0m\u001b[0;34m\u001b[0m\u001b[0;34m\u001b[0m\u001b[0m\n\u001b[1;32m     39\u001b[0m         raise LinAlgError(\"%d-th leading minor of the array is not positive \"\n\u001b[0;32m---> 40\u001b[0;31m                           \"definite\" % info)\n\u001b[0m\u001b[1;32m     41\u001b[0m     \u001b[0;32mif\u001b[0m \u001b[0minfo\u001b[0m \u001b[0;34m<\u001b[0m \u001b[0;36m0\u001b[0m\u001b[0;34m:\u001b[0m\u001b[0;34m\u001b[0m\u001b[0;34m\u001b[0m\u001b[0m\n\u001b[1;32m     42\u001b[0m         raise ValueError('LAPACK reported an illegal value in {}-th argument'\n",
            "\u001b[0;31mLinAlgError\u001b[0m: 3-th leading minor of the array is not positive definite"
          ]
        },
        {
          "output_type": "stream",
          "text": [
            "Exception ignored in: 'pomegranate.distributions.MultivariateGaussianDistribution.MultivariateGaussianDistribution._log_probability_missing'\n",
            "Traceback (most recent call last):\n",
            "  File \"pomegranate/distributions/MultivariateGaussianDistribution.pyx\", line 72, in pomegranate.distributions.MultivariateGaussianDistribution.MultivariateGaussianDistribution.__cinit__\n",
            "  File \"/usr/local/lib/python3.6/dist-packages/scipy/linalg/decomp_cholesky.py\", line 91, in cholesky\n",
            "    check_finite=check_finite)\n",
            "  File \"/usr/local/lib/python3.6/dist-packages/scipy/linalg/decomp_cholesky.py\", line 40, in _cholesky\n",
            "    \"definite\" % info)\n",
            "numpy.linalg.LinAlgError: 3-th leading minor of the array is not positive definite\n"
          ],
          "name": "stderr"
        },
        {
          "output_type": "error",
          "ename": "LinAlgError",
          "evalue": "ignored",
          "traceback": [
            "\u001b[0;31m---------------------------------------------------------------------------\u001b[0m",
            "\u001b[0;31mLinAlgError\u001b[0m                               Traceback (most recent call last)",
            "\u001b[0;32mpomegranate/distributions/MultivariateGaussianDistribution.pyx\u001b[0m in \u001b[0;36mpomegranate.distributions.MultivariateGaussianDistribution.MultivariateGaussianDistribution.__cinit__\u001b[0;34m()\u001b[0m\n",
            "\u001b[0;32m/usr/local/lib/python3.6/dist-packages/scipy/linalg/decomp_cholesky.py\u001b[0m in \u001b[0;36mcholesky\u001b[0;34m(a, lower, overwrite_a, check_finite)\u001b[0m\n\u001b[1;32m     89\u001b[0m     \"\"\"\n\u001b[1;32m     90\u001b[0m     c, lower = _cholesky(a, lower=lower, overwrite_a=overwrite_a, clean=True,\n\u001b[0;32m---> 91\u001b[0;31m                          check_finite=check_finite)\n\u001b[0m\u001b[1;32m     92\u001b[0m     \u001b[0;32mreturn\u001b[0m \u001b[0mc\u001b[0m\u001b[0;34m\u001b[0m\u001b[0;34m\u001b[0m\u001b[0m\n\u001b[1;32m     93\u001b[0m \u001b[0;34m\u001b[0m\u001b[0m\n",
            "\u001b[0;32m/usr/local/lib/python3.6/dist-packages/scipy/linalg/decomp_cholesky.py\u001b[0m in \u001b[0;36m_cholesky\u001b[0;34m(a, lower, overwrite_a, clean, check_finite)\u001b[0m\n\u001b[1;32m     38\u001b[0m     \u001b[0;32mif\u001b[0m \u001b[0minfo\u001b[0m \u001b[0;34m>\u001b[0m \u001b[0;36m0\u001b[0m\u001b[0;34m:\u001b[0m\u001b[0;34m\u001b[0m\u001b[0;34m\u001b[0m\u001b[0m\n\u001b[1;32m     39\u001b[0m         raise LinAlgError(\"%d-th leading minor of the array is not positive \"\n\u001b[0;32m---> 40\u001b[0;31m                           \"definite\" % info)\n\u001b[0m\u001b[1;32m     41\u001b[0m     \u001b[0;32mif\u001b[0m \u001b[0minfo\u001b[0m \u001b[0;34m<\u001b[0m \u001b[0;36m0\u001b[0m\u001b[0;34m:\u001b[0m\u001b[0;34m\u001b[0m\u001b[0;34m\u001b[0m\u001b[0m\n\u001b[1;32m     42\u001b[0m         raise ValueError('LAPACK reported an illegal value in {}-th argument'\n",
            "\u001b[0;31mLinAlgError\u001b[0m: 3-th leading minor of the array is not positive definite"
          ]
        },
        {
          "output_type": "stream",
          "text": [
            "Exception ignored in: 'pomegranate.distributions.MultivariateGaussianDistribution.MultivariateGaussianDistribution._log_probability_missing'\n",
            "Traceback (most recent call last):\n",
            "  File \"pomegranate/distributions/MultivariateGaussianDistribution.pyx\", line 72, in pomegranate.distributions.MultivariateGaussianDistribution.MultivariateGaussianDistribution.__cinit__\n",
            "  File \"/usr/local/lib/python3.6/dist-packages/scipy/linalg/decomp_cholesky.py\", line 91, in cholesky\n",
            "    check_finite=check_finite)\n",
            "  File \"/usr/local/lib/python3.6/dist-packages/scipy/linalg/decomp_cholesky.py\", line 40, in _cholesky\n",
            "    \"definite\" % info)\n",
            "numpy.linalg.LinAlgError: 3-th leading minor of the array is not positive definite\n"
          ],
          "name": "stderr"
        },
        {
          "output_type": "error",
          "ename": "LinAlgError",
          "evalue": "ignored",
          "traceback": [
            "\u001b[0;31m---------------------------------------------------------------------------\u001b[0m",
            "\u001b[0;31mLinAlgError\u001b[0m                               Traceback (most recent call last)",
            "\u001b[0;32mpomegranate/distributions/MultivariateGaussianDistribution.pyx\u001b[0m in \u001b[0;36mpomegranate.distributions.MultivariateGaussianDistribution.MultivariateGaussianDistribution.__cinit__\u001b[0;34m()\u001b[0m\n",
            "\u001b[0;32m/usr/local/lib/python3.6/dist-packages/scipy/linalg/decomp_cholesky.py\u001b[0m in \u001b[0;36mcholesky\u001b[0;34m(a, lower, overwrite_a, check_finite)\u001b[0m\n\u001b[1;32m     89\u001b[0m     \"\"\"\n\u001b[1;32m     90\u001b[0m     c, lower = _cholesky(a, lower=lower, overwrite_a=overwrite_a, clean=True,\n\u001b[0;32m---> 91\u001b[0;31m                          check_finite=check_finite)\n\u001b[0m\u001b[1;32m     92\u001b[0m     \u001b[0;32mreturn\u001b[0m \u001b[0mc\u001b[0m\u001b[0;34m\u001b[0m\u001b[0;34m\u001b[0m\u001b[0m\n\u001b[1;32m     93\u001b[0m \u001b[0;34m\u001b[0m\u001b[0m\n",
            "\u001b[0;32m/usr/local/lib/python3.6/dist-packages/scipy/linalg/decomp_cholesky.py\u001b[0m in \u001b[0;36m_cholesky\u001b[0;34m(a, lower, overwrite_a, clean, check_finite)\u001b[0m\n\u001b[1;32m     38\u001b[0m     \u001b[0;32mif\u001b[0m \u001b[0minfo\u001b[0m \u001b[0;34m>\u001b[0m \u001b[0;36m0\u001b[0m\u001b[0;34m:\u001b[0m\u001b[0;34m\u001b[0m\u001b[0;34m\u001b[0m\u001b[0m\n\u001b[1;32m     39\u001b[0m         raise LinAlgError(\"%d-th leading minor of the array is not positive \"\n\u001b[0;32m---> 40\u001b[0;31m                           \"definite\" % info)\n\u001b[0m\u001b[1;32m     41\u001b[0m     \u001b[0;32mif\u001b[0m \u001b[0minfo\u001b[0m \u001b[0;34m<\u001b[0m \u001b[0;36m0\u001b[0m\u001b[0;34m:\u001b[0m\u001b[0;34m\u001b[0m\u001b[0;34m\u001b[0m\u001b[0m\n\u001b[1;32m     42\u001b[0m         raise ValueError('LAPACK reported an illegal value in {}-th argument'\n",
            "\u001b[0;31mLinAlgError\u001b[0m: 2-th leading minor of the array is not positive definite"
          ]
        },
        {
          "output_type": "stream",
          "text": [
            "Exception ignored in: 'pomegranate.distributions.MultivariateGaussianDistribution.MultivariateGaussianDistribution._log_probability_missing'\n",
            "Traceback (most recent call last):\n",
            "  File \"pomegranate/distributions/MultivariateGaussianDistribution.pyx\", line 72, in pomegranate.distributions.MultivariateGaussianDistribution.MultivariateGaussianDistribution.__cinit__\n",
            "  File \"/usr/local/lib/python3.6/dist-packages/scipy/linalg/decomp_cholesky.py\", line 91, in cholesky\n",
            "    check_finite=check_finite)\n",
            "  File \"/usr/local/lib/python3.6/dist-packages/scipy/linalg/decomp_cholesky.py\", line 40, in _cholesky\n",
            "    \"definite\" % info)\n",
            "numpy.linalg.LinAlgError: 2-th leading minor of the array is not positive definite\n"
          ],
          "name": "stderr"
        },
        {
          "output_type": "error",
          "ename": "ValueError",
          "evalue": "ignored",
          "traceback": [
            "\u001b[0;31m---------------------------------------------------------------------------\u001b[0m",
            "\u001b[0;31mValueError\u001b[0m                                Traceback (most recent call last)",
            "\u001b[0;32mpomegranate/distributions/MultivariateGaussianDistribution.pyx\u001b[0m in \u001b[0;36mpomegranate.distributions.MultivariateGaussianDistribution.MultivariateGaussianDistribution.__cinit__\u001b[0;34m()\u001b[0m\n",
            "\u001b[0;31mValueError\u001b[0m: covariance matrix is not invertible."
          ]
        },
        {
          "output_type": "stream",
          "text": [
            "Exception ignored in: 'pomegranate.distributions.MultivariateGaussianDistribution.MultivariateGaussianDistribution._log_probability_missing'\n",
            "Traceback (most recent call last):\n",
            "  File \"pomegranate/distributions/MultivariateGaussianDistribution.pyx\", line 65, in pomegranate.distributions.MultivariateGaussianDistribution.MultivariateGaussianDistribution.__cinit__\n",
            "ValueError: covariance matrix is not invertible.\n"
          ],
          "name": "stderr"
        },
        {
          "output_type": "error",
          "ename": "LinAlgError",
          "evalue": "ignored",
          "traceback": [
            "\u001b[0;31m---------------------------------------------------------------------------\u001b[0m",
            "\u001b[0;31mLinAlgError\u001b[0m                               Traceback (most recent call last)",
            "\u001b[0;32mpomegranate/distributions/MultivariateGaussianDistribution.pyx\u001b[0m in \u001b[0;36mpomegranate.distributions.MultivariateGaussianDistribution.MultivariateGaussianDistribution.__cinit__\u001b[0;34m()\u001b[0m\n",
            "\u001b[0;32m/usr/local/lib/python3.6/dist-packages/scipy/linalg/decomp_cholesky.py\u001b[0m in \u001b[0;36mcholesky\u001b[0;34m(a, lower, overwrite_a, check_finite)\u001b[0m\n\u001b[1;32m     89\u001b[0m     \"\"\"\n\u001b[1;32m     90\u001b[0m     c, lower = _cholesky(a, lower=lower, overwrite_a=overwrite_a, clean=True,\n\u001b[0;32m---> 91\u001b[0;31m                          check_finite=check_finite)\n\u001b[0m\u001b[1;32m     92\u001b[0m     \u001b[0;32mreturn\u001b[0m \u001b[0mc\u001b[0m\u001b[0;34m\u001b[0m\u001b[0;34m\u001b[0m\u001b[0m\n\u001b[1;32m     93\u001b[0m \u001b[0;34m\u001b[0m\u001b[0m\n",
            "\u001b[0;32m/usr/local/lib/python3.6/dist-packages/scipy/linalg/decomp_cholesky.py\u001b[0m in \u001b[0;36m_cholesky\u001b[0;34m(a, lower, overwrite_a, clean, check_finite)\u001b[0m\n\u001b[1;32m     38\u001b[0m     \u001b[0;32mif\u001b[0m \u001b[0minfo\u001b[0m \u001b[0;34m>\u001b[0m \u001b[0;36m0\u001b[0m\u001b[0;34m:\u001b[0m\u001b[0;34m\u001b[0m\u001b[0;34m\u001b[0m\u001b[0m\n\u001b[1;32m     39\u001b[0m         raise LinAlgError(\"%d-th leading minor of the array is not positive \"\n\u001b[0;32m---> 40\u001b[0;31m                           \"definite\" % info)\n\u001b[0m\u001b[1;32m     41\u001b[0m     \u001b[0;32mif\u001b[0m \u001b[0minfo\u001b[0m \u001b[0;34m<\u001b[0m \u001b[0;36m0\u001b[0m\u001b[0;34m:\u001b[0m\u001b[0;34m\u001b[0m\u001b[0;34m\u001b[0m\u001b[0m\n\u001b[1;32m     42\u001b[0m         raise ValueError('LAPACK reported an illegal value in {}-th argument'\n",
            "\u001b[0;31mLinAlgError\u001b[0m: 4-th leading minor of the array is not positive definite"
          ]
        },
        {
          "output_type": "stream",
          "text": [
            "Exception ignored in: 'pomegranate.distributions.MultivariateGaussianDistribution.MultivariateGaussianDistribution._log_probability_missing'\n",
            "Traceback (most recent call last):\n",
            "  File \"pomegranate/distributions/MultivariateGaussianDistribution.pyx\", line 72, in pomegranate.distributions.MultivariateGaussianDistribution.MultivariateGaussianDistribution.__cinit__\n",
            "  File \"/usr/local/lib/python3.6/dist-packages/scipy/linalg/decomp_cholesky.py\", line 91, in cholesky\n",
            "    check_finite=check_finite)\n",
            "  File \"/usr/local/lib/python3.6/dist-packages/scipy/linalg/decomp_cholesky.py\", line 40, in _cholesky\n",
            "    \"definite\" % info)\n",
            "numpy.linalg.LinAlgError: 4-th leading minor of the array is not positive definite\n"
          ],
          "name": "stderr"
        },
        {
          "output_type": "error",
          "ename": "ValueError",
          "evalue": "ignored",
          "traceback": [
            "\u001b[0;31m---------------------------------------------------------------------------\u001b[0m",
            "\u001b[0;31mValueError\u001b[0m                                Traceback (most recent call last)",
            "\u001b[0;32mpomegranate/distributions/MultivariateGaussianDistribution.pyx\u001b[0m in \u001b[0;36mpomegranate.distributions.MultivariateGaussianDistribution.MultivariateGaussianDistribution.__cinit__\u001b[0;34m()\u001b[0m\n",
            "\u001b[0;31mValueError\u001b[0m: covariance matrix is not invertible."
          ]
        },
        {
          "output_type": "stream",
          "text": [
            "Exception ignored in: 'pomegranate.distributions.MultivariateGaussianDistribution.MultivariateGaussianDistribution._log_probability_missing'\n",
            "Traceback (most recent call last):\n",
            "  File \"pomegranate/distributions/MultivariateGaussianDistribution.pyx\", line 65, in pomegranate.distributions.MultivariateGaussianDistribution.MultivariateGaussianDistribution.__cinit__\n",
            "ValueError: covariance matrix is not invertible.\n"
          ],
          "name": "stderr"
        },
        {
          "output_type": "error",
          "ename": "LinAlgError",
          "evalue": "ignored",
          "traceback": [
            "\u001b[0;31m---------------------------------------------------------------------------\u001b[0m",
            "\u001b[0;31mLinAlgError\u001b[0m                               Traceback (most recent call last)",
            "\u001b[0;32mpomegranate/distributions/MultivariateGaussianDistribution.pyx\u001b[0m in \u001b[0;36mpomegranate.distributions.MultivariateGaussianDistribution.MultivariateGaussianDistribution.__cinit__\u001b[0;34m()\u001b[0m\n",
            "\u001b[0;32m/usr/local/lib/python3.6/dist-packages/scipy/linalg/decomp_cholesky.py\u001b[0m in \u001b[0;36mcholesky\u001b[0;34m(a, lower, overwrite_a, check_finite)\u001b[0m\n\u001b[1;32m     89\u001b[0m     \"\"\"\n\u001b[1;32m     90\u001b[0m     c, lower = _cholesky(a, lower=lower, overwrite_a=overwrite_a, clean=True,\n\u001b[0;32m---> 91\u001b[0;31m                          check_finite=check_finite)\n\u001b[0m\u001b[1;32m     92\u001b[0m     \u001b[0;32mreturn\u001b[0m \u001b[0mc\u001b[0m\u001b[0;34m\u001b[0m\u001b[0;34m\u001b[0m\u001b[0m\n\u001b[1;32m     93\u001b[0m \u001b[0;34m\u001b[0m\u001b[0m\n",
            "\u001b[0;32m/usr/local/lib/python3.6/dist-packages/scipy/linalg/decomp_cholesky.py\u001b[0m in \u001b[0;36m_cholesky\u001b[0;34m(a, lower, overwrite_a, clean, check_finite)\u001b[0m\n\u001b[1;32m     38\u001b[0m     \u001b[0;32mif\u001b[0m \u001b[0minfo\u001b[0m \u001b[0;34m>\u001b[0m \u001b[0;36m0\u001b[0m\u001b[0;34m:\u001b[0m\u001b[0;34m\u001b[0m\u001b[0;34m\u001b[0m\u001b[0m\n\u001b[1;32m     39\u001b[0m         raise LinAlgError(\"%d-th leading minor of the array is not positive \"\n\u001b[0;32m---> 40\u001b[0;31m                           \"definite\" % info)\n\u001b[0m\u001b[1;32m     41\u001b[0m     \u001b[0;32mif\u001b[0m \u001b[0minfo\u001b[0m \u001b[0;34m<\u001b[0m \u001b[0;36m0\u001b[0m\u001b[0;34m:\u001b[0m\u001b[0;34m\u001b[0m\u001b[0;34m\u001b[0m\u001b[0m\n\u001b[1;32m     42\u001b[0m         raise ValueError('LAPACK reported an illegal value in {}-th argument'\n",
            "\u001b[0;31mLinAlgError\u001b[0m: 2-th leading minor of the array is not positive definite"
          ]
        },
        {
          "output_type": "stream",
          "text": [
            "Exception ignored in: 'pomegranate.distributions.MultivariateGaussianDistribution.MultivariateGaussianDistribution._log_probability_missing'\n",
            "Traceback (most recent call last):\n",
            "  File \"pomegranate/distributions/MultivariateGaussianDistribution.pyx\", line 72, in pomegranate.distributions.MultivariateGaussianDistribution.MultivariateGaussianDistribution.__cinit__\n",
            "  File \"/usr/local/lib/python3.6/dist-packages/scipy/linalg/decomp_cholesky.py\", line 91, in cholesky\n",
            "    check_finite=check_finite)\n",
            "  File \"/usr/local/lib/python3.6/dist-packages/scipy/linalg/decomp_cholesky.py\", line 40, in _cholesky\n",
            "    \"definite\" % info)\n",
            "numpy.linalg.LinAlgError: 2-th leading minor of the array is not positive definite\n"
          ],
          "name": "stderr"
        },
        {
          "output_type": "error",
          "ename": "LinAlgError",
          "evalue": "ignored",
          "traceback": [
            "\u001b[0;31m---------------------------------------------------------------------------\u001b[0m",
            "\u001b[0;31mLinAlgError\u001b[0m                               Traceback (most recent call last)",
            "\u001b[0;32mpomegranate/distributions/MultivariateGaussianDistribution.pyx\u001b[0m in \u001b[0;36mpomegranate.distributions.MultivariateGaussianDistribution.MultivariateGaussianDistribution.__cinit__\u001b[0;34m()\u001b[0m\n",
            "\u001b[0;32m/usr/local/lib/python3.6/dist-packages/scipy/linalg/decomp_cholesky.py\u001b[0m in \u001b[0;36mcholesky\u001b[0;34m(a, lower, overwrite_a, check_finite)\u001b[0m\n\u001b[1;32m     89\u001b[0m     \"\"\"\n\u001b[1;32m     90\u001b[0m     c, lower = _cholesky(a, lower=lower, overwrite_a=overwrite_a, clean=True,\n\u001b[0;32m---> 91\u001b[0;31m                          check_finite=check_finite)\n\u001b[0m\u001b[1;32m     92\u001b[0m     \u001b[0;32mreturn\u001b[0m \u001b[0mc\u001b[0m\u001b[0;34m\u001b[0m\u001b[0;34m\u001b[0m\u001b[0m\n\u001b[1;32m     93\u001b[0m \u001b[0;34m\u001b[0m\u001b[0m\n",
            "\u001b[0;32m/usr/local/lib/python3.6/dist-packages/scipy/linalg/decomp_cholesky.py\u001b[0m in \u001b[0;36m_cholesky\u001b[0;34m(a, lower, overwrite_a, clean, check_finite)\u001b[0m\n\u001b[1;32m     38\u001b[0m     \u001b[0;32mif\u001b[0m \u001b[0minfo\u001b[0m \u001b[0;34m>\u001b[0m \u001b[0;36m0\u001b[0m\u001b[0;34m:\u001b[0m\u001b[0;34m\u001b[0m\u001b[0;34m\u001b[0m\u001b[0m\n\u001b[1;32m     39\u001b[0m         raise LinAlgError(\"%d-th leading minor of the array is not positive \"\n\u001b[0;32m---> 40\u001b[0;31m                           \"definite\" % info)\n\u001b[0m\u001b[1;32m     41\u001b[0m     \u001b[0;32mif\u001b[0m \u001b[0minfo\u001b[0m \u001b[0;34m<\u001b[0m \u001b[0;36m0\u001b[0m\u001b[0;34m:\u001b[0m\u001b[0;34m\u001b[0m\u001b[0;34m\u001b[0m\u001b[0m\n\u001b[1;32m     42\u001b[0m         raise ValueError('LAPACK reported an illegal value in {}-th argument'\n",
            "\u001b[0;31mLinAlgError\u001b[0m: 4-th leading minor of the array is not positive definite"
          ]
        },
        {
          "output_type": "stream",
          "text": [
            "Exception ignored in: 'pomegranate.distributions.MultivariateGaussianDistribution.MultivariateGaussianDistribution._log_probability_missing'\n",
            "Traceback (most recent call last):\n",
            "  File \"pomegranate/distributions/MultivariateGaussianDistribution.pyx\", line 72, in pomegranate.distributions.MultivariateGaussianDistribution.MultivariateGaussianDistribution.__cinit__\n",
            "  File \"/usr/local/lib/python3.6/dist-packages/scipy/linalg/decomp_cholesky.py\", line 91, in cholesky\n",
            "    check_finite=check_finite)\n",
            "  File \"/usr/local/lib/python3.6/dist-packages/scipy/linalg/decomp_cholesky.py\", line 40, in _cholesky\n",
            "    \"definite\" % info)\n",
            "numpy.linalg.LinAlgError: 4-th leading minor of the array is not positive definite\n"
          ],
          "name": "stderr"
        },
        {
          "output_type": "error",
          "ename": "LinAlgError",
          "evalue": "ignored",
          "traceback": [
            "\u001b[0;31m---------------------------------------------------------------------------\u001b[0m",
            "\u001b[0;31mLinAlgError\u001b[0m                               Traceback (most recent call last)",
            "\u001b[0;32mpomegranate/distributions/MultivariateGaussianDistribution.pyx\u001b[0m in \u001b[0;36mpomegranate.distributions.MultivariateGaussianDistribution.MultivariateGaussianDistribution.__cinit__\u001b[0;34m()\u001b[0m\n",
            "\u001b[0;32m/usr/local/lib/python3.6/dist-packages/scipy/linalg/decomp_cholesky.py\u001b[0m in \u001b[0;36mcholesky\u001b[0;34m(a, lower, overwrite_a, check_finite)\u001b[0m\n\u001b[1;32m     89\u001b[0m     \"\"\"\n\u001b[1;32m     90\u001b[0m     c, lower = _cholesky(a, lower=lower, overwrite_a=overwrite_a, clean=True,\n\u001b[0;32m---> 91\u001b[0;31m                          check_finite=check_finite)\n\u001b[0m\u001b[1;32m     92\u001b[0m     \u001b[0;32mreturn\u001b[0m \u001b[0mc\u001b[0m\u001b[0;34m\u001b[0m\u001b[0;34m\u001b[0m\u001b[0m\n\u001b[1;32m     93\u001b[0m \u001b[0;34m\u001b[0m\u001b[0m\n",
            "\u001b[0;32m/usr/local/lib/python3.6/dist-packages/scipy/linalg/decomp_cholesky.py\u001b[0m in \u001b[0;36m_cholesky\u001b[0;34m(a, lower, overwrite_a, clean, check_finite)\u001b[0m\n\u001b[1;32m     38\u001b[0m     \u001b[0;32mif\u001b[0m \u001b[0minfo\u001b[0m \u001b[0;34m>\u001b[0m \u001b[0;36m0\u001b[0m\u001b[0;34m:\u001b[0m\u001b[0;34m\u001b[0m\u001b[0;34m\u001b[0m\u001b[0m\n\u001b[1;32m     39\u001b[0m         raise LinAlgError(\"%d-th leading minor of the array is not positive \"\n\u001b[0;32m---> 40\u001b[0;31m                           \"definite\" % info)\n\u001b[0m\u001b[1;32m     41\u001b[0m     \u001b[0;32mif\u001b[0m \u001b[0minfo\u001b[0m \u001b[0;34m<\u001b[0m \u001b[0;36m0\u001b[0m\u001b[0;34m:\u001b[0m\u001b[0;34m\u001b[0m\u001b[0;34m\u001b[0m\u001b[0m\n\u001b[1;32m     42\u001b[0m         raise ValueError('LAPACK reported an illegal value in {}-th argument'\n",
            "\u001b[0;31mLinAlgError\u001b[0m: 4-th leading minor of the array is not positive definite"
          ]
        },
        {
          "output_type": "stream",
          "text": [
            "Exception ignored in: 'pomegranate.distributions.MultivariateGaussianDistribution.MultivariateGaussianDistribution._log_probability_missing'\n",
            "Traceback (most recent call last):\n",
            "  File \"pomegranate/distributions/MultivariateGaussianDistribution.pyx\", line 72, in pomegranate.distributions.MultivariateGaussianDistribution.MultivariateGaussianDistribution.__cinit__\n",
            "  File \"/usr/local/lib/python3.6/dist-packages/scipy/linalg/decomp_cholesky.py\", line 91, in cholesky\n",
            "    check_finite=check_finite)\n",
            "  File \"/usr/local/lib/python3.6/dist-packages/scipy/linalg/decomp_cholesky.py\", line 40, in _cholesky\n",
            "    \"definite\" % info)\n",
            "numpy.linalg.LinAlgError: 4-th leading minor of the array is not positive definite\n"
          ],
          "name": "stderr"
        },
        {
          "output_type": "error",
          "ename": "ValueError",
          "evalue": "ignored",
          "traceback": [
            "\u001b[0;31m---------------------------------------------------------------------------\u001b[0m",
            "\u001b[0;31mValueError\u001b[0m                                Traceback (most recent call last)",
            "\u001b[0;32mpomegranate/distributions/MultivariateGaussianDistribution.pyx\u001b[0m in \u001b[0;36mpomegranate.distributions.MultivariateGaussianDistribution.MultivariateGaussianDistribution.__cinit__\u001b[0;34m()\u001b[0m\n",
            "\u001b[0;31mValueError\u001b[0m: covariance matrix is not invertible."
          ]
        },
        {
          "output_type": "stream",
          "text": [
            "Exception ignored in: 'pomegranate.distributions.MultivariateGaussianDistribution.MultivariateGaussianDistribution._log_probability_missing'\n",
            "Traceback (most recent call last):\n",
            "  File \"pomegranate/distributions/MultivariateGaussianDistribution.pyx\", line 65, in pomegranate.distributions.MultivariateGaussianDistribution.MultivariateGaussianDistribution.__cinit__\n",
            "ValueError: covariance matrix is not invertible.\n"
          ],
          "name": "stderr"
        },
        {
          "output_type": "error",
          "ename": "LinAlgError",
          "evalue": "ignored",
          "traceback": [
            "\u001b[0;31m---------------------------------------------------------------------------\u001b[0m",
            "\u001b[0;31mLinAlgError\u001b[0m                               Traceback (most recent call last)",
            "\u001b[0;32mpomegranate/distributions/MultivariateGaussianDistribution.pyx\u001b[0m in \u001b[0;36mpomegranate.distributions.MultivariateGaussianDistribution.MultivariateGaussianDistribution.__cinit__\u001b[0;34m()\u001b[0m\n",
            "\u001b[0;32m/usr/local/lib/python3.6/dist-packages/scipy/linalg/decomp_cholesky.py\u001b[0m in \u001b[0;36mcholesky\u001b[0;34m(a, lower, overwrite_a, check_finite)\u001b[0m\n\u001b[1;32m     89\u001b[0m     \"\"\"\n\u001b[1;32m     90\u001b[0m     c, lower = _cholesky(a, lower=lower, overwrite_a=overwrite_a, clean=True,\n\u001b[0;32m---> 91\u001b[0;31m                          check_finite=check_finite)\n\u001b[0m\u001b[1;32m     92\u001b[0m     \u001b[0;32mreturn\u001b[0m \u001b[0mc\u001b[0m\u001b[0;34m\u001b[0m\u001b[0;34m\u001b[0m\u001b[0m\n\u001b[1;32m     93\u001b[0m \u001b[0;34m\u001b[0m\u001b[0m\n",
            "\u001b[0;32m/usr/local/lib/python3.6/dist-packages/scipy/linalg/decomp_cholesky.py\u001b[0m in \u001b[0;36m_cholesky\u001b[0;34m(a, lower, overwrite_a, clean, check_finite)\u001b[0m\n\u001b[1;32m     38\u001b[0m     \u001b[0;32mif\u001b[0m \u001b[0minfo\u001b[0m \u001b[0;34m>\u001b[0m \u001b[0;36m0\u001b[0m\u001b[0;34m:\u001b[0m\u001b[0;34m\u001b[0m\u001b[0;34m\u001b[0m\u001b[0m\n\u001b[1;32m     39\u001b[0m         raise LinAlgError(\"%d-th leading minor of the array is not positive \"\n\u001b[0;32m---> 40\u001b[0;31m                           \"definite\" % info)\n\u001b[0m\u001b[1;32m     41\u001b[0m     \u001b[0;32mif\u001b[0m \u001b[0minfo\u001b[0m \u001b[0;34m<\u001b[0m \u001b[0;36m0\u001b[0m\u001b[0;34m:\u001b[0m\u001b[0;34m\u001b[0m\u001b[0;34m\u001b[0m\u001b[0m\n\u001b[1;32m     42\u001b[0m         raise ValueError('LAPACK reported an illegal value in {}-th argument'\n",
            "\u001b[0;31mLinAlgError\u001b[0m: 2-th leading minor of the array is not positive definite"
          ]
        },
        {
          "output_type": "stream",
          "text": [
            "Exception ignored in: 'pomegranate.distributions.MultivariateGaussianDistribution.MultivariateGaussianDistribution._log_probability_missing'\n",
            "Traceback (most recent call last):\n",
            "  File \"pomegranate/distributions/MultivariateGaussianDistribution.pyx\", line 72, in pomegranate.distributions.MultivariateGaussianDistribution.MultivariateGaussianDistribution.__cinit__\n",
            "  File \"/usr/local/lib/python3.6/dist-packages/scipy/linalg/decomp_cholesky.py\", line 91, in cholesky\n",
            "    check_finite=check_finite)\n",
            "  File \"/usr/local/lib/python3.6/dist-packages/scipy/linalg/decomp_cholesky.py\", line 40, in _cholesky\n",
            "    \"definite\" % info)\n",
            "numpy.linalg.LinAlgError: 2-th leading minor of the array is not positive definite\n"
          ],
          "name": "stderr"
        },
        {
          "output_type": "error",
          "ename": "LinAlgError",
          "evalue": "ignored",
          "traceback": [
            "\u001b[0;31m---------------------------------------------------------------------------\u001b[0m",
            "\u001b[0;31mLinAlgError\u001b[0m                               Traceback (most recent call last)",
            "\u001b[0;32mpomegranate/distributions/MultivariateGaussianDistribution.pyx\u001b[0m in \u001b[0;36mpomegranate.distributions.MultivariateGaussianDistribution.MultivariateGaussianDistribution.__cinit__\u001b[0;34m()\u001b[0m\n",
            "\u001b[0;32m/usr/local/lib/python3.6/dist-packages/scipy/linalg/decomp_cholesky.py\u001b[0m in \u001b[0;36mcholesky\u001b[0;34m(a, lower, overwrite_a, check_finite)\u001b[0m\n\u001b[1;32m     89\u001b[0m     \"\"\"\n\u001b[1;32m     90\u001b[0m     c, lower = _cholesky(a, lower=lower, overwrite_a=overwrite_a, clean=True,\n\u001b[0;32m---> 91\u001b[0;31m                          check_finite=check_finite)\n\u001b[0m\u001b[1;32m     92\u001b[0m     \u001b[0;32mreturn\u001b[0m \u001b[0mc\u001b[0m\u001b[0;34m\u001b[0m\u001b[0;34m\u001b[0m\u001b[0m\n\u001b[1;32m     93\u001b[0m \u001b[0;34m\u001b[0m\u001b[0m\n",
            "\u001b[0;32m/usr/local/lib/python3.6/dist-packages/scipy/linalg/decomp_cholesky.py\u001b[0m in \u001b[0;36m_cholesky\u001b[0;34m(a, lower, overwrite_a, clean, check_finite)\u001b[0m\n\u001b[1;32m     38\u001b[0m     \u001b[0;32mif\u001b[0m \u001b[0minfo\u001b[0m \u001b[0;34m>\u001b[0m \u001b[0;36m0\u001b[0m\u001b[0;34m:\u001b[0m\u001b[0;34m\u001b[0m\u001b[0;34m\u001b[0m\u001b[0m\n\u001b[1;32m     39\u001b[0m         raise LinAlgError(\"%d-th leading minor of the array is not positive \"\n\u001b[0;32m---> 40\u001b[0;31m                           \"definite\" % info)\n\u001b[0m\u001b[1;32m     41\u001b[0m     \u001b[0;32mif\u001b[0m \u001b[0minfo\u001b[0m \u001b[0;34m<\u001b[0m \u001b[0;36m0\u001b[0m\u001b[0;34m:\u001b[0m\u001b[0;34m\u001b[0m\u001b[0;34m\u001b[0m\u001b[0m\n\u001b[1;32m     42\u001b[0m         raise ValueError('LAPACK reported an illegal value in {}-th argument'\n",
            "\u001b[0;31mLinAlgError\u001b[0m: 4-th leading minor of the array is not positive definite"
          ]
        },
        {
          "output_type": "stream",
          "text": [
            "Exception ignored in: 'pomegranate.distributions.MultivariateGaussianDistribution.MultivariateGaussianDistribution._log_probability_missing'\n",
            "Traceback (most recent call last):\n",
            "  File \"pomegranate/distributions/MultivariateGaussianDistribution.pyx\", line 72, in pomegranate.distributions.MultivariateGaussianDistribution.MultivariateGaussianDistribution.__cinit__\n",
            "  File \"/usr/local/lib/python3.6/dist-packages/scipy/linalg/decomp_cholesky.py\", line 91, in cholesky\n",
            "    check_finite=check_finite)\n",
            "  File \"/usr/local/lib/python3.6/dist-packages/scipy/linalg/decomp_cholesky.py\", line 40, in _cholesky\n",
            "    \"definite\" % info)\n",
            "numpy.linalg.LinAlgError: 4-th leading minor of the array is not positive definite\n"
          ],
          "name": "stderr"
        },
        {
          "output_type": "error",
          "ename": "LinAlgError",
          "evalue": "ignored",
          "traceback": [
            "\u001b[0;31m---------------------------------------------------------------------------\u001b[0m",
            "\u001b[0;31mLinAlgError\u001b[0m                               Traceback (most recent call last)",
            "\u001b[0;32mpomegranate/distributions/MultivariateGaussianDistribution.pyx\u001b[0m in \u001b[0;36mpomegranate.distributions.MultivariateGaussianDistribution.MultivariateGaussianDistribution.__cinit__\u001b[0;34m()\u001b[0m\n",
            "\u001b[0;32m/usr/local/lib/python3.6/dist-packages/scipy/linalg/decomp_cholesky.py\u001b[0m in \u001b[0;36mcholesky\u001b[0;34m(a, lower, overwrite_a, check_finite)\u001b[0m\n\u001b[1;32m     89\u001b[0m     \"\"\"\n\u001b[1;32m     90\u001b[0m     c, lower = _cholesky(a, lower=lower, overwrite_a=overwrite_a, clean=True,\n\u001b[0;32m---> 91\u001b[0;31m                          check_finite=check_finite)\n\u001b[0m\u001b[1;32m     92\u001b[0m     \u001b[0;32mreturn\u001b[0m \u001b[0mc\u001b[0m\u001b[0;34m\u001b[0m\u001b[0;34m\u001b[0m\u001b[0m\n\u001b[1;32m     93\u001b[0m \u001b[0;34m\u001b[0m\u001b[0m\n",
            "\u001b[0;32m/usr/local/lib/python3.6/dist-packages/scipy/linalg/decomp_cholesky.py\u001b[0m in \u001b[0;36m_cholesky\u001b[0;34m(a, lower, overwrite_a, clean, check_finite)\u001b[0m\n\u001b[1;32m     38\u001b[0m     \u001b[0;32mif\u001b[0m \u001b[0minfo\u001b[0m \u001b[0;34m>\u001b[0m \u001b[0;36m0\u001b[0m\u001b[0;34m:\u001b[0m\u001b[0;34m\u001b[0m\u001b[0;34m\u001b[0m\u001b[0m\n\u001b[1;32m     39\u001b[0m         raise LinAlgError(\"%d-th leading minor of the array is not positive \"\n\u001b[0;32m---> 40\u001b[0;31m                           \"definite\" % info)\n\u001b[0m\u001b[1;32m     41\u001b[0m     \u001b[0;32mif\u001b[0m \u001b[0minfo\u001b[0m \u001b[0;34m<\u001b[0m \u001b[0;36m0\u001b[0m\u001b[0;34m:\u001b[0m\u001b[0;34m\u001b[0m\u001b[0;34m\u001b[0m\u001b[0m\n\u001b[1;32m     42\u001b[0m         raise ValueError('LAPACK reported an illegal value in {}-th argument'\n",
            "\u001b[0;31mLinAlgError\u001b[0m: 4-th leading minor of the array is not positive definite"
          ]
        },
        {
          "output_type": "stream",
          "text": [
            "Exception ignored in: 'pomegranate.distributions.MultivariateGaussianDistribution.MultivariateGaussianDistribution._log_probability_missing'\n",
            "Traceback (most recent call last):\n",
            "  File \"pomegranate/distributions/MultivariateGaussianDistribution.pyx\", line 72, in pomegranate.distributions.MultivariateGaussianDistribution.MultivariateGaussianDistribution.__cinit__\n",
            "  File \"/usr/local/lib/python3.6/dist-packages/scipy/linalg/decomp_cholesky.py\", line 91, in cholesky\n",
            "    check_finite=check_finite)\n",
            "  File \"/usr/local/lib/python3.6/dist-packages/scipy/linalg/decomp_cholesky.py\", line 40, in _cholesky\n",
            "    \"definite\" % info)\n",
            "numpy.linalg.LinAlgError: 4-th leading minor of the array is not positive definite\n"
          ],
          "name": "stderr"
        },
        {
          "output_type": "error",
          "ename": "LinAlgError",
          "evalue": "ignored",
          "traceback": [
            "\u001b[0;31m---------------------------------------------------------------------------\u001b[0m",
            "\u001b[0;31mLinAlgError\u001b[0m                               Traceback (most recent call last)",
            "\u001b[0;32mpomegranate/distributions/MultivariateGaussianDistribution.pyx\u001b[0m in \u001b[0;36mpomegranate.distributions.MultivariateGaussianDistribution.MultivariateGaussianDistribution.__cinit__\u001b[0;34m()\u001b[0m\n",
            "\u001b[0;32m/usr/local/lib/python3.6/dist-packages/scipy/linalg/decomp_cholesky.py\u001b[0m in \u001b[0;36mcholesky\u001b[0;34m(a, lower, overwrite_a, check_finite)\u001b[0m\n\u001b[1;32m     89\u001b[0m     \"\"\"\n\u001b[1;32m     90\u001b[0m     c, lower = _cholesky(a, lower=lower, overwrite_a=overwrite_a, clean=True,\n\u001b[0;32m---> 91\u001b[0;31m                          check_finite=check_finite)\n\u001b[0m\u001b[1;32m     92\u001b[0m     \u001b[0;32mreturn\u001b[0m \u001b[0mc\u001b[0m\u001b[0;34m\u001b[0m\u001b[0;34m\u001b[0m\u001b[0m\n\u001b[1;32m     93\u001b[0m \u001b[0;34m\u001b[0m\u001b[0m\n",
            "\u001b[0;32m/usr/local/lib/python3.6/dist-packages/scipy/linalg/decomp_cholesky.py\u001b[0m in \u001b[0;36m_cholesky\u001b[0;34m(a, lower, overwrite_a, clean, check_finite)\u001b[0m\n\u001b[1;32m     38\u001b[0m     \u001b[0;32mif\u001b[0m \u001b[0minfo\u001b[0m \u001b[0;34m>\u001b[0m \u001b[0;36m0\u001b[0m\u001b[0;34m:\u001b[0m\u001b[0;34m\u001b[0m\u001b[0;34m\u001b[0m\u001b[0m\n\u001b[1;32m     39\u001b[0m         raise LinAlgError(\"%d-th leading minor of the array is not positive \"\n\u001b[0;32m---> 40\u001b[0;31m                           \"definite\" % info)\n\u001b[0m\u001b[1;32m     41\u001b[0m     \u001b[0;32mif\u001b[0m \u001b[0minfo\u001b[0m \u001b[0;34m<\u001b[0m \u001b[0;36m0\u001b[0m\u001b[0;34m:\u001b[0m\u001b[0;34m\u001b[0m\u001b[0;34m\u001b[0m\u001b[0m\n\u001b[1;32m     42\u001b[0m         raise ValueError('LAPACK reported an illegal value in {}-th argument'\n",
            "\u001b[0;31mLinAlgError\u001b[0m: 2-th leading minor of the array is not positive definite"
          ]
        },
        {
          "output_type": "stream",
          "text": [
            "Exception ignored in: 'pomegranate.distributions.MultivariateGaussianDistribution.MultivariateGaussianDistribution._log_probability_missing'\n",
            "Traceback (most recent call last):\n",
            "  File \"pomegranate/distributions/MultivariateGaussianDistribution.pyx\", line 72, in pomegranate.distributions.MultivariateGaussianDistribution.MultivariateGaussianDistribution.__cinit__\n",
            "  File \"/usr/local/lib/python3.6/dist-packages/scipy/linalg/decomp_cholesky.py\", line 91, in cholesky\n",
            "    check_finite=check_finite)\n",
            "  File \"/usr/local/lib/python3.6/dist-packages/scipy/linalg/decomp_cholesky.py\", line 40, in _cholesky\n",
            "    \"definite\" % info)\n",
            "numpy.linalg.LinAlgError: 2-th leading minor of the array is not positive definite\n"
          ],
          "name": "stderr"
        },
        {
          "output_type": "error",
          "ename": "LinAlgError",
          "evalue": "ignored",
          "traceback": [
            "\u001b[0;31m---------------------------------------------------------------------------\u001b[0m",
            "\u001b[0;31mLinAlgError\u001b[0m                               Traceback (most recent call last)",
            "\u001b[0;32mpomegranate/distributions/MultivariateGaussianDistribution.pyx\u001b[0m in \u001b[0;36mpomegranate.distributions.MultivariateGaussianDistribution.MultivariateGaussianDistribution.__cinit__\u001b[0;34m()\u001b[0m\n",
            "\u001b[0;32m/usr/local/lib/python3.6/dist-packages/scipy/linalg/decomp_cholesky.py\u001b[0m in \u001b[0;36mcholesky\u001b[0;34m(a, lower, overwrite_a, check_finite)\u001b[0m\n\u001b[1;32m     89\u001b[0m     \"\"\"\n\u001b[1;32m     90\u001b[0m     c, lower = _cholesky(a, lower=lower, overwrite_a=overwrite_a, clean=True,\n\u001b[0;32m---> 91\u001b[0;31m                          check_finite=check_finite)\n\u001b[0m\u001b[1;32m     92\u001b[0m     \u001b[0;32mreturn\u001b[0m \u001b[0mc\u001b[0m\u001b[0;34m\u001b[0m\u001b[0;34m\u001b[0m\u001b[0m\n\u001b[1;32m     93\u001b[0m \u001b[0;34m\u001b[0m\u001b[0m\n",
            "\u001b[0;32m/usr/local/lib/python3.6/dist-packages/scipy/linalg/decomp_cholesky.py\u001b[0m in \u001b[0;36m_cholesky\u001b[0;34m(a, lower, overwrite_a, clean, check_finite)\u001b[0m\n\u001b[1;32m     38\u001b[0m     \u001b[0;32mif\u001b[0m \u001b[0minfo\u001b[0m \u001b[0;34m>\u001b[0m \u001b[0;36m0\u001b[0m\u001b[0;34m:\u001b[0m\u001b[0;34m\u001b[0m\u001b[0;34m\u001b[0m\u001b[0m\n\u001b[1;32m     39\u001b[0m         raise LinAlgError(\"%d-th leading minor of the array is not positive \"\n\u001b[0;32m---> 40\u001b[0;31m                           \"definite\" % info)\n\u001b[0m\u001b[1;32m     41\u001b[0m     \u001b[0;32mif\u001b[0m \u001b[0minfo\u001b[0m \u001b[0;34m<\u001b[0m \u001b[0;36m0\u001b[0m\u001b[0;34m:\u001b[0m\u001b[0;34m\u001b[0m\u001b[0;34m\u001b[0m\u001b[0m\n\u001b[1;32m     42\u001b[0m         raise ValueError('LAPACK reported an illegal value in {}-th argument'\n",
            "\u001b[0;31mLinAlgError\u001b[0m: 5-th leading minor of the array is not positive definite"
          ]
        },
        {
          "output_type": "stream",
          "text": [
            "Exception ignored in: 'pomegranate.distributions.MultivariateGaussianDistribution.MultivariateGaussianDistribution._log_probability_missing'\n",
            "Traceback (most recent call last):\n",
            "  File \"pomegranate/distributions/MultivariateGaussianDistribution.pyx\", line 72, in pomegranate.distributions.MultivariateGaussianDistribution.MultivariateGaussianDistribution.__cinit__\n",
            "  File \"/usr/local/lib/python3.6/dist-packages/scipy/linalg/decomp_cholesky.py\", line 91, in cholesky\n",
            "    check_finite=check_finite)\n",
            "  File \"/usr/local/lib/python3.6/dist-packages/scipy/linalg/decomp_cholesky.py\", line 40, in _cholesky\n",
            "    \"definite\" % info)\n",
            "numpy.linalg.LinAlgError: 5-th leading minor of the array is not positive definite\n"
          ],
          "name": "stderr"
        },
        {
          "output_type": "error",
          "ename": "LinAlgError",
          "evalue": "ignored",
          "traceback": [
            "\u001b[0;31m---------------------------------------------------------------------------\u001b[0m",
            "\u001b[0;31mLinAlgError\u001b[0m                               Traceback (most recent call last)",
            "\u001b[0;32mpomegranate/distributions/MultivariateGaussianDistribution.pyx\u001b[0m in \u001b[0;36mpomegranate.distributions.MultivariateGaussianDistribution.MultivariateGaussianDistribution.__cinit__\u001b[0;34m()\u001b[0m\n",
            "\u001b[0;32m/usr/local/lib/python3.6/dist-packages/scipy/linalg/decomp_cholesky.py\u001b[0m in \u001b[0;36mcholesky\u001b[0;34m(a, lower, overwrite_a, check_finite)\u001b[0m\n\u001b[1;32m     89\u001b[0m     \"\"\"\n\u001b[1;32m     90\u001b[0m     c, lower = _cholesky(a, lower=lower, overwrite_a=overwrite_a, clean=True,\n\u001b[0;32m---> 91\u001b[0;31m                          check_finite=check_finite)\n\u001b[0m\u001b[1;32m     92\u001b[0m     \u001b[0;32mreturn\u001b[0m \u001b[0mc\u001b[0m\u001b[0;34m\u001b[0m\u001b[0;34m\u001b[0m\u001b[0m\n\u001b[1;32m     93\u001b[0m \u001b[0;34m\u001b[0m\u001b[0m\n",
            "\u001b[0;32m/usr/local/lib/python3.6/dist-packages/scipy/linalg/decomp_cholesky.py\u001b[0m in \u001b[0;36m_cholesky\u001b[0;34m(a, lower, overwrite_a, clean, check_finite)\u001b[0m\n\u001b[1;32m     38\u001b[0m     \u001b[0;32mif\u001b[0m \u001b[0minfo\u001b[0m \u001b[0;34m>\u001b[0m \u001b[0;36m0\u001b[0m\u001b[0;34m:\u001b[0m\u001b[0;34m\u001b[0m\u001b[0;34m\u001b[0m\u001b[0m\n\u001b[1;32m     39\u001b[0m         raise LinAlgError(\"%d-th leading minor of the array is not positive \"\n\u001b[0;32m---> 40\u001b[0;31m                           \"definite\" % info)\n\u001b[0m\u001b[1;32m     41\u001b[0m     \u001b[0;32mif\u001b[0m \u001b[0minfo\u001b[0m \u001b[0;34m<\u001b[0m \u001b[0;36m0\u001b[0m\u001b[0;34m:\u001b[0m\u001b[0;34m\u001b[0m\u001b[0;34m\u001b[0m\u001b[0m\n\u001b[1;32m     42\u001b[0m         raise ValueError('LAPACK reported an illegal value in {}-th argument'\n",
            "\u001b[0;31mLinAlgError\u001b[0m: 5-th leading minor of the array is not positive definite"
          ]
        },
        {
          "output_type": "stream",
          "text": [
            "Exception ignored in: 'pomegranate.distributions.MultivariateGaussianDistribution.MultivariateGaussianDistribution._log_probability_missing'\n",
            "Traceback (most recent call last):\n",
            "  File \"pomegranate/distributions/MultivariateGaussianDistribution.pyx\", line 72, in pomegranate.distributions.MultivariateGaussianDistribution.MultivariateGaussianDistribution.__cinit__\n",
            "  File \"/usr/local/lib/python3.6/dist-packages/scipy/linalg/decomp_cholesky.py\", line 91, in cholesky\n",
            "    check_finite=check_finite)\n",
            "  File \"/usr/local/lib/python3.6/dist-packages/scipy/linalg/decomp_cholesky.py\", line 40, in _cholesky\n",
            "    \"definite\" % info)\n",
            "numpy.linalg.LinAlgError: 5-th leading minor of the array is not positive definite\n"
          ],
          "name": "stderr"
        },
        {
          "output_type": "error",
          "ename": "LinAlgError",
          "evalue": "ignored",
          "traceback": [
            "\u001b[0;31m---------------------------------------------------------------------------\u001b[0m",
            "\u001b[0;31mLinAlgError\u001b[0m                               Traceback (most recent call last)",
            "\u001b[0;32mpomegranate/distributions/MultivariateGaussianDistribution.pyx\u001b[0m in \u001b[0;36mpomegranate.distributions.MultivariateGaussianDistribution.MultivariateGaussianDistribution.__cinit__\u001b[0;34m()\u001b[0m\n",
            "\u001b[0;32m/usr/local/lib/python3.6/dist-packages/scipy/linalg/decomp_cholesky.py\u001b[0m in \u001b[0;36mcholesky\u001b[0;34m(a, lower, overwrite_a, check_finite)\u001b[0m\n\u001b[1;32m     89\u001b[0m     \"\"\"\n\u001b[1;32m     90\u001b[0m     c, lower = _cholesky(a, lower=lower, overwrite_a=overwrite_a, clean=True,\n\u001b[0;32m---> 91\u001b[0;31m                          check_finite=check_finite)\n\u001b[0m\u001b[1;32m     92\u001b[0m     \u001b[0;32mreturn\u001b[0m \u001b[0mc\u001b[0m\u001b[0;34m\u001b[0m\u001b[0;34m\u001b[0m\u001b[0m\n\u001b[1;32m     93\u001b[0m \u001b[0;34m\u001b[0m\u001b[0m\n",
            "\u001b[0;32m/usr/local/lib/python3.6/dist-packages/scipy/linalg/decomp_cholesky.py\u001b[0m in \u001b[0;36m_cholesky\u001b[0;34m(a, lower, overwrite_a, clean, check_finite)\u001b[0m\n\u001b[1;32m     38\u001b[0m     \u001b[0;32mif\u001b[0m \u001b[0minfo\u001b[0m \u001b[0;34m>\u001b[0m \u001b[0;36m0\u001b[0m\u001b[0;34m:\u001b[0m\u001b[0;34m\u001b[0m\u001b[0;34m\u001b[0m\u001b[0m\n\u001b[1;32m     39\u001b[0m         raise LinAlgError(\"%d-th leading minor of the array is not positive \"\n\u001b[0;32m---> 40\u001b[0;31m                           \"definite\" % info)\n\u001b[0m\u001b[1;32m     41\u001b[0m     \u001b[0;32mif\u001b[0m \u001b[0minfo\u001b[0m \u001b[0;34m<\u001b[0m \u001b[0;36m0\u001b[0m\u001b[0;34m:\u001b[0m\u001b[0;34m\u001b[0m\u001b[0;34m\u001b[0m\u001b[0m\n\u001b[1;32m     42\u001b[0m         raise ValueError('LAPACK reported an illegal value in {}-th argument'\n",
            "\u001b[0;31mLinAlgError\u001b[0m: 4-th leading minor of the array is not positive definite"
          ]
        },
        {
          "output_type": "stream",
          "text": [
            "Exception ignored in: 'pomegranate.distributions.MultivariateGaussianDistribution.MultivariateGaussianDistribution._log_probability_missing'\n",
            "Traceback (most recent call last):\n",
            "  File \"pomegranate/distributions/MultivariateGaussianDistribution.pyx\", line 72, in pomegranate.distributions.MultivariateGaussianDistribution.MultivariateGaussianDistribution.__cinit__\n",
            "  File \"/usr/local/lib/python3.6/dist-packages/scipy/linalg/decomp_cholesky.py\", line 91, in cholesky\n",
            "    check_finite=check_finite)\n",
            "  File \"/usr/local/lib/python3.6/dist-packages/scipy/linalg/decomp_cholesky.py\", line 40, in _cholesky\n",
            "    \"definite\" % info)\n",
            "numpy.linalg.LinAlgError: 4-th leading minor of the array is not positive definite\n"
          ],
          "name": "stderr"
        },
        {
          "output_type": "error",
          "ename": "ValueError",
          "evalue": "ignored",
          "traceback": [
            "\u001b[0;31m---------------------------------------------------------------------------\u001b[0m",
            "\u001b[0;31mValueError\u001b[0m                                Traceback (most recent call last)",
            "\u001b[0;32mpomegranate/distributions/MultivariateGaussianDistribution.pyx\u001b[0m in \u001b[0;36mpomegranate.distributions.MultivariateGaussianDistribution.MultivariateGaussianDistribution.__cinit__\u001b[0;34m()\u001b[0m\n",
            "\u001b[0;31mValueError\u001b[0m: covariance matrix is not invertible."
          ]
        },
        {
          "output_type": "stream",
          "text": [
            "Exception ignored in: 'pomegranate.distributions.MultivariateGaussianDistribution.MultivariateGaussianDistribution._log_probability_missing'\n",
            "Traceback (most recent call last):\n",
            "  File \"pomegranate/distributions/MultivariateGaussianDistribution.pyx\", line 65, in pomegranate.distributions.MultivariateGaussianDistribution.MultivariateGaussianDistribution.__cinit__\n",
            "ValueError: covariance matrix is not invertible.\n"
          ],
          "name": "stderr"
        },
        {
          "output_type": "error",
          "ename": "LinAlgError",
          "evalue": "ignored",
          "traceback": [
            "\u001b[0;31m---------------------------------------------------------------------------\u001b[0m",
            "\u001b[0;31mLinAlgError\u001b[0m                               Traceback (most recent call last)",
            "\u001b[0;32mpomegranate/distributions/MultivariateGaussianDistribution.pyx\u001b[0m in \u001b[0;36mpomegranate.distributions.MultivariateGaussianDistribution.MultivariateGaussianDistribution.__cinit__\u001b[0;34m()\u001b[0m\n",
            "\u001b[0;32m/usr/local/lib/python3.6/dist-packages/scipy/linalg/decomp_cholesky.py\u001b[0m in \u001b[0;36mcholesky\u001b[0;34m(a, lower, overwrite_a, check_finite)\u001b[0m\n\u001b[1;32m     89\u001b[0m     \"\"\"\n\u001b[1;32m     90\u001b[0m     c, lower = _cholesky(a, lower=lower, overwrite_a=overwrite_a, clean=True,\n\u001b[0;32m---> 91\u001b[0;31m                          check_finite=check_finite)\n\u001b[0m\u001b[1;32m     92\u001b[0m     \u001b[0;32mreturn\u001b[0m \u001b[0mc\u001b[0m\u001b[0;34m\u001b[0m\u001b[0;34m\u001b[0m\u001b[0m\n\u001b[1;32m     93\u001b[0m \u001b[0;34m\u001b[0m\u001b[0m\n",
            "\u001b[0;32m/usr/local/lib/python3.6/dist-packages/scipy/linalg/decomp_cholesky.py\u001b[0m in \u001b[0;36m_cholesky\u001b[0;34m(a, lower, overwrite_a, clean, check_finite)\u001b[0m\n\u001b[1;32m     38\u001b[0m     \u001b[0;32mif\u001b[0m \u001b[0minfo\u001b[0m \u001b[0;34m>\u001b[0m \u001b[0;36m0\u001b[0m\u001b[0;34m:\u001b[0m\u001b[0;34m\u001b[0m\u001b[0;34m\u001b[0m\u001b[0m\n\u001b[1;32m     39\u001b[0m         raise LinAlgError(\"%d-th leading minor of the array is not positive \"\n\u001b[0;32m---> 40\u001b[0;31m                           \"definite\" % info)\n\u001b[0m\u001b[1;32m     41\u001b[0m     \u001b[0;32mif\u001b[0m \u001b[0minfo\u001b[0m \u001b[0;34m<\u001b[0m \u001b[0;36m0\u001b[0m\u001b[0;34m:\u001b[0m\u001b[0;34m\u001b[0m\u001b[0;34m\u001b[0m\u001b[0m\n\u001b[1;32m     42\u001b[0m         raise ValueError('LAPACK reported an illegal value in {}-th argument'\n",
            "\u001b[0;31mLinAlgError\u001b[0m: 4-th leading minor of the array is not positive definite"
          ]
        },
        {
          "output_type": "stream",
          "text": [
            "Exception ignored in: 'pomegranate.distributions.MultivariateGaussianDistribution.MultivariateGaussianDistribution._log_probability_missing'\n",
            "Traceback (most recent call last):\n",
            "  File \"pomegranate/distributions/MultivariateGaussianDistribution.pyx\", line 72, in pomegranate.distributions.MultivariateGaussianDistribution.MultivariateGaussianDistribution.__cinit__\n",
            "  File \"/usr/local/lib/python3.6/dist-packages/scipy/linalg/decomp_cholesky.py\", line 91, in cholesky\n",
            "    check_finite=check_finite)\n",
            "  File \"/usr/local/lib/python3.6/dist-packages/scipy/linalg/decomp_cholesky.py\", line 40, in _cholesky\n",
            "    \"definite\" % info)\n",
            "numpy.linalg.LinAlgError: 4-th leading minor of the array is not positive definite\n"
          ],
          "name": "stderr"
        },
        {
          "output_type": "error",
          "ename": "LinAlgError",
          "evalue": "ignored",
          "traceback": [
            "\u001b[0;31m---------------------------------------------------------------------------\u001b[0m",
            "\u001b[0;31mLinAlgError\u001b[0m                               Traceback (most recent call last)",
            "\u001b[0;32mpomegranate/distributions/MultivariateGaussianDistribution.pyx\u001b[0m in \u001b[0;36mpomegranate.distributions.MultivariateGaussianDistribution.MultivariateGaussianDistribution.__cinit__\u001b[0;34m()\u001b[0m\n",
            "\u001b[0;32m/usr/local/lib/python3.6/dist-packages/scipy/linalg/decomp_cholesky.py\u001b[0m in \u001b[0;36mcholesky\u001b[0;34m(a, lower, overwrite_a, check_finite)\u001b[0m\n\u001b[1;32m     89\u001b[0m     \"\"\"\n\u001b[1;32m     90\u001b[0m     c, lower = _cholesky(a, lower=lower, overwrite_a=overwrite_a, clean=True,\n\u001b[0;32m---> 91\u001b[0;31m                          check_finite=check_finite)\n\u001b[0m\u001b[1;32m     92\u001b[0m     \u001b[0;32mreturn\u001b[0m \u001b[0mc\u001b[0m\u001b[0;34m\u001b[0m\u001b[0;34m\u001b[0m\u001b[0m\n\u001b[1;32m     93\u001b[0m \u001b[0;34m\u001b[0m\u001b[0m\n",
            "\u001b[0;32m/usr/local/lib/python3.6/dist-packages/scipy/linalg/decomp_cholesky.py\u001b[0m in \u001b[0;36m_cholesky\u001b[0;34m(a, lower, overwrite_a, clean, check_finite)\u001b[0m\n\u001b[1;32m     38\u001b[0m     \u001b[0;32mif\u001b[0m \u001b[0minfo\u001b[0m \u001b[0;34m>\u001b[0m \u001b[0;36m0\u001b[0m\u001b[0;34m:\u001b[0m\u001b[0;34m\u001b[0m\u001b[0;34m\u001b[0m\u001b[0m\n\u001b[1;32m     39\u001b[0m         raise LinAlgError(\"%d-th leading minor of the array is not positive \"\n\u001b[0;32m---> 40\u001b[0;31m                           \"definite\" % info)\n\u001b[0m\u001b[1;32m     41\u001b[0m     \u001b[0;32mif\u001b[0m \u001b[0minfo\u001b[0m \u001b[0;34m<\u001b[0m \u001b[0;36m0\u001b[0m\u001b[0;34m:\u001b[0m\u001b[0;34m\u001b[0m\u001b[0;34m\u001b[0m\u001b[0m\n\u001b[1;32m     42\u001b[0m         raise ValueError('LAPACK reported an illegal value in {}-th argument'\n",
            "\u001b[0;31mLinAlgError\u001b[0m: 4-th leading minor of the array is not positive definite"
          ]
        },
        {
          "output_type": "stream",
          "text": [
            "Exception ignored in: 'pomegranate.distributions.MultivariateGaussianDistribution.MultivariateGaussianDistribution._log_probability_missing'\n",
            "Traceback (most recent call last):\n",
            "  File \"pomegranate/distributions/MultivariateGaussianDistribution.pyx\", line 72, in pomegranate.distributions.MultivariateGaussianDistribution.MultivariateGaussianDistribution.__cinit__\n",
            "  File \"/usr/local/lib/python3.6/dist-packages/scipy/linalg/decomp_cholesky.py\", line 91, in cholesky\n",
            "    check_finite=check_finite)\n",
            "  File \"/usr/local/lib/python3.6/dist-packages/scipy/linalg/decomp_cholesky.py\", line 40, in _cholesky\n",
            "    \"definite\" % info)\n",
            "numpy.linalg.LinAlgError: 4-th leading minor of the array is not positive definite\n"
          ],
          "name": "stderr"
        },
        {
          "output_type": "error",
          "ename": "LinAlgError",
          "evalue": "ignored",
          "traceback": [
            "\u001b[0;31m---------------------------------------------------------------------------\u001b[0m",
            "\u001b[0;31mLinAlgError\u001b[0m                               Traceback (most recent call last)",
            "\u001b[0;32mpomegranate/distributions/MultivariateGaussianDistribution.pyx\u001b[0m in \u001b[0;36mpomegranate.distributions.MultivariateGaussianDistribution.MultivariateGaussianDistribution.__cinit__\u001b[0;34m()\u001b[0m\n",
            "\u001b[0;32m/usr/local/lib/python3.6/dist-packages/scipy/linalg/decomp_cholesky.py\u001b[0m in \u001b[0;36mcholesky\u001b[0;34m(a, lower, overwrite_a, check_finite)\u001b[0m\n\u001b[1;32m     89\u001b[0m     \"\"\"\n\u001b[1;32m     90\u001b[0m     c, lower = _cholesky(a, lower=lower, overwrite_a=overwrite_a, clean=True,\n\u001b[0;32m---> 91\u001b[0;31m                          check_finite=check_finite)\n\u001b[0m\u001b[1;32m     92\u001b[0m     \u001b[0;32mreturn\u001b[0m \u001b[0mc\u001b[0m\u001b[0;34m\u001b[0m\u001b[0;34m\u001b[0m\u001b[0m\n\u001b[1;32m     93\u001b[0m \u001b[0;34m\u001b[0m\u001b[0m\n",
            "\u001b[0;32m/usr/local/lib/python3.6/dist-packages/scipy/linalg/decomp_cholesky.py\u001b[0m in \u001b[0;36m_cholesky\u001b[0;34m(a, lower, overwrite_a, clean, check_finite)\u001b[0m\n\u001b[1;32m     38\u001b[0m     \u001b[0;32mif\u001b[0m \u001b[0minfo\u001b[0m \u001b[0;34m>\u001b[0m \u001b[0;36m0\u001b[0m\u001b[0;34m:\u001b[0m\u001b[0;34m\u001b[0m\u001b[0;34m\u001b[0m\u001b[0m\n\u001b[1;32m     39\u001b[0m         raise LinAlgError(\"%d-th leading minor of the array is not positive \"\n\u001b[0;32m---> 40\u001b[0;31m                           \"definite\" % info)\n\u001b[0m\u001b[1;32m     41\u001b[0m     \u001b[0;32mif\u001b[0m \u001b[0minfo\u001b[0m \u001b[0;34m<\u001b[0m \u001b[0;36m0\u001b[0m\u001b[0;34m:\u001b[0m\u001b[0;34m\u001b[0m\u001b[0;34m\u001b[0m\u001b[0m\n\u001b[1;32m     42\u001b[0m         raise ValueError('LAPACK reported an illegal value in {}-th argument'\n",
            "\u001b[0;31mLinAlgError\u001b[0m: 6-th leading minor of the array is not positive definite"
          ]
        },
        {
          "output_type": "stream",
          "text": [
            "Exception ignored in: 'pomegranate.distributions.MultivariateGaussianDistribution.MultivariateGaussianDistribution._log_probability_missing'\n",
            "Traceback (most recent call last):\n",
            "  File \"pomegranate/distributions/MultivariateGaussianDistribution.pyx\", line 72, in pomegranate.distributions.MultivariateGaussianDistribution.MultivariateGaussianDistribution.__cinit__\n",
            "  File \"/usr/local/lib/python3.6/dist-packages/scipy/linalg/decomp_cholesky.py\", line 91, in cholesky\n",
            "    check_finite=check_finite)\n",
            "  File \"/usr/local/lib/python3.6/dist-packages/scipy/linalg/decomp_cholesky.py\", line 40, in _cholesky\n",
            "    \"definite\" % info)\n",
            "numpy.linalg.LinAlgError: 6-th leading minor of the array is not positive definite\n"
          ],
          "name": "stderr"
        },
        {
          "output_type": "error",
          "ename": "LinAlgError",
          "evalue": "ignored",
          "traceback": [
            "\u001b[0;31m---------------------------------------------------------------------------\u001b[0m",
            "\u001b[0;31mLinAlgError\u001b[0m                               Traceback (most recent call last)",
            "\u001b[0;32mpomegranate/distributions/MultivariateGaussianDistribution.pyx\u001b[0m in \u001b[0;36mpomegranate.distributions.MultivariateGaussianDistribution.MultivariateGaussianDistribution.__cinit__\u001b[0;34m()\u001b[0m\n",
            "\u001b[0;32m/usr/local/lib/python3.6/dist-packages/scipy/linalg/decomp_cholesky.py\u001b[0m in \u001b[0;36mcholesky\u001b[0;34m(a, lower, overwrite_a, check_finite)\u001b[0m\n\u001b[1;32m     89\u001b[0m     \"\"\"\n\u001b[1;32m     90\u001b[0m     c, lower = _cholesky(a, lower=lower, overwrite_a=overwrite_a, clean=True,\n\u001b[0;32m---> 91\u001b[0;31m                          check_finite=check_finite)\n\u001b[0m\u001b[1;32m     92\u001b[0m     \u001b[0;32mreturn\u001b[0m \u001b[0mc\u001b[0m\u001b[0;34m\u001b[0m\u001b[0;34m\u001b[0m\u001b[0m\n\u001b[1;32m     93\u001b[0m \u001b[0;34m\u001b[0m\u001b[0m\n",
            "\u001b[0;32m/usr/local/lib/python3.6/dist-packages/scipy/linalg/decomp_cholesky.py\u001b[0m in \u001b[0;36m_cholesky\u001b[0;34m(a, lower, overwrite_a, clean, check_finite)\u001b[0m\n\u001b[1;32m     38\u001b[0m     \u001b[0;32mif\u001b[0m \u001b[0minfo\u001b[0m \u001b[0;34m>\u001b[0m \u001b[0;36m0\u001b[0m\u001b[0;34m:\u001b[0m\u001b[0;34m\u001b[0m\u001b[0;34m\u001b[0m\u001b[0m\n\u001b[1;32m     39\u001b[0m         raise LinAlgError(\"%d-th leading minor of the array is not positive \"\n\u001b[0;32m---> 40\u001b[0;31m                           \"definite\" % info)\n\u001b[0m\u001b[1;32m     41\u001b[0m     \u001b[0;32mif\u001b[0m \u001b[0minfo\u001b[0m \u001b[0;34m<\u001b[0m \u001b[0;36m0\u001b[0m\u001b[0;34m:\u001b[0m\u001b[0;34m\u001b[0m\u001b[0;34m\u001b[0m\u001b[0m\n\u001b[1;32m     42\u001b[0m         raise ValueError('LAPACK reported an illegal value in {}-th argument'\n",
            "\u001b[0;31mLinAlgError\u001b[0m: 5-th leading minor of the array is not positive definite"
          ]
        },
        {
          "output_type": "stream",
          "text": [
            "Exception ignored in: 'pomegranate.distributions.MultivariateGaussianDistribution.MultivariateGaussianDistribution._log_probability_missing'\n",
            "Traceback (most recent call last):\n",
            "  File \"pomegranate/distributions/MultivariateGaussianDistribution.pyx\", line 72, in pomegranate.distributions.MultivariateGaussianDistribution.MultivariateGaussianDistribution.__cinit__\n",
            "  File \"/usr/local/lib/python3.6/dist-packages/scipy/linalg/decomp_cholesky.py\", line 91, in cholesky\n",
            "    check_finite=check_finite)\n",
            "  File \"/usr/local/lib/python3.6/dist-packages/scipy/linalg/decomp_cholesky.py\", line 40, in _cholesky\n",
            "    \"definite\" % info)\n",
            "numpy.linalg.LinAlgError: 5-th leading minor of the array is not positive definite\n"
          ],
          "name": "stderr"
        },
        {
          "output_type": "error",
          "ename": "LinAlgError",
          "evalue": "ignored",
          "traceback": [
            "\u001b[0;31m---------------------------------------------------------------------------\u001b[0m",
            "\u001b[0;31mLinAlgError\u001b[0m                               Traceback (most recent call last)",
            "\u001b[0;32mpomegranate/distributions/MultivariateGaussianDistribution.pyx\u001b[0m in \u001b[0;36mpomegranate.distributions.MultivariateGaussianDistribution.MultivariateGaussianDistribution.__cinit__\u001b[0;34m()\u001b[0m\n",
            "\u001b[0;32m/usr/local/lib/python3.6/dist-packages/scipy/linalg/decomp_cholesky.py\u001b[0m in \u001b[0;36mcholesky\u001b[0;34m(a, lower, overwrite_a, check_finite)\u001b[0m\n\u001b[1;32m     89\u001b[0m     \"\"\"\n\u001b[1;32m     90\u001b[0m     c, lower = _cholesky(a, lower=lower, overwrite_a=overwrite_a, clean=True,\n\u001b[0;32m---> 91\u001b[0;31m                          check_finite=check_finite)\n\u001b[0m\u001b[1;32m     92\u001b[0m     \u001b[0;32mreturn\u001b[0m \u001b[0mc\u001b[0m\u001b[0;34m\u001b[0m\u001b[0;34m\u001b[0m\u001b[0m\n\u001b[1;32m     93\u001b[0m \u001b[0;34m\u001b[0m\u001b[0m\n",
            "\u001b[0;32m/usr/local/lib/python3.6/dist-packages/scipy/linalg/decomp_cholesky.py\u001b[0m in \u001b[0;36m_cholesky\u001b[0;34m(a, lower, overwrite_a, clean, check_finite)\u001b[0m\n\u001b[1;32m     38\u001b[0m     \u001b[0;32mif\u001b[0m \u001b[0minfo\u001b[0m \u001b[0;34m>\u001b[0m \u001b[0;36m0\u001b[0m\u001b[0;34m:\u001b[0m\u001b[0;34m\u001b[0m\u001b[0;34m\u001b[0m\u001b[0m\n\u001b[1;32m     39\u001b[0m         raise LinAlgError(\"%d-th leading minor of the array is not positive \"\n\u001b[0;32m---> 40\u001b[0;31m                           \"definite\" % info)\n\u001b[0m\u001b[1;32m     41\u001b[0m     \u001b[0;32mif\u001b[0m \u001b[0minfo\u001b[0m \u001b[0;34m<\u001b[0m \u001b[0;36m0\u001b[0m\u001b[0;34m:\u001b[0m\u001b[0;34m\u001b[0m\u001b[0;34m\u001b[0m\u001b[0m\n\u001b[1;32m     42\u001b[0m         raise ValueError('LAPACK reported an illegal value in {}-th argument'\n",
            "\u001b[0;31mLinAlgError\u001b[0m: 3-th leading minor of the array is not positive definite"
          ]
        },
        {
          "output_type": "stream",
          "text": [
            "Exception ignored in: 'pomegranate.distributions.MultivariateGaussianDistribution.MultivariateGaussianDistribution._log_probability_missing'\n",
            "Traceback (most recent call last):\n",
            "  File \"pomegranate/distributions/MultivariateGaussianDistribution.pyx\", line 72, in pomegranate.distributions.MultivariateGaussianDistribution.MultivariateGaussianDistribution.__cinit__\n",
            "  File \"/usr/local/lib/python3.6/dist-packages/scipy/linalg/decomp_cholesky.py\", line 91, in cholesky\n",
            "    check_finite=check_finite)\n",
            "  File \"/usr/local/lib/python3.6/dist-packages/scipy/linalg/decomp_cholesky.py\", line 40, in _cholesky\n",
            "    \"definite\" % info)\n",
            "numpy.linalg.LinAlgError: 3-th leading minor of the array is not positive definite\n"
          ],
          "name": "stderr"
        },
        {
          "output_type": "error",
          "ename": "LinAlgError",
          "evalue": "ignored",
          "traceback": [
            "\u001b[0;31m---------------------------------------------------------------------------\u001b[0m",
            "\u001b[0;31mLinAlgError\u001b[0m                               Traceback (most recent call last)",
            "\u001b[0;32mpomegranate/distributions/MultivariateGaussianDistribution.pyx\u001b[0m in \u001b[0;36mpomegranate.distributions.MultivariateGaussianDistribution.MultivariateGaussianDistribution.__cinit__\u001b[0;34m()\u001b[0m\n",
            "\u001b[0;32m/usr/local/lib/python3.6/dist-packages/scipy/linalg/decomp_cholesky.py\u001b[0m in \u001b[0;36mcholesky\u001b[0;34m(a, lower, overwrite_a, check_finite)\u001b[0m\n\u001b[1;32m     89\u001b[0m     \"\"\"\n\u001b[1;32m     90\u001b[0m     c, lower = _cholesky(a, lower=lower, overwrite_a=overwrite_a, clean=True,\n\u001b[0;32m---> 91\u001b[0;31m                          check_finite=check_finite)\n\u001b[0m\u001b[1;32m     92\u001b[0m     \u001b[0;32mreturn\u001b[0m \u001b[0mc\u001b[0m\u001b[0;34m\u001b[0m\u001b[0;34m\u001b[0m\u001b[0m\n\u001b[1;32m     93\u001b[0m \u001b[0;34m\u001b[0m\u001b[0m\n",
            "\u001b[0;32m/usr/local/lib/python3.6/dist-packages/scipy/linalg/decomp_cholesky.py\u001b[0m in \u001b[0;36m_cholesky\u001b[0;34m(a, lower, overwrite_a, clean, check_finite)\u001b[0m\n\u001b[1;32m     38\u001b[0m     \u001b[0;32mif\u001b[0m \u001b[0minfo\u001b[0m \u001b[0;34m>\u001b[0m \u001b[0;36m0\u001b[0m\u001b[0;34m:\u001b[0m\u001b[0;34m\u001b[0m\u001b[0;34m\u001b[0m\u001b[0m\n\u001b[1;32m     39\u001b[0m         raise LinAlgError(\"%d-th leading minor of the array is not positive \"\n\u001b[0;32m---> 40\u001b[0;31m                           \"definite\" % info)\n\u001b[0m\u001b[1;32m     41\u001b[0m     \u001b[0;32mif\u001b[0m \u001b[0minfo\u001b[0m \u001b[0;34m<\u001b[0m \u001b[0;36m0\u001b[0m\u001b[0;34m:\u001b[0m\u001b[0;34m\u001b[0m\u001b[0;34m\u001b[0m\u001b[0m\n\u001b[1;32m     42\u001b[0m         raise ValueError('LAPACK reported an illegal value in {}-th argument'\n",
            "\u001b[0;31mLinAlgError\u001b[0m: 4-th leading minor of the array is not positive definite"
          ]
        },
        {
          "output_type": "stream",
          "text": [
            "Exception ignored in: 'pomegranate.distributions.MultivariateGaussianDistribution.MultivariateGaussianDistribution._log_probability_missing'\n",
            "Traceback (most recent call last):\n",
            "  File \"pomegranate/distributions/MultivariateGaussianDistribution.pyx\", line 72, in pomegranate.distributions.MultivariateGaussianDistribution.MultivariateGaussianDistribution.__cinit__\n",
            "  File \"/usr/local/lib/python3.6/dist-packages/scipy/linalg/decomp_cholesky.py\", line 91, in cholesky\n",
            "    check_finite=check_finite)\n",
            "  File \"/usr/local/lib/python3.6/dist-packages/scipy/linalg/decomp_cholesky.py\", line 40, in _cholesky\n",
            "    \"definite\" % info)\n",
            "numpy.linalg.LinAlgError: 4-th leading minor of the array is not positive definite\n"
          ],
          "name": "stderr"
        },
        {
          "output_type": "error",
          "ename": "LinAlgError",
          "evalue": "ignored",
          "traceback": [
            "\u001b[0;31m---------------------------------------------------------------------------\u001b[0m",
            "\u001b[0;31mLinAlgError\u001b[0m                               Traceback (most recent call last)",
            "\u001b[0;32mpomegranate/distributions/MultivariateGaussianDistribution.pyx\u001b[0m in \u001b[0;36mpomegranate.distributions.MultivariateGaussianDistribution.MultivariateGaussianDistribution.__cinit__\u001b[0;34m()\u001b[0m\n",
            "\u001b[0;32m/usr/local/lib/python3.6/dist-packages/scipy/linalg/decomp_cholesky.py\u001b[0m in \u001b[0;36mcholesky\u001b[0;34m(a, lower, overwrite_a, check_finite)\u001b[0m\n\u001b[1;32m     89\u001b[0m     \"\"\"\n\u001b[1;32m     90\u001b[0m     c, lower = _cholesky(a, lower=lower, overwrite_a=overwrite_a, clean=True,\n\u001b[0;32m---> 91\u001b[0;31m                          check_finite=check_finite)\n\u001b[0m\u001b[1;32m     92\u001b[0m     \u001b[0;32mreturn\u001b[0m \u001b[0mc\u001b[0m\u001b[0;34m\u001b[0m\u001b[0;34m\u001b[0m\u001b[0m\n\u001b[1;32m     93\u001b[0m \u001b[0;34m\u001b[0m\u001b[0m\n",
            "\u001b[0;32m/usr/local/lib/python3.6/dist-packages/scipy/linalg/decomp_cholesky.py\u001b[0m in \u001b[0;36m_cholesky\u001b[0;34m(a, lower, overwrite_a, clean, check_finite)\u001b[0m\n\u001b[1;32m     38\u001b[0m     \u001b[0;32mif\u001b[0m \u001b[0minfo\u001b[0m \u001b[0;34m>\u001b[0m \u001b[0;36m0\u001b[0m\u001b[0;34m:\u001b[0m\u001b[0;34m\u001b[0m\u001b[0;34m\u001b[0m\u001b[0m\n\u001b[1;32m     39\u001b[0m         raise LinAlgError(\"%d-th leading minor of the array is not positive \"\n\u001b[0;32m---> 40\u001b[0;31m                           \"definite\" % info)\n\u001b[0m\u001b[1;32m     41\u001b[0m     \u001b[0;32mif\u001b[0m \u001b[0minfo\u001b[0m \u001b[0;34m<\u001b[0m \u001b[0;36m0\u001b[0m\u001b[0;34m:\u001b[0m\u001b[0;34m\u001b[0m\u001b[0;34m\u001b[0m\u001b[0m\n\u001b[1;32m     42\u001b[0m         raise ValueError('LAPACK reported an illegal value in {}-th argument'\n",
            "\u001b[0;31mLinAlgError\u001b[0m: 3-th leading minor of the array is not positive definite"
          ]
        },
        {
          "output_type": "stream",
          "text": [
            "Exception ignored in: 'pomegranate.distributions.MultivariateGaussianDistribution.MultivariateGaussianDistribution._log_probability_missing'\n",
            "Traceback (most recent call last):\n",
            "  File \"pomegranate/distributions/MultivariateGaussianDistribution.pyx\", line 72, in pomegranate.distributions.MultivariateGaussianDistribution.MultivariateGaussianDistribution.__cinit__\n",
            "  File \"/usr/local/lib/python3.6/dist-packages/scipy/linalg/decomp_cholesky.py\", line 91, in cholesky\n",
            "    check_finite=check_finite)\n",
            "  File \"/usr/local/lib/python3.6/dist-packages/scipy/linalg/decomp_cholesky.py\", line 40, in _cholesky\n",
            "    \"definite\" % info)\n",
            "numpy.linalg.LinAlgError: 3-th leading minor of the array is not positive definite\n"
          ],
          "name": "stderr"
        },
        {
          "output_type": "error",
          "ename": "LinAlgError",
          "evalue": "ignored",
          "traceback": [
            "\u001b[0;31m---------------------------------------------------------------------------\u001b[0m",
            "\u001b[0;31mLinAlgError\u001b[0m                               Traceback (most recent call last)",
            "\u001b[0;32mpomegranate/distributions/MultivariateGaussianDistribution.pyx\u001b[0m in \u001b[0;36mpomegranate.distributions.MultivariateGaussianDistribution.MultivariateGaussianDistribution.__cinit__\u001b[0;34m()\u001b[0m\n",
            "\u001b[0;32m/usr/local/lib/python3.6/dist-packages/scipy/linalg/decomp_cholesky.py\u001b[0m in \u001b[0;36mcholesky\u001b[0;34m(a, lower, overwrite_a, check_finite)\u001b[0m\n\u001b[1;32m     89\u001b[0m     \"\"\"\n\u001b[1;32m     90\u001b[0m     c, lower = _cholesky(a, lower=lower, overwrite_a=overwrite_a, clean=True,\n\u001b[0;32m---> 91\u001b[0;31m                          check_finite=check_finite)\n\u001b[0m\u001b[1;32m     92\u001b[0m     \u001b[0;32mreturn\u001b[0m \u001b[0mc\u001b[0m\u001b[0;34m\u001b[0m\u001b[0;34m\u001b[0m\u001b[0m\n\u001b[1;32m     93\u001b[0m \u001b[0;34m\u001b[0m\u001b[0m\n",
            "\u001b[0;32m/usr/local/lib/python3.6/dist-packages/scipy/linalg/decomp_cholesky.py\u001b[0m in \u001b[0;36m_cholesky\u001b[0;34m(a, lower, overwrite_a, clean, check_finite)\u001b[0m\n\u001b[1;32m     38\u001b[0m     \u001b[0;32mif\u001b[0m \u001b[0minfo\u001b[0m \u001b[0;34m>\u001b[0m \u001b[0;36m0\u001b[0m\u001b[0;34m:\u001b[0m\u001b[0;34m\u001b[0m\u001b[0;34m\u001b[0m\u001b[0m\n\u001b[1;32m     39\u001b[0m         raise LinAlgError(\"%d-th leading minor of the array is not positive \"\n\u001b[0;32m---> 40\u001b[0;31m                           \"definite\" % info)\n\u001b[0m\u001b[1;32m     41\u001b[0m     \u001b[0;32mif\u001b[0m \u001b[0minfo\u001b[0m \u001b[0;34m<\u001b[0m \u001b[0;36m0\u001b[0m\u001b[0;34m:\u001b[0m\u001b[0;34m\u001b[0m\u001b[0;34m\u001b[0m\u001b[0m\n\u001b[1;32m     42\u001b[0m         raise ValueError('LAPACK reported an illegal value in {}-th argument'\n",
            "\u001b[0;31mLinAlgError\u001b[0m: 3-th leading minor of the array is not positive definite"
          ]
        },
        {
          "output_type": "stream",
          "text": [
            "Exception ignored in: 'pomegranate.distributions.MultivariateGaussianDistribution.MultivariateGaussianDistribution._log_probability_missing'\n",
            "Traceback (most recent call last):\n",
            "  File \"pomegranate/distributions/MultivariateGaussianDistribution.pyx\", line 72, in pomegranate.distributions.MultivariateGaussianDistribution.MultivariateGaussianDistribution.__cinit__\n",
            "  File \"/usr/local/lib/python3.6/dist-packages/scipy/linalg/decomp_cholesky.py\", line 91, in cholesky\n",
            "    check_finite=check_finite)\n",
            "  File \"/usr/local/lib/python3.6/dist-packages/scipy/linalg/decomp_cholesky.py\", line 40, in _cholesky\n",
            "    \"definite\" % info)\n",
            "numpy.linalg.LinAlgError: 3-th leading minor of the array is not positive definite\n"
          ],
          "name": "stderr"
        },
        {
          "output_type": "error",
          "ename": "LinAlgError",
          "evalue": "ignored",
          "traceback": [
            "\u001b[0;31m---------------------------------------------------------------------------\u001b[0m",
            "\u001b[0;31mLinAlgError\u001b[0m                               Traceback (most recent call last)",
            "\u001b[0;32mpomegranate/distributions/MultivariateGaussianDistribution.pyx\u001b[0m in \u001b[0;36mpomegranate.distributions.MultivariateGaussianDistribution.MultivariateGaussianDistribution.__cinit__\u001b[0;34m()\u001b[0m\n",
            "\u001b[0;32m/usr/local/lib/python3.6/dist-packages/scipy/linalg/decomp_cholesky.py\u001b[0m in \u001b[0;36mcholesky\u001b[0;34m(a, lower, overwrite_a, check_finite)\u001b[0m\n\u001b[1;32m     89\u001b[0m     \"\"\"\n\u001b[1;32m     90\u001b[0m     c, lower = _cholesky(a, lower=lower, overwrite_a=overwrite_a, clean=True,\n\u001b[0;32m---> 91\u001b[0;31m                          check_finite=check_finite)\n\u001b[0m\u001b[1;32m     92\u001b[0m     \u001b[0;32mreturn\u001b[0m \u001b[0mc\u001b[0m\u001b[0;34m\u001b[0m\u001b[0;34m\u001b[0m\u001b[0m\n\u001b[1;32m     93\u001b[0m \u001b[0;34m\u001b[0m\u001b[0m\n",
            "\u001b[0;32m/usr/local/lib/python3.6/dist-packages/scipy/linalg/decomp_cholesky.py\u001b[0m in \u001b[0;36m_cholesky\u001b[0;34m(a, lower, overwrite_a, clean, check_finite)\u001b[0m\n\u001b[1;32m     38\u001b[0m     \u001b[0;32mif\u001b[0m \u001b[0minfo\u001b[0m \u001b[0;34m>\u001b[0m \u001b[0;36m0\u001b[0m\u001b[0;34m:\u001b[0m\u001b[0;34m\u001b[0m\u001b[0;34m\u001b[0m\u001b[0m\n\u001b[1;32m     39\u001b[0m         raise LinAlgError(\"%d-th leading minor of the array is not positive \"\n\u001b[0;32m---> 40\u001b[0;31m                           \"definite\" % info)\n\u001b[0m\u001b[1;32m     41\u001b[0m     \u001b[0;32mif\u001b[0m \u001b[0minfo\u001b[0m \u001b[0;34m<\u001b[0m \u001b[0;36m0\u001b[0m\u001b[0;34m:\u001b[0m\u001b[0;34m\u001b[0m\u001b[0;34m\u001b[0m\u001b[0m\n\u001b[1;32m     42\u001b[0m         raise ValueError('LAPACK reported an illegal value in {}-th argument'\n",
            "\u001b[0;31mLinAlgError\u001b[0m: 2-th leading minor of the array is not positive definite"
          ]
        },
        {
          "output_type": "stream",
          "text": [
            "Exception ignored in: 'pomegranate.distributions.MultivariateGaussianDistribution.MultivariateGaussianDistribution._log_probability_missing'\n",
            "Traceback (most recent call last):\n",
            "  File \"pomegranate/distributions/MultivariateGaussianDistribution.pyx\", line 72, in pomegranate.distributions.MultivariateGaussianDistribution.MultivariateGaussianDistribution.__cinit__\n",
            "  File \"/usr/local/lib/python3.6/dist-packages/scipy/linalg/decomp_cholesky.py\", line 91, in cholesky\n",
            "    check_finite=check_finite)\n",
            "  File \"/usr/local/lib/python3.6/dist-packages/scipy/linalg/decomp_cholesky.py\", line 40, in _cholesky\n",
            "    \"definite\" % info)\n",
            "numpy.linalg.LinAlgError: 2-th leading minor of the array is not positive definite\n"
          ],
          "name": "stderr"
        },
        {
          "output_type": "error",
          "ename": "LinAlgError",
          "evalue": "ignored",
          "traceback": [
            "\u001b[0;31m---------------------------------------------------------------------------\u001b[0m",
            "\u001b[0;31mLinAlgError\u001b[0m                               Traceback (most recent call last)",
            "\u001b[0;32mpomegranate/distributions/MultivariateGaussianDistribution.pyx\u001b[0m in \u001b[0;36mpomegranate.distributions.MultivariateGaussianDistribution.MultivariateGaussianDistribution.__cinit__\u001b[0;34m()\u001b[0m\n",
            "\u001b[0;32m/usr/local/lib/python3.6/dist-packages/scipy/linalg/decomp_cholesky.py\u001b[0m in \u001b[0;36mcholesky\u001b[0;34m(a, lower, overwrite_a, check_finite)\u001b[0m\n\u001b[1;32m     89\u001b[0m     \"\"\"\n\u001b[1;32m     90\u001b[0m     c, lower = _cholesky(a, lower=lower, overwrite_a=overwrite_a, clean=True,\n\u001b[0;32m---> 91\u001b[0;31m                          check_finite=check_finite)\n\u001b[0m\u001b[1;32m     92\u001b[0m     \u001b[0;32mreturn\u001b[0m \u001b[0mc\u001b[0m\u001b[0;34m\u001b[0m\u001b[0;34m\u001b[0m\u001b[0m\n\u001b[1;32m     93\u001b[0m \u001b[0;34m\u001b[0m\u001b[0m\n",
            "\u001b[0;32m/usr/local/lib/python3.6/dist-packages/scipy/linalg/decomp_cholesky.py\u001b[0m in \u001b[0;36m_cholesky\u001b[0;34m(a, lower, overwrite_a, clean, check_finite)\u001b[0m\n\u001b[1;32m     38\u001b[0m     \u001b[0;32mif\u001b[0m \u001b[0minfo\u001b[0m \u001b[0;34m>\u001b[0m \u001b[0;36m0\u001b[0m\u001b[0;34m:\u001b[0m\u001b[0;34m\u001b[0m\u001b[0;34m\u001b[0m\u001b[0m\n\u001b[1;32m     39\u001b[0m         raise LinAlgError(\"%d-th leading minor of the array is not positive \"\n\u001b[0;32m---> 40\u001b[0;31m                           \"definite\" % info)\n\u001b[0m\u001b[1;32m     41\u001b[0m     \u001b[0;32mif\u001b[0m \u001b[0minfo\u001b[0m \u001b[0;34m<\u001b[0m \u001b[0;36m0\u001b[0m\u001b[0;34m:\u001b[0m\u001b[0;34m\u001b[0m\u001b[0;34m\u001b[0m\u001b[0m\n\u001b[1;32m     42\u001b[0m         raise ValueError('LAPACK reported an illegal value in {}-th argument'\n",
            "\u001b[0;31mLinAlgError\u001b[0m: 4-th leading minor of the array is not positive definite"
          ]
        },
        {
          "output_type": "stream",
          "text": [
            "Exception ignored in: 'pomegranate.distributions.MultivariateGaussianDistribution.MultivariateGaussianDistribution._log_probability_missing'\n",
            "Traceback (most recent call last):\n",
            "  File \"pomegranate/distributions/MultivariateGaussianDistribution.pyx\", line 72, in pomegranate.distributions.MultivariateGaussianDistribution.MultivariateGaussianDistribution.__cinit__\n",
            "  File \"/usr/local/lib/python3.6/dist-packages/scipy/linalg/decomp_cholesky.py\", line 91, in cholesky\n",
            "    check_finite=check_finite)\n",
            "  File \"/usr/local/lib/python3.6/dist-packages/scipy/linalg/decomp_cholesky.py\", line 40, in _cholesky\n",
            "    \"definite\" % info)\n",
            "numpy.linalg.LinAlgError: 4-th leading minor of the array is not positive definite\n"
          ],
          "name": "stderr"
        },
        {
          "output_type": "error",
          "ename": "LinAlgError",
          "evalue": "ignored",
          "traceback": [
            "\u001b[0;31m---------------------------------------------------------------------------\u001b[0m",
            "\u001b[0;31mLinAlgError\u001b[0m                               Traceback (most recent call last)",
            "\u001b[0;32mpomegranate/distributions/MultivariateGaussianDistribution.pyx\u001b[0m in \u001b[0;36mpomegranate.distributions.MultivariateGaussianDistribution.MultivariateGaussianDistribution.__cinit__\u001b[0;34m()\u001b[0m\n",
            "\u001b[0;32m/usr/local/lib/python3.6/dist-packages/scipy/linalg/decomp_cholesky.py\u001b[0m in \u001b[0;36mcholesky\u001b[0;34m(a, lower, overwrite_a, check_finite)\u001b[0m\n\u001b[1;32m     89\u001b[0m     \"\"\"\n\u001b[1;32m     90\u001b[0m     c, lower = _cholesky(a, lower=lower, overwrite_a=overwrite_a, clean=True,\n\u001b[0;32m---> 91\u001b[0;31m                          check_finite=check_finite)\n\u001b[0m\u001b[1;32m     92\u001b[0m     \u001b[0;32mreturn\u001b[0m \u001b[0mc\u001b[0m\u001b[0;34m\u001b[0m\u001b[0;34m\u001b[0m\u001b[0m\n\u001b[1;32m     93\u001b[0m \u001b[0;34m\u001b[0m\u001b[0m\n",
            "\u001b[0;32m/usr/local/lib/python3.6/dist-packages/scipy/linalg/decomp_cholesky.py\u001b[0m in \u001b[0;36m_cholesky\u001b[0;34m(a, lower, overwrite_a, clean, check_finite)\u001b[0m\n\u001b[1;32m     38\u001b[0m     \u001b[0;32mif\u001b[0m \u001b[0minfo\u001b[0m \u001b[0;34m>\u001b[0m \u001b[0;36m0\u001b[0m\u001b[0;34m:\u001b[0m\u001b[0;34m\u001b[0m\u001b[0;34m\u001b[0m\u001b[0m\n\u001b[1;32m     39\u001b[0m         raise LinAlgError(\"%d-th leading minor of the array is not positive \"\n\u001b[0;32m---> 40\u001b[0;31m                           \"definite\" % info)\n\u001b[0m\u001b[1;32m     41\u001b[0m     \u001b[0;32mif\u001b[0m \u001b[0minfo\u001b[0m \u001b[0;34m<\u001b[0m \u001b[0;36m0\u001b[0m\u001b[0;34m:\u001b[0m\u001b[0;34m\u001b[0m\u001b[0;34m\u001b[0m\u001b[0m\n\u001b[1;32m     42\u001b[0m         raise ValueError('LAPACK reported an illegal value in {}-th argument'\n",
            "\u001b[0;31mLinAlgError\u001b[0m: 3-th leading minor of the array is not positive definite"
          ]
        },
        {
          "output_type": "stream",
          "text": [
            "Exception ignored in: 'pomegranate.distributions.MultivariateGaussianDistribution.MultivariateGaussianDistribution._log_probability_missing'\n",
            "Traceback (most recent call last):\n",
            "  File \"pomegranate/distributions/MultivariateGaussianDistribution.pyx\", line 72, in pomegranate.distributions.MultivariateGaussianDistribution.MultivariateGaussianDistribution.__cinit__\n",
            "  File \"/usr/local/lib/python3.6/dist-packages/scipy/linalg/decomp_cholesky.py\", line 91, in cholesky\n",
            "    check_finite=check_finite)\n",
            "  File \"/usr/local/lib/python3.6/dist-packages/scipy/linalg/decomp_cholesky.py\", line 40, in _cholesky\n",
            "    \"definite\" % info)\n",
            "numpy.linalg.LinAlgError: 3-th leading minor of the array is not positive definite\n"
          ],
          "name": "stderr"
        },
        {
          "output_type": "error",
          "ename": "LinAlgError",
          "evalue": "ignored",
          "traceback": [
            "\u001b[0;31m---------------------------------------------------------------------------\u001b[0m",
            "\u001b[0;31mLinAlgError\u001b[0m                               Traceback (most recent call last)",
            "\u001b[0;32mpomegranate/distributions/MultivariateGaussianDistribution.pyx\u001b[0m in \u001b[0;36mpomegranate.distributions.MultivariateGaussianDistribution.MultivariateGaussianDistribution.__cinit__\u001b[0;34m()\u001b[0m\n",
            "\u001b[0;32m/usr/local/lib/python3.6/dist-packages/scipy/linalg/decomp_cholesky.py\u001b[0m in \u001b[0;36mcholesky\u001b[0;34m(a, lower, overwrite_a, check_finite)\u001b[0m\n\u001b[1;32m     89\u001b[0m     \"\"\"\n\u001b[1;32m     90\u001b[0m     c, lower = _cholesky(a, lower=lower, overwrite_a=overwrite_a, clean=True,\n\u001b[0;32m---> 91\u001b[0;31m                          check_finite=check_finite)\n\u001b[0m\u001b[1;32m     92\u001b[0m     \u001b[0;32mreturn\u001b[0m \u001b[0mc\u001b[0m\u001b[0;34m\u001b[0m\u001b[0;34m\u001b[0m\u001b[0m\n\u001b[1;32m     93\u001b[0m \u001b[0;34m\u001b[0m\u001b[0m\n",
            "\u001b[0;32m/usr/local/lib/python3.6/dist-packages/scipy/linalg/decomp_cholesky.py\u001b[0m in \u001b[0;36m_cholesky\u001b[0;34m(a, lower, overwrite_a, clean, check_finite)\u001b[0m\n\u001b[1;32m     38\u001b[0m     \u001b[0;32mif\u001b[0m \u001b[0minfo\u001b[0m \u001b[0;34m>\u001b[0m \u001b[0;36m0\u001b[0m\u001b[0;34m:\u001b[0m\u001b[0;34m\u001b[0m\u001b[0;34m\u001b[0m\u001b[0m\n\u001b[1;32m     39\u001b[0m         raise LinAlgError(\"%d-th leading minor of the array is not positive \"\n\u001b[0;32m---> 40\u001b[0;31m                           \"definite\" % info)\n\u001b[0m\u001b[1;32m     41\u001b[0m     \u001b[0;32mif\u001b[0m \u001b[0minfo\u001b[0m \u001b[0;34m<\u001b[0m \u001b[0;36m0\u001b[0m\u001b[0;34m:\u001b[0m\u001b[0;34m\u001b[0m\u001b[0;34m\u001b[0m\u001b[0m\n\u001b[1;32m     42\u001b[0m         raise ValueError('LAPACK reported an illegal value in {}-th argument'\n",
            "\u001b[0;31mLinAlgError\u001b[0m: 5-th leading minor of the array is not positive definite"
          ]
        },
        {
          "output_type": "stream",
          "text": [
            "Exception ignored in: 'pomegranate.distributions.MultivariateGaussianDistribution.MultivariateGaussianDistribution._log_probability_missing'\n",
            "Traceback (most recent call last):\n",
            "  File \"pomegranate/distributions/MultivariateGaussianDistribution.pyx\", line 72, in pomegranate.distributions.MultivariateGaussianDistribution.MultivariateGaussianDistribution.__cinit__\n",
            "  File \"/usr/local/lib/python3.6/dist-packages/scipy/linalg/decomp_cholesky.py\", line 91, in cholesky\n",
            "    check_finite=check_finite)\n",
            "  File \"/usr/local/lib/python3.6/dist-packages/scipy/linalg/decomp_cholesky.py\", line 40, in _cholesky\n",
            "    \"definite\" % info)\n",
            "numpy.linalg.LinAlgError: 5-th leading minor of the array is not positive definite\n"
          ],
          "name": "stderr"
        },
        {
          "output_type": "error",
          "ename": "ValueError",
          "evalue": "ignored",
          "traceback": [
            "\u001b[0;31m---------------------------------------------------------------------------\u001b[0m",
            "\u001b[0;31mValueError\u001b[0m                                Traceback (most recent call last)",
            "\u001b[0;32mpomegranate/distributions/MultivariateGaussianDistribution.pyx\u001b[0m in \u001b[0;36mpomegranate.distributions.MultivariateGaussianDistribution.MultivariateGaussianDistribution.__cinit__\u001b[0;34m()\u001b[0m\n",
            "\u001b[0;31mValueError\u001b[0m: covariance matrix is not invertible."
          ]
        },
        {
          "output_type": "stream",
          "text": [
            "Exception ignored in: 'pomegranate.distributions.MultivariateGaussianDistribution.MultivariateGaussianDistribution._log_probability_missing'\n",
            "Traceback (most recent call last):\n",
            "  File \"pomegranate/distributions/MultivariateGaussianDistribution.pyx\", line 65, in pomegranate.distributions.MultivariateGaussianDistribution.MultivariateGaussianDistribution.__cinit__\n",
            "ValueError: covariance matrix is not invertible.\n"
          ],
          "name": "stderr"
        },
        {
          "output_type": "error",
          "ename": "LinAlgError",
          "evalue": "ignored",
          "traceback": [
            "\u001b[0;31m---------------------------------------------------------------------------\u001b[0m",
            "\u001b[0;31mLinAlgError\u001b[0m                               Traceback (most recent call last)",
            "\u001b[0;32mpomegranate/distributions/MultivariateGaussianDistribution.pyx\u001b[0m in \u001b[0;36mpomegranate.distributions.MultivariateGaussianDistribution.MultivariateGaussianDistribution.__cinit__\u001b[0;34m()\u001b[0m\n",
            "\u001b[0;32m/usr/local/lib/python3.6/dist-packages/scipy/linalg/decomp_cholesky.py\u001b[0m in \u001b[0;36mcholesky\u001b[0;34m(a, lower, overwrite_a, check_finite)\u001b[0m\n\u001b[1;32m     89\u001b[0m     \"\"\"\n\u001b[1;32m     90\u001b[0m     c, lower = _cholesky(a, lower=lower, overwrite_a=overwrite_a, clean=True,\n\u001b[0;32m---> 91\u001b[0;31m                          check_finite=check_finite)\n\u001b[0m\u001b[1;32m     92\u001b[0m     \u001b[0;32mreturn\u001b[0m \u001b[0mc\u001b[0m\u001b[0;34m\u001b[0m\u001b[0;34m\u001b[0m\u001b[0m\n\u001b[1;32m     93\u001b[0m \u001b[0;34m\u001b[0m\u001b[0m\n",
            "\u001b[0;32m/usr/local/lib/python3.6/dist-packages/scipy/linalg/decomp_cholesky.py\u001b[0m in \u001b[0;36m_cholesky\u001b[0;34m(a, lower, overwrite_a, clean, check_finite)\u001b[0m\n\u001b[1;32m     38\u001b[0m     \u001b[0;32mif\u001b[0m \u001b[0minfo\u001b[0m \u001b[0;34m>\u001b[0m \u001b[0;36m0\u001b[0m\u001b[0;34m:\u001b[0m\u001b[0;34m\u001b[0m\u001b[0;34m\u001b[0m\u001b[0m\n\u001b[1;32m     39\u001b[0m         raise LinAlgError(\"%d-th leading minor of the array is not positive \"\n\u001b[0;32m---> 40\u001b[0;31m                           \"definite\" % info)\n\u001b[0m\u001b[1;32m     41\u001b[0m     \u001b[0;32mif\u001b[0m \u001b[0minfo\u001b[0m \u001b[0;34m<\u001b[0m \u001b[0;36m0\u001b[0m\u001b[0;34m:\u001b[0m\u001b[0;34m\u001b[0m\u001b[0;34m\u001b[0m\u001b[0m\n\u001b[1;32m     42\u001b[0m         raise ValueError('LAPACK reported an illegal value in {}-th argument'\n",
            "\u001b[0;31mLinAlgError\u001b[0m: 3-th leading minor of the array is not positive definite"
          ]
        },
        {
          "output_type": "stream",
          "text": [
            "Exception ignored in: 'pomegranate.distributions.MultivariateGaussianDistribution.MultivariateGaussianDistribution._log_probability_missing'\n",
            "Traceback (most recent call last):\n",
            "  File \"pomegranate/distributions/MultivariateGaussianDistribution.pyx\", line 72, in pomegranate.distributions.MultivariateGaussianDistribution.MultivariateGaussianDistribution.__cinit__\n",
            "  File \"/usr/local/lib/python3.6/dist-packages/scipy/linalg/decomp_cholesky.py\", line 91, in cholesky\n",
            "    check_finite=check_finite)\n",
            "  File \"/usr/local/lib/python3.6/dist-packages/scipy/linalg/decomp_cholesky.py\", line 40, in _cholesky\n",
            "    \"definite\" % info)\n",
            "numpy.linalg.LinAlgError: 3-th leading minor of the array is not positive definite\n"
          ],
          "name": "stderr"
        },
        {
          "output_type": "error",
          "ename": "LinAlgError",
          "evalue": "ignored",
          "traceback": [
            "\u001b[0;31m---------------------------------------------------------------------------\u001b[0m",
            "\u001b[0;31mLinAlgError\u001b[0m                               Traceback (most recent call last)",
            "\u001b[0;32mpomegranate/distributions/MultivariateGaussianDistribution.pyx\u001b[0m in \u001b[0;36mpomegranate.distributions.MultivariateGaussianDistribution.MultivariateGaussianDistribution.__cinit__\u001b[0;34m()\u001b[0m\n",
            "\u001b[0;32m/usr/local/lib/python3.6/dist-packages/scipy/linalg/decomp_cholesky.py\u001b[0m in \u001b[0;36mcholesky\u001b[0;34m(a, lower, overwrite_a, check_finite)\u001b[0m\n\u001b[1;32m     89\u001b[0m     \"\"\"\n\u001b[1;32m     90\u001b[0m     c, lower = _cholesky(a, lower=lower, overwrite_a=overwrite_a, clean=True,\n\u001b[0;32m---> 91\u001b[0;31m                          check_finite=check_finite)\n\u001b[0m\u001b[1;32m     92\u001b[0m     \u001b[0;32mreturn\u001b[0m \u001b[0mc\u001b[0m\u001b[0;34m\u001b[0m\u001b[0;34m\u001b[0m\u001b[0m\n\u001b[1;32m     93\u001b[0m \u001b[0;34m\u001b[0m\u001b[0m\n",
            "\u001b[0;32m/usr/local/lib/python3.6/dist-packages/scipy/linalg/decomp_cholesky.py\u001b[0m in \u001b[0;36m_cholesky\u001b[0;34m(a, lower, overwrite_a, clean, check_finite)\u001b[0m\n\u001b[1;32m     38\u001b[0m     \u001b[0;32mif\u001b[0m \u001b[0minfo\u001b[0m \u001b[0;34m>\u001b[0m \u001b[0;36m0\u001b[0m\u001b[0;34m:\u001b[0m\u001b[0;34m\u001b[0m\u001b[0;34m\u001b[0m\u001b[0m\n\u001b[1;32m     39\u001b[0m         raise LinAlgError(\"%d-th leading minor of the array is not positive \"\n\u001b[0;32m---> 40\u001b[0;31m                           \"definite\" % info)\n\u001b[0m\u001b[1;32m     41\u001b[0m     \u001b[0;32mif\u001b[0m \u001b[0minfo\u001b[0m \u001b[0;34m<\u001b[0m \u001b[0;36m0\u001b[0m\u001b[0;34m:\u001b[0m\u001b[0;34m\u001b[0m\u001b[0;34m\u001b[0m\u001b[0m\n\u001b[1;32m     42\u001b[0m         raise ValueError('LAPACK reported an illegal value in {}-th argument'\n",
            "\u001b[0;31mLinAlgError\u001b[0m: 4-th leading minor of the array is not positive definite"
          ]
        },
        {
          "output_type": "stream",
          "text": [
            "Exception ignored in: 'pomegranate.distributions.MultivariateGaussianDistribution.MultivariateGaussianDistribution._log_probability_missing'\n",
            "Traceback (most recent call last):\n",
            "  File \"pomegranate/distributions/MultivariateGaussianDistribution.pyx\", line 72, in pomegranate.distributions.MultivariateGaussianDistribution.MultivariateGaussianDistribution.__cinit__\n",
            "  File \"/usr/local/lib/python3.6/dist-packages/scipy/linalg/decomp_cholesky.py\", line 91, in cholesky\n",
            "    check_finite=check_finite)\n",
            "  File \"/usr/local/lib/python3.6/dist-packages/scipy/linalg/decomp_cholesky.py\", line 40, in _cholesky\n",
            "    \"definite\" % info)\n",
            "numpy.linalg.LinAlgError: 4-th leading minor of the array is not positive definite\n"
          ],
          "name": "stderr"
        },
        {
          "output_type": "error",
          "ename": "ValueError",
          "evalue": "ignored",
          "traceback": [
            "\u001b[0;31m---------------------------------------------------------------------------\u001b[0m",
            "\u001b[0;31mValueError\u001b[0m                                Traceback (most recent call last)",
            "\u001b[0;32mpomegranate/distributions/MultivariateGaussianDistribution.pyx\u001b[0m in \u001b[0;36mpomegranate.distributions.MultivariateGaussianDistribution.MultivariateGaussianDistribution.__cinit__\u001b[0;34m()\u001b[0m\n",
            "\u001b[0;31mValueError\u001b[0m: covariance matrix is not invertible."
          ]
        },
        {
          "output_type": "stream",
          "text": [
            "Exception ignored in: 'pomegranate.distributions.MultivariateGaussianDistribution.MultivariateGaussianDistribution._log_probability_missing'\n",
            "Traceback (most recent call last):\n",
            "  File \"pomegranate/distributions/MultivariateGaussianDistribution.pyx\", line 65, in pomegranate.distributions.MultivariateGaussianDistribution.MultivariateGaussianDistribution.__cinit__\n",
            "ValueError: covariance matrix is not invertible.\n"
          ],
          "name": "stderr"
        },
        {
          "output_type": "error",
          "ename": "LinAlgError",
          "evalue": "ignored",
          "traceback": [
            "\u001b[0;31m---------------------------------------------------------------------------\u001b[0m",
            "\u001b[0;31mLinAlgError\u001b[0m                               Traceback (most recent call last)",
            "\u001b[0;32mpomegranate/distributions/MultivariateGaussianDistribution.pyx\u001b[0m in \u001b[0;36mpomegranate.distributions.MultivariateGaussianDistribution.MultivariateGaussianDistribution.__cinit__\u001b[0;34m()\u001b[0m\n",
            "\u001b[0;32m/usr/local/lib/python3.6/dist-packages/scipy/linalg/decomp_cholesky.py\u001b[0m in \u001b[0;36mcholesky\u001b[0;34m(a, lower, overwrite_a, check_finite)\u001b[0m\n\u001b[1;32m     89\u001b[0m     \"\"\"\n\u001b[1;32m     90\u001b[0m     c, lower = _cholesky(a, lower=lower, overwrite_a=overwrite_a, clean=True,\n\u001b[0;32m---> 91\u001b[0;31m                          check_finite=check_finite)\n\u001b[0m\u001b[1;32m     92\u001b[0m     \u001b[0;32mreturn\u001b[0m \u001b[0mc\u001b[0m\u001b[0;34m\u001b[0m\u001b[0;34m\u001b[0m\u001b[0m\n\u001b[1;32m     93\u001b[0m \u001b[0;34m\u001b[0m\u001b[0m\n",
            "\u001b[0;32m/usr/local/lib/python3.6/dist-packages/scipy/linalg/decomp_cholesky.py\u001b[0m in \u001b[0;36m_cholesky\u001b[0;34m(a, lower, overwrite_a, clean, check_finite)\u001b[0m\n\u001b[1;32m     38\u001b[0m     \u001b[0;32mif\u001b[0m \u001b[0minfo\u001b[0m \u001b[0;34m>\u001b[0m \u001b[0;36m0\u001b[0m\u001b[0;34m:\u001b[0m\u001b[0;34m\u001b[0m\u001b[0;34m\u001b[0m\u001b[0m\n\u001b[1;32m     39\u001b[0m         raise LinAlgError(\"%d-th leading minor of the array is not positive \"\n\u001b[0;32m---> 40\u001b[0;31m                           \"definite\" % info)\n\u001b[0m\u001b[1;32m     41\u001b[0m     \u001b[0;32mif\u001b[0m \u001b[0minfo\u001b[0m \u001b[0;34m<\u001b[0m \u001b[0;36m0\u001b[0m\u001b[0;34m:\u001b[0m\u001b[0;34m\u001b[0m\u001b[0;34m\u001b[0m\u001b[0m\n\u001b[1;32m     42\u001b[0m         raise ValueError('LAPACK reported an illegal value in {}-th argument'\n",
            "\u001b[0;31mLinAlgError\u001b[0m: 6-th leading minor of the array is not positive definite"
          ]
        },
        {
          "output_type": "stream",
          "text": [
            "Exception ignored in: 'pomegranate.distributions.MultivariateGaussianDistribution.MultivariateGaussianDistribution._log_probability_missing'\n",
            "Traceback (most recent call last):\n",
            "  File \"pomegranate/distributions/MultivariateGaussianDistribution.pyx\", line 72, in pomegranate.distributions.MultivariateGaussianDistribution.MultivariateGaussianDistribution.__cinit__\n",
            "  File \"/usr/local/lib/python3.6/dist-packages/scipy/linalg/decomp_cholesky.py\", line 91, in cholesky\n",
            "    check_finite=check_finite)\n",
            "  File \"/usr/local/lib/python3.6/dist-packages/scipy/linalg/decomp_cholesky.py\", line 40, in _cholesky\n",
            "    \"definite\" % info)\n",
            "numpy.linalg.LinAlgError: 6-th leading minor of the array is not positive definite\n"
          ],
          "name": "stderr"
        },
        {
          "output_type": "error",
          "ename": "LinAlgError",
          "evalue": "ignored",
          "traceback": [
            "\u001b[0;31m---------------------------------------------------------------------------\u001b[0m",
            "\u001b[0;31mLinAlgError\u001b[0m                               Traceback (most recent call last)",
            "\u001b[0;32mpomegranate/distributions/MultivariateGaussianDistribution.pyx\u001b[0m in \u001b[0;36mpomegranate.distributions.MultivariateGaussianDistribution.MultivariateGaussianDistribution.__cinit__\u001b[0;34m()\u001b[0m\n",
            "\u001b[0;32m/usr/local/lib/python3.6/dist-packages/scipy/linalg/decomp_cholesky.py\u001b[0m in \u001b[0;36mcholesky\u001b[0;34m(a, lower, overwrite_a, check_finite)\u001b[0m\n\u001b[1;32m     89\u001b[0m     \"\"\"\n\u001b[1;32m     90\u001b[0m     c, lower = _cholesky(a, lower=lower, overwrite_a=overwrite_a, clean=True,\n\u001b[0;32m---> 91\u001b[0;31m                          check_finite=check_finite)\n\u001b[0m\u001b[1;32m     92\u001b[0m     \u001b[0;32mreturn\u001b[0m \u001b[0mc\u001b[0m\u001b[0;34m\u001b[0m\u001b[0;34m\u001b[0m\u001b[0m\n\u001b[1;32m     93\u001b[0m \u001b[0;34m\u001b[0m\u001b[0m\n",
            "\u001b[0;32m/usr/local/lib/python3.6/dist-packages/scipy/linalg/decomp_cholesky.py\u001b[0m in \u001b[0;36m_cholesky\u001b[0;34m(a, lower, overwrite_a, clean, check_finite)\u001b[0m\n\u001b[1;32m     38\u001b[0m     \u001b[0;32mif\u001b[0m \u001b[0minfo\u001b[0m \u001b[0;34m>\u001b[0m \u001b[0;36m0\u001b[0m\u001b[0;34m:\u001b[0m\u001b[0;34m\u001b[0m\u001b[0;34m\u001b[0m\u001b[0m\n\u001b[1;32m     39\u001b[0m         raise LinAlgError(\"%d-th leading minor of the array is not positive \"\n\u001b[0;32m---> 40\u001b[0;31m                           \"definite\" % info)\n\u001b[0m\u001b[1;32m     41\u001b[0m     \u001b[0;32mif\u001b[0m \u001b[0minfo\u001b[0m \u001b[0;34m<\u001b[0m \u001b[0;36m0\u001b[0m\u001b[0;34m:\u001b[0m\u001b[0;34m\u001b[0m\u001b[0;34m\u001b[0m\u001b[0m\n\u001b[1;32m     42\u001b[0m         raise ValueError('LAPACK reported an illegal value in {}-th argument'\n",
            "\u001b[0;31mLinAlgError\u001b[0m: 3-th leading minor of the array is not positive definite"
          ]
        },
        {
          "output_type": "stream",
          "text": [
            "Exception ignored in: 'pomegranate.distributions.MultivariateGaussianDistribution.MultivariateGaussianDistribution._log_probability_missing'\n",
            "Traceback (most recent call last):\n",
            "  File \"pomegranate/distributions/MultivariateGaussianDistribution.pyx\", line 72, in pomegranate.distributions.MultivariateGaussianDistribution.MultivariateGaussianDistribution.__cinit__\n",
            "  File \"/usr/local/lib/python3.6/dist-packages/scipy/linalg/decomp_cholesky.py\", line 91, in cholesky\n",
            "    check_finite=check_finite)\n",
            "  File \"/usr/local/lib/python3.6/dist-packages/scipy/linalg/decomp_cholesky.py\", line 40, in _cholesky\n",
            "    \"definite\" % info)\n",
            "numpy.linalg.LinAlgError: 3-th leading minor of the array is not positive definite\n"
          ],
          "name": "stderr"
        },
        {
          "output_type": "error",
          "ename": "LinAlgError",
          "evalue": "ignored",
          "traceback": [
            "\u001b[0;31m---------------------------------------------------------------------------\u001b[0m",
            "\u001b[0;31mLinAlgError\u001b[0m                               Traceback (most recent call last)",
            "\u001b[0;32mpomegranate/distributions/MultivariateGaussianDistribution.pyx\u001b[0m in \u001b[0;36mpomegranate.distributions.MultivariateGaussianDistribution.MultivariateGaussianDistribution.__cinit__\u001b[0;34m()\u001b[0m\n",
            "\u001b[0;32m/usr/local/lib/python3.6/dist-packages/scipy/linalg/decomp_cholesky.py\u001b[0m in \u001b[0;36mcholesky\u001b[0;34m(a, lower, overwrite_a, check_finite)\u001b[0m\n\u001b[1;32m     89\u001b[0m     \"\"\"\n\u001b[1;32m     90\u001b[0m     c, lower = _cholesky(a, lower=lower, overwrite_a=overwrite_a, clean=True,\n\u001b[0;32m---> 91\u001b[0;31m                          check_finite=check_finite)\n\u001b[0m\u001b[1;32m     92\u001b[0m     \u001b[0;32mreturn\u001b[0m \u001b[0mc\u001b[0m\u001b[0;34m\u001b[0m\u001b[0;34m\u001b[0m\u001b[0m\n\u001b[1;32m     93\u001b[0m \u001b[0;34m\u001b[0m\u001b[0m\n",
            "\u001b[0;32m/usr/local/lib/python3.6/dist-packages/scipy/linalg/decomp_cholesky.py\u001b[0m in \u001b[0;36m_cholesky\u001b[0;34m(a, lower, overwrite_a, clean, check_finite)\u001b[0m\n\u001b[1;32m     38\u001b[0m     \u001b[0;32mif\u001b[0m \u001b[0minfo\u001b[0m \u001b[0;34m>\u001b[0m \u001b[0;36m0\u001b[0m\u001b[0;34m:\u001b[0m\u001b[0;34m\u001b[0m\u001b[0;34m\u001b[0m\u001b[0m\n\u001b[1;32m     39\u001b[0m         raise LinAlgError(\"%d-th leading minor of the array is not positive \"\n\u001b[0;32m---> 40\u001b[0;31m                           \"definite\" % info)\n\u001b[0m\u001b[1;32m     41\u001b[0m     \u001b[0;32mif\u001b[0m \u001b[0minfo\u001b[0m \u001b[0;34m<\u001b[0m \u001b[0;36m0\u001b[0m\u001b[0;34m:\u001b[0m\u001b[0;34m\u001b[0m\u001b[0;34m\u001b[0m\u001b[0m\n\u001b[1;32m     42\u001b[0m         raise ValueError('LAPACK reported an illegal value in {}-th argument'\n",
            "\u001b[0;31mLinAlgError\u001b[0m: 4-th leading minor of the array is not positive definite"
          ]
        },
        {
          "output_type": "stream",
          "text": [
            "Exception ignored in: 'pomegranate.distributions.MultivariateGaussianDistribution.MultivariateGaussianDistribution._log_probability_missing'\n",
            "Traceback (most recent call last):\n",
            "  File \"pomegranate/distributions/MultivariateGaussianDistribution.pyx\", line 72, in pomegranate.distributions.MultivariateGaussianDistribution.MultivariateGaussianDistribution.__cinit__\n",
            "  File \"/usr/local/lib/python3.6/dist-packages/scipy/linalg/decomp_cholesky.py\", line 91, in cholesky\n",
            "    check_finite=check_finite)\n",
            "  File \"/usr/local/lib/python3.6/dist-packages/scipy/linalg/decomp_cholesky.py\", line 40, in _cholesky\n",
            "    \"definite\" % info)\n",
            "numpy.linalg.LinAlgError: 4-th leading minor of the array is not positive definite\n"
          ],
          "name": "stderr"
        },
        {
          "output_type": "error",
          "ename": "LinAlgError",
          "evalue": "ignored",
          "traceback": [
            "\u001b[0;31m---------------------------------------------------------------------------\u001b[0m",
            "\u001b[0;31mLinAlgError\u001b[0m                               Traceback (most recent call last)",
            "\u001b[0;32mpomegranate/distributions/MultivariateGaussianDistribution.pyx\u001b[0m in \u001b[0;36mpomegranate.distributions.MultivariateGaussianDistribution.MultivariateGaussianDistribution.__cinit__\u001b[0;34m()\u001b[0m\n",
            "\u001b[0;32m/usr/local/lib/python3.6/dist-packages/scipy/linalg/decomp_cholesky.py\u001b[0m in \u001b[0;36mcholesky\u001b[0;34m(a, lower, overwrite_a, check_finite)\u001b[0m\n\u001b[1;32m     89\u001b[0m     \"\"\"\n\u001b[1;32m     90\u001b[0m     c, lower = _cholesky(a, lower=lower, overwrite_a=overwrite_a, clean=True,\n\u001b[0;32m---> 91\u001b[0;31m                          check_finite=check_finite)\n\u001b[0m\u001b[1;32m     92\u001b[0m     \u001b[0;32mreturn\u001b[0m \u001b[0mc\u001b[0m\u001b[0;34m\u001b[0m\u001b[0;34m\u001b[0m\u001b[0m\n\u001b[1;32m     93\u001b[0m \u001b[0;34m\u001b[0m\u001b[0m\n",
            "\u001b[0;32m/usr/local/lib/python3.6/dist-packages/scipy/linalg/decomp_cholesky.py\u001b[0m in \u001b[0;36m_cholesky\u001b[0;34m(a, lower, overwrite_a, clean, check_finite)\u001b[0m\n\u001b[1;32m     38\u001b[0m     \u001b[0;32mif\u001b[0m \u001b[0minfo\u001b[0m \u001b[0;34m>\u001b[0m \u001b[0;36m0\u001b[0m\u001b[0;34m:\u001b[0m\u001b[0;34m\u001b[0m\u001b[0;34m\u001b[0m\u001b[0m\n\u001b[1;32m     39\u001b[0m         raise LinAlgError(\"%d-th leading minor of the array is not positive \"\n\u001b[0;32m---> 40\u001b[0;31m                           \"definite\" % info)\n\u001b[0m\u001b[1;32m     41\u001b[0m     \u001b[0;32mif\u001b[0m \u001b[0minfo\u001b[0m \u001b[0;34m<\u001b[0m \u001b[0;36m0\u001b[0m\u001b[0;34m:\u001b[0m\u001b[0;34m\u001b[0m\u001b[0;34m\u001b[0m\u001b[0m\n\u001b[1;32m     42\u001b[0m         raise ValueError('LAPACK reported an illegal value in {}-th argument'\n",
            "\u001b[0;31mLinAlgError\u001b[0m: 3-th leading minor of the array is not positive definite"
          ]
        },
        {
          "output_type": "stream",
          "text": [
            "Exception ignored in: 'pomegranate.distributions.MultivariateGaussianDistribution.MultivariateGaussianDistribution._log_probability_missing'\n",
            "Traceback (most recent call last):\n",
            "  File \"pomegranate/distributions/MultivariateGaussianDistribution.pyx\", line 72, in pomegranate.distributions.MultivariateGaussianDistribution.MultivariateGaussianDistribution.__cinit__\n",
            "  File \"/usr/local/lib/python3.6/dist-packages/scipy/linalg/decomp_cholesky.py\", line 91, in cholesky\n",
            "    check_finite=check_finite)\n",
            "  File \"/usr/local/lib/python3.6/dist-packages/scipy/linalg/decomp_cholesky.py\", line 40, in _cholesky\n",
            "    \"definite\" % info)\n",
            "numpy.linalg.LinAlgError: 3-th leading minor of the array is not positive definite\n"
          ],
          "name": "stderr"
        },
        {
          "output_type": "error",
          "ename": "LinAlgError",
          "evalue": "ignored",
          "traceback": [
            "\u001b[0;31m---------------------------------------------------------------------------\u001b[0m",
            "\u001b[0;31mLinAlgError\u001b[0m                               Traceback (most recent call last)",
            "\u001b[0;32mpomegranate/distributions/MultivariateGaussianDistribution.pyx\u001b[0m in \u001b[0;36mpomegranate.distributions.MultivariateGaussianDistribution.MultivariateGaussianDistribution.__cinit__\u001b[0;34m()\u001b[0m\n",
            "\u001b[0;32m/usr/local/lib/python3.6/dist-packages/scipy/linalg/decomp_cholesky.py\u001b[0m in \u001b[0;36mcholesky\u001b[0;34m(a, lower, overwrite_a, check_finite)\u001b[0m\n\u001b[1;32m     89\u001b[0m     \"\"\"\n\u001b[1;32m     90\u001b[0m     c, lower = _cholesky(a, lower=lower, overwrite_a=overwrite_a, clean=True,\n\u001b[0;32m---> 91\u001b[0;31m                          check_finite=check_finite)\n\u001b[0m\u001b[1;32m     92\u001b[0m     \u001b[0;32mreturn\u001b[0m \u001b[0mc\u001b[0m\u001b[0;34m\u001b[0m\u001b[0;34m\u001b[0m\u001b[0m\n\u001b[1;32m     93\u001b[0m \u001b[0;34m\u001b[0m\u001b[0m\n",
            "\u001b[0;32m/usr/local/lib/python3.6/dist-packages/scipy/linalg/decomp_cholesky.py\u001b[0m in \u001b[0;36m_cholesky\u001b[0;34m(a, lower, overwrite_a, clean, check_finite)\u001b[0m\n\u001b[1;32m     38\u001b[0m     \u001b[0;32mif\u001b[0m \u001b[0minfo\u001b[0m \u001b[0;34m>\u001b[0m \u001b[0;36m0\u001b[0m\u001b[0;34m:\u001b[0m\u001b[0;34m\u001b[0m\u001b[0;34m\u001b[0m\u001b[0m\n\u001b[1;32m     39\u001b[0m         raise LinAlgError(\"%d-th leading minor of the array is not positive \"\n\u001b[0;32m---> 40\u001b[0;31m                           \"definite\" % info)\n\u001b[0m\u001b[1;32m     41\u001b[0m     \u001b[0;32mif\u001b[0m \u001b[0minfo\u001b[0m \u001b[0;34m<\u001b[0m \u001b[0;36m0\u001b[0m\u001b[0;34m:\u001b[0m\u001b[0;34m\u001b[0m\u001b[0;34m\u001b[0m\u001b[0m\n\u001b[1;32m     42\u001b[0m         raise ValueError('LAPACK reported an illegal value in {}-th argument'\n",
            "\u001b[0;31mLinAlgError\u001b[0m: 4-th leading minor of the array is not positive definite"
          ]
        },
        {
          "output_type": "stream",
          "text": [
            "Exception ignored in: 'pomegranate.distributions.MultivariateGaussianDistribution.MultivariateGaussianDistribution._log_probability_missing'\n",
            "Traceback (most recent call last):\n",
            "  File \"pomegranate/distributions/MultivariateGaussianDistribution.pyx\", line 72, in pomegranate.distributions.MultivariateGaussianDistribution.MultivariateGaussianDistribution.__cinit__\n",
            "  File \"/usr/local/lib/python3.6/dist-packages/scipy/linalg/decomp_cholesky.py\", line 91, in cholesky\n",
            "    check_finite=check_finite)\n",
            "  File \"/usr/local/lib/python3.6/dist-packages/scipy/linalg/decomp_cholesky.py\", line 40, in _cholesky\n",
            "    \"definite\" % info)\n",
            "numpy.linalg.LinAlgError: 4-th leading minor of the array is not positive definite\n"
          ],
          "name": "stderr"
        },
        {
          "output_type": "error",
          "ename": "LinAlgError",
          "evalue": "ignored",
          "traceback": [
            "\u001b[0;31m---------------------------------------------------------------------------\u001b[0m",
            "\u001b[0;31mLinAlgError\u001b[0m                               Traceback (most recent call last)",
            "\u001b[0;32mpomegranate/distributions/MultivariateGaussianDistribution.pyx\u001b[0m in \u001b[0;36mpomegranate.distributions.MultivariateGaussianDistribution.MultivariateGaussianDistribution.__cinit__\u001b[0;34m()\u001b[0m\n",
            "\u001b[0;32m/usr/local/lib/python3.6/dist-packages/scipy/linalg/decomp_cholesky.py\u001b[0m in \u001b[0;36mcholesky\u001b[0;34m(a, lower, overwrite_a, check_finite)\u001b[0m\n\u001b[1;32m     89\u001b[0m     \"\"\"\n\u001b[1;32m     90\u001b[0m     c, lower = _cholesky(a, lower=lower, overwrite_a=overwrite_a, clean=True,\n\u001b[0;32m---> 91\u001b[0;31m                          check_finite=check_finite)\n\u001b[0m\u001b[1;32m     92\u001b[0m     \u001b[0;32mreturn\u001b[0m \u001b[0mc\u001b[0m\u001b[0;34m\u001b[0m\u001b[0;34m\u001b[0m\u001b[0m\n\u001b[1;32m     93\u001b[0m \u001b[0;34m\u001b[0m\u001b[0m\n",
            "\u001b[0;32m/usr/local/lib/python3.6/dist-packages/scipy/linalg/decomp_cholesky.py\u001b[0m in \u001b[0;36m_cholesky\u001b[0;34m(a, lower, overwrite_a, clean, check_finite)\u001b[0m\n\u001b[1;32m     38\u001b[0m     \u001b[0;32mif\u001b[0m \u001b[0minfo\u001b[0m \u001b[0;34m>\u001b[0m \u001b[0;36m0\u001b[0m\u001b[0;34m:\u001b[0m\u001b[0;34m\u001b[0m\u001b[0;34m\u001b[0m\u001b[0m\n\u001b[1;32m     39\u001b[0m         raise LinAlgError(\"%d-th leading minor of the array is not positive \"\n\u001b[0;32m---> 40\u001b[0;31m                           \"definite\" % info)\n\u001b[0m\u001b[1;32m     41\u001b[0m     \u001b[0;32mif\u001b[0m \u001b[0minfo\u001b[0m \u001b[0;34m<\u001b[0m \u001b[0;36m0\u001b[0m\u001b[0;34m:\u001b[0m\u001b[0;34m\u001b[0m\u001b[0;34m\u001b[0m\u001b[0m\n\u001b[1;32m     42\u001b[0m         raise ValueError('LAPACK reported an illegal value in {}-th argument'\n",
            "\u001b[0;31mLinAlgError\u001b[0m: 4-th leading minor of the array is not positive definite"
          ]
        },
        {
          "output_type": "stream",
          "text": [
            "Exception ignored in: 'pomegranate.distributions.MultivariateGaussianDistribution.MultivariateGaussianDistribution._log_probability_missing'\n",
            "Traceback (most recent call last):\n",
            "  File \"pomegranate/distributions/MultivariateGaussianDistribution.pyx\", line 72, in pomegranate.distributions.MultivariateGaussianDistribution.MultivariateGaussianDistribution.__cinit__\n",
            "  File \"/usr/local/lib/python3.6/dist-packages/scipy/linalg/decomp_cholesky.py\", line 91, in cholesky\n",
            "    check_finite=check_finite)\n",
            "  File \"/usr/local/lib/python3.6/dist-packages/scipy/linalg/decomp_cholesky.py\", line 40, in _cholesky\n",
            "    \"definite\" % info)\n",
            "numpy.linalg.LinAlgError: 4-th leading minor of the array is not positive definite\n"
          ],
          "name": "stderr"
        },
        {
          "output_type": "error",
          "ename": "LinAlgError",
          "evalue": "ignored",
          "traceback": [
            "\u001b[0;31m---------------------------------------------------------------------------\u001b[0m",
            "\u001b[0;31mLinAlgError\u001b[0m                               Traceback (most recent call last)",
            "\u001b[0;32mpomegranate/distributions/MultivariateGaussianDistribution.pyx\u001b[0m in \u001b[0;36mpomegranate.distributions.MultivariateGaussianDistribution.MultivariateGaussianDistribution.__cinit__\u001b[0;34m()\u001b[0m\n",
            "\u001b[0;32m/usr/local/lib/python3.6/dist-packages/scipy/linalg/decomp_cholesky.py\u001b[0m in \u001b[0;36mcholesky\u001b[0;34m(a, lower, overwrite_a, check_finite)\u001b[0m\n\u001b[1;32m     89\u001b[0m     \"\"\"\n\u001b[1;32m     90\u001b[0m     c, lower = _cholesky(a, lower=lower, overwrite_a=overwrite_a, clean=True,\n\u001b[0;32m---> 91\u001b[0;31m                          check_finite=check_finite)\n\u001b[0m\u001b[1;32m     92\u001b[0m     \u001b[0;32mreturn\u001b[0m \u001b[0mc\u001b[0m\u001b[0;34m\u001b[0m\u001b[0;34m\u001b[0m\u001b[0m\n\u001b[1;32m     93\u001b[0m \u001b[0;34m\u001b[0m\u001b[0m\n",
            "\u001b[0;32m/usr/local/lib/python3.6/dist-packages/scipy/linalg/decomp_cholesky.py\u001b[0m in \u001b[0;36m_cholesky\u001b[0;34m(a, lower, overwrite_a, clean, check_finite)\u001b[0m\n\u001b[1;32m     38\u001b[0m     \u001b[0;32mif\u001b[0m \u001b[0minfo\u001b[0m \u001b[0;34m>\u001b[0m \u001b[0;36m0\u001b[0m\u001b[0;34m:\u001b[0m\u001b[0;34m\u001b[0m\u001b[0;34m\u001b[0m\u001b[0m\n\u001b[1;32m     39\u001b[0m         raise LinAlgError(\"%d-th leading minor of the array is not positive \"\n\u001b[0;32m---> 40\u001b[0;31m                           \"definite\" % info)\n\u001b[0m\u001b[1;32m     41\u001b[0m     \u001b[0;32mif\u001b[0m \u001b[0minfo\u001b[0m \u001b[0;34m<\u001b[0m \u001b[0;36m0\u001b[0m\u001b[0;34m:\u001b[0m\u001b[0;34m\u001b[0m\u001b[0;34m\u001b[0m\u001b[0m\n\u001b[1;32m     42\u001b[0m         raise ValueError('LAPACK reported an illegal value in {}-th argument'\n",
            "\u001b[0;31mLinAlgError\u001b[0m: 4-th leading minor of the array is not positive definite"
          ]
        },
        {
          "output_type": "stream",
          "text": [
            "Exception ignored in: 'pomegranate.distributions.MultivariateGaussianDistribution.MultivariateGaussianDistribution._log_probability_missing'\n",
            "Traceback (most recent call last):\n",
            "  File \"pomegranate/distributions/MultivariateGaussianDistribution.pyx\", line 72, in pomegranate.distributions.MultivariateGaussianDistribution.MultivariateGaussianDistribution.__cinit__\n",
            "  File \"/usr/local/lib/python3.6/dist-packages/scipy/linalg/decomp_cholesky.py\", line 91, in cholesky\n",
            "    check_finite=check_finite)\n",
            "  File \"/usr/local/lib/python3.6/dist-packages/scipy/linalg/decomp_cholesky.py\", line 40, in _cholesky\n",
            "    \"definite\" % info)\n",
            "numpy.linalg.LinAlgError: 4-th leading minor of the array is not positive definite\n"
          ],
          "name": "stderr"
        },
        {
          "output_type": "error",
          "ename": "LinAlgError",
          "evalue": "ignored",
          "traceback": [
            "\u001b[0;31m---------------------------------------------------------------------------\u001b[0m",
            "\u001b[0;31mLinAlgError\u001b[0m                               Traceback (most recent call last)",
            "\u001b[0;32mpomegranate/distributions/MultivariateGaussianDistribution.pyx\u001b[0m in \u001b[0;36mpomegranate.distributions.MultivariateGaussianDistribution.MultivariateGaussianDistribution.__cinit__\u001b[0;34m()\u001b[0m\n",
            "\u001b[0;32m/usr/local/lib/python3.6/dist-packages/scipy/linalg/decomp_cholesky.py\u001b[0m in \u001b[0;36mcholesky\u001b[0;34m(a, lower, overwrite_a, check_finite)\u001b[0m\n\u001b[1;32m     89\u001b[0m     \"\"\"\n\u001b[1;32m     90\u001b[0m     c, lower = _cholesky(a, lower=lower, overwrite_a=overwrite_a, clean=True,\n\u001b[0;32m---> 91\u001b[0;31m                          check_finite=check_finite)\n\u001b[0m\u001b[1;32m     92\u001b[0m     \u001b[0;32mreturn\u001b[0m \u001b[0mc\u001b[0m\u001b[0;34m\u001b[0m\u001b[0;34m\u001b[0m\u001b[0m\n\u001b[1;32m     93\u001b[0m \u001b[0;34m\u001b[0m\u001b[0m\n",
            "\u001b[0;32m/usr/local/lib/python3.6/dist-packages/scipy/linalg/decomp_cholesky.py\u001b[0m in \u001b[0;36m_cholesky\u001b[0;34m(a, lower, overwrite_a, clean, check_finite)\u001b[0m\n\u001b[1;32m     38\u001b[0m     \u001b[0;32mif\u001b[0m \u001b[0minfo\u001b[0m \u001b[0;34m>\u001b[0m \u001b[0;36m0\u001b[0m\u001b[0;34m:\u001b[0m\u001b[0;34m\u001b[0m\u001b[0;34m\u001b[0m\u001b[0m\n\u001b[1;32m     39\u001b[0m         raise LinAlgError(\"%d-th leading minor of the array is not positive \"\n\u001b[0;32m---> 40\u001b[0;31m                           \"definite\" % info)\n\u001b[0m\u001b[1;32m     41\u001b[0m     \u001b[0;32mif\u001b[0m \u001b[0minfo\u001b[0m \u001b[0;34m<\u001b[0m \u001b[0;36m0\u001b[0m\u001b[0;34m:\u001b[0m\u001b[0;34m\u001b[0m\u001b[0;34m\u001b[0m\u001b[0m\n\u001b[1;32m     42\u001b[0m         raise ValueError('LAPACK reported an illegal value in {}-th argument'\n",
            "\u001b[0;31mLinAlgError\u001b[0m: 4-th leading minor of the array is not positive definite"
          ]
        },
        {
          "output_type": "stream",
          "text": [
            "Exception ignored in: 'pomegranate.distributions.MultivariateGaussianDistribution.MultivariateGaussianDistribution._log_probability_missing'\n",
            "Traceback (most recent call last):\n",
            "  File \"pomegranate/distributions/MultivariateGaussianDistribution.pyx\", line 72, in pomegranate.distributions.MultivariateGaussianDistribution.MultivariateGaussianDistribution.__cinit__\n",
            "  File \"/usr/local/lib/python3.6/dist-packages/scipy/linalg/decomp_cholesky.py\", line 91, in cholesky\n",
            "    check_finite=check_finite)\n",
            "  File \"/usr/local/lib/python3.6/dist-packages/scipy/linalg/decomp_cholesky.py\", line 40, in _cholesky\n",
            "    \"definite\" % info)\n",
            "numpy.linalg.LinAlgError: 4-th leading minor of the array is not positive definite\n"
          ],
          "name": "stderr"
        },
        {
          "output_type": "error",
          "ename": "LinAlgError",
          "evalue": "ignored",
          "traceback": [
            "\u001b[0;31m---------------------------------------------------------------------------\u001b[0m",
            "\u001b[0;31mLinAlgError\u001b[0m                               Traceback (most recent call last)",
            "\u001b[0;32mpomegranate/distributions/MultivariateGaussianDistribution.pyx\u001b[0m in \u001b[0;36mpomegranate.distributions.MultivariateGaussianDistribution.MultivariateGaussianDistribution.__cinit__\u001b[0;34m()\u001b[0m\n",
            "\u001b[0;32m/usr/local/lib/python3.6/dist-packages/scipy/linalg/decomp_cholesky.py\u001b[0m in \u001b[0;36mcholesky\u001b[0;34m(a, lower, overwrite_a, check_finite)\u001b[0m\n\u001b[1;32m     89\u001b[0m     \"\"\"\n\u001b[1;32m     90\u001b[0m     c, lower = _cholesky(a, lower=lower, overwrite_a=overwrite_a, clean=True,\n\u001b[0;32m---> 91\u001b[0;31m                          check_finite=check_finite)\n\u001b[0m\u001b[1;32m     92\u001b[0m     \u001b[0;32mreturn\u001b[0m \u001b[0mc\u001b[0m\u001b[0;34m\u001b[0m\u001b[0;34m\u001b[0m\u001b[0m\n\u001b[1;32m     93\u001b[0m \u001b[0;34m\u001b[0m\u001b[0m\n",
            "\u001b[0;32m/usr/local/lib/python3.6/dist-packages/scipy/linalg/decomp_cholesky.py\u001b[0m in \u001b[0;36m_cholesky\u001b[0;34m(a, lower, overwrite_a, clean, check_finite)\u001b[0m\n\u001b[1;32m     38\u001b[0m     \u001b[0;32mif\u001b[0m \u001b[0minfo\u001b[0m \u001b[0;34m>\u001b[0m \u001b[0;36m0\u001b[0m\u001b[0;34m:\u001b[0m\u001b[0;34m\u001b[0m\u001b[0;34m\u001b[0m\u001b[0m\n\u001b[1;32m     39\u001b[0m         raise LinAlgError(\"%d-th leading minor of the array is not positive \"\n\u001b[0;32m---> 40\u001b[0;31m                           \"definite\" % info)\n\u001b[0m\u001b[1;32m     41\u001b[0m     \u001b[0;32mif\u001b[0m \u001b[0minfo\u001b[0m \u001b[0;34m<\u001b[0m \u001b[0;36m0\u001b[0m\u001b[0;34m:\u001b[0m\u001b[0;34m\u001b[0m\u001b[0;34m\u001b[0m\u001b[0m\n\u001b[1;32m     42\u001b[0m         raise ValueError('LAPACK reported an illegal value in {}-th argument'\n",
            "\u001b[0;31mLinAlgError\u001b[0m: 4-th leading minor of the array is not positive definite"
          ]
        },
        {
          "output_type": "stream",
          "text": [
            "Exception ignored in: 'pomegranate.distributions.MultivariateGaussianDistribution.MultivariateGaussianDistribution._log_probability_missing'\n",
            "Traceback (most recent call last):\n",
            "  File \"pomegranate/distributions/MultivariateGaussianDistribution.pyx\", line 72, in pomegranate.distributions.MultivariateGaussianDistribution.MultivariateGaussianDistribution.__cinit__\n",
            "  File \"/usr/local/lib/python3.6/dist-packages/scipy/linalg/decomp_cholesky.py\", line 91, in cholesky\n",
            "    check_finite=check_finite)\n",
            "  File \"/usr/local/lib/python3.6/dist-packages/scipy/linalg/decomp_cholesky.py\", line 40, in _cholesky\n",
            "    \"definite\" % info)\n",
            "numpy.linalg.LinAlgError: 4-th leading minor of the array is not positive definite\n"
          ],
          "name": "stderr"
        },
        {
          "output_type": "error",
          "ename": "LinAlgError",
          "evalue": "ignored",
          "traceback": [
            "\u001b[0;31m---------------------------------------------------------------------------\u001b[0m",
            "\u001b[0;31mLinAlgError\u001b[0m                               Traceback (most recent call last)",
            "\u001b[0;32mpomegranate/distributions/MultivariateGaussianDistribution.pyx\u001b[0m in \u001b[0;36mpomegranate.distributions.MultivariateGaussianDistribution.MultivariateGaussianDistribution.__cinit__\u001b[0;34m()\u001b[0m\n",
            "\u001b[0;32m/usr/local/lib/python3.6/dist-packages/scipy/linalg/decomp_cholesky.py\u001b[0m in \u001b[0;36mcholesky\u001b[0;34m(a, lower, overwrite_a, check_finite)\u001b[0m\n\u001b[1;32m     89\u001b[0m     \"\"\"\n\u001b[1;32m     90\u001b[0m     c, lower = _cholesky(a, lower=lower, overwrite_a=overwrite_a, clean=True,\n\u001b[0;32m---> 91\u001b[0;31m                          check_finite=check_finite)\n\u001b[0m\u001b[1;32m     92\u001b[0m     \u001b[0;32mreturn\u001b[0m \u001b[0mc\u001b[0m\u001b[0;34m\u001b[0m\u001b[0;34m\u001b[0m\u001b[0m\n\u001b[1;32m     93\u001b[0m \u001b[0;34m\u001b[0m\u001b[0m\n",
            "\u001b[0;32m/usr/local/lib/python3.6/dist-packages/scipy/linalg/decomp_cholesky.py\u001b[0m in \u001b[0;36m_cholesky\u001b[0;34m(a, lower, overwrite_a, clean, check_finite)\u001b[0m\n\u001b[1;32m     38\u001b[0m     \u001b[0;32mif\u001b[0m \u001b[0minfo\u001b[0m \u001b[0;34m>\u001b[0m \u001b[0;36m0\u001b[0m\u001b[0;34m:\u001b[0m\u001b[0;34m\u001b[0m\u001b[0;34m\u001b[0m\u001b[0m\n\u001b[1;32m     39\u001b[0m         raise LinAlgError(\"%d-th leading minor of the array is not positive \"\n\u001b[0;32m---> 40\u001b[0;31m                           \"definite\" % info)\n\u001b[0m\u001b[1;32m     41\u001b[0m     \u001b[0;32mif\u001b[0m \u001b[0minfo\u001b[0m \u001b[0;34m<\u001b[0m \u001b[0;36m0\u001b[0m\u001b[0;34m:\u001b[0m\u001b[0;34m\u001b[0m\u001b[0;34m\u001b[0m\u001b[0m\n\u001b[1;32m     42\u001b[0m         raise ValueError('LAPACK reported an illegal value in {}-th argument'\n",
            "\u001b[0;31mLinAlgError\u001b[0m: 4-th leading minor of the array is not positive definite"
          ]
        },
        {
          "output_type": "stream",
          "text": [
            "Exception ignored in: 'pomegranate.distributions.MultivariateGaussianDistribution.MultivariateGaussianDistribution._log_probability_missing'\n",
            "Traceback (most recent call last):\n",
            "  File \"pomegranate/distributions/MultivariateGaussianDistribution.pyx\", line 72, in pomegranate.distributions.MultivariateGaussianDistribution.MultivariateGaussianDistribution.__cinit__\n",
            "  File \"/usr/local/lib/python3.6/dist-packages/scipy/linalg/decomp_cholesky.py\", line 91, in cholesky\n",
            "    check_finite=check_finite)\n",
            "  File \"/usr/local/lib/python3.6/dist-packages/scipy/linalg/decomp_cholesky.py\", line 40, in _cholesky\n",
            "    \"definite\" % info)\n",
            "numpy.linalg.LinAlgError: 4-th leading minor of the array is not positive definite\n"
          ],
          "name": "stderr"
        },
        {
          "output_type": "error",
          "ename": "LinAlgError",
          "evalue": "ignored",
          "traceback": [
            "\u001b[0;31m---------------------------------------------------------------------------\u001b[0m",
            "\u001b[0;31mLinAlgError\u001b[0m                               Traceback (most recent call last)",
            "\u001b[0;32mpomegranate/distributions/MultivariateGaussianDistribution.pyx\u001b[0m in \u001b[0;36mpomegranate.distributions.MultivariateGaussianDistribution.MultivariateGaussianDistribution.__cinit__\u001b[0;34m()\u001b[0m\n",
            "\u001b[0;32m/usr/local/lib/python3.6/dist-packages/scipy/linalg/decomp_cholesky.py\u001b[0m in \u001b[0;36mcholesky\u001b[0;34m(a, lower, overwrite_a, check_finite)\u001b[0m\n\u001b[1;32m     89\u001b[0m     \"\"\"\n\u001b[1;32m     90\u001b[0m     c, lower = _cholesky(a, lower=lower, overwrite_a=overwrite_a, clean=True,\n\u001b[0;32m---> 91\u001b[0;31m                          check_finite=check_finite)\n\u001b[0m\u001b[1;32m     92\u001b[0m     \u001b[0;32mreturn\u001b[0m \u001b[0mc\u001b[0m\u001b[0;34m\u001b[0m\u001b[0;34m\u001b[0m\u001b[0m\n\u001b[1;32m     93\u001b[0m \u001b[0;34m\u001b[0m\u001b[0m\n",
            "\u001b[0;32m/usr/local/lib/python3.6/dist-packages/scipy/linalg/decomp_cholesky.py\u001b[0m in \u001b[0;36m_cholesky\u001b[0;34m(a, lower, overwrite_a, clean, check_finite)\u001b[0m\n\u001b[1;32m     38\u001b[0m     \u001b[0;32mif\u001b[0m \u001b[0minfo\u001b[0m \u001b[0;34m>\u001b[0m \u001b[0;36m0\u001b[0m\u001b[0;34m:\u001b[0m\u001b[0;34m\u001b[0m\u001b[0;34m\u001b[0m\u001b[0m\n\u001b[1;32m     39\u001b[0m         raise LinAlgError(\"%d-th leading minor of the array is not positive \"\n\u001b[0;32m---> 40\u001b[0;31m                           \"definite\" % info)\n\u001b[0m\u001b[1;32m     41\u001b[0m     \u001b[0;32mif\u001b[0m \u001b[0minfo\u001b[0m \u001b[0;34m<\u001b[0m \u001b[0;36m0\u001b[0m\u001b[0;34m:\u001b[0m\u001b[0;34m\u001b[0m\u001b[0;34m\u001b[0m\u001b[0m\n\u001b[1;32m     42\u001b[0m         raise ValueError('LAPACK reported an illegal value in {}-th argument'\n",
            "\u001b[0;31mLinAlgError\u001b[0m: 4-th leading minor of the array is not positive definite"
          ]
        },
        {
          "output_type": "stream",
          "text": [
            "Exception ignored in: 'pomegranate.distributions.MultivariateGaussianDistribution.MultivariateGaussianDistribution._log_probability_missing'\n",
            "Traceback (most recent call last):\n",
            "  File \"pomegranate/distributions/MultivariateGaussianDistribution.pyx\", line 72, in pomegranate.distributions.MultivariateGaussianDistribution.MultivariateGaussianDistribution.__cinit__\n",
            "  File \"/usr/local/lib/python3.6/dist-packages/scipy/linalg/decomp_cholesky.py\", line 91, in cholesky\n",
            "    check_finite=check_finite)\n",
            "  File \"/usr/local/lib/python3.6/dist-packages/scipy/linalg/decomp_cholesky.py\", line 40, in _cholesky\n",
            "    \"definite\" % info)\n",
            "numpy.linalg.LinAlgError: 4-th leading minor of the array is not positive definite\n"
          ],
          "name": "stderr"
        },
        {
          "output_type": "error",
          "ename": "LinAlgError",
          "evalue": "ignored",
          "traceback": [
            "\u001b[0;31m---------------------------------------------------------------------------\u001b[0m",
            "\u001b[0;31mLinAlgError\u001b[0m                               Traceback (most recent call last)",
            "\u001b[0;32mpomegranate/distributions/MultivariateGaussianDistribution.pyx\u001b[0m in \u001b[0;36mpomegranate.distributions.MultivariateGaussianDistribution.MultivariateGaussianDistribution.__cinit__\u001b[0;34m()\u001b[0m\n",
            "\u001b[0;32m/usr/local/lib/python3.6/dist-packages/scipy/linalg/decomp_cholesky.py\u001b[0m in \u001b[0;36mcholesky\u001b[0;34m(a, lower, overwrite_a, check_finite)\u001b[0m\n\u001b[1;32m     89\u001b[0m     \"\"\"\n\u001b[1;32m     90\u001b[0m     c, lower = _cholesky(a, lower=lower, overwrite_a=overwrite_a, clean=True,\n\u001b[0;32m---> 91\u001b[0;31m                          check_finite=check_finite)\n\u001b[0m\u001b[1;32m     92\u001b[0m     \u001b[0;32mreturn\u001b[0m \u001b[0mc\u001b[0m\u001b[0;34m\u001b[0m\u001b[0;34m\u001b[0m\u001b[0m\n\u001b[1;32m     93\u001b[0m \u001b[0;34m\u001b[0m\u001b[0m\n",
            "\u001b[0;32m/usr/local/lib/python3.6/dist-packages/scipy/linalg/decomp_cholesky.py\u001b[0m in \u001b[0;36m_cholesky\u001b[0;34m(a, lower, overwrite_a, clean, check_finite)\u001b[0m\n\u001b[1;32m     38\u001b[0m     \u001b[0;32mif\u001b[0m \u001b[0minfo\u001b[0m \u001b[0;34m>\u001b[0m \u001b[0;36m0\u001b[0m\u001b[0;34m:\u001b[0m\u001b[0;34m\u001b[0m\u001b[0;34m\u001b[0m\u001b[0m\n\u001b[1;32m     39\u001b[0m         raise LinAlgError(\"%d-th leading minor of the array is not positive \"\n\u001b[0;32m---> 40\u001b[0;31m                           \"definite\" % info)\n\u001b[0m\u001b[1;32m     41\u001b[0m     \u001b[0;32mif\u001b[0m \u001b[0minfo\u001b[0m \u001b[0;34m<\u001b[0m \u001b[0;36m0\u001b[0m\u001b[0;34m:\u001b[0m\u001b[0;34m\u001b[0m\u001b[0;34m\u001b[0m\u001b[0m\n\u001b[1;32m     42\u001b[0m         raise ValueError('LAPACK reported an illegal value in {}-th argument'\n",
            "\u001b[0;31mLinAlgError\u001b[0m: 4-th leading minor of the array is not positive definite"
          ]
        },
        {
          "output_type": "stream",
          "text": [
            "Exception ignored in: 'pomegranate.distributions.MultivariateGaussianDistribution.MultivariateGaussianDistribution._log_probability_missing'\n",
            "Traceback (most recent call last):\n",
            "  File \"pomegranate/distributions/MultivariateGaussianDistribution.pyx\", line 72, in pomegranate.distributions.MultivariateGaussianDistribution.MultivariateGaussianDistribution.__cinit__\n",
            "  File \"/usr/local/lib/python3.6/dist-packages/scipy/linalg/decomp_cholesky.py\", line 91, in cholesky\n",
            "    check_finite=check_finite)\n",
            "  File \"/usr/local/lib/python3.6/dist-packages/scipy/linalg/decomp_cholesky.py\", line 40, in _cholesky\n",
            "    \"definite\" % info)\n",
            "numpy.linalg.LinAlgError: 4-th leading minor of the array is not positive definite\n"
          ],
          "name": "stderr"
        },
        {
          "output_type": "error",
          "ename": "LinAlgError",
          "evalue": "ignored",
          "traceback": [
            "\u001b[0;31m---------------------------------------------------------------------------\u001b[0m",
            "\u001b[0;31mLinAlgError\u001b[0m                               Traceback (most recent call last)",
            "\u001b[0;32mpomegranate/distributions/MultivariateGaussianDistribution.pyx\u001b[0m in \u001b[0;36mpomegranate.distributions.MultivariateGaussianDistribution.MultivariateGaussianDistribution.__cinit__\u001b[0;34m()\u001b[0m\n",
            "\u001b[0;32m/usr/local/lib/python3.6/dist-packages/scipy/linalg/decomp_cholesky.py\u001b[0m in \u001b[0;36mcholesky\u001b[0;34m(a, lower, overwrite_a, check_finite)\u001b[0m\n\u001b[1;32m     89\u001b[0m     \"\"\"\n\u001b[1;32m     90\u001b[0m     c, lower = _cholesky(a, lower=lower, overwrite_a=overwrite_a, clean=True,\n\u001b[0;32m---> 91\u001b[0;31m                          check_finite=check_finite)\n\u001b[0m\u001b[1;32m     92\u001b[0m     \u001b[0;32mreturn\u001b[0m \u001b[0mc\u001b[0m\u001b[0;34m\u001b[0m\u001b[0;34m\u001b[0m\u001b[0m\n\u001b[1;32m     93\u001b[0m \u001b[0;34m\u001b[0m\u001b[0m\n",
            "\u001b[0;32m/usr/local/lib/python3.6/dist-packages/scipy/linalg/decomp_cholesky.py\u001b[0m in \u001b[0;36m_cholesky\u001b[0;34m(a, lower, overwrite_a, clean, check_finite)\u001b[0m\n\u001b[1;32m     38\u001b[0m     \u001b[0;32mif\u001b[0m \u001b[0minfo\u001b[0m \u001b[0;34m>\u001b[0m \u001b[0;36m0\u001b[0m\u001b[0;34m:\u001b[0m\u001b[0;34m\u001b[0m\u001b[0;34m\u001b[0m\u001b[0m\n\u001b[1;32m     39\u001b[0m         raise LinAlgError(\"%d-th leading minor of the array is not positive \"\n\u001b[0;32m---> 40\u001b[0;31m                           \"definite\" % info)\n\u001b[0m\u001b[1;32m     41\u001b[0m     \u001b[0;32mif\u001b[0m \u001b[0minfo\u001b[0m \u001b[0;34m<\u001b[0m \u001b[0;36m0\u001b[0m\u001b[0;34m:\u001b[0m\u001b[0;34m\u001b[0m\u001b[0;34m\u001b[0m\u001b[0m\n\u001b[1;32m     42\u001b[0m         raise ValueError('LAPACK reported an illegal value in {}-th argument'\n",
            "\u001b[0;31mLinAlgError\u001b[0m: 4-th leading minor of the array is not positive definite"
          ]
        },
        {
          "output_type": "stream",
          "text": [
            "Exception ignored in: 'pomegranate.distributions.MultivariateGaussianDistribution.MultivariateGaussianDistribution._log_probability_missing'\n",
            "Traceback (most recent call last):\n",
            "  File \"pomegranate/distributions/MultivariateGaussianDistribution.pyx\", line 72, in pomegranate.distributions.MultivariateGaussianDistribution.MultivariateGaussianDistribution.__cinit__\n",
            "  File \"/usr/local/lib/python3.6/dist-packages/scipy/linalg/decomp_cholesky.py\", line 91, in cholesky\n",
            "    check_finite=check_finite)\n",
            "  File \"/usr/local/lib/python3.6/dist-packages/scipy/linalg/decomp_cholesky.py\", line 40, in _cholesky\n",
            "    \"definite\" % info)\n",
            "numpy.linalg.LinAlgError: 4-th leading minor of the array is not positive definite\n"
          ],
          "name": "stderr"
        },
        {
          "output_type": "error",
          "ename": "LinAlgError",
          "evalue": "ignored",
          "traceback": [
            "\u001b[0;31m---------------------------------------------------------------------------\u001b[0m",
            "\u001b[0;31mLinAlgError\u001b[0m                               Traceback (most recent call last)",
            "\u001b[0;32mpomegranate/distributions/MultivariateGaussianDistribution.pyx\u001b[0m in \u001b[0;36mpomegranate.distributions.MultivariateGaussianDistribution.MultivariateGaussianDistribution.__cinit__\u001b[0;34m()\u001b[0m\n",
            "\u001b[0;32m/usr/local/lib/python3.6/dist-packages/scipy/linalg/decomp_cholesky.py\u001b[0m in \u001b[0;36mcholesky\u001b[0;34m(a, lower, overwrite_a, check_finite)\u001b[0m\n\u001b[1;32m     89\u001b[0m     \"\"\"\n\u001b[1;32m     90\u001b[0m     c, lower = _cholesky(a, lower=lower, overwrite_a=overwrite_a, clean=True,\n\u001b[0;32m---> 91\u001b[0;31m                          check_finite=check_finite)\n\u001b[0m\u001b[1;32m     92\u001b[0m     \u001b[0;32mreturn\u001b[0m \u001b[0mc\u001b[0m\u001b[0;34m\u001b[0m\u001b[0;34m\u001b[0m\u001b[0m\n\u001b[1;32m     93\u001b[0m \u001b[0;34m\u001b[0m\u001b[0m\n",
            "\u001b[0;32m/usr/local/lib/python3.6/dist-packages/scipy/linalg/decomp_cholesky.py\u001b[0m in \u001b[0;36m_cholesky\u001b[0;34m(a, lower, overwrite_a, clean, check_finite)\u001b[0m\n\u001b[1;32m     38\u001b[0m     \u001b[0;32mif\u001b[0m \u001b[0minfo\u001b[0m \u001b[0;34m>\u001b[0m \u001b[0;36m0\u001b[0m\u001b[0;34m:\u001b[0m\u001b[0;34m\u001b[0m\u001b[0;34m\u001b[0m\u001b[0m\n\u001b[1;32m     39\u001b[0m         raise LinAlgError(\"%d-th leading minor of the array is not positive \"\n\u001b[0;32m---> 40\u001b[0;31m                           \"definite\" % info)\n\u001b[0m\u001b[1;32m     41\u001b[0m     \u001b[0;32mif\u001b[0m \u001b[0minfo\u001b[0m \u001b[0;34m<\u001b[0m \u001b[0;36m0\u001b[0m\u001b[0;34m:\u001b[0m\u001b[0;34m\u001b[0m\u001b[0;34m\u001b[0m\u001b[0m\n\u001b[1;32m     42\u001b[0m         raise ValueError('LAPACK reported an illegal value in {}-th argument'\n",
            "\u001b[0;31mLinAlgError\u001b[0m: 4-th leading minor of the array is not positive definite"
          ]
        },
        {
          "output_type": "stream",
          "text": [
            "Exception ignored in: 'pomegranate.distributions.MultivariateGaussianDistribution.MultivariateGaussianDistribution._log_probability_missing'\n",
            "Traceback (most recent call last):\n",
            "  File \"pomegranate/distributions/MultivariateGaussianDistribution.pyx\", line 72, in pomegranate.distributions.MultivariateGaussianDistribution.MultivariateGaussianDistribution.__cinit__\n",
            "  File \"/usr/local/lib/python3.6/dist-packages/scipy/linalg/decomp_cholesky.py\", line 91, in cholesky\n",
            "    check_finite=check_finite)\n",
            "  File \"/usr/local/lib/python3.6/dist-packages/scipy/linalg/decomp_cholesky.py\", line 40, in _cholesky\n",
            "    \"definite\" % info)\n",
            "numpy.linalg.LinAlgError: 4-th leading minor of the array is not positive definite\n"
          ],
          "name": "stderr"
        },
        {
          "output_type": "error",
          "ename": "LinAlgError",
          "evalue": "ignored",
          "traceback": [
            "\u001b[0;31m---------------------------------------------------------------------------\u001b[0m",
            "\u001b[0;31mLinAlgError\u001b[0m                               Traceback (most recent call last)",
            "\u001b[0;32mpomegranate/distributions/MultivariateGaussianDistribution.pyx\u001b[0m in \u001b[0;36mpomegranate.distributions.MultivariateGaussianDistribution.MultivariateGaussianDistribution.__cinit__\u001b[0;34m()\u001b[0m\n",
            "\u001b[0;32m/usr/local/lib/python3.6/dist-packages/scipy/linalg/decomp_cholesky.py\u001b[0m in \u001b[0;36mcholesky\u001b[0;34m(a, lower, overwrite_a, check_finite)\u001b[0m\n\u001b[1;32m     89\u001b[0m     \"\"\"\n\u001b[1;32m     90\u001b[0m     c, lower = _cholesky(a, lower=lower, overwrite_a=overwrite_a, clean=True,\n\u001b[0;32m---> 91\u001b[0;31m                          check_finite=check_finite)\n\u001b[0m\u001b[1;32m     92\u001b[0m     \u001b[0;32mreturn\u001b[0m \u001b[0mc\u001b[0m\u001b[0;34m\u001b[0m\u001b[0;34m\u001b[0m\u001b[0m\n\u001b[1;32m     93\u001b[0m \u001b[0;34m\u001b[0m\u001b[0m\n",
            "\u001b[0;32m/usr/local/lib/python3.6/dist-packages/scipy/linalg/decomp_cholesky.py\u001b[0m in \u001b[0;36m_cholesky\u001b[0;34m(a, lower, overwrite_a, clean, check_finite)\u001b[0m\n\u001b[1;32m     38\u001b[0m     \u001b[0;32mif\u001b[0m \u001b[0minfo\u001b[0m \u001b[0;34m>\u001b[0m \u001b[0;36m0\u001b[0m\u001b[0;34m:\u001b[0m\u001b[0;34m\u001b[0m\u001b[0;34m\u001b[0m\u001b[0m\n\u001b[1;32m     39\u001b[0m         raise LinAlgError(\"%d-th leading minor of the array is not positive \"\n\u001b[0;32m---> 40\u001b[0;31m                           \"definite\" % info)\n\u001b[0m\u001b[1;32m     41\u001b[0m     \u001b[0;32mif\u001b[0m \u001b[0minfo\u001b[0m \u001b[0;34m<\u001b[0m \u001b[0;36m0\u001b[0m\u001b[0;34m:\u001b[0m\u001b[0;34m\u001b[0m\u001b[0;34m\u001b[0m\u001b[0m\n\u001b[1;32m     42\u001b[0m         raise ValueError('LAPACK reported an illegal value in {}-th argument'\n",
            "\u001b[0;31mLinAlgError\u001b[0m: 4-th leading minor of the array is not positive definite"
          ]
        },
        {
          "output_type": "stream",
          "text": [
            "Exception ignored in: 'pomegranate.distributions.MultivariateGaussianDistribution.MultivariateGaussianDistribution._log_probability_missing'\n",
            "Traceback (most recent call last):\n",
            "  File \"pomegranate/distributions/MultivariateGaussianDistribution.pyx\", line 72, in pomegranate.distributions.MultivariateGaussianDistribution.MultivariateGaussianDistribution.__cinit__\n",
            "  File \"/usr/local/lib/python3.6/dist-packages/scipy/linalg/decomp_cholesky.py\", line 91, in cholesky\n",
            "    check_finite=check_finite)\n",
            "  File \"/usr/local/lib/python3.6/dist-packages/scipy/linalg/decomp_cholesky.py\", line 40, in _cholesky\n",
            "    \"definite\" % info)\n",
            "numpy.linalg.LinAlgError: 4-th leading minor of the array is not positive definite\n"
          ],
          "name": "stderr"
        },
        {
          "output_type": "error",
          "ename": "LinAlgError",
          "evalue": "ignored",
          "traceback": [
            "\u001b[0;31m---------------------------------------------------------------------------\u001b[0m",
            "\u001b[0;31mLinAlgError\u001b[0m                               Traceback (most recent call last)",
            "\u001b[0;32mpomegranate/distributions/MultivariateGaussianDistribution.pyx\u001b[0m in \u001b[0;36mpomegranate.distributions.MultivariateGaussianDistribution.MultivariateGaussianDistribution.__cinit__\u001b[0;34m()\u001b[0m\n",
            "\u001b[0;32m/usr/local/lib/python3.6/dist-packages/scipy/linalg/decomp_cholesky.py\u001b[0m in \u001b[0;36mcholesky\u001b[0;34m(a, lower, overwrite_a, check_finite)\u001b[0m\n\u001b[1;32m     89\u001b[0m     \"\"\"\n\u001b[1;32m     90\u001b[0m     c, lower = _cholesky(a, lower=lower, overwrite_a=overwrite_a, clean=True,\n\u001b[0;32m---> 91\u001b[0;31m                          check_finite=check_finite)\n\u001b[0m\u001b[1;32m     92\u001b[0m     \u001b[0;32mreturn\u001b[0m \u001b[0mc\u001b[0m\u001b[0;34m\u001b[0m\u001b[0;34m\u001b[0m\u001b[0m\n\u001b[1;32m     93\u001b[0m \u001b[0;34m\u001b[0m\u001b[0m\n",
            "\u001b[0;32m/usr/local/lib/python3.6/dist-packages/scipy/linalg/decomp_cholesky.py\u001b[0m in \u001b[0;36m_cholesky\u001b[0;34m(a, lower, overwrite_a, clean, check_finite)\u001b[0m\n\u001b[1;32m     38\u001b[0m     \u001b[0;32mif\u001b[0m \u001b[0minfo\u001b[0m \u001b[0;34m>\u001b[0m \u001b[0;36m0\u001b[0m\u001b[0;34m:\u001b[0m\u001b[0;34m\u001b[0m\u001b[0;34m\u001b[0m\u001b[0m\n\u001b[1;32m     39\u001b[0m         raise LinAlgError(\"%d-th leading minor of the array is not positive \"\n\u001b[0;32m---> 40\u001b[0;31m                           \"definite\" % info)\n\u001b[0m\u001b[1;32m     41\u001b[0m     \u001b[0;32mif\u001b[0m \u001b[0minfo\u001b[0m \u001b[0;34m<\u001b[0m \u001b[0;36m0\u001b[0m\u001b[0;34m:\u001b[0m\u001b[0;34m\u001b[0m\u001b[0;34m\u001b[0m\u001b[0m\n\u001b[1;32m     42\u001b[0m         raise ValueError('LAPACK reported an illegal value in {}-th argument'\n",
            "\u001b[0;31mLinAlgError\u001b[0m: 4-th leading minor of the array is not positive definite"
          ]
        },
        {
          "output_type": "stream",
          "text": [
            "Exception ignored in: 'pomegranate.distributions.MultivariateGaussianDistribution.MultivariateGaussianDistribution._log_probability_missing'\n",
            "Traceback (most recent call last):\n",
            "  File \"pomegranate/distributions/MultivariateGaussianDistribution.pyx\", line 72, in pomegranate.distributions.MultivariateGaussianDistribution.MultivariateGaussianDistribution.__cinit__\n",
            "  File \"/usr/local/lib/python3.6/dist-packages/scipy/linalg/decomp_cholesky.py\", line 91, in cholesky\n",
            "    check_finite=check_finite)\n",
            "  File \"/usr/local/lib/python3.6/dist-packages/scipy/linalg/decomp_cholesky.py\", line 40, in _cholesky\n",
            "    \"definite\" % info)\n",
            "numpy.linalg.LinAlgError: 4-th leading minor of the array is not positive definite\n"
          ],
          "name": "stderr"
        },
        {
          "output_type": "error",
          "ename": "LinAlgError",
          "evalue": "ignored",
          "traceback": [
            "\u001b[0;31m---------------------------------------------------------------------------\u001b[0m",
            "\u001b[0;31mLinAlgError\u001b[0m                               Traceback (most recent call last)",
            "\u001b[0;32mpomegranate/distributions/MultivariateGaussianDistribution.pyx\u001b[0m in \u001b[0;36mpomegranate.distributions.MultivariateGaussianDistribution.MultivariateGaussianDistribution.__cinit__\u001b[0;34m()\u001b[0m\n",
            "\u001b[0;32m/usr/local/lib/python3.6/dist-packages/scipy/linalg/decomp_cholesky.py\u001b[0m in \u001b[0;36mcholesky\u001b[0;34m(a, lower, overwrite_a, check_finite)\u001b[0m\n\u001b[1;32m     89\u001b[0m     \"\"\"\n\u001b[1;32m     90\u001b[0m     c, lower = _cholesky(a, lower=lower, overwrite_a=overwrite_a, clean=True,\n\u001b[0;32m---> 91\u001b[0;31m                          check_finite=check_finite)\n\u001b[0m\u001b[1;32m     92\u001b[0m     \u001b[0;32mreturn\u001b[0m \u001b[0mc\u001b[0m\u001b[0;34m\u001b[0m\u001b[0;34m\u001b[0m\u001b[0m\n\u001b[1;32m     93\u001b[0m \u001b[0;34m\u001b[0m\u001b[0m\n",
            "\u001b[0;32m/usr/local/lib/python3.6/dist-packages/scipy/linalg/decomp_cholesky.py\u001b[0m in \u001b[0;36m_cholesky\u001b[0;34m(a, lower, overwrite_a, clean, check_finite)\u001b[0m\n\u001b[1;32m     38\u001b[0m     \u001b[0;32mif\u001b[0m \u001b[0minfo\u001b[0m \u001b[0;34m>\u001b[0m \u001b[0;36m0\u001b[0m\u001b[0;34m:\u001b[0m\u001b[0;34m\u001b[0m\u001b[0;34m\u001b[0m\u001b[0m\n\u001b[1;32m     39\u001b[0m         raise LinAlgError(\"%d-th leading minor of the array is not positive \"\n\u001b[0;32m---> 40\u001b[0;31m                           \"definite\" % info)\n\u001b[0m\u001b[1;32m     41\u001b[0m     \u001b[0;32mif\u001b[0m \u001b[0minfo\u001b[0m \u001b[0;34m<\u001b[0m \u001b[0;36m0\u001b[0m\u001b[0;34m:\u001b[0m\u001b[0;34m\u001b[0m\u001b[0;34m\u001b[0m\u001b[0m\n\u001b[1;32m     42\u001b[0m         raise ValueError('LAPACK reported an illegal value in {}-th argument'\n",
            "\u001b[0;31mLinAlgError\u001b[0m: 4-th leading minor of the array is not positive definite"
          ]
        },
        {
          "output_type": "stream",
          "text": [
            "Exception ignored in: 'pomegranate.distributions.MultivariateGaussianDistribution.MultivariateGaussianDistribution._log_probability_missing'\n",
            "Traceback (most recent call last):\n",
            "  File \"pomegranate/distributions/MultivariateGaussianDistribution.pyx\", line 72, in pomegranate.distributions.MultivariateGaussianDistribution.MultivariateGaussianDistribution.__cinit__\n",
            "  File \"/usr/local/lib/python3.6/dist-packages/scipy/linalg/decomp_cholesky.py\", line 91, in cholesky\n",
            "    check_finite=check_finite)\n",
            "  File \"/usr/local/lib/python3.6/dist-packages/scipy/linalg/decomp_cholesky.py\", line 40, in _cholesky\n",
            "    \"definite\" % info)\n",
            "numpy.linalg.LinAlgError: 4-th leading minor of the array is not positive definite\n"
          ],
          "name": "stderr"
        },
        {
          "output_type": "error",
          "ename": "LinAlgError",
          "evalue": "ignored",
          "traceback": [
            "\u001b[0;31m---------------------------------------------------------------------------\u001b[0m",
            "\u001b[0;31mLinAlgError\u001b[0m                               Traceback (most recent call last)",
            "\u001b[0;32mpomegranate/distributions/MultivariateGaussianDistribution.pyx\u001b[0m in \u001b[0;36mpomegranate.distributions.MultivariateGaussianDistribution.MultivariateGaussianDistribution.__cinit__\u001b[0;34m()\u001b[0m\n",
            "\u001b[0;32m/usr/local/lib/python3.6/dist-packages/scipy/linalg/decomp_cholesky.py\u001b[0m in \u001b[0;36mcholesky\u001b[0;34m(a, lower, overwrite_a, check_finite)\u001b[0m\n\u001b[1;32m     89\u001b[0m     \"\"\"\n\u001b[1;32m     90\u001b[0m     c, lower = _cholesky(a, lower=lower, overwrite_a=overwrite_a, clean=True,\n\u001b[0;32m---> 91\u001b[0;31m                          check_finite=check_finite)\n\u001b[0m\u001b[1;32m     92\u001b[0m     \u001b[0;32mreturn\u001b[0m \u001b[0mc\u001b[0m\u001b[0;34m\u001b[0m\u001b[0;34m\u001b[0m\u001b[0m\n\u001b[1;32m     93\u001b[0m \u001b[0;34m\u001b[0m\u001b[0m\n",
            "\u001b[0;32m/usr/local/lib/python3.6/dist-packages/scipy/linalg/decomp_cholesky.py\u001b[0m in \u001b[0;36m_cholesky\u001b[0;34m(a, lower, overwrite_a, clean, check_finite)\u001b[0m\n\u001b[1;32m     38\u001b[0m     \u001b[0;32mif\u001b[0m \u001b[0minfo\u001b[0m \u001b[0;34m>\u001b[0m \u001b[0;36m0\u001b[0m\u001b[0;34m:\u001b[0m\u001b[0;34m\u001b[0m\u001b[0;34m\u001b[0m\u001b[0m\n\u001b[1;32m     39\u001b[0m         raise LinAlgError(\"%d-th leading minor of the array is not positive \"\n\u001b[0;32m---> 40\u001b[0;31m                           \"definite\" % info)\n\u001b[0m\u001b[1;32m     41\u001b[0m     \u001b[0;32mif\u001b[0m \u001b[0minfo\u001b[0m \u001b[0;34m<\u001b[0m \u001b[0;36m0\u001b[0m\u001b[0;34m:\u001b[0m\u001b[0;34m\u001b[0m\u001b[0;34m\u001b[0m\u001b[0m\n\u001b[1;32m     42\u001b[0m         raise ValueError('LAPACK reported an illegal value in {}-th argument'\n",
            "\u001b[0;31mLinAlgError\u001b[0m: 4-th leading minor of the array is not positive definite"
          ]
        },
        {
          "output_type": "stream",
          "text": [
            "Exception ignored in: 'pomegranate.distributions.MultivariateGaussianDistribution.MultivariateGaussianDistribution._log_probability_missing'\n",
            "Traceback (most recent call last):\n",
            "  File \"pomegranate/distributions/MultivariateGaussianDistribution.pyx\", line 72, in pomegranate.distributions.MultivariateGaussianDistribution.MultivariateGaussianDistribution.__cinit__\n",
            "  File \"/usr/local/lib/python3.6/dist-packages/scipy/linalg/decomp_cholesky.py\", line 91, in cholesky\n",
            "    check_finite=check_finite)\n",
            "  File \"/usr/local/lib/python3.6/dist-packages/scipy/linalg/decomp_cholesky.py\", line 40, in _cholesky\n",
            "    \"definite\" % info)\n",
            "numpy.linalg.LinAlgError: 4-th leading minor of the array is not positive definite\n"
          ],
          "name": "stderr"
        },
        {
          "output_type": "error",
          "ename": "LinAlgError",
          "evalue": "ignored",
          "traceback": [
            "\u001b[0;31m---------------------------------------------------------------------------\u001b[0m",
            "\u001b[0;31mLinAlgError\u001b[0m                               Traceback (most recent call last)",
            "\u001b[0;32mpomegranate/distributions/MultivariateGaussianDistribution.pyx\u001b[0m in \u001b[0;36mpomegranate.distributions.MultivariateGaussianDistribution.MultivariateGaussianDistribution.__cinit__\u001b[0;34m()\u001b[0m\n",
            "\u001b[0;32m/usr/local/lib/python3.6/dist-packages/scipy/linalg/decomp_cholesky.py\u001b[0m in \u001b[0;36mcholesky\u001b[0;34m(a, lower, overwrite_a, check_finite)\u001b[0m\n\u001b[1;32m     89\u001b[0m     \"\"\"\n\u001b[1;32m     90\u001b[0m     c, lower = _cholesky(a, lower=lower, overwrite_a=overwrite_a, clean=True,\n\u001b[0;32m---> 91\u001b[0;31m                          check_finite=check_finite)\n\u001b[0m\u001b[1;32m     92\u001b[0m     \u001b[0;32mreturn\u001b[0m \u001b[0mc\u001b[0m\u001b[0;34m\u001b[0m\u001b[0;34m\u001b[0m\u001b[0m\n\u001b[1;32m     93\u001b[0m \u001b[0;34m\u001b[0m\u001b[0m\n",
            "\u001b[0;32m/usr/local/lib/python3.6/dist-packages/scipy/linalg/decomp_cholesky.py\u001b[0m in \u001b[0;36m_cholesky\u001b[0;34m(a, lower, overwrite_a, clean, check_finite)\u001b[0m\n\u001b[1;32m     38\u001b[0m     \u001b[0;32mif\u001b[0m \u001b[0minfo\u001b[0m \u001b[0;34m>\u001b[0m \u001b[0;36m0\u001b[0m\u001b[0;34m:\u001b[0m\u001b[0;34m\u001b[0m\u001b[0;34m\u001b[0m\u001b[0m\n\u001b[1;32m     39\u001b[0m         raise LinAlgError(\"%d-th leading minor of the array is not positive \"\n\u001b[0;32m---> 40\u001b[0;31m                           \"definite\" % info)\n\u001b[0m\u001b[1;32m     41\u001b[0m     \u001b[0;32mif\u001b[0m \u001b[0minfo\u001b[0m \u001b[0;34m<\u001b[0m \u001b[0;36m0\u001b[0m\u001b[0;34m:\u001b[0m\u001b[0;34m\u001b[0m\u001b[0;34m\u001b[0m\u001b[0m\n\u001b[1;32m     42\u001b[0m         raise ValueError('LAPACK reported an illegal value in {}-th argument'\n",
            "\u001b[0;31mLinAlgError\u001b[0m: 4-th leading minor of the array is not positive definite"
          ]
        },
        {
          "output_type": "stream",
          "text": [
            "Exception ignored in: 'pomegranate.distributions.MultivariateGaussianDistribution.MultivariateGaussianDistribution._log_probability_missing'\n",
            "Traceback (most recent call last):\n",
            "  File \"pomegranate/distributions/MultivariateGaussianDistribution.pyx\", line 72, in pomegranate.distributions.MultivariateGaussianDistribution.MultivariateGaussianDistribution.__cinit__\n",
            "  File \"/usr/local/lib/python3.6/dist-packages/scipy/linalg/decomp_cholesky.py\", line 91, in cholesky\n",
            "    check_finite=check_finite)\n",
            "  File \"/usr/local/lib/python3.6/dist-packages/scipy/linalg/decomp_cholesky.py\", line 40, in _cholesky\n",
            "    \"definite\" % info)\n",
            "numpy.linalg.LinAlgError: 4-th leading minor of the array is not positive definite\n"
          ],
          "name": "stderr"
        },
        {
          "output_type": "error",
          "ename": "LinAlgError",
          "evalue": "ignored",
          "traceback": [
            "\u001b[0;31m---------------------------------------------------------------------------\u001b[0m",
            "\u001b[0;31mLinAlgError\u001b[0m                               Traceback (most recent call last)",
            "\u001b[0;32mpomegranate/distributions/MultivariateGaussianDistribution.pyx\u001b[0m in \u001b[0;36mpomegranate.distributions.MultivariateGaussianDistribution.MultivariateGaussianDistribution.__cinit__\u001b[0;34m()\u001b[0m\n",
            "\u001b[0;32m/usr/local/lib/python3.6/dist-packages/scipy/linalg/decomp_cholesky.py\u001b[0m in \u001b[0;36mcholesky\u001b[0;34m(a, lower, overwrite_a, check_finite)\u001b[0m\n\u001b[1;32m     89\u001b[0m     \"\"\"\n\u001b[1;32m     90\u001b[0m     c, lower = _cholesky(a, lower=lower, overwrite_a=overwrite_a, clean=True,\n\u001b[0;32m---> 91\u001b[0;31m                          check_finite=check_finite)\n\u001b[0m\u001b[1;32m     92\u001b[0m     \u001b[0;32mreturn\u001b[0m \u001b[0mc\u001b[0m\u001b[0;34m\u001b[0m\u001b[0;34m\u001b[0m\u001b[0m\n\u001b[1;32m     93\u001b[0m \u001b[0;34m\u001b[0m\u001b[0m\n",
            "\u001b[0;32m/usr/local/lib/python3.6/dist-packages/scipy/linalg/decomp_cholesky.py\u001b[0m in \u001b[0;36m_cholesky\u001b[0;34m(a, lower, overwrite_a, clean, check_finite)\u001b[0m\n\u001b[1;32m     38\u001b[0m     \u001b[0;32mif\u001b[0m \u001b[0minfo\u001b[0m \u001b[0;34m>\u001b[0m \u001b[0;36m0\u001b[0m\u001b[0;34m:\u001b[0m\u001b[0;34m\u001b[0m\u001b[0;34m\u001b[0m\u001b[0m\n\u001b[1;32m     39\u001b[0m         raise LinAlgError(\"%d-th leading minor of the array is not positive \"\n\u001b[0;32m---> 40\u001b[0;31m                           \"definite\" % info)\n\u001b[0m\u001b[1;32m     41\u001b[0m     \u001b[0;32mif\u001b[0m \u001b[0minfo\u001b[0m \u001b[0;34m<\u001b[0m \u001b[0;36m0\u001b[0m\u001b[0;34m:\u001b[0m\u001b[0;34m\u001b[0m\u001b[0;34m\u001b[0m\u001b[0m\n\u001b[1;32m     42\u001b[0m         raise ValueError('LAPACK reported an illegal value in {}-th argument'\n",
            "\u001b[0;31mLinAlgError\u001b[0m: 4-th leading minor of the array is not positive definite"
          ]
        },
        {
          "output_type": "stream",
          "text": [
            "Exception ignored in: 'pomegranate.distributions.MultivariateGaussianDistribution.MultivariateGaussianDistribution._log_probability_missing'\n",
            "Traceback (most recent call last):\n",
            "  File \"pomegranate/distributions/MultivariateGaussianDistribution.pyx\", line 72, in pomegranate.distributions.MultivariateGaussianDistribution.MultivariateGaussianDistribution.__cinit__\n",
            "  File \"/usr/local/lib/python3.6/dist-packages/scipy/linalg/decomp_cholesky.py\", line 91, in cholesky\n",
            "    check_finite=check_finite)\n",
            "  File \"/usr/local/lib/python3.6/dist-packages/scipy/linalg/decomp_cholesky.py\", line 40, in _cholesky\n",
            "    \"definite\" % info)\n",
            "numpy.linalg.LinAlgError: 4-th leading minor of the array is not positive definite\n"
          ],
          "name": "stderr"
        },
        {
          "output_type": "error",
          "ename": "LinAlgError",
          "evalue": "ignored",
          "traceback": [
            "\u001b[0;31m---------------------------------------------------------------------------\u001b[0m",
            "\u001b[0;31mLinAlgError\u001b[0m                               Traceback (most recent call last)",
            "\u001b[0;32mpomegranate/distributions/MultivariateGaussianDistribution.pyx\u001b[0m in \u001b[0;36mpomegranate.distributions.MultivariateGaussianDistribution.MultivariateGaussianDistribution.__cinit__\u001b[0;34m()\u001b[0m\n",
            "\u001b[0;32m/usr/local/lib/python3.6/dist-packages/scipy/linalg/decomp_cholesky.py\u001b[0m in \u001b[0;36mcholesky\u001b[0;34m(a, lower, overwrite_a, check_finite)\u001b[0m\n\u001b[1;32m     89\u001b[0m     \"\"\"\n\u001b[1;32m     90\u001b[0m     c, lower = _cholesky(a, lower=lower, overwrite_a=overwrite_a, clean=True,\n\u001b[0;32m---> 91\u001b[0;31m                          check_finite=check_finite)\n\u001b[0m\u001b[1;32m     92\u001b[0m     \u001b[0;32mreturn\u001b[0m \u001b[0mc\u001b[0m\u001b[0;34m\u001b[0m\u001b[0;34m\u001b[0m\u001b[0m\n\u001b[1;32m     93\u001b[0m \u001b[0;34m\u001b[0m\u001b[0m\n",
            "\u001b[0;32m/usr/local/lib/python3.6/dist-packages/scipy/linalg/decomp_cholesky.py\u001b[0m in \u001b[0;36m_cholesky\u001b[0;34m(a, lower, overwrite_a, clean, check_finite)\u001b[0m\n\u001b[1;32m     38\u001b[0m     \u001b[0;32mif\u001b[0m \u001b[0minfo\u001b[0m \u001b[0;34m>\u001b[0m \u001b[0;36m0\u001b[0m\u001b[0;34m:\u001b[0m\u001b[0;34m\u001b[0m\u001b[0;34m\u001b[0m\u001b[0m\n\u001b[1;32m     39\u001b[0m         raise LinAlgError(\"%d-th leading minor of the array is not positive \"\n\u001b[0;32m---> 40\u001b[0;31m                           \"definite\" % info)\n\u001b[0m\u001b[1;32m     41\u001b[0m     \u001b[0;32mif\u001b[0m \u001b[0minfo\u001b[0m \u001b[0;34m<\u001b[0m \u001b[0;36m0\u001b[0m\u001b[0;34m:\u001b[0m\u001b[0;34m\u001b[0m\u001b[0;34m\u001b[0m\u001b[0m\n\u001b[1;32m     42\u001b[0m         raise ValueError('LAPACK reported an illegal value in {}-th argument'\n",
            "\u001b[0;31mLinAlgError\u001b[0m: 4-th leading minor of the array is not positive definite"
          ]
        },
        {
          "output_type": "stream",
          "text": [
            "Exception ignored in: 'pomegranate.distributions.MultivariateGaussianDistribution.MultivariateGaussianDistribution._log_probability_missing'\n",
            "Traceback (most recent call last):\n",
            "  File \"pomegranate/distributions/MultivariateGaussianDistribution.pyx\", line 72, in pomegranate.distributions.MultivariateGaussianDistribution.MultivariateGaussianDistribution.__cinit__\n",
            "  File \"/usr/local/lib/python3.6/dist-packages/scipy/linalg/decomp_cholesky.py\", line 91, in cholesky\n",
            "    check_finite=check_finite)\n",
            "  File \"/usr/local/lib/python3.6/dist-packages/scipy/linalg/decomp_cholesky.py\", line 40, in _cholesky\n",
            "    \"definite\" % info)\n",
            "numpy.linalg.LinAlgError: 4-th leading minor of the array is not positive definite\n"
          ],
          "name": "stderr"
        },
        {
          "output_type": "error",
          "ename": "LinAlgError",
          "evalue": "ignored",
          "traceback": [
            "\u001b[0;31m---------------------------------------------------------------------------\u001b[0m",
            "\u001b[0;31mLinAlgError\u001b[0m                               Traceback (most recent call last)",
            "\u001b[0;32mpomegranate/distributions/MultivariateGaussianDistribution.pyx\u001b[0m in \u001b[0;36mpomegranate.distributions.MultivariateGaussianDistribution.MultivariateGaussianDistribution.__cinit__\u001b[0;34m()\u001b[0m\n",
            "\u001b[0;32m/usr/local/lib/python3.6/dist-packages/scipy/linalg/decomp_cholesky.py\u001b[0m in \u001b[0;36mcholesky\u001b[0;34m(a, lower, overwrite_a, check_finite)\u001b[0m\n\u001b[1;32m     89\u001b[0m     \"\"\"\n\u001b[1;32m     90\u001b[0m     c, lower = _cholesky(a, lower=lower, overwrite_a=overwrite_a, clean=True,\n\u001b[0;32m---> 91\u001b[0;31m                          check_finite=check_finite)\n\u001b[0m\u001b[1;32m     92\u001b[0m     \u001b[0;32mreturn\u001b[0m \u001b[0mc\u001b[0m\u001b[0;34m\u001b[0m\u001b[0;34m\u001b[0m\u001b[0m\n\u001b[1;32m     93\u001b[0m \u001b[0;34m\u001b[0m\u001b[0m\n",
            "\u001b[0;32m/usr/local/lib/python3.6/dist-packages/scipy/linalg/decomp_cholesky.py\u001b[0m in \u001b[0;36m_cholesky\u001b[0;34m(a, lower, overwrite_a, clean, check_finite)\u001b[0m\n\u001b[1;32m     38\u001b[0m     \u001b[0;32mif\u001b[0m \u001b[0minfo\u001b[0m \u001b[0;34m>\u001b[0m \u001b[0;36m0\u001b[0m\u001b[0;34m:\u001b[0m\u001b[0;34m\u001b[0m\u001b[0;34m\u001b[0m\u001b[0m\n\u001b[1;32m     39\u001b[0m         raise LinAlgError(\"%d-th leading minor of the array is not positive \"\n\u001b[0;32m---> 40\u001b[0;31m                           \"definite\" % info)\n\u001b[0m\u001b[1;32m     41\u001b[0m     \u001b[0;32mif\u001b[0m \u001b[0minfo\u001b[0m \u001b[0;34m<\u001b[0m \u001b[0;36m0\u001b[0m\u001b[0;34m:\u001b[0m\u001b[0;34m\u001b[0m\u001b[0;34m\u001b[0m\u001b[0m\n\u001b[1;32m     42\u001b[0m         raise ValueError('LAPACK reported an illegal value in {}-th argument'\n",
            "\u001b[0;31mLinAlgError\u001b[0m: 4-th leading minor of the array is not positive definite"
          ]
        },
        {
          "output_type": "stream",
          "text": [
            "Exception ignored in: 'pomegranate.distributions.MultivariateGaussianDistribution.MultivariateGaussianDistribution._log_probability_missing'\n",
            "Traceback (most recent call last):\n",
            "  File \"pomegranate/distributions/MultivariateGaussianDistribution.pyx\", line 72, in pomegranate.distributions.MultivariateGaussianDistribution.MultivariateGaussianDistribution.__cinit__\n",
            "  File \"/usr/local/lib/python3.6/dist-packages/scipy/linalg/decomp_cholesky.py\", line 91, in cholesky\n",
            "    check_finite=check_finite)\n",
            "  File \"/usr/local/lib/python3.6/dist-packages/scipy/linalg/decomp_cholesky.py\", line 40, in _cholesky\n",
            "    \"definite\" % info)\n",
            "numpy.linalg.LinAlgError: 4-th leading minor of the array is not positive definite\n"
          ],
          "name": "stderr"
        },
        {
          "output_type": "error",
          "ename": "LinAlgError",
          "evalue": "ignored",
          "traceback": [
            "\u001b[0;31m---------------------------------------------------------------------------\u001b[0m",
            "\u001b[0;31mLinAlgError\u001b[0m                               Traceback (most recent call last)",
            "\u001b[0;32mpomegranate/distributions/MultivariateGaussianDistribution.pyx\u001b[0m in \u001b[0;36mpomegranate.distributions.MultivariateGaussianDistribution.MultivariateGaussianDistribution.__cinit__\u001b[0;34m()\u001b[0m\n",
            "\u001b[0;32m/usr/local/lib/python3.6/dist-packages/scipy/linalg/decomp_cholesky.py\u001b[0m in \u001b[0;36mcholesky\u001b[0;34m(a, lower, overwrite_a, check_finite)\u001b[0m\n\u001b[1;32m     89\u001b[0m     \"\"\"\n\u001b[1;32m     90\u001b[0m     c, lower = _cholesky(a, lower=lower, overwrite_a=overwrite_a, clean=True,\n\u001b[0;32m---> 91\u001b[0;31m                          check_finite=check_finite)\n\u001b[0m\u001b[1;32m     92\u001b[0m     \u001b[0;32mreturn\u001b[0m \u001b[0mc\u001b[0m\u001b[0;34m\u001b[0m\u001b[0;34m\u001b[0m\u001b[0m\n\u001b[1;32m     93\u001b[0m \u001b[0;34m\u001b[0m\u001b[0m\n",
            "\u001b[0;32m/usr/local/lib/python3.6/dist-packages/scipy/linalg/decomp_cholesky.py\u001b[0m in \u001b[0;36m_cholesky\u001b[0;34m(a, lower, overwrite_a, clean, check_finite)\u001b[0m\n\u001b[1;32m     38\u001b[0m     \u001b[0;32mif\u001b[0m \u001b[0minfo\u001b[0m \u001b[0;34m>\u001b[0m \u001b[0;36m0\u001b[0m\u001b[0;34m:\u001b[0m\u001b[0;34m\u001b[0m\u001b[0;34m\u001b[0m\u001b[0m\n\u001b[1;32m     39\u001b[0m         raise LinAlgError(\"%d-th leading minor of the array is not positive \"\n\u001b[0;32m---> 40\u001b[0;31m                           \"definite\" % info)\n\u001b[0m\u001b[1;32m     41\u001b[0m     \u001b[0;32mif\u001b[0m \u001b[0minfo\u001b[0m \u001b[0;34m<\u001b[0m \u001b[0;36m0\u001b[0m\u001b[0;34m:\u001b[0m\u001b[0;34m\u001b[0m\u001b[0;34m\u001b[0m\u001b[0m\n\u001b[1;32m     42\u001b[0m         raise ValueError('LAPACK reported an illegal value in {}-th argument'\n",
            "\u001b[0;31mLinAlgError\u001b[0m: 4-th leading minor of the array is not positive definite"
          ]
        },
        {
          "output_type": "stream",
          "text": [
            "Exception ignored in: 'pomegranate.distributions.MultivariateGaussianDistribution.MultivariateGaussianDistribution._log_probability_missing'\n",
            "Traceback (most recent call last):\n",
            "  File \"pomegranate/distributions/MultivariateGaussianDistribution.pyx\", line 72, in pomegranate.distributions.MultivariateGaussianDistribution.MultivariateGaussianDistribution.__cinit__\n",
            "  File \"/usr/local/lib/python3.6/dist-packages/scipy/linalg/decomp_cholesky.py\", line 91, in cholesky\n",
            "    check_finite=check_finite)\n",
            "  File \"/usr/local/lib/python3.6/dist-packages/scipy/linalg/decomp_cholesky.py\", line 40, in _cholesky\n",
            "    \"definite\" % info)\n",
            "numpy.linalg.LinAlgError: 4-th leading minor of the array is not positive definite\n"
          ],
          "name": "stderr"
        },
        {
          "output_type": "error",
          "ename": "LinAlgError",
          "evalue": "ignored",
          "traceback": [
            "\u001b[0;31m---------------------------------------------------------------------------\u001b[0m",
            "\u001b[0;31mLinAlgError\u001b[0m                               Traceback (most recent call last)",
            "\u001b[0;32mpomegranate/distributions/MultivariateGaussianDistribution.pyx\u001b[0m in \u001b[0;36mpomegranate.distributions.MultivariateGaussianDistribution.MultivariateGaussianDistribution.__cinit__\u001b[0;34m()\u001b[0m\n",
            "\u001b[0;32m/usr/local/lib/python3.6/dist-packages/scipy/linalg/decomp_cholesky.py\u001b[0m in \u001b[0;36mcholesky\u001b[0;34m(a, lower, overwrite_a, check_finite)\u001b[0m\n\u001b[1;32m     89\u001b[0m     \"\"\"\n\u001b[1;32m     90\u001b[0m     c, lower = _cholesky(a, lower=lower, overwrite_a=overwrite_a, clean=True,\n\u001b[0;32m---> 91\u001b[0;31m                          check_finite=check_finite)\n\u001b[0m\u001b[1;32m     92\u001b[0m     \u001b[0;32mreturn\u001b[0m \u001b[0mc\u001b[0m\u001b[0;34m\u001b[0m\u001b[0;34m\u001b[0m\u001b[0m\n\u001b[1;32m     93\u001b[0m \u001b[0;34m\u001b[0m\u001b[0m\n",
            "\u001b[0;32m/usr/local/lib/python3.6/dist-packages/scipy/linalg/decomp_cholesky.py\u001b[0m in \u001b[0;36m_cholesky\u001b[0;34m(a, lower, overwrite_a, clean, check_finite)\u001b[0m\n\u001b[1;32m     38\u001b[0m     \u001b[0;32mif\u001b[0m \u001b[0minfo\u001b[0m \u001b[0;34m>\u001b[0m \u001b[0;36m0\u001b[0m\u001b[0;34m:\u001b[0m\u001b[0;34m\u001b[0m\u001b[0;34m\u001b[0m\u001b[0m\n\u001b[1;32m     39\u001b[0m         raise LinAlgError(\"%d-th leading minor of the array is not positive \"\n\u001b[0;32m---> 40\u001b[0;31m                           \"definite\" % info)\n\u001b[0m\u001b[1;32m     41\u001b[0m     \u001b[0;32mif\u001b[0m \u001b[0minfo\u001b[0m \u001b[0;34m<\u001b[0m \u001b[0;36m0\u001b[0m\u001b[0;34m:\u001b[0m\u001b[0;34m\u001b[0m\u001b[0;34m\u001b[0m\u001b[0m\n\u001b[1;32m     42\u001b[0m         raise ValueError('LAPACK reported an illegal value in {}-th argument'\n",
            "\u001b[0;31mLinAlgError\u001b[0m: 4-th leading minor of the array is not positive definite"
          ]
        },
        {
          "output_type": "stream",
          "text": [
            "Exception ignored in: 'pomegranate.distributions.MultivariateGaussianDistribution.MultivariateGaussianDistribution._log_probability_missing'\n",
            "Traceback (most recent call last):\n",
            "  File \"pomegranate/distributions/MultivariateGaussianDistribution.pyx\", line 72, in pomegranate.distributions.MultivariateGaussianDistribution.MultivariateGaussianDistribution.__cinit__\n",
            "  File \"/usr/local/lib/python3.6/dist-packages/scipy/linalg/decomp_cholesky.py\", line 91, in cholesky\n",
            "    check_finite=check_finite)\n",
            "  File \"/usr/local/lib/python3.6/dist-packages/scipy/linalg/decomp_cholesky.py\", line 40, in _cholesky\n",
            "    \"definite\" % info)\n",
            "numpy.linalg.LinAlgError: 4-th leading minor of the array is not positive definite\n"
          ],
          "name": "stderr"
        },
        {
          "output_type": "error",
          "ename": "LinAlgError",
          "evalue": "ignored",
          "traceback": [
            "\u001b[0;31m---------------------------------------------------------------------------\u001b[0m",
            "\u001b[0;31mLinAlgError\u001b[0m                               Traceback (most recent call last)",
            "\u001b[0;32mpomegranate/distributions/MultivariateGaussianDistribution.pyx\u001b[0m in \u001b[0;36mpomegranate.distributions.MultivariateGaussianDistribution.MultivariateGaussianDistribution.__cinit__\u001b[0;34m()\u001b[0m\n",
            "\u001b[0;32m/usr/local/lib/python3.6/dist-packages/scipy/linalg/decomp_cholesky.py\u001b[0m in \u001b[0;36mcholesky\u001b[0;34m(a, lower, overwrite_a, check_finite)\u001b[0m\n\u001b[1;32m     89\u001b[0m     \"\"\"\n\u001b[1;32m     90\u001b[0m     c, lower = _cholesky(a, lower=lower, overwrite_a=overwrite_a, clean=True,\n\u001b[0;32m---> 91\u001b[0;31m                          check_finite=check_finite)\n\u001b[0m\u001b[1;32m     92\u001b[0m     \u001b[0;32mreturn\u001b[0m \u001b[0mc\u001b[0m\u001b[0;34m\u001b[0m\u001b[0;34m\u001b[0m\u001b[0m\n\u001b[1;32m     93\u001b[0m \u001b[0;34m\u001b[0m\u001b[0m\n",
            "\u001b[0;32m/usr/local/lib/python3.6/dist-packages/scipy/linalg/decomp_cholesky.py\u001b[0m in \u001b[0;36m_cholesky\u001b[0;34m(a, lower, overwrite_a, clean, check_finite)\u001b[0m\n\u001b[1;32m     38\u001b[0m     \u001b[0;32mif\u001b[0m \u001b[0minfo\u001b[0m \u001b[0;34m>\u001b[0m \u001b[0;36m0\u001b[0m\u001b[0;34m:\u001b[0m\u001b[0;34m\u001b[0m\u001b[0;34m\u001b[0m\u001b[0m\n\u001b[1;32m     39\u001b[0m         raise LinAlgError(\"%d-th leading minor of the array is not positive \"\n\u001b[0;32m---> 40\u001b[0;31m                           \"definite\" % info)\n\u001b[0m\u001b[1;32m     41\u001b[0m     \u001b[0;32mif\u001b[0m \u001b[0minfo\u001b[0m \u001b[0;34m<\u001b[0m \u001b[0;36m0\u001b[0m\u001b[0;34m:\u001b[0m\u001b[0;34m\u001b[0m\u001b[0;34m\u001b[0m\u001b[0m\n\u001b[1;32m     42\u001b[0m         raise ValueError('LAPACK reported an illegal value in {}-th argument'\n",
            "\u001b[0;31mLinAlgError\u001b[0m: 4-th leading minor of the array is not positive definite"
          ]
        },
        {
          "output_type": "stream",
          "text": [
            "Exception ignored in: 'pomegranate.distributions.MultivariateGaussianDistribution.MultivariateGaussianDistribution._log_probability_missing'\n",
            "Traceback (most recent call last):\n",
            "  File \"pomegranate/distributions/MultivariateGaussianDistribution.pyx\", line 72, in pomegranate.distributions.MultivariateGaussianDistribution.MultivariateGaussianDistribution.__cinit__\n",
            "  File \"/usr/local/lib/python3.6/dist-packages/scipy/linalg/decomp_cholesky.py\", line 91, in cholesky\n",
            "    check_finite=check_finite)\n",
            "  File \"/usr/local/lib/python3.6/dist-packages/scipy/linalg/decomp_cholesky.py\", line 40, in _cholesky\n",
            "    \"definite\" % info)\n",
            "numpy.linalg.LinAlgError: 4-th leading minor of the array is not positive definite\n"
          ],
          "name": "stderr"
        },
        {
          "output_type": "error",
          "ename": "LinAlgError",
          "evalue": "ignored",
          "traceback": [
            "\u001b[0;31m---------------------------------------------------------------------------\u001b[0m",
            "\u001b[0;31mLinAlgError\u001b[0m                               Traceback (most recent call last)",
            "\u001b[0;32mpomegranate/distributions/MultivariateGaussianDistribution.pyx\u001b[0m in \u001b[0;36mpomegranate.distributions.MultivariateGaussianDistribution.MultivariateGaussianDistribution.__cinit__\u001b[0;34m()\u001b[0m\n",
            "\u001b[0;32m/usr/local/lib/python3.6/dist-packages/scipy/linalg/decomp_cholesky.py\u001b[0m in \u001b[0;36mcholesky\u001b[0;34m(a, lower, overwrite_a, check_finite)\u001b[0m\n\u001b[1;32m     89\u001b[0m     \"\"\"\n\u001b[1;32m     90\u001b[0m     c, lower = _cholesky(a, lower=lower, overwrite_a=overwrite_a, clean=True,\n\u001b[0;32m---> 91\u001b[0;31m                          check_finite=check_finite)\n\u001b[0m\u001b[1;32m     92\u001b[0m     \u001b[0;32mreturn\u001b[0m \u001b[0mc\u001b[0m\u001b[0;34m\u001b[0m\u001b[0;34m\u001b[0m\u001b[0m\n\u001b[1;32m     93\u001b[0m \u001b[0;34m\u001b[0m\u001b[0m\n",
            "\u001b[0;32m/usr/local/lib/python3.6/dist-packages/scipy/linalg/decomp_cholesky.py\u001b[0m in \u001b[0;36m_cholesky\u001b[0;34m(a, lower, overwrite_a, clean, check_finite)\u001b[0m\n\u001b[1;32m     38\u001b[0m     \u001b[0;32mif\u001b[0m \u001b[0minfo\u001b[0m \u001b[0;34m>\u001b[0m \u001b[0;36m0\u001b[0m\u001b[0;34m:\u001b[0m\u001b[0;34m\u001b[0m\u001b[0;34m\u001b[0m\u001b[0m\n\u001b[1;32m     39\u001b[0m         raise LinAlgError(\"%d-th leading minor of the array is not positive \"\n\u001b[0;32m---> 40\u001b[0;31m                           \"definite\" % info)\n\u001b[0m\u001b[1;32m     41\u001b[0m     \u001b[0;32mif\u001b[0m \u001b[0minfo\u001b[0m \u001b[0;34m<\u001b[0m \u001b[0;36m0\u001b[0m\u001b[0;34m:\u001b[0m\u001b[0;34m\u001b[0m\u001b[0;34m\u001b[0m\u001b[0m\n\u001b[1;32m     42\u001b[0m         raise ValueError('LAPACK reported an illegal value in {}-th argument'\n",
            "\u001b[0;31mLinAlgError\u001b[0m: 4-th leading minor of the array is not positive definite"
          ]
        },
        {
          "output_type": "stream",
          "text": [
            "Exception ignored in: 'pomegranate.distributions.MultivariateGaussianDistribution.MultivariateGaussianDistribution._log_probability_missing'\n",
            "Traceback (most recent call last):\n",
            "  File \"pomegranate/distributions/MultivariateGaussianDistribution.pyx\", line 72, in pomegranate.distributions.MultivariateGaussianDistribution.MultivariateGaussianDistribution.__cinit__\n",
            "  File \"/usr/local/lib/python3.6/dist-packages/scipy/linalg/decomp_cholesky.py\", line 91, in cholesky\n",
            "    check_finite=check_finite)\n",
            "  File \"/usr/local/lib/python3.6/dist-packages/scipy/linalg/decomp_cholesky.py\", line 40, in _cholesky\n",
            "    \"definite\" % info)\n",
            "numpy.linalg.LinAlgError: 4-th leading minor of the array is not positive definite\n"
          ],
          "name": "stderr"
        },
        {
          "output_type": "error",
          "ename": "LinAlgError",
          "evalue": "ignored",
          "traceback": [
            "\u001b[0;31m---------------------------------------------------------------------------\u001b[0m",
            "\u001b[0;31mLinAlgError\u001b[0m                               Traceback (most recent call last)",
            "\u001b[0;32mpomegranate/distributions/MultivariateGaussianDistribution.pyx\u001b[0m in \u001b[0;36mpomegranate.distributions.MultivariateGaussianDistribution.MultivariateGaussianDistribution.__cinit__\u001b[0;34m()\u001b[0m\n",
            "\u001b[0;32m/usr/local/lib/python3.6/dist-packages/scipy/linalg/decomp_cholesky.py\u001b[0m in \u001b[0;36mcholesky\u001b[0;34m(a, lower, overwrite_a, check_finite)\u001b[0m\n\u001b[1;32m     89\u001b[0m     \"\"\"\n\u001b[1;32m     90\u001b[0m     c, lower = _cholesky(a, lower=lower, overwrite_a=overwrite_a, clean=True,\n\u001b[0;32m---> 91\u001b[0;31m                          check_finite=check_finite)\n\u001b[0m\u001b[1;32m     92\u001b[0m     \u001b[0;32mreturn\u001b[0m \u001b[0mc\u001b[0m\u001b[0;34m\u001b[0m\u001b[0;34m\u001b[0m\u001b[0m\n\u001b[1;32m     93\u001b[0m \u001b[0;34m\u001b[0m\u001b[0m\n",
            "\u001b[0;32m/usr/local/lib/python3.6/dist-packages/scipy/linalg/decomp_cholesky.py\u001b[0m in \u001b[0;36m_cholesky\u001b[0;34m(a, lower, overwrite_a, clean, check_finite)\u001b[0m\n\u001b[1;32m     38\u001b[0m     \u001b[0;32mif\u001b[0m \u001b[0minfo\u001b[0m \u001b[0;34m>\u001b[0m \u001b[0;36m0\u001b[0m\u001b[0;34m:\u001b[0m\u001b[0;34m\u001b[0m\u001b[0;34m\u001b[0m\u001b[0m\n\u001b[1;32m     39\u001b[0m         raise LinAlgError(\"%d-th leading minor of the array is not positive \"\n\u001b[0;32m---> 40\u001b[0;31m                           \"definite\" % info)\n\u001b[0m\u001b[1;32m     41\u001b[0m     \u001b[0;32mif\u001b[0m \u001b[0minfo\u001b[0m \u001b[0;34m<\u001b[0m \u001b[0;36m0\u001b[0m\u001b[0;34m:\u001b[0m\u001b[0;34m\u001b[0m\u001b[0;34m\u001b[0m\u001b[0m\n\u001b[1;32m     42\u001b[0m         raise ValueError('LAPACK reported an illegal value in {}-th argument'\n",
            "\u001b[0;31mLinAlgError\u001b[0m: 4-th leading minor of the array is not positive definite"
          ]
        },
        {
          "output_type": "stream",
          "text": [
            "Exception ignored in: 'pomegranate.distributions.MultivariateGaussianDistribution.MultivariateGaussianDistribution._log_probability_missing'\n",
            "Traceback (most recent call last):\n",
            "  File \"pomegranate/distributions/MultivariateGaussianDistribution.pyx\", line 72, in pomegranate.distributions.MultivariateGaussianDistribution.MultivariateGaussianDistribution.__cinit__\n",
            "  File \"/usr/local/lib/python3.6/dist-packages/scipy/linalg/decomp_cholesky.py\", line 91, in cholesky\n",
            "    check_finite=check_finite)\n",
            "  File \"/usr/local/lib/python3.6/dist-packages/scipy/linalg/decomp_cholesky.py\", line 40, in _cholesky\n",
            "    \"definite\" % info)\n",
            "numpy.linalg.LinAlgError: 4-th leading minor of the array is not positive definite\n"
          ],
          "name": "stderr"
        },
        {
          "output_type": "error",
          "ename": "LinAlgError",
          "evalue": "ignored",
          "traceback": [
            "\u001b[0;31m---------------------------------------------------------------------------\u001b[0m",
            "\u001b[0;31mLinAlgError\u001b[0m                               Traceback (most recent call last)",
            "\u001b[0;32mpomegranate/distributions/MultivariateGaussianDistribution.pyx\u001b[0m in \u001b[0;36mpomegranate.distributions.MultivariateGaussianDistribution.MultivariateGaussianDistribution.__cinit__\u001b[0;34m()\u001b[0m\n",
            "\u001b[0;32m/usr/local/lib/python3.6/dist-packages/scipy/linalg/decomp_cholesky.py\u001b[0m in \u001b[0;36mcholesky\u001b[0;34m(a, lower, overwrite_a, check_finite)\u001b[0m\n\u001b[1;32m     89\u001b[0m     \"\"\"\n\u001b[1;32m     90\u001b[0m     c, lower = _cholesky(a, lower=lower, overwrite_a=overwrite_a, clean=True,\n\u001b[0;32m---> 91\u001b[0;31m                          check_finite=check_finite)\n\u001b[0m\u001b[1;32m     92\u001b[0m     \u001b[0;32mreturn\u001b[0m \u001b[0mc\u001b[0m\u001b[0;34m\u001b[0m\u001b[0;34m\u001b[0m\u001b[0m\n\u001b[1;32m     93\u001b[0m \u001b[0;34m\u001b[0m\u001b[0m\n",
            "\u001b[0;32m/usr/local/lib/python3.6/dist-packages/scipy/linalg/decomp_cholesky.py\u001b[0m in \u001b[0;36m_cholesky\u001b[0;34m(a, lower, overwrite_a, clean, check_finite)\u001b[0m\n\u001b[1;32m     38\u001b[0m     \u001b[0;32mif\u001b[0m \u001b[0minfo\u001b[0m \u001b[0;34m>\u001b[0m \u001b[0;36m0\u001b[0m\u001b[0;34m:\u001b[0m\u001b[0;34m\u001b[0m\u001b[0;34m\u001b[0m\u001b[0m\n\u001b[1;32m     39\u001b[0m         raise LinAlgError(\"%d-th leading minor of the array is not positive \"\n\u001b[0;32m---> 40\u001b[0;31m                           \"definite\" % info)\n\u001b[0m\u001b[1;32m     41\u001b[0m     \u001b[0;32mif\u001b[0m \u001b[0minfo\u001b[0m \u001b[0;34m<\u001b[0m \u001b[0;36m0\u001b[0m\u001b[0;34m:\u001b[0m\u001b[0;34m\u001b[0m\u001b[0;34m\u001b[0m\u001b[0m\n\u001b[1;32m     42\u001b[0m         raise ValueError('LAPACK reported an illegal value in {}-th argument'\n",
            "\u001b[0;31mLinAlgError\u001b[0m: 10-th leading minor of the array is not positive definite"
          ]
        },
        {
          "output_type": "stream",
          "text": [
            "Exception ignored in: 'pomegranate.distributions.MultivariateGaussianDistribution.MultivariateGaussianDistribution._log_probability_missing'\n",
            "Traceback (most recent call last):\n",
            "  File \"pomegranate/distributions/MultivariateGaussianDistribution.pyx\", line 72, in pomegranate.distributions.MultivariateGaussianDistribution.MultivariateGaussianDistribution.__cinit__\n",
            "  File \"/usr/local/lib/python3.6/dist-packages/scipy/linalg/decomp_cholesky.py\", line 91, in cholesky\n",
            "    check_finite=check_finite)\n",
            "  File \"/usr/local/lib/python3.6/dist-packages/scipy/linalg/decomp_cholesky.py\", line 40, in _cholesky\n",
            "    \"definite\" % info)\n",
            "numpy.linalg.LinAlgError: 10-th leading minor of the array is not positive definite\n"
          ],
          "name": "stderr"
        },
        {
          "output_type": "error",
          "ename": "LinAlgError",
          "evalue": "ignored",
          "traceback": [
            "\u001b[0;31m---------------------------------------------------------------------------\u001b[0m",
            "\u001b[0;31mLinAlgError\u001b[0m                               Traceback (most recent call last)",
            "\u001b[0;32mpomegranate/distributions/MultivariateGaussianDistribution.pyx\u001b[0m in \u001b[0;36mpomegranate.distributions.MultivariateGaussianDistribution.MultivariateGaussianDistribution.__cinit__\u001b[0;34m()\u001b[0m\n",
            "\u001b[0;32m/usr/local/lib/python3.6/dist-packages/scipy/linalg/decomp_cholesky.py\u001b[0m in \u001b[0;36mcholesky\u001b[0;34m(a, lower, overwrite_a, check_finite)\u001b[0m\n\u001b[1;32m     89\u001b[0m     \"\"\"\n\u001b[1;32m     90\u001b[0m     c, lower = _cholesky(a, lower=lower, overwrite_a=overwrite_a, clean=True,\n\u001b[0;32m---> 91\u001b[0;31m                          check_finite=check_finite)\n\u001b[0m\u001b[1;32m     92\u001b[0m     \u001b[0;32mreturn\u001b[0m \u001b[0mc\u001b[0m\u001b[0;34m\u001b[0m\u001b[0;34m\u001b[0m\u001b[0m\n\u001b[1;32m     93\u001b[0m \u001b[0;34m\u001b[0m\u001b[0m\n",
            "\u001b[0;32m/usr/local/lib/python3.6/dist-packages/scipy/linalg/decomp_cholesky.py\u001b[0m in \u001b[0;36m_cholesky\u001b[0;34m(a, lower, overwrite_a, clean, check_finite)\u001b[0m\n\u001b[1;32m     38\u001b[0m     \u001b[0;32mif\u001b[0m \u001b[0minfo\u001b[0m \u001b[0;34m>\u001b[0m \u001b[0;36m0\u001b[0m\u001b[0;34m:\u001b[0m\u001b[0;34m\u001b[0m\u001b[0;34m\u001b[0m\u001b[0m\n\u001b[1;32m     39\u001b[0m         raise LinAlgError(\"%d-th leading minor of the array is not positive \"\n\u001b[0;32m---> 40\u001b[0;31m                           \"definite\" % info)\n\u001b[0m\u001b[1;32m     41\u001b[0m     \u001b[0;32mif\u001b[0m \u001b[0minfo\u001b[0m \u001b[0;34m<\u001b[0m \u001b[0;36m0\u001b[0m\u001b[0;34m:\u001b[0m\u001b[0;34m\u001b[0m\u001b[0;34m\u001b[0m\u001b[0m\n\u001b[1;32m     42\u001b[0m         raise ValueError('LAPACK reported an illegal value in {}-th argument'\n",
            "\u001b[0;31mLinAlgError\u001b[0m: 4-th leading minor of the array is not positive definite"
          ]
        },
        {
          "output_type": "stream",
          "text": [
            "Exception ignored in: 'pomegranate.distributions.MultivariateGaussianDistribution.MultivariateGaussianDistribution._log_probability_missing'\n",
            "Traceback (most recent call last):\n",
            "  File \"pomegranate/distributions/MultivariateGaussianDistribution.pyx\", line 72, in pomegranate.distributions.MultivariateGaussianDistribution.MultivariateGaussianDistribution.__cinit__\n",
            "  File \"/usr/local/lib/python3.6/dist-packages/scipy/linalg/decomp_cholesky.py\", line 91, in cholesky\n",
            "    check_finite=check_finite)\n",
            "  File \"/usr/local/lib/python3.6/dist-packages/scipy/linalg/decomp_cholesky.py\", line 40, in _cholesky\n",
            "    \"definite\" % info)\n",
            "numpy.linalg.LinAlgError: 4-th leading minor of the array is not positive definite\n"
          ],
          "name": "stderr"
        },
        {
          "output_type": "error",
          "ename": "LinAlgError",
          "evalue": "ignored",
          "traceback": [
            "\u001b[0;31m---------------------------------------------------------------------------\u001b[0m",
            "\u001b[0;31mLinAlgError\u001b[0m                               Traceback (most recent call last)",
            "\u001b[0;32mpomegranate/distributions/MultivariateGaussianDistribution.pyx\u001b[0m in \u001b[0;36mpomegranate.distributions.MultivariateGaussianDistribution.MultivariateGaussianDistribution.__cinit__\u001b[0;34m()\u001b[0m\n",
            "\u001b[0;32m/usr/local/lib/python3.6/dist-packages/scipy/linalg/decomp_cholesky.py\u001b[0m in \u001b[0;36mcholesky\u001b[0;34m(a, lower, overwrite_a, check_finite)\u001b[0m\n\u001b[1;32m     89\u001b[0m     \"\"\"\n\u001b[1;32m     90\u001b[0m     c, lower = _cholesky(a, lower=lower, overwrite_a=overwrite_a, clean=True,\n\u001b[0;32m---> 91\u001b[0;31m                          check_finite=check_finite)\n\u001b[0m\u001b[1;32m     92\u001b[0m     \u001b[0;32mreturn\u001b[0m \u001b[0mc\u001b[0m\u001b[0;34m\u001b[0m\u001b[0;34m\u001b[0m\u001b[0m\n\u001b[1;32m     93\u001b[0m \u001b[0;34m\u001b[0m\u001b[0m\n",
            "\u001b[0;32m/usr/local/lib/python3.6/dist-packages/scipy/linalg/decomp_cholesky.py\u001b[0m in \u001b[0;36m_cholesky\u001b[0;34m(a, lower, overwrite_a, clean, check_finite)\u001b[0m\n\u001b[1;32m     38\u001b[0m     \u001b[0;32mif\u001b[0m \u001b[0minfo\u001b[0m \u001b[0;34m>\u001b[0m \u001b[0;36m0\u001b[0m\u001b[0;34m:\u001b[0m\u001b[0;34m\u001b[0m\u001b[0;34m\u001b[0m\u001b[0m\n\u001b[1;32m     39\u001b[0m         raise LinAlgError(\"%d-th leading minor of the array is not positive \"\n\u001b[0;32m---> 40\u001b[0;31m                           \"definite\" % info)\n\u001b[0m\u001b[1;32m     41\u001b[0m     \u001b[0;32mif\u001b[0m \u001b[0minfo\u001b[0m \u001b[0;34m<\u001b[0m \u001b[0;36m0\u001b[0m\u001b[0;34m:\u001b[0m\u001b[0;34m\u001b[0m\u001b[0;34m\u001b[0m\u001b[0m\n\u001b[1;32m     42\u001b[0m         raise ValueError('LAPACK reported an illegal value in {}-th argument'\n",
            "\u001b[0;31mLinAlgError\u001b[0m: 4-th leading minor of the array is not positive definite"
          ]
        },
        {
          "output_type": "stream",
          "text": [
            "Exception ignored in: 'pomegranate.distributions.MultivariateGaussianDistribution.MultivariateGaussianDistribution._log_probability_missing'\n",
            "Traceback (most recent call last):\n",
            "  File \"pomegranate/distributions/MultivariateGaussianDistribution.pyx\", line 72, in pomegranate.distributions.MultivariateGaussianDistribution.MultivariateGaussianDistribution.__cinit__\n",
            "  File \"/usr/local/lib/python3.6/dist-packages/scipy/linalg/decomp_cholesky.py\", line 91, in cholesky\n",
            "    check_finite=check_finite)\n",
            "  File \"/usr/local/lib/python3.6/dist-packages/scipy/linalg/decomp_cholesky.py\", line 40, in _cholesky\n",
            "    \"definite\" % info)\n",
            "numpy.linalg.LinAlgError: 4-th leading minor of the array is not positive definite\n"
          ],
          "name": "stderr"
        },
        {
          "output_type": "error",
          "ename": "LinAlgError",
          "evalue": "ignored",
          "traceback": [
            "\u001b[0;31m---------------------------------------------------------------------------\u001b[0m",
            "\u001b[0;31mLinAlgError\u001b[0m                               Traceback (most recent call last)",
            "\u001b[0;32mpomegranate/distributions/MultivariateGaussianDistribution.pyx\u001b[0m in \u001b[0;36mpomegranate.distributions.MultivariateGaussianDistribution.MultivariateGaussianDistribution.__cinit__\u001b[0;34m()\u001b[0m\n",
            "\u001b[0;32m/usr/local/lib/python3.6/dist-packages/scipy/linalg/decomp_cholesky.py\u001b[0m in \u001b[0;36mcholesky\u001b[0;34m(a, lower, overwrite_a, check_finite)\u001b[0m\n\u001b[1;32m     89\u001b[0m     \"\"\"\n\u001b[1;32m     90\u001b[0m     c, lower = _cholesky(a, lower=lower, overwrite_a=overwrite_a, clean=True,\n\u001b[0;32m---> 91\u001b[0;31m                          check_finite=check_finite)\n\u001b[0m\u001b[1;32m     92\u001b[0m     \u001b[0;32mreturn\u001b[0m \u001b[0mc\u001b[0m\u001b[0;34m\u001b[0m\u001b[0;34m\u001b[0m\u001b[0m\n\u001b[1;32m     93\u001b[0m \u001b[0;34m\u001b[0m\u001b[0m\n",
            "\u001b[0;32m/usr/local/lib/python3.6/dist-packages/scipy/linalg/decomp_cholesky.py\u001b[0m in \u001b[0;36m_cholesky\u001b[0;34m(a, lower, overwrite_a, clean, check_finite)\u001b[0m\n\u001b[1;32m     38\u001b[0m     \u001b[0;32mif\u001b[0m \u001b[0minfo\u001b[0m \u001b[0;34m>\u001b[0m \u001b[0;36m0\u001b[0m\u001b[0;34m:\u001b[0m\u001b[0;34m\u001b[0m\u001b[0;34m\u001b[0m\u001b[0m\n\u001b[1;32m     39\u001b[0m         raise LinAlgError(\"%d-th leading minor of the array is not positive \"\n\u001b[0;32m---> 40\u001b[0;31m                           \"definite\" % info)\n\u001b[0m\u001b[1;32m     41\u001b[0m     \u001b[0;32mif\u001b[0m \u001b[0minfo\u001b[0m \u001b[0;34m<\u001b[0m \u001b[0;36m0\u001b[0m\u001b[0;34m:\u001b[0m\u001b[0;34m\u001b[0m\u001b[0;34m\u001b[0m\u001b[0m\n\u001b[1;32m     42\u001b[0m         raise ValueError('LAPACK reported an illegal value in {}-th argument'\n",
            "\u001b[0;31mLinAlgError\u001b[0m: 4-th leading minor of the array is not positive definite"
          ]
        },
        {
          "output_type": "stream",
          "text": [
            "Exception ignored in: 'pomegranate.distributions.MultivariateGaussianDistribution.MultivariateGaussianDistribution._log_probability_missing'\n",
            "Traceback (most recent call last):\n",
            "  File \"pomegranate/distributions/MultivariateGaussianDistribution.pyx\", line 72, in pomegranate.distributions.MultivariateGaussianDistribution.MultivariateGaussianDistribution.__cinit__\n",
            "  File \"/usr/local/lib/python3.6/dist-packages/scipy/linalg/decomp_cholesky.py\", line 91, in cholesky\n",
            "    check_finite=check_finite)\n",
            "  File \"/usr/local/lib/python3.6/dist-packages/scipy/linalg/decomp_cholesky.py\", line 40, in _cholesky\n",
            "    \"definite\" % info)\n",
            "numpy.linalg.LinAlgError: 4-th leading minor of the array is not positive definite\n"
          ],
          "name": "stderr"
        },
        {
          "output_type": "error",
          "ename": "LinAlgError",
          "evalue": "ignored",
          "traceback": [
            "\u001b[0;31m---------------------------------------------------------------------------\u001b[0m",
            "\u001b[0;31mLinAlgError\u001b[0m                               Traceback (most recent call last)",
            "\u001b[0;32mpomegranate/distributions/MultivariateGaussianDistribution.pyx\u001b[0m in \u001b[0;36mpomegranate.distributions.MultivariateGaussianDistribution.MultivariateGaussianDistribution.__cinit__\u001b[0;34m()\u001b[0m\n",
            "\u001b[0;32m/usr/local/lib/python3.6/dist-packages/scipy/linalg/decomp_cholesky.py\u001b[0m in \u001b[0;36mcholesky\u001b[0;34m(a, lower, overwrite_a, check_finite)\u001b[0m\n\u001b[1;32m     89\u001b[0m     \"\"\"\n\u001b[1;32m     90\u001b[0m     c, lower = _cholesky(a, lower=lower, overwrite_a=overwrite_a, clean=True,\n\u001b[0;32m---> 91\u001b[0;31m                          check_finite=check_finite)\n\u001b[0m\u001b[1;32m     92\u001b[0m     \u001b[0;32mreturn\u001b[0m \u001b[0mc\u001b[0m\u001b[0;34m\u001b[0m\u001b[0;34m\u001b[0m\u001b[0m\n\u001b[1;32m     93\u001b[0m \u001b[0;34m\u001b[0m\u001b[0m\n",
            "\u001b[0;32m/usr/local/lib/python3.6/dist-packages/scipy/linalg/decomp_cholesky.py\u001b[0m in \u001b[0;36m_cholesky\u001b[0;34m(a, lower, overwrite_a, clean, check_finite)\u001b[0m\n\u001b[1;32m     38\u001b[0m     \u001b[0;32mif\u001b[0m \u001b[0minfo\u001b[0m \u001b[0;34m>\u001b[0m \u001b[0;36m0\u001b[0m\u001b[0;34m:\u001b[0m\u001b[0;34m\u001b[0m\u001b[0;34m\u001b[0m\u001b[0m\n\u001b[1;32m     39\u001b[0m         raise LinAlgError(\"%d-th leading minor of the array is not positive \"\n\u001b[0;32m---> 40\u001b[0;31m                           \"definite\" % info)\n\u001b[0m\u001b[1;32m     41\u001b[0m     \u001b[0;32mif\u001b[0m \u001b[0minfo\u001b[0m \u001b[0;34m<\u001b[0m \u001b[0;36m0\u001b[0m\u001b[0;34m:\u001b[0m\u001b[0;34m\u001b[0m\u001b[0;34m\u001b[0m\u001b[0m\n\u001b[1;32m     42\u001b[0m         raise ValueError('LAPACK reported an illegal value in {}-th argument'\n",
            "\u001b[0;31mLinAlgError\u001b[0m: 3-th leading minor of the array is not positive definite"
          ]
        },
        {
          "output_type": "stream",
          "text": [
            "Exception ignored in: 'pomegranate.distributions.MultivariateGaussianDistribution.MultivariateGaussianDistribution._log_probability_missing'\n",
            "Traceback (most recent call last):\n",
            "  File \"pomegranate/distributions/MultivariateGaussianDistribution.pyx\", line 72, in pomegranate.distributions.MultivariateGaussianDistribution.MultivariateGaussianDistribution.__cinit__\n",
            "  File \"/usr/local/lib/python3.6/dist-packages/scipy/linalg/decomp_cholesky.py\", line 91, in cholesky\n",
            "    check_finite=check_finite)\n",
            "  File \"/usr/local/lib/python3.6/dist-packages/scipy/linalg/decomp_cholesky.py\", line 40, in _cholesky\n",
            "    \"definite\" % info)\n",
            "numpy.linalg.LinAlgError: 3-th leading minor of the array is not positive definite\n"
          ],
          "name": "stderr"
        },
        {
          "output_type": "error",
          "ename": "LinAlgError",
          "evalue": "ignored",
          "traceback": [
            "\u001b[0;31m---------------------------------------------------------------------------\u001b[0m",
            "\u001b[0;31mLinAlgError\u001b[0m                               Traceback (most recent call last)",
            "\u001b[0;32mpomegranate/distributions/MultivariateGaussianDistribution.pyx\u001b[0m in \u001b[0;36mpomegranate.distributions.MultivariateGaussianDistribution.MultivariateGaussianDistribution.__cinit__\u001b[0;34m()\u001b[0m\n",
            "\u001b[0;32m/usr/local/lib/python3.6/dist-packages/scipy/linalg/decomp_cholesky.py\u001b[0m in \u001b[0;36mcholesky\u001b[0;34m(a, lower, overwrite_a, check_finite)\u001b[0m\n\u001b[1;32m     89\u001b[0m     \"\"\"\n\u001b[1;32m     90\u001b[0m     c, lower = _cholesky(a, lower=lower, overwrite_a=overwrite_a, clean=True,\n\u001b[0;32m---> 91\u001b[0;31m                          check_finite=check_finite)\n\u001b[0m\u001b[1;32m     92\u001b[0m     \u001b[0;32mreturn\u001b[0m \u001b[0mc\u001b[0m\u001b[0;34m\u001b[0m\u001b[0;34m\u001b[0m\u001b[0m\n\u001b[1;32m     93\u001b[0m \u001b[0;34m\u001b[0m\u001b[0m\n",
            "\u001b[0;32m/usr/local/lib/python3.6/dist-packages/scipy/linalg/decomp_cholesky.py\u001b[0m in \u001b[0;36m_cholesky\u001b[0;34m(a, lower, overwrite_a, clean, check_finite)\u001b[0m\n\u001b[1;32m     38\u001b[0m     \u001b[0;32mif\u001b[0m \u001b[0minfo\u001b[0m \u001b[0;34m>\u001b[0m \u001b[0;36m0\u001b[0m\u001b[0;34m:\u001b[0m\u001b[0;34m\u001b[0m\u001b[0;34m\u001b[0m\u001b[0m\n\u001b[1;32m     39\u001b[0m         raise LinAlgError(\"%d-th leading minor of the array is not positive \"\n\u001b[0;32m---> 40\u001b[0;31m                           \"definite\" % info)\n\u001b[0m\u001b[1;32m     41\u001b[0m     \u001b[0;32mif\u001b[0m \u001b[0minfo\u001b[0m \u001b[0;34m<\u001b[0m \u001b[0;36m0\u001b[0m\u001b[0;34m:\u001b[0m\u001b[0;34m\u001b[0m\u001b[0;34m\u001b[0m\u001b[0m\n\u001b[1;32m     42\u001b[0m         raise ValueError('LAPACK reported an illegal value in {}-th argument'\n",
            "\u001b[0;31mLinAlgError\u001b[0m: 4-th leading minor of the array is not positive definite"
          ]
        },
        {
          "output_type": "stream",
          "text": [
            "Exception ignored in: 'pomegranate.distributions.MultivariateGaussianDistribution.MultivariateGaussianDistribution._log_probability_missing'\n",
            "Traceback (most recent call last):\n",
            "  File \"pomegranate/distributions/MultivariateGaussianDistribution.pyx\", line 72, in pomegranate.distributions.MultivariateGaussianDistribution.MultivariateGaussianDistribution.__cinit__\n",
            "  File \"/usr/local/lib/python3.6/dist-packages/scipy/linalg/decomp_cholesky.py\", line 91, in cholesky\n",
            "    check_finite=check_finite)\n",
            "  File \"/usr/local/lib/python3.6/dist-packages/scipy/linalg/decomp_cholesky.py\", line 40, in _cholesky\n",
            "    \"definite\" % info)\n",
            "numpy.linalg.LinAlgError: 4-th leading minor of the array is not positive definite\n"
          ],
          "name": "stderr"
        },
        {
          "output_type": "error",
          "ename": "LinAlgError",
          "evalue": "ignored",
          "traceback": [
            "\u001b[0;31m---------------------------------------------------------------------------\u001b[0m",
            "\u001b[0;31mLinAlgError\u001b[0m                               Traceback (most recent call last)",
            "\u001b[0;32mpomegranate/distributions/MultivariateGaussianDistribution.pyx\u001b[0m in \u001b[0;36mpomegranate.distributions.MultivariateGaussianDistribution.MultivariateGaussianDistribution.__cinit__\u001b[0;34m()\u001b[0m\n",
            "\u001b[0;32m/usr/local/lib/python3.6/dist-packages/scipy/linalg/decomp_cholesky.py\u001b[0m in \u001b[0;36mcholesky\u001b[0;34m(a, lower, overwrite_a, check_finite)\u001b[0m\n\u001b[1;32m     89\u001b[0m     \"\"\"\n\u001b[1;32m     90\u001b[0m     c, lower = _cholesky(a, lower=lower, overwrite_a=overwrite_a, clean=True,\n\u001b[0;32m---> 91\u001b[0;31m                          check_finite=check_finite)\n\u001b[0m\u001b[1;32m     92\u001b[0m     \u001b[0;32mreturn\u001b[0m \u001b[0mc\u001b[0m\u001b[0;34m\u001b[0m\u001b[0;34m\u001b[0m\u001b[0m\n\u001b[1;32m     93\u001b[0m \u001b[0;34m\u001b[0m\u001b[0m\n",
            "\u001b[0;32m/usr/local/lib/python3.6/dist-packages/scipy/linalg/decomp_cholesky.py\u001b[0m in \u001b[0;36m_cholesky\u001b[0;34m(a, lower, overwrite_a, clean, check_finite)\u001b[0m\n\u001b[1;32m     38\u001b[0m     \u001b[0;32mif\u001b[0m \u001b[0minfo\u001b[0m \u001b[0;34m>\u001b[0m \u001b[0;36m0\u001b[0m\u001b[0;34m:\u001b[0m\u001b[0;34m\u001b[0m\u001b[0;34m\u001b[0m\u001b[0m\n\u001b[1;32m     39\u001b[0m         raise LinAlgError(\"%d-th leading minor of the array is not positive \"\n\u001b[0;32m---> 40\u001b[0;31m                           \"definite\" % info)\n\u001b[0m\u001b[1;32m     41\u001b[0m     \u001b[0;32mif\u001b[0m \u001b[0minfo\u001b[0m \u001b[0;34m<\u001b[0m \u001b[0;36m0\u001b[0m\u001b[0;34m:\u001b[0m\u001b[0;34m\u001b[0m\u001b[0;34m\u001b[0m\u001b[0m\n\u001b[1;32m     42\u001b[0m         raise ValueError('LAPACK reported an illegal value in {}-th argument'\n",
            "\u001b[0;31mLinAlgError\u001b[0m: 4-th leading minor of the array is not positive definite"
          ]
        },
        {
          "output_type": "stream",
          "text": [
            "Exception ignored in: 'pomegranate.distributions.MultivariateGaussianDistribution.MultivariateGaussianDistribution._log_probability_missing'\n",
            "Traceback (most recent call last):\n",
            "  File \"pomegranate/distributions/MultivariateGaussianDistribution.pyx\", line 72, in pomegranate.distributions.MultivariateGaussianDistribution.MultivariateGaussianDistribution.__cinit__\n",
            "  File \"/usr/local/lib/python3.6/dist-packages/scipy/linalg/decomp_cholesky.py\", line 91, in cholesky\n",
            "    check_finite=check_finite)\n",
            "  File \"/usr/local/lib/python3.6/dist-packages/scipy/linalg/decomp_cholesky.py\", line 40, in _cholesky\n",
            "    \"definite\" % info)\n",
            "numpy.linalg.LinAlgError: 4-th leading minor of the array is not positive definite\n"
          ],
          "name": "stderr"
        },
        {
          "output_type": "error",
          "ename": "LinAlgError",
          "evalue": "ignored",
          "traceback": [
            "\u001b[0;31m---------------------------------------------------------------------------\u001b[0m",
            "\u001b[0;31mLinAlgError\u001b[0m                               Traceback (most recent call last)",
            "\u001b[0;32mpomegranate/distributions/MultivariateGaussianDistribution.pyx\u001b[0m in \u001b[0;36mpomegranate.distributions.MultivariateGaussianDistribution.MultivariateGaussianDistribution.__cinit__\u001b[0;34m()\u001b[0m\n",
            "\u001b[0;32m/usr/local/lib/python3.6/dist-packages/scipy/linalg/decomp_cholesky.py\u001b[0m in \u001b[0;36mcholesky\u001b[0;34m(a, lower, overwrite_a, check_finite)\u001b[0m\n\u001b[1;32m     89\u001b[0m     \"\"\"\n\u001b[1;32m     90\u001b[0m     c, lower = _cholesky(a, lower=lower, overwrite_a=overwrite_a, clean=True,\n\u001b[0;32m---> 91\u001b[0;31m                          check_finite=check_finite)\n\u001b[0m\u001b[1;32m     92\u001b[0m     \u001b[0;32mreturn\u001b[0m \u001b[0mc\u001b[0m\u001b[0;34m\u001b[0m\u001b[0;34m\u001b[0m\u001b[0m\n\u001b[1;32m     93\u001b[0m \u001b[0;34m\u001b[0m\u001b[0m\n",
            "\u001b[0;32m/usr/local/lib/python3.6/dist-packages/scipy/linalg/decomp_cholesky.py\u001b[0m in \u001b[0;36m_cholesky\u001b[0;34m(a, lower, overwrite_a, clean, check_finite)\u001b[0m\n\u001b[1;32m     38\u001b[0m     \u001b[0;32mif\u001b[0m \u001b[0minfo\u001b[0m \u001b[0;34m>\u001b[0m \u001b[0;36m0\u001b[0m\u001b[0;34m:\u001b[0m\u001b[0;34m\u001b[0m\u001b[0;34m\u001b[0m\u001b[0m\n\u001b[1;32m     39\u001b[0m         raise LinAlgError(\"%d-th leading minor of the array is not positive \"\n\u001b[0;32m---> 40\u001b[0;31m                           \"definite\" % info)\n\u001b[0m\u001b[1;32m     41\u001b[0m     \u001b[0;32mif\u001b[0m \u001b[0minfo\u001b[0m \u001b[0;34m<\u001b[0m \u001b[0;36m0\u001b[0m\u001b[0;34m:\u001b[0m\u001b[0;34m\u001b[0m\u001b[0;34m\u001b[0m\u001b[0m\n\u001b[1;32m     42\u001b[0m         raise ValueError('LAPACK reported an illegal value in {}-th argument'\n",
            "\u001b[0;31mLinAlgError\u001b[0m: 4-th leading minor of the array is not positive definite"
          ]
        },
        {
          "output_type": "stream",
          "text": [
            "Exception ignored in: 'pomegranate.distributions.MultivariateGaussianDistribution.MultivariateGaussianDistribution._log_probability_missing'\n",
            "Traceback (most recent call last):\n",
            "  File \"pomegranate/distributions/MultivariateGaussianDistribution.pyx\", line 72, in pomegranate.distributions.MultivariateGaussianDistribution.MultivariateGaussianDistribution.__cinit__\n",
            "  File \"/usr/local/lib/python3.6/dist-packages/scipy/linalg/decomp_cholesky.py\", line 91, in cholesky\n",
            "    check_finite=check_finite)\n",
            "  File \"/usr/local/lib/python3.6/dist-packages/scipy/linalg/decomp_cholesky.py\", line 40, in _cholesky\n",
            "    \"definite\" % info)\n",
            "numpy.linalg.LinAlgError: 4-th leading minor of the array is not positive definite\n"
          ],
          "name": "stderr"
        },
        {
          "output_type": "error",
          "ename": "LinAlgError",
          "evalue": "ignored",
          "traceback": [
            "\u001b[0;31m---------------------------------------------------------------------------\u001b[0m",
            "\u001b[0;31mLinAlgError\u001b[0m                               Traceback (most recent call last)",
            "\u001b[0;32mpomegranate/distributions/MultivariateGaussianDistribution.pyx\u001b[0m in \u001b[0;36mpomegranate.distributions.MultivariateGaussianDistribution.MultivariateGaussianDistribution.__cinit__\u001b[0;34m()\u001b[0m\n",
            "\u001b[0;32m/usr/local/lib/python3.6/dist-packages/scipy/linalg/decomp_cholesky.py\u001b[0m in \u001b[0;36mcholesky\u001b[0;34m(a, lower, overwrite_a, check_finite)\u001b[0m\n\u001b[1;32m     89\u001b[0m     \"\"\"\n\u001b[1;32m     90\u001b[0m     c, lower = _cholesky(a, lower=lower, overwrite_a=overwrite_a, clean=True,\n\u001b[0;32m---> 91\u001b[0;31m                          check_finite=check_finite)\n\u001b[0m\u001b[1;32m     92\u001b[0m     \u001b[0;32mreturn\u001b[0m \u001b[0mc\u001b[0m\u001b[0;34m\u001b[0m\u001b[0;34m\u001b[0m\u001b[0m\n\u001b[1;32m     93\u001b[0m \u001b[0;34m\u001b[0m\u001b[0m\n",
            "\u001b[0;32m/usr/local/lib/python3.6/dist-packages/scipy/linalg/decomp_cholesky.py\u001b[0m in \u001b[0;36m_cholesky\u001b[0;34m(a, lower, overwrite_a, clean, check_finite)\u001b[0m\n\u001b[1;32m     38\u001b[0m     \u001b[0;32mif\u001b[0m \u001b[0minfo\u001b[0m \u001b[0;34m>\u001b[0m \u001b[0;36m0\u001b[0m\u001b[0;34m:\u001b[0m\u001b[0;34m\u001b[0m\u001b[0;34m\u001b[0m\u001b[0m\n\u001b[1;32m     39\u001b[0m         raise LinAlgError(\"%d-th leading minor of the array is not positive \"\n\u001b[0;32m---> 40\u001b[0;31m                           \"definite\" % info)\n\u001b[0m\u001b[1;32m     41\u001b[0m     \u001b[0;32mif\u001b[0m \u001b[0minfo\u001b[0m \u001b[0;34m<\u001b[0m \u001b[0;36m0\u001b[0m\u001b[0;34m:\u001b[0m\u001b[0;34m\u001b[0m\u001b[0;34m\u001b[0m\u001b[0m\n\u001b[1;32m     42\u001b[0m         raise ValueError('LAPACK reported an illegal value in {}-th argument'\n",
            "\u001b[0;31mLinAlgError\u001b[0m: 3-th leading minor of the array is not positive definite"
          ]
        },
        {
          "output_type": "stream",
          "text": [
            "Exception ignored in: 'pomegranate.distributions.MultivariateGaussianDistribution.MultivariateGaussianDistribution._log_probability_missing'\n",
            "Traceback (most recent call last):\n",
            "  File \"pomegranate/distributions/MultivariateGaussianDistribution.pyx\", line 72, in pomegranate.distributions.MultivariateGaussianDistribution.MultivariateGaussianDistribution.__cinit__\n",
            "  File \"/usr/local/lib/python3.6/dist-packages/scipy/linalg/decomp_cholesky.py\", line 91, in cholesky\n",
            "    check_finite=check_finite)\n",
            "  File \"/usr/local/lib/python3.6/dist-packages/scipy/linalg/decomp_cholesky.py\", line 40, in _cholesky\n",
            "    \"definite\" % info)\n",
            "numpy.linalg.LinAlgError: 3-th leading minor of the array is not positive definite\n"
          ],
          "name": "stderr"
        },
        {
          "output_type": "error",
          "ename": "LinAlgError",
          "evalue": "ignored",
          "traceback": [
            "\u001b[0;31m---------------------------------------------------------------------------\u001b[0m",
            "\u001b[0;31mLinAlgError\u001b[0m                               Traceback (most recent call last)",
            "\u001b[0;32mpomegranate/distributions/MultivariateGaussianDistribution.pyx\u001b[0m in \u001b[0;36mpomegranate.distributions.MultivariateGaussianDistribution.MultivariateGaussianDistribution.__cinit__\u001b[0;34m()\u001b[0m\n",
            "\u001b[0;32m/usr/local/lib/python3.6/dist-packages/scipy/linalg/decomp_cholesky.py\u001b[0m in \u001b[0;36mcholesky\u001b[0;34m(a, lower, overwrite_a, check_finite)\u001b[0m\n\u001b[1;32m     89\u001b[0m     \"\"\"\n\u001b[1;32m     90\u001b[0m     c, lower = _cholesky(a, lower=lower, overwrite_a=overwrite_a, clean=True,\n\u001b[0;32m---> 91\u001b[0;31m                          check_finite=check_finite)\n\u001b[0m\u001b[1;32m     92\u001b[0m     \u001b[0;32mreturn\u001b[0m \u001b[0mc\u001b[0m\u001b[0;34m\u001b[0m\u001b[0;34m\u001b[0m\u001b[0m\n\u001b[1;32m     93\u001b[0m \u001b[0;34m\u001b[0m\u001b[0m\n",
            "\u001b[0;32m/usr/local/lib/python3.6/dist-packages/scipy/linalg/decomp_cholesky.py\u001b[0m in \u001b[0;36m_cholesky\u001b[0;34m(a, lower, overwrite_a, clean, check_finite)\u001b[0m\n\u001b[1;32m     38\u001b[0m     \u001b[0;32mif\u001b[0m \u001b[0minfo\u001b[0m \u001b[0;34m>\u001b[0m \u001b[0;36m0\u001b[0m\u001b[0;34m:\u001b[0m\u001b[0;34m\u001b[0m\u001b[0;34m\u001b[0m\u001b[0m\n\u001b[1;32m     39\u001b[0m         raise LinAlgError(\"%d-th leading minor of the array is not positive \"\n\u001b[0;32m---> 40\u001b[0;31m                           \"definite\" % info)\n\u001b[0m\u001b[1;32m     41\u001b[0m     \u001b[0;32mif\u001b[0m \u001b[0minfo\u001b[0m \u001b[0;34m<\u001b[0m \u001b[0;36m0\u001b[0m\u001b[0;34m:\u001b[0m\u001b[0;34m\u001b[0m\u001b[0;34m\u001b[0m\u001b[0m\n\u001b[1;32m     42\u001b[0m         raise ValueError('LAPACK reported an illegal value in {}-th argument'\n",
            "\u001b[0;31mLinAlgError\u001b[0m: 4-th leading minor of the array is not positive definite"
          ]
        },
        {
          "output_type": "stream",
          "text": [
            "Exception ignored in: 'pomegranate.distributions.MultivariateGaussianDistribution.MultivariateGaussianDistribution._log_probability_missing'\n",
            "Traceback (most recent call last):\n",
            "  File \"pomegranate/distributions/MultivariateGaussianDistribution.pyx\", line 72, in pomegranate.distributions.MultivariateGaussianDistribution.MultivariateGaussianDistribution.__cinit__\n",
            "  File \"/usr/local/lib/python3.6/dist-packages/scipy/linalg/decomp_cholesky.py\", line 91, in cholesky\n",
            "    check_finite=check_finite)\n",
            "  File \"/usr/local/lib/python3.6/dist-packages/scipy/linalg/decomp_cholesky.py\", line 40, in _cholesky\n",
            "    \"definite\" % info)\n",
            "numpy.linalg.LinAlgError: 4-th leading minor of the array is not positive definite\n"
          ],
          "name": "stderr"
        },
        {
          "output_type": "error",
          "ename": "LinAlgError",
          "evalue": "ignored",
          "traceback": [
            "\u001b[0;31m---------------------------------------------------------------------------\u001b[0m",
            "\u001b[0;31mLinAlgError\u001b[0m                               Traceback (most recent call last)",
            "\u001b[0;32mpomegranate/distributions/MultivariateGaussianDistribution.pyx\u001b[0m in \u001b[0;36mpomegranate.distributions.MultivariateGaussianDistribution.MultivariateGaussianDistribution.__cinit__\u001b[0;34m()\u001b[0m\n",
            "\u001b[0;32m/usr/local/lib/python3.6/dist-packages/scipy/linalg/decomp_cholesky.py\u001b[0m in \u001b[0;36mcholesky\u001b[0;34m(a, lower, overwrite_a, check_finite)\u001b[0m\n\u001b[1;32m     89\u001b[0m     \"\"\"\n\u001b[1;32m     90\u001b[0m     c, lower = _cholesky(a, lower=lower, overwrite_a=overwrite_a, clean=True,\n\u001b[0;32m---> 91\u001b[0;31m                          check_finite=check_finite)\n\u001b[0m\u001b[1;32m     92\u001b[0m     \u001b[0;32mreturn\u001b[0m \u001b[0mc\u001b[0m\u001b[0;34m\u001b[0m\u001b[0;34m\u001b[0m\u001b[0m\n\u001b[1;32m     93\u001b[0m \u001b[0;34m\u001b[0m\u001b[0m\n",
            "\u001b[0;32m/usr/local/lib/python3.6/dist-packages/scipy/linalg/decomp_cholesky.py\u001b[0m in \u001b[0;36m_cholesky\u001b[0;34m(a, lower, overwrite_a, clean, check_finite)\u001b[0m\n\u001b[1;32m     38\u001b[0m     \u001b[0;32mif\u001b[0m \u001b[0minfo\u001b[0m \u001b[0;34m>\u001b[0m \u001b[0;36m0\u001b[0m\u001b[0;34m:\u001b[0m\u001b[0;34m\u001b[0m\u001b[0;34m\u001b[0m\u001b[0m\n\u001b[1;32m     39\u001b[0m         raise LinAlgError(\"%d-th leading minor of the array is not positive \"\n\u001b[0;32m---> 40\u001b[0;31m                           \"definite\" % info)\n\u001b[0m\u001b[1;32m     41\u001b[0m     \u001b[0;32mif\u001b[0m \u001b[0minfo\u001b[0m \u001b[0;34m<\u001b[0m \u001b[0;36m0\u001b[0m\u001b[0;34m:\u001b[0m\u001b[0;34m\u001b[0m\u001b[0;34m\u001b[0m\u001b[0m\n\u001b[1;32m     42\u001b[0m         raise ValueError('LAPACK reported an illegal value in {}-th argument'\n",
            "\u001b[0;31mLinAlgError\u001b[0m: 4-th leading minor of the array is not positive definite"
          ]
        },
        {
          "output_type": "stream",
          "text": [
            "Exception ignored in: 'pomegranate.distributions.MultivariateGaussianDistribution.MultivariateGaussianDistribution._log_probability_missing'\n",
            "Traceback (most recent call last):\n",
            "  File \"pomegranate/distributions/MultivariateGaussianDistribution.pyx\", line 72, in pomegranate.distributions.MultivariateGaussianDistribution.MultivariateGaussianDistribution.__cinit__\n",
            "  File \"/usr/local/lib/python3.6/dist-packages/scipy/linalg/decomp_cholesky.py\", line 91, in cholesky\n",
            "    check_finite=check_finite)\n",
            "  File \"/usr/local/lib/python3.6/dist-packages/scipy/linalg/decomp_cholesky.py\", line 40, in _cholesky\n",
            "    \"definite\" % info)\n",
            "numpy.linalg.LinAlgError: 4-th leading minor of the array is not positive definite\n"
          ],
          "name": "stderr"
        },
        {
          "output_type": "error",
          "ename": "LinAlgError",
          "evalue": "ignored",
          "traceback": [
            "\u001b[0;31m---------------------------------------------------------------------------\u001b[0m",
            "\u001b[0;31mLinAlgError\u001b[0m                               Traceback (most recent call last)",
            "\u001b[0;32mpomegranate/distributions/MultivariateGaussianDistribution.pyx\u001b[0m in \u001b[0;36mpomegranate.distributions.MultivariateGaussianDistribution.MultivariateGaussianDistribution.__cinit__\u001b[0;34m()\u001b[0m\n",
            "\u001b[0;32m/usr/local/lib/python3.6/dist-packages/scipy/linalg/decomp_cholesky.py\u001b[0m in \u001b[0;36mcholesky\u001b[0;34m(a, lower, overwrite_a, check_finite)\u001b[0m\n\u001b[1;32m     89\u001b[0m     \"\"\"\n\u001b[1;32m     90\u001b[0m     c, lower = _cholesky(a, lower=lower, overwrite_a=overwrite_a, clean=True,\n\u001b[0;32m---> 91\u001b[0;31m                          check_finite=check_finite)\n\u001b[0m\u001b[1;32m     92\u001b[0m     \u001b[0;32mreturn\u001b[0m \u001b[0mc\u001b[0m\u001b[0;34m\u001b[0m\u001b[0;34m\u001b[0m\u001b[0m\n\u001b[1;32m     93\u001b[0m \u001b[0;34m\u001b[0m\u001b[0m\n",
            "\u001b[0;32m/usr/local/lib/python3.6/dist-packages/scipy/linalg/decomp_cholesky.py\u001b[0m in \u001b[0;36m_cholesky\u001b[0;34m(a, lower, overwrite_a, clean, check_finite)\u001b[0m\n\u001b[1;32m     38\u001b[0m     \u001b[0;32mif\u001b[0m \u001b[0minfo\u001b[0m \u001b[0;34m>\u001b[0m \u001b[0;36m0\u001b[0m\u001b[0;34m:\u001b[0m\u001b[0;34m\u001b[0m\u001b[0;34m\u001b[0m\u001b[0m\n\u001b[1;32m     39\u001b[0m         raise LinAlgError(\"%d-th leading minor of the array is not positive \"\n\u001b[0;32m---> 40\u001b[0;31m                           \"definite\" % info)\n\u001b[0m\u001b[1;32m     41\u001b[0m     \u001b[0;32mif\u001b[0m \u001b[0minfo\u001b[0m \u001b[0;34m<\u001b[0m \u001b[0;36m0\u001b[0m\u001b[0;34m:\u001b[0m\u001b[0;34m\u001b[0m\u001b[0;34m\u001b[0m\u001b[0m\n\u001b[1;32m     42\u001b[0m         raise ValueError('LAPACK reported an illegal value in {}-th argument'\n",
            "\u001b[0;31mLinAlgError\u001b[0m: 4-th leading minor of the array is not positive definite"
          ]
        },
        {
          "output_type": "stream",
          "text": [
            "Exception ignored in: 'pomegranate.distributions.MultivariateGaussianDistribution.MultivariateGaussianDistribution._log_probability_missing'\n",
            "Traceback (most recent call last):\n",
            "  File \"pomegranate/distributions/MultivariateGaussianDistribution.pyx\", line 72, in pomegranate.distributions.MultivariateGaussianDistribution.MultivariateGaussianDistribution.__cinit__\n",
            "  File \"/usr/local/lib/python3.6/dist-packages/scipy/linalg/decomp_cholesky.py\", line 91, in cholesky\n",
            "    check_finite=check_finite)\n",
            "  File \"/usr/local/lib/python3.6/dist-packages/scipy/linalg/decomp_cholesky.py\", line 40, in _cholesky\n",
            "    \"definite\" % info)\n",
            "numpy.linalg.LinAlgError: 4-th leading minor of the array is not positive definite\n"
          ],
          "name": "stderr"
        },
        {
          "output_type": "error",
          "ename": "LinAlgError",
          "evalue": "ignored",
          "traceback": [
            "\u001b[0;31m---------------------------------------------------------------------------\u001b[0m",
            "\u001b[0;31mLinAlgError\u001b[0m                               Traceback (most recent call last)",
            "\u001b[0;32mpomegranate/distributions/MultivariateGaussianDistribution.pyx\u001b[0m in \u001b[0;36mpomegranate.distributions.MultivariateGaussianDistribution.MultivariateGaussianDistribution.__cinit__\u001b[0;34m()\u001b[0m\n",
            "\u001b[0;32m/usr/local/lib/python3.6/dist-packages/scipy/linalg/decomp_cholesky.py\u001b[0m in \u001b[0;36mcholesky\u001b[0;34m(a, lower, overwrite_a, check_finite)\u001b[0m\n\u001b[1;32m     89\u001b[0m     \"\"\"\n\u001b[1;32m     90\u001b[0m     c, lower = _cholesky(a, lower=lower, overwrite_a=overwrite_a, clean=True,\n\u001b[0;32m---> 91\u001b[0;31m                          check_finite=check_finite)\n\u001b[0m\u001b[1;32m     92\u001b[0m     \u001b[0;32mreturn\u001b[0m \u001b[0mc\u001b[0m\u001b[0;34m\u001b[0m\u001b[0;34m\u001b[0m\u001b[0m\n\u001b[1;32m     93\u001b[0m \u001b[0;34m\u001b[0m\u001b[0m\n",
            "\u001b[0;32m/usr/local/lib/python3.6/dist-packages/scipy/linalg/decomp_cholesky.py\u001b[0m in \u001b[0;36m_cholesky\u001b[0;34m(a, lower, overwrite_a, clean, check_finite)\u001b[0m\n\u001b[1;32m     38\u001b[0m     \u001b[0;32mif\u001b[0m \u001b[0minfo\u001b[0m \u001b[0;34m>\u001b[0m \u001b[0;36m0\u001b[0m\u001b[0;34m:\u001b[0m\u001b[0;34m\u001b[0m\u001b[0;34m\u001b[0m\u001b[0m\n\u001b[1;32m     39\u001b[0m         raise LinAlgError(\"%d-th leading minor of the array is not positive \"\n\u001b[0;32m---> 40\u001b[0;31m                           \"definite\" % info)\n\u001b[0m\u001b[1;32m     41\u001b[0m     \u001b[0;32mif\u001b[0m \u001b[0minfo\u001b[0m \u001b[0;34m<\u001b[0m \u001b[0;36m0\u001b[0m\u001b[0;34m:\u001b[0m\u001b[0;34m\u001b[0m\u001b[0;34m\u001b[0m\u001b[0m\n\u001b[1;32m     42\u001b[0m         raise ValueError('LAPACK reported an illegal value in {}-th argument'\n",
            "\u001b[0;31mLinAlgError\u001b[0m: 6-th leading minor of the array is not positive definite"
          ]
        },
        {
          "output_type": "stream",
          "text": [
            "Exception ignored in: 'pomegranate.distributions.MultivariateGaussianDistribution.MultivariateGaussianDistribution._log_probability_missing'\n",
            "Traceback (most recent call last):\n",
            "  File \"pomegranate/distributions/MultivariateGaussianDistribution.pyx\", line 72, in pomegranate.distributions.MultivariateGaussianDistribution.MultivariateGaussianDistribution.__cinit__\n",
            "  File \"/usr/local/lib/python3.6/dist-packages/scipy/linalg/decomp_cholesky.py\", line 91, in cholesky\n",
            "    check_finite=check_finite)\n",
            "  File \"/usr/local/lib/python3.6/dist-packages/scipy/linalg/decomp_cholesky.py\", line 40, in _cholesky\n",
            "    \"definite\" % info)\n",
            "numpy.linalg.LinAlgError: 6-th leading minor of the array is not positive definite\n"
          ],
          "name": "stderr"
        },
        {
          "output_type": "error",
          "ename": "LinAlgError",
          "evalue": "ignored",
          "traceback": [
            "\u001b[0;31m---------------------------------------------------------------------------\u001b[0m",
            "\u001b[0;31mLinAlgError\u001b[0m                               Traceback (most recent call last)",
            "\u001b[0;32mpomegranate/distributions/MultivariateGaussianDistribution.pyx\u001b[0m in \u001b[0;36mpomegranate.distributions.MultivariateGaussianDistribution.MultivariateGaussianDistribution.__cinit__\u001b[0;34m()\u001b[0m\n",
            "\u001b[0;32m/usr/local/lib/python3.6/dist-packages/scipy/linalg/decomp_cholesky.py\u001b[0m in \u001b[0;36mcholesky\u001b[0;34m(a, lower, overwrite_a, check_finite)\u001b[0m\n\u001b[1;32m     89\u001b[0m     \"\"\"\n\u001b[1;32m     90\u001b[0m     c, lower = _cholesky(a, lower=lower, overwrite_a=overwrite_a, clean=True,\n\u001b[0;32m---> 91\u001b[0;31m                          check_finite=check_finite)\n\u001b[0m\u001b[1;32m     92\u001b[0m     \u001b[0;32mreturn\u001b[0m \u001b[0mc\u001b[0m\u001b[0;34m\u001b[0m\u001b[0;34m\u001b[0m\u001b[0m\n\u001b[1;32m     93\u001b[0m \u001b[0;34m\u001b[0m\u001b[0m\n",
            "\u001b[0;32m/usr/local/lib/python3.6/dist-packages/scipy/linalg/decomp_cholesky.py\u001b[0m in \u001b[0;36m_cholesky\u001b[0;34m(a, lower, overwrite_a, clean, check_finite)\u001b[0m\n\u001b[1;32m     38\u001b[0m     \u001b[0;32mif\u001b[0m \u001b[0minfo\u001b[0m \u001b[0;34m>\u001b[0m \u001b[0;36m0\u001b[0m\u001b[0;34m:\u001b[0m\u001b[0;34m\u001b[0m\u001b[0;34m\u001b[0m\u001b[0m\n\u001b[1;32m     39\u001b[0m         raise LinAlgError(\"%d-th leading minor of the array is not positive \"\n\u001b[0;32m---> 40\u001b[0;31m                           \"definite\" % info)\n\u001b[0m\u001b[1;32m     41\u001b[0m     \u001b[0;32mif\u001b[0m \u001b[0minfo\u001b[0m \u001b[0;34m<\u001b[0m \u001b[0;36m0\u001b[0m\u001b[0;34m:\u001b[0m\u001b[0;34m\u001b[0m\u001b[0;34m\u001b[0m\u001b[0m\n\u001b[1;32m     42\u001b[0m         raise ValueError('LAPACK reported an illegal value in {}-th argument'\n",
            "\u001b[0;31mLinAlgError\u001b[0m: 10-th leading minor of the array is not positive definite"
          ]
        },
        {
          "output_type": "stream",
          "text": [
            "Exception ignored in: 'pomegranate.distributions.MultivariateGaussianDistribution.MultivariateGaussianDistribution._log_probability_missing'\n",
            "Traceback (most recent call last):\n",
            "  File \"pomegranate/distributions/MultivariateGaussianDistribution.pyx\", line 72, in pomegranate.distributions.MultivariateGaussianDistribution.MultivariateGaussianDistribution.__cinit__\n",
            "  File \"/usr/local/lib/python3.6/dist-packages/scipy/linalg/decomp_cholesky.py\", line 91, in cholesky\n",
            "    check_finite=check_finite)\n",
            "  File \"/usr/local/lib/python3.6/dist-packages/scipy/linalg/decomp_cholesky.py\", line 40, in _cholesky\n",
            "    \"definite\" % info)\n",
            "numpy.linalg.LinAlgError: 10-th leading minor of the array is not positive definite\n"
          ],
          "name": "stderr"
        },
        {
          "output_type": "error",
          "ename": "LinAlgError",
          "evalue": "ignored",
          "traceback": [
            "\u001b[0;31m---------------------------------------------------------------------------\u001b[0m",
            "\u001b[0;31mLinAlgError\u001b[0m                               Traceback (most recent call last)",
            "\u001b[0;32mpomegranate/distributions/MultivariateGaussianDistribution.pyx\u001b[0m in \u001b[0;36mpomegranate.distributions.MultivariateGaussianDistribution.MultivariateGaussianDistribution.__cinit__\u001b[0;34m()\u001b[0m\n",
            "\u001b[0;32m/usr/local/lib/python3.6/dist-packages/scipy/linalg/decomp_cholesky.py\u001b[0m in \u001b[0;36mcholesky\u001b[0;34m(a, lower, overwrite_a, check_finite)\u001b[0m\n\u001b[1;32m     89\u001b[0m     \"\"\"\n\u001b[1;32m     90\u001b[0m     c, lower = _cholesky(a, lower=lower, overwrite_a=overwrite_a, clean=True,\n\u001b[0;32m---> 91\u001b[0;31m                          check_finite=check_finite)\n\u001b[0m\u001b[1;32m     92\u001b[0m     \u001b[0;32mreturn\u001b[0m \u001b[0mc\u001b[0m\u001b[0;34m\u001b[0m\u001b[0;34m\u001b[0m\u001b[0m\n\u001b[1;32m     93\u001b[0m \u001b[0;34m\u001b[0m\u001b[0m\n",
            "\u001b[0;32m/usr/local/lib/python3.6/dist-packages/scipy/linalg/decomp_cholesky.py\u001b[0m in \u001b[0;36m_cholesky\u001b[0;34m(a, lower, overwrite_a, clean, check_finite)\u001b[0m\n\u001b[1;32m     38\u001b[0m     \u001b[0;32mif\u001b[0m \u001b[0minfo\u001b[0m \u001b[0;34m>\u001b[0m \u001b[0;36m0\u001b[0m\u001b[0;34m:\u001b[0m\u001b[0;34m\u001b[0m\u001b[0;34m\u001b[0m\u001b[0m\n\u001b[1;32m     39\u001b[0m         raise LinAlgError(\"%d-th leading minor of the array is not positive \"\n\u001b[0;32m---> 40\u001b[0;31m                           \"definite\" % info)\n\u001b[0m\u001b[1;32m     41\u001b[0m     \u001b[0;32mif\u001b[0m \u001b[0minfo\u001b[0m \u001b[0;34m<\u001b[0m \u001b[0;36m0\u001b[0m\u001b[0;34m:\u001b[0m\u001b[0;34m\u001b[0m\u001b[0;34m\u001b[0m\u001b[0m\n\u001b[1;32m     42\u001b[0m         raise ValueError('LAPACK reported an illegal value in {}-th argument'\n",
            "\u001b[0;31mLinAlgError\u001b[0m: 4-th leading minor of the array is not positive definite"
          ]
        },
        {
          "output_type": "stream",
          "text": [
            "Exception ignored in: 'pomegranate.distributions.MultivariateGaussianDistribution.MultivariateGaussianDistribution._log_probability_missing'\n",
            "Traceback (most recent call last):\n",
            "  File \"pomegranate/distributions/MultivariateGaussianDistribution.pyx\", line 72, in pomegranate.distributions.MultivariateGaussianDistribution.MultivariateGaussianDistribution.__cinit__\n",
            "  File \"/usr/local/lib/python3.6/dist-packages/scipy/linalg/decomp_cholesky.py\", line 91, in cholesky\n",
            "    check_finite=check_finite)\n",
            "  File \"/usr/local/lib/python3.6/dist-packages/scipy/linalg/decomp_cholesky.py\", line 40, in _cholesky\n",
            "    \"definite\" % info)\n",
            "numpy.linalg.LinAlgError: 4-th leading minor of the array is not positive definite\n"
          ],
          "name": "stderr"
        },
        {
          "output_type": "error",
          "ename": "LinAlgError",
          "evalue": "ignored",
          "traceback": [
            "\u001b[0;31m---------------------------------------------------------------------------\u001b[0m",
            "\u001b[0;31mLinAlgError\u001b[0m                               Traceback (most recent call last)",
            "\u001b[0;32mpomegranate/distributions/MultivariateGaussianDistribution.pyx\u001b[0m in \u001b[0;36mpomegranate.distributions.MultivariateGaussianDistribution.MultivariateGaussianDistribution.__cinit__\u001b[0;34m()\u001b[0m\n",
            "\u001b[0;32m/usr/local/lib/python3.6/dist-packages/scipy/linalg/decomp_cholesky.py\u001b[0m in \u001b[0;36mcholesky\u001b[0;34m(a, lower, overwrite_a, check_finite)\u001b[0m\n\u001b[1;32m     89\u001b[0m     \"\"\"\n\u001b[1;32m     90\u001b[0m     c, lower = _cholesky(a, lower=lower, overwrite_a=overwrite_a, clean=True,\n\u001b[0;32m---> 91\u001b[0;31m                          check_finite=check_finite)\n\u001b[0m\u001b[1;32m     92\u001b[0m     \u001b[0;32mreturn\u001b[0m \u001b[0mc\u001b[0m\u001b[0;34m\u001b[0m\u001b[0;34m\u001b[0m\u001b[0m\n\u001b[1;32m     93\u001b[0m \u001b[0;34m\u001b[0m\u001b[0m\n",
            "\u001b[0;32m/usr/local/lib/python3.6/dist-packages/scipy/linalg/decomp_cholesky.py\u001b[0m in \u001b[0;36m_cholesky\u001b[0;34m(a, lower, overwrite_a, clean, check_finite)\u001b[0m\n\u001b[1;32m     38\u001b[0m     \u001b[0;32mif\u001b[0m \u001b[0minfo\u001b[0m \u001b[0;34m>\u001b[0m \u001b[0;36m0\u001b[0m\u001b[0;34m:\u001b[0m\u001b[0;34m\u001b[0m\u001b[0;34m\u001b[0m\u001b[0m\n\u001b[1;32m     39\u001b[0m         raise LinAlgError(\"%d-th leading minor of the array is not positive \"\n\u001b[0;32m---> 40\u001b[0;31m                           \"definite\" % info)\n\u001b[0m\u001b[1;32m     41\u001b[0m     \u001b[0;32mif\u001b[0m \u001b[0minfo\u001b[0m \u001b[0;34m<\u001b[0m \u001b[0;36m0\u001b[0m\u001b[0;34m:\u001b[0m\u001b[0;34m\u001b[0m\u001b[0;34m\u001b[0m\u001b[0m\n\u001b[1;32m     42\u001b[0m         raise ValueError('LAPACK reported an illegal value in {}-th argument'\n",
            "\u001b[0;31mLinAlgError\u001b[0m: 4-th leading minor of the array is not positive definite"
          ]
        },
        {
          "output_type": "stream",
          "text": [
            "Exception ignored in: 'pomegranate.distributions.MultivariateGaussianDistribution.MultivariateGaussianDistribution._log_probability_missing'\n",
            "Traceback (most recent call last):\n",
            "  File \"pomegranate/distributions/MultivariateGaussianDistribution.pyx\", line 72, in pomegranate.distributions.MultivariateGaussianDistribution.MultivariateGaussianDistribution.__cinit__\n",
            "  File \"/usr/local/lib/python3.6/dist-packages/scipy/linalg/decomp_cholesky.py\", line 91, in cholesky\n",
            "    check_finite=check_finite)\n",
            "  File \"/usr/local/lib/python3.6/dist-packages/scipy/linalg/decomp_cholesky.py\", line 40, in _cholesky\n",
            "    \"definite\" % info)\n",
            "numpy.linalg.LinAlgError: 4-th leading minor of the array is not positive definite\n"
          ],
          "name": "stderr"
        },
        {
          "output_type": "stream",
          "text": [
            "[1] Improvement: nan\tTime (s): 5.572\n",
            "Total Training Improvement: nan\n",
            "Total Training Time (s): 7.1043\n"
          ],
          "name": "stdout"
        },
        {
          "output_type": "execute_result",
          "data": {
            "text/plain": [
              "{\n",
              "    \"class\" : \"HiddenMarkovModel\",\n",
              "    \"name\" : \"None\",\n",
              "    \"start\" : {\n",
              "        \"class\" : \"State\",\n",
              "        \"distribution\" : null,\n",
              "        \"name\" : \"None-start\",\n",
              "        \"weight\" : 1.0\n",
              "    },\n",
              "    \"end\" : {\n",
              "        \"class\" : \"State\",\n",
              "        \"distribution\" : null,\n",
              "        \"name\" : \"None-end\",\n",
              "        \"weight\" : 1.0\n",
              "    },\n",
              "    \"states\" : [\n",
              "        {\n",
              "            \"class\" : \"State\",\n",
              "            \"distribution\" : {\n",
              "                \"class\" : \"Distribution\",\n",
              "                \"name\" : \"MultivariateGaussianDistribution\",\n",
              "                \"parameters\" : [\n",
              "                    [\n",
              "                        1244.0995974431257,\n",
              "                        7.586322960731099,\n",
              "                        62.043838891450655,\n",
              "                        519.1412493577118,\n",
              "                        460.67255485306873,\n",
              "                        612.2432487390829,\n",
              "                        1.795000000835862,\n",
              "                        1119.3131441647142,\n",
              "                        705.7056192748211,\n",
              "                        929.5564694501394,\n",
              "                        744.6613838948783,\n",
              "                        1024.8867283748812,\n",
              "                        823.6807121325234,\n",
              "                        555.7872220856287,\n",
              "                        1.0000000004656613,\n",
              "                        702.3375226687751,\n",
              "                        553.5595179695532\n",
              "                    ],\n",
              "                    [\n",
              "                        [\n",
              "                            3152.113208817447,\n",
              "                            -232.67710430502967,\n",
              "                            -1902.9219884199629,\n",
              "                            -28143.19855459798,\n",
              "                            -21719.316018081638,\n",
              "                            -5355.725273324357,\n",
              "                            -55.05373348642251,\n",
              "                            -8977.446946002665,\n",
              "                            -20232.414417940607,\n",
              "                            0.917758831324802,\n",
              "                            -11965.364854813983,\n",
              "                            -32874.49886991929,\n",
              "                            1455.9119933678508,\n",
              "                            -20049.48897257044,\n",
              "                            -30.670603613605547,\n",
              "                            -20632.94773186315,\n",
              "                            -16449.108466788828\n",
              "                        ],\n",
              "                        [\n",
              "                            -232.67710430502967,\n",
              "                            57.55229601091612,\n",
              "                            470.684599115754,\n",
              "                            120.44682489356292,\n",
              "                            88.09013129195665,\n",
              "                            -10.317399221789884,\n",
              "                            13.617449708171202,\n",
              "                            -1.2896749027237355,\n",
              "                            3.8575056759887265,\n",
              "                            -0.22700612541086565,\n",
              "                            0.4568666365528361,\n",
              "                            0.7391087244468069,\n",
              "                            0.5905879259599912,\n",
              "                            0.6561681267166287,\n",
              "                            7.586322957198442,\n",
              "                            7.586322957198442,\n",
              "                            7.586322957198442\n",
              "                        ],\n",
              "                        [\n",
              "                            -1902.9219884199629,\n",
              "                            470.684599115754,\n",
              "                            3849.4379408032164,\n",
              "                            985.0600135751154,\n",
              "                            720.4346482605039,\n",
              "                            -84.3796208530806,\n",
              "                            111.36869075829382,\n",
              "                            -10.547452606635074,\n",
              "                            31.54815078698366,\n",
              "                            -1.856542562881725,\n",
              "                            3.736429379541126,\n",
              "                            6.044712683629804,\n",
              "                            4.830053020306222,\n",
              "                            5.3663928823547105,\n",
              "                            62.04383886255924,\n",
              "                            62.04383886255924,\n",
              "                            62.04383886255924\n",
              "                        ],\n",
              "                        [\n",
              "                            -28143.19855459798,\n",
              "                            120.44682489356292,\n",
              "                            985.0600135751154,\n",
              "                            253401.1042824509,\n",
              "                            184.35713870669565,\n",
              "                            -21.592500448430457,\n",
              "                            28.49892522421519,\n",
              "                            345280.8138227639,\n",
              "                            8.073080361444008,\n",
              "                            -0.4750838616749998,\n",
              "                            0.9561414502412404,\n",
              "                            360809.8667490381,\n",
              "                            1.2359965706470386,\n",
              "                            1.373244387059458,\n",
              "                            15.876838565022389,\n",
              "                            188848.4905143381,\n",
              "                            188659.93773060918\n",
              "                        ],\n",
              "                        [\n",
              "                            -21719.316018081638,\n",
              "                            88.09013129195665,\n",
              "                            720.4346482605039,\n",
              "                            184.35713870669565,\n",
              "                            403401.1847481311,\n",
              "                            -15.791916483516413,\n",
              "                            20.843007417582317,\n",
              "                            -1.9739895604395516,\n",
              "                            379661.7696957634,\n",
              "                            -0.3474578909541443,\n",
              "                            224620.83389806544,\n",
              "                            1.1312873523447364,\n",
              "                            0.9039599033093704,\n",
              "                            1.0043376274875566,\n",
              "                            11.611703296703242,\n",
              "                            11.611703296703242,\n",
              "                            11.611703296703242\n",
              "                        ],\n",
              "                        [\n",
              "                            -5355.725273324357,\n",
              "                            -10.317399221789884,\n",
              "                            -84.3796208530806,\n",
              "                            -21.592500448430457,\n",
              "                            -15.791916483516413,\n",
              "                            396649.9074610463,\n",
              "                            -2.4412000000000003,\n",
              "                            364554.2863902445,\n",
              "                            -0.6915349832775963,\n",
              "                            0.040695384615261336,\n",
              "                            -0.08190247491669031,\n",
              "                            -0.13250000967779307,\n",
              "                            500383.2679413379,\n",
              "                            528991.9891008,\n",
              "                            -1.3600000000000005,\n",
              "                            -1.3600000000000005,\n",
              "                            400882.3071467618\n",
              "                        ],\n",
              "                        [\n",
              "                            -55.05373348642251,\n",
              "                            13.617449708171202,\n",
              "                            111.36869075829382,\n",
              "                            28.49892522421519,\n",
              "                            20.843007417582317,\n",
              "                            -2.4412000000000003,\n",
              "                            3.2220249999999995,\n",
              "                            -0.30515000000000003,\n",
              "                            0.9127244816053567,\n",
              "                            -0.05371192307676034,\n",
              "                            0.10809922240842576,\n",
              "                            0.17488052747914598,\n",
              "                            0.13973901890009582,\n",
              "                            0.15525595128253109,\n",
              "                            1.795,\n",
              "                            1.795,\n",
              "                            1.795\n",
              "                        ],\n",
              "                        [\n",
              "                            -8977.446946002665,\n",
              "                            -1.2896749027237355,\n",
              "                            -10.547452606635074,\n",
              "                            345280.8138227639,\n",
              "                            -1.9739895604395516,\n",
              "                            364554.2863902445,\n",
              "                            -0.30515000000000003,\n",
              "                            390680.2064626151,\n",
              "                            -0.08644187290969954,\n",
              "                            0.005086923076907667,\n",
              "                            619817.6250678237,\n",
              "                            341072.46440744604,\n",
              "                            602620.7473665575,\n",
              "                            -0.014703906249599049,\n",
              "                            -0.17000000000000007,\n",
              "                            185559.3270817726,\n",
              "                            257183.4235962408\n",
              "                        ],\n",
              "                        [\n",
              "                            -20232.414417940607,\n",
              "                            3.8575056759887265,\n",
              "                            31.54815078698366,\n",
              "                            8.073080361444008,\n",
              "                            379661.7696957634,\n",
              "                            -0.6915349832775963,\n",
              "                            0.9127244816053567,\n",
              "                            -0.08644187290969954,\n",
              "                            612900.2400258159,\n",
              "                            -0.01521533419084671,\n",
              "                            211446.81795358533,\n",
              "                            0.04953957178677224,\n",
              "                            0.03958480259638926,\n",
              "                            0.04398038738076045,\n",
              "                            0.5084816053511735,\n",
              "                            0.5084816053511735,\n",
              "                            0.5084816053511735\n",
              "                        ],\n",
              "                        [\n",
              "                            0.917758831324802,\n",
              "                            -0.22700612541086565,\n",
              "                            -1.856542562881725,\n",
              "                            -0.4750838616749998,\n",
              "                            -0.3474578909541443,\n",
              "                            0.040695384615261336,\n",
              "                            -0.05371192307676034,\n",
              "                            0.005086923076907667,\n",
              "                            -0.01521533419084671,\n",
              "                            864130.8570292346,\n",
              "                            -0.0018020397478787325,\n",
              "                            -0.0029152999866801665,\n",
              "                            -0.0023294826806073534,\n",
              "                            -0.00217730104105857,\n",
              "                            -0.02992307692298626,\n",
              "                            -0.02992307692298626,\n",
              "                            -0.02992307692298626\n",
              "                        ],\n",
              "                        [\n",
              "                            -11965.364854813983,\n",
              "                            0.4568666365528361,\n",
              "                            3.736429379541126,\n",
              "                            0.9561414502412404,\n",
              "                            224620.83389806544,\n",
              "                            -0.08190247491669031,\n",
              "                            0.10809922240842576,\n",
              "                            619817.6250678237,\n",
              "                            211446.81795358533,\n",
              "                            -0.0018020397478787325,\n",
              "                            466736.42226859886,\n",
              "                            0.005867257092937212,\n",
              "                            0.004688256386346064,\n",
              "                            0.00520885083384581,\n",
              "                            0.06022240802697814,\n",
              "                            0.06022240802697814,\n",
              "                            0.06022240802697814\n",
              "                        ],\n",
              "                        [\n",
              "                            -32874.49886991929,\n",
              "                            0.7391087244468069,\n",
              "                            6.044712683629804,\n",
              "                            360809.8667490381,\n",
              "                            1.1312873523447364,\n",
              "                            -0.13250000967779307,\n",
              "                            0.17488052747914598,\n",
              "                            341072.46440744604,\n",
              "                            0.04953957178677224,\n",
              "                            -0.0029152999866801665,\n",
              "                            0.005867257092937212,\n",
              "                            532211.7409030965,\n",
              "                            0.007584557331078161,\n",
              "                            0.008426763496424029,\n",
              "                            0.0974264777042596,\n",
              "                            380129.7675289247,\n",
              "                            268748.79511935014\n",
              "                        ],\n",
              "                        [\n",
              "                            1455.9119933678508,\n",
              "                            0.5905879259599912,\n",
              "                            4.830053020306222,\n",
              "                            1.2359965706470386,\n",
              "                            0.9039599033093704,\n",
              "                            500383.2679413379,\n",
              "                            0.13973901890009582,\n",
              "                            602620.7473665575,\n",
              "                            0.03958480259638926,\n",
              "                            -0.0023294826806073534,\n",
              "                            0.004688256386346064,\n",
              "                            0.007584557331078161,\n",
              "                            679554.1022757316,\n",
              "                            591842.9580506674,\n",
              "                            0.07784903559893919,\n",
              "                            0.07784903559893919,\n",
              "                            448513.2146925706\n",
              "                        ],\n",
              "                        [\n",
              "                            -20049.48897257044,\n",
              "                            0.6561681267166287,\n",
              "                            5.3663928823547105,\n",
              "                            1.373244387059458,\n",
              "                            1.0043376274875566,\n",
              "                            528991.9891008,\n",
              "                            0.15525595128253109,\n",
              "                            -0.014703906249599049,\n",
              "                            0.04398038738076045,\n",
              "                            -0.00217730104105857,\n",
              "                            0.00520885083384581,\n",
              "                            0.008426763496424029,\n",
              "                            591842.9580506674,\n",
              "                            617606.6043395803,\n",
              "                            0.08649356617411201,\n",
              "                            0.08649356617411201,\n",
              "                            468037.5455945628\n",
              "                        ],\n",
              "                        [\n",
              "                            -30.670603613605547,\n",
              "                            7.586322957198442,\n",
              "                            62.04383886255924,\n",
              "                            15.876838565022389,\n",
              "                            11.611703296703242,\n",
              "                            -1.3600000000000005,\n",
              "                            1.795,\n",
              "                            -0.17000000000000007,\n",
              "                            0.5084816053511735,\n",
              "                            -0.02992307692298626,\n",
              "                            0.06022240802697814,\n",
              "                            0.0974264777042596,\n",
              "                            0.07784903559893919,\n",
              "                            0.08649356617411201,\n",
              "                            1.0,\n",
              "                            1.0,\n",
              "                            1.0\n",
              "                        ],\n",
              "                        [\n",
              "                            -20632.94773186315,\n",
              "                            7.586322957198442,\n",
              "                            62.04383886255924,\n",
              "                            188848.4905143381,\n",
              "                            11.611703296703242,\n",
              "                            -1.3600000000000005,\n",
              "                            1.795,\n",
              "                            185559.3270817726,\n",
              "                            0.5084816053511735,\n",
              "                            -0.02992307692298626,\n",
              "                            0.06022240802697814,\n",
              "                            380129.7675289247,\n",
              "                            0.07784903559893919,\n",
              "                            0.08649356617411201,\n",
              "                            1.0,\n",
              "                            306556.5687269661,\n",
              "                            140658.43402498556\n",
              "                        ],\n",
              "                        [\n",
              "                            -16449.108466788828,\n",
              "                            7.586322957198442,\n",
              "                            62.04383886255924,\n",
              "                            188659.93773060918,\n",
              "                            11.611703296703242,\n",
              "                            400882.3071467618,\n",
              "                            1.795,\n",
              "                            257183.4235962408,\n",
              "                            0.5084816053511735,\n",
              "                            -0.02992307692298626,\n",
              "                            0.06022240802697814,\n",
              "                            268748.79511935014,\n",
              "                            448513.2146925706,\n",
              "                            468037.5455945628,\n",
              "                            1.0,\n",
              "                            140658.43402498556,\n",
              "                            238727.6630446271\n",
              "                        ]\n",
              "                    ]\n",
              "                ],\n",
              "                \"frozen\" : false\n",
              "            },\n",
              "            \"name\" : \"12386f6b-a827-4b91-8870-e700085382f4\",\n",
              "            \"weight\" : 1.0\n",
              "        },\n",
              "        {\n",
              "            \"class\" : \"State\",\n",
              "            \"distribution\" : {\n",
              "                \"class\" : \"Distribution\",\n",
              "                \"name\" : \"MultivariateGaussianDistribution\",\n",
              "                \"parameters\" : [\n",
              "                    [\n",
              "                        755.3547529489947,\n",
              "                        10.558727135086048,\n",
              "                        103.5162330898516,\n",
              "                        2.7337024280510285,\n",
              "                        3.559985500189166,\n",
              "                        -1.2751746724890831,\n",
              "                        -0.1797379912663756,\n",
              "                        -2.3967248908296943,\n",
              "                        1.0153750888256328,\n",
              "                        -0.05966212662216594,\n",
              "                        0.12172087707423372,\n",
              "                        0.08520486712060132,\n",
              "                        0.06320756012942666,\n",
              "                        0.07487253882235283,\n",
              "                        3.207423580786027,\n",
              "                        3.7685589519650655,\n",
              "                        3.7685589519650655\n",
              "                    ],\n",
              "                    [\n",
              "                        [\n",
              "                            1.0,\n",
              "                            0.0,\n",
              "                            0.0,\n",
              "                            0.0,\n",
              "                            0.0,\n",
              "                            0.0,\n",
              "                            0.0,\n",
              "                            0.0,\n",
              "                            0.0,\n",
              "                            0.0,\n",
              "                            0.0,\n",
              "                            0.0,\n",
              "                            0.0,\n",
              "                            0.0,\n",
              "                            0.0,\n",
              "                            0.0,\n",
              "                            0.0\n",
              "                        ],\n",
              "                        [\n",
              "                            0.0,\n",
              "                            1.0,\n",
              "                            0.0,\n",
              "                            0.0,\n",
              "                            0.0,\n",
              "                            0.0,\n",
              "                            0.0,\n",
              "                            0.0,\n",
              "                            0.0,\n",
              "                            0.0,\n",
              "                            0.0,\n",
              "                            0.0,\n",
              "                            0.0,\n",
              "                            0.0,\n",
              "                            0.0,\n",
              "                            0.0,\n",
              "                            0.0\n",
              "                        ],\n",
              "                        [\n",
              "                            0.0,\n",
              "                            0.0,\n",
              "                            1.0,\n",
              "                            0.0,\n",
              "                            0.0,\n",
              "                            0.0,\n",
              "                            0.0,\n",
              "                            0.0,\n",
              "                            0.0,\n",
              "                            0.0,\n",
              "                            0.0,\n",
              "                            0.0,\n",
              "                            0.0,\n",
              "                            0.0,\n",
              "                            0.0,\n",
              "                            0.0,\n",
              "                            0.0\n",
              "                        ],\n",
              "                        [\n",
              "                            0.0,\n",
              "                            0.0,\n",
              "                            0.0,\n",
              "                            1.0,\n",
              "                            0.0,\n",
              "                            0.0,\n",
              "                            0.0,\n",
              "                            0.0,\n",
              "                            0.0,\n",
              "                            0.0,\n",
              "                            0.0,\n",
              "                            0.0,\n",
              "                            0.0,\n",
              "                            0.0,\n",
              "                            0.0,\n",
              "                            0.0,\n",
              "                            0.0\n",
              "                        ],\n",
              "                        [\n",
              "                            0.0,\n",
              "                            0.0,\n",
              "                            0.0,\n",
              "                            0.0,\n",
              "                            1.0,\n",
              "                            0.0,\n",
              "                            0.0,\n",
              "                            0.0,\n",
              "                            0.0,\n",
              "                            0.0,\n",
              "                            0.0,\n",
              "                            0.0,\n",
              "                            0.0,\n",
              "                            0.0,\n",
              "                            0.0,\n",
              "                            0.0,\n",
              "                            0.0\n",
              "                        ],\n",
              "                        [\n",
              "                            0.0,\n",
              "                            0.0,\n",
              "                            0.0,\n",
              "                            0.0,\n",
              "                            0.0,\n",
              "                            1.0,\n",
              "                            0.0,\n",
              "                            0.0,\n",
              "                            0.0,\n",
              "                            0.0,\n",
              "                            0.0,\n",
              "                            0.0,\n",
              "                            0.0,\n",
              "                            0.0,\n",
              "                            0.0,\n",
              "                            0.0,\n",
              "                            0.0\n",
              "                        ],\n",
              "                        [\n",
              "                            0.0,\n",
              "                            0.0,\n",
              "                            0.0,\n",
              "                            0.0,\n",
              "                            0.0,\n",
              "                            0.0,\n",
              "                            1.0,\n",
              "                            0.0,\n",
              "                            0.0,\n",
              "                            0.0,\n",
              "                            0.0,\n",
              "                            0.0,\n",
              "                            0.0,\n",
              "                            0.0,\n",
              "                            0.0,\n",
              "                            0.0,\n",
              "                            0.0\n",
              "                        ],\n",
              "                        [\n",
              "                            0.0,\n",
              "                            0.0,\n",
              "                            0.0,\n",
              "                            0.0,\n",
              "                            0.0,\n",
              "                            0.0,\n",
              "                            0.0,\n",
              "                            1.0,\n",
              "                            0.0,\n",
              "                            0.0,\n",
              "                            0.0,\n",
              "                            0.0,\n",
              "                            0.0,\n",
              "                            0.0,\n",
              "                            0.0,\n",
              "                            0.0,\n",
              "                            0.0\n",
              "                        ],\n",
              "                        [\n",
              "                            0.0,\n",
              "                            0.0,\n",
              "                            0.0,\n",
              "                            0.0,\n",
              "                            0.0,\n",
              "                            0.0,\n",
              "                            0.0,\n",
              "                            0.0,\n",
              "                            1.0,\n",
              "                            0.0,\n",
              "                            0.0,\n",
              "                            0.0,\n",
              "                            0.0,\n",
              "                            0.0,\n",
              "                            0.0,\n",
              "                            0.0,\n",
              "                            0.0\n",
              "                        ],\n",
              "                        [\n",
              "                            0.0,\n",
              "                            0.0,\n",
              "                            0.0,\n",
              "                            0.0,\n",
              "                            0.0,\n",
              "                            0.0,\n",
              "                            0.0,\n",
              "                            0.0,\n",
              "                            0.0,\n",
              "                            1.0,\n",
              "                            0.0,\n",
              "                            0.0,\n",
              "                            0.0,\n",
              "                            0.0,\n",
              "                            0.0,\n",
              "                            0.0,\n",
              "                            0.0\n",
              "                        ],\n",
              "                        [\n",
              "                            0.0,\n",
              "                            0.0,\n",
              "                            0.0,\n",
              "                            0.0,\n",
              "                            0.0,\n",
              "                            0.0,\n",
              "                            0.0,\n",
              "                            0.0,\n",
              "                            0.0,\n",
              "                            0.0,\n",
              "                            1.0,\n",
              "                            0.0,\n",
              "                            0.0,\n",
              "                            0.0,\n",
              "                            0.0,\n",
              "                            0.0,\n",
              "                            0.0\n",
              "                        ],\n",
              "                        [\n",
              "                            0.0,\n",
              "                            0.0,\n",
              "                            0.0,\n",
              "                            0.0,\n",
              "                            0.0,\n",
              "                            0.0,\n",
              "                            0.0,\n",
              "                            0.0,\n",
              "                            0.0,\n",
              "                            0.0,\n",
              "                            0.0,\n",
              "                            1.0,\n",
              "                            0.0,\n",
              "                            0.0,\n",
              "                            0.0,\n",
              "                            0.0,\n",
              "                            0.0\n",
              "                        ],\n",
              "                        [\n",
              "                            0.0,\n",
              "                            0.0,\n",
              "                            0.0,\n",
              "                            0.0,\n",
              "                            0.0,\n",
              "                            0.0,\n",
              "                            0.0,\n",
              "                            0.0,\n",
              "                            0.0,\n",
              "                            0.0,\n",
              "                            0.0,\n",
              "                            0.0,\n",
              "                            1.0,\n",
              "                            0.0,\n",
              "                            0.0,\n",
              "                            0.0,\n",
              "                            0.0\n",
              "                        ],\n",
              "                        [\n",
              "                            0.0,\n",
              "                            0.0,\n",
              "                            0.0,\n",
              "                            0.0,\n",
              "                            0.0,\n",
              "                            0.0,\n",
              "                            0.0,\n",
              "                            0.0,\n",
              "                            0.0,\n",
              "                            0.0,\n",
              "                            0.0,\n",
              "                            0.0,\n",
              "                            0.0,\n",
              "                            1.0,\n",
              "                            0.0,\n",
              "                            0.0,\n",
              "                            0.0\n",
              "                        ],\n",
              "                        [\n",
              "                            0.0,\n",
              "                            0.0,\n",
              "                            0.0,\n",
              "                            0.0,\n",
              "                            0.0,\n",
              "                            0.0,\n",
              "                            0.0,\n",
              "                            0.0,\n",
              "                            0.0,\n",
              "                            0.0,\n",
              "                            0.0,\n",
              "                            0.0,\n",
              "                            0.0,\n",
              "                            0.0,\n",
              "                            1.0,\n",
              "                            0.0,\n",
              "                            0.0\n",
              "                        ],\n",
              "                        [\n",
              "                            0.0,\n",
              "                            0.0,\n",
              "                            0.0,\n",
              "                            0.0,\n",
              "                            0.0,\n",
              "                            0.0,\n",
              "                            0.0,\n",
              "                            0.0,\n",
              "                            0.0,\n",
              "                            0.0,\n",
              "                            0.0,\n",
              "                            0.0,\n",
              "                            0.0,\n",
              "                            0.0,\n",
              "                            0.0,\n",
              "                            1.0,\n",
              "                            0.0\n",
              "                        ],\n",
              "                        [\n",
              "                            0.0,\n",
              "                            0.0,\n",
              "                            0.0,\n",
              "                            0.0,\n",
              "                            0.0,\n",
              "                            0.0,\n",
              "                            0.0,\n",
              "                            0.0,\n",
              "                            0.0,\n",
              "                            0.0,\n",
              "                            0.0,\n",
              "                            0.0,\n",
              "                            0.0,\n",
              "                            0.0,\n",
              "                            0.0,\n",
              "                            0.0,\n",
              "                            1.0\n",
              "                        ]\n",
              "                    ]\n",
              "                ],\n",
              "                \"frozen\" : false\n",
              "            },\n",
              "            \"name\" : \"490d7ae1-9ec7-4766-a3a4-4aeb238caa60\",\n",
              "            \"weight\" : 1.0\n",
              "        },\n",
              "        {\n",
              "            \"class\" : \"State\",\n",
              "            \"distribution\" : {\n",
              "                \"class\" : \"Distribution\",\n",
              "                \"name\" : \"MultivariateGaussianDistribution\",\n",
              "                \"parameters\" : [\n",
              "                    [\n",
              "                        1676.7596211867476,\n",
              "                        30.792710050043063,\n",
              "                        157.7473654801001,\n",
              "                        46.42286523892918,\n",
              "                        31.02606152133717,\n",
              "                        -1.5943935309973045,\n",
              "                        -0.14504043126684624,\n",
              "                        -2.850134770889488,\n",
              "                        1.0139743109157258,\n",
              "                        -0.07157770633383481,\n",
              "                        0.1395658279154455,\n",
              "                        0.16082143460236756,\n",
              "                        0.13083056843286656,\n",
              "                        0.13116603739998225,\n",
              "                        3.25067385444744,\n",
              "                        3.986522911051213,\n",
              "                        3.986522911051213\n",
              "                    ],\n",
              "                    [\n",
              "                        [\n",
              "                            1.0,\n",
              "                            0.0,\n",
              "                            0.0,\n",
              "                            0.0,\n",
              "                            0.0,\n",
              "                            0.0,\n",
              "                            0.0,\n",
              "                            0.0,\n",
              "                            0.0,\n",
              "                            0.0,\n",
              "                            0.0,\n",
              "                            0.0,\n",
              "                            0.0,\n",
              "                            0.0,\n",
              "                            0.0,\n",
              "                            0.0,\n",
              "                            0.0\n",
              "                        ],\n",
              "                        [\n",
              "                            0.0,\n",
              "                            1.0,\n",
              "                            0.0,\n",
              "                            0.0,\n",
              "                            0.0,\n",
              "                            0.0,\n",
              "                            0.0,\n",
              "                            0.0,\n",
              "                            0.0,\n",
              "                            0.0,\n",
              "                            0.0,\n",
              "                            0.0,\n",
              "                            0.0,\n",
              "                            0.0,\n",
              "                            0.0,\n",
              "                            0.0,\n",
              "                            0.0\n",
              "                        ],\n",
              "                        [\n",
              "                            0.0,\n",
              "                            0.0,\n",
              "                            1.0,\n",
              "                            0.0,\n",
              "                            0.0,\n",
              "                            0.0,\n",
              "                            0.0,\n",
              "                            0.0,\n",
              "                            0.0,\n",
              "                            0.0,\n",
              "                            0.0,\n",
              "                            0.0,\n",
              "                            0.0,\n",
              "                            0.0,\n",
              "                            0.0,\n",
              "                            0.0,\n",
              "                            0.0\n",
              "                        ],\n",
              "                        [\n",
              "                            0.0,\n",
              "                            0.0,\n",
              "                            0.0,\n",
              "                            1.0,\n",
              "                            0.0,\n",
              "                            0.0,\n",
              "                            0.0,\n",
              "                            0.0,\n",
              "                            0.0,\n",
              "                            0.0,\n",
              "                            0.0,\n",
              "                            0.0,\n",
              "                            0.0,\n",
              "                            0.0,\n",
              "                            0.0,\n",
              "                            0.0,\n",
              "                            0.0\n",
              "                        ],\n",
              "                        [\n",
              "                            0.0,\n",
              "                            0.0,\n",
              "                            0.0,\n",
              "                            0.0,\n",
              "                            1.0,\n",
              "                            0.0,\n",
              "                            0.0,\n",
              "                            0.0,\n",
              "                            0.0,\n",
              "                            0.0,\n",
              "                            0.0,\n",
              "                            0.0,\n",
              "                            0.0,\n",
              "                            0.0,\n",
              "                            0.0,\n",
              "                            0.0,\n",
              "                            0.0\n",
              "                        ],\n",
              "                        [\n",
              "                            0.0,\n",
              "                            0.0,\n",
              "                            0.0,\n",
              "                            0.0,\n",
              "                            0.0,\n",
              "                            1.0,\n",
              "                            0.0,\n",
              "                            0.0,\n",
              "                            0.0,\n",
              "                            0.0,\n",
              "                            0.0,\n",
              "                            0.0,\n",
              "                            0.0,\n",
              "                            0.0,\n",
              "                            0.0,\n",
              "                            0.0,\n",
              "                            0.0\n",
              "                        ],\n",
              "                        [\n",
              "                            0.0,\n",
              "                            0.0,\n",
              "                            0.0,\n",
              "                            0.0,\n",
              "                            0.0,\n",
              "                            0.0,\n",
              "                            1.0,\n",
              "                            0.0,\n",
              "                            0.0,\n",
              "                            0.0,\n",
              "                            0.0,\n",
              "                            0.0,\n",
              "                            0.0,\n",
              "                            0.0,\n",
              "                            0.0,\n",
              "                            0.0,\n",
              "                            0.0\n",
              "                        ],\n",
              "                        [\n",
              "                            0.0,\n",
              "                            0.0,\n",
              "                            0.0,\n",
              "                            0.0,\n",
              "                            0.0,\n",
              "                            0.0,\n",
              "                            0.0,\n",
              "                            1.0,\n",
              "                            0.0,\n",
              "                            0.0,\n",
              "                            0.0,\n",
              "                            0.0,\n",
              "                            0.0,\n",
              "                            0.0,\n",
              "                            0.0,\n",
              "                            0.0,\n",
              "                            0.0\n",
              "                        ],\n",
              "                        [\n",
              "                            0.0,\n",
              "                            0.0,\n",
              "                            0.0,\n",
              "                            0.0,\n",
              "                            0.0,\n",
              "                            0.0,\n",
              "                            0.0,\n",
              "                            0.0,\n",
              "                            1.0,\n",
              "                            0.0,\n",
              "                            0.0,\n",
              "                            0.0,\n",
              "                            0.0,\n",
              "                            0.0,\n",
              "                            0.0,\n",
              "                            0.0,\n",
              "                            0.0\n",
              "                        ],\n",
              "                        [\n",
              "                            0.0,\n",
              "                            0.0,\n",
              "                            0.0,\n",
              "                            0.0,\n",
              "                            0.0,\n",
              "                            0.0,\n",
              "                            0.0,\n",
              "                            0.0,\n",
              "                            0.0,\n",
              "                            1.0,\n",
              "                            0.0,\n",
              "                            0.0,\n",
              "                            0.0,\n",
              "                            0.0,\n",
              "                            0.0,\n",
              "                            0.0,\n",
              "                            0.0\n",
              "                        ],\n",
              "                        [\n",
              "                            0.0,\n",
              "                            0.0,\n",
              "                            0.0,\n",
              "                            0.0,\n",
              "                            0.0,\n",
              "                            0.0,\n",
              "                            0.0,\n",
              "                            0.0,\n",
              "                            0.0,\n",
              "                            0.0,\n",
              "                            1.0,\n",
              "                            0.0,\n",
              "                            0.0,\n",
              "                            0.0,\n",
              "                            0.0,\n",
              "                            0.0,\n",
              "                            0.0\n",
              "                        ],\n",
              "                        [\n",
              "                            0.0,\n",
              "                            0.0,\n",
              "                            0.0,\n",
              "                            0.0,\n",
              "                            0.0,\n",
              "                            0.0,\n",
              "                            0.0,\n",
              "                            0.0,\n",
              "                            0.0,\n",
              "                            0.0,\n",
              "                            0.0,\n",
              "                            1.0,\n",
              "                            0.0,\n",
              "                            0.0,\n",
              "                            0.0,\n",
              "                            0.0,\n",
              "                            0.0\n",
              "                        ],\n",
              "                        [\n",
              "                            0.0,\n",
              "                            0.0,\n",
              "                            0.0,\n",
              "                            0.0,\n",
              "                            0.0,\n",
              "                            0.0,\n",
              "                            0.0,\n",
              "                            0.0,\n",
              "                            0.0,\n",
              "                            0.0,\n",
              "                            0.0,\n",
              "                            0.0,\n",
              "                            1.0,\n",
              "                            0.0,\n",
              "                            0.0,\n",
              "                            0.0,\n",
              "                            0.0\n",
              "                        ],\n",
              "                        [\n",
              "                            0.0,\n",
              "                            0.0,\n",
              "                            0.0,\n",
              "                            0.0,\n",
              "                            0.0,\n",
              "                            0.0,\n",
              "                            0.0,\n",
              "                            0.0,\n",
              "                            0.0,\n",
              "                            0.0,\n",
              "                            0.0,\n",
              "                            0.0,\n",
              "                            0.0,\n",
              "                            1.0,\n",
              "                            0.0,\n",
              "                            0.0,\n",
              "                            0.0\n",
              "                        ],\n",
              "                        [\n",
              "                            0.0,\n",
              "                            0.0,\n",
              "                            0.0,\n",
              "                            0.0,\n",
              "                            0.0,\n",
              "                            0.0,\n",
              "                            0.0,\n",
              "                            0.0,\n",
              "                            0.0,\n",
              "                            0.0,\n",
              "                            0.0,\n",
              "                            0.0,\n",
              "                            0.0,\n",
              "                            0.0,\n",
              "                            1.0,\n",
              "                            0.0,\n",
              "                            0.0\n",
              "                        ],\n",
              "                        [\n",
              "                            0.0,\n",
              "                            0.0,\n",
              "                            0.0,\n",
              "                            0.0,\n",
              "                            0.0,\n",
              "                            0.0,\n",
              "                            0.0,\n",
              "                            0.0,\n",
              "                            0.0,\n",
              "                            0.0,\n",
              "                            0.0,\n",
              "                            0.0,\n",
              "                            0.0,\n",
              "                            0.0,\n",
              "                            0.0,\n",
              "                            1.0,\n",
              "                            0.0\n",
              "                        ],\n",
              "                        [\n",
              "                            0.0,\n",
              "                            0.0,\n",
              "                            0.0,\n",
              "                            0.0,\n",
              "                            0.0,\n",
              "                            0.0,\n",
              "                            0.0,\n",
              "                            0.0,\n",
              "                            0.0,\n",
              "                            0.0,\n",
              "                            0.0,\n",
              "                            0.0,\n",
              "                            0.0,\n",
              "                            0.0,\n",
              "                            0.0,\n",
              "                            0.0,\n",
              "                            1.0\n",
              "                        ]\n",
              "                    ]\n",
              "                ],\n",
              "                \"frozen\" : false\n",
              "            },\n",
              "            \"name\" : \"db994b39-e8b4-4059-b496-699b3a41443e\",\n",
              "            \"weight\" : 1.0\n",
              "        },\n",
              "        {\n",
              "            \"class\" : \"State\",\n",
              "            \"distribution\" : {\n",
              "                \"class\" : \"Distribution\",\n",
              "                \"name\" : \"MultivariateGaussianDistribution\",\n",
              "                \"parameters\" : [\n",
              "                    [\n",
              "                        1047.0169669997586,\n",
              "                        21.378384602035815,\n",
              "                        117.26918557272144,\n",
              "                        29.685584198112572,\n",
              "                        20.008264097958897,\n",
              "                        -1.0297041420118342,\n",
              "                        0.0687573964497043,\n",
              "                        -2.3942011834319525,\n",
              "                        1.0130388957995404,\n",
              "                        -0.060451161030925626,\n",
              "                        0.13331718772187634,\n",
              "                        0.13146313548715938,\n",
              "                        0.10446649472443248,\n",
              "                        0.10940617778605151,\n",
              "                        3.449704142011835,\n",
              "                        3.9585798816568047,\n",
              "                        3.9585798816568047\n",
              "                    ],\n",
              "                    [\n",
              "                        [\n",
              "                            1.0,\n",
              "                            0.0,\n",
              "                            0.0,\n",
              "                            0.0,\n",
              "                            0.0,\n",
              "                            0.0,\n",
              "                            0.0,\n",
              "                            0.0,\n",
              "                            0.0,\n",
              "                            0.0,\n",
              "                            0.0,\n",
              "                            0.0,\n",
              "                            0.0,\n",
              "                            0.0,\n",
              "                            0.0,\n",
              "                            0.0,\n",
              "                            0.0\n",
              "                        ],\n",
              "                        [\n",
              "                            0.0,\n",
              "                            1.0,\n",
              "                            0.0,\n",
              "                            0.0,\n",
              "                            0.0,\n",
              "                            0.0,\n",
              "                            0.0,\n",
              "                            0.0,\n",
              "                            0.0,\n",
              "                            0.0,\n",
              "                            0.0,\n",
              "                            0.0,\n",
              "                            0.0,\n",
              "                            0.0,\n",
              "                            0.0,\n",
              "                            0.0,\n",
              "                            0.0\n",
              "                        ],\n",
              "                        [\n",
              "                            0.0,\n",
              "                            0.0,\n",
              "                            1.0,\n",
              "                            0.0,\n",
              "                            0.0,\n",
              "                            0.0,\n",
              "                            0.0,\n",
              "                            0.0,\n",
              "                            0.0,\n",
              "                            0.0,\n",
              "                            0.0,\n",
              "                            0.0,\n",
              "                            0.0,\n",
              "                            0.0,\n",
              "                            0.0,\n",
              "                            0.0,\n",
              "                            0.0\n",
              "                        ],\n",
              "                        [\n",
              "                            0.0,\n",
              "                            0.0,\n",
              "                            0.0,\n",
              "                            1.0,\n",
              "                            0.0,\n",
              "                            0.0,\n",
              "                            0.0,\n",
              "                            0.0,\n",
              "                            0.0,\n",
              "                            0.0,\n",
              "                            0.0,\n",
              "                            0.0,\n",
              "                            0.0,\n",
              "                            0.0,\n",
              "                            0.0,\n",
              "                            0.0,\n",
              "                            0.0\n",
              "                        ],\n",
              "                        [\n",
              "                            0.0,\n",
              "                            0.0,\n",
              "                            0.0,\n",
              "                            0.0,\n",
              "                            1.0,\n",
              "                            0.0,\n",
              "                            0.0,\n",
              "                            0.0,\n",
              "                            0.0,\n",
              "                            0.0,\n",
              "                            0.0,\n",
              "                            0.0,\n",
              "                            0.0,\n",
              "                            0.0,\n",
              "                            0.0,\n",
              "                            0.0,\n",
              "                            0.0\n",
              "                        ],\n",
              "                        [\n",
              "                            0.0,\n",
              "                            0.0,\n",
              "                            0.0,\n",
              "                            0.0,\n",
              "                            0.0,\n",
              "                            1.0,\n",
              "                            0.0,\n",
              "                            0.0,\n",
              "                            0.0,\n",
              "                            0.0,\n",
              "                            0.0,\n",
              "                            0.0,\n",
              "                            0.0,\n",
              "                            0.0,\n",
              "                            0.0,\n",
              "                            0.0,\n",
              "                            0.0\n",
              "                        ],\n",
              "                        [\n",
              "                            0.0,\n",
              "                            0.0,\n",
              "                            0.0,\n",
              "                            0.0,\n",
              "                            0.0,\n",
              "                            0.0,\n",
              "                            1.0,\n",
              "                            0.0,\n",
              "                            0.0,\n",
              "                            0.0,\n",
              "                            0.0,\n",
              "                            0.0,\n",
              "                            0.0,\n",
              "                            0.0,\n",
              "                            0.0,\n",
              "                            0.0,\n",
              "                            0.0\n",
              "                        ],\n",
              "                        [\n",
              "                            0.0,\n",
              "                            0.0,\n",
              "                            0.0,\n",
              "                            0.0,\n",
              "                            0.0,\n",
              "                            0.0,\n",
              "                            0.0,\n",
              "                            1.0,\n",
              "                            0.0,\n",
              "                            0.0,\n",
              "                            0.0,\n",
              "                            0.0,\n",
              "                            0.0,\n",
              "                            0.0,\n",
              "                            0.0,\n",
              "                            0.0,\n",
              "                            0.0\n",
              "                        ],\n",
              "                        [\n",
              "                            0.0,\n",
              "                            0.0,\n",
              "                            0.0,\n",
              "                            0.0,\n",
              "                            0.0,\n",
              "                            0.0,\n",
              "                            0.0,\n",
              "                            0.0,\n",
              "                            1.0,\n",
              "                            0.0,\n",
              "                            0.0,\n",
              "                            0.0,\n",
              "                            0.0,\n",
              "                            0.0,\n",
              "                            0.0,\n",
              "                            0.0,\n",
              "                            0.0\n",
              "                        ],\n",
              "                        [\n",
              "                            0.0,\n",
              "                            0.0,\n",
              "                            0.0,\n",
              "                            0.0,\n",
              "                            0.0,\n",
              "                            0.0,\n",
              "                            0.0,\n",
              "                            0.0,\n",
              "                            0.0,\n",
              "                            1.0,\n",
              "                            0.0,\n",
              "                            0.0,\n",
              "                            0.0,\n",
              "                            0.0,\n",
              "                            0.0,\n",
              "                            0.0,\n",
              "                            0.0\n",
              "                        ],\n",
              "                        [\n",
              "                            0.0,\n",
              "                            0.0,\n",
              "                            0.0,\n",
              "                            0.0,\n",
              "                            0.0,\n",
              "                            0.0,\n",
              "                            0.0,\n",
              "                            0.0,\n",
              "                            0.0,\n",
              "                            0.0,\n",
              "                            1.0,\n",
              "                            0.0,\n",
              "                            0.0,\n",
              "                            0.0,\n",
              "                            0.0,\n",
              "                            0.0,\n",
              "                            0.0\n",
              "                        ],\n",
              "                        [\n",
              "                            0.0,\n",
              "                            0.0,\n",
              "                            0.0,\n",
              "                            0.0,\n",
              "                            0.0,\n",
              "                            0.0,\n",
              "                            0.0,\n",
              "                            0.0,\n",
              "                            0.0,\n",
              "                            0.0,\n",
              "                            0.0,\n",
              "                            1.0,\n",
              "                            0.0,\n",
              "                            0.0,\n",
              "                            0.0,\n",
              "                            0.0,\n",
              "                            0.0\n",
              "                        ],\n",
              "                        [\n",
              "                            0.0,\n",
              "                            0.0,\n",
              "                            0.0,\n",
              "                            0.0,\n",
              "                            0.0,\n",
              "                            0.0,\n",
              "                            0.0,\n",
              "                            0.0,\n",
              "                            0.0,\n",
              "                            0.0,\n",
              "                            0.0,\n",
              "                            0.0,\n",
              "                            1.0,\n",
              "                            0.0,\n",
              "                            0.0,\n",
              "                            0.0,\n",
              "                            0.0\n",
              "                        ],\n",
              "                        [\n",
              "                            0.0,\n",
              "                            0.0,\n",
              "                            0.0,\n",
              "                            0.0,\n",
              "                            0.0,\n",
              "                            0.0,\n",
              "                            0.0,\n",
              "                            0.0,\n",
              "                            0.0,\n",
              "                            0.0,\n",
              "                            0.0,\n",
              "                            0.0,\n",
              "                            0.0,\n",
              "                            1.0,\n",
              "                            0.0,\n",
              "                            0.0,\n",
              "                            0.0\n",
              "                        ],\n",
              "                        [\n",
              "                            0.0,\n",
              "                            0.0,\n",
              "                            0.0,\n",
              "                            0.0,\n",
              "                            0.0,\n",
              "                            0.0,\n",
              "                            0.0,\n",
              "                            0.0,\n",
              "                            0.0,\n",
              "                            0.0,\n",
              "                            0.0,\n",
              "                            0.0,\n",
              "                            0.0,\n",
              "                            0.0,\n",
              "                            1.0,\n",
              "                            0.0,\n",
              "                            0.0\n",
              "                        ],\n",
              "                        [\n",
              "                            0.0,\n",
              "                            0.0,\n",
              "                            0.0,\n",
              "                            0.0,\n",
              "                            0.0,\n",
              "                            0.0,\n",
              "                            0.0,\n",
              "                            0.0,\n",
              "                            0.0,\n",
              "                            0.0,\n",
              "                            0.0,\n",
              "                            0.0,\n",
              "                            0.0,\n",
              "                            0.0,\n",
              "                            0.0,\n",
              "                            1.0,\n",
              "                            0.0\n",
              "                        ],\n",
              "                        [\n",
              "                            0.0,\n",
              "                            0.0,\n",
              "                            0.0,\n",
              "                            0.0,\n",
              "                            0.0,\n",
              "                            0.0,\n",
              "                            0.0,\n",
              "                            0.0,\n",
              "                            0.0,\n",
              "                            0.0,\n",
              "                            0.0,\n",
              "                            0.0,\n",
              "                            0.0,\n",
              "                            0.0,\n",
              "                            0.0,\n",
              "                            0.0,\n",
              "                            1.0\n",
              "                        ]\n",
              "                    ]\n",
              "                ],\n",
              "                \"frozen\" : false\n",
              "            },\n",
              "            \"name\" : \"dcc87fda-e11f-47d4-9cd5-a8e5b87ce83f\",\n",
              "            \"weight\" : 1.0\n",
              "        },\n",
              "        {\n",
              "            \"class\" : \"State\",\n",
              "            \"distribution\" : {\n",
              "                \"class\" : \"Distribution\",\n",
              "                \"name\" : \"MultivariateGaussianDistribution\",\n",
              "                \"parameters\" : [\n",
              "                    [\n",
              "                        1465.1906503899024,\n",
              "                        40.14705804079122,\n",
              "                        165.88233844029517,\n",
              "                        50.24912221642464,\n",
              "                        27.61645875879266,\n",
              "                        -1.2739318885448918,\n",
              "                        -0.07541795665634662,\n",
              "                        -2.4487306501547987,\n",
              "                        1.013642818685623,\n",
              "                        -0.07127699085675829,\n",
              "                        0.13930136949851762,\n",
              "                        0.1288496163421603,\n",
              "                        0.10440653229757088,\n",
              "                        0.1121116522481598,\n",
              "                        3.4303405572755423,\n",
              "                        3.962848297213623,\n",
              "                        3.962848297213623\n",
              "                    ],\n",
              "                    [\n",
              "                        [\n",
              "                            1.0,\n",
              "                            0.0,\n",
              "                            0.0,\n",
              "                            0.0,\n",
              "                            0.0,\n",
              "                            0.0,\n",
              "                            0.0,\n",
              "                            0.0,\n",
              "                            0.0,\n",
              "                            0.0,\n",
              "                            0.0,\n",
              "                            0.0,\n",
              "                            0.0,\n",
              "                            0.0,\n",
              "                            0.0,\n",
              "                            0.0,\n",
              "                            0.0\n",
              "                        ],\n",
              "                        [\n",
              "                            0.0,\n",
              "                            1.0,\n",
              "                            0.0,\n",
              "                            0.0,\n",
              "                            0.0,\n",
              "                            0.0,\n",
              "                            0.0,\n",
              "                            0.0,\n",
              "                            0.0,\n",
              "                            0.0,\n",
              "                            0.0,\n",
              "                            0.0,\n",
              "                            0.0,\n",
              "                            0.0,\n",
              "                            0.0,\n",
              "                            0.0,\n",
              "                            0.0\n",
              "                        ],\n",
              "                        [\n",
              "                            0.0,\n",
              "                            0.0,\n",
              "                            1.0,\n",
              "                            0.0,\n",
              "                            0.0,\n",
              "                            0.0,\n",
              "                            0.0,\n",
              "                            0.0,\n",
              "                            0.0,\n",
              "                            0.0,\n",
              "                            0.0,\n",
              "                            0.0,\n",
              "                            0.0,\n",
              "                            0.0,\n",
              "                            0.0,\n",
              "                            0.0,\n",
              "                            0.0\n",
              "                        ],\n",
              "                        [\n",
              "                            0.0,\n",
              "                            0.0,\n",
              "                            0.0,\n",
              "                            1.0,\n",
              "                            0.0,\n",
              "                            0.0,\n",
              "                            0.0,\n",
              "                            0.0,\n",
              "                            0.0,\n",
              "                            0.0,\n",
              "                            0.0,\n",
              "                            0.0,\n",
              "                            0.0,\n",
              "                            0.0,\n",
              "                            0.0,\n",
              "                            0.0,\n",
              "                            0.0\n",
              "                        ],\n",
              "                        [\n",
              "                            0.0,\n",
              "                            0.0,\n",
              "                            0.0,\n",
              "                            0.0,\n",
              "                            1.0,\n",
              "                            0.0,\n",
              "                            0.0,\n",
              "                            0.0,\n",
              "                            0.0,\n",
              "                            0.0,\n",
              "                            0.0,\n",
              "                            0.0,\n",
              "                            0.0,\n",
              "                            0.0,\n",
              "                            0.0,\n",
              "                            0.0,\n",
              "                            0.0\n",
              "                        ],\n",
              "                        [\n",
              "                            0.0,\n",
              "                            0.0,\n",
              "                            0.0,\n",
              "                            0.0,\n",
              "                            0.0,\n",
              "                            1.0,\n",
              "                            0.0,\n",
              "                            0.0,\n",
              "                            0.0,\n",
              "                            0.0,\n",
              "                            0.0,\n",
              "                            0.0,\n",
              "                            0.0,\n",
              "                            0.0,\n",
              "                            0.0,\n",
              "                            0.0,\n",
              "                            0.0\n",
              "                        ],\n",
              "                        [\n",
              "                            0.0,\n",
              "                            0.0,\n",
              "                            0.0,\n",
              "                            0.0,\n",
              "                            0.0,\n",
              "                            0.0,\n",
              "                            1.0,\n",
              "                            0.0,\n",
              "                            0.0,\n",
              "                            0.0,\n",
              "                            0.0,\n",
              "                            0.0,\n",
              "                            0.0,\n",
              "                            0.0,\n",
              "                            0.0,\n",
              "                            0.0,\n",
              "                            0.0\n",
              "                        ],\n",
              "                        [\n",
              "                            0.0,\n",
              "                            0.0,\n",
              "                            0.0,\n",
              "                            0.0,\n",
              "                            0.0,\n",
              "                            0.0,\n",
              "                            0.0,\n",
              "                            1.0,\n",
              "                            0.0,\n",
              "                            0.0,\n",
              "                            0.0,\n",
              "                            0.0,\n",
              "                            0.0,\n",
              "                            0.0,\n",
              "                            0.0,\n",
              "                            0.0,\n",
              "                            0.0\n",
              "                        ],\n",
              "                        [\n",
              "                            0.0,\n",
              "                            0.0,\n",
              "                            0.0,\n",
              "                            0.0,\n",
              "                            0.0,\n",
              "                            0.0,\n",
              "                            0.0,\n",
              "                            0.0,\n",
              "                            1.0,\n",
              "                            0.0,\n",
              "                            0.0,\n",
              "                            0.0,\n",
              "                            0.0,\n",
              "                            0.0,\n",
              "                            0.0,\n",
              "                            0.0,\n",
              "                            0.0\n",
              "                        ],\n",
              "                        [\n",
              "                            0.0,\n",
              "                            0.0,\n",
              "                            0.0,\n",
              "                            0.0,\n",
              "                            0.0,\n",
              "                            0.0,\n",
              "                            0.0,\n",
              "                            0.0,\n",
              "                            0.0,\n",
              "                            1.0,\n",
              "                            0.0,\n",
              "                            0.0,\n",
              "                            0.0,\n",
              "                            0.0,\n",
              "                            0.0,\n",
              "                            0.0,\n",
              "                            0.0\n",
              "                        ],\n",
              "                        [\n",
              "                            0.0,\n",
              "                            0.0,\n",
              "                            0.0,\n",
              "                            0.0,\n",
              "                            0.0,\n",
              "                            0.0,\n",
              "                            0.0,\n",
              "                            0.0,\n",
              "                            0.0,\n",
              "                            0.0,\n",
              "                            1.0,\n",
              "                            0.0,\n",
              "                            0.0,\n",
              "                            0.0,\n",
              "                            0.0,\n",
              "                            0.0,\n",
              "                            0.0\n",
              "                        ],\n",
              "                        [\n",
              "                            0.0,\n",
              "                            0.0,\n",
              "                            0.0,\n",
              "                            0.0,\n",
              "                            0.0,\n",
              "                            0.0,\n",
              "                            0.0,\n",
              "                            0.0,\n",
              "                            0.0,\n",
              "                            0.0,\n",
              "                            0.0,\n",
              "                            1.0,\n",
              "                            0.0,\n",
              "                            0.0,\n",
              "                            0.0,\n",
              "                            0.0,\n",
              "                            0.0\n",
              "                        ],\n",
              "                        [\n",
              "                            0.0,\n",
              "                            0.0,\n",
              "                            0.0,\n",
              "                            0.0,\n",
              "                            0.0,\n",
              "                            0.0,\n",
              "                            0.0,\n",
              "                            0.0,\n",
              "                            0.0,\n",
              "                            0.0,\n",
              "                            0.0,\n",
              "                            0.0,\n",
              "                            1.0,\n",
              "                            0.0,\n",
              "                            0.0,\n",
              "                            0.0,\n",
              "                            0.0\n",
              "                        ],\n",
              "                        [\n",
              "                            0.0,\n",
              "                            0.0,\n",
              "                            0.0,\n",
              "                            0.0,\n",
              "                            0.0,\n",
              "                            0.0,\n",
              "                            0.0,\n",
              "                            0.0,\n",
              "                            0.0,\n",
              "                            0.0,\n",
              "                            0.0,\n",
              "                            0.0,\n",
              "                            0.0,\n",
              "                            1.0,\n",
              "                            0.0,\n",
              "                            0.0,\n",
              "                            0.0\n",
              "                        ],\n",
              "                        [\n",
              "                            0.0,\n",
              "                            0.0,\n",
              "                            0.0,\n",
              "                            0.0,\n",
              "                            0.0,\n",
              "                            0.0,\n",
              "                            0.0,\n",
              "                            0.0,\n",
              "                            0.0,\n",
              "                            0.0,\n",
              "                            0.0,\n",
              "                            0.0,\n",
              "                            0.0,\n",
              "                            0.0,\n",
              "                            1.0,\n",
              "                            0.0,\n",
              "                            0.0\n",
              "                        ],\n",
              "                        [\n",
              "                            0.0,\n",
              "                            0.0,\n",
              "                            0.0,\n",
              "                            0.0,\n",
              "                            0.0,\n",
              "                            0.0,\n",
              "                            0.0,\n",
              "                            0.0,\n",
              "                            0.0,\n",
              "                            0.0,\n",
              "                            0.0,\n",
              "                            0.0,\n",
              "                            0.0,\n",
              "                            0.0,\n",
              "                            0.0,\n",
              "                            1.0,\n",
              "                            0.0\n",
              "                        ],\n",
              "                        [\n",
              "                            0.0,\n",
              "                            0.0,\n",
              "                            0.0,\n",
              "                            0.0,\n",
              "                            0.0,\n",
              "                            0.0,\n",
              "                            0.0,\n",
              "                            0.0,\n",
              "                            0.0,\n",
              "                            0.0,\n",
              "                            0.0,\n",
              "                            0.0,\n",
              "                            0.0,\n",
              "                            0.0,\n",
              "                            0.0,\n",
              "                            0.0,\n",
              "                            1.0\n",
              "                        ]\n",
              "                    ]\n",
              "                ],\n",
              "                \"frozen\" : false\n",
              "            },\n",
              "            \"name\" : \"e4d4e917-a550-41b5-a3de-1dc6c90e6b97\",\n",
              "            \"weight\" : 1.0\n",
              "        },\n",
              "        {\n",
              "            \"class\" : \"State\",\n",
              "            \"distribution\" : null,\n",
              "            \"name\" : \"None-start\",\n",
              "            \"weight\" : 1.0\n",
              "        },\n",
              "        {\n",
              "            \"class\" : \"State\",\n",
              "            \"distribution\" : null,\n",
              "            \"name\" : \"None-end\",\n",
              "            \"weight\" : 1.0\n",
              "        }\n",
              "    ],\n",
              "    \"end_index\" : 6,\n",
              "    \"start_index\" : 5,\n",
              "    \"silent_index\" : 5,\n",
              "    \"edges\" : [\n",
              "        [\n",
              "            5,\n",
              "            0,\n",
              "            0.00014872099934303096,\n",
              "            0.2,\n",
              "            null\n",
              "        ],\n",
              "        [\n",
              "            5,\n",
              "            1,\n",
              "            0.999851279000657,\n",
              "            0.2,\n",
              "            null\n",
              "        ],\n",
              "        [\n",
              "            5,\n",
              "            2,\n",
              "            0.0,\n",
              "            0.2,\n",
              "            null\n",
              "        ],\n",
              "        [\n",
              "            5,\n",
              "            4,\n",
              "            0.0,\n",
              "            0.2,\n",
              "            null\n",
              "        ],\n",
              "        [\n",
              "            5,\n",
              "            3,\n",
              "            0.0,\n",
              "            0.2,\n",
              "            null\n",
              "        ],\n",
              "        [\n",
              "            0,\n",
              "            0,\n",
              "            0.11748585754420668,\n",
              "            0.2,\n",
              "            null\n",
              "        ],\n",
              "        [\n",
              "            0,\n",
              "            1,\n",
              "            0.13735938747777585,\n",
              "            0.2,\n",
              "            null\n",
              "        ],\n",
              "        [\n",
              "            0,\n",
              "            2,\n",
              "            0.42048711150172635,\n",
              "            0.2,\n",
              "            null\n",
              "        ],\n",
              "        [\n",
              "            0,\n",
              "            4,\n",
              "            0.24235802820799615,\n",
              "            0.2,\n",
              "            null\n",
              "        ],\n",
              "        [\n",
              "            0,\n",
              "            3,\n",
              "            0.007386313023184185,\n",
              "            0.2,\n",
              "            null\n",
              "        ],\n",
              "        [\n",
              "            0,\n",
              "            6,\n",
              "            0.07492330224511087,\n",
              "            0.2,\n",
              "            null\n",
              "        ],\n",
              "        [\n",
              "            1,\n",
              "            0,\n",
              "            8.764961263648524e-06,\n",
              "            0.2,\n",
              "            null\n",
              "        ],\n",
              "        [\n",
              "            1,\n",
              "            1,\n",
              "            0.9408940499909363,\n",
              "            0.2,\n",
              "            null\n",
              "        ],\n",
              "        [\n",
              "            1,\n",
              "            2,\n",
              "            0.00010724275174680933,\n",
              "            0.2,\n",
              "            null\n",
              "        ],\n",
              "        [\n",
              "            1,\n",
              "            4,\n",
              "            0.000140239379974959,\n",
              "            0.2,\n",
              "            null\n",
              "        ],\n",
              "        [\n",
              "            1,\n",
              "            3,\n",
              "            0.00015776930243547934,\n",
              "            0.2,\n",
              "            null\n",
              "        ],\n",
              "        [\n",
              "            1,\n",
              "            6,\n",
              "            0.05869193361364275,\n",
              "            0.2,\n",
              "            null\n",
              "        ],\n",
              "        [\n",
              "            2,\n",
              "            0,\n",
              "            0.08754853810583631,\n",
              "            0.2,\n",
              "            null\n",
              "        ],\n",
              "        [\n",
              "            2,\n",
              "            1,\n",
              "            0.08053262981490453,\n",
              "            0.2,\n",
              "            null\n",
              "        ],\n",
              "        [\n",
              "            2,\n",
              "            2,\n",
              "            0.14146960975979897,\n",
              "            0.2,\n",
              "            null\n",
              "        ],\n",
              "        [\n",
              "            2,\n",
              "            4,\n",
              "            0.5862716883746483,\n",
              "            0.2,\n",
              "            null\n",
              "        ],\n",
              "        [\n",
              "            2,\n",
              "            3,\n",
              "            0.07604708841477895,\n",
              "            0.2,\n",
              "            null\n",
              "        ],\n",
              "        [\n",
              "            2,\n",
              "            6,\n",
              "            0.02813044553003298,\n",
              "            0.2,\n",
              "            null\n",
              "        ],\n",
              "        [\n",
              "            4,\n",
              "            0,\n",
              "            0.04814188427705025,\n",
              "            0.2,\n",
              "            null\n",
              "        ],\n",
              "        [\n",
              "            4,\n",
              "            1,\n",
              "            0.032094590964560056,\n",
              "            0.2,\n",
              "            null\n",
              "        ],\n",
              "        [\n",
              "            4,\n",
              "            2,\n",
              "            0.09494998438178981,\n",
              "            0.2,\n",
              "            null\n",
              "        ],\n",
              "        [\n",
              "            4,\n",
              "            4,\n",
              "            0.45609103396303896,\n",
              "            0.2,\n",
              "            null\n",
              "        ],\n",
              "        [\n",
              "            4,\n",
              "            3,\n",
              "            0.17972102523501093,\n",
              "            0.2,\n",
              "            null\n",
              "        ],\n",
              "        [\n",
              "            4,\n",
              "            6,\n",
              "            0.1890014811785501,\n",
              "            0.2,\n",
              "            null\n",
              "        ],\n",
              "        [\n",
              "            3,\n",
              "            0,\n",
              "            0.06448646991590527,\n",
              "            0.2,\n",
              "            null\n",
              "        ],\n",
              "        [\n",
              "            3,\n",
              "            1,\n",
              "            0.2407494875928038,\n",
              "            0.2,\n",
              "            null\n",
              "        ],\n",
              "        [\n",
              "            3,\n",
              "            2,\n",
              "            0.15053449394118365,\n",
              "            0.2,\n",
              "            null\n",
              "        ],\n",
              "        [\n",
              "            3,\n",
              "            4,\n",
              "            0.3464708005633329,\n",
              "            0.2,\n",
              "            null\n",
              "        ],\n",
              "        [\n",
              "            3,\n",
              "            3,\n",
              "            0.10747769010566129,\n",
              "            0.2,\n",
              "            null\n",
              "        ],\n",
              "        [\n",
              "            3,\n",
              "            6,\n",
              "            0.09028105788111326,\n",
              "            0.2,\n",
              "            null\n",
              "        ]\n",
              "    ],\n",
              "    \"distribution ties\" : []\n",
              "}"
            ]
          },
          "metadata": {
            "tags": []
          },
          "execution_count": 53
        }
      ]
    },
    {
      "cell_type": "code",
      "metadata": {
        "id": "3cdKZelN21GE",
        "colab_type": "code",
        "colab": {
          "base_uri": "https://localhost:8080/",
          "height": 255
        },
        "outputId": "163522be-4d6b-4773-dcfb-5ce45f82a792"
      },
      "source": [
        "model.dense_transition_matrix()"
      ],
      "execution_count": 54,
      "outputs": [
        {
          "output_type": "execute_result",
          "data": {
            "text/plain": [
              "array([[1.17485858e-01, 1.37359387e-01, 4.20487112e-01, 7.38631302e-03,\n",
              "        2.42358028e-01, 0.00000000e+00, 7.49233022e-02],\n",
              "       [8.76496126e-06, 9.40894050e-01, 1.07242752e-04, 1.57769302e-04,\n",
              "        1.40239380e-04, 0.00000000e+00, 5.86919336e-02],\n",
              "       [8.75485381e-02, 8.05326298e-02, 1.41469610e-01, 7.60470884e-02,\n",
              "        5.86271688e-01, 0.00000000e+00, 2.81304455e-02],\n",
              "       [6.44864699e-02, 2.40749488e-01, 1.50534494e-01, 1.07477690e-01,\n",
              "        3.46470801e-01, 0.00000000e+00, 9.02810579e-02],\n",
              "       [4.81418843e-02, 3.20945910e-02, 9.49499844e-02, 1.79721025e-01,\n",
              "        4.56091034e-01, 0.00000000e+00, 1.89001481e-01],\n",
              "       [1.48720999e-04, 9.99851279e-01, 0.00000000e+00, 0.00000000e+00,\n",
              "        0.00000000e+00, 0.00000000e+00, 0.00000000e+00],\n",
              "       [0.00000000e+00, 0.00000000e+00, 0.00000000e+00, 0.00000000e+00,\n",
              "        0.00000000e+00, 0.00000000e+00, 0.00000000e+00]])"
            ]
          },
          "metadata": {
            "tags": []
          },
          "execution_count": 54
        }
      ]
    },
    {
      "cell_type": "code",
      "metadata": {
        "id": "D8IQ0kpZ3O79",
        "colab_type": "code",
        "outputId": "9790c1a8-c29e-4cdc-b9e3-774bf28fb4cb",
        "colab": {
          "base_uri": "https://localhost:8080/",
          "height": 34
        }
      },
      "source": [
        "model.predict(d3.iloc[1500])"
      ],
      "execution_count": 55,
      "outputs": [
        {
          "output_type": "execute_result",
          "data": {
            "text/plain": [
              "[0, 1, 1, 1, 1, 1, 1, 1, 1, 1, 1, 1, 1, 1, 1, 1, 1]"
            ]
          },
          "metadata": {
            "tags": []
          },
          "execution_count": 55
        }
      ]
    },
    {
      "cell_type": "code",
      "metadata": {
        "id": "oGR6VYzPuVjf",
        "colab_type": "code",
        "outputId": "0b398f51-f0ce-4e7a-d4e1-21297cc9a96a",
        "colab": {
          "base_uri": "https://localhost:8080/",
          "height": 163
        }
      },
      "source": [
        ""
      ],
      "execution_count": 56,
      "outputs": [
        {
          "output_type": "error",
          "ename": "NameError",
          "evalue": "ignored",
          "traceback": [
            "\u001b[0;31m---------------------------------------------------------------------------\u001b[0m",
            "\u001b[0;31mNameError\u001b[0m                                 Traceback (most recent call last)",
            "\u001b[0;32m<ipython-input-56-6c10289a8da7>\u001b[0m in \u001b[0;36m<module>\u001b[0;34m()\u001b[0m\n\u001b[0;32m----> 1\u001b[0;31m \u001b[0mp\u001b[0m\u001b[0;34m\u001b[0m\u001b[0;34m\u001b[0m\u001b[0m\n\u001b[0m",
            "\u001b[0;31mNameError\u001b[0m: name 'p' is not defined"
          ]
        }
      ]
    },
    {
      "cell_type": "code",
      "metadata": {
        "id": "LTrA1Nz42BsR",
        "colab_type": "code",
        "colab": {
          "base_uri": "https://localhost:8080/",
          "height": 269
        },
        "outputId": "1345b36a-cc74-4109-fae9-d27e5a1550c9"
      },
      "source": [
        "plt.plot(data.T[0], data.T[4],c='k',lw=0.005) #the data\n",
        "for i in range(0,5): #the model means\n",
        "    plt.scatter(model.states[i].distribution.mu[0],\n",
        "                model.states[i].distribution.mu[4],\n",
        "                c='r',\n",
        "                label=\"HMM clusters upon convergence\")\n",
        "    plt.scatter(kmodel.cluster_centers_[i][0],\n",
        "                kmodel.cluster_centers_[i][5],\n",
        "                c='g',\n",
        "                label=\"k_means initial clusters\")\n"
      ],
      "execution_count": 57,
      "outputs": [
        {
          "output_type": "display_data",
          "data": {
            "image/png": "[encoded data removed]",
            "text/plain": [
              "<Figure size 432x288 with 1 Axes>"
            ]
          },
          "metadata": {
            "tags": []
          }
        }
      ]
    },
    {
      "cell_type": "code",
      "metadata": {
        "id": "InmtWjnGmZ7x",
        "colab_type": "code",
        "colab": {
          "base_uri": "https://localhost:8080/",
          "height": 323
        },
        "outputId": "4ebf7cd9-a153-448d-8ad5-1419c4efdbf2"
      },
      "source": [
        "data.T[5]"
      ],
      "execution_count": 58,
      "outputs": [
        {
          "output_type": "execute_result",
          "data": {
            "text/plain": [
              "engine_rpm                       NaN\n",
              "engine_load                      NaN\n",
              "intake_manifold_pressure         NaN\n",
              "accelerator_pedal                NaN\n",
              "speed                       0.008994\n",
              "giroscope_x                -1.280000\n",
              "giroscope_y                -0.120000\n",
              "giroscope_z                -2.340000\n",
              "accelerometer_x_avg         1.017532\n",
              "accelerometer_y_avg         0.075067\n",
              "accelerometer_z_avg         0.114341\n",
              "accelerometer_x_std         0.003272\n",
              "accelerometer_y_std         0.003435\n",
              "accelerometer_z_std         0.004588\n",
              "comfort_x                   4.000000\n",
              "comfort_y                   4.000000\n",
              "comfort_z                   4.000000\n",
              "Name: 5, dtype: float64"
            ]
          },
          "metadata": {
            "tags": []
          },
          "execution_count": 58
        }
      ]
    },
    {
      "cell_type": "code",
      "metadata": {
        "id": "1lLwvuFEmdow",
        "colab_type": "code",
        "colab": {}
      },
      "source": [
        ""
      ],
      "execution_count": 0,
      "outputs": []
    }
  ]
}