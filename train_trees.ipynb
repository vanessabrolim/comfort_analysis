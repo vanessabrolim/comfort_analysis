{
  "nbformat": 4,
  "nbformat_minor": 0,
  "metadata": {
    "colab": {
      "name": "train_trees.ipynb",
      "version": "0.3.2",
      "provenance": [],
      "include_colab_link": true
    },
    "kernelspec": {
      "name": "python3",
      "display_name": "Python 3"
    }
  },
  "cells": [
    {
      "cell_type": "markdown",
      "metadata": {
        "id": "view-in-github",
        "colab_type": "text"
      },
      "source": [
        "<a href=\"https://colab.research.google.com/github/vanessabrolim/comfort_analysis/blob/master/train_trees.ipynb\" target=\"_parent\"><img src=\"https://colab.research.google.com/assets/colab-badge.svg\" alt=\"Open In Colab\"/></a>"
      ]
    },
    {
      "metadata": {
        "id": "UmDgtzQWwdnZ",
        "colab_type": "code",
        "outputId": "6569179b-b6f7-4cd8-cfce-2330575e0695",
        "colab": {
          "base_uri": "https://localhost:8080/",
          "height": 136
        }
      },
      "cell_type": "code",
      "source": [
        "pip install -U mlens"
      ],
      "execution_count": 1,
      "outputs": [
        {
          "output_type": "stream",
          "text": [
            "Collecting mlens\n",
            "\u001b[?25l  Downloading https://files.pythonhosted.org/packages/0b/f7/c04bda423ac93ddb54bc4c3a21c79c9a24bc83844efc30dc4c11c289e894/mlens-0.2.3-py2.py3-none-any.whl (227kB)\n",
            "\u001b[K    100% |████████████████████████████████| 235kB 11.8MB/s \n",
            "\u001b[?25hRequirement already satisfied, skipping upgrade: scipy>=0.17 in /usr/local/lib/python3.6/dist-packages (from mlens) (1.1.0)\n",
            "Requirement already satisfied, skipping upgrade: numpy>=1.11 in /usr/local/lib/python3.6/dist-packages (from mlens) (1.14.6)\n",
            "Installing collected packages: mlens\n",
            "Successfully installed mlens-0.2.3\n"
          ],
          "name": "stdout"
        }
      ]
    },
    {
      "metadata": {
        "id": "bpHp-XG7wJcC",
        "colab_type": "code",
        "outputId": "37383d19-54c4-432b-8436-41a1de182377",
        "colab": {
          "base_uri": "https://localhost:8080/",
          "height": 139
        }
      },
      "cell_type": "code",
      "source": [
        "import mlens\n",
        "import pandas as pd\n",
        "import matplotlib.pyplot as plt\n",
        "import numpy as np\n",
        "import datetime as dt\n",
        "from scipy import stats\n",
        "from geopy.distance import vincenty\n",
        "from sklearn import tree\n",
        "from sklearn.impute import SimpleImputer\n",
        "from google.colab import drive\n",
        "drive.mount('/content/drive',  force_remount=True)"
      ],
      "execution_count": 2,
      "outputs": [
        {
          "output_type": "stream",
          "text": [
            "[MLENS] backend: threading\n"
          ],
          "name": "stderr"
        },
        {
          "output_type": "stream",
          "text": [
            "Go to this URL in a browser: https://accounts.google.com/o/oauth2/auth?client_id=947318989803-6bn6qk8qdgf4n4g3pfee6491hc0brc4i.apps.googleusercontent.com&redirect_uri=urn%3Aietf%3Awg%3Aoauth%3A2.0%3Aoob&scope=email%20https%3A%2F%2Fwww.googleapis.com%2Fauth%2Fdocs.test%20https%3A%2F%2Fwww.googleapis.com%2Fauth%2Fdrive%20https%3A%2F%2Fwww.googleapis.com%2Fauth%2Fdrive.photos.readonly%20https%3A%2F%2Fwww.googleapis.com%2Fauth%2Fpeopleapi.readonly&response_type=code\n",
            "\n",
            "Enter your authorization code:\n",
            "··········\n",
            "Mounted at /content/drive\n"
          ],
          "name": "stdout"
        }
      ]
    },
    {
      "metadata": {
        "id": "GdO-i4mpzB-g",
        "colab_type": "code",
        "colab": {}
      },
      "cell_type": "code",
      "source": [
        "df_train = pd.read_pickle('drive/My Drive/Udesc/train.pkl')\n",
        "df_test = pd.read_pickle('drive/My Drive/Udesc/test.pkl')"
      ],
      "execution_count": 0,
      "outputs": []
    },
    {
      "metadata": {
        "id": "bBq2W2BszLdQ",
        "colab_type": "code",
        "colab": {
          "base_uri": "https://localhost:8080/",
          "height": 309
        },
        "outputId": "c7853f99-a459-4fc0-c506-4022f38f1575"
      },
      "cell_type": "code",
      "source": [
        "df_train.head()"
      ],
      "execution_count": 4,
      "outputs": [
        {
          "output_type": "execute_result",
          "data": {
            "text/html": [
              "<div>\n",
              "<style scoped>\n",
              "    .dataframe tbody tr th:only-of-type {\n",
              "        vertical-align: middle;\n",
              "    }\n",
              "\n",
              "    .dataframe tbody tr th {\n",
              "        vertical-align: top;\n",
              "    }\n",
              "\n",
              "    .dataframe thead th {\n",
              "        text-align: right;\n",
              "    }\n",
              "</style>\n",
              "<table border=\"1\" class=\"dataframe\">\n",
              "  <thead>\n",
              "    <tr style=\"text-align: right;\">\n",
              "      <th></th>\n",
              "      <th>date_time</th>\n",
              "      <th>engine_rpm</th>\n",
              "      <th>engine_load</th>\n",
              "      <th>intake_manifold_pressure</th>\n",
              "      <th>accelerator_pedal</th>\n",
              "      <th>speed</th>\n",
              "      <th>giroscope_x</th>\n",
              "      <th>giroscope_y</th>\n",
              "      <th>giroscope_z</th>\n",
              "      <th>accelerometer_x_avg</th>\n",
              "      <th>accelerometer_y_avg</th>\n",
              "      <th>accelerometer_z_avg</th>\n",
              "      <th>accelerometer_x_std</th>\n",
              "      <th>accelerometer_y_std</th>\n",
              "      <th>accelerometer_z_std</th>\n",
              "      <th>comfort_x</th>\n",
              "      <th>comfort_y</th>\n",
              "      <th>comfort_z</th>\n",
              "      <th>comfort_geral</th>\n",
              "    </tr>\n",
              "  </thead>\n",
              "  <tbody>\n",
              "    <tr>\n",
              "      <th>14767</th>\n",
              "      <td>2017-09-18 09:47:31.001</td>\n",
              "      <td>NaN</td>\n",
              "      <td>NaN</td>\n",
              "      <td>NaN</td>\n",
              "      <td>NaN</td>\n",
              "      <td>23.223407</td>\n",
              "      <td>-2.72</td>\n",
              "      <td>3.59</td>\n",
              "      <td>-0.34</td>\n",
              "      <td>1.016963</td>\n",
              "      <td>-0.059846</td>\n",
              "      <td>0.120445</td>\n",
              "      <td>0.194853</td>\n",
              "      <td>0.155698</td>\n",
              "      <td>0.172987</td>\n",
              "      <td>2.0</td>\n",
              "      <td>2.0</td>\n",
              "      <td>2.0</td>\n",
              "      <td>3.0</td>\n",
              "    </tr>\n",
              "    <tr>\n",
              "      <th>803</th>\n",
              "      <td>2017-09-15 20:18:50.802</td>\n",
              "      <td>1034.423358</td>\n",
              "      <td>55.391512</td>\n",
              "      <td>111.343066</td>\n",
              "      <td>92.270318</td>\n",
              "      <td>3.223987</td>\n",
              "      <td>-0.77</td>\n",
              "      <td>-0.31</td>\n",
              "      <td>-4.57</td>\n",
              "      <td>1.005749</td>\n",
              "      <td>-0.099241</td>\n",
              "      <td>0.110642</td>\n",
              "      <td>0.217798</td>\n",
              "      <td>0.205179</td>\n",
              "      <td>0.219697</td>\n",
              "      <td>4.0</td>\n",
              "      <td>4.0</td>\n",
              "      <td>4.0</td>\n",
              "      <td>4.0</td>\n",
              "    </tr>\n",
              "    <tr>\n",
              "      <th>5730</th>\n",
              "      <td>2017-09-16 12:09:42.996</td>\n",
              "      <td>1487.816867</td>\n",
              "      <td>9.590048</td>\n",
              "      <td>118.028169</td>\n",
              "      <td>21.461805</td>\n",
              "      <td>22.807823</td>\n",
              "      <td>-2.05</td>\n",
              "      <td>0.98</td>\n",
              "      <td>4.51</td>\n",
              "      <td>1.024716</td>\n",
              "      <td>-0.063518</td>\n",
              "      <td>0.128107</td>\n",
              "      <td>0.109880</td>\n",
              "      <td>0.089158</td>\n",
              "      <td>0.083585</td>\n",
              "      <td>3.0</td>\n",
              "      <td>4.0</td>\n",
              "      <td>4.0</td>\n",
              "      <td>3.0</td>\n",
              "    </tr>\n",
              "    <tr>\n",
              "      <th>7048</th>\n",
              "      <td>2017-09-16 17:12:23.496</td>\n",
              "      <td>NaN</td>\n",
              "      <td>NaN</td>\n",
              "      <td>NaN</td>\n",
              "      <td>NaN</td>\n",
              "      <td>8.774839</td>\n",
              "      <td>-2.20</td>\n",
              "      <td>0.19</td>\n",
              "      <td>-2.51</td>\n",
              "      <td>1.015846</td>\n",
              "      <td>-0.079579</td>\n",
              "      <td>0.139395</td>\n",
              "      <td>0.035262</td>\n",
              "      <td>0.018842</td>\n",
              "      <td>0.042641</td>\n",
              "      <td>3.0</td>\n",
              "      <td>3.0</td>\n",
              "      <td>3.0</td>\n",
              "      <td>3.0</td>\n",
              "    </tr>\n",
              "    <tr>\n",
              "      <th>1406</th>\n",
              "      <td>2017-09-15 20:36:53.802</td>\n",
              "      <td>NaN</td>\n",
              "      <td>NaN</td>\n",
              "      <td>NaN</td>\n",
              "      <td>NaN</td>\n",
              "      <td>13.601787</td>\n",
              "      <td>-1.16</td>\n",
              "      <td>-0.10</td>\n",
              "      <td>-2.03</td>\n",
              "      <td>1.012846</td>\n",
              "      <td>-0.077933</td>\n",
              "      <td>0.137599</td>\n",
              "      <td>0.048181</td>\n",
              "      <td>0.030723</td>\n",
              "      <td>0.042666</td>\n",
              "      <td>4.0</td>\n",
              "      <td>4.0</td>\n",
              "      <td>4.0</td>\n",
              "      <td>4.0</td>\n",
              "    </tr>\n",
              "  </tbody>\n",
              "</table>\n",
              "</div>"
            ],
            "text/plain": [
              "                    date_time   engine_rpm  engine_load  \\\n",
              "14767 2017-09-18 09:47:31.001          NaN          NaN   \n",
              "803   2017-09-15 20:18:50.802  1034.423358    55.391512   \n",
              "5730  2017-09-16 12:09:42.996  1487.816867     9.590048   \n",
              "7048  2017-09-16 17:12:23.496          NaN          NaN   \n",
              "1406  2017-09-15 20:36:53.802          NaN          NaN   \n",
              "\n",
              "       intake_manifold_pressure  accelerator_pedal      speed  giroscope_x  \\\n",
              "14767                       NaN                NaN  23.223407        -2.72   \n",
              "803                  111.343066          92.270318   3.223987        -0.77   \n",
              "5730                 118.028169          21.461805  22.807823        -2.05   \n",
              "7048                        NaN                NaN   8.774839        -2.20   \n",
              "1406                        NaN                NaN  13.601787        -1.16   \n",
              "\n",
              "       giroscope_y  giroscope_z  accelerometer_x_avg  accelerometer_y_avg  \\\n",
              "14767         3.59        -0.34             1.016963            -0.059846   \n",
              "803          -0.31        -4.57             1.005749            -0.099241   \n",
              "5730          0.98         4.51             1.024716            -0.063518   \n",
              "7048          0.19        -2.51             1.015846            -0.079579   \n",
              "1406         -0.10        -2.03             1.012846            -0.077933   \n",
              "\n",
              "       accelerometer_z_avg  accelerometer_x_std  accelerometer_y_std  \\\n",
              "14767             0.120445             0.194853             0.155698   \n",
              "803               0.110642             0.217798             0.205179   \n",
              "5730              0.128107             0.109880             0.089158   \n",
              "7048              0.139395             0.035262             0.018842   \n",
              "1406              0.137599             0.048181             0.030723   \n",
              "\n",
              "       accelerometer_z_std  comfort_x  comfort_y  comfort_z  comfort_geral  \n",
              "14767             0.172987        2.0        2.0        2.0            3.0  \n",
              "803               0.219697        4.0        4.0        4.0            4.0  \n",
              "5730              0.083585        3.0        4.0        4.0            3.0  \n",
              "7048              0.042641        3.0        3.0        3.0            3.0  \n",
              "1406              0.042666        4.0        4.0        4.0            4.0  "
            ]
          },
          "metadata": {
            "tags": []
          },
          "execution_count": 4
        }
      ]
    },
    {
      "metadata": {
        "id": "f5USGj8g5nM5",
        "colab_type": "code",
        "colab": {}
      },
      "cell_type": "code",
      "source": [
        "df_train_clean = df_train[['engine_rpm', 'engine_load', 'intake_manifold_pressure', 'accelerator_pedal', 'speed', 'giroscope_x', 'giroscope_y', 'giroscope_z','accelerometer_x_avg', 'accelerometer_y_avg', 'accelerometer_z_avg', 'accelerometer_x_std', 'accelerometer_y_std', 'accelerometer_y_std']]"
      ],
      "execution_count": 0,
      "outputs": []
    },
    {
      "metadata": {
        "id": "WiNdsK6E6JHv",
        "colab_type": "code",
        "outputId": "13d8eae8-4907-4854-dcab-959303983a23",
        "colab": {
          "base_uri": "https://localhost:8080/",
          "height": 224
        }
      },
      "cell_type": "code",
      "source": [
        "df_train_clean.head()"
      ],
      "execution_count": 6,
      "outputs": [
        {
          "output_type": "execute_result",
          "data": {
            "text/html": [
              "<div>\n",
              "<style scoped>\n",
              "    .dataframe tbody tr th:only-of-type {\n",
              "        vertical-align: middle;\n",
              "    }\n",
              "\n",
              "    .dataframe tbody tr th {\n",
              "        vertical-align: top;\n",
              "    }\n",
              "\n",
              "    .dataframe thead th {\n",
              "        text-align: right;\n",
              "    }\n",
              "</style>\n",
              "<table border=\"1\" class=\"dataframe\">\n",
              "  <thead>\n",
              "    <tr style=\"text-align: right;\">\n",
              "      <th></th>\n",
              "      <th>engine_rpm</th>\n",
              "      <th>engine_load</th>\n",
              "      <th>intake_manifold_pressure</th>\n",
              "      <th>accelerator_pedal</th>\n",
              "      <th>speed</th>\n",
              "      <th>giroscope_x</th>\n",
              "      <th>giroscope_y</th>\n",
              "      <th>giroscope_z</th>\n",
              "      <th>accelerometer_x_avg</th>\n",
              "      <th>accelerometer_y_avg</th>\n",
              "      <th>accelerometer_z_avg</th>\n",
              "      <th>accelerometer_x_std</th>\n",
              "      <th>accelerometer_y_std</th>\n",
              "      <th>accelerometer_y_std</th>\n",
              "    </tr>\n",
              "  </thead>\n",
              "  <tbody>\n",
              "    <tr>\n",
              "      <th>14767</th>\n",
              "      <td>NaN</td>\n",
              "      <td>NaN</td>\n",
              "      <td>NaN</td>\n",
              "      <td>NaN</td>\n",
              "      <td>23.223407</td>\n",
              "      <td>-2.72</td>\n",
              "      <td>3.59</td>\n",
              "      <td>-0.34</td>\n",
              "      <td>1.016963</td>\n",
              "      <td>-0.059846</td>\n",
              "      <td>0.120445</td>\n",
              "      <td>0.194853</td>\n",
              "      <td>0.155698</td>\n",
              "      <td>0.155698</td>\n",
              "    </tr>\n",
              "    <tr>\n",
              "      <th>803</th>\n",
              "      <td>1034.423358</td>\n",
              "      <td>55.391512</td>\n",
              "      <td>111.343066</td>\n",
              "      <td>92.270318</td>\n",
              "      <td>3.223987</td>\n",
              "      <td>-0.77</td>\n",
              "      <td>-0.31</td>\n",
              "      <td>-4.57</td>\n",
              "      <td>1.005749</td>\n",
              "      <td>-0.099241</td>\n",
              "      <td>0.110642</td>\n",
              "      <td>0.217798</td>\n",
              "      <td>0.205179</td>\n",
              "      <td>0.205179</td>\n",
              "    </tr>\n",
              "    <tr>\n",
              "      <th>5730</th>\n",
              "      <td>1487.816867</td>\n",
              "      <td>9.590048</td>\n",
              "      <td>118.028169</td>\n",
              "      <td>21.461805</td>\n",
              "      <td>22.807823</td>\n",
              "      <td>-2.05</td>\n",
              "      <td>0.98</td>\n",
              "      <td>4.51</td>\n",
              "      <td>1.024716</td>\n",
              "      <td>-0.063518</td>\n",
              "      <td>0.128107</td>\n",
              "      <td>0.109880</td>\n",
              "      <td>0.089158</td>\n",
              "      <td>0.089158</td>\n",
              "    </tr>\n",
              "    <tr>\n",
              "      <th>7048</th>\n",
              "      <td>NaN</td>\n",
              "      <td>NaN</td>\n",
              "      <td>NaN</td>\n",
              "      <td>NaN</td>\n",
              "      <td>8.774839</td>\n",
              "      <td>-2.20</td>\n",
              "      <td>0.19</td>\n",
              "      <td>-2.51</td>\n",
              "      <td>1.015846</td>\n",
              "      <td>-0.079579</td>\n",
              "      <td>0.139395</td>\n",
              "      <td>0.035262</td>\n",
              "      <td>0.018842</td>\n",
              "      <td>0.018842</td>\n",
              "    </tr>\n",
              "    <tr>\n",
              "      <th>1406</th>\n",
              "      <td>NaN</td>\n",
              "      <td>NaN</td>\n",
              "      <td>NaN</td>\n",
              "      <td>NaN</td>\n",
              "      <td>13.601787</td>\n",
              "      <td>-1.16</td>\n",
              "      <td>-0.10</td>\n",
              "      <td>-2.03</td>\n",
              "      <td>1.012846</td>\n",
              "      <td>-0.077933</td>\n",
              "      <td>0.137599</td>\n",
              "      <td>0.048181</td>\n",
              "      <td>0.030723</td>\n",
              "      <td>0.030723</td>\n",
              "    </tr>\n",
              "  </tbody>\n",
              "</table>\n",
              "</div>"
            ],
            "text/plain": [
              "        engine_rpm  engine_load  intake_manifold_pressure  accelerator_pedal  \\\n",
              "14767          NaN          NaN                       NaN                NaN   \n",
              "803    1034.423358    55.391512                111.343066          92.270318   \n",
              "5730   1487.816867     9.590048                118.028169          21.461805   \n",
              "7048           NaN          NaN                       NaN                NaN   \n",
              "1406           NaN          NaN                       NaN                NaN   \n",
              "\n",
              "           speed  giroscope_x  giroscope_y  giroscope_z  accelerometer_x_avg  \\\n",
              "14767  23.223407        -2.72         3.59        -0.34             1.016963   \n",
              "803     3.223987        -0.77        -0.31        -4.57             1.005749   \n",
              "5730   22.807823        -2.05         0.98         4.51             1.024716   \n",
              "7048    8.774839        -2.20         0.19        -2.51             1.015846   \n",
              "1406   13.601787        -1.16        -0.10        -2.03             1.012846   \n",
              "\n",
              "       accelerometer_y_avg  accelerometer_z_avg  accelerometer_x_std  \\\n",
              "14767            -0.059846             0.120445             0.194853   \n",
              "803              -0.099241             0.110642             0.217798   \n",
              "5730             -0.063518             0.128107             0.109880   \n",
              "7048             -0.079579             0.139395             0.035262   \n",
              "1406             -0.077933             0.137599             0.048181   \n",
              "\n",
              "       accelerometer_y_std  accelerometer_y_std  \n",
              "14767             0.155698             0.155698  \n",
              "803               0.205179             0.205179  \n",
              "5730              0.089158             0.089158  \n",
              "7048              0.018842             0.018842  \n",
              "1406              0.030723             0.030723  "
            ]
          },
          "metadata": {
            "tags": []
          },
          "execution_count": 6
        }
      ]
    },
    {
      "metadata": {
        "id": "b8hjpQXG7l7Z",
        "colab_type": "code",
        "colab": {}
      },
      "cell_type": "code",
      "source": [
        "list_train = df_train_clean.values.tolist()"
      ],
      "execution_count": 0,
      "outputs": []
    },
    {
      "metadata": {
        "id": "7VOCqoHo62fp",
        "colab_type": "code",
        "colab": {}
      },
      "cell_type": "code",
      "source": [
        "df_label_x = df_train[['comfort_x']]\n",
        "df_label_y = df_train[['comfort_y']]\n",
        "df_label_z = df_train[['comfort_z']]"
      ],
      "execution_count": 0,
      "outputs": []
    },
    {
      "metadata": {
        "id": "T_sfZL1V7yqo",
        "colab_type": "code",
        "colab": {}
      },
      "cell_type": "code",
      "source": [
        "list_label_x = df_label_x.values.tolist()\n",
        "list_label_y = df_label_x.values.tolist()\n",
        "list_label_z = df_label_x.values.tolist()"
      ],
      "execution_count": 0,
      "outputs": []
    },
    {
      "metadata": {
        "id": "amSZ1J7hcUa5",
        "colab_type": "code",
        "colab": {}
      },
      "cell_type": "code",
      "source": [
        "df_test_clean = df_test[['engine_rpm', 'engine_load', 'intake_manifold_pressure', 'accelerator_pedal', 'speed', 'giroscope_x', 'giroscope_y', 'giroscope_z','accelerometer_x_avg', 'accelerometer_y_avg', 'accelerometer_z_avg', 'accelerometer_x_std', 'accelerometer_y_std', 'accelerometer_y_std']]\n",
        "list_test = df_test_clean.values.tolist()\n",
        "imp_test = SimpleImputer(missing_values=np.nan, strategy='mean')\n",
        "imp_test = imp_test.fit(list_test) \n",
        "test = imp_test.transform(list_test)"
      ],
      "execution_count": 0,
      "outputs": []
    },
    {
      "metadata": {
        "id": "MfM6qVOzcvWw",
        "colab_type": "code",
        "colab": {}
      },
      "cell_type": "code",
      "source": [
        "df_label_x = df_test[['comfort_x']]\n",
        "df_label_y = df_test[['comfort_y']]\n",
        "df_label_z = df_test[['comfort_z']]\n",
        "list_test_label_x = df_label_x.values.tolist()\n",
        "list_test_label_y = df_label_x.values.tolist()\n",
        "list_test_label_z = df_label_x.values.tolist()"
      ],
      "execution_count": 0,
      "outputs": []
    },
    {
      "metadata": {
        "id": "-dttKDTVXTki",
        "colab_type": "code",
        "colab": {
          "base_uri": "https://localhost:8080/",
          "height": 238
        },
        "outputId": "544ba015-44de-4b1b-f26f-b83c151095f7"
      },
      "cell_type": "code",
      "source": [
        "imp = SimpleImputer(missing_values=np.nan, strategy='mean')\n",
        "imp = imp.fit(list_train) \n",
        "train = imp.transform(list_train)\n",
        "print(train)"
      ],
      "execution_count": 13,
      "outputs": [
        {
          "output_type": "stream",
          "text": [
            "[[1.23348670e+03 2.62271083e+01 1.36271720e+02 ... 1.94852955e-01\n",
            "  1.55698071e-01 1.55698071e-01]\n",
            " [1.03442336e+03 5.53915122e+01 1.11343066e+02 ... 2.17798303e-01\n",
            "  2.05179151e-01 2.05179151e-01]\n",
            " [1.48781687e+03 9.59004819e+00 1.18028169e+02 ... 1.09879545e-01\n",
            "  8.91575706e-02 8.91575706e-02]\n",
            " ...\n",
            " [1.56600000e+03 3.64902217e+01 1.85135440e+02 ... 1.53917975e-01\n",
            "  1.26367208e-01 1.26367208e-01]\n",
            " [1.23348670e+03 2.62271083e+01 1.36271720e+02 ... 3.46172426e-03\n",
            "  3.38105752e-03 3.38105752e-03]\n",
            " [1.42448341e+03 4.34964286e+01 1.53469194e+02 ... 1.68314290e-01\n",
            "  1.53075422e-01 1.53075422e-01]]\n"
          ],
          "name": "stdout"
        }
      ]
    },
    {
      "metadata": {
        "id": "-wzgb27-8Gox",
        "colab_type": "code",
        "outputId": "3741b711-4a32-4c11-9123-03d20e9b2267",
        "colab": {
          "base_uri": "https://localhost:8080/",
          "height": 34
        }
      },
      "cell_type": "code",
      "source": [
        "tree_x = tree.DecisionTreeClassifier(criterion = 'entropy')\n",
        "tree_x = tree_x.fit(train, list_label_x)\n",
        "tree_x.score(test, list_test_label_x)"
      ],
      "execution_count": 46,
      "outputs": [
        {
          "output_type": "execute_result",
          "data": {
            "text/plain": [
              "0.7122406890695135"
            ]
          },
          "metadata": {
            "tags": []
          },
          "execution_count": 46
        }
      ]
    },
    {
      "metadata": {
        "id": "L0BP-ZT4cJLx",
        "colab_type": "code",
        "colab": {
          "base_uri": "https://localhost:8080/",
          "height": 34
        },
        "outputId": "b8844aba-424b-4df6-ca2f-1a2d64e5d586"
      },
      "cell_type": "code",
      "source": [
        "tree_y = tree.DecisionTreeClassifier(criterion = 'entropy')\n",
        "tree_y = tree_y.fit(train, list_label_y)\n",
        "tree_y.score(test, list_test_label_y)"
      ],
      "execution_count": 47,
      "outputs": [
        {
          "output_type": "execute_result",
          "data": {
            "text/plain": [
              "0.7096930729103482"
            ]
          },
          "metadata": {
            "tags": []
          },
          "execution_count": 47
        }
      ]
    },
    {
      "metadata": {
        "id": "smHC1X4fiD6x",
        "colab_type": "code",
        "colab": {
          "base_uri": "https://localhost:8080/",
          "height": 34
        },
        "outputId": "f63bae77-d503-4c4a-e85f-f3a5b6169752"
      },
      "cell_type": "code",
      "source": [
        "tree_z = tree.DecisionTreeClassifier(criterion = 'entropy')\n",
        "tree_z = tree_x.fit(train, list_label_z)\n",
        "tree_z.score(test, list_test_label_z)"
      ],
      "execution_count": 48,
      "outputs": [
        {
          "output_type": "execute_result",
          "data": {
            "text/plain": [
              "0.7147883052286789"
            ]
          },
          "metadata": {
            "tags": []
          },
          "execution_count": 48
        }
      ]
    },
    {
      "metadata": {
        "id": "lPnblc8bhTqB",
        "colab_type": "code",
        "colab": {
          "base_uri": "https://localhost:8080/",
          "height": 34
        },
        "outputId": "4b3cac12-0a5b-40c8-fe88-52d91186f056"
      },
      "cell_type": "code",
      "source": [
        "tree_2 = tree.ExtraTreeClassifier(criterion = 'entropy')\n",
        "tree_2 = tree_2.fit(train, list_label_x)\n",
        "tree_2.score(test, list_test_label_x)"
      ],
      "execution_count": 41,
      "outputs": [
        {
          "output_type": "execute_result",
          "data": {
            "text/plain": [
              "0.8164503214848963"
            ]
          },
          "metadata": {
            "tags": []
          },
          "execution_count": 41
        }
      ]
    },
    {
      "metadata": {
        "id": "fhqjy5pBhy6C",
        "colab_type": "code",
        "colab": {
          "base_uri": "https://localhost:8080/",
          "height": 34
        },
        "outputId": "91fd29cd-120e-4ff6-fe63-58c95f3ffab2"
      },
      "cell_type": "code",
      "source": [
        "tree_2y = tree.ExtraTreeClassifier(criterion = 'entropy')\n",
        "tree_2y = tree_2y.fit(train, list_label_y)\n",
        "tree_2y.score(test, list_test_label_y)"
      ],
      "execution_count": 42,
      "outputs": [
        {
          "output_type": "execute_result",
          "data": {
            "text/plain": [
              "0.821545553803227"
            ]
          },
          "metadata": {
            "tags": []
          },
          "execution_count": 42
        }
      ]
    },
    {
      "metadata": {
        "id": "pi2KBuVzhzQh",
        "colab_type": "code",
        "colab": {
          "base_uri": "https://localhost:8080/",
          "height": 34
        },
        "outputId": "f28ce7eb-6a64-4c32-8ee2-ec3bef3fe6ad"
      },
      "cell_type": "code",
      "source": [
        "tree_2z = tree.ExtraTreeClassifier(criterion = 'entropy')\n",
        "tree_2z = tree_2z.fit(train, list_label_z)\n",
        "tree_2z.score(test, list_test_label_z)"
      ],
      "execution_count": 43,
      "outputs": [
        {
          "output_type": "execute_result",
          "data": {
            "text/plain": [
              "0.8159650612641028"
            ]
          },
          "metadata": {
            "tags": []
          },
          "execution_count": 43
        }
      ]
    }
  ]
}